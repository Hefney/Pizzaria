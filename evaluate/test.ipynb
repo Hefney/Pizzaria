{
 "cells": [
  {
   "cell_type": "code",
   "execution_count": 10,
   "metadata": {},
   "outputs": [],
   "source": [
    "import sys\n",
    "sys.path.append('pizza/utils')\n",
    "from trees import TopSemanticTree, ExpressSemanticTree\n",
    "from semantic_matchers import is_unordered_exact_match, is_semantics_only_unordered_exact_match, \\\n",
    "                              is_semantics_only_unordered_exact_match_post_ER, is_unordered_exact_match_post_ER, is_semantics_only_unordered_exact_match_post_ER_top_top\n",
    "from entity_resolution import PizzaSkillEntityResolver"
   ]
  },
  {
   "cell_type": "code",
   "execution_count": 13,
   "metadata": {},
   "outputs": [],
   "source": [
    "top_pred_string_same = \"(ORDER (PIZZAORDER (NUMBER duck ) (SIZE medium ) (TOPPING tomatoes ) (TOPPING hammmmmm ) nnn ) )\"\n",
    "exr_string = \"(ORDER (PIZZAORDER (TOPPING cheese ) (SIZE mediu ) (TOPPING HAM ) (TOPPING TOMATOES ) nnn ) )\""
   ]
  },
  {
   "cell_type": "code",
   "execution_count": 14,
   "metadata": {},
   "outputs": [
    {
     "data": {
      "text/plain": [
       "np.float64(0.6666666666666667)"
      ]
     },
     "execution_count": 14,
     "metadata": {},
     "output_type": "execute_result"
    }
   ],
   "source": [
    "resolver = PizzaSkillEntityResolver()\n",
    "is_semantics_only_unordered_exact_match_post_ER_top_top(top_pred_string_same, exr_string, resolver)"
   ]
  },
  {
   "cell_type": "code",
   "execution_count": null,
   "metadata": {},
   "outputs": [],
   "source": []
  }
 ],
 "metadata": {
  "kernelspec": {
   "display_name": "base",
   "language": "python",
   "name": "python3"
  },
  "language_info": {
   "codemirror_mode": {
    "name": "ipython",
    "version": 3
   },
   "file_extension": ".py",
   "mimetype": "text/x-python",
   "name": "python",
   "nbconvert_exporter": "python",
   "pygments_lexer": "ipython3",
   "version": "3.12.2"
  }
 },
 "nbformat": 4,
 "nbformat_minor": 2
}
