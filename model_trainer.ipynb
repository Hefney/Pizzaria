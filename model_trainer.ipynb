{
 "cells": [
  {
   "cell_type": "markdown",
   "metadata": {
    "id": "hVqrsVWh0kiC"
   },
   "source": [
    "# Named Entity Recognition Assignment\n",
    "NER is a subtask of information extraction that locates and classifies named entities in a text. The named entities could be organizations, persons, locations, times, etc. In this assignment, you will train a named entity recognition system and test it on a test data. \\\n",
    "Let's get started"
   ]
  },
  {
   "cell_type": "code",
   "metadata": {
    "id": "WR6a6DkN0d-3",
    "ExecuteTime": {
     "end_time": "2024-12-13T16:44:11.211583Z",
     "start_time": "2024-12-13T16:44:11.208430Z"
    }
   },
   "source": [
    "import os \n",
    "import numpy as np\n",
    "import pandas as pd\n",
    "from tqdm import tqdm\n",
    "import torch\n",
    "from torch import nn\n",
    "from utils_2 import get_params, get_vocab, get_tags\n",
    "import random as rnd"
   ],
   "outputs": [],
   "execution_count": 2
  },
  {
   "cell_type": "markdown",
   "metadata": {
    "id": "_44BK5K82YwF"
   },
   "source": [
    "# Importing and discovering the data"
   ]
  },
  {
   "cell_type": "code",
   "metadata": {
    "id": "ulSik2Sv1p1G",
    "ExecuteTime": {
     "end_time": "2024-12-13T16:44:52.055129Z",
     "start_time": "2024-12-13T16:44:50.511358Z"
    }
   },
   "source": [
    "vocab = get_vocab('processed_input/train_vocab.txt')\n",
    "tags = get_tags('processed_input/train_complex_topping_tags.txt')\n",
    "\n",
    "t_sentences, t_labels, t_size = get_params(vocab, tags, 'processed_input/train_complex_topping.txt', 'processed_input/train_complex_topping_labels.txt')\n",
    "\n",
    "test_sentences, test_labels, test_size = get_params(vocab, tags, 'processed_input/dev_complex_topping.txt', 'processed_input/dev_complex_topping_labels.txt')"
   ],
   "outputs": [],
   "execution_count": 9
  },
  {
   "cell_type": "code",
   "metadata": {
    "colab": {
     "base_uri": "https://localhost:8080/"
    },
    "id": "PagjN4rl22Fr",
    "outputId": "f65e741a-74e1-45f6-8361-58a0ce4cc818",
    "ExecuteTime": {
     "end_time": "2024-12-13T16:44:53.677577Z",
     "start_time": "2024-12-13T16:44:53.674886Z"
    }
   },
   "source": [
    "# The possible tags\n",
    "print(tags)"
   ],
   "outputs": [
    {
     "name": "stdout",
     "output_type": "stream",
     "text": [
      "{'QUANTITY': 0, 'TOPPING': 1, 'TOPPING_S': 2, 'QUANTITY_S': 3, 'NONE': 4}\n"
     ]
    }
   ],
   "execution_count": 10
  },
  {
   "cell_type": "code",
   "metadata": {
    "colab": {
     "base_uri": "https://localhost:8080/"
    },
    "id": "oWLR2Oxp28K6",
    "outputId": "3b13ca97-f85c-42ca-b84a-bcca9868137c",
    "ExecuteTime": {
     "end_time": "2024-12-13T16:44:54.539036Z",
     "start_time": "2024-12-13T16:44:54.534497Z"
    }
   },
   "source": [
    "# Exploring information about the data\n",
    "print('The number of outputs is tag_map', len(tags))\n",
    "# The number of vocabulary tokens (including <PAD>)\n",
    "g_vocab_size = len(vocab)\n",
    "print(f\"Num of vocabulary words: {g_vocab_size}\")\n",
    "print('The vocab size is', len(vocab))\n",
    "print('The training size is', t_size)\n",
    "# print('The validation size is', v_size)\n",
    "print('An example of the first sentence is', t_sentences[0])\n",
    "print('An example of its corresponding label is', t_labels[0])"
   ],
   "outputs": [
    {
     "name": "stdout",
     "output_type": "stream",
     "text": [
      "The number of outputs is tag_map 5\n",
      "Num of vocabulary words: 307\n",
      "The vocab size is 307\n",
      "The training size is 439054\n",
      "An example of the first sentence is [201, 103]\n",
      "An example of its corresponding label is [3, 2]\n"
     ]
    }
   ],
   "execution_count": 11
  },
  {
   "cell_type": "code",
   "metadata": {
    "id": "29iM0u4-4YOV",
    "ExecuteTime": {
     "end_time": "2024-12-13T16:44:55.251747Z",
     "start_time": "2024-12-13T16:44:55.246249Z"
    }
   },
   "source": [
    "class NERDataset(torch.utils.data.Dataset):\n",
    "\n",
    "  def __init__(self, x, y, pad, tag_none):\n",
    "    \"\"\"\n",
    "    This is the constructor of the NERDataset\n",
    "    Inputs:\n",
    "    - x: a list of lists where each list contains the ids of the tokens\n",
    "    - y: a list of lists where each list contains the label of each token in the sentence\n",
    "    - pad: the id of the <PAD> token (to be used for padding all sentences and labels to have the same length)\n",
    "    \"\"\"\n",
    "    x_max = max(x, key= lambda z: len(z))\n",
    "    x = [sentence + [pad] * (len(x_max) - len(sentence)) for sentence in x]\n",
    "    y_max = max(y, key= lambda z: len(z))\n",
    "    y = [sentence + [tag_none] * (len(y_max) - len(sentence)) for sentence in y]\n",
    "    self.x_tensor = torch.tensor(x)\n",
    "    self.y_tensor = torch.tensor(y)\n",
    "    \n",
    "  def __len__(self):\n",
    "    \"\"\"\n",
    "    This function should return the length of the dataset (the number of sentences)\n",
    "    \"\"\"\n",
    "    return self.x_tensor.shape[0]\n",
    "    \n",
    "  def __getitem__(self, idx):\n",
    "    \"\"\"\n",
    "    This function returns a subset of the whole dataset\n",
    "    \"\"\"\n",
    "    return self.x_tensor[idx], self.y_tensor[idx]"
   ],
   "outputs": [],
   "execution_count": 12
  },
  {
   "cell_type": "code",
   "metadata": {
    "colab": {
     "base_uri": "https://localhost:8080/"
    },
    "id": "sz-saCtRs7Pz",
    "outputId": "03e6cdf1-7785-4725-d4ad-fb085c70e1c5",
    "ExecuteTime": {
     "end_time": "2024-12-13T16:44:56.119974Z",
     "start_time": "2024-12-13T16:44:56.097983Z"
    }
   },
   "source": [
    "batch_size = 5\n",
    "mini_sentences = t_sentences[0: 8]\n",
    "mini_labels = t_labels[0: 8]\n",
    "mini_dataset = NERDataset(mini_sentences, mini_labels, vocab['<PAD>'], tags[\"NONE\"])\n",
    "dummy_dataloader = torch.utils.data.DataLoader(mini_dataset, batch_size=5)\n",
    "dg = iter(dummy_dataloader)\n",
    "X1, Y1 = next(dg)\n",
    "X2, Y2 = next(dg)\n",
    "print(Y1.shape, X1.shape, Y2.shape, X2.shape)\n",
    "print(X1[0][:], \"\\n\", Y1[0][:])"
   ],
   "outputs": [
    {
     "name": "stdout",
     "output_type": "stream",
     "text": [
      "torch.Size([5, 5]) torch.Size([5, 5]) torch.Size([3, 5]) torch.Size([3, 5])\n",
      "tensor([201, 103, 306, 306, 306]) \n",
      " tensor([3, 2, 4, 4, 4])\n"
     ]
    }
   ],
   "execution_count": 13
  },
  {
   "cell_type": "markdown",
   "metadata": {
    "id": "CQB6O7I7FbUh"
   },
   "source": [
    "# NER\n",
    "The class that implementss the pytorch model for NER"
   ]
  },
  {
   "cell_type": "code",
   "metadata": {
    "id": "xHeJcz1JuhYa",
    "ExecuteTime": {
     "end_time": "2024-12-13T16:44:57.691632Z",
     "start_time": "2024-12-13T16:44:57.686898Z"
    }
   },
   "source": [
    "class NER(nn.Module):\n",
    "  def __init__(self, vocab_size=len(vocab), embedding_dim=50, hidden_size=50, n_classes=len(tags)):\n",
    "    \"\"\"\n",
    "    The constructor of our NER model\n",
    "    Inputs:\n",
    "    - vacab_size: the number of unique words\n",
    "    - embedding_dim: the embedding dimension\n",
    "    - n_classes: the number of final classes (tags)\n",
    "    \"\"\"\n",
    "    super(NER, self).__init__()\n",
    "    ####################### TODO: Create the layers of your model #######################################\n",
    "    self.embedding = nn.Embedding(vocab_size, embedding_dim)\n",
    "    self.lstm = nn.LSTM(embedding_dim, hidden_size, batch_first=True, bidirectional=True)\n",
    "    self.dropout = nn.Dropout(p=0.25)\n",
    "    self.linear = nn.Linear(hidden_size * 2, n_classes) # x2 cuz bi-directional\n",
    "    #####################################################################################################\n",
    "\n",
    "  def forward(self, sentences):\n",
    "    \"\"\"\n",
    "    This function does the forward pass of our model\n",
    "    Inputs:\n",
    "    - sentences: tensor of shape (batch_size, max_length)\n",
    "\n",
    "    Returns:\n",
    "    - final_output: tensor of shape (batch_size, max_length, n_classes)\n",
    "    \"\"\"\n",
    "\n",
    "    ######################### TODO: implement the forward pass ####################################\n",
    "    embedding = self.embedding(sentences)\n",
    "    lstm, _ = self.lstm(embedding)\n",
    "    dropout = self.dropout(lstm)\n",
    "    final_output = self.linear(dropout)\n",
    "    ###############################################################################################\n",
    "    return final_output"
   ],
   "outputs": [],
   "execution_count": 14
  },
  {
   "cell_type": "markdown",
   "metadata": {
    "id": "PLHx_oHpFlSX"
   },
   "source": [
    "# Training"
   ]
  },
  {
   "cell_type": "code",
   "metadata": {
    "id": "-yvaq8i2CCLD",
    "ExecuteTime": {
     "end_time": "2024-12-13T16:45:02.713660Z",
     "start_time": "2024-12-13T16:45:02.707214Z"
    }
   },
   "source": [
    "def train(model, train_dataset, batch_size=512, epochs=10, learning_rate=0.01):\n",
    "  \"\"\"\n",
    "  This function implements the training logic\n",
    "  Inputs:\n",
    "  - model: the model ot be trained\n",
    "  - train_dataset: the training set of type NERDataset\n",
    "  - batch_size: integer represents the number of examples per step\n",
    "  - epochs: integer represents the total number of epochs (full training pass)\n",
    "  - learning_rate: the learning rate to be used by the optimizer\n",
    "  \"\"\"\n",
    "\n",
    "  ############################## TODO: replace the Nones in the following code ##################################\n",
    "  \n",
    "  # (1) create the dataloader of the training set (make the shuffle=True)\n",
    "  train_dataloader = torch.utils.data.DataLoader(train_dataset, batch_size, shuffle=True)\n",
    "\n",
    "  # (2) make the criterion cross entropy loss\n",
    "  criterion = nn.CrossEntropyLoss()\n",
    "\n",
    "  # (3) create the optimizer (Adam)\n",
    "  optimizer = torch.optim.Adam(model.parameters(), learning_rate)\n",
    "\n",
    "  # GPU configuration\n",
    "  use_cuda = torch.cuda.is_available()\n",
    "  device = torch.device(\"cuda:0\" if use_cuda else \"cpu\")\n",
    "  # print(torch.cuda.get_device_name(device))\n",
    "  if use_cuda:\n",
    "    model = model.to(device)\n",
    "    criterion = criterion.cuda(device)\n",
    "    pass\n",
    "\n",
    "  for epoch_num in range(epochs):\n",
    "    total_acc_train = 0\n",
    "    total_loss_train = 0\n",
    "  \n",
    "    for train_input, train_label in tqdm(train_dataloader):\n",
    "  \n",
    "      # (4) move the train input to the device\n",
    "      train_input = train_input.to(device)\n",
    "  \n",
    "      # (5) move the train label to the device\n",
    "      train_label = train_label.to(device)\n",
    "  \n",
    "  \n",
    "      # (6) do the forward pass\n",
    "      output = model.forward(train_input)\n",
    "      \n",
    "      # (7) loss calculation (you need to think in this part how to calculate the loss correctly)\n",
    "      batch_loss = criterion(output.view(-1, output.shape[-1]), train_label.view(-1))\n",
    "  \n",
    "      # (8) append the batch loss to the total_loss_train\n",
    "      total_loss_train += batch_loss\n",
    "      \n",
    "      # (9) calculate the batch accuracy (just add the number of correct predictions)\n",
    "      acc = (torch.argmax(output, dim=-1) == train_label).sum().item()\n",
    "      total_acc_train += acc\n",
    "  \n",
    "      # (10) zero your gradients\n",
    "      optimizer.zero_grad()\n",
    "  \n",
    "      # (11) do the backward pass\n",
    "      batch_loss.backward()\n",
    "  \n",
    "      # (12) update the weights with your optimizer\n",
    "      optimizer.step()\n",
    "      \n",
    "    # epoch loss\n",
    "    epoch_loss = total_loss_train / len(train_dataset)\n",
    "  \n",
    "    # (13) calculate the accuracy\n",
    "    sample_count = len(train_dataset)\n",
    "    seq_length = train_dataset[0][0].shape[0]\n",
    "    epoch_acc = total_acc_train / (sample_count * seq_length)\n",
    "  \n",
    "  \n",
    "    print(\n",
    "        f'Epochs: {epoch_num + 1} | Train Loss: {epoch_loss} \\\n",
    "        | Train Accuracy: {epoch_acc}\\n')\n",
    "      \n",
    "  ##############################################################################################################"
   ],
   "outputs": [],
   "execution_count": 15
  },
  {
   "cell_type": "code",
   "metadata": {
    "id": "3BI7_ANkLf7G",
    "ExecuteTime": {
     "end_time": "2024-12-13T16:45:09.939600Z",
     "start_time": "2024-12-13T16:45:08.449525Z"
    }
   },
   "source": [
    "train_dataset = NERDataset(t_sentences, t_labels, vocab['<PAD>'], tags[\"NONE\"])\n",
    "# val_dataset = NERDataset(v_sentences, v_labels, vocab['<PAD>'])\n",
    "test_dataset = NERDataset(test_sentences, test_labels, vocab['<PAD>'], tags[\"NONE\"])"
   ],
   "outputs": [],
   "execution_count": 16
  },
  {
   "metadata": {
    "ExecuteTime": {
     "end_time": "2024-12-13T16:45:15.393689Z",
     "start_time": "2024-12-13T16:45:15.377620Z"
    }
   },
   "cell_type": "code",
   "source": [
    "model = NER(embedding_dim=70, hidden_size=500, n_classes=len(tags), vocab_size=len(vocab))\n",
    "print(model)"
   ],
   "outputs": [
    {
     "name": "stdout",
     "output_type": "stream",
     "text": [
      "NER(\n",
      "  (embedding): Embedding(307, 70)\n",
      "  (lstm): LSTM(70, 500, batch_first=True, bidirectional=True)\n",
      "  (dropout): Dropout(p=0.25, inplace=False)\n",
      "  (linear): Linear(in_features=1000, out_features=5, bias=True)\n",
      ")\n"
     ]
    }
   ],
   "execution_count": 17
  },
  {
   "metadata": {
    "ExecuteTime": {
     "end_time": "2024-12-13T16:47:09.832918Z",
     "start_time": "2024-12-13T16:45:22.274103Z"
    }
   },
   "cell_type": "code",
   "source": [
    "train(model, train_dataset, epochs=2, batch_size=32)\n",
    "train(model, test_dataset, epochs=1, batch_size=32)"
   ],
   "outputs": [
    {
     "name": "stderr",
     "output_type": "stream",
     "text": [
      "100%|██████████| 13721/13721 [00:53<00:00, 258.50it/s]\n"
     ]
    },
    {
     "name": "stdout",
     "output_type": "stream",
     "text": [
      "Epochs: 1 | Train Loss: 1.4979475054133218e-05         | Train Accuracy: 0.9998402816054517\n",
      "\n"
     ]
    },
    {
     "name": "stderr",
     "output_type": "stream",
     "text": [
      "100%|██████████| 13721/13721 [00:52<00:00, 259.62it/s]\n"
     ]
    },
    {
     "name": "stdout",
     "output_type": "stream",
     "text": [
      "Epochs: 2 | Train Loss: 1.4042359939778204e-12         | Train Accuracy: 1.0\n",
      "\n"
     ]
    },
    {
     "name": "stderr",
     "output_type": "stream",
     "text": [
      "100%|██████████| 3/3 [00:00<00:00, 215.59it/s]"
     ]
    },
    {
     "name": "stdout",
     "output_type": "stream",
     "text": [
      "Epochs: 1 | Train Loss: 0.0018356989603489637         | Train Accuracy: 0.9905882352941177\n",
      "\n"
     ]
    },
    {
     "name": "stderr",
     "output_type": "stream",
     "text": [
      "\n"
     ]
    }
   ],
   "execution_count": 18
  },
  {
   "cell_type": "markdown",
   "metadata": {},
   "source": ""
  },
  {
   "cell_type": "markdown",
   "metadata": {
    "id": "TWJNO6mUXPRI"
   },
   "source": [
    "# Evaluation"
   ]
  },
  {
   "cell_type": "code",
   "metadata": {
    "id": "Gz5mxUAJM1xS",
    "ExecuteTime": {
     "end_time": "2024-12-13T16:47:16.169743Z",
     "start_time": "2024-12-13T16:47:16.165145Z"
    }
   },
   "source": [
    "def evaluate(model, test_dataset, batch_size=64):\n",
    "  \"\"\"\n",
    "  This function takes a NER model and evaluates its performance (accuracy) on a test data\n",
    "  Inputs:\n",
    "  - model: a NER model\n",
    "  - test_dataset: dataset of type NERDataset\n",
    "  \"\"\"\n",
    "  ########################### TODO: Replace the Nones in the following code ##########################\n",
    "\n",
    "  # (1) create the test data loader\n",
    "  test_dataloader = torch.utils.data.DataLoader(test_dataset, batch_size,shuffle=False)\n",
    "\n",
    "  # GPU Configuration\n",
    "  use_cuda = torch.cuda.is_available()\n",
    "  device = torch.device(\"cuda\" if use_cuda else \"cpu\")\n",
    "  if use_cuda:\n",
    "    model = model.cuda()\n",
    "\n",
    "  total_acc_test = 0\n",
    "  \n",
    "  # (2) disable gradients\n",
    "  with torch.no_grad():\n",
    "\n",
    "    for test_input, test_label in tqdm(test_dataloader):\n",
    "      # (3) move the test input to the device\n",
    "      test_input = test_input.to(device)\n",
    "\n",
    "      # (4) move the test label to the device\n",
    "      test_label = test_label.to(device)\n",
    "\n",
    "      # (5) do the forward pass\n",
    "      output = model.forward(test_input)\n",
    "\n",
    "      # accuracy calculation (just add the correct predicted items to total_acc_test)\n",
    "      acc = (torch.argmax(output, dim=-1) == test_label).sum().item()\n",
    "      total_acc_test += acc \n",
    "    \n",
    "    # (6) calculate the over all accuracy\n",
    "    total_acc_test /= len(test_dataset) * test_dataset[0][0].shape[0]\n",
    "  ##################################################################################################\n",
    "\n",
    "  \n",
    "  print(f'\\nTest Accuracy: {total_acc_test}')"
   ],
   "outputs": [],
   "execution_count": 19
  },
  {
   "cell_type": "code",
   "metadata": {
    "colab": {
     "base_uri": "https://localhost:8080/"
    },
    "id": "6FD8JNcHWmMY",
    "outputId": "b4916766-dd57-4716-db7f-90c6d46655fa",
    "ExecuteTime": {
     "end_time": "2024-12-13T16:47:17.611892Z",
     "start_time": "2024-12-13T16:47:17.600485Z"
    }
   },
   "source": [
    "evaluate(model, test_dataset)"
   ],
   "outputs": [
    {
     "name": "stderr",
     "output_type": "stream",
     "text": [
      "100%|██████████| 2/2 [00:00<00:00, 362.23it/s]"
     ]
    },
    {
     "name": "stdout",
     "output_type": "stream",
     "text": [
      "\n",
      "Test Accuracy: 1.0\n"
     ]
    },
    {
     "name": "stderr",
     "output_type": "stream",
     "text": [
      "\n"
     ]
    }
   ],
   "execution_count": 20
  },
  {
   "metadata": {
    "ExecuteTime": {
     "end_time": "2024-12-13T16:58:35.871787Z",
     "start_time": "2024-12-13T16:58:35.865476Z"
    }
   },
   "cell_type": "code",
   "source": [
    "inv_order_tags = {}\n",
    "for tag, value in tags.items():\n",
    "  inv_order_tags[value] = tag\n",
    "  \n",
    "def test_sample(sample):\n",
    "  s = [vocab[token] if token in vocab\n",
    "                 else vocab['<UNK>']\n",
    "                 for token in sample.split(' ') if token != '']\n",
    "  x_tensor = torch.tensor(s)\n",
    "  device = torch.device(\"cuda:0\")\n",
    "  output = model.forward(x_tensor.to(device))\n",
    "  output = torch.argmax(output, dim=-1).to(\"cpu\")\n",
    "  print([inv_order_tags[x.item()] for x in output])\n",
    "\n",
    "\n",
    "test_sample(\"some love\")"
   ],
   "outputs": [
    {
     "name": "stdout",
     "output_type": "stream",
     "text": [
      "['QUANTITY_S', 'TOPPING_S']\n"
     ]
    }
   ],
   "execution_count": 28
  },
  {
   "metadata": {
    "ExecuteTime": {
     "end_time": "2024-12-13T16:56:48.914223Z",
     "start_time": "2024-12-13T16:56:48.894727Z"
    }
   },
   "cell_type": "code",
   "source": [
    "def save_model_state(model, path):\n",
    "    \"\"\"\n",
    "    Saves only the model's parameters\n",
    "    \"\"\"\n",
    "    torch.save(model.state_dict(), path)\n",
    "\n",
    "def load_model_state(model, path):\n",
    "    \"\"\"\n",
    "    Loads the model's parameters into a pre-defined architecture\n",
    "    \"\"\"\n",
    "    model.load_state_dict(torch.load(path))\n",
    "    model.eval()  # Set to evaluation mode\n",
    "    device = torch.device(\"cuda:0\")\n",
    "    model.to(device)\n",
    "    return model\n",
    "\n",
    "save_model_state(model, \"models/complex_x100.0.pth\")"
   ],
   "outputs": [],
   "execution_count": 22
  },
  {
   "metadata": {},
   "cell_type": "code",
   "source": "",
   "outputs": [],
   "execution_count": null
  }
 ],
 "metadata": {
  "accelerator": "GPU",
  "colab": {
   "provenance": []
  },
  "gpuClass": "standard",
  "kernelspec": {
   "display_name": "Python 3",
   "language": "python",
   "name": "python3"
  },
  "language_info": {
   "codemirror_mode": {
    "name": "ipython",
    "version": 3
   },
   "file_extension": ".py",
   "mimetype": "text/x-python",
   "name": "python",
   "nbconvert_exporter": "python",
   "pygments_lexer": "ipython3",
   "version": "3.12.6"
  }
 },
 "nbformat": 4,
 "nbformat_minor": 1
}
