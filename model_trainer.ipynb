{
 "cells": [
  {
   "cell_type": "code",
   "metadata": {
    "id": "WR6a6DkN0d-3",
    "ExecuteTime": {
     "end_time": "2024-12-20T08:01:30.592875Z",
     "start_time": "2024-12-20T08:01:27.013723Z"
    }
   },
   "source": [
    "from tqdm import tqdm\n",
    "import torch\n",
    "from torch import nn\n",
    "from utils_2 import load_data_file, orders_balancer, pizza_orders_balancer, randomizer_balancer\n",
    "import pickle"
   ],
   "outputs": [
    {
     "name": "stderr",
     "output_type": "stream",
     "text": [
      "[nltk_data] Downloading package punkt to\n",
      "[nltk_data]     C:\\Users\\xAbdoMo\\AppData\\Roaming\\nltk_data...\n",
      "[nltk_data]   Package punkt is already up-to-date!\n"
     ]
    }
   ],
   "execution_count": 1
  },
  {
   "cell_type": "code",
   "metadata": {
    "id": "ulSik2Sv1p1G",
    "ExecuteTime": {
     "end_time": "2024-12-20T08:02:57.221626Z",
     "start_time": "2024-12-20T08:02:57.218104Z"
    }
   },
   "source": [
    "vocab = pickle.load(open('data/vocab.pkl', 'rb'))\n",
    "\n",
    "input_name = \"complex_topping\"\n",
    "labels_name = \"complex_topping_labels\"\n",
    "\n",
    "tags = pickle.load(open(f'data/tags_{input_name}.pkl', 'rb'))\n",
    "\n",
    "print(len(vocab), len(tags))"
   ],
   "outputs": [
    {
     "name": "stdout",
     "output_type": "stream",
     "text": [
      "461 5\n"
     ]
    }
   ],
   "execution_count": 3
  },
  {
   "cell_type": "code",
   "metadata": {
    "colab": {
     "base_uri": "https://localhost:8080/"
    },
    "id": "PagjN4rl22Fr",
    "outputId": "f65e741a-74e1-45f6-8361-58a0ce4cc818",
    "ExecuteTime": {
     "end_time": "2024-12-20T08:03:56.789001Z",
     "start_time": "2024-12-20T08:02:58.663188Z"
    }
   },
   "source": [
    "t_sentences, t_labels, t_size = load_data_file(vocab, tags, f'processed_input/train_{input_name}.txt', f'processed_input/train_{labels_name}.txt', randomizer_balancer(3))\n",
    "dev_sentences, dev_labels, dev_size =  load_data_file(vocab, tags, f'processed_input/dev_{input_name}.txt', f'processed_input/dev_{labels_name}.txt', randomizer_balancer(3))\n",
    "test_sentences, test_labels, test_size =  load_data_file(vocab, tags, f'processed_input/test_{input_name}.txt', f'processed_input/test_{labels_name}.txt', randomizer_balancer(2))"
   ],
   "outputs": [
    {
     "name": "stderr",
     "output_type": "stream",
     "text": [
      "Sentences loader: 100%|██████████| 439054/439054 [00:03<00:00, 122407.14it/s]\n",
      "Labels loader: 100%|██████████| 439054/439054 [00:00<00:00, 749267.00it/s]\n",
      "Randomizer balancer - preload: 439054it [00:04, 89333.08it/s] \n",
      "Randomizer balancer - finalize: 100%|██████████| 1317162/1317162 [00:00<00:00, 5897160.44it/s]\n",
      "Projector: 100%|██████████| 1317162/1317162 [00:48<00:00, 27206.18it/s]\n",
      "Sentences loader: 100%|██████████| 85/85 [00:00<00:00, 85046.72it/s]\n",
      "Labels loader: 100%|██████████| 85/85 [00:00<?, ?it/s]\n",
      "Randomizer balancer - preload: 85it [00:00, 84985.90it/s]\n",
      "Randomizer balancer - finalize: 100%|██████████| 255/255 [00:00<00:00, 255261.94it/s]\n",
      "Projector: 100%|██████████| 255/255 [00:00<00:00, 46220.72it/s]\n",
      "Sentences loader: 100%|██████████| 311/311 [00:00<00:00, 155289.11it/s]\n",
      "Labels loader: 100%|██████████| 311/311 [00:00<?, ?it/s]\n",
      "Randomizer balancer - preload: 311it [00:00, 204873.34it/s]\n",
      "Randomizer balancer - finalize: 100%|██████████| 622/622 [00:00<?, ?it/s]\n",
      "Projector: 100%|██████████| 622/622 [00:00<00:00, 37657.80it/s]\n"
     ]
    }
   ],
   "execution_count": 4
  },
  {
   "cell_type": "code",
   "metadata": {
    "colab": {
     "base_uri": "https://localhost:8080/"
    },
    "id": "oWLR2Oxp28K6",
    "outputId": "3b13ca97-f85c-42ca-b84a-bcca9868137c",
    "ExecuteTime": {
     "end_time": "2024-12-20T08:04:37.340239Z",
     "start_time": "2024-12-20T08:04:37.337033Z"
    }
   },
   "source": [
    "print('The training size is', t_size)\n",
    "print('The validation size is', dev_size)\n",
    "print('The testing size is', test_size)"
   ],
   "outputs": [
    {
     "name": "stdout",
     "output_type": "stream",
     "text": [
      "The training size is 1317162\n",
      "The validation size is 255\n",
      "The testing size is 622\n"
     ]
    }
   ],
   "execution_count": 5
  },
  {
   "cell_type": "code",
   "metadata": {
    "id": "xHeJcz1JuhYa",
    "ExecuteTime": {
     "end_time": "2024-12-20T08:04:38.273336Z",
     "start_time": "2024-12-20T08:04:38.268820Z"
    }
   },
   "source": "from ner import NER, NERDataset",
   "outputs": [],
   "execution_count": 6
  },
  {
   "cell_type": "code",
   "metadata": {
    "id": "-yvaq8i2CCLD",
    "ExecuteTime": {
     "end_time": "2024-12-20T08:04:38.731190Z",
     "start_time": "2024-12-20T08:04:38.724996Z"
    }
   },
   "source": [
    "import random\n",
    "\n",
    "\n",
    "def train(model, train_dataset, batch_size=512, epochs=10, learning_rate=0.01, skip_prop=0.0):\n",
    "  model.train()   # switch to train mode\n",
    "  train_dataloader = torch.utils.data.DataLoader(train_dataset, batch_size, shuffle=True)\n",
    "  criterion = nn.CrossEntropyLoss()\n",
    "  optimizer = torch.optim.Adam(model.parameters(), learning_rate)\n",
    "  use_cuda = torch.cuda.is_available()\n",
    "  device = torch.device(\"cuda:0\" if use_cuda else \"cpu\")\n",
    "  if use_cuda:\n",
    "    model = model.to(device)\n",
    "    criterion = criterion.cuda(device)\n",
    "    pass\n",
    "\n",
    "  for epoch_num in range(epochs):\n",
    "    total_acc_train = 0\n",
    "    total_loss_train = 0\n",
    "  \n",
    "    for train_input, train_label in tqdm(train_dataloader):\n",
    "      if skip_prop > random.random():\n",
    "        continue    # skip this batch\n",
    "      train_input = train_input.to(device)\n",
    "      train_label = train_label.to(device)\n",
    "      output = model.forward(train_input)\n",
    "      batch_loss = criterion(output.view(-1, output.shape[-1]), train_label.view(-1))\n",
    "      total_loss_train += batch_loss\n",
    "      acc = (torch.argmax(output, dim=-1) == train_label).sum().item()\n",
    "      total_acc_train += acc\n",
    "      optimizer.zero_grad()\n",
    "      batch_loss.backward()\n",
    "      optimizer.step()\n",
    "      \n",
    "    epoch_loss = total_loss_train / len(train_dataset)\n",
    "  \n",
    "    sample_count = len(train_dataset)\n",
    "    seq_length = train_dataset[0][0].shape[0]\n",
    "    epoch_acc = total_acc_train / (sample_count * seq_length)\n",
    "  \n",
    "  \n",
    "    print(\n",
    "        f'Epochs: {epoch_num + 1} | Train Loss: {epoch_loss} \\\n",
    "        | Train Accuracy: {epoch_acc}\\n')"
   ],
   "outputs": [],
   "execution_count": 7
  },
  {
   "cell_type": "code",
   "metadata": {
    "id": "3BI7_ANkLf7G",
    "ExecuteTime": {
     "end_time": "2024-12-20T08:04:45.532033Z",
     "start_time": "2024-12-20T08:04:40.082965Z"
    }
   },
   "source": [
    "train_dataset = NERDataset(t_sentences, t_labels, vocab['<pad>'], tags[\"NONE\"])\n",
    "val_dataset = NERDataset(dev_sentences, dev_labels, vocab['<pad>'], tags[\"NONE\"])\n",
    "test_dataset = NERDataset(test_sentences, test_labels, vocab['<pad>'], tags[\"NONE\"])"
   ],
   "outputs": [],
   "execution_count": 8
  },
  {
   "metadata": {
    "ExecuteTime": {
     "end_time": "2024-12-20T08:04:49.346177Z",
     "start_time": "2024-12-20T08:04:49.286419Z"
    }
   },
   "cell_type": "code",
   "source": [
    "model = NER(embedding_dim=95, hidden_size=600, n_classes=len(tags), vocab_size=len(vocab), num_layers=2, dropout=0.5)\n",
    "print(model)"
   ],
   "outputs": [
    {
     "name": "stdout",
     "output_type": "stream",
     "text": [
      "NER(\n",
      "  (embedding): Embedding(461, 95)\n",
      "  (dropout): Dropout(p=0.5, inplace=False)\n",
      "  (lstm): LSTM(95, 600, num_layers=2, batch_first=True, dropout=0.5, bidirectional=True)\n",
      "  (linear): Linear(in_features=1200, out_features=5, bias=True)\n",
      ")\n"
     ]
    }
   ],
   "execution_count": 9
  },
  {
   "metadata": {
    "ExecuteTime": {
     "end_time": "2024-12-20T08:09:21.789390Z",
     "start_time": "2024-12-20T08:04:50.784241Z"
    }
   },
   "cell_type": "code",
   "source": [
    "model = model.to(torch.device(\"cuda:0\"))\n",
    "train(model, train_dataset, epochs=10, batch_size=512, skip_prop=0.9)\n",
    "train(model, val_dataset, epochs=15, batch_size=32)\n",
    "train(model, test_dataset, epochs=15, batch_size=32)"
   ],
   "outputs": [
    {
     "name": "stderr",
     "output_type": "stream",
     "text": [
      "100%|██████████| 2573/2573 [00:25<00:00, 101.70it/s]\n"
     ]
    },
    {
     "name": "stdout",
     "output_type": "stream",
     "text": [
      "Epochs: 1 | Train Loss: 1.2624144801520742e-05         | Train Accuracy: 0.09926616847434104\n",
      "\n"
     ]
    },
    {
     "name": "stderr",
     "output_type": "stream",
     "text": [
      "100%|██████████| 2573/2573 [00:24<00:00, 103.35it/s]\n"
     ]
    },
    {
     "name": "stdout",
     "output_type": "stream",
     "text": [
      "Epochs: 2 | Train Loss: 2.2513106934241023e-09         | Train Accuracy: 0.0991222036469318\n",
      "\n"
     ]
    },
    {
     "name": "stderr",
     "output_type": "stream",
     "text": [
      "100%|██████████| 2573/2573 [00:25<00:00, 99.90it/s] \n"
     ]
    },
    {
     "name": "stdout",
     "output_type": "stream",
     "text": [
      "Epochs: 3 | Train Loss: 1.187060449936439e-09         | Train Accuracy: 0.10479045098476877\n",
      "\n"
     ]
    },
    {
     "name": "stderr",
     "output_type": "stream",
     "text": [
      "100%|██████████| 2573/2573 [00:27<00:00, 94.09it/s] \n"
     ]
    },
    {
     "name": "stdout",
     "output_type": "stream",
     "text": [
      "Epochs: 4 | Train Loss: 6.981829558938557e-10         | Train Accuracy: 0.10806263770136096\n",
      "\n"
     ]
    },
    {
     "name": "stderr",
     "output_type": "stream",
     "text": [
      "100%|██████████| 2573/2573 [00:26<00:00, 96.26it/s] \n"
     ]
    },
    {
     "name": "stdout",
     "output_type": "stream",
     "text": [
      "Epochs: 5 | Train Loss: 3.867783870958874e-10         | Train Accuracy: 0.100514591219607\n",
      "\n"
     ]
    },
    {
     "name": "stderr",
     "output_type": "stream",
     "text": [
      "100%|██████████| 2573/2573 [00:27<00:00, 94.08it/s] \n"
     ]
    },
    {
     "name": "stdout",
     "output_type": "stream",
     "text": [
      "Epochs: 6 | Train Loss: 2.9015201352677877e-10         | Train Accuracy: 0.10556788003298\n",
      "\n"
     ]
    },
    {
     "name": "stderr",
     "output_type": "stream",
     "text": [
      "100%|██████████| 2573/2573 [00:28<00:00, 91.69it/s] \n"
     ]
    },
    {
     "name": "stdout",
     "output_type": "stream",
     "text": [
      "Epochs: 7 | Train Loss: 2.1907753389172058e-10         | Train Accuracy: 0.10495292150851604\n",
      "\n"
     ]
    },
    {
     "name": "stderr",
     "output_type": "stream",
     "text": [
      "100%|██████████| 2573/2573 [00:25<00:00, 100.56it/s]\n"
     ]
    },
    {
     "name": "stdout",
     "output_type": "stream",
     "text": [
      "Epochs: 8 | Train Loss: 1.575521657581902e-10         | Train Accuracy: 0.10184320531567112\n",
      "\n"
     ]
    },
    {
     "name": "stderr",
     "output_type": "stream",
     "text": [
      "100%|██████████| 2573/2573 [00:26<00:00, 96.99it/s] \n"
     ]
    },
    {
     "name": "stdout",
     "output_type": "stream",
     "text": [
      "Epochs: 9 | Train Loss: 1.240770958199633e-10         | Train Accuracy: 0.09601248745408689\n",
      "\n"
     ]
    },
    {
     "name": "stderr",
     "output_type": "stream",
     "text": [
      "100%|██████████| 2573/2573 [00:26<00:00, 96.55it/s] \n"
     ]
    },
    {
     "name": "stdout",
     "output_type": "stream",
     "text": [
      "Epochs: 10 | Train Loss: 1.0545012779639151e-10         | Train Accuracy: 0.0987334891228262\n",
      "\n"
     ]
    },
    {
     "name": "stderr",
     "output_type": "stream",
     "text": [
      "100%|██████████| 8/8 [00:00<00:00, 68.46it/s]\n"
     ]
    },
    {
     "name": "stdout",
     "output_type": "stream",
     "text": [
      "Epochs: 1 | Train Loss: 0.0001649462792556733         | Train Accuracy: 0.9992156862745099\n",
      "\n"
     ]
    },
    {
     "name": "stderr",
     "output_type": "stream",
     "text": [
      "100%|██████████| 8/8 [00:00<00:00, 73.55it/s]\n"
     ]
    },
    {
     "name": "stdout",
     "output_type": "stream",
     "text": [
      "Epochs: 2 | Train Loss: 0.0005526450695469975         | Train Accuracy: 0.9976470588235294\n",
      "\n"
     ]
    },
    {
     "name": "stderr",
     "output_type": "stream",
     "text": [
      "100%|██████████| 8/8 [00:00<00:00, 71.29it/s]\n"
     ]
    },
    {
     "name": "stdout",
     "output_type": "stream",
     "text": [
      "Epochs: 3 | Train Loss: 8.901629917090759e-05         | Train Accuracy: 0.9992156862745099\n",
      "\n"
     ]
    },
    {
     "name": "stderr",
     "output_type": "stream",
     "text": [
      "100%|██████████| 8/8 [00:00<00:00, 72.70it/s]\n"
     ]
    },
    {
     "name": "stdout",
     "output_type": "stream",
     "text": [
      "Epochs: 4 | Train Loss: 6.580874469364062e-06         | Train Accuracy: 1.0\n",
      "\n"
     ]
    },
    {
     "name": "stderr",
     "output_type": "stream",
     "text": [
      "100%|██████████| 8/8 [00:00<00:00, 68.58it/s]\n"
     ]
    },
    {
     "name": "stdout",
     "output_type": "stream",
     "text": [
      "Epochs: 5 | Train Loss: 1.3891845185298735e-07         | Train Accuracy: 1.0\n",
      "\n"
     ]
    },
    {
     "name": "stderr",
     "output_type": "stream",
     "text": [
      "100%|██████████| 8/8 [00:00<00:00, 62.79it/s]\n"
     ]
    },
    {
     "name": "stdout",
     "output_type": "stream",
     "text": [
      "Epochs: 6 | Train Loss: 1.5679614762120764e-07         | Train Accuracy: 1.0\n",
      "\n"
     ]
    },
    {
     "name": "stderr",
     "output_type": "stream",
     "text": [
      "100%|██████████| 8/8 [00:00<00:00, 76.94it/s]\n"
     ]
    },
    {
     "name": "stdout",
     "output_type": "stream",
     "text": [
      "Epochs: 7 | Train Loss: 1.6664046142977895e-07         | Train Accuracy: 1.0\n",
      "\n"
     ]
    },
    {
     "name": "stderr",
     "output_type": "stream",
     "text": [
      "100%|██████████| 8/8 [00:00<00:00, 82.62it/s]\n"
     ]
    },
    {
     "name": "stdout",
     "output_type": "stream",
     "text": [
      "Epochs: 8 | Train Loss: 1.7953787345703631e-09         | Train Accuracy: 1.0\n",
      "\n"
     ]
    },
    {
     "name": "stderr",
     "output_type": "stream",
     "text": [
      "100%|██████████| 8/8 [00:00<00:00, 78.43it/s]\n"
     ]
    },
    {
     "name": "stdout",
     "output_type": "stream",
     "text": [
      "Epochs: 9 | Train Loss: 5.635292787964374e-10         | Train Accuracy: 1.0\n",
      "\n"
     ]
    },
    {
     "name": "stderr",
     "output_type": "stream",
     "text": [
      "100%|██████████| 8/8 [00:00<00:00, 83.22it/s]\n"
     ]
    },
    {
     "name": "stdout",
     "output_type": "stream",
     "text": [
      "Epochs: 10 | Train Loss: 1.0053777810270503e-09         | Train Accuracy: 1.0\n",
      "\n"
     ]
    },
    {
     "name": "stderr",
     "output_type": "stream",
     "text": [
      "100%|██████████| 8/8 [00:00<00:00, 88.39it/s]\n"
     ]
    },
    {
     "name": "stdout",
     "output_type": "stream",
     "text": [
      "Epochs: 11 | Train Loss: 1.0730439869988118e-09         | Train Accuracy: 1.0\n",
      "\n"
     ]
    },
    {
     "name": "stderr",
     "output_type": "stream",
     "text": [
      "100%|██████████| 8/8 [00:00<00:00, 78.53it/s]\n"
     ]
    },
    {
     "name": "stdout",
     "output_type": "stream",
     "text": [
      "Epochs: 12 | Train Loss: 4.696549260607696e-10         | Train Accuracy: 1.0\n",
      "\n"
     ]
    },
    {
     "name": "stderr",
     "output_type": "stream",
     "text": [
      "100%|██████████| 8/8 [00:00<00:00, 81.35it/s]\n"
     ]
    },
    {
     "name": "stdout",
     "output_type": "stream",
     "text": [
      "Epochs: 13 | Train Loss: 9.484470986365068e-10         | Train Accuracy: 1.0\n",
      "\n"
     ]
    },
    {
     "name": "stderr",
     "output_type": "stream",
     "text": [
      "100%|██████████| 8/8 [00:00<00:00, 79.30it/s]\n"
     ]
    },
    {
     "name": "stdout",
     "output_type": "stream",
     "text": [
      "Epochs: 14 | Train Loss: 1.01413866193667e-09         | Train Accuracy: 1.0\n",
      "\n"
     ]
    },
    {
     "name": "stderr",
     "output_type": "stream",
     "text": [
      "100%|██████████| 8/8 [00:00<00:00, 83.21it/s]\n"
     ]
    },
    {
     "name": "stdout",
     "output_type": "stream",
     "text": [
      "Epochs: 15 | Train Loss: 2.761565975895053e-10         | Train Accuracy: 1.0\n",
      "\n"
     ]
    },
    {
     "name": "stderr",
     "output_type": "stream",
     "text": [
      "100%|██████████| 20/20 [00:00<00:00, 86.30it/s]\n"
     ]
    },
    {
     "name": "stdout",
     "output_type": "stream",
     "text": [
      "Epochs: 1 | Train Loss: 0.0005595750990323722         | Train Accuracy: 0.9971864951768489\n",
      "\n"
     ]
    },
    {
     "name": "stderr",
     "output_type": "stream",
     "text": [
      "100%|██████████| 20/20 [00:00<00:00, 85.10it/s]\n"
     ]
    },
    {
     "name": "stdout",
     "output_type": "stream",
     "text": [
      "Epochs: 2 | Train Loss: 0.0008941511041484773         | Train Accuracy: 0.997588424437299\n",
      "\n"
     ]
    },
    {
     "name": "stderr",
     "output_type": "stream",
     "text": [
      "100%|██████████| 20/20 [00:00<00:00, 88.51it/s]\n"
     ]
    },
    {
     "name": "stdout",
     "output_type": "stream",
     "text": [
      "Epochs: 3 | Train Loss: 3.322603151900694e-05         | Train Accuracy: 0.9995980707395499\n",
      "\n"
     ]
    },
    {
     "name": "stderr",
     "output_type": "stream",
     "text": [
      "100%|██████████| 20/20 [00:00<00:00, 88.50it/s]\n"
     ]
    },
    {
     "name": "stdout",
     "output_type": "stream",
     "text": [
      "Epochs: 4 | Train Loss: 2.2679946596326772e-06         | Train Accuracy: 1.0\n",
      "\n"
     ]
    },
    {
     "name": "stderr",
     "output_type": "stream",
     "text": [
      "100%|██████████| 20/20 [00:00<00:00, 88.47it/s]\n"
     ]
    },
    {
     "name": "stdout",
     "output_type": "stream",
     "text": [
      "Epochs: 5 | Train Loss: 6.738087421354066e-08         | Train Accuracy: 1.0\n",
      "\n"
     ]
    },
    {
     "name": "stderr",
     "output_type": "stream",
     "text": [
      "100%|██████████| 20/20 [00:00<00:00, 87.17it/s]\n"
     ]
    },
    {
     "name": "stdout",
     "output_type": "stream",
     "text": [
      "Epochs: 6 | Train Loss: 2.2751772021933903e-08         | Train Accuracy: 1.0\n",
      "\n"
     ]
    },
    {
     "name": "stderr",
     "output_type": "stream",
     "text": [
      "100%|██████████| 20/20 [00:00<00:00, 89.02it/s]\n"
     ]
    },
    {
     "name": "stdout",
     "output_type": "stream",
     "text": [
      "Epochs: 7 | Train Loss: 1.5196812341855548e-07         | Train Accuracy: 1.0\n",
      "\n"
     ]
    },
    {
     "name": "stderr",
     "output_type": "stream",
     "text": [
      "100%|██████████| 20/20 [00:00<00:00, 83.34it/s]\n"
     ]
    },
    {
     "name": "stdout",
     "output_type": "stream",
     "text": [
      "Epochs: 8 | Train Loss: 4.1275946216501325e-08         | Train Accuracy: 1.0\n",
      "\n"
     ]
    },
    {
     "name": "stderr",
     "output_type": "stream",
     "text": [
      "100%|██████████| 20/20 [00:00<00:00, 81.30it/s]\n"
     ]
    },
    {
     "name": "stdout",
     "output_type": "stream",
     "text": [
      "Epochs: 9 | Train Loss: 9.708602810576394e-09         | Train Accuracy: 1.0\n",
      "\n"
     ]
    },
    {
     "name": "stderr",
     "output_type": "stream",
     "text": [
      "100%|██████████| 20/20 [00:00<00:00, 83.45it/s]\n"
     ]
    },
    {
     "name": "stdout",
     "output_type": "stream",
     "text": [
      "Epochs: 10 | Train Loss: 4.446482293474219e-09         | Train Accuracy: 1.0\n",
      "\n"
     ]
    },
    {
     "name": "stderr",
     "output_type": "stream",
     "text": [
      "100%|██████████| 20/20 [00:00<00:00, 87.10it/s]\n"
     ]
    },
    {
     "name": "stdout",
     "output_type": "stream",
     "text": [
      "Epochs: 11 | Train Loss: 3.4400500226183794e-09         | Train Accuracy: 1.0\n",
      "\n"
     ]
    },
    {
     "name": "stderr",
     "output_type": "stream",
     "text": [
      "100%|██████████| 20/20 [00:00<00:00, 87.64it/s]\n"
     ]
    },
    {
     "name": "stdout",
     "output_type": "stream",
     "text": [
      "Epochs: 12 | Train Loss: 1.5022147970000788e-09         | Train Accuracy: 1.0\n",
      "\n"
     ]
    },
    {
     "name": "stderr",
     "output_type": "stream",
     "text": [
      "100%|██████████| 20/20 [00:00<00:00, 74.36it/s]\n"
     ]
    },
    {
     "name": "stdout",
     "output_type": "stream",
     "text": [
      "Epochs: 13 | Train Loss: 1.1379410747025531e-09         | Train Accuracy: 1.0\n",
      "\n"
     ]
    },
    {
     "name": "stderr",
     "output_type": "stream",
     "text": [
      "100%|██████████| 20/20 [00:00<00:00, 74.04it/s]\n"
     ]
    },
    {
     "name": "stdout",
     "output_type": "stream",
     "text": [
      "Epochs: 14 | Train Loss: 9.696019542815293e-10         | Train Accuracy: 1.0\n",
      "\n"
     ]
    },
    {
     "name": "stderr",
     "output_type": "stream",
     "text": [
      "100%|██████████| 20/20 [00:00<00:00, 90.04it/s]"
     ]
    },
    {
     "name": "stdout",
     "output_type": "stream",
     "text": [
      "Epochs: 15 | Train Loss: 1.1274647881975852e-09         | Train Accuracy: 1.0\n",
      "\n"
     ]
    },
    {
     "name": "stderr",
     "output_type": "stream",
     "text": [
      "\n"
     ]
    }
   ],
   "execution_count": 10
  },
  {
   "metadata": {
    "ExecuteTime": {
     "end_time": "2024-12-20T01:34:58.259709Z",
     "start_time": "2024-12-20T01:34:35.697541Z"
    }
   },
   "cell_type": "code",
   "source": [
    "train(model, val_dataset, epochs=5, batch_size=32)\n",
    "train(model, test_dataset, epochs=5, batch_size=16)"
   ],
   "outputs": [
    {
     "name": "stderr",
     "output_type": "stream",
     "text": [
      "100%|██████████| 147/147 [00:04<00:00, 32.61it/s]\n"
     ]
    },
    {
     "name": "stdout",
     "output_type": "stream",
     "text": [
      "Epochs: 1 | Train Loss: 0.0007481177453882992         | Train Accuracy: 0.9980377325396564\n",
      "\n"
     ]
    },
    {
     "name": "stderr",
     "output_type": "stream",
     "text": [
      "100%|██████████| 147/147 [00:04<00:00, 32.55it/s]\n"
     ]
    },
    {
     "name": "stdout",
     "output_type": "stream",
     "text": [
      "Epochs: 2 | Train Loss: 0.001016600290313363         | Train Accuracy: 0.9973690268688131\n",
      "\n"
     ]
    },
    {
     "name": "stderr",
     "output_type": "stream",
     "text": [
      "100%|██████████| 147/147 [00:04<00:00, 32.64it/s]\n"
     ]
    },
    {
     "name": "stdout",
     "output_type": "stream",
     "text": [
      "Epochs: 3 | Train Loss: 0.0009267125278711319         | Train Accuracy: 0.9977307856743513\n",
      "\n"
     ]
    },
    {
     "name": "stderr",
     "output_type": "stream",
     "text": [
      "100%|██████████| 147/147 [00:04<00:00, 32.99it/s]\n"
     ]
    },
    {
     "name": "stdout",
     "output_type": "stream",
     "text": [
      "Epochs: 4 | Train Loss: 0.0007141839014366269         | Train Accuracy: 0.9980925444798895\n",
      "\n"
     ]
    },
    {
     "name": "stderr",
     "output_type": "stream",
     "text": [
      "100%|██████████| 147/147 [00:04<00:00, 32.64it/s]"
     ]
    },
    {
     "name": "stdout",
     "output_type": "stream",
     "text": [
      "Epochs: 5 | Train Loss: 0.0011853700270876288         | Train Accuracy: 0.9972155534361605\n",
      "\n"
     ]
    },
    {
     "name": "stderr",
     "output_type": "stream",
     "text": [
      "\n"
     ]
    }
   ],
   "execution_count": 44
  },
  {
   "cell_type": "code",
   "metadata": {
    "id": "Gz5mxUAJM1xS",
    "ExecuteTime": {
     "end_time": "2024-12-20T08:09:24.981993Z",
     "start_time": "2024-12-20T08:09:24.977017Z"
    }
   },
   "source": [
    "def evaluate(model, test_dataset, batch_size=64):\n",
    "  test_dataloader = torch.utils.data.DataLoader(test_dataset, batch_size,shuffle=False)\n",
    "  use_cuda = torch.cuda.is_available()\n",
    "  device = torch.device(\"cuda\" if use_cuda else \"cpu\")\n",
    "  if use_cuda:\n",
    "    model = model.cuda()\n",
    "\n",
    "  total_acc_test = 0\n",
    "  \n",
    "  with torch.no_grad():\n",
    "    for test_input, test_label in tqdm(test_dataloader):\n",
    "      test_input = test_input.to(device)\n",
    "      test_label = test_label.to(device)\n",
    "      output = model.forward(test_input)\n",
    "\n",
    "      # Check if entire sequence matches by comparing all positions\n",
    "      sequence_matches = (torch.argmax(output, dim=-1) == test_label).all(dim=-1)\n",
    "      acc = sequence_matches.sum().item()\n",
    "      total_acc_test += acc\n",
    "    \n",
    "    total_acc_test /= len(test_dataset)\n",
    "  print(f'\\nTest Accuracy: {total_acc_test}')"
   ],
   "outputs": [],
   "execution_count": 11
  },
  {
   "cell_type": "code",
   "metadata": {
    "colab": {
     "base_uri": "https://localhost:8080/"
    },
    "id": "6FD8JNcHWmMY",
    "outputId": "b4916766-dd57-4716-db7f-90c6d46655fa",
    "ExecuteTime": {
     "end_time": "2024-12-20T08:09:25.506162Z",
     "start_time": "2024-12-20T08:09:25.435735Z"
    }
   },
   "source": [
    "model.eval()\n",
    "evaluate(model, test_dataset)\n",
    "evaluate(model, val_dataset)"
   ],
   "outputs": [
    {
     "name": "stderr",
     "output_type": "stream",
     "text": [
      "100%|██████████| 10/10 [00:00<00:00, 232.52it/s]\n"
     ]
    },
    {
     "name": "stdout",
     "output_type": "stream",
     "text": [
      "\n",
      "Test Accuracy: 1.0\n"
     ]
    },
    {
     "name": "stderr",
     "output_type": "stream",
     "text": [
      "100%|██████████| 4/4 [00:00<00:00, 307.69it/s]"
     ]
    },
    {
     "name": "stdout",
     "output_type": "stream",
     "text": [
      "\n",
      "Test Accuracy: 1.0\n"
     ]
    },
    {
     "name": "stderr",
     "output_type": "stream",
     "text": [
      "\n"
     ]
    }
   ],
   "execution_count": 12
  },
  {
   "metadata": {
    "ExecuteTime": {
     "end_time": "2024-12-20T08:09:41.906337Z",
     "start_time": "2024-12-20T08:09:41.901396Z"
    }
   },
   "cell_type": "code",
   "source": [
    "inv_order_tags = {}\n",
    "for tag, value in tags.items():\n",
    "  inv_order_tags[value] = tag\n",
    "\n",
    "from utils_2 import tokenize, preprocess_tokens, project_tokens \n",
    "def test_sample(sample, model):\n",
    "  s = tokenize(sample)\n",
    "  s = preprocess_tokens(s, 0)\n",
    "  print(s)\n",
    "  s = project_tokens(s, vocab)\n",
    "  x_tensor = torch.tensor(s)\n",
    "  device = torch.device(\"cuda:0\")\n",
    "  with torch.no_grad():\n",
    "    output = model.forward(x_tensor.to(device))\n",
    "    output = torch.argmax(output, dim=-1).to(\"cpu\")\n",
    "    print([inv_order_tags[x.item()] for x in output])"
   ],
   "execution_count": 14,
   "outputs": []
  },
  {
   "metadata": {
    "ExecuteTime": {
     "end_time": "2024-12-20T08:12:10.878506Z",
     "start_time": "2024-12-20T08:12:10.868386Z"
    }
   },
   "cell_type": "code",
   "source": [
    "model.eval()\n",
    "model = model.to(torch.device(\"cuda:0\"))\n",
    "test_sample(\"extra love\", model)"
   ],
   "outputs": [
    {
     "name": "stdout",
     "output_type": "stream",
     "text": [
      "['extra', 'love']\n",
      "['QUANTITY_S', 'NONE']\n"
     ]
    }
   ],
   "execution_count": 20
  },
  {
   "metadata": {
    "ExecuteTime": {
     "end_time": "2024-12-20T08:13:17.903620Z",
     "start_time": "2024-12-20T08:13:17.816203Z"
    }
   },
   "cell_type": "code",
   "source": [
    "from model_io import save_model_state\n",
    "\n",
    "save_model_state(model, \"models/complex_e95_h600_l2_d0.5_cv0_x1.pth\")\n",
    "model.to(torch.device(\"cuda:0\"))"
   ],
   "outputs": [
    {
     "data": {
      "text/plain": [
       "NER(\n",
       "  (embedding): Embedding(461, 95)\n",
       "  (dropout): Dropout(p=0.5, inplace=False)\n",
       "  (lstm): LSTM(95, 600, num_layers=2, batch_first=True, dropout=0.5, bidirectional=True)\n",
       "  (linear): Linear(in_features=1200, out_features=5, bias=True)\n",
       ")"
      ]
     },
     "execution_count": 21,
     "metadata": {},
     "output_type": "execute_result"
    }
   ],
   "execution_count": 21
  },
  {
   "metadata": {
    "ExecuteTime": {
     "end_time": "2024-12-20T08:13:43.905920Z",
     "start_time": "2024-12-20T08:13:43.813376Z"
    }
   },
   "cell_type": "code",
   "source": [
    "from model_io import load_model_state\n",
    "\n",
    "model_load_test = NER(\n",
    "  embedding_dim=95, hidden_size=600, n_classes=len(tags), vocab_size=len(vocab), num_layers=2, dropout=0.5\n",
    ")\n",
    "\n",
    "load_model_state(model_load_test, \"models/complex_e95_h600_l2_d0.5_cv0_x1.pth\")\n",
    "model_load_test.to(torch.device(\"cuda:0\"))\n",
    "model_load_test.eval()\n",
    "test_sample(\"extra love\", model_load_test)"
   ],
   "outputs": [
    {
     "name": "stdout",
     "output_type": "stream",
     "text": [
      "['extra', 'love']\n",
      "['QUANTITY_S', 'NONE']\n"
     ]
    },
    {
     "name": "stderr",
     "output_type": "stream",
     "text": [
      "C:\\Users\\xAbdoMo\\Desktop\\Uni\\Projects\\Pizzaria\\model_io.py:38: FutureWarning: You are using `torch.load` with `weights_only=False` (the current default value), which uses the default pickle module implicitly. It is possible to construct malicious pickle data which will execute arbitrary code during unpickling (See https://github.com/pytorch/pytorch/blob/main/SECURITY.md#untrusted-models for more details). In a future release, the default value for `weights_only` will be flipped to `True`. This limits the functions that could be executed during unpickling. Arbitrary objects will no longer be allowed to be loaded via this mode unless they are explicitly allowlisted by the user via `torch.serialization.add_safe_globals`. We recommend you start setting `weights_only=True` for any use case where you don't have full control of the loaded file. Please open an issue on GitHub for any issues related to this experimental feature.\n",
      "  state_dict = torch.load(path, device)\n"
     ]
    }
   ],
   "execution_count": 22
  },
  {
   "metadata": {},
   "cell_type": "code",
   "outputs": [],
   "execution_count": null,
   "source": ""
  }
 ],
 "metadata": {
  "accelerator": "GPU",
  "colab": {
   "provenance": []
  },
  "gpuClass": "standard",
  "kernelspec": {
   "display_name": "Python 3",
   "language": "python",
   "name": "python3"
  },
  "language_info": {
   "codemirror_mode": {
    "name": "ipython",
    "version": 3
   },
   "file_extension": ".py",
   "mimetype": "text/x-python",
   "name": "python",
   "nbconvert_exporter": "python",
   "pygments_lexer": "ipython3",
   "version": "3.12.6"
  }
 },
 "nbformat": 4,
 "nbformat_minor": 1
}
