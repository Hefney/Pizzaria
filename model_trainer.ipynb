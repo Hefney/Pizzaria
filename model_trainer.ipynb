{
 "cells": [
  {
   "cell_type": "code",
   "metadata": {
    "id": "WR6a6DkN0d-3"
   },
   "source": [
    "from tqdm import tqdm\n",
    "import torch\n",
    "from torch import nn\n",
    "from utils import load_data_file, orders_balancer, pizza_orders_balancer, randomizer_balancer\n",
    "import pickle"
   ],
   "outputs": [],
   "execution_count": null
  },
  {
   "cell_type": "code",
   "metadata": {
    "id": "ulSik2Sv1p1G"
   },
   "source": [
    "vocab = pickle.load(open('data/vocab.pkl', 'rb'))\n",
    "\n",
    "input_name = \"orders\"\n",
    "labels_name = \"orders_labels\"\n",
    "\n",
    "tags = pickle.load(open(f'data/tags_{input_name}.pkl', 'rb'))\n",
    "\n",
    "print(len(vocab), len(tags))"
   ],
   "outputs": [],
   "execution_count": null
  },
  {
   "cell_type": "code",
   "metadata": {
    "colab": {
     "base_uri": "https://localhost:8080/"
    },
    "id": "PagjN4rl22Fr",
    "outputId": "f65e741a-74e1-45f6-8361-58a0ce4cc818"
   },
   "source": [
    "t_sentences, t_labels, t_size = load_data_file(vocab, tags, f'processed_input/train_{input_name}.txt', f'processed_input/train_{labels_name}.txt', orders_balancer)\n",
    "dev_sentences, dev_labels, dev_size =  load_data_file(vocab, tags, f'processed_input/dev_{input_name}.txt', f'processed_input/dev_{labels_name}.txt', orders_balancer)\n",
    "test_sentences, test_labels, test_size =  load_data_file(vocab, tags, f'processed_input/test_{input_name}.txt', f'processed_input/test_{labels_name}.txt', orders_balancer)"
   ],
   "outputs": [],
   "execution_count": null
  },
  {
   "cell_type": "code",
   "metadata": {
    "colab": {
     "base_uri": "https://localhost:8080/"
    },
    "id": "oWLR2Oxp28K6",
    "outputId": "3b13ca97-f85c-42ca-b84a-bcca9868137c"
   },
   "source": [
    "print('The training size is', t_size)\n",
    "print('The validation size is', dev_size)\n",
    "print('The testing size is', test_size)"
   ],
   "outputs": [],
   "execution_count": null
  },
  {
   "cell_type": "code",
   "metadata": {
    "id": "xHeJcz1JuhYa"
   },
   "source": "from ner import NER, NERDataset",
   "outputs": [],
   "execution_count": null
  },
  {
   "cell_type": "code",
   "metadata": {
    "id": "-yvaq8i2CCLD"
   },
   "source": [
    "import random\n",
    "\n",
    "\n",
    "def train(model, train_dataset, batch_size=512, epochs=10, learning_rate=0.01, skip_prop=0.0):\n",
    "  model.train()   # switch to train mode\n",
    "  train_dataloader = torch.utils.data.DataLoader(train_dataset, batch_size, shuffle=True)\n",
    "  criterion = nn.CrossEntropyLoss()\n",
    "  optimizer = torch.optim.Adam(model.parameters(), learning_rate)\n",
    "  use_cuda = torch.cuda.is_available()\n",
    "  device = torch.device(\"cuda:0\" if use_cuda else \"cpu\")\n",
    "  if use_cuda:\n",
    "    model = model.to(device)\n",
    "    criterion = criterion.cuda(device)\n",
    "    pass\n",
    "\n",
    "  for epoch_num in range(epochs):\n",
    "    total_acc_train = 0\n",
    "    total_loss_train = 0\n",
    "  \n",
    "    for train_input, train_label in tqdm(train_dataloader):\n",
    "      if skip_prop > random.random():\n",
    "        continue    # skip this batch\n",
    "      train_input = train_input.to(device)\n",
    "      train_label = train_label.to(device)\n",
    "      output = model.forward(train_input)\n",
    "      batch_loss = criterion(output.view(-1, output.shape[-1]), train_label.view(-1))\n",
    "      total_loss_train += batch_loss\n",
    "      acc = (torch.argmax(output, dim=-1) == train_label).sum().item()\n",
    "      total_acc_train += acc\n",
    "      optimizer.zero_grad()\n",
    "      batch_loss.backward()\n",
    "      optimizer.step()\n",
    "      \n",
    "    epoch_loss = total_loss_train / len(train_dataset)\n",
    "  \n",
    "    sample_count = len(train_dataset)\n",
    "    seq_length = train_dataset[0][0].shape[0]\n",
    "    epoch_acc = total_acc_train / (sample_count * seq_length)\n",
    "  \n",
    "  \n",
    "    print(\n",
    "        f'Epochs: {epoch_num + 1} | Train Loss: {epoch_loss} \\\n",
    "        | Train Accuracy: {epoch_acc}\\n')"
   ],
   "outputs": [],
   "execution_count": null
  },
  {
   "cell_type": "code",
   "metadata": {
    "id": "3BI7_ANkLf7G"
   },
   "source": [
    "train_dataset = NERDataset(t_sentences, t_labels, vocab['<pad>'], tags[\"NONE\"])\n",
    "val_dataset = NERDataset(dev_sentences, dev_labels, vocab['<pad>'], tags[\"NONE\"])\n",
    "test_dataset = NERDataset(test_sentences, test_labels, vocab['<pad>'], tags[\"NONE\"])"
   ],
   "outputs": [],
   "execution_count": null
  },
  {
   "metadata": {},
   "cell_type": "code",
   "source": [
    "model = NER(embedding_dim=95, hidden_size=200, n_classes=len(tags), vocab_size=len(vocab), num_layers=2, dropout=0.5)\n",
    "print(model)"
   ],
   "outputs": [],
   "execution_count": null
  },
  {
   "metadata": {
    "jupyter": {
     "is_executing": true
    }
   },
   "cell_type": "code",
   "source": [
    "model = model.to(torch.device(\"cuda:0\"))\n",
    "train(model, train_dataset, epochs=10, batch_size=512, skip_prop=0.9)\n",
    "train(model, val_dataset, epochs=15, batch_size=32)\n",
    "train(model, test_dataset, epochs=15, batch_size=32)"
   ],
   "outputs": [
    {
     "name": "stderr",
     "output_type": "stream",
     "text": [
      " 26%|██▋       | 3570/13575 [00:27<01:01, 162.36it/s]"
     ]
    }
   ],
   "execution_count": null
  },
  {
   "metadata": {},
   "cell_type": "code",
   "source": [
    "# train(model, val_dataset, epochs=10, batch_size=32)\n",
    "# train(model, test_dataset, epochs=10, batch_size=16)"
   ],
   "outputs": [],
   "execution_count": null
  },
  {
   "cell_type": "code",
   "metadata": {
    "id": "Gz5mxUAJM1xS"
   },
   "source": [
    "def evaluate(model, test_dataset, batch_size=64):\n",
    "  test_dataloader = torch.utils.data.DataLoader(test_dataset, batch_size,shuffle=False)\n",
    "  use_cuda = torch.cuda.is_available()\n",
    "  device = torch.device(\"cuda\" if use_cuda else \"cpu\")\n",
    "  if use_cuda:\n",
    "    model = model.cuda()\n",
    "\n",
    "  total_acc_test = 0\n",
    "  \n",
    "  with torch.no_grad():\n",
    "    for test_input, test_label in tqdm(test_dataloader):\n",
    "      test_input = test_input.to(device)\n",
    "      test_label = test_label.to(device)\n",
    "      output = model.forward(test_input)\n",
    "\n",
    "      # Check if entire sequence matches by comparing all positions\n",
    "      sequence_matches = (torch.argmax(output, dim=-1) == test_label).all(dim=-1)\n",
    "      acc = sequence_matches.sum().item()\n",
    "      total_acc_test += acc\n",
    "    \n",
    "    total_acc_test /= len(test_dataset)\n",
    "  print(f'\\nTest Accuracy: {total_acc_test}')"
   ],
   "outputs": [],
   "execution_count": null
  },
  {
   "cell_type": "code",
   "metadata": {
    "colab": {
     "base_uri": "https://localhost:8080/"
    },
    "id": "6FD8JNcHWmMY",
    "outputId": "b4916766-dd57-4716-db7f-90c6d46655fa"
   },
   "source": [
    "model.eval()\n",
    "evaluate(model, test_dataset)\n",
    "evaluate(model, val_dataset)"
   ],
   "outputs": [],
   "execution_count": null
  },
  {
   "metadata": {},
   "cell_type": "code",
   "source": [
    "inv_order_tags = {}\n",
    "for tag, value in tags.items():\n",
    "  inv_order_tags[value] = tag\n",
    "\n",
    "from utils import tokenize, preprocess_tokens, project_tokens \n",
    "def test_sample(sample, model):\n",
    "  s = tokenize(sample)\n",
    "  s = preprocess_tokens(s)\n",
    "  print(s)\n",
    "  s = project_tokens(s, vocab)\n",
    "  x_tensor = torch.tensor(s)\n",
    "  device = torch.device(\"cuda:0\")\n",
    "  with torch.no_grad():\n",
    "    output = model.forward(x_tensor.to(device))\n",
    "    output = torch.argmax(output, dim=-1).to(\"cpu\")\n",
    "    print([inv_order_tags[x.item()] for x in output])"
   ],
   "execution_count": null,
   "outputs": []
  },
  {
   "metadata": {
    "jupyter": {
     "is_executing": true
    }
   },
   "cell_type": "code",
   "source": [
    "model.eval()\n",
    "model = model.to(torch.device(\"cuda:0\"))\n",
    "test_sample(\"I'd like to order two pizza and four drinks please also add 10 peperoni pizzas also a peperoni pie with no chess\", model)"
   ],
   "outputs": [],
   "execution_count": null
  },
  {
   "metadata": {},
   "cell_type": "code",
   "source": [
    "from model_io import save_model_state\n",
    "\n",
    "save_model_state(model, \"models/order_boundary_e95_h300_l2_d0.5_rg0_x83.7.pth\")\n",
    "model.to(torch.device(\"cuda:0\"))"
   ],
   "outputs": [],
   "execution_count": null
  },
  {
   "metadata": {},
   "cell_type": "code",
   "source": [
    "from model_io import load_model_state\n",
    "\n",
    "model_load_test = NER(\n",
    "  embedding_dim=95, hidden_size=600, n_classes=len(tags), vocab_size=len(vocab), num_layers=2, dropout=0.5\n",
    ")\n",
    "\n",
    "load_model_state(model_load_test, \"models/complex_e95_h600_l2_d0.5_cv0_x1.pth\")\n",
    "model_load_test.to(torch.device(\"cuda:0\"))\n",
    "model_load_test.eval()\n",
    "test_sample(\"extra love\", model_load_test)"
   ],
   "outputs": [],
   "execution_count": null
  },
  {
   "metadata": {},
   "cell_type": "code",
   "source": "",
   "outputs": [],
   "execution_count": null
  }
 ],
 "metadata": {
  "accelerator": "GPU",
  "colab": {
   "provenance": []
  },
  "gpuClass": "standard",
  "kernelspec": {
   "display_name": "Python 3",
   "language": "python",
   "name": "python3"
  },
  "language_info": {
   "codemirror_mode": {
    "name": "ipython",
    "version": 3
   },
   "file_extension": ".py",
   "mimetype": "text/x-python",
   "name": "python",
   "nbconvert_exporter": "python",
   "pygments_lexer": "ipython3",
   "version": "3.12.6"
  }
 },
 "nbformat": 4,
 "nbformat_minor": 1
}
