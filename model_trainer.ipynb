{
 "cells": [
  {
   "cell_type": "code",
   "metadata": {
    "id": "WR6a6DkN0d-3",
    "ExecuteTime": {
     "end_time": "2024-12-20T12:40:31.523966Z",
     "start_time": "2024-12-20T12:40:27.979191Z"
    }
   },
   "source": [
    "from tqdm import tqdm\n",
    "import torch\n",
    "from torch import nn\n",
    "from utils import load_data_file, orders_balancer, pizza_orders_balancer, randomizer_balancer\n",
    "import pickle"
   ],
   "outputs": [
    {
     "name": "stderr",
     "output_type": "stream",
     "text": [
      "[nltk_data] Downloading package punkt to\n",
      "[nltk_data]     C:\\Users\\xAbdoMo\\AppData\\Roaming\\nltk_data...\n",
      "[nltk_data]   Package punkt is already up-to-date!\n"
     ]
    }
   ],
   "execution_count": 1
  },
  {
   "cell_type": "code",
   "metadata": {
    "id": "ulSik2Sv1p1G",
    "ExecuteTime": {
     "end_time": "2024-12-20T12:40:33.701501Z",
     "start_time": "2024-12-20T12:40:33.685125Z"
    }
   },
   "source": [
    "vocab = pickle.load(open('data/vocab.pkl', 'rb'))\n",
    "\n",
    "input_name = \"orders\"\n",
    "labels_name = \"orders_labels\"\n",
    "\n",
    "tags = pickle.load(open(f'data/tags_{input_name}.pkl', 'rb'))\n",
    "\n",
    "print(len(vocab), len(tags))"
   ],
   "outputs": [
    {
     "name": "stdout",
     "output_type": "stream",
     "text": [
      "678 5\n"
     ]
    }
   ],
   "execution_count": 2
  },
  {
   "cell_type": "code",
   "metadata": {
    "colab": {
     "base_uri": "https://localhost:8080/"
    },
    "id": "PagjN4rl22Fr",
    "outputId": "f65e741a-74e1-45f6-8361-58a0ce4cc818",
    "ExecuteTime": {
     "end_time": "2024-12-20T12:59:32.880931Z",
     "start_time": "2024-12-20T12:40:39.531837Z"
    }
   },
   "source": [
    "t_sentences, t_labels, t_size = load_data_file(vocab, tags, f'processed_input/train_{input_name}.txt', f'processed_input/train_{labels_name}.txt', orders_balancer)\n",
    "dev_sentences, dev_labels, dev_size =  load_data_file(vocab, tags, f'processed_input/dev_{input_name}.txt', f'processed_input/dev_{labels_name}.txt', orders_balancer)\n",
    "test_sentences, test_labels, test_size =  load_data_file(vocab, tags, f'processed_input/test_{input_name}.txt', f'processed_input/test_{labels_name}.txt', orders_balancer)"
   ],
   "outputs": [
    {
     "name": "stderr",
     "output_type": "stream",
     "text": [
      "Sentences loader: 100%|██████████| 2456446/2456446 [00:31<00:00, 79052.77it/s] \n",
      "Labels loader: 100%|██████████| 2456446/2456446 [00:05<00:00, 423816.69it/s]\n",
      "Group tokens and labels: 100%|██████████| 2456446/2456446 [01:07<00:00, 36405.41it/s]\n",
      "Order balancer - preload: 2456446it [00:02, 839174.55it/s] \n",
      "Order balancer - finalize: 100%|██████████| 6950148/6950148 [01:06<00:00, 103795.40it/s]\n",
      "UnGroup tokens and labels: 6950148it [00:39, 176385.90it/s]\n",
      "Projector: 100%|██████████| 6950148/6950148 [14:35<00:00, 7933.99it/s] \n",
      "Sentences loader: 100%|██████████| 348/348 [00:00<00:00, 30230.47it/s]\n",
      "Labels loader: 100%|██████████| 348/348 [00:00<00:00, 138654.68it/s]\n",
      "Group tokens and labels: 100%|██████████| 348/348 [00:00<00:00, 31076.19it/s]\n",
      "Order balancer - preload: 348it [00:00, 348025.22it/s]\n",
      "Order balancer - finalize: 100%|██████████| 1214/1214 [00:00<00:00, 173683.70it/s]\n",
      "UnGroup tokens and labels: 1214it [00:00, 165611.30it/s]\n",
      "Projector: 100%|██████████| 1214/1214 [00:00<00:00, 7255.79it/s]\n",
      "Sentences loader: 100%|██████████| 1357/1357 [00:00<00:00, 74900.26it/s]\n",
      "Labels loader: 100%|██████████| 1357/1357 [00:00<00:00, 452834.00it/s]\n",
      "Group tokens and labels: 100%|██████████| 1357/1357 [00:00<00:00, 37531.13it/s]\n",
      "Order balancer - preload: 1357it [00:00, ?it/s]\n",
      "Order balancer - finalize: 100%|██████████| 4678/4678 [00:00<00:00, 368475.54it/s]\n",
      "UnGroup tokens and labels: 4678it [00:00, 275629.39it/s]\n",
      "Projector: 100%|██████████| 4678/4678 [00:00<00:00, 7427.67it/s]\n"
     ]
    }
   ],
   "execution_count": 3
  },
  {
   "cell_type": "code",
   "metadata": {
    "colab": {
     "base_uri": "https://localhost:8080/"
    },
    "id": "oWLR2Oxp28K6",
    "outputId": "3b13ca97-f85c-42ca-b84a-bcca9868137c",
    "ExecuteTime": {
     "end_time": "2024-12-20T12:59:32.926976Z",
     "start_time": "2024-12-20T12:59:32.905746Z"
    }
   },
   "source": [
    "print('The training size is', t_size)\n",
    "print('The validation size is', dev_size)\n",
    "print('The testing size is', test_size)"
   ],
   "outputs": [
    {
     "name": "stdout",
     "output_type": "stream",
     "text": [
      "The training size is 6950148\n",
      "The validation size is 1214\n",
      "The testing size is 4678\n"
     ]
    }
   ],
   "execution_count": 4
  },
  {
   "cell_type": "code",
   "metadata": {
    "id": "xHeJcz1JuhYa",
    "ExecuteTime": {
     "end_time": "2024-12-20T12:59:32.968206Z",
     "start_time": "2024-12-20T12:59:32.927981Z"
    }
   },
   "source": "from ner import NER, NERDataset",
   "outputs": [],
   "execution_count": 5
  },
  {
   "cell_type": "code",
   "metadata": {
    "id": "-yvaq8i2CCLD",
    "ExecuteTime": {
     "end_time": "2024-12-20T12:59:32.989266Z",
     "start_time": "2024-12-20T12:59:32.970212Z"
    }
   },
   "source": [
    "import random\n",
    "\n",
    "\n",
    "def train(model, train_dataset, batch_size=512, epochs=10, learning_rate=0.01, skip_prop=0.0):\n",
    "  model.train()   # switch to train mode\n",
    "  train_dataloader = torch.utils.data.DataLoader(train_dataset, batch_size, shuffle=True)\n",
    "  criterion = nn.CrossEntropyLoss()\n",
    "  optimizer = torch.optim.Adam(model.parameters(), learning_rate)\n",
    "  use_cuda = torch.cuda.is_available()\n",
    "  device = torch.device(\"cuda:0\" if use_cuda else \"cpu\")\n",
    "  if use_cuda:\n",
    "    model = model.to(device)\n",
    "    criterion = criterion.cuda(device)\n",
    "    pass\n",
    "\n",
    "  for epoch_num in range(epochs):\n",
    "    total_acc_train = 0\n",
    "    total_loss_train = 0\n",
    "  \n",
    "    for train_input, train_label in tqdm(train_dataloader):\n",
    "      if skip_prop > random.random():\n",
    "        continue    # skip this batch\n",
    "      train_input = train_input.to(device)\n",
    "      train_label = train_label.to(device)\n",
    "      output = model.forward(train_input)\n",
    "      batch_loss = criterion(output.view(-1, output.shape[-1]), train_label.view(-1))\n",
    "      total_loss_train += batch_loss\n",
    "      acc = (torch.argmax(output, dim=-1) == train_label).sum().item()\n",
    "      total_acc_train += acc\n",
    "      optimizer.zero_grad()\n",
    "      batch_loss.backward()\n",
    "      optimizer.step()\n",
    "      \n",
    "    epoch_loss = total_loss_train / len(train_dataset)\n",
    "  \n",
    "    sample_count = len(train_dataset)\n",
    "    seq_length = train_dataset[0][0].shape[0]\n",
    "    epoch_acc = total_acc_train / (sample_count * seq_length)\n",
    "  \n",
    "  \n",
    "    print(\n",
    "        f'Epochs: {epoch_num + 1} | Train Loss: {epoch_loss} \\\n",
    "        | Train Accuracy: {epoch_acc}\\n')"
   ],
   "outputs": [],
   "execution_count": 6
  },
  {
   "cell_type": "code",
   "metadata": {
    "id": "3BI7_ANkLf7G",
    "ExecuteTime": {
     "end_time": "2024-12-20T13:00:48.808549Z",
     "start_time": "2024-12-20T12:59:32.989266Z"
    }
   },
   "source": [
    "train_dataset = NERDataset(t_sentences, t_labels, vocab['<pad>'], tags[\"NONE\"])\n",
    "val_dataset = NERDataset(dev_sentences, dev_labels, vocab['<pad>'], tags[\"NONE\"])\n",
    "test_dataset = NERDataset(test_sentences, test_labels, vocab['<pad>'], tags[\"NONE\"])"
   ],
   "outputs": [],
   "execution_count": 7
  },
  {
   "metadata": {
    "ExecuteTime": {
     "end_time": "2024-12-20T13:42:13.567342Z",
     "start_time": "2024-12-20T13:42:13.553612Z"
    }
   },
   "cell_type": "code",
   "source": [
    "model = NER(embedding_dim=95, hidden_size=400, n_classes=len(tags), vocab_size=len(vocab), num_layers=2, dropout=0.5)\n",
    "print(model)"
   ],
   "outputs": [
    {
     "name": "stdout",
     "output_type": "stream",
     "text": [
      "NER(\n",
      "  (embedding): Embedding(678, 95)\n",
      "  (dropout): Dropout(p=0.5, inplace=False)\n",
      "  (lstm): LSTM(95, 200, num_layers=2, batch_first=True, dropout=0.5, bidirectional=True)\n",
      "  (linear): Linear(in_features=400, out_features=5, bias=True)\n",
      ")\n"
     ]
    }
   ],
   "execution_count": 22
  },
  {
   "metadata": {
    "jupyter": {
     "is_executing": true
    },
    "ExecuteTime": {
     "start_time": "2024-12-20T13:42:14.995095Z"
    }
   },
   "cell_type": "code",
   "source": [
    "model = model.to(torch.device(\"cuda:0\"))\n",
    "train(model, train_dataset, epochs=10, batch_size=512, skip_prop=0.9)\n",
    "train(model, val_dataset, epochs=15, batch_size=32)\n",
    "train(model, test_dataset, epochs=15, batch_size=32)"
   ],
   "outputs": [
    {
     "name": "stderr",
     "output_type": "stream",
     "text": [
      "100%|██████████| 13575/13575 [03:25<00:00, 65.93it/s] \n"
     ]
    },
    {
     "name": "stdout",
     "output_type": "stream",
     "text": [
      "Epochs: 1 | Train Loss: 1.9072357417826424e-06         | Train Accuracy: 0.09369917302480466\n",
      "\n"
     ]
    },
    {
     "name": "stderr",
     "output_type": "stream",
     "text": [
      "100%|██████████| 13575/13575 [02:38<00:00, 85.89it/s] \n"
     ]
    },
    {
     "name": "stdout",
     "output_type": "stream",
     "text": [
      "Epochs: 2 | Train Loss: 3.6042004580849607e-07         | Train Accuracy: 0.10248525355143516\n",
      "\n"
     ]
    },
    {
     "name": "stderr",
     "output_type": "stream",
     "text": [
      " 55%|█████▍    | 7400/13575 [01:29<01:24, 72.91it/s] "
     ]
    }
   ],
   "execution_count": null
  },
  {
   "metadata": {
    "ExecuteTime": {
     "end_time": "2024-12-20T13:41:09.944385Z",
     "start_time": "2024-12-20T13:40:22.439583Z"
    }
   },
   "cell_type": "code",
   "source": [
    "# train(model, val_dataset, epochs=10, batch_size=32)\n",
    "# train(model, test_dataset, epochs=10, batch_size=16)"
   ],
   "outputs": [
    {
     "name": "stderr",
     "output_type": "stream",
     "text": [
      "100%|██████████| 38/38 [00:00<00:00, 65.07it/s]\n"
     ]
    },
    {
     "name": "stdout",
     "output_type": "stream",
     "text": [
      "Epochs: 1 | Train Loss: 0.00173646688926965         | Train Accuracy: 0.9822275473016824\n",
      "\n"
     ]
    },
    {
     "name": "stderr",
     "output_type": "stream",
     "text": [
      "100%|██████████| 38/38 [00:00<00:00, 73.57it/s]\n"
     ]
    },
    {
     "name": "stdout",
     "output_type": "stream",
     "text": [
      "Epochs: 2 | Train Loss: 0.001637222827412188         | Train Accuracy: 0.9837002645898857\n",
      "\n"
     ]
    },
    {
     "name": "stderr",
     "output_type": "stream",
     "text": [
      "100%|██████████| 38/38 [00:00<00:00, 75.32it/s]\n"
     ]
    },
    {
     "name": "stdout",
     "output_type": "stream",
     "text": [
      "Epochs: 3 | Train Loss: 0.0015276501653715968         | Train Accuracy: 0.9841745294793071\n",
      "\n"
     ]
    },
    {
     "name": "stderr",
     "output_type": "stream",
     "text": [
      "100%|██████████| 38/38 [00:00<00:00, 72.26it/s]\n"
     ]
    },
    {
     "name": "stdout",
     "output_type": "stream",
     "text": [
      "Epochs: 4 | Train Loss: 0.0013340378645807505         | Train Accuracy: 0.985946782487145\n",
      "\n"
     ]
    },
    {
     "name": "stderr",
     "output_type": "stream",
     "text": [
      "100%|██████████| 38/38 [00:00<00:00, 77.87it/s]\n"
     ]
    },
    {
     "name": "stdout",
     "output_type": "stream",
     "text": [
      "Epochs: 5 | Train Loss: 0.001319974777288735         | Train Accuracy: 0.9862712795167491\n",
      "\n"
     ]
    },
    {
     "name": "stderr",
     "output_type": "stream",
     "text": [
      "100%|██████████| 38/38 [00:00<00:00, 70.23it/s]\n"
     ]
    },
    {
     "name": "stdout",
     "output_type": "stream",
     "text": [
      "Epochs: 6 | Train Loss: 0.001308902632445097         | Train Accuracy: 0.9859218211771754\n",
      "\n"
     ]
    },
    {
     "name": "stderr",
     "output_type": "stream",
     "text": [
      "100%|██████████| 38/38 [00:00<00:00, 77.43it/s]\n"
     ]
    },
    {
     "name": "stdout",
     "output_type": "stream",
     "text": [
      "Epochs: 7 | Train Loss: 0.0011909209424629807         | Train Accuracy: 0.9872697319155309\n",
      "\n"
     ]
    },
    {
     "name": "stderr",
     "output_type": "stream",
     "text": [
      "100%|██████████| 38/38 [00:00<00:00, 77.89it/s]\n"
     ]
    },
    {
     "name": "stdout",
     "output_type": "stream",
     "text": [
      "Epochs: 8 | Train Loss: 0.0012863392475992441         | Train Accuracy: 0.985946782487145\n",
      "\n"
     ]
    },
    {
     "name": "stderr",
     "output_type": "stream",
     "text": [
      "100%|██████████| 38/38 [00:00<00:00, 77.13it/s]\n"
     ]
    },
    {
     "name": "stdout",
     "output_type": "stream",
     "text": [
      "Epochs: 9 | Train Loss: 0.0012899547582492232         | Train Accuracy: 0.9862962408267186\n",
      "\n"
     ]
    },
    {
     "name": "stderr",
     "output_type": "stream",
     "text": [
      "100%|██████████| 38/38 [00:00<00:00, 74.02it/s]\n"
     ]
    },
    {
     "name": "stdout",
     "output_type": "stream",
     "text": [
      "Epochs: 10 | Train Loss: 0.0011822456726804376         | Train Accuracy: 0.9876191902551046\n",
      "\n"
     ]
    },
    {
     "name": "stderr",
     "output_type": "stream",
     "text": [
      "100%|██████████| 293/293 [00:03<00:00, 75.94it/s]\n"
     ]
    },
    {
     "name": "stdout",
     "output_type": "stream",
     "text": [
      "Epochs: 1 | Train Loss: 0.0033554816618561745         | Train Accuracy: 0.9835016059898488\n",
      "\n"
     ]
    },
    {
     "name": "stderr",
     "output_type": "stream",
     "text": [
      "100%|██████████| 293/293 [00:03<00:00, 76.17it/s]\n"
     ]
    },
    {
     "name": "stdout",
     "output_type": "stream",
     "text": [
      "Epochs: 2 | Train Loss: 0.0036906879395246506         | Train Accuracy: 0.9810843994255709\n",
      "\n"
     ]
    },
    {
     "name": "stderr",
     "output_type": "stream",
     "text": [
      "100%|██████████| 293/293 [00:03<00:00, 73.56it/s]\n"
     ]
    },
    {
     "name": "stdout",
     "output_type": "stream",
     "text": [
      "Epochs: 3 | Train Loss: 0.0038934459444135427         | Train Accuracy: 0.9798620931583736\n",
      "\n"
     ]
    },
    {
     "name": "stderr",
     "output_type": "stream",
     "text": [
      "100%|██████████| 293/293 [00:03<00:00, 75.72it/s]\n"
     ]
    },
    {
     "name": "stdout",
     "output_type": "stream",
     "text": [
      "Epochs: 4 | Train Loss: 0.004223140887916088         | Train Accuracy: 0.978436982712314\n",
      "\n"
     ]
    },
    {
     "name": "stderr",
     "output_type": "stream",
     "text": [
      "100%|██████████| 293/293 [00:04<00:00, 73.12it/s]\n"
     ]
    },
    {
     "name": "stdout",
     "output_type": "stream",
     "text": [
      "Epochs: 5 | Train Loss: 0.004465234465897083         | Train Accuracy: 0.9767816621172756\n",
      "\n"
     ]
    },
    {
     "name": "stderr",
     "output_type": "stream",
     "text": [
      "100%|██████████| 293/293 [00:03<00:00, 76.08it/s]\n"
     ]
    },
    {
     "name": "stdout",
     "output_type": "stream",
     "text": [
      "Epochs: 6 | Train Loss: 0.0051994649693369865         | Train Accuracy: 0.9729119391368216\n",
      "\n"
     ]
    },
    {
     "name": "stderr",
     "output_type": "stream",
     "text": [
      "100%|██████████| 293/293 [00:04<00:00, 66.53it/s]\n"
     ]
    },
    {
     "name": "stdout",
     "output_type": "stream",
     "text": [
      "Epochs: 7 | Train Loss: 0.005260578356683254         | Train Accuracy: 0.9727475033161224\n",
      "\n"
     ]
    },
    {
     "name": "stderr",
     "output_type": "stream",
     "text": [
      "100%|██████████| 293/293 [00:05<00:00, 52.03it/s]\n"
     ]
    },
    {
     "name": "stdout",
     "output_type": "stream",
     "text": [
      "Epochs: 8 | Train Loss: 0.005705736577510834         | Train Accuracy: 0.9696725534690477\n",
      "\n"
     ]
    },
    {
     "name": "stderr",
     "output_type": "stream",
     "text": [
      "100%|██████████| 293/293 [00:04<00:00, 59.56it/s]\n"
     ]
    },
    {
     "name": "stdout",
     "output_type": "stream",
     "text": [
      "Epochs: 9 | Train Loss: 0.005961867049336433         | Train Accuracy: 0.9679788645158461\n",
      "\n"
     ]
    },
    {
     "name": "stderr",
     "output_type": "stream",
     "text": [
      "100%|██████████| 293/293 [00:03<00:00, 74.99it/s]"
     ]
    },
    {
     "name": "stdout",
     "output_type": "stream",
     "text": [
      "Epochs: 10 | Train Loss: 0.006278303451836109         | Train Accuracy: 0.9664879797415069\n",
      "\n"
     ]
    },
    {
     "name": "stderr",
     "output_type": "stream",
     "text": [
      "\n"
     ]
    }
   ],
   "execution_count": 18
  },
  {
   "cell_type": "code",
   "metadata": {
    "id": "Gz5mxUAJM1xS",
    "ExecuteTime": {
     "end_time": "2024-12-20T13:34:39.512207Z",
     "start_time": "2024-12-20T13:34:39.484567Z"
    }
   },
   "source": [
    "def evaluate(model, test_dataset, batch_size=64):\n",
    "  test_dataloader = torch.utils.data.DataLoader(test_dataset, batch_size,shuffle=False)\n",
    "  use_cuda = torch.cuda.is_available()\n",
    "  device = torch.device(\"cuda\" if use_cuda else \"cpu\")\n",
    "  if use_cuda:\n",
    "    model = model.cuda()\n",
    "\n",
    "  total_acc_test = 0\n",
    "  \n",
    "  with torch.no_grad():\n",
    "    for test_input, test_label in tqdm(test_dataloader):\n",
    "      test_input = test_input.to(device)\n",
    "      test_label = test_label.to(device)\n",
    "      output = model.forward(test_input)\n",
    "\n",
    "      # Check if entire sequence matches by comparing all positions\n",
    "      sequence_matches = (torch.argmax(output, dim=-1) == test_label).all(dim=-1)\n",
    "      acc = sequence_matches.sum().item()\n",
    "      total_acc_test += acc\n",
    "    \n",
    "    total_acc_test /= len(test_dataset)\n",
    "  print(f'\\nTest Accuracy: {total_acc_test}')"
   ],
   "outputs": [],
   "execution_count": 10
  },
  {
   "cell_type": "code",
   "metadata": {
    "colab": {
     "base_uri": "https://localhost:8080/"
    },
    "id": "6FD8JNcHWmMY",
    "outputId": "b4916766-dd57-4716-db7f-90c6d46655fa",
    "ExecuteTime": {
     "end_time": "2024-12-20T13:41:12.994276Z",
     "start_time": "2024-12-20T13:41:12.412294Z"
    }
   },
   "source": [
    "model.eval()\n",
    "evaluate(model, test_dataset)\n",
    "evaluate(model, val_dataset)"
   ],
   "outputs": [
    {
     "name": "stderr",
     "output_type": "stream",
     "text": [
      "100%|██████████| 74/74 [00:00<00:00, 156.67it/s]\n"
     ]
    },
    {
     "name": "stdout",
     "output_type": "stream",
     "text": [
      "\n",
      "Test Accuracy: 0.6633176571184267\n"
     ]
    },
    {
     "name": "stderr",
     "output_type": "stream",
     "text": [
      "100%|██████████| 19/19 [00:00<00:00, 193.04it/s]"
     ]
    },
    {
     "name": "stdout",
     "output_type": "stream",
     "text": [
      "\n",
      "Test Accuracy: 0.6359143327841845\n"
     ]
    },
    {
     "name": "stderr",
     "output_type": "stream",
     "text": [
      "\n"
     ]
    }
   ],
   "execution_count": 19
  },
  {
   "metadata": {
    "ExecuteTime": {
     "end_time": "2024-12-20T13:35:47.671489Z",
     "start_time": "2024-12-20T13:35:47.666787Z"
    }
   },
   "cell_type": "code",
   "source": [
    "inv_order_tags = {}\n",
    "for tag, value in tags.items():\n",
    "  inv_order_tags[value] = tag\n",
    "\n",
    "from utils import tokenize, preprocess_tokens, project_tokens \n",
    "def test_sample(sample, model):\n",
    "  s = tokenize(sample)\n",
    "  s = preprocess_tokens(s)\n",
    "  print(s)\n",
    "  s = project_tokens(s, vocab)\n",
    "  x_tensor = torch.tensor(s)\n",
    "  device = torch.device(\"cuda:0\")\n",
    "  with torch.no_grad():\n",
    "    output = model.forward(x_tensor.to(device))\n",
    "    output = torch.argmax(output, dim=-1).to(\"cpu\")\n",
    "    print([inv_order_tags[x.item()] for x in output])"
   ],
   "execution_count": 14,
   "outputs": []
  },
  {
   "metadata": {
    "jupyter": {
     "is_executing": true
    }
   },
   "cell_type": "code",
   "source": [
    "model.eval()\n",
    "model = model.to(torch.device(\"cuda:0\"))\n",
    "test_sample(\"I'd like to order two pizza and four drinks please also add 10 peperoni pizzas also a peperoni pie with no chess\", model)"
   ],
   "outputs": [],
   "execution_count": null
  },
  {
   "metadata": {
    "ExecuteTime": {
     "end_time": "2024-12-20T13:40:09.351022Z",
     "start_time": "2024-12-20T13:40:09.268815Z"
    }
   },
   "cell_type": "code",
   "source": [
    "from model_io import save_model_state\n",
    "\n",
    "save_model_state(model, \"models/order_boundary_e95_h300_l2_d0.5_rg0_x83.7.pth\")\n",
    "model.to(torch.device(\"cuda:0\"))"
   ],
   "outputs": [
    {
     "data": {
      "text/plain": [
       "NER(\n",
       "  (embedding): Embedding(678, 95)\n",
       "  (dropout): Dropout(p=0.5, inplace=False)\n",
       "  (lstm): LSTM(95, 300, num_layers=2, batch_first=True, dropout=0.5, bidirectional=True)\n",
       "  (linear): Linear(in_features=600, out_features=5, bias=True)\n",
       ")"
      ]
     },
     "execution_count": 17,
     "metadata": {},
     "output_type": "execute_result"
    }
   ],
   "execution_count": 17
  },
  {
   "metadata": {
    "ExecuteTime": {
     "end_time": "2024-12-20T08:13:43.905920Z",
     "start_time": "2024-12-20T08:13:43.813376Z"
    }
   },
   "cell_type": "code",
   "source": [
    "from model_io import load_model_state\n",
    "\n",
    "model_load_test = NER(\n",
    "  embedding_dim=95, hidden_size=600, n_classes=len(tags), vocab_size=len(vocab), num_layers=2, dropout=0.5\n",
    ")\n",
    "\n",
    "load_model_state(model_load_test, \"models/complex_e95_h600_l2_d0.5_cv0_x1.pth\")\n",
    "model_load_test.to(torch.device(\"cuda:0\"))\n",
    "model_load_test.eval()\n",
    "test_sample(\"extra love\", model_load_test)"
   ],
   "outputs": [
    {
     "name": "stdout",
     "output_type": "stream",
     "text": [
      "['extra', 'love']\n",
      "['QUANTITY_S', 'NONE']\n"
     ]
    },
    {
     "name": "stderr",
     "output_type": "stream",
     "text": [
      "C:\\Users\\xAbdoMo\\Desktop\\Uni\\Projects\\Pizzaria\\model_io.py:38: FutureWarning: You are using `torch.load` with `weights_only=False` (the current default value), which uses the default pickle module implicitly. It is possible to construct malicious pickle data which will execute arbitrary code during unpickling (See https://github.com/pytorch/pytorch/blob/main/SECURITY.md#untrusted-models for more details). In a future release, the default value for `weights_only` will be flipped to `True`. This limits the functions that could be executed during unpickling. Arbitrary objects will no longer be allowed to be loaded via this mode unless they are explicitly allowlisted by the user via `torch.serialization.add_safe_globals`. We recommend you start setting `weights_only=True` for any use case where you don't have full control of the loaded file. Please open an issue on GitHub for any issues related to this experimental feature.\n",
      "  state_dict = torch.load(path, device)\n"
     ]
    }
   ],
   "execution_count": 22
  },
  {
   "metadata": {},
   "cell_type": "code",
   "outputs": [],
   "execution_count": null,
   "source": ""
  }
 ],
 "metadata": {
  "accelerator": "GPU",
  "colab": {
   "provenance": []
  },
  "gpuClass": "standard",
  "kernelspec": {
   "display_name": "Python 3",
   "language": "python",
   "name": "python3"
  },
  "language_info": {
   "codemirror_mode": {
    "name": "ipython",
    "version": 3
   },
   "file_extension": ".py",
   "mimetype": "text/x-python",
   "name": "python",
   "nbconvert_exporter": "python",
   "pygments_lexer": "ipython3",
   "version": "3.12.6"
  }
 },
 "nbformat": 4,
 "nbformat_minor": 1
}
