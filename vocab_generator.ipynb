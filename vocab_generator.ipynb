{
 "cells": [
  {
   "cell_type": "code",
   "id": "initial_id",
   "metadata": {
    "collapsed": true,
    "ExecuteTime": {
     "end_time": "2024-12-20T12:40:14.055942Z",
     "start_time": "2024-12-20T12:40:11.947297Z"
    }
   },
   "source": [
    "from utils import get_vocab, get_tags\n",
    "import pickle"
   ],
   "outputs": [
    {
     "name": "stderr",
     "output_type": "stream",
     "text": [
      "[nltk_data] Downloading package punkt to\n",
      "[nltk_data]     C:\\Users\\xAbdoMo\\AppData\\Roaming\\nltk_data...\n",
      "[nltk_data]   Package punkt is already up-to-date!\n"
     ]
    }
   ],
   "execution_count": 1
  },
  {
   "metadata": {
    "ExecuteTime": {
     "end_time": "2024-12-20T12:40:18.891258Z",
     "start_time": "2024-12-20T12:40:18.813932Z"
    }
   },
   "cell_type": "code",
   "source": [
    "vocab = get_vocab(['processed_input/train_vocab.txt', 'processed_input/dev_vocab.txt', 'processed_input/test_vocab.txt'])\n",
    "tags_ct  = get_tags('processed_input/train_complex_topping_tags.txt')  # Complex Topping tags\n",
    "tags_pz  = get_tags('processed_input/train_pizza_orders_tags.txt')     # Pizza orders tags\n",
    "tags_dr  = get_tags('processed_input/train_drink_orders_tags.txt')     # Drink orders tags\n",
    "tags_ob  = get_tags('processed_input/train_orders_tags.txt')           # Order boundary tags\n",
    "\n",
    "pickle.dump(vocab, open('data/vocab.pkl', 'wb'))\n",
    "pickle.dump(tags_ct, open('data/tags_complex_topping.pkl', 'wb'))\n",
    "pickle.dump(tags_pz, open('data/tags_pizza_orders.pkl', 'wb'))\n",
    "pickle.dump(tags_dr, open('data/tags_drink_orders.pkl', 'wb'))\n",
    "pickle.dump(tags_ob, open('data/tags_orders.pkl', 'wb'))"
   ],
   "id": "eb441368870283fc",
   "outputs": [],
   "execution_count": 2
  },
  {
   "metadata": {},
   "cell_type": "code",
   "outputs": [],
   "execution_count": null,
   "source": "",
   "id": "12200bafa81cd13c"
  }
 ],
 "metadata": {
  "kernelspec": {
   "display_name": "Python 3",
   "language": "python",
   "name": "python3"
  },
  "language_info": {
   "codemirror_mode": {
    "name": "ipython",
    "version": 2
   },
   "file_extension": ".py",
   "mimetype": "text/x-python",
   "name": "python",
   "nbconvert_exporter": "python",
   "pygments_lexer": "ipython2",
   "version": "2.7.6"
  }
 },
 "nbformat": 4,
 "nbformat_minor": 5
}
