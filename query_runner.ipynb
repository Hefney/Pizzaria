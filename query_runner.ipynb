{
 "cells": [
  {
   "cell_type": "code",
   "id": "initial_id",
   "metadata": {
    "collapsed": true,
    "ExecuteTime": {
     "end_time": "2024-12-20T13:21:14.210850Z",
     "start_time": "2024-12-20T13:21:10.325635Z"
    }
   },
   "source": [
    "import torch\n",
    "import pickle"
   ],
   "outputs": [],
   "execution_count": 1
  },
  {
   "cell_type": "code",
   "id": "20a2a42aac75fb96",
   "metadata": {
    "ExecuteTime": {
     "end_time": "2024-12-20T13:21:14.221307Z",
     "start_time": "2024-12-20T13:21:14.211855Z"
    }
   },
   "source": [
    "vocab = pickle.load(open('live/vocab.pkl', 'rb'))\n",
    "\n",
    "tags_ct = pickle.load(open('live/tags_complex_topping.pkl', 'rb'))             # Complex Topping tags\n",
    "tags_pz = pickle.load(open('live/tags_pizza_orders.pkl', 'rb'))        # Pizza orders tags\n",
    "tags_dr = pickle.load(open('live/tags_drink_orders.pkl', 'rb'))        # Drink orders tags\n",
    "tags_ob = pickle.load(open('live/tags_orders.pkl', 'rb'))              # Order boundary tags\n",
    "\n",
    "print('Vocab size:', len(vocab))"
   ],
   "outputs": [
    {
     "name": "stdout",
     "output_type": "stream",
     "text": [
      "Vocab size: 461\n"
     ]
    }
   ],
   "execution_count": 2
  },
  {
   "cell_type": "code",
   "id": "2580418d014633e6",
   "metadata": {
    "ExecuteTime": {
     "end_time": "2024-12-20T13:21:18.957444Z",
     "start_time": "2024-12-20T13:21:18.953083Z"
    }
   },
   "source": [
    "print(tags_ct)\n",
    "print(tags_pz)\n",
    "print(tags_dr)\n",
    "print(tags_ob)"
   ],
   "outputs": [
    {
     "name": "stdout",
     "output_type": "stream",
     "text": [
      "{'QUANTITY': 0, 'TOPPING': 1, 'TOPPING_S': 2, 'QUANTITY_S': 3, 'NONE': 4}\n",
      "{'TOPPING_S': 0, 'COMPLEX_TOPPING_S': 1, 'NOT_STYLE_S': 2, 'STYLE': 3, 'NUMBER': 4, 'TOPPING': 5, 'SIZE': 6, 'NONE': 7, 'NOT_TOPPING': 8, 'NOT_TOPPING_S': 9, 'NUMBER_S': 10, 'NOT_COMPLEX_TOPPING_S': 11, 'STYLE_S': 12, 'NOT_COMPLEX_TOPPING': 13, 'COMPLEX_TOPPING': 14, 'SIZE_S': 15, 'NOT_STYLE': 16}\n",
      "{'SIZE': 0, 'CONTAINERTYPE': 1, 'DRINKTYPE': 2, 'DRINKTYPE_S': 3, 'NONE': 4, 'CONTAINERTYPE_S': 5, 'VOLUME': 6, 'NUMBER': 7, 'VOLUME_S': 8, 'SIZE_S': 9, 'NUMBER_S': 10}\n",
      "{'DRINKORDER': 0, 'DRINKORDER_S': 1, 'PIZZAORDER': 2, 'PIZZAORDER_S': 3, 'NONE': 4}\n"
     ]
    }
   ],
   "execution_count": 3
  },
  {
   "metadata": {
    "ExecuteTime": {
     "end_time": "2024-12-20T13:32:53.679756Z",
     "start_time": "2024-12-20T13:32:53.674688Z"
    }
   },
   "cell_type": "code",
   "source": [
    "def tags_inverse(tags):\n",
    "    inv_tags = {}\n",
    "    for tag, value in tags.items():\n",
    "        inv_tags[value] = tag\n",
    "    return inv_tags\n",
    "\n",
    "inv_tags_ct = tags_inverse(tags_ct)\n",
    "inv_tags_pz = tags_inverse(tags_pz)\n",
    "inv_tags_dr = tags_inverse(tags_dr)\n",
    "inv_tags_ob = tags_inverse(tags_ob)\n",
    "\n",
    "print(inv_tags_ct)\n",
    "print(inv_tags_pz)\n",
    "print(inv_tags_dr)\n",
    "print(inv_tags_ob)\n",
    "\n",
    "silent_correction = True\n",
    "verbose_output = False"
   ],
   "id": "161a5ee1612bf7af",
   "outputs": [
    {
     "name": "stdout",
     "output_type": "stream",
     "text": [
      "{0: 'QUANTITY', 1: 'TOPPING', 2: 'TOPPING_S', 3: 'QUANTITY_S', 4: 'NONE'}\n",
      "{0: 'TOPPING_S', 1: 'COMPLEX_TOPPING_S', 2: 'NOT_STYLE_S', 3: 'STYLE', 4: 'NUMBER', 5: 'TOPPING', 6: 'SIZE', 7: 'NONE', 8: 'NOT_TOPPING', 9: 'NOT_TOPPING_S', 10: 'NUMBER_S', 11: 'NOT_COMPLEX_TOPPING_S', 12: 'STYLE_S', 13: 'NOT_COMPLEX_TOPPING', 14: 'COMPLEX_TOPPING', 15: 'SIZE_S', 16: 'NOT_STYLE'}\n",
      "{0: 'SIZE', 1: 'CONTAINERTYPE', 2: 'DRINKTYPE', 3: 'DRINKTYPE_S', 4: 'NONE', 5: 'CONTAINERTYPE_S', 6: 'VOLUME', 7: 'NUMBER', 8: 'VOLUME_S', 9: 'SIZE_S', 10: 'NUMBER_S'}\n",
      "{0: 'DRINKORDER', 1: 'DRINKORDER_S', 2: 'PIZZAORDER', 3: 'PIZZAORDER_S', 4: 'NONE'}\n"
     ]
    }
   ],
   "execution_count": 19
  },
  {
   "metadata": {
    "ExecuteTime": {
     "end_time": "2024-12-20T13:21:36.304678Z",
     "start_time": "2024-12-20T13:21:29.201346Z"
    }
   },
   "cell_type": "code",
   "source": [
    "from utils import tokenize, preprocess_tokens, project_tokens, check_in_vocab\n",
    "from extra_sets import isPersonalPronoun, isNumber\n",
    "import language_tool_python\n",
    "from spellchecker import SpellChecker\n",
    "import enchant\n",
    "\n",
    "spell_tool = language_tool_python.LanguageTool('en-US')\n",
    "spell = SpellChecker()\n",
    "dictionary = enchant.Dict(\"en_US\")\n",
    "\n",
    "def suggest_by_insertion(word):\n",
    "    if dictionary.check(word) and (len(word) > 1 or isPersonalPronoun(word) or isNumber(word)):\n",
    "        return [word]\n",
    "        \n",
    "    alphabet = 'abcdefghijklmnopqrstuvwxyz'\n",
    "    suggestions = set()\n",
    "    \n",
    "    # Try inserting a letter at each position\n",
    "    for i in range(len(word) + 1):\n",
    "        for letter in alphabet:\n",
    "            new_word = word[:i] + letter + word[i:]\n",
    "            if dictionary.check(new_word):\n",
    "                suggestions.add(new_word)\n",
    "            # # Optionally try inserting a second letter for severely misspelled words\n",
    "            # if len(suggestions) == 0:\n",
    "            #     for j in range(i + 1, len(new_word) + 1):\n",
    "            #         for second_letter in alphabet:\n",
    "            #             double_insert = new_word[:j] + second_letter + new_word[j:]\n",
    "            #             if dictionary.check(double_insert):\n",
    "            #                 suggestions.add(double_insert)\n",
    "    \n",
    "    return list(suggestions)\n",
    "    \n",
    "\n",
    "def correct_token(token_index, tokens):\n",
    "    token = tokens[token_index]\n",
    "    # Try fixing the word by inserting one letter first\n",
    "    suggestions = suggest_by_insertion(token)\n",
    "    for sug in suggestions:\n",
    "        if check_in_vocab(sug, vocab):\n",
    "            if not silent_correction: print(f\"fixing (insertion): {token} -> {sug}\")\n",
    "            return sug # if we found something that is in the vocab, then return it\n",
    "    \n",
    "    # else: Try language-tool-python\n",
    "    matches = spell_tool.check(' '.join(tokens))\n",
    "    spelling_matches = [m for m in matches if m.ruleId.startswith('MORFOLOGIK_')]\n",
    "    current_word_start = len(' '.join(tokens[:token_index])) + (1 if token_index > 0 else 0)\n",
    "    current_word_end = current_word_start + len(token)\n",
    "    relevant_matches = [\n",
    "        m for m in spelling_matches\n",
    "        if current_word_start <= m.offset < current_word_end\n",
    "    ]\n",
    "    \n",
    "    # If language-tool-python found matches\n",
    "    if relevant_matches and relevant_matches[0].replacements:\n",
    "        corrected_token = relevant_matches[0].replacements[0]\n",
    "        \n",
    "        # If the correction seems too different, try fallback\n",
    "        if len(corrected_token) < len(token): # mistakes are mainly missing letters (exploit that)\n",
    "            fallback_correction = spell.correction(token)\n",
    "            if fallback_correction and len(fallback_correction) > len(corrected_token):\n",
    "                if not silent_correction: print(f\"fixing (lang): {token} -> {fallback_correction}\")\n",
    "                return fallback_correction\n",
    "        if not silent_correction: print(f\"fixing (spell): {token} -> {corrected_token}\")\n",
    "        return corrected_token\n",
    "    \n",
    "    # Use pyspellchecker as fallback if language-tool-python found no matches\n",
    "    fallback_correction = spell.correction(token)\n",
    "    if fallback_correction and fallback_correction != token:\n",
    "        if not silent_correction: print(f\"fixing (spell): {token} -> {fallback_correction}\")\n",
    "        return fallback_correction\n",
    "    \n",
    "    # Return original token if no corrections were found\n",
    "    if not silent_correction: print(f\"fixing (fail): {token} -> {token}\")\n",
    "    return token\n",
    "\n"
   ],
   "id": "a73064234f15ca8b",
   "outputs": [
    {
     "name": "stderr",
     "output_type": "stream",
     "text": [
      "[nltk_data] Downloading package punkt to\n",
      "[nltk_data]     C:\\Users\\xAbdoMo\\AppData\\Roaming\\nltk_data...\n",
      "[nltk_data]   Package punkt is already up-to-date!\n"
     ]
    }
   ],
   "execution_count": 6
  },
  {
   "metadata": {
    "ExecuteTime": {
     "end_time": "2024-12-20T13:22:29.651278Z",
     "start_time": "2024-12-20T13:22:29.645142Z"
    }
   },
   "cell_type": "code",
   "source": [
    "def feed_model(model, query, inv_tags):\n",
    "    s = tokenize(query)\n",
    "    s = [f'{correct_token(i, s) if not check_in_vocab(x, vocab) else x}' for i, x in enumerate(s)]\n",
    "    if not silent_correction: print(s)\n",
    "    s = preprocess_tokens(s)\n",
    "    s = project_tokens(s, vocab)\n",
    "    x_tensor = torch.tensor(s)\n",
    "    device = torch.device(\"cuda:0\")\n",
    "    with torch.no_grad():\n",
    "        output = model.forward(x_tensor.to(device))\n",
    "        output = torch.argmax(output, dim=-1).to(\"cpu\")\n",
    "        return [inv_tags[x.item()] for x in output]"
   ],
   "id": "ce45faa37639e72e",
   "outputs": [],
   "execution_count": 10
  },
  {
   "metadata": {
    "ExecuteTime": {
     "end_time": "2024-12-20T13:21:57.424680Z",
     "start_time": "2024-12-20T13:21:51.007629Z"
    }
   },
   "cell_type": "code",
   "source": [
    "test = tokenize(\"f let me prefer a extra large sauteed spinach and tomatoes pizza without any sausage\")\n",
    "test = [f'{correct_token(i, test) if not check_in_vocab(x, vocab) else x}' for i, x in enumerate(test)]\n",
    "print(test)"
   ],
   "id": "bac5bc2748c5e2ec",
   "outputs": [
    {
     "name": "stdout",
     "output_type": "stream",
     "text": [
      "['of', 'let', 'me', 'prefer', 'a', 'extra', 'large', 'sauted', 'spinach', 'and', 'tomatoes', 'pizza', 'without', 'any', 'sausage']\n"
     ]
    }
   ],
   "execution_count": 7
  },
  {
   "cell_type": "code",
   "id": "f1a8a4f6a8931eb4",
   "metadata": {
    "ExecuteTime": {
     "end_time": "2024-12-20T13:22:06.609661Z",
     "start_time": "2024-12-20T13:22:05.342657Z"
    }
   },
   "source": [
    "from ner import NER\n",
    "from model_io import load_model_state\n",
    "\n",
    "model_boundary    = NER(embedding_dim=95, hidden_size=600, n_classes=len(tags_ob), vocab_size=len(vocab), num_layers=2, dropout=0.5)\n",
    "model_pizza_order = NER(embedding_dim=95, hidden_size=600, n_classes=len(tags_pz), vocab_size=len(vocab), num_layers=2, dropout=0.5)\n",
    "model_drink_order = NER(embedding_dim=95, hidden_size=600, n_classes=len(tags_dr), vocab_size=len(vocab), num_layers=2, dropout=0.5)\n",
    "model_complex     = NER(embedding_dim=95, hidden_size=600, n_classes=len(tags_ct), vocab_size=len(vocab), num_layers=2, dropout=0.5)\n",
    "\n",
    "\n",
    "load_model_state(model_boundary, \"live/order_boundary_e95_h600_l2_d0.5_cv0_x99.4.pth\", torch.device(\"cuda:0\"))\n",
    "load_model_state(model_pizza_order, \"live/pizza_order_e95_h600_l2_d0.5_cv0_x98.6.pth\", torch.device(\"cuda:0\")) \n",
    "load_model_state(model_drink_order, \"live/drink_order_e95_h600_l2_d0.5_cv0_x1.pth\", torch.device(\"cuda:0\"))\n",
    "load_model_state(model_complex, \"live/complex_e95_h600_l2_d0.5_cv0_x1.pth\", torch.device(\"cuda:0\"))"
   ],
   "outputs": [
    {
     "name": "stderr",
     "output_type": "stream",
     "text": [
      "C:\\Users\\xAbdoMo\\Desktop\\Uni\\Projects\\Pizzaria\\model_io.py:38: FutureWarning: You are using `torch.load` with `weights_only=False` (the current default value), which uses the default pickle module implicitly. It is possible to construct malicious pickle data which will execute arbitrary code during unpickling (See https://github.com/pytorch/pytorch/blob/main/SECURITY.md#untrusted-models for more details). In a future release, the default value for `weights_only` will be flipped to `True`. This limits the functions that could be executed during unpickling. Arbitrary objects will no longer be allowed to be loaded via this mode unless they are explicitly allowlisted by the user via `torch.serialization.add_safe_globals`. We recommend you start setting `weights_only=True` for any use case where you don't have full control of the loaded file. Please open an issue on GitHub for any issues related to this experimental feature.\n",
      "  state_dict = torch.load(path, device)\n"
     ]
    },
    {
     "data": {
      "text/plain": [
       "NER(\n",
       "  (embedding): Embedding(461, 95)\n",
       "  (dropout): Dropout(p=0.5, inplace=False)\n",
       "  (lstm): LSTM(95, 600, num_layers=2, batch_first=True, dropout=0.5, bidirectional=True)\n",
       "  (linear): Linear(in_features=1200, out_features=5, bias=True)\n",
       ")"
      ]
     },
     "execution_count": 8,
     "metadata": {},
     "output_type": "execute_result"
    }
   ],
   "execution_count": 8
  },
  {
   "cell_type": "code",
   "id": "3ab663ded4987b64",
   "metadata": {
    "ExecuteTime": {
     "end_time": "2024-12-20T13:22:34.605634Z",
     "start_time": "2024-12-20T13:22:34.184098Z"
    }
   },
   "source": "feed_model(model_complex, \"a lot of osama\", inv_tags_ct)   # just a test :)",
   "outputs": [
    {
     "name": "stdout",
     "output_type": "stream",
     "text": [
      "Word: \"Osama\" -> \"osama\" not in vocab\n",
      "isPersonalPronoun: False\n",
      "isNumber: False\n",
      "isTopping: False\n",
      "isQuantity: False\n"
     ]
    },
    {
     "data": {
      "text/plain": [
       "['QUANTITY_S', 'QUANTITY', 'QUANTITY', 'TOPPING_S']"
      ]
     },
     "execution_count": 11,
     "metadata": {},
     "output_type": "execute_result"
    }
   ],
   "execution_count": 11
  },
  {
   "cell_type": "code",
   "id": "9c220327f1d8e7fc",
   "metadata": {
    "ExecuteTime": {
     "end_time": "2024-12-20T13:22:54.667112Z",
     "start_time": "2024-12-20T13:22:54.608948Z"
    }
   },
   "source": [
    "def run_complex(order):\n",
    "    words = [token for token in order.split(' ') if token != '']\n",
    "    order_result = feed_model(model_complex, order, inv_tags_ct)\n",
    "    # print(f\"COMPLEX:\\n\\t IN -> {order}\\n\\t OUT -> {order_result}\")\n",
    "    result = \"\"\n",
    "    index = 0\n",
    "    \n",
    "    TAGS_STARTERS = [\"TOPPING_S\", \"QUANTITY_S\"]\n",
    "    TAGS_CONT     = [\"TOPPING\"  , \"QUANTITY\"  ]\n",
    "    while index < len(order_result):  # len(order_result) == len(words)\n",
    "        found = False\n",
    "        for tag_s, tag in zip(TAGS_STARTERS, TAGS_CONT):\n",
    "            if order_result[index] == tag_s:\n",
    "                found = True\n",
    "                content = [words[index]]\n",
    "                index = index + 1\n",
    "                while index < len(order_result) and order_result[index] == tag:\n",
    "                    content = content + [words[index]]\n",
    "                    index = index + 1\n",
    "                result += f\"({tag} {' '.join(content)} ) \"\n",
    "                break\n",
    "        if not found:\n",
    "            result += words[index] + \" \"\n",
    "            index = index + 1\n",
    "    \n",
    "    return result\n",
    "\n",
    "def run_pizza_order(order):\n",
    "    words = [token for token in order.split(' ') if token != '']\n",
    "    order_result = feed_model(model_pizza_order, order, inv_tags_pz)\n",
    "    result = \"\"\n",
    "    # print(f\"PIZZA:\\n\\t IN -> {order}\\n\\t OUT -> {order_result}\") \n",
    "    index = 0\n",
    "    \n",
    "    NORMAL_TAGS_STARTERS = [\"TOPPING_S\", \"STYLE_S\", \"SIZE_S\", \"NUMBER_S\"]\n",
    "    NORMAL_TAGS_CONT     = [\"TOPPING\"  , \"STYLE\"  , \"SIZE\"  , \"NUMBER\"]\n",
    "    \n",
    "    NOT_TAGS_STARTERS    = [\"NOT_TOPPING_S\", \"NOT_STYLE_S\", \"NOT_SIZE_S\", \"NOT_NUMBER_S\"]   # last two doesn't exist but aahhh whatever xD\n",
    "    NOT_TAGS_CONT        = [\"NOT_TOPPING\"  , \"NOT_STYLE\"  , \"NOT_SIZE\"  , \"NOT_NUMBER\"]     # I'll keep it just in case the model is tripping or something :)\n",
    "    while index < len(order_result):  # len(order_result) == len(words)\n",
    "        found = False\n",
    "        for tag_s, tag in zip(NORMAL_TAGS_STARTERS, NORMAL_TAGS_CONT):\n",
    "            if order_result[index] == tag_s:\n",
    "                found = True\n",
    "                content = [words[index]]\n",
    "                index = index + 1\n",
    "                while index < len(order_result) and order_result[index] == tag:\n",
    "                    content = content + [words[index]]\n",
    "                    index = index + 1\n",
    "                if tag == \"TOPPING\":\n",
    "                    for c in content:\n",
    "                        result += f\"({tag} {c} ) \" # ' '.join(content)\n",
    "                else:\n",
    "                    result += f\"({tag} {' '.join(content)} ) \"\n",
    "                break\n",
    "        if found:\n",
    "           continue\n",
    "        \n",
    "        for tag_s, tag in zip(NOT_TAGS_STARTERS, NOT_TAGS_CONT):\n",
    "            if order_result[index] == tag_s:\n",
    "                found = True\n",
    "                content = [words[index]]\n",
    "                index = index + 1\n",
    "                while index < len(order_result) and order_result[index] == tag:\n",
    "                    content = content + [words[index]]\n",
    "                    index = index + 1\n",
    "                result += f\"(NOT ({tag[4:]} {' '.join(content)} ) ) \"\n",
    "                break\n",
    "                \n",
    "        if found:\n",
    "           continue\n",
    "            \n",
    "        # special case: COMPLEX_TOPPING_S & NOT_COMPLEX_TOPPING_S\n",
    "        if \"COMPLEX_TOPPING_S\" in order_result[index]:\n",
    "            found = True\n",
    "            negated = \"NOT\" in order_result[index]\n",
    "            content = [words[index]]\n",
    "            index = index + 1\n",
    "            while index < len(order_result) and \"COMPLEX_TOPPING\" in order_result[index]:\n",
    "                content = content + [words[index]]\n",
    "                index = index + 1\n",
    "            val = run_complex(' '.join(content))\n",
    "            if negated:\n",
    "                result += f\"(NOT (COMPLEX_TOPPING {val}) ) \"\n",
    "            else:\n",
    "                result += f\"(COMPLEX_TOPPING {val}) \"\n",
    "        if found:\n",
    "           continue\n",
    "        result += words[index] + \" \"\n",
    "        index = index + 1\n",
    "    \n",
    "    return result\n",
    "\n",
    "def run_drink_order(order):\n",
    "    words = [token for token in order.split(' ') if token != '']\n",
    "    order_result = feed_model(model_drink_order, order, inv_tags_dr)\n",
    "    # print(f\"DRINK:\\n\\t IN -> {order}\\n\\t OUT -> {order_result}\")\n",
    "    result = \"\"\n",
    "    index = 0\n",
    "    \n",
    "    TAGS_STARTERS = [\"SIZE_S\", \"VOLUME_S\", \"NUMBER_S\", \"DRINKTYPE_S\", \"CONTAINERTYPE_S\"]\n",
    "    TAGS_CONT     = [\"SIZE\"  , \"VOLUME\"  , \"NUMBER\"  , \"DRINKTYPE\"  , \"CONTAINERTYPE\"]\n",
    "    while index < len(order_result):  # len(order_result) == len(words)\n",
    "        found = False\n",
    "        for tag_s, tag in zip(TAGS_STARTERS, TAGS_CONT):\n",
    "            if order_result[index] == tag_s:\n",
    "                found = True\n",
    "                content = [words[index]]\n",
    "                index = index + 1\n",
    "                while index < len(order_result) and order_result[index] == tag:\n",
    "                    content = content + [words[index]]\n",
    "                    index = index + 1\n",
    "                result += f\"({tag} {' '.join(content)} ) \"\n",
    "                break\n",
    "        if not found:\n",
    "            result += words[index] + \" \"\n",
    "            index = index + 1\n",
    "    \n",
    "    return result\n",
    "\n",
    "def run_order(order):\n",
    "    words = [token for token in order.split(' ') if token != '']\n",
    "    order_result = feed_model(model_boundary, order, inv_tags_ob)\n",
    "    # print(f\"ORDER:\\n\\t IN -> {order}\\n\\t OUT -> {order_result}\")\n",
    "    \n",
    "    result = \"\"\n",
    "    index = 0\n",
    "    while index < len(order_result):  # len(order_result) == len(words)\n",
    "        if order_result[index] in 'PIZZAORDER_S':  # read a pizza order\n",
    "            order = [words[index]]\n",
    "            index = index + 1\n",
    "            while index < len(order_result) and order_result[index] == 'PIZZAORDER':\n",
    "                order = order + [words[index]]\n",
    "                index = index + 1\n",
    "            if len(order) < 2: # pizza order must be at least two words\n",
    "                result += ' '.join(order) + \" \"\n",
    "            else:\n",
    "                result += f\"(PIZZAORDER {run_pizza_order(' '.join(order))}) \"\n",
    "        elif order_result[index] in 'DRINKORDER_S':  # read a drink order\n",
    "            order = [words[index]]\n",
    "            index = index + 1\n",
    "            while index < len(order_result) and order_result[index] == 'DRINKORDER':\n",
    "                order = order + [words[index]]\n",
    "                index = index + 1\n",
    "            if len(order) < 2: # drink order must be at least two words\n",
    "                result += ' '.join(order) + \" \"\n",
    "            else:\n",
    "                result += f\"(DRINKORDER {run_drink_order(' '.join(order))}) \"\n",
    "        else:\n",
    "            result += words[index] + \" \"\n",
    "            index = index + 1\n",
    "    return result\n",
    "    \n",
    "def run_query(query):\n",
    "    query = query.lower()\n",
    "    return f\"(ORDER {run_order(query)})\""
   ],
   "outputs": [],
   "execution_count": 12
  },
  {
   "cell_type": "code",
   "id": "cf35aab5",
   "metadata": {
    "ExecuteTime": {
     "end_time": "2024-12-20T13:22:55.254204Z",
     "start_time": "2024-12-20T13:22:55.243249Z"
    }
   },
   "source": [
    "result = run_query(\"we want some chicken pizza\")\n",
    "# expected = \"(ORDER id like to order (PIZZAORDER (NUMBER two ) (SIZE large ) (STYLE gluten-free crust ) (TOPPING pepperoni ) pizzas ) with (DRINKORDER (NUMBER a ) (SIZE large ) (DRINKTYPE coke ) ) )\"\n",
    "print(f\"Model   : {result}\")\n",
    "# print(f\"Expected: {expected}\")"
   ],
   "outputs": [
    {
     "name": "stdout",
     "output_type": "stream",
     "text": [
      "Model   : (ORDER we want some (PIZZAORDER (TOPPING chicken ) pizza ) )\n"
     ]
    }
   ],
   "execution_count": 13
  },
  {
   "metadata": {
    "ExecuteTime": {
     "end_time": "2024-12-20T09:43:45.856690Z",
     "start_time": "2024-12-20T09:43:45.852648Z"
    }
   },
   "cell_type": "code",
   "source": [
    "import json\n",
    "\n",
    "def process_file(filename, prediction_function):\n",
    "    total = 0\n",
    "    correct = 0\n",
    "    \n",
    "    with open(filename, 'r') as file:\n",
    "        for line in file:\n",
    "            try:\n",
    "                # Parse JSON object from each line\n",
    "                data = json.loads(line.strip())\n",
    "                \n",
    "                # Extract source text and target parsing\n",
    "                src = data['test.SRC']\n",
    "                target = data['test.TOP']\n",
    "                \n",
    "                # Get prediction from the provided function\n",
    "                prediction = prediction_function(src)\n",
    "                \n",
    "                # Compare prediction with target\n",
    "                if prediction == target:\n",
    "                    correct += 1\n",
    "                else:\n",
    "                    print(f\"SRC     :  {src}\")\n",
    "                    print(f\"EXPECTED:  {target}\")\n",
    "                    print(f\"GOT     :  {prediction}\")\n",
    "                total += 1\n",
    "                \n",
    "            except json.JSONDecodeError:\n",
    "                print(f\"Warning: Skipping invalid JSON line: {line.strip()}\")\n",
    "            except KeyError as e:\n",
    "                print(f\"Warning: Missing required field: {e}\")\n",
    "                \n",
    "    # Calculate accuracy\n",
    "    accuracy = (correct / total) * 100 if total > 0 else 0\n",
    "    return accuracy, correct, total\n"
   ],
   "id": "99c6ee9edf51e11e",
   "outputs": [],
   "execution_count": 13
  },
  {
   "metadata": {
    "ExecuteTime": {
     "end_time": "2024-12-20T08:23:39.261090Z",
     "start_time": "2024-12-20T08:23:31.526843Z"
    }
   },
   "cell_type": "code",
   "source": [
    "accuracy, correct, total = process_file(\"PIZZA_test.json\", run_query)\n",
    "    \n",
    "print(f\"Results:\")\n",
    "print(f\"Total examples: {total}\")\n",
    "print(f\"Correct predictions: {correct}\")\n",
    "print(f\"Accuracy: {accuracy:.2f}%\")"
   ],
   "id": "fa3d68b7c2a641cd",
   "outputs": [
    {
     "name": "stdout",
     "output_type": "stream",
     "text": [
      "SRC     :  one medium pizza with feta cheese and bacon\n",
      "EXPECTED:  (ORDER (PIZZAORDER (NUMBER one ) (SIZE medium ) pizza with (TOPPING feta cheese ) and (TOPPING bacon ) ) )\n",
      "GOT     :  (ORDER (PIZZAORDER (NUMBER one ) (SIZE medium ) pizza with (TOPPING feta ) (TOPPING cheese ) and (TOPPING bacon ) ) )\n",
      "SRC     :  i need two medium pepperoni pizzas one small pizza with onions black olives and peppers and three large sprites\n",
      "EXPECTED:  (ORDER i need (PIZZAORDER (NUMBER two ) (SIZE medium ) (TOPPING pepperoni ) pizzas ) (PIZZAORDER (NUMBER one ) (SIZE small ) pizza with (TOPPING onions ) (TOPPING black olives ) and (TOPPING peppers ) ) and (DRINKORDER (NUMBER three ) (SIZE large ) (DRINKTYPE sprites ) ) )\n",
      "GOT     :  (ORDER i need (PIZZAORDER (NUMBER two ) (SIZE medium ) (TOPPING pepperoni ) pizzas ) (PIZZAORDER (NUMBER one ) (SIZE small ) pizza with (TOPPING onions ) (TOPPING black ) (TOPPING olives ) and (TOPPING peppers ) ) and (DRINKORDER (NUMBER three ) (SIZE large ) (DRINKTYPE sprites ) ) )\n",
      "SRC     :  i want to order a large pizza with pepperoni sausage black olives onions and anchovies and three large cokes\n",
      "EXPECTED:  (ORDER i want to order (PIZZAORDER (NUMBER a ) (SIZE large ) pizza with (TOPPING pepperoni ) (TOPPING sausage ) (TOPPING black olives ) (TOPPING onions ) and (TOPPING anchovies ) ) and (DRINKORDER (NUMBER three ) (SIZE large ) (DRINKTYPE cokes ) ) )\n",
      "GOT     :  (ORDER i want to order (PIZZAORDER (NUMBER a ) (SIZE large ) pizza with (TOPPING pepperoni ) (TOPPING sausage ) (TOPPING black ) (TOPPING olives ) (TOPPING onions ) and (TOPPING anchovies ) ) and (DRINKORDER (NUMBER three ) (SIZE large ) (DRINKTYPE cokes ) ) )\n",
      "SRC     :  i need a large pizza with beef bacon ham onions and black olives and three large diet cokes\n",
      "EXPECTED:  (ORDER i need (PIZZAORDER (NUMBER a ) (SIZE large ) pizza with (TOPPING beef ) (TOPPING bacon ) (TOPPING ham ) (TOPPING onions ) and (TOPPING black olives ) ) and (DRINKORDER (NUMBER three ) (SIZE large ) (DRINKTYPE diet cokes ) ) )\n",
      "GOT     :  (ORDER i need (PIZZAORDER (NUMBER a ) (SIZE large ) pizza with (TOPPING beef ) (TOPPING bacon ) (TOPPING ham ) (TOPPING onions ) and (TOPPING black ) (TOPPING olives ) ) and (DRINKORDER (NUMBER three ) (SIZE large ) (DRINKTYPE diet cokes ) ) )\n",
      "SRC     :  order me a medium pepperoni pizza with extra sauce\n",
      "EXPECTED:  (ORDER order me (PIZZAORDER (NUMBER a ) (SIZE medium ) (TOPPING pepperoni ) pizza with (COMPLEX_TOPPING (QUANTITY extra ) (TOPPING sauce ) ) ) )\n",
      "GOT     :  (ORDER order me (PIZZAORDER (NUMBER a ) (SIZE medium ) (TOPPING pepperoni ) pizza with (COMPLEX_TOPPING extra (TOPPING sauce ) ) ) )\n",
      "SRC     :  i wish to have one large pizza with extra pepperoni and two medium pizzas\n",
      "EXPECTED:  (ORDER i wish to have (PIZZAORDER (NUMBER one ) (SIZE large ) pizza with (COMPLEX_TOPPING (QUANTITY extra ) (TOPPING pepperoni ) ) ) and (PIZZAORDER (NUMBER two ) (SIZE medium ) pizzas ) )\n",
      "GOT     :  (ORDER i wish to have (PIZZAORDER (NUMBER one ) (SIZE large ) pizza with (COMPLEX_TOPPING (QUANTITY extra pepperoni ) ) ) and (PIZZAORDER (NUMBER two ) (SIZE medium ) pizzas ) )\n",
      "SRC     :  i want a large mushroom pepperoni and banana pepper pizza\n",
      "EXPECTED:  (ORDER i want (PIZZAORDER (NUMBER a ) (SIZE large ) (TOPPING mushroom ) (TOPPING pepperoni ) and (TOPPING banana pepper ) pizza ) )\n",
      "GOT     :  (ORDER i want (PIZZAORDER (NUMBER a ) (SIZE large ) (TOPPING mushroom ) (TOPPING pepperoni ) and (TOPPING banana ) (TOPPING pepper ) pizza ) )\n",
      "SRC     :  i need to order a medium pizza with sausage and ham and a medium pizza with pepperoni and sausage and a small pizza with mushrooms and green peppers\n",
      "EXPECTED:  (ORDER i need to order (PIZZAORDER (NUMBER a ) (SIZE medium ) pizza with (TOPPING sausage ) and (TOPPING ham ) ) and (PIZZAORDER (NUMBER a ) (SIZE medium ) pizza with (TOPPING pepperoni ) and (TOPPING sausage ) ) and (PIZZAORDER (NUMBER a ) (SIZE small ) pizza with (TOPPING mushrooms ) and (TOPPING green peppers ) ) )\n",
      "GOT     :  (ORDER i need to order (PIZZAORDER (NUMBER a ) (SIZE medium ) pizza with (TOPPING sausage ) and (TOPPING ham ) ) and (PIZZAORDER (NUMBER a ) (SIZE medium ) pizza with (TOPPING pepperoni ) and (TOPPING sausage ) ) and (PIZZAORDER (NUMBER a ) (SIZE small ) pizza with (TOPPING mushrooms ) and (TOPPING green ) (TOPPING peppers ) ) )\n",
      "SRC     :  i want to order four medium pizzas with extra cheese and light sauce\n",
      "EXPECTED:  (ORDER i want to order (PIZZAORDER (NUMBER four ) (SIZE medium ) pizzas with (COMPLEX_TOPPING (QUANTITY extra ) (TOPPING cheese ) ) and (COMPLEX_TOPPING (QUANTITY light ) (TOPPING sauce ) ) ) )\n",
      "GOT     :  (ORDER i want to order (PIZZAORDER (NUMBER four ) (SIZE medium ) pizzas with (COMPLEX_TOPPING (QUANTITY extra ) (TOPPING cheese ) ) and (COMPLEX_TOPPING (QUANTITY light sauce ) ) ) )\n",
      "SRC     :  i'd like a pizza with bacon sausage and mushrooms please\n",
      "EXPECTED:  (ORDER i'd like (PIZZAORDER (NUMBER a ) pizza with (TOPPING bacon ) (TOPPING sausage ) and (TOPPING mushrooms ) ) please )\n",
      "GOT     :  (ORDER i'd like (PIZZAORDER (NUMBER a ) pizza with (TOPPING bacon ) (TOPPING sausage ) and (TOPPING mushrooms ) please ) )\n",
      "SRC     :  i would like one large pepperoni pizza and two medium italian sausage pizzas and four large diet sprites\n",
      "EXPECTED:  (ORDER i would like (PIZZAORDER (NUMBER one ) (SIZE large ) (TOPPING pepperoni ) pizza ) and (PIZZAORDER (NUMBER two ) (SIZE medium ) (TOPPING italian sausage ) pizzas ) and (DRINKORDER (NUMBER four ) (SIZE large ) (DRINKTYPE diet sprites ) ) )\n",
      "GOT     :  (ORDER i would like (PIZZAORDER (NUMBER one ) (SIZE large ) (TOPPING pepperoni ) pizza ) and (PIZZAORDER (NUMBER two ) (SIZE medium ) (TOPPING italian ) (TOPPING sausage ) pizzas ) and (DRINKORDER (NUMBER four ) (SIZE large ) (DRINKTYPE diet sprites ) ) )\n",
      "SRC     :  one large pizza with spinach and grilled chicken\n",
      "EXPECTED:  (ORDER (PIZZAORDER (NUMBER one ) (SIZE large ) pizza with (TOPPING spinach ) and (TOPPING grilled chicken ) ) )\n",
      "GOT     :  (ORDER (PIZZAORDER (NUMBER one ) (SIZE large ) pizza with (TOPPING spinach ) and (TOPPING grilled ) (TOPPING chicken ) ) )\n",
      "SRC     :  i want to order two large deep dish meat lovers pizzas\n",
      "EXPECTED:  (ORDER i want to order (PIZZAORDER (NUMBER two ) (SIZE large ) (STYLE deep dish ) (STYLE meat lovers ) pizzas ) )\n",
      "GOT     :  (ORDER i want to order (PIZZAORDER (NUMBER two ) (SIZE large ) (STYLE deep dish meat lovers ) pizzas ) )\n",
      "SRC     :  one small pizza with no pesto please\n",
      "EXPECTED:  (ORDER (PIZZAORDER (NUMBER one ) (SIZE small ) pizza with no (NOT (TOPPING pesto ) ) ) please )\n",
      "GOT     :  (ORDER (PIZZAORDER (NUMBER one ) (SIZE small ) pizza with no (NOT (TOPPING pesto ) ) please ) )\n",
      "SRC     :  i want to order one large vegan pizza with extra mushrooms and one small pepperoni pizza\n",
      "EXPECTED:  (ORDER i want to order (PIZZAORDER (NUMBER one ) (SIZE large ) (STYLE vegan ) pizza with (COMPLEX_TOPPING (QUANTITY extra ) (TOPPING mushrooms ) ) ) and (PIZZAORDER (NUMBER one ) (SIZE small ) (TOPPING pepperoni ) pizza ) )\n",
      "GOT     :  (ORDER i want to order (PIZZAORDER (NUMBER one ) (SIZE large ) (STYLE vegan ) pizza with (COMPLEX_TOPPING (QUANTITY extra mushrooms ) ) ) and (PIZZAORDER (NUMBER one ) (SIZE small ) (TOPPING pepperoni ) pizza ) )\n",
      "SRC     :  can you get me one small italian sausage pizza with peppers feta and green olives and a small coffee\n",
      "EXPECTED:  (ORDER can you get me (PIZZAORDER (NUMBER one ) (SIZE small ) (TOPPING italian sausage ) pizza with (TOPPING peppers ) (TOPPING feta ) and (TOPPING green olives ) ) and (DRINKORDER (NUMBER a ) (SIZE small ) (DRINKTYPE coffee ) ) )\n",
      "GOT     :  (ORDER can you get me (PIZZAORDER (NUMBER one ) (SIZE small ) (TOPPING italian ) (TOPPING sausage ) pizza with (TOPPING peppers ) (TOPPING feta ) and (TOPPING green ) (TOPPING olives ) ) and (DRINKORDER (NUMBER a ) (SIZE small ) (DRINKTYPE coffee ) ) )\n",
      "SRC     :  three medium pizzas with roasted garlic\n",
      "EXPECTED:  (ORDER (PIZZAORDER (NUMBER three ) (SIZE medium ) pizzas with (TOPPING roasted garlic ) ) )\n",
      "GOT     :  (ORDER (PIZZAORDER (NUMBER three ) (SIZE medium ) pizzas with (TOPPING roasted ) (TOPPING garlic ) ) )\n",
      "SRC     :  i need to order a large pizza with pepperoni sausage hot peppers onions and bacon and four medium cokes\n",
      "EXPECTED:  (ORDER i need to order (PIZZAORDER (NUMBER a ) (SIZE large ) pizza with (TOPPING pepperoni ) (TOPPING sausage ) (TOPPING hot peppers ) (TOPPING onions ) and (TOPPING bacon ) ) and (DRINKORDER (NUMBER four ) (SIZE medium ) (DRINKTYPE cokes ) ) )\n",
      "GOT     :  (ORDER i need to order (PIZZAORDER (NUMBER a ) (SIZE large ) pizza with (TOPPING pepperoni ) (TOPPING sausage ) (TOPPING hot ) (TOPPING peppers ) (TOPPING onions ) and (TOPPING bacon ) ) and (DRINKORDER (NUMBER four ) (SIZE medium ) (DRINKTYPE cokes ) ) )\n",
      "SRC     :  one large pizza with peppers and bay leaves\n",
      "EXPECTED:  (ORDER (PIZZAORDER (NUMBER one ) (SIZE large ) pizza with (TOPPING peppers ) and (TOPPING bay leaves ) ) )\n",
      "GOT     :  (ORDER (PIZZAORDER (NUMBER one ) (SIZE large ) pizza with (TOPPING peppers ) and (TOPPING bay ) leaves ) )\n",
      "SRC     :  i want a vegan pizza small\n",
      "EXPECTED:  (ORDER i want (PIZZAORDER (NUMBER a ) (STYLE vegan ) pizza (SIZE small ) ) )\n",
      "GOT     :  (ORDER i want (PIZZAORDER (NUMBER a ) (STYLE vegan ) pizza ) small )\n",
      "SRC     :  two medium pizzas with green peppers and feta cheese\n",
      "EXPECTED:  (ORDER (PIZZAORDER (NUMBER two ) (SIZE medium ) pizzas with (TOPPING green peppers ) and (TOPPING feta cheese ) ) )\n",
      "GOT     :  (ORDER (PIZZAORDER (NUMBER two ) (SIZE medium ) pizzas with (TOPPING green ) (TOPPING peppers ) and (TOPPING feta ) (TOPPING cheese ) ) )\n",
      "SRC     :  i want two pizzas with extra cheese and green peppers\n",
      "EXPECTED:  (ORDER i want (PIZZAORDER (NUMBER two ) pizzas with (COMPLEX_TOPPING (QUANTITY extra ) (TOPPING cheese ) ) and (TOPPING green peppers ) ) )\n",
      "GOT     :  (ORDER i want (PIZZAORDER (NUMBER two ) pizzas with (COMPLEX_TOPPING (QUANTITY extra ) (TOPPING cheese ) ) and (TOPPING green ) (TOPPING peppers ) ) )\n",
      "SRC     :  i would like one extra large pizza with pepperoni and italian sausage with extra cheese\n",
      "EXPECTED:  (ORDER i would like (PIZZAORDER (NUMBER one ) (SIZE extra large ) pizza with (TOPPING pepperoni ) and (TOPPING italian sausage ) with (COMPLEX_TOPPING (QUANTITY extra ) (TOPPING cheese ) ) ) )\n",
      "GOT     :  (ORDER i would like (PIZZAORDER (NUMBER one ) (SIZE extra large ) pizza with (TOPPING pepperoni ) and (TOPPING italian ) (TOPPING sausage ) with (COMPLEX_TOPPING (QUANTITY extra ) (TOPPING cheese ) ) ) )\n",
      "SRC     :  can i get a large pepperoni pizza with banana peppers and green peppers\n",
      "EXPECTED:  (ORDER can i get (PIZZAORDER (NUMBER a ) (SIZE large ) (TOPPING pepperoni ) pizza with (TOPPING banana peppers ) and (TOPPING green peppers ) ) )\n",
      "GOT     :  (ORDER can i get (PIZZAORDER (NUMBER a ) (SIZE large ) (TOPPING pepperoni ) pizza with (TOPPING banana ) (TOPPING peppers ) and (TOPPING green ) (TOPPING peppers ) ) )\n",
      "SRC     :  i need one large pizza with pepperoni and sausage one large pizza with pepperoni sausage and mushrooms and one medium pizza with pepperoni and green peppers\n",
      "EXPECTED:  (ORDER i need (PIZZAORDER (NUMBER one ) (SIZE large ) pizza with (TOPPING pepperoni ) and (TOPPING sausage ) ) (PIZZAORDER (NUMBER one ) (SIZE large ) pizza with (TOPPING pepperoni ) (TOPPING sausage ) and (TOPPING mushrooms ) ) and (PIZZAORDER (NUMBER one ) (SIZE medium ) pizza with (TOPPING pepperoni ) and (TOPPING green peppers ) ) )\n",
      "GOT     :  (ORDER i need (PIZZAORDER (NUMBER one ) (SIZE large ) pizza with (TOPPING pepperoni ) and (TOPPING sausage ) ) (PIZZAORDER (NUMBER one ) (SIZE large ) pizza with (TOPPING pepperoni ) (TOPPING sausage ) and (TOPPING mushrooms ) ) and (PIZZAORDER (NUMBER one ) (SIZE medium ) pizza with (TOPPING pepperoni ) and (TOPPING green ) (TOPPING peppers ) ) )\n",
      "SRC     :  i'd like one large pizza with ham bacon extra sauce and extra cheese and one medium pizza with sausage and anchovies\n",
      "EXPECTED:  (ORDER i'd like (PIZZAORDER (NUMBER one ) (SIZE large ) pizza with (TOPPING ham ) (TOPPING bacon ) (COMPLEX_TOPPING (QUANTITY extra ) (TOPPING sauce ) ) and (COMPLEX_TOPPING (QUANTITY extra ) (TOPPING cheese ) ) ) and (PIZZAORDER (NUMBER one ) (SIZE medium ) pizza with (TOPPING sausage ) and (TOPPING anchovies ) ) )\n",
      "GOT     :  (ORDER i'd like (PIZZAORDER (NUMBER one ) (SIZE large ) pizza with (TOPPING ham ) (TOPPING bacon ) (COMPLEX_TOPPING extra (TOPPING sauce ) ) and (COMPLEX_TOPPING (QUANTITY extra ) (TOPPING cheese ) ) ) and (PIZZAORDER (NUMBER one ) (SIZE medium ) pizza with (TOPPING sausage ) and (TOPPING anchovies ) ) )\n",
      "SRC     :  can i get one medium pizza with bacon peppers and mushroom please\n",
      "EXPECTED:  (ORDER can i get (PIZZAORDER (NUMBER one ) (SIZE medium ) pizza with (TOPPING bacon ) (TOPPING peppers ) and (TOPPING mushroom ) ) please )\n",
      "GOT     :  (ORDER can i get (PIZZAORDER (NUMBER one ) (SIZE medium ) pizza with (TOPPING bacon ) (TOPPING peppers ) and (TOPPING mushroom ) please ) )\n",
      "SRC     :  i want to order a large pizza with pepperoni black olives and onions and extra cheese\n",
      "EXPECTED:  (ORDER i want to order (PIZZAORDER (NUMBER a ) (SIZE large ) pizza with (TOPPING pepperoni ) (TOPPING black olives ) and (TOPPING onions ) and (COMPLEX_TOPPING (QUANTITY extra ) (TOPPING cheese ) ) ) )\n",
      "GOT     :  (ORDER i want to order (PIZZAORDER (NUMBER a ) (SIZE large ) pizza with (TOPPING pepperoni ) (TOPPING black ) (TOPPING olives ) and (TOPPING onions ) and (COMPLEX_TOPPING (QUANTITY extra ) (TOPPING cheese ) ) ) )\n",
      "SRC     :  i would like one large italian sausage pizza with black olives and extra cheese and two small diet cokes\n",
      "EXPECTED:  (ORDER i would like (PIZZAORDER (NUMBER one ) (SIZE large ) (TOPPING italian sausage ) pizza with (TOPPING black olives ) and (COMPLEX_TOPPING (QUANTITY extra ) (TOPPING cheese ) ) ) and (DRINKORDER (NUMBER two ) (SIZE small ) (DRINKTYPE diet cokes ) ) )\n",
      "GOT     :  (ORDER i would like (PIZZAORDER (NUMBER one ) (SIZE large ) (TOPPING italian ) (TOPPING sausage ) pizza with (TOPPING black ) (TOPPING olives ) and (COMPLEX_TOPPING (QUANTITY extra ) (TOPPING cheese ) ) ) and (DRINKORDER (NUMBER two ) (SIZE small ) (DRINKTYPE diet cokes ) ) )\n",
      "SRC     :  can you get me a large pepperoni pizza with black olives and two large pepsis please\n",
      "EXPECTED:  (ORDER can you get me (PIZZAORDER (NUMBER a ) (SIZE large ) (TOPPING pepperoni ) pizza with (TOPPING black olives ) ) and (DRINKORDER (NUMBER two ) (SIZE large ) (DRINKTYPE pepsis ) ) please )\n",
      "GOT     :  (ORDER can you get me (PIZZAORDER (NUMBER a ) (SIZE large ) (TOPPING pepperoni ) pizza with (TOPPING black ) (TOPPING olives ) ) and (DRINKORDER (NUMBER two ) (SIZE large ) (DRINKTYPE pepsis ) ) please )\n",
      "SRC     :  get me a small pizza with red peppers\n",
      "EXPECTED:  (ORDER get me (PIZZAORDER (NUMBER a ) (SIZE small ) pizza with (TOPPING red peppers ) ) )\n",
      "GOT     :  (ORDER get me (PIZZAORDER (NUMBER a ) (SIZE small ) pizza with (TOPPING red ) (TOPPING peppers ) ) )\n",
      "SRC     :  i need a small pizza with cherry tomatoes\n",
      "EXPECTED:  (ORDER i need (PIZZAORDER (NUMBER a ) (SIZE small ) pizza with (TOPPING cherry tomatoes ) ) )\n",
      "GOT     :  (ORDER i need (PIZZAORDER (NUMBER a ) (SIZE small ) pizza with (TOPPING cherry ) (TOPPING tomatoes ) ) )\n",
      "SRC     :  i want to order one medium pizza with pepperoni black olives green peppers and hot peppers\n",
      "EXPECTED:  (ORDER i want to order (PIZZAORDER (NUMBER one ) (SIZE medium ) pizza with (TOPPING pepperoni ) (TOPPING black olives ) (TOPPING green peppers ) and (TOPPING hot peppers ) ) )\n",
      "GOT     :  (ORDER i want to order (PIZZAORDER (NUMBER one ) (SIZE medium ) pizza with (TOPPING pepperoni ) (TOPPING black ) (TOPPING olives ) (TOPPING green ) (TOPPING peppers ) and (TOPPING hot ) (TOPPING peppers ) ) )\n",
      "SRC     :  three stuffed crust pizzas with extra pepperoni one pepsi\n",
      "EXPECTED:  (ORDER (PIZZAORDER (NUMBER three ) (STYLE stuffed crust ) pizzas with (COMPLEX_TOPPING (QUANTITY extra ) (TOPPING pepperoni ) ) ) (DRINKORDER (NUMBER one ) (DRINKTYPE pepsi ) ) )\n",
      "GOT     :  (ORDER (PIZZAORDER (NUMBER three ) (STYLE stuffed crust ) pizzas with (COMPLEX_TOPPING (QUANTITY extra pepperoni ) ) ) (DRINKORDER (NUMBER one ) (DRINKTYPE pepsi ) ) )\n",
      "SRC     :  i need two medium pizzas with pepperoni and sausage one medium pizza with sausage and mushrooms and one large pizza with sausage and green peppers\n",
      "EXPECTED:  (ORDER i need (PIZZAORDER (NUMBER two ) (SIZE medium ) pizzas with (TOPPING pepperoni ) and (TOPPING sausage ) ) (PIZZAORDER (NUMBER one ) (SIZE medium ) pizza with (TOPPING sausage ) and (TOPPING mushrooms ) ) and (PIZZAORDER (NUMBER one ) (SIZE large ) pizza with (TOPPING sausage ) and (TOPPING green peppers ) ) )\n",
      "GOT     :  (ORDER i need (PIZZAORDER (NUMBER two ) (SIZE medium ) pizzas with (TOPPING pepperoni ) and (TOPPING sausage ) ) (PIZZAORDER (NUMBER one ) (SIZE medium ) pizza with (TOPPING sausage ) and (TOPPING mushrooms ) ) and (PIZZAORDER (NUMBER one ) (SIZE large ) pizza with (TOPPING sausage ) and (TOPPING green ) (TOPPING peppers ) ) )\n",
      "SRC     :  i want to order one large pizza with sausage and green peppers one large pizza with sausage and mushrooms and one large pizza with ham black olives and onions\n",
      "EXPECTED:  (ORDER i want to order (PIZZAORDER (NUMBER one ) (SIZE large ) pizza with (TOPPING sausage ) and (TOPPING green peppers ) ) (PIZZAORDER (NUMBER one ) (SIZE large ) pizza with (TOPPING sausage ) and (TOPPING mushrooms ) ) and (PIZZAORDER (NUMBER one ) (SIZE large ) pizza with (TOPPING ham ) (TOPPING black olives ) and (TOPPING onions ) ) )\n",
      "GOT     :  (ORDER i want to order (PIZZAORDER (NUMBER one ) (SIZE large ) pizza with (TOPPING sausage ) and (TOPPING green ) (TOPPING peppers ) ) (PIZZAORDER (NUMBER one ) (SIZE large ) pizza with (TOPPING sausage ) and (TOPPING mushrooms ) ) and (PIZZAORDER (NUMBER one ) (SIZE large ) pizza with (TOPPING ham ) (TOPPING black ) (TOPPING olives ) and (TOPPING onions ) ) )\n",
      "SRC     :  three large pizzas with roasted tomatoes and ham\n",
      "EXPECTED:  (ORDER (PIZZAORDER (NUMBER three ) (SIZE large ) pizzas with (TOPPING roasted tomatoes ) and (TOPPING ham ) ) )\n",
      "GOT     :  (ORDER (PIZZAORDER (NUMBER three ) (SIZE large ) pizzas with (TOPPING roasted ) (TOPPING tomatoes ) and (TOPPING ham ) ) )\n",
      "SRC     :  two medium pizzas with cherry tomatoes and a two liter pepsi\n",
      "EXPECTED:  (ORDER (PIZZAORDER (NUMBER two ) (SIZE medium ) pizzas with (TOPPING cherry tomatoes ) ) and (DRINKORDER (NUMBER a ) (VOLUME two liter ) (DRINKTYPE pepsi ) ) )\n",
      "GOT     :  (ORDER (PIZZAORDER (NUMBER two ) (SIZE medium ) pizzas with (TOPPING cherry ) (TOPPING tomatoes ) ) and (DRINKORDER (NUMBER a ) (VOLUME two liter ) (DRINKTYPE pepsi ) ) )\n",
      "SRC     :  i want a large pizza with green peppers and onions\n",
      "EXPECTED:  (ORDER i want (PIZZAORDER (NUMBER a ) (SIZE large ) pizza with (TOPPING green peppers ) and (TOPPING onions ) ) )\n",
      "GOT     :  (ORDER i want (PIZZAORDER (NUMBER a ) (SIZE large ) pizza with (TOPPING green ) (TOPPING peppers ) and (TOPPING onions ) ) )\n",
      "SRC     :  i want to order three large pizzas with sausage mushrooms and onions one small pizza with green peppers and black olives and six medium sprites\n",
      "EXPECTED:  (ORDER i want to order (PIZZAORDER (NUMBER three ) (SIZE large ) pizzas with (TOPPING sausage ) (TOPPING mushrooms ) and (TOPPING onions ) ) (PIZZAORDER (NUMBER one ) (SIZE small ) pizza with (TOPPING green peppers ) and (TOPPING black olives ) ) and (DRINKORDER (NUMBER six ) (SIZE medium ) (DRINKTYPE sprites ) ) )\n",
      "GOT     :  (ORDER i want to order (PIZZAORDER (NUMBER three ) (SIZE large ) pizzas with (TOPPING sausage ) (TOPPING mushrooms ) and (TOPPING onions ) ) (PIZZAORDER (NUMBER one ) (SIZE small ) pizza with (TOPPING green ) (TOPPING peppers ) and (TOPPING black ) (TOPPING olives ) ) and (DRINKORDER (NUMBER six ) (SIZE medium ) (DRINKTYPE sprites ) ) )\n",
      "SRC     :  i want two large cokes one medium sprite and an extra large veggie pizza with extra cheese and extra mushrooms\n",
      "EXPECTED:  (ORDER i want (DRINKORDER (NUMBER two ) (SIZE large ) (DRINKTYPE cokes ) ) (DRINKORDER (NUMBER one ) (SIZE medium ) (DRINKTYPE sprite ) ) and (PIZZAORDER (NUMBER an ) (SIZE extra large ) (STYLE veggie ) pizza with (COMPLEX_TOPPING (QUANTITY extra ) (TOPPING cheese ) ) and (COMPLEX_TOPPING (QUANTITY extra ) (TOPPING mushrooms ) ) ) )\n",
      "GOT     :  (ORDER i want (DRINKORDER (NUMBER two ) (SIZE large ) (DRINKTYPE cokes ) ) (DRINKORDER (NUMBER one ) (SIZE medium ) (DRINKTYPE sprite ) ) and (PIZZAORDER (NUMBER an ) (SIZE extra large ) (STYLE veggie ) pizza with (COMPLEX_TOPPING (QUANTITY extra ) (TOPPING cheese ) ) and (COMPLEX_TOPPING (QUANTITY extra mushrooms ) ) ) )\n",
      "SRC     :  i wanted to have one small pizza without tuna but with olives and extra cheese\n",
      "EXPECTED:  (ORDER i wanted to have (PIZZAORDER (NUMBER one ) (SIZE small ) pizza without (NOT (TOPPING tuna ) ) but with (TOPPING olives ) and (COMPLEX_TOPPING (QUANTITY extra ) (TOPPING cheese ) ) ) )\n",
      "GOT     :  (ORDER i wanted to have (PIZZAORDER (NUMBER one ) (SIZE small ) pizza without (TOPPING tuna ) but with (TOPPING olives ) and (COMPLEX_TOPPING (QUANTITY extra ) (TOPPING cheese ) ) ) )\n",
      "SRC     :  three large pizzas with red peppers and bay leaves\n",
      "EXPECTED:  (ORDER (PIZZAORDER (NUMBER three ) (SIZE large ) pizzas with (TOPPING red peppers ) and (TOPPING bay leaves ) ) )\n",
      "GOT     :  (ORDER (PIZZAORDER (NUMBER three ) (SIZE large ) pizzas with (TOPPING red ) (TOPPING peppers ) and (TOPPING bay ) leaves ) )\n",
      "SRC     :  i would like to order four large italian sausage and mushroom pizzas and one small pizza with chicken bacon and black olives and extra cheese and a two liter bottle of diet coke\n",
      "EXPECTED:  (ORDER i would like to order (PIZZAORDER (NUMBER four ) (SIZE large ) (TOPPING italian sausage ) and (TOPPING mushroom ) pizzas ) and (PIZZAORDER (NUMBER one ) (SIZE small ) pizza with (TOPPING chicken ) (TOPPING bacon ) and (TOPPING black olives ) and (COMPLEX_TOPPING (QUANTITY extra ) (TOPPING cheese ) ) ) and (DRINKORDER (NUMBER a ) (VOLUME two liter ) (CONTAINERTYPE bottle ) of (DRINKTYPE diet coke ) ) )\n",
      "GOT     :  (ORDER i would like to order (PIZZAORDER (NUMBER four ) (SIZE large ) (TOPPING italian ) (TOPPING sausage ) and (TOPPING mushroom ) pizzas ) and (PIZZAORDER (NUMBER one ) (SIZE small ) pizza with (TOPPING chicken ) (TOPPING bacon ) and (TOPPING black ) (TOPPING olives ) and (COMPLEX_TOPPING (QUANTITY extra ) (TOPPING cheese ) ) ) and (DRINKORDER (NUMBER a ) (VOLUME two liter ) (CONTAINERTYPE bottle ) of (DRINKTYPE diet coke ) ) )\n",
      "SRC     :  order me a medium pizza with bacon and black olives and no peppers\n",
      "EXPECTED:  (ORDER order me (PIZZAORDER (NUMBER a ) (SIZE medium ) pizza with (TOPPING bacon ) and (TOPPING black olives ) and no (NOT (TOPPING peppers ) ) ) )\n",
      "GOT     :  (ORDER order me (PIZZAORDER (NUMBER a ) (SIZE medium ) pizza with (TOPPING bacon ) and (TOPPING black ) (TOPPING olives ) and no (NOT (TOPPING peppers ) ) ) )\n",
      "SRC     :  i need two large sausage pizzas with onions and green olives and a two liter bottle of dr pepper\n",
      "EXPECTED:  (ORDER i need (PIZZAORDER (NUMBER two ) (SIZE large ) (TOPPING sausage ) pizzas with (TOPPING onions ) and (TOPPING green olives ) ) and (DRINKORDER (NUMBER a ) (VOLUME two liter ) (CONTAINERTYPE bottle ) of (DRINKTYPE dr pepper ) ) )\n",
      "GOT     :  (ORDER i need (PIZZAORDER (NUMBER two ) (SIZE large ) (TOPPING sausage ) pizzas with (TOPPING onions ) and (TOPPING green ) (TOPPING olives ) ) and (DRINKORDER (NUMBER a ) (VOLUME two liter ) (CONTAINERTYPE bottle ) of (DRINKTYPE dr pepper ) ) )\n",
      "SRC     :  i would like a medium salami pizza with feta and black olives a large combination pizza and three large diet sprites\n",
      "EXPECTED:  (ORDER i would like (PIZZAORDER (NUMBER a ) (SIZE medium ) (TOPPING salami ) pizza with (TOPPING feta ) and (TOPPING black olives ) ) (PIZZAORDER (NUMBER a ) (SIZE large ) (STYLE combination ) pizza ) and (DRINKORDER (NUMBER three ) (SIZE large ) (DRINKTYPE diet sprites ) ) )\n",
      "GOT     :  (ORDER i would like (PIZZAORDER (NUMBER a ) (SIZE medium ) (TOPPING salami ) pizza with (TOPPING feta ) and (TOPPING black ) (TOPPING olives ) ) (PIZZAORDER (NUMBER a ) (SIZE large ) (STYLE combination ) pizza ) and (DRINKORDER (NUMBER three ) (SIZE large ) (DRINKTYPE diet sprites ) ) )\n",
      "SRC     :  can you get me one small pie with red peppers please\n",
      "EXPECTED:  (ORDER can you get me (PIZZAORDER (NUMBER one ) (SIZE small ) pie with (TOPPING red peppers ) ) please )\n",
      "GOT     :  (ORDER can you get me (PIZZAORDER (NUMBER one ) (SIZE small ) pie with (TOPPING red ) (TOPPING peppers ) ) please )\n",
      "SRC     :  i need one large italian sausage pizza one large combination pizza without mushrooms one medium beef and black olive pizza and five large sprites\n",
      "EXPECTED:  (ORDER i need (PIZZAORDER (NUMBER one ) (SIZE large ) (TOPPING italian sausage ) pizza ) (PIZZAORDER (NUMBER one ) (SIZE large ) (STYLE combination ) pizza without (NOT (TOPPING mushrooms ) ) ) (PIZZAORDER (NUMBER one ) (SIZE medium ) (TOPPING beef ) and (TOPPING black olive ) pizza ) and (DRINKORDER (NUMBER five ) (SIZE large ) (DRINKTYPE sprites ) ) )\n",
      "GOT     :  (ORDER i need (PIZZAORDER (NUMBER one ) (SIZE large ) (TOPPING italian ) (TOPPING sausage ) pizza ) (PIZZAORDER (NUMBER one ) (SIZE large ) (STYLE combination ) pizza without (NOT (TOPPING mushrooms ) ) ) (PIZZAORDER (NUMBER one ) (SIZE medium ) (TOPPING beef ) and (TOPPING black ) (TOPPING olive ) pizza ) and (DRINKORDER (NUMBER five ) (SIZE large ) (DRINKTYPE sprites ) ) )\n",
      "SRC     :  i want one medium pizza with chicken tuna and hold the pesto please\n",
      "EXPECTED:  (ORDER i want (PIZZAORDER (NUMBER one ) (SIZE medium ) pizza with (TOPPING chicken ) (TOPPING tuna ) and hold the (NOT (TOPPING pesto ) ) ) please )\n",
      "GOT     :  (ORDER i want (PIZZAORDER (NUMBER one ) (SIZE medium ) pizza with (TOPPING chicken ) (TOPPING tuna ) and hold the (NOT (TOPPING pesto ) ) please ) )\n",
      "SRC     :  i want a large combination pizza without onions or bell peppers and a small pepperoni pizza with extra cheese and four large diet pepsis\n",
      "EXPECTED:  (ORDER i want (PIZZAORDER (NUMBER a ) (SIZE large ) (STYLE combination ) pizza without (NOT (TOPPING onions ) ) or (NOT (TOPPING bell peppers ) ) ) and (PIZZAORDER (NUMBER a ) (SIZE small ) (TOPPING pepperoni ) pizza with (COMPLEX_TOPPING (QUANTITY extra ) (TOPPING cheese ) ) ) and (DRINKORDER (NUMBER four ) (SIZE large ) (DRINKTYPE diet pepsis ) ) )\n",
      "GOT     :  (ORDER i want (PIZZAORDER (NUMBER a ) (SIZE large ) (STYLE combination ) pizza without (TOPPING onions ) or (NOT (TOPPING bell ) ) peppers ) and (PIZZAORDER (NUMBER a ) (SIZE small ) (TOPPING pepperoni ) pizza with (COMPLEX_TOPPING (QUANTITY extra ) (TOPPING cheese ) ) ) and (DRINKORDER (NUMBER four ) (SIZE large ) (DRINKTYPE diet pepsis ) ) )\n",
      "SRC     :  may i have one large pie along with ham and peppers but hold thin crust\n",
      "EXPECTED:  (ORDER may i have (PIZZAORDER (NUMBER one ) (SIZE large ) pie along with (TOPPING ham ) and (TOPPING peppers ) but hold (NOT (STYLE thin crust ) ) ) )\n",
      "GOT     :  (ORDER may i have (PIZZAORDER (NUMBER one ) (SIZE large ) pie along with (TOPPING ham ) and (TOPPING peppers ) but hold (NOT (STYLE thin ) ) crust ) )\n",
      "SRC     :  please i want a pizza with sausage and pesto and with no thin crust\n",
      "EXPECTED:  (ORDER please i want (PIZZAORDER (NUMBER a ) pizza with (TOPPING sausage ) and (TOPPING pesto ) and with no (NOT (STYLE thin crust ) ) ) )\n",
      "GOT     :  (ORDER please i want (PIZZAORDER (NUMBER a ) pizza with (TOPPING sausage ) and (TOPPING pesto ) and with no (NOT (STYLE thin ) ) crust ) )\n",
      "SRC     :  i want a thin crust with bacon and mushrooms and make it a large\n",
      "EXPECTED:  (ORDER i want (PIZZAORDER (NUMBER a ) (STYLE thin crust ) with (TOPPING bacon ) and (TOPPING mushrooms ) and make it a (SIZE large ) ) )\n",
      "GOT     :  (ORDER i want (PIZZAORDER (NUMBER a ) (STYLE thin crust ) with (TOPPING bacon ) and (TOPPING mushrooms ) and make ) it a large )\n",
      "SRC     :  i need one pizza pesto more cheese and don't include tuna\n",
      "EXPECTED:  (ORDER i need (PIZZAORDER (NUMBER one ) pizza (TOPPING pesto ) (COMPLEX_TOPPING (QUANTITY more ) (TOPPING cheese ) ) and don't include (NOT (TOPPING tuna ) ) ) )\n",
      "GOT     :  (ORDER i need (PIZZAORDER (NUMBER one ) pizza (TOPPING pesto ) (COMPLEX_TOPPING (QUANTITY more ) (TOPPING cheese ) ) ) and (PIZZAORDER (SIZE don't ) include (TOPPING tuna ) ) )\n",
      "SRC     :  a large pizza with ham mushrooms onions pine apple bacon sausage and double cheese\n",
      "EXPECTED:  (ORDER (PIZZAORDER (NUMBER a ) (SIZE large ) pizza with (TOPPING ham ) (TOPPING mushrooms ) (TOPPING onions ) (TOPPING pine apple ) (TOPPING bacon ) (TOPPING sausage ) and (COMPLEX_TOPPING (QUANTITY double ) (TOPPING cheese ) ) ) )\n",
      "GOT     :  (ORDER (PIZZAORDER (NUMBER a ) (SIZE large ) pizza with (TOPPING ham ) (TOPPING mushrooms ) (TOPPING onions ) (TOPPING pine ) (TOPPING apple ) (TOPPING bacon ) (TOPPING sausage ) and (COMPLEX_TOPPING (QUANTITY double ) (TOPPING cheese ) ) ) )\n",
      "SRC     :  i only want one pizza pie with pepperoni oh i almost forgot i'd like that with extra cheese if you could\n",
      "EXPECTED:  (ORDER i only want (PIZZAORDER (NUMBER one ) pizza pie with (TOPPING pepperoni ) oh i almost forgot i'd like that with (COMPLEX_TOPPING (QUANTITY extra ) (TOPPING cheese ) ) if you could ) )\n",
      "GOT     :  (ORDER i only want (PIZZAORDER (NUMBER one ) pizza pie with (TOPPING pepperoni ) oh i almost forgot i'd like that with (COMPLEX_TOPPING (QUANTITY extra ) (TOPPING cheese ) ) ) if you could )\n",
      "SRC     :  i would like to order a small pizza with canadian bacon and onions a medium pizza with ham and black olives and i don't want any drinks with this order\n",
      "EXPECTED:  (ORDER i would like to order (PIZZAORDER (NUMBER a ) (SIZE small ) pizza with canadian (TOPPING bacon ) and (TOPPING onions ) ) (PIZZAORDER (NUMBER a ) (SIZE medium ) pizza with (TOPPING ham ) and (TOPPING black olives ) ) and i don't want any drinks with this order )\n",
      "GOT     :  (ORDER i would like to order (PIZZAORDER (NUMBER a ) (SIZE small ) pizza with canadian (TOPPING bacon ) and (TOPPING onions ) ) (PIZZAORDER (NUMBER a ) (SIZE medium ) pizza with (TOPPING ham ) and (TOPPING black ) (TOPPING olives ) and i don't want any ) drinks with this order )\n",
      "SRC     :  i want one medium pizza with extra cheese and pineapple and no any tuna\n",
      "EXPECTED:  (ORDER i want (PIZZAORDER (NUMBER one ) (SIZE medium ) pizza with (COMPLEX_TOPPING (QUANTITY extra ) (TOPPING cheese ) ) and (TOPPING pineapple ) and no any (NOT (TOPPING tuna ) ) ) )\n",
      "GOT     :  (ORDER i want (PIZZAORDER (NUMBER one ) (SIZE medium ) pizza with (COMPLEX_TOPPING (QUANTITY extra ) (TOPPING cheese ) ) and (TOPPING pineapple ) and no any tuna ) )\n",
      "SRC     :  this order is for one large pizza with sausage mushrooms and black olives and two large cokes and two large ice teas\n",
      "EXPECTED:  (ORDER this order is for (PIZZAORDER (NUMBER one ) (SIZE large ) pizza with (TOPPING sausage ) (TOPPING mushrooms ) and (TOPPING black olives ) ) and (DRINKORDER (NUMBER two ) (SIZE large ) (DRINKTYPE cokes ) ) and (DRINKORDER (NUMBER two ) (SIZE large ) (DRINKTYPE ice teas ) ) )\n",
      "GOT     :  (ORDER this order is for (PIZZAORDER (NUMBER one ) (SIZE large ) pizza with (TOPPING sausage ) (TOPPING mushrooms ) and (TOPPING black ) (TOPPING olives ) ) and (DRINKORDER (NUMBER two ) (SIZE large ) (DRINKTYPE cokes ) ) and (DRINKORDER (NUMBER two ) (SIZE large ) (DRINKTYPE ice teas ) ) )\n",
      "SRC     :  let me prefer pie along with pepperoni and more cheese\n",
      "EXPECTED:  (ORDER let me prefer (PIZZAORDER pie along with (TOPPING pepperoni ) and (COMPLEX_TOPPING (QUANTITY more ) (TOPPING cheese ) ) ) )\n",
      "GOT     :  (ORDER let me prefer pie (PIZZAORDER along with (TOPPING pepperoni ) and (COMPLEX_TOPPING (QUANTITY more ) (TOPPING cheese ) ) ) )\n",
      "SRC     :  get a medium thin crust pesto pie with extra cheese for me\n",
      "EXPECTED:  (ORDER get (PIZZAORDER (NUMBER a ) (SIZE medium ) (STYLE thin crust ) (TOPPING pesto ) pie with (COMPLEX_TOPPING (QUANTITY extra ) (TOPPING cheese ) ) ) for me )\n",
      "GOT     :  (ORDER get (PIZZAORDER (NUMBER a ) (SIZE medium ) (STYLE thin crust ) (TOPPING pesto ) pie with (COMPLEX_TOPPING (QUANTITY extra ) (TOPPING cheese ) ) for me ) )\n",
      "SRC     :  please give me a large pizza and i'll try it with ham pepperoni as well as tuna thanks a lot\n",
      "EXPECTED:  (ORDER please give me (PIZZAORDER (NUMBER a ) (SIZE large ) pizza and i'll try it with (TOPPING ham ) (TOPPING pepperoni ) as well as (TOPPING tuna ) ) thanks a lot )\n",
      "GOT     :  (ORDER please give me (PIZZAORDER (NUMBER a ) (SIZE large ) pizza and i'll try it with (TOPPING ham ) (TOPPING pepperoni ) as ) well as tuna thanks a lot )\n",
      "SRC     :  get me a large olive and onion pizza with pineapple on it\n",
      "EXPECTED:  (ORDER get me (PIZZAORDER (NUMBER a ) (SIZE large ) (TOPPING olive ) and (TOPPING onion ) pizza with (TOPPING pineapple ) ) on it )\n",
      "GOT     :  (ORDER get me (PIZZAORDER (NUMBER a ) (SIZE large ) (TOPPING olive ) and (TOPPING onion ) pizza with (TOPPING pineapple ) on it ) )\n",
      "SRC     :  i need to order one extra large thin crust pepperoni roasted garlic cherry tomatoes and mushroom pizza with a large pepsi and a large coke\n",
      "EXPECTED:  (ORDER i need to order (PIZZAORDER (NUMBER one ) (SIZE extra large ) (STYLE thin crust ) (TOPPING pepperoni ) (TOPPING roasted garlic ) (TOPPING cherry tomatoes ) and (TOPPING mushroom ) pizza ) with (DRINKORDER (NUMBER a ) (SIZE large ) (DRINKTYPE pepsi ) ) and (DRINKORDER (NUMBER a ) (SIZE large ) (DRINKTYPE coke ) ) )\n",
      "GOT     :  (ORDER i need to order (PIZZAORDER (NUMBER one ) (SIZE extra large ) (STYLE thin crust ) (TOPPING pepperoni ) (TOPPING roasted ) (TOPPING garlic ) (TOPPING cherry ) (TOPPING tomatoes ) and (TOPPING mushroom ) pizza ) with (DRINKORDER (NUMBER a ) (SIZE large ) (DRINKTYPE pepsi ) ) and (DRINKORDER (NUMBER a ) (SIZE large ) (DRINKTYPE coke ) ) )\n",
      "SRC     :  i'd like to get one small pizza with red peppers on it\n",
      "EXPECTED:  (ORDER i'd like to get (PIZZAORDER (NUMBER one ) (SIZE small ) pizza with (TOPPING red peppers ) ) on it )\n",
      "GOT     :  (ORDER i'd like to get (PIZZAORDER (NUMBER one ) (SIZE small ) pizza with (TOPPING red ) (TOPPING peppers ) on it ) )\n",
      "SRC     :  i'd like to try a medium pie for toppings i think i'll take mushrooms and tuna hold the peppers if you don't mind thanks much\n",
      "EXPECTED:  (ORDER i'd like to try (PIZZAORDER (NUMBER a ) (SIZE medium ) pie for toppings i think i'll take (TOPPING mushrooms ) and (TOPPING tuna ) hold the (NOT (TOPPING peppers ) ) ) if you don't mind thanks much )\n",
      "GOT     :  (ORDER i'd like to try (PIZZAORDER (NUMBER a ) (SIZE medium ) pie for toppings i think i'll take (TOPPING mushrooms ) and (TOPPING tuna ) hold the ) peppers if you don't mind thanks much )\n",
      "SRC     :  good evening for tonight i'll take a large pizza with mushrooms and pesto and please hold the pepperoni that's all\n",
      "EXPECTED:  (ORDER good evening for tonight i'll take (PIZZAORDER (NUMBER a ) (SIZE large ) pizza with (TOPPING mushrooms ) and (TOPPING pesto ) and please hold the (NOT (TOPPING pepperoni ) ) ) that's all )\n",
      "GOT     :  (ORDER good evening for tonight i'll take (PIZZAORDER (NUMBER a ) (SIZE large ) pizza with (TOPPING mushrooms ) and (TOPPING pesto ) and please hold the (NOT (TOPPING pepperoni that's ) ) ) all )\n",
      "SRC     :  this order is for three medium pizzas with green peppers anchovies black olives and bacon and six large cokes and two large ice teas with no sugar\n",
      "EXPECTED:  (ORDER this order is for (PIZZAORDER (NUMBER three ) (SIZE medium ) pizzas with (TOPPING green peppers ) (TOPPING anchovies ) (TOPPING black olives ) and (TOPPING bacon ) ) and (DRINKORDER (NUMBER six ) (SIZE large ) (DRINKTYPE cokes ) ) and (DRINKORDER (NUMBER two ) (SIZE large ) (DRINKTYPE ice teas with no sugar ) ) )\n",
      "GOT     :  (ORDER this order is for (PIZZAORDER (NUMBER three ) (SIZE medium ) pizzas with (TOPPING green ) (TOPPING peppers ) (TOPPING anchovies ) (TOPPING black ) (TOPPING olives ) and (TOPPING bacon ) ) and (DRINKORDER (NUMBER six ) (SIZE large ) (DRINKTYPE cokes ) ) and (DRINKORDER (NUMBER two ) (SIZE large ) (DRINKTYPE ice teas ) ) with no sugar )\n",
      "SRC     :  id like to order one large thin crust cheese pizza topped with arugula and a buffalo sauce\n",
      "EXPECTED:  (ORDER id like to order (PIZZAORDER (NUMBER one ) (SIZE large ) (STYLE thin crust ) (TOPPING cheese ) pizza topped with (TOPPING arugula ) and a (TOPPING buffalo sauce ) ) )\n",
      "GOT     :  (ORDER id like to order (PIZZAORDER (NUMBER one ) (SIZE large ) (STYLE thin crust ) (TOPPING cheese ) pizza topped with (TOPPING arugula ) ) and (PIZZAORDER (NUMBER a ) (TOPPING buffalo ) (TOPPING sauce ) ) )\n",
      "SRC     :  i need one small pizza with ham and green peppers and a second small pizza with sausage and pepperoni and two large cokes\n",
      "EXPECTED:  (ORDER i need (PIZZAORDER (NUMBER one ) (SIZE small ) pizza with (TOPPING ham ) and (TOPPING green peppers ) ) and (PIZZAORDER (NUMBER a ) second (SIZE small ) pizza with (TOPPING sausage ) and (TOPPING pepperoni ) ) and (DRINKORDER (NUMBER two ) (SIZE large ) (DRINKTYPE cokes ) ) )\n",
      "GOT     :  (ORDER i need (PIZZAORDER (NUMBER one ) (SIZE small ) pizza with (TOPPING ham ) and (TOPPING green ) (TOPPING peppers ) ) and (PIZZAORDER (NUMBER a ) second (SIZE small ) pizza with (TOPPING sausage ) and (TOPPING pepperoni ) ) and (DRINKORDER (NUMBER two ) (SIZE large ) (DRINKTYPE cokes ) ) )\n",
      "SRC     :  i'll take a mushroom and pepper pizza i don't want any onions and make it a small please\n",
      "EXPECTED:  (ORDER i'll take (PIZZAORDER (NUMBER a ) (TOPPING mushroom ) and (TOPPING pepper ) pizza i don't want any (NOT (TOPPING onions ) ) and make it a (SIZE small ) ) please )\n",
      "GOT     :  (ORDER i'll take (PIZZAORDER (NUMBER a ) (TOPPING mushroom ) and (TOPPING pepper ) pizza i don't want any (NOT (TOPPING onions ) ) and make ) it a small please )\n",
      "SRC     :  give me a large pie with onions on it as well as extra cheese in addition to pepperoni that's all\n",
      "EXPECTED:  (ORDER give me (PIZZAORDER (NUMBER a ) (SIZE large ) pie with (TOPPING onions ) on it as well as (COMPLEX_TOPPING (QUANTITY extra ) (TOPPING cheese ) ) in addition to (TOPPING pepperoni ) ) that's all )\n",
      "GOT     :  (ORDER give me (PIZZAORDER (NUMBER a ) (SIZE large ) pie with (TOPPING onions ) on it as well as (COMPLEX_TOPPING (QUANTITY extra ) (TOPPING cheese ) ) in addition to (TOPPING pepperoni ) (TOPPING that's ) ) all )\n",
      "SRC     :  can i have two small pizzas with grilled chicken and bbq sauce on them\n",
      "EXPECTED:  (ORDER can i have (PIZZAORDER (NUMBER two ) (SIZE small ) pizzas with (TOPPING grilled chicken ) and (TOPPING bbq sauce ) ) on them )\n",
      "GOT     :  (ORDER can i have (PIZZAORDER (NUMBER two ) (SIZE small ) pizzas with (TOPPING grilled ) (TOPPING chicken ) and (TOPPING bbq ) (TOPPING sauce ) ) on them )\n",
      "SRC     :  begin an order for four large pizzas with green peppers chicken and salami with four cans of sprite\n",
      "EXPECTED:  (ORDER begin an order for (PIZZAORDER (NUMBER four ) (SIZE large ) pizzas with (TOPPING green peppers ) (TOPPING chicken ) and (TOPPING salami ) ) with (DRINKORDER (NUMBER four ) (CONTAINERTYPE cans ) of (DRINKTYPE sprite ) ) )\n",
      "GOT     :  (ORDER begin an order for (PIZZAORDER (NUMBER four ) (SIZE large ) pizzas with (TOPPING green ) (TOPPING peppers ) (TOPPING chicken ) and (TOPPING salami ) ) with (DRINKORDER (NUMBER four ) (CONTAINERTYPE cans ) of (DRINKTYPE sprite ) ) )\n",
      "SRC     :  can i get a bbq chicken pizza size large and lets add mushrooms and spinach to it please\n",
      "EXPECTED:  (ORDER can i get (PIZZAORDER (NUMBER a ) (TOPPING bbq chicken ) pizza size (SIZE large ) and lets add (TOPPING mushrooms ) and (TOPPING spinach ) ) to it please )\n",
      "GOT     :  (ORDER can i get (PIZZAORDER (NUMBER a ) (TOPPING bbq ) (TOPPING chicken ) pizza size (SIZE large ) and lets add (TOPPING mushrooms ) and (TOPPING spinach ) to ) it please )\n",
      "SRC     :  i'll go for a large pizza for toppings i want ham no onions and i want the thin crust style i love that that's it\n",
      "EXPECTED:  (ORDER i'll go for (PIZZAORDER (NUMBER a ) (SIZE large ) pizza for toppings i want (TOPPING ham ) no (NOT (TOPPING onions ) ) and i want the (STYLE thin crust ) ) style i love that that's it )\n",
      "GOT     :  (ORDER i'll go for (PIZZAORDER (NUMBER a ) (SIZE large ) pizza for toppings i want (TOPPING ham ) no (TOPPING onions ) and i want the (STYLE thin crust ) style i love that ) that's it )\n",
      "SRC     :  i need you to begin an order for two large pizzas with extra mushrooms but light on cheese and include one small pizza with sausage\n",
      "EXPECTED:  (ORDER i need you to begin an order for (PIZZAORDER (NUMBER two ) (SIZE large ) pizzas with (COMPLEX_TOPPING (QUANTITY extra ) (TOPPING mushrooms ) ) but (COMPLEX_TOPPING (QUANTITY light on ) (TOPPING cheese ) ) ) and include (PIZZAORDER (NUMBER one ) (SIZE small ) pizza with (TOPPING sausage ) ) )\n",
      "GOT     :  (ORDER i need you to begin an order for (PIZZAORDER (NUMBER two ) (SIZE large ) pizzas with (COMPLEX_TOPPING (QUANTITY extra mushrooms ) ) but (COMPLEX_TOPPING (QUANTITY light on ) (TOPPING cheese ) ) ) and include (PIZZAORDER (NUMBER one ) (SIZE small ) pizza with (TOPPING sausage ) ) )\n",
      "SRC     :  i want to order a medium pizza with spinach and extra onions on it\n",
      "EXPECTED:  (ORDER i want to order (PIZZAORDER (NUMBER a ) (SIZE medium ) pizza with (TOPPING spinach ) and (COMPLEX_TOPPING (QUANTITY extra ) (TOPPING onions ) ) ) on it )\n",
      "GOT     :  (ORDER i want to order (PIZZAORDER (NUMBER a ) (SIZE medium ) pizza with (TOPPING spinach ) and (COMPLEX_TOPPING (QUANTITY extra ) (TOPPING onions ) ) on ) it )\n",
      "SRC     :  i would like to get one large pie with sausage olives and ham please\n",
      "EXPECTED:  (ORDER i would like to get (PIZZAORDER (NUMBER one ) (SIZE large ) pie with (TOPPING sausage ) (TOPPING olives ) and (TOPPING ham ) ) please )\n",
      "GOT     :  (ORDER i would like to get (PIZZAORDER (NUMBER one ) (SIZE large ) pie with (TOPPING sausage ) (TOPPING olives ) and (TOPPING ham ) please ) )\n",
      "SRC     :  i'll take a pizza and make it medium size and extra cheese on it as well as mushrooms and i'll try tuna on it too\n",
      "EXPECTED:  (ORDER i'll take (PIZZAORDER (NUMBER a ) pizza and make it (SIZE medium ) size and (COMPLEX_TOPPING (QUANTITY extra ) (TOPPING cheese ) ) on it as well as (TOPPING mushrooms ) and i'll try (TOPPING tuna ) ) on it too )\n",
      "GOT     :  (ORDER i'll take (PIZZAORDER (NUMBER a ) pizza and make it (SIZE medium ) size and (COMPLEX_TOPPING (QUANTITY extra ) (TOPPING cheese ) ) on it as well as (TOPPING mushrooms ) and i'll try (TOPPING tuna ) on it too ) )\n",
      "SRC     :  i need a large pizza with everything plus extra cheese and extra bacon and four large ice teas with sugar and two large ice teas with no sugar\n",
      "EXPECTED:  (ORDER i need (PIZZAORDER (NUMBER a ) (SIZE large ) pizza with (STYLE everything ) plus (COMPLEX_TOPPING (QUANTITY extra ) (TOPPING cheese ) ) and (COMPLEX_TOPPING (QUANTITY extra ) (TOPPING bacon ) ) ) and (DRINKORDER (NUMBER four ) (SIZE large ) (DRINKTYPE ice teas ) ) with sugar and (DRINKORDER (NUMBER two ) (SIZE large ) (DRINKTYPE ice teas with no sugar ) ) )\n",
      "GOT     :  (ORDER i need (PIZZAORDER (NUMBER a ) (SIZE large ) pizza with (STYLE everything ) plus (COMPLEX_TOPPING (QUANTITY extra ) (TOPPING cheese ) ) and (COMPLEX_TOPPING (QUANTITY extra ) (TOPPING bacon ) ) ) and (DRINKORDER (NUMBER four ) (SIZE large ) (DRINKTYPE ice teas ) ) with sugar and (DRINKORDER (NUMBER two ) (SIZE large ) (DRINKTYPE ice teas ) ) with no sugar )\n",
      "SRC     :  can you give me a small pizza with jalepeno peppers and onions a medium pizza with italian sausage a large combination pizza and three large mountain dews\n",
      "EXPECTED:  (ORDER can you give me (PIZZAORDER (NUMBER a ) (SIZE small ) pizza with (TOPPING jalepeno peppers ) and (TOPPING onions ) ) (PIZZAORDER (NUMBER a ) (SIZE medium ) pizza with (TOPPING italian sausage ) ) (PIZZAORDER (NUMBER a ) (SIZE large ) (STYLE combination ) pizza ) and (DRINKORDER (NUMBER three ) (SIZE large ) (DRINKTYPE mountain dews ) ) )\n",
      "GOT     :  (ORDER can you give me (PIZZAORDER (NUMBER a ) (SIZE small ) pizza with (TOPPING jalepeno ) (TOPPING peppers ) and (TOPPING onions ) ) (PIZZAORDER (NUMBER a ) (SIZE medium ) pizza with (TOPPING italian ) (TOPPING sausage ) ) (PIZZAORDER (NUMBER a ) (SIZE large ) (STYLE combination ) pizza ) and (DRINKORDER (NUMBER three ) (SIZE large ) (DRINKTYPE mountain dews ) ) )\n",
      "SRC     :  okay let me think i'll have one pizza with ham on it also i want olives but i don't care for pepperoni that's all\n",
      "EXPECTED:  (ORDER okay let me think i'll have (PIZZAORDER (NUMBER one ) pizza with (TOPPING ham ) on it also i want (TOPPING olives ) but i don't care for (NOT (TOPPING pepperoni ) ) ) that's all )\n",
      "GOT     :  (ORDER okay let me think i'll have (PIZZAORDER (NUMBER one ) pizza with (TOPPING ham ) on it also i want (TOPPING olives ) but i don't care for (NOT (TOPPING pepperoni ) ) that's ) all )\n",
      "SRC     :  my order is for four medium pizzas with bacon mushrooms and black olives and six large pizzas with pepperoni sausage and mushrooms\n",
      "EXPECTED:  (ORDER my order is for (PIZZAORDER (NUMBER four ) (SIZE medium ) pizzas with (TOPPING bacon ) (TOPPING mushrooms ) and (TOPPING black olives ) ) and (PIZZAORDER (NUMBER six ) (SIZE large ) pizzas with (TOPPING pepperoni ) (TOPPING sausage ) and (TOPPING mushrooms ) ) )\n",
      "GOT     :  (ORDER my order is for (PIZZAORDER (NUMBER four ) (SIZE medium ) pizzas with (TOPPING bacon ) (TOPPING mushrooms ) and (TOPPING black ) (TOPPING olives ) ) and (PIZZAORDER (NUMBER six ) (SIZE large ) pizzas with (TOPPING pepperoni ) (TOPPING sausage ) and (TOPPING mushrooms ) ) )\n",
      "SRC     :  i want one large size pizza for toppings i'd like pineapple and please put extra cheese on there but i do not like bacon on my pizza thanks a lot\n",
      "EXPECTED:  (ORDER i want (PIZZAORDER (NUMBER one ) (SIZE large ) size pizza for toppings i'd like (TOPPING pineapple ) and please put (COMPLEX_TOPPING (QUANTITY extra ) (TOPPING cheese ) ) on there but i do not like (NOT (TOPPING bacon ) ) ) on my pizza thanks a lot )\n",
      "GOT     :  (ORDER i want (PIZZAORDER (NUMBER one ) (SIZE large ) size pizza for toppings i'd like (TOPPING pineapple ) and please put (COMPLEX_TOPPING (QUANTITY extra ) (TOPPING cheese ) ) on there but i do not like (TOPPING bacon ) ) on (PIZZAORDER (STYLE my ) pizza ) thanks a lot )\n",
      "SRC     :  i think i'll have a small pie with sausage and peppers but i do not want pineapple on it\n",
      "EXPECTED:  (ORDER i think i'll have (PIZZAORDER (NUMBER a ) (SIZE small ) pie with (TOPPING sausage ) and (TOPPING peppers ) but i do not want (NOT (TOPPING pineapple ) ) ) on it )\n",
      "GOT     :  (ORDER i think i'll have (PIZZAORDER (NUMBER a ) (SIZE small ) pie with (TOPPING sausage ) and (TOPPING peppers ) but i do not want (TOPPING pineapple ) on it ) )\n",
      "SRC     :  please make me a medium pizza with mushrooms as well as extra cheese but leave off the sausage thanks\n",
      "EXPECTED:  (ORDER please make me (PIZZAORDER (NUMBER a ) (SIZE medium ) pizza with (TOPPING mushrooms ) as well as (COMPLEX_TOPPING (QUANTITY extra ) (TOPPING cheese ) ) but leave off the (NOT (TOPPING sausage ) ) ) thanks )\n",
      "GOT     :  (ORDER please make me (PIZZAORDER (NUMBER a ) (SIZE medium ) pizza with (TOPPING mushrooms ) as well as (COMPLEX_TOPPING (QUANTITY extra ) (TOPPING cheese ) ) but leave off ) the sausage thanks )\n",
      "SRC     :  can you get me one pizza with extra cheese onions and pepperoni thanks\n",
      "EXPECTED:  (ORDER can you get me (PIZZAORDER (NUMBER one ) pizza with (COMPLEX_TOPPING (QUANTITY extra ) (TOPPING cheese ) ) (TOPPING onions ) and (TOPPING pepperoni ) ) thanks )\n",
      "GOT     :  (ORDER can you get me (PIZZAORDER (NUMBER one ) pizza with (COMPLEX_TOPPING (QUANTITY extra ) (TOPPING cheese ) ) (TOPPING onions ) and (TOPPING pepperoni ) thanks ) )\n",
      "SRC     :  can i get a medium pizza with bacon and chicken but without thin crust\n",
      "EXPECTED:  (ORDER can i get (PIZZAORDER (NUMBER a ) (SIZE medium ) pizza with (TOPPING bacon ) and (TOPPING chicken ) but without (NOT (STYLE thin crust ) ) ) )\n",
      "GOT     :  (ORDER can i get (PIZZAORDER (NUMBER a ) (SIZE medium ) pizza with (TOPPING bacon ) and (TOPPING chicken ) but without (NOT (STYLE thin ) ) crust ) )\n",
      "SRC     :  medium pizza with sausage and mushrooms skip the ham\n",
      "EXPECTED:  (ORDER (PIZZAORDER (SIZE medium ) pizza with (TOPPING sausage ) and (TOPPING mushrooms ) skip the (NOT (TOPPING ham ) ) ) )\n",
      "GOT     :  (ORDER (PIZZAORDER (SIZE medium ) pizza with (TOPPING sausage ) and (TOPPING mushrooms ) (TOPPING skip ) the (TOPPING ham ) ) )\n",
      "SRC     :  i want to order two pizzas make them both large i want olives onions and pesto as well thanks a lot\n",
      "EXPECTED:  (ORDER i want to order (PIZZAORDER (NUMBER two ) pizzas make them both (SIZE large ) i want (TOPPING olives ) (TOPPING onions ) and (TOPPING pesto ) ) as well thanks a lot )\n",
      "GOT     :  (ORDER i want to order (PIZZAORDER (NUMBER two ) pizzas make them both (SIZE large ) i want (TOPPING olives ) (TOPPING onions ) and (TOPPING pesto ) ) as well thanks (PIZZAORDER (NUMBER a ) (SIZE lot ) ) )\n",
      "SRC     :  i'll have one large pizza with pesto and extra cheese and don't put olives on it\n",
      "EXPECTED:  (ORDER i'll have (PIZZAORDER (NUMBER one ) (SIZE large ) pizza with (TOPPING pesto ) and (COMPLEX_TOPPING (QUANTITY extra ) (TOPPING cheese ) ) and don't put (NOT (TOPPING olives ) ) ) on it )\n",
      "GOT     :  (ORDER i'll have (PIZZAORDER (NUMBER one ) (SIZE large ) pizza with (TOPPING pesto ) and (COMPLEX_TOPPING (QUANTITY extra ) (TOPPING cheese ) ) and don't put (TOPPING olives ) on it ) )\n",
      "SRC     :  place an order for a vegetarian pizza with no tomatoe sauce on it\n",
      "EXPECTED:  (ORDER place an order for (PIZZAORDER (NUMBER a ) (STYLE vegetarian ) pizza with no (NOT (TOPPING tomatoe sauce ) ) ) on it )\n",
      "GOT     :  (ORDER place an order for (PIZZAORDER (NUMBER a ) (STYLE vegetarian ) pizza with no (NOT (TOPPING tomatoe sauce ) ) on it ) )\n",
      "SRC     :  good afternoon i'm in the mood for a medium pizza i'd love pineapple on it and i love thin crust please do not put any ham on there i don't like ham on pizza\n",
      "EXPECTED:  (ORDER good afternoon i'm in the mood for (PIZZAORDER (NUMBER a ) (SIZE medium ) pizza i'd love (TOPPING pineapple ) on it and i love (STYLE thin crust ) please do not put any (NOT (TOPPING ham ) ) ) on there i don't like ham on pizza )\n",
      "GOT     :  (ORDER good afternoon i'm in the mood for (PIZZAORDER (NUMBER a ) (SIZE medium ) pizza i'd love (TOPPING pineapple ) on it and i love (STYLE thin crust ) please do not put any (NOT (TOPPING ham ) ) on ) there (PIZZAORDER i don't like (TOPPING ham ) on pizza ) )\n",
      "SRC     :  i need a small sausage and tuna pizza with a thin crust\n",
      "EXPECTED:  (ORDER i need (PIZZAORDER (NUMBER a ) (SIZE small ) (TOPPING sausage ) and (TOPPING tuna ) pizza with a (STYLE thin crust ) ) )\n",
      "GOT     :  (ORDER i need (PIZZAORDER (NUMBER a ) (SIZE small ) (TOPPING sausage ) and (TOPPING tuna ) pizza with ) (PIZZAORDER (NUMBER a ) (STYLE thin crust ) ) )\n",
      "SRC     :  order one large pizza with bacon ham green peppers onions black olives extra cheese and extra bacon and four large diet cokes\n",
      "EXPECTED:  (ORDER order (PIZZAORDER (NUMBER one ) (SIZE large ) pizza with (TOPPING bacon ) (TOPPING ham ) (TOPPING green peppers ) (TOPPING onions ) (TOPPING black olives ) (COMPLEX_TOPPING (QUANTITY extra ) (TOPPING cheese ) ) and (COMPLEX_TOPPING (QUANTITY extra ) (TOPPING bacon ) ) ) and (DRINKORDER (NUMBER four ) (SIZE large ) (DRINKTYPE diet cokes ) ) )\n",
      "GOT     :  (ORDER order (PIZZAORDER (NUMBER one ) (SIZE large ) pizza with (TOPPING bacon ) (TOPPING ham ) (TOPPING green ) (TOPPING peppers ) (TOPPING onions ) (TOPPING black ) (TOPPING olives ) (COMPLEX_TOPPING (QUANTITY extra ) (TOPPING cheese ) ) and (COMPLEX_TOPPING (QUANTITY extra ) (TOPPING bacon ) ) ) and (DRINKORDER (NUMBER four ) (SIZE large ) (DRINKTYPE diet cokes ) ) )\n",
      "SRC     :  i want a large pizza with pepperoni ground beef onions and mushrooms with a large coke\n",
      "EXPECTED:  (ORDER i want (PIZZAORDER (NUMBER a ) (SIZE large ) pizza with (TOPPING pepperoni ) (TOPPING ground beef ) (TOPPING onions ) and (TOPPING mushrooms ) ) with (DRINKORDER (NUMBER a ) (SIZE large ) (DRINKTYPE coke ) ) )\n",
      "GOT     :  (ORDER i want (PIZZAORDER (NUMBER a ) (SIZE large ) pizza with (TOPPING pepperoni ) (TOPPING ground ) (TOPPING beef ) (TOPPING onions ) and (TOPPING mushrooms ) ) with (DRINKORDER (NUMBER a ) (SIZE large ) (DRINKTYPE coke ) ) )\n",
      "SRC     :  order a large pizza with peppers and sausage that is not thin crust\n",
      "EXPECTED:  (ORDER order (PIZZAORDER (NUMBER a ) (SIZE large ) pizza with (TOPPING peppers ) and (TOPPING sausage ) that is not (NOT (STYLE thin crust ) ) ) )\n",
      "GOT     :  (ORDER order (PIZZAORDER (NUMBER a ) (SIZE large ) pizza with (TOPPING peppers ) and (TOPPING sausage ) that is not (NOT (STYLE thin ) ) crust ) )\n",
      "SRC     :  order a pizza with bacon peppers and pesto on it\n",
      "EXPECTED:  (ORDER order (PIZZAORDER (NUMBER a ) pizza with (TOPPING bacon ) (TOPPING peppers ) and (TOPPING pesto ) ) on it )\n",
      "GOT     :  (ORDER order (PIZZAORDER (NUMBER a ) pizza with (TOPPING bacon ) (TOPPING peppers ) and (TOPPING pesto ) on it ) )\n",
      "SRC     :  can you get me one pizza with onions pepperoni and sausage thanks\n",
      "EXPECTED:  (ORDER can you get me (PIZZAORDER (NUMBER one ) pizza with (TOPPING onions ) (TOPPING pepperoni ) and (TOPPING sausage ) ) thanks )\n",
      "GOT     :  (ORDER can you get me (PIZZAORDER (NUMBER one ) pizza with (TOPPING onions ) (TOPPING pepperoni ) ) and sausage thanks )\n",
      "SRC     :  i only want one pizza today and i'd love it topped with pepperonis and sausage but i don't want any mushrooms hate mushrooms\n",
      "EXPECTED:  (ORDER i only want (PIZZAORDER (NUMBER one ) pizza today and i'd love it topped with (TOPPING pepperonis ) and (TOPPING sausage ) but i don't want any (NOT (TOPPING mushrooms ) ) ) hate mushrooms )\n",
      "GOT     :  (ORDER i only want (PIZZAORDER (NUMBER one ) pizza today and i'd love it topped with (TOPPING pepperonis ) and (TOPPING sausage ) but i don't want any (NOT (TOPPING mushrooms ) ) hate (NOT (TOPPING mushrooms ) ) ) )\n",
      "SRC     :  i like to one large size pizza\n",
      "EXPECTED:  (ORDER i like to (PIZZAORDER (NUMBER one ) (SIZE large ) ) size pizza )\n",
      "GOT     :  (ORDER i like to (PIZZAORDER (NUMBER one ) (SIZE large ) size pizza ) )\n",
      "SRC     :  i'd like one small pizza with mushrooms ham and onions on it\n",
      "EXPECTED:  (ORDER i'd like (PIZZAORDER (NUMBER one ) (SIZE small ) pizza with (TOPPING mushrooms ) (TOPPING ham ) and (TOPPING onions ) ) on it )\n",
      "GOT     :  (ORDER i'd like (PIZZAORDER (NUMBER one ) (SIZE small ) pizza with (TOPPING mushrooms ) (TOPPING ham ) and (TOPPING onions ) on it ) )\n",
      "SRC     :  i would like to have one pie with mushrooms and sausage but without any ham\n",
      "EXPECTED:  (ORDER i would like to have (PIZZAORDER (NUMBER one ) pie with (TOPPING mushrooms ) and (TOPPING sausage ) but without any (NOT (TOPPING ham ) ) ) )\n",
      "GOT     :  (ORDER i would like to have (PIZZAORDER (NUMBER one ) pie with (TOPPING mushrooms ) and (TOPPING sausage ) but without any (NOT (COMPLEX_TOPPING (QUANTITY ham ) ) ) ) )\n",
      "SRC     :  please i would like one medium pie without sausage and with tuna and ham\n",
      "EXPECTED:  (ORDER please i would like (PIZZAORDER (NUMBER one ) (SIZE medium ) pie without (NOT (TOPPING sausage ) ) and with (TOPPING tuna ) and (TOPPING ham ) ) )\n",
      "GOT     :  (ORDER please i would like (PIZZAORDER (NUMBER one ) (SIZE medium ) pie without (TOPPING sausage ) and with (TOPPING tuna ) and (TOPPING ham ) ) )\n",
      "SRC     :  i need a personal pan pizza with stuff crust and make it a veggies lover\n",
      "EXPECTED:  (ORDER i need (PIZZAORDER (NUMBER a ) (SIZE personal ) (STYLE pan ) pizza with (STYLE stuff crust ) and make it a (STYLE veggies lover ) ) )\n",
      "GOT     :  (ORDER i need (PIZZAORDER (NUMBER a ) (SIZE personal ) (STYLE pan ) pizza with (STYLE stuff crust ) and make it ) (PIZZAORDER (NUMBER a ) (STYLE veggies lover ) ) )\n",
      "SRC     :  i want a pesto and pepper pizza with no bacon on it\n",
      "EXPECTED:  (ORDER i want (PIZZAORDER (NUMBER a ) (TOPPING pesto ) and (TOPPING pepper ) pizza with no (NOT (TOPPING bacon ) ) ) on it )\n",
      "GOT     :  (ORDER i want (PIZZAORDER (NUMBER a ) (TOPPING pesto ) and (TOPPING pepper ) pizza with no (NOT (TOPPING bacon ) ) on it ) )\n",
      "SRC     :  this order is for a large pizza with sausage ham green peppers and extra sauce and extra cheese\n",
      "EXPECTED:  (ORDER this order is for (PIZZAORDER (NUMBER a ) (SIZE large ) pizza with (TOPPING sausage ) (TOPPING ham ) (TOPPING green peppers ) and (COMPLEX_TOPPING (QUANTITY extra ) (TOPPING sauce ) ) and (COMPLEX_TOPPING (QUANTITY extra ) (TOPPING cheese ) ) ) )\n",
      "GOT     :  (ORDER this order is for (PIZZAORDER (NUMBER a ) (SIZE large ) pizza with (TOPPING sausage ) (TOPPING ham ) (TOPPING green ) (TOPPING peppers ) and (COMPLEX_TOPPING extra (TOPPING sauce ) ) and (COMPLEX_TOPPING (QUANTITY extra ) (TOPPING cheese ) ) ) )\n",
      "SRC     :  order me two extra large pizzas with everything but onion and hot peppers and a large pizza with mushrooms and sausage\n",
      "EXPECTED:  (ORDER order me (PIZZAORDER (NUMBER two ) (SIZE extra large ) pizzas with (STYLE everything ) but (NOT (TOPPING onion ) ) and (NOT (TOPPING hot peppers ) ) ) and (PIZZAORDER (NUMBER a ) (SIZE large ) pizza with (TOPPING mushrooms ) and (TOPPING sausage ) ) )\n",
      "GOT     :  (ORDER order me (PIZZAORDER (NUMBER two ) (SIZE extra large ) pizzas with (STYLE everything ) but (TOPPING onion ) and (TOPPING hot ) (TOPPING peppers ) ) and (PIZZAORDER (NUMBER a ) (SIZE large ) pizza with (TOPPING mushrooms ) and (TOPPING sausage ) ) )\n",
      "SRC     :  good afternoon can i please have a pizza make it large please add some onions as well as ham but i'll pass on the peppers\n",
      "EXPECTED:  (ORDER good afternoon can i please have (PIZZAORDER (NUMBER a ) pizza make it (SIZE large ) please add some (TOPPING onions ) as well as (TOPPING ham ) but i'll pass on the (NOT (TOPPING peppers ) ) ) )\n",
      "GOT     :  (ORDER good afternoon can i please have (PIZZAORDER (NUMBER a ) pizza make it (SIZE large ) please add some (TOPPING onions ) as well as (TOPPING ham ) but i'll pass on the (TOPPING peppers ) ) )\n",
      "SRC     :  i would like you to order me four large cheese pizzas and four pepsi drinks\n",
      "EXPECTED:  (ORDER i would like you to order me (PIZZAORDER (NUMBER four ) (SIZE large ) (TOPPING cheese ) pizzas ) and (DRINKORDER (NUMBER four ) (DRINKTYPE pepsi ) ) drinks )\n",
      "GOT     :  (ORDER i would like you to order me (PIZZAORDER (NUMBER four ) (SIZE large ) (TOPPING cheese ) pizzas ) and (DRINKORDER (NUMBER four ) (DRINKTYPE pepsi ) drinks ) )\n",
      "SRC     :  i'd like one pizza please make it large for toppings i'm in the mood for olives onions and go ahead and put some pineapple on it thanks so much\n",
      "EXPECTED:  (ORDER i'd like (PIZZAORDER (NUMBER one ) pizza please make it (SIZE large ) for toppings i'm in the mood for (TOPPING olives ) (TOPPING onions ) and go ahead and put some (TOPPING pineapple ) ) on it thanks so much )\n",
      "GOT     :  (ORDER i'd like (PIZZAORDER (NUMBER one ) pizza please make it (SIZE large ) for toppings i'm in the mood for (TOPPING olives ) (TOPPING onions ) and go ahead and put some (TOPPING pineapple ) on it ) thanks so much )\n",
      "SRC     :  can i please get three pizzas with ham and chicken and leave off the mushrooms\n",
      "EXPECTED:  (ORDER can i please get (PIZZAORDER (NUMBER three ) pizzas with (TOPPING ham ) and (TOPPING chicken ) and leave off the (NOT (TOPPING mushrooms ) ) ) )\n",
      "GOT     :  (ORDER can i please get (PIZZAORDER (NUMBER three ) pizzas with (TOPPING ham ) and (TOPPING chicken ) and leave off the (TOPPING mushrooms ) ) )\n",
      "SRC     :  small pizza please with red peppers\n",
      "EXPECTED:  (ORDER (PIZZAORDER (SIZE small ) pizza please with (TOPPING red peppers ) ) )\n",
      "GOT     :  (ORDER (PIZZAORDER (SIZE small ) pizza please with (TOPPING red ) (TOPPING peppers ) ) )\n",
      "SRC     :  can i get a large meatball pizza with basil and some garlic powder\n",
      "EXPECTED:  (ORDER can i get (PIZZAORDER (NUMBER a ) (SIZE large ) (TOPPING meatball ) pizza with (TOPPING basil ) and some (TOPPING garlic powder ) ) )\n",
      "GOT     :  (ORDER can i get (PIZZAORDER (NUMBER a ) (SIZE large ) (TOPPING meatball ) pizza with (TOPPING basil ) and some (TOPPING garlic ) (TOPPING powder ) ) )\n",
      "SRC     :  can i have a pizza with ham and peppers pineapple thanks\n",
      "EXPECTED:  (ORDER can i have (PIZZAORDER (NUMBER a ) pizza with (TOPPING ham ) and (TOPPING peppers ) (TOPPING pineapple ) ) thanks )\n",
      "GOT     :  (ORDER can i have (PIZZAORDER (NUMBER a ) pizza with (TOPPING ham ) ) and peppers pineapple thanks )\n",
      "SRC     :  i'd like a pizza that's not thin crust topped with pesto and peppers\n",
      "EXPECTED:  (ORDER i'd like (PIZZAORDER (NUMBER a ) pizza that's not (NOT (STYLE thin crust ) ) topped with (TOPPING pesto ) and (TOPPING peppers ) ) )\n",
      "GOT     :  (ORDER i'd like (PIZZAORDER (NUMBER a ) pizza that's not (STYLE thin crust ) topped with (TOPPING pesto ) and (TOPPING peppers ) ) )\n",
      "SRC     :  i would like to get one large ham and onion pie without pesto sauce please\n",
      "EXPECTED:  (ORDER i would like to get (PIZZAORDER (NUMBER one ) (SIZE large ) (TOPPING ham ) and (TOPPING onion ) pie without (NOT (TOPPING pesto sauce ) ) ) please )\n",
      "GOT     :  (ORDER i would like to get (PIZZAORDER (NUMBER one ) (SIZE large ) (TOPPING ham ) and (TOPPING onion ) pie without (NOT (TOPPING pesto ) ) sauce ) please )\n",
      "SRC     :  i'll take a large pizza with chicken on it and mushrooms please make sure there is no extra cheese that's all\n",
      "EXPECTED:  (ORDER i'll take (PIZZAORDER (NUMBER a ) (SIZE large ) pizza with (TOPPING chicken ) on it and (TOPPING mushrooms ) please make sure there is no (NOT (COMPLEX_TOPPING (QUANTITY extra ) (TOPPING cheese ) ) ) ) that's all )\n",
      "GOT     :  (ORDER i'll take (PIZZAORDER (NUMBER a ) (SIZE large ) pizza with (TOPPING chicken ) on it and (TOPPING mushrooms ) please make sure there is no (NOT (COMPLEX_TOPPING (QUANTITY extra ) (TOPPING cheese ) ) ) that's ) all )\n",
      "SRC     :  put an order in for two medium pizzas with olives and light sauce but extra cheese\n",
      "EXPECTED:  (ORDER put an order in for (PIZZAORDER (NUMBER two ) (SIZE medium ) pizzas with (TOPPING olives ) and (COMPLEX_TOPPING (QUANTITY light ) (TOPPING sauce ) ) but (COMPLEX_TOPPING (QUANTITY extra ) (TOPPING cheese ) ) ) )\n",
      "GOT     :  (ORDER put an order in for (PIZZAORDER (NUMBER two ) (SIZE medium ) pizzas with (TOPPING olives ) and (COMPLEX_TOPPING (QUANTITY light sauce ) ) but (COMPLEX_TOPPING (QUANTITY extra ) (TOPPING cheese ) ) ) )\n",
      "SRC     :  i want two large pizzas without ham and tuna chicken on top\n",
      "EXPECTED:  (ORDER i want (PIZZAORDER (NUMBER two ) (SIZE large ) pizzas without (NOT (TOPPING ham ) ) and (TOPPING tuna ) (TOPPING chicken ) ) on top )\n",
      "GOT     :  (ORDER i want (PIZZAORDER (NUMBER two ) (SIZE large ) pizzas without (TOPPING ham ) and (TOPPING tuna ) ) chicken on top )\n",
      "SRC     :  place an order for three small cheese pizzas amd two large pizzas with extra cheese\n",
      "EXPECTED:  (ORDER place an order for (PIZZAORDER (NUMBER three ) (SIZE small ) (TOPPING cheese ) pizzas ) amd (PIZZAORDER (NUMBER two ) (SIZE large ) pizzas with (COMPLEX_TOPPING (QUANTITY extra ) (TOPPING cheese ) ) ) )\n",
      "GOT     :  (ORDER place an order for (PIZZAORDER (NUMBER three ) (SIZE small ) (TOPPING cheese ) pizzas amd ) (PIZZAORDER (NUMBER two ) (SIZE large ) pizzas with (COMPLEX_TOPPING (QUANTITY extra ) (TOPPING cheese ) ) ) )\n",
      "SRC     :  two medium with ham and peppers and one small with only cheese pizza\n",
      "EXPECTED:  (ORDER (PIZZAORDER (NUMBER two ) (SIZE medium ) with (TOPPING ham ) and (TOPPING peppers ) ) and (PIZZAORDER (NUMBER one ) (SIZE small ) with only (TOPPING cheese ) pizza ) )\n",
      "GOT     :  (ORDER (PIZZAORDER (NUMBER two ) (SIZE medium ) with (TOPPING ham ) and (TOPPING peppers ) ) and (PIZZAORDER (NUMBER one ) (SIZE small ) with (COMPLEX_TOPPING (QUANTITY only ) ) (TOPPING cheese ) pizza ) )\n",
      "SRC     :  i need one pizza might as well make it large on it i'd like olives make it thin crust and no pineapples today that's great\n",
      "EXPECTED:  (ORDER i need (PIZZAORDER (NUMBER one ) pizza might as well make it (SIZE large ) on it i'd like (TOPPING olives ) make it (STYLE thin crust ) and no (NOT (TOPPING pineapples ) ) ) today that's great )\n",
      "GOT     :  (ORDER i need (PIZZAORDER (NUMBER one ) pizza might as well make it (SIZE large ) on it i'd like (TOPPING olives ) make it (STYLE thin crust ) and no (NOT (TOPPING pineapples ) ) today ) that's great )\n",
      "SRC     :  i'd like one large pepperoni and ham pizza and please leave off the olives\n",
      "EXPECTED:  (ORDER i'd like (PIZZAORDER (NUMBER one ) (SIZE large ) (TOPPING pepperoni ) and (TOPPING ham ) pizza and please leave off the (NOT (TOPPING olives ) ) ) )\n",
      "GOT     :  (ORDER i'd like (PIZZAORDER (NUMBER one ) (SIZE large ) (TOPPING pepperoni ) and (TOPPING ham ) pizza and please leave off the (TOPPING olives ) ) )\n",
      "SRC     :  could you please get me a small thin crust pizza with ham and leave off the peppers\n",
      "EXPECTED:  (ORDER could you please get me (PIZZAORDER (NUMBER a ) (SIZE small ) (STYLE thin crust ) pizza with (TOPPING ham ) and leave off the (NOT (TOPPING peppers ) ) ) )\n",
      "GOT     :  (ORDER could you please get me (PIZZAORDER (NUMBER a ) (SIZE small ) (STYLE thin crust ) pizza with (TOPPING ham ) and leave off the (TOPPING peppers ) ) )\n",
      "SRC     :  i would like to order five pizzas with the peppers and onions pesto as my base please\n",
      "EXPECTED:  (ORDER i would like to order (PIZZAORDER (NUMBER five ) pizzas with the (TOPPING peppers ) and (TOPPING onions ) (TOPPING pesto ) ) as my base please )\n",
      "GOT     :  (ORDER i would like to order (PIZZAORDER (NUMBER five ) pizzas with the (TOPPING peppers ) and (TOPPING onions ) (TOPPING pesto ) as ) my base please )\n",
      "SRC     :  i want bacon olives without chicken in large pizza\n",
      "EXPECTED:  (ORDER i want (PIZZAORDER (TOPPING bacon ) (TOPPING olives ) without (NOT (TOPPING chicken ) ) in (SIZE large ) pizza ) )\n",
      "GOT     :  (ORDER i want bacon (PIZZAORDER (TOPPING olives ) without (NOT (TOPPING chicken ) ) in (SIZE large ) pizza ) )\n",
      "SRC     :  order me one large pepperoni pizza with pineapples and one large pepperoni pizza with onions and bell peppers and a large coca-cola\n",
      "EXPECTED:  (ORDER order me (PIZZAORDER (NUMBER one ) (SIZE large ) (TOPPING pepperoni ) pizza with (TOPPING pineapples ) ) and (PIZZAORDER (NUMBER one ) (SIZE large ) (TOPPING pepperoni ) pizza with (TOPPING onions ) and (TOPPING bell peppers ) ) and (DRINKORDER (NUMBER a ) (SIZE large ) (DRINKTYPE coca-cola ) ) )\n",
      "GOT     :  (ORDER order me (PIZZAORDER (NUMBER one ) (SIZE large ) (TOPPING pepperoni ) pizza with (TOPPING pineapples ) ) and (PIZZAORDER (NUMBER one ) (SIZE large ) (TOPPING pepperoni ) pizza with (TOPPING onions ) and (TOPPING bell ) (TOPPING peppers ) ) and (DRINKORDER (NUMBER a ) (SIZE large ) (DRINKTYPE coca-cola ) ) )\n",
      "SRC     :  put in an order for two large pizzas with extra cheese and light sauce along with two sprites and a coke\n",
      "EXPECTED:  (ORDER put in an order for (PIZZAORDER (NUMBER two ) (SIZE large ) pizzas with (COMPLEX_TOPPING (QUANTITY extra ) (TOPPING cheese ) ) and (COMPLEX_TOPPING (QUANTITY light ) (TOPPING sauce ) ) ) along with (DRINKORDER (NUMBER two ) (DRINKTYPE sprites ) ) and (DRINKORDER (NUMBER a ) (DRINKTYPE coke ) ) )\n",
      "GOT     :  (ORDER put in an order for (PIZZAORDER (NUMBER two ) (SIZE large ) pizzas with (COMPLEX_TOPPING (QUANTITY extra ) (TOPPING cheese ) ) and (COMPLEX_TOPPING (QUANTITY light sauce ) ) ) along with (DRINKORDER (NUMBER two ) (DRINKTYPE sprites ) ) and (DRINKORDER (NUMBER a ) (DRINKTYPE coke ) ) )\n",
      "SRC     :  can you get me a small combination pizza and a medium pizza with mushrooms onions green olives and jalepenos\n",
      "EXPECTED:  (ORDER can you get me (PIZZAORDER (NUMBER a ) (SIZE small ) (STYLE combination ) pizza ) and (PIZZAORDER (NUMBER a ) (SIZE medium ) pizza with (TOPPING mushrooms ) (TOPPING onions ) (TOPPING green olives ) and (TOPPING jalepenos ) ) )\n",
      "GOT     :  (ORDER can you get me (PIZZAORDER (NUMBER a ) (SIZE small ) (STYLE combination ) pizza ) and (PIZZAORDER (NUMBER a ) (SIZE medium ) pizza with (TOPPING mushrooms ) (TOPPING onions ) (TOPPING green ) (TOPPING olives ) and (TOPPING jalepenos ) ) )\n",
      "SRC     :  i'll try a pizza with onions and ham as toppings and make sure there is no tuna on it okay\n",
      "EXPECTED:  (ORDER i'll try (PIZZAORDER (NUMBER a ) pizza with (TOPPING onions ) and (TOPPING ham ) as toppings and make sure there is no (NOT (TOPPING tuna ) ) ) on it okay )\n",
      "GOT     :  (ORDER i'll try (PIZZAORDER (NUMBER a ) pizza with (TOPPING onions ) and (TOPPING ham ) as toppings and make sure there is no (NOT (TOPPING tuna ) ) on ) it okay )\n",
      "SRC     :  this order is for one large pizza with pepperoni sausage mushrooms green pepper black olives onions and extra cheese\n",
      "EXPECTED:  (ORDER this order is for (PIZZAORDER (NUMBER one ) (SIZE large ) pizza with (TOPPING pepperoni ) (TOPPING sausage ) (TOPPING mushrooms ) (TOPPING green pepper ) (TOPPING black olives ) (TOPPING onions ) and (COMPLEX_TOPPING (QUANTITY extra ) (TOPPING cheese ) ) ) )\n",
      "GOT     :  (ORDER this order is for (PIZZAORDER (NUMBER one ) (SIZE large ) pizza with (TOPPING pepperoni ) (TOPPING sausage ) (TOPPING mushrooms ) (TOPPING green ) (TOPPING pepper ) (TOPPING black ) (TOPPING olives ) (TOPPING onions ) and (COMPLEX_TOPPING (QUANTITY extra ) (TOPPING cheese ) ) ) )\n",
      "SRC     :  order one small deep dish pizza with italian sausage and onions\n",
      "EXPECTED:  (ORDER order (PIZZAORDER (NUMBER one ) (SIZE small ) (STYLE deep dish ) pizza with (TOPPING italian sausage ) and (TOPPING onions ) ) )\n",
      "GOT     :  (ORDER order (PIZZAORDER (NUMBER one ) (SIZE small ) (STYLE deep dish ) pizza with (TOPPING italian ) (TOPPING sausage ) and (TOPPING onions ) ) )\n",
      "SRC     :  i'd like three pepsis just one coke and one diet sprite i appreciate it\n",
      "EXPECTED:  (ORDER i'd like (DRINKORDER (NUMBER three ) (DRINKTYPE pepsis ) ) just (DRINKORDER (NUMBER one ) (DRINKTYPE coke ) ) and (DRINKORDER (NUMBER one ) (DRINKTYPE diet sprite ) ) i appreciate it )\n",
      "GOT     :  (ORDER i'd like (DRINKORDER (NUMBER three ) (DRINKTYPE pepsis ) ) just (DRINKORDER (NUMBER one ) (DRINKTYPE coke ) ) and (DRINKORDER (NUMBER one ) (DRINKTYPE diet sprite ) i ) appreciate it )\n",
      "SRC     :  get me a pepperoni and pineapple pizza with bacon on it\n",
      "EXPECTED:  (ORDER get me (PIZZAORDER (NUMBER a ) (TOPPING pepperoni ) and (TOPPING pineapple ) pizza with (TOPPING bacon ) ) on it )\n",
      "GOT     :  (ORDER get me (PIZZAORDER (NUMBER a ) (TOPPING pepperoni ) and (TOPPING pineapple ) pizza with (TOPPING bacon ) on it ) )\n",
      "SRC     :  i want to order one lunch pizza with black olives and green pepper one lunch pizza with ham and pineapple and two medium sprites\n",
      "EXPECTED:  (ORDER i want to order (PIZZAORDER (NUMBER one ) (SIZE lunch ) pizza with (TOPPING black olives ) and (TOPPING green pepper ) ) (PIZZAORDER (NUMBER one ) (SIZE lunch ) pizza with (TOPPING ham ) and (TOPPING pineapple ) ) and (DRINKORDER (NUMBER two ) (SIZE medium ) (DRINKTYPE sprites ) ) )\n",
      "GOT     :  (ORDER i want to order (PIZZAORDER (NUMBER one ) (SIZE lunch ) pizza with (TOPPING black ) (TOPPING olives ) and (TOPPING green ) (TOPPING pepper ) ) (PIZZAORDER (NUMBER one ) (SIZE lunch ) pizza with (TOPPING ham ) and (TOPPING pineapple ) ) and (DRINKORDER (NUMBER two ) (SIZE medium ) (DRINKTYPE sprites ) ) )\n",
      "SRC     :  i want one medium pizza with everything except mushrooms and hot peppers one large coke and one large diet coke\n",
      "EXPECTED:  (ORDER i want (PIZZAORDER (NUMBER one ) (SIZE medium ) pizza with (STYLE everything ) except (NOT (TOPPING mushrooms ) ) and (NOT (TOPPING hot peppers ) ) ) (DRINKORDER (NUMBER one ) (SIZE large ) (DRINKTYPE coke ) ) and (DRINKORDER (NUMBER one ) (SIZE large ) (DRINKTYPE diet coke ) ) )\n",
      "GOT     :  (ORDER i want (PIZZAORDER (NUMBER one ) (SIZE medium ) pizza with (STYLE everything ) except (TOPPING mushrooms ) and (TOPPING hot ) (TOPPING peppers ) ) (DRINKORDER (NUMBER one ) (SIZE large ) (DRINKTYPE coke ) ) and (DRINKORDER (NUMBER one ) (SIZE large ) (DRINKTYPE diet coke ) ) )\n",
      "SRC     :  one medium pizza with just cheese and one large pizza with mushroom and onion on it\n",
      "EXPECTED:  (ORDER (PIZZAORDER (NUMBER one ) (SIZE medium ) pizza with just (TOPPING cheese ) ) and (PIZZAORDER (NUMBER one ) (SIZE large ) pizza with (TOPPING mushroom ) and (TOPPING onion ) ) on it )\n",
      "GOT     :  (ORDER (PIZZAORDER (NUMBER one ) (SIZE medium ) pizza with just (TOPPING cheese ) ) and (PIZZAORDER (NUMBER one ) (SIZE large ) pizza with (TOPPING mushroom ) and (TOPPING onion ) on it ) )\n",
      "SRC     :  place an order for three small pizzas with black olives and banana peppers\n",
      "EXPECTED:  (ORDER place an order for (PIZZAORDER (NUMBER three ) (SIZE small ) pizzas with (TOPPING black olives ) and (TOPPING banana peppers ) ) )\n",
      "GOT     :  (ORDER place an order for (PIZZAORDER (NUMBER three ) (SIZE small ) pizzas with (TOPPING black ) (TOPPING olives ) and (TOPPING banana ) (TOPPING peppers ) ) )\n",
      "SRC     :  i need a large pizza with pineapple and spinach on it\n",
      "EXPECTED:  (ORDER i need (PIZZAORDER (NUMBER a ) (SIZE large ) pizza with (TOPPING pineapple ) and (TOPPING spinach ) ) on it )\n",
      "GOT     :  (ORDER i need (PIZZAORDER (NUMBER a ) (SIZE large ) pizza with (TOPPING pineapple ) and (TOPPING spinach ) on it ) )\n",
      "SRC     :  get me a large sausage and olive pizza with ham on it\n",
      "EXPECTED:  (ORDER get me (PIZZAORDER (NUMBER a ) (SIZE large ) (TOPPING sausage ) and (TOPPING olive ) pizza with (TOPPING ham ) ) on it )\n",
      "GOT     :  (ORDER get me (PIZZAORDER (NUMBER a ) (SIZE large ) (TOPPING sausage ) and (TOPPING olive ) pizza with (TOPPING ham ) on it ) )\n",
      "SRC     :  i think i'll order one large pizza with sausage and i'll try mushrooms on there too but i don't like pepperoni okay that's it\n",
      "EXPECTED:  (ORDER i think i'll order (PIZZAORDER (NUMBER one ) (SIZE large ) pizza with (TOPPING sausage ) and i'll try (TOPPING mushrooms ) on there too but i don't like (NOT (TOPPING pepperoni ) ) ) okay that's it )\n",
      "GOT     :  (ORDER i think i'll order (PIZZAORDER (NUMBER one ) (SIZE large ) pizza with (TOPPING sausage ) and i'll try (TOPPING mushrooms ) on there too but i don't like (NOT (TOPPING pepperoni ) ) okay ) that's it )\n",
      "SRC     :  good evening i need three pepsis but just one fanta in addition to that i'll take one doctor pepper make it the small size that's it\n",
      "EXPECTED:  (ORDER good evening i need (DRINKORDER (NUMBER three ) (DRINKTYPE pepsis ) ) but just (DRINKORDER (NUMBER one ) (DRINKTYPE fanta ) ) in addition to that i'll take (DRINKORDER (NUMBER one ) (DRINKTYPE doctor pepper ) make it the (SIZE small ) ) size that's it )\n",
      "GOT     :  (ORDER good evening i need (DRINKORDER (NUMBER three ) (DRINKTYPE pepsis ) ) but just (DRINKORDER (NUMBER one ) (DRINKTYPE fanta ) ) in addition to that i'll take one doctor (PIZZAORDER (TOPPING pepper ) make it ) the small size that's it )\n",
      "SRC     :  i need to order two cokes to go with a large sausage pizza\n",
      "EXPECTED:  (ORDER i need to order (DRINKORDER (NUMBER two ) (DRINKTYPE cokes ) ) to go with (PIZZAORDER (NUMBER a ) (SIZE large ) (TOPPING sausage ) pizza ) )\n",
      "GOT     :  (ORDER i need to order two cokes to go with (PIZZAORDER (NUMBER a ) (SIZE large ) (TOPPING sausage ) pizza ) )\n",
      "SRC     :  i want a medium mushroom - pineapple pizza but i'd like you to leave off the ham\n",
      "EXPECTED:  (ORDER i want (PIZZAORDER (NUMBER a ) (SIZE medium ) (TOPPING mushroom ) - (TOPPING pineapple ) pizza but i'd like you to leave off the (NOT (TOPPING ham ) ) ) )\n",
      "GOT     :  (ORDER i want (PIZZAORDER (NUMBER a ) (SIZE medium ) (TOPPING mushroom ) - (TOPPING pineapple ) pizza but i'd like you to leave off the (TOPPING ham ) ) )\n",
      "SRC     :  i want a medium size pizza please no bacon the toppings should be ham and sausage only\n",
      "EXPECTED:  (ORDER i want (PIZZAORDER (NUMBER a ) (SIZE medium ) size pizza please no (NOT (TOPPING bacon ) ) the toppings should be (TOPPING ham ) and (TOPPING sausage ) ) only )\n",
      "GOT     :  (ORDER i want (PIZZAORDER (NUMBER a ) (SIZE medium ) size pizza please no (TOPPING bacon ) the toppings should be (TOPPING ham ) and (TOPPING sausage ) only ) )\n",
      "SRC     :  could you give me a mushroom and bacon pizza large please and i want peppers on it too\n",
      "EXPECTED:  (ORDER could you give me (PIZZAORDER (NUMBER a ) (TOPPING mushroom ) and (TOPPING bacon ) pizza (SIZE large ) please and i want (TOPPING peppers ) ) on it too )\n",
      "GOT     :  (ORDER could you give me (PIZZAORDER (NUMBER a ) (TOPPING mushroom ) and (TOPPING bacon ) pizza (SIZE large ) please and i want (TOPPING peppers ) on it ) too )\n",
      "SRC     :  i need to order two medium cheese pizzas with extra parmesan on top\n",
      "EXPECTED:  (ORDER i need to order (PIZZAORDER (NUMBER two ) (SIZE medium ) (TOPPING cheese ) pizzas with (COMPLEX_TOPPING (QUANTITY extra ) (TOPPING parmesan ) ) ) on top )\n",
      "GOT     :  (ORDER i need to order (PIZZAORDER (NUMBER two ) (SIZE medium ) (TOPPING cheese ) pizzas with (COMPLEX_TOPPING (QUANTITY extra parmesan ) ) on top ) )\n",
      "SRC     :  i want one large five topping pizza with the toppings being bacon onions banana peppers black olives and sausage\n",
      "EXPECTED:  (ORDER i want (PIZZAORDER (NUMBER one ) (SIZE large ) five topping pizza with the toppings being (TOPPING bacon ) (TOPPING onions ) (TOPPING banana peppers ) (TOPPING black olives ) and (TOPPING sausage ) ) )\n",
      "GOT     :  (ORDER i want (PIZZAORDER (NUMBER one ) (SIZE large ) five topping pizza with the toppings being (TOPPING bacon ) (TOPPING onions ) (TOPPING banana ) (TOPPING peppers ) (TOPPING black ) (TOPPING olives ) and (TOPPING sausage ) ) )\n",
      "SRC     :  can you give me a medium combination pizza without mushrooms or bell peppers and a small ham with onions pizza\n",
      "EXPECTED:  (ORDER can you give me (PIZZAORDER (NUMBER a ) (SIZE medium ) (STYLE combination ) pizza without (NOT (TOPPING mushrooms ) ) or (NOT (TOPPING bell peppers ) ) ) and (PIZZAORDER (NUMBER a ) (SIZE small ) (TOPPING ham ) with (TOPPING onions ) pizza ) )\n",
      "GOT     :  (ORDER can you give me (PIZZAORDER (NUMBER a ) (SIZE medium ) (STYLE combination ) pizza without (NOT (TOPPING mushrooms ) ) or (TOPPING bell ) (TOPPING peppers ) ) and (PIZZAORDER (NUMBER a ) (SIZE small ) (TOPPING ham ) with (TOPPING onions ) pizza ) )\n",
      "SRC     :  get me a ham and olive pie with no pepperoni on it\n",
      "EXPECTED:  (ORDER get me (PIZZAORDER (NUMBER a ) (TOPPING ham ) and (TOPPING olive ) pie with no (NOT (TOPPING pepperoni ) ) ) on it )\n",
      "GOT     :  (ORDER get me (PIZZAORDER (NUMBER a ) (TOPPING ham ) and (TOPPING olive ) pie with no (NOT (TOPPING pepperoni ) ) on it ) )\n",
      "SRC     :  can i get one large thin crust pizza with chicken and onions on it\n",
      "EXPECTED:  (ORDER can i get (PIZZAORDER (NUMBER one ) (SIZE large ) (STYLE thin crust ) pizza with (TOPPING chicken ) and (TOPPING onions ) ) on it )\n",
      "GOT     :  (ORDER can i get (PIZZAORDER (NUMBER one ) (SIZE large ) (STYLE thin crust ) pizza with (TOPPING chicken ) and (TOPPING onions ) on it ) )\n",
      "SRC     :  i only want a small pizza today please put olives and pesto on there but no peppers today thanks\n",
      "EXPECTED:  (ORDER i only want (PIZZAORDER (NUMBER a ) (SIZE small ) pizza today please put (TOPPING olives ) and (TOPPING pesto ) on there but no (NOT (TOPPING peppers ) ) ) today thanks )\n",
      "GOT     :  (ORDER i only want (PIZZAORDER (NUMBER a ) (SIZE small ) pizza today please put (TOPPING olives ) and (TOPPING pesto ) on there but no ) peppers today thanks )\n",
      "SRC     :  hello my order is for one pie and i'd like it if it came with sausage olives as well as pineapple thank you so much\n",
      "EXPECTED:  (ORDER hello my order is for (PIZZAORDER (NUMBER one ) pie and i'd like it if it came with (TOPPING sausage ) (TOPPING olives ) as well as (TOPPING pineapple ) ) thank you so much )\n",
      "GOT     :  (ORDER hello my order is for (PIZZAORDER (NUMBER one ) pie and i'd like it if it came with (TOPPING sausage ) (TOPPING olives ) as well as (TOPPING pineapple ) ) thank you (PIZZAORDER so much ) )\n",
      "SRC     :  begin an order for two large sausage pizzas with light sauce and extra cheese\n",
      "EXPECTED:  (ORDER begin an order for (PIZZAORDER (NUMBER two ) (SIZE large ) (TOPPING sausage ) pizzas with (COMPLEX_TOPPING (QUANTITY light ) (TOPPING sauce ) ) and (COMPLEX_TOPPING (QUANTITY extra ) (TOPPING cheese ) ) ) )\n",
      "GOT     :  (ORDER begin an order for (PIZZAORDER (NUMBER two ) (SIZE large ) (TOPPING sausage ) pizzas with (COMPLEX_TOPPING (QUANTITY light sauce ) ) and (COMPLEX_TOPPING (QUANTITY extra ) (TOPPING cheese ) ) ) )\n",
      "SRC     :  i'd like a large pizza with chicken and peppers and leave off the ham please\n",
      "EXPECTED:  (ORDER i'd like (PIZZAORDER (NUMBER a ) (SIZE large ) pizza with (TOPPING chicken ) and (TOPPING peppers ) and leave off the (NOT (TOPPING ham ) ) ) please )\n",
      "GOT     :  (ORDER i'd like (PIZZAORDER (NUMBER a ) (SIZE large ) pizza with (TOPPING chicken ) and (TOPPING peppers ) and leave off the (TOPPING ham ) ) please )\n",
      "SRC     :  i'm in the mood for a large pizza with sausage on it and also tuna but i don't like pesto thanks\n",
      "EXPECTED:  (ORDER i'm in the mood for (PIZZAORDER (NUMBER a ) (SIZE large ) pizza with (TOPPING sausage ) on it and also (TOPPING tuna ) but i don't like (NOT (TOPPING pesto ) ) ) thanks )\n",
      "GOT     :  (ORDER i'm in the mood for (PIZZAORDER (NUMBER a ) (SIZE large ) pizza with (TOPPING sausage ) on it and also (TOPPING tuna ) ) but i don't like pesto thanks )\n",
      "SRC     :  i want a large vegan pepperoni pizza with arugula on top\n",
      "EXPECTED:  (ORDER i want (PIZZAORDER (NUMBER a ) (SIZE large ) (TOPPING vegan pepperoni ) pizza with (TOPPING arugula ) ) on top )\n",
      "GOT     :  (ORDER i want (PIZZAORDER (NUMBER a ) (SIZE large ) (TOPPING vegan ) (TOPPING pepperoni ) pizza with (TOPPING arugula ) on top ) )\n",
      "SRC     :  i'd like to order one pizza and i'd like pepperoni on it along with pineapple and bacon thanks\n",
      "EXPECTED:  (ORDER i'd like to order (PIZZAORDER (NUMBER one ) pizza and i'd like (TOPPING pepperoni ) on it along with (TOPPING pineapple ) and (TOPPING bacon ) ) thanks )\n",
      "GOT     :  (ORDER i'd like to order (PIZZAORDER (NUMBER one ) pizza and i'd like (TOPPING pepperoni ) on it along with (TOPPING pineapple ) ) and bacon thanks )\n",
      "SRC     :  i want to order one large sausage pizza woth banana peppers\n",
      "EXPECTED:  (ORDER i want to order (PIZZAORDER (NUMBER one ) (SIZE large ) (TOPPING sausage ) pizza woth (TOPPING banana peppers ) ) )\n",
      "GOT     :  (ORDER i want to order (PIZZAORDER (NUMBER one ) (SIZE large ) (TOPPING sausage ) pizza woth (TOPPING banana ) (TOPPING peppers ) ) )\n",
      "SRC     :  i'd like to order one medium pizza with italian sausage and one medium pizza with pepperoni and extra cheese and i'd like two large cokes and one small mountain dew\n",
      "EXPECTED:  (ORDER i'd like to order (PIZZAORDER (NUMBER one ) (SIZE medium ) pizza with (TOPPING italian sausage ) ) and (PIZZAORDER (NUMBER one ) (SIZE medium ) pizza with (TOPPING pepperoni ) and (COMPLEX_TOPPING (QUANTITY extra ) (TOPPING cheese ) ) ) and i'd like (DRINKORDER (NUMBER two ) (SIZE large ) (DRINKTYPE cokes ) ) and (DRINKORDER (NUMBER one ) (SIZE small ) (DRINKTYPE mountain dew ) ) )\n",
      "GOT     :  (ORDER i'd like to order (PIZZAORDER (NUMBER one ) (SIZE medium ) pizza with (TOPPING italian ) (TOPPING sausage ) ) and (PIZZAORDER (NUMBER one ) (SIZE medium ) pizza with (TOPPING pepperoni ) and (COMPLEX_TOPPING (QUANTITY extra ) (TOPPING cheese ) ) ) and i'd like (DRINKORDER (NUMBER two ) (SIZE large ) (DRINKTYPE cokes ) ) and (DRINKORDER (NUMBER one ) (SIZE small ) (DRINKTYPE mountain dew ) ) )\n",
      "SRC     :  can you order five alfredo chicken pizzas for me\n",
      "EXPECTED:  (ORDER can you order (PIZZAORDER (NUMBER five ) (TOPPING alfredo chicken ) pizzas ) for me )\n",
      "GOT     :  (ORDER can you order (PIZZAORDER (NUMBER five ) (TOPPING alfredo ) (TOPPING chicken ) pizzas for ) me )\n",
      "SRC     :  id like to order two large meat lovers pizza with a gluten-free crust and spicy red sauce\n",
      "EXPECTED:  (ORDER id like to order (PIZZAORDER (NUMBER two ) (SIZE large ) (STYLE meat lovers ) pizza with a (STYLE gluten-free crust ) and (TOPPING spicy red sauce ) ) )\n",
      "GOT     :  (ORDER id like to order (PIZZAORDER (NUMBER two ) (SIZE large ) (STYLE meat lovers ) pizza with a (STYLE gluten-free crust ) and (TOPPING spicy ) (TOPPING red ) (TOPPING sauce ) ) )\n",
      "SRC     :  i'll have a medium size pizza for the toppings i'll have pineapple peppers and onions thanks\n",
      "EXPECTED:  (ORDER i'll have (PIZZAORDER (NUMBER a ) (SIZE medium ) size pizza for the toppings i'll have (TOPPING pineapple ) (TOPPING peppers ) and (TOPPING onions ) ) thanks )\n",
      "GOT     :  (ORDER i'll have (PIZZAORDER (NUMBER a ) (SIZE medium ) size pizza for the toppings i'll have (TOPPING pineapple ) (TOPPING peppers ) ) and onions thanks )\n",
      "SRC     :  get me a large ham and bacon pizza with sausage on it\n",
      "EXPECTED:  (ORDER get me (PIZZAORDER (NUMBER a ) (SIZE large ) (TOPPING ham ) and (TOPPING bacon ) pizza with (TOPPING sausage ) ) on it )\n",
      "GOT     :  (ORDER get me (PIZZAORDER (NUMBER a ) (SIZE large ) (TOPPING ham ) and (TOPPING bacon ) pizza with (TOPPING sausage ) on it ) )\n",
      "SRC     :  three medium pizzas with black olives on all of them\n",
      "EXPECTED:  (ORDER (PIZZAORDER (NUMBER three ) (SIZE medium ) pizzas with (TOPPING black olives ) ) on all of them )\n",
      "GOT     :  (ORDER (PIZZAORDER (NUMBER three ) (SIZE medium ) pizzas with (TOPPING black ) (TOPPING olives ) ) on all of them )\n",
      "SRC     :  i wish to have one large size pizza with diet coke\n",
      "EXPECTED:  (ORDER i wish to have (PIZZAORDER (NUMBER one ) (SIZE large ) ) size pizza with (DRINKORDER (DRINKTYPE diet coke ) ) )\n",
      "GOT     :  (ORDER i wish to have (PIZZAORDER (NUMBER one ) (SIZE large ) size ) pizza with (DRINKORDER (DRINKTYPE diet coke ) ) )\n",
      "SRC     :  get me a small pepper and mushroom pie on a thin crust\n",
      "EXPECTED:  (ORDER get me (PIZZAORDER (NUMBER a ) (SIZE small ) (TOPPING pepper ) and (TOPPING mushroom ) pie on a (STYLE thin crust ) ) )\n",
      "GOT     :  (ORDER get me (PIZZAORDER (NUMBER a ) (SIZE small ) (TOPPING pepper ) and (TOPPING mushroom ) pie on ) (PIZZAORDER (NUMBER a ) (STYLE thin crust ) ) )\n",
      "SRC     :  i want five small size pizzas with three pepsis\n",
      "EXPECTED:  (ORDER i want (PIZZAORDER (NUMBER five ) (SIZE small ) ) size pizzas with (DRINKORDER (NUMBER three ) (DRINKTYPE pepsis ) ) )\n",
      "GOT     :  (ORDER i want (PIZZAORDER (NUMBER five ) (SIZE small ) size pizzas ) with (DRINKORDER (NUMBER three ) (DRINKTYPE pepsis ) ) )\n",
      "SRC     :  repeat my large onion and green peppers pizza order\n",
      "EXPECTED:  (ORDER repeat my (PIZZAORDER (SIZE large ) (TOPPING onion ) and (TOPPING green peppers ) pizza ) order )\n",
      "GOT     :  (ORDER repeat my (PIZZAORDER (SIZE large ) (TOPPING onion ) and (TOPPING green ) ) peppers pizza order )\n",
      "SRC     :  for today please make me a small pie and i'd like pesto on it as well as pepperoni and extra cheese that's all\n",
      "EXPECTED:  (ORDER for today please make me (PIZZAORDER (NUMBER a ) (SIZE small ) pie and i'd like (TOPPING pesto ) on it as well as (TOPPING pepperoni ) and (COMPLEX_TOPPING (QUANTITY extra ) (TOPPING cheese ) ) ) that's all )\n",
      "GOT     :  (ORDER for today please make me (PIZZAORDER (NUMBER a ) (SIZE small ) pie and i'd like (TOPPING pesto ) on it as well as (TOPPING pepperoni ) and (COMPLEX_TOPPING (QUANTITY extra ) (TOPPING cheese ) ) that's ) all )\n",
      "SRC     :  get me three of the bacon and onion pizzas with the pesto sauce\n",
      "EXPECTED:  (ORDER get me (PIZZAORDER (NUMBER three ) of the (TOPPING bacon ) and (TOPPING onion ) pizzas with the (TOPPING pesto sauce ) ) )\n",
      "GOT     :  (ORDER get me (PIZZAORDER (NUMBER three ) of the (TOPPING bacon ) and (TOPPING onion ) pizzas with the (TOPPING pesto ) (TOPPING sauce ) ) )\n",
      "SRC     :  this order is for four large pizzas with sausage mushrooms and bacon and four large pizzas with sausage pepperoni green peppers and bacon and one large veggie pizza with extra cheese\n",
      "EXPECTED:  (ORDER this order is for (PIZZAORDER (NUMBER four ) (SIZE large ) pizzas with (TOPPING sausage ) (TOPPING mushrooms ) and (TOPPING bacon ) ) and (PIZZAORDER (NUMBER four ) (SIZE large ) pizzas with (TOPPING sausage ) (TOPPING pepperoni ) (TOPPING green peppers ) and (TOPPING bacon ) ) and (PIZZAORDER (NUMBER one ) (SIZE large ) (STYLE veggie ) pizza with (COMPLEX_TOPPING (QUANTITY extra ) (TOPPING cheese ) ) ) )\n",
      "GOT     :  (ORDER this order is for (PIZZAORDER (NUMBER four ) (SIZE large ) pizzas with (TOPPING sausage ) (TOPPING mushrooms ) and (TOPPING bacon ) ) and (PIZZAORDER (NUMBER four ) (SIZE large ) pizzas with (TOPPING sausage ) (TOPPING pepperoni ) (TOPPING green ) (TOPPING peppers ) and (TOPPING bacon ) ) and (PIZZAORDER (NUMBER one ) (SIZE large ) (STYLE veggie ) pizza with (COMPLEX_TOPPING (QUANTITY extra ) (TOPPING cheese ) ) ) )\n",
      "SRC     :  repeat my order for a large pizza with onions and black olives to go with two cans of sprite\n",
      "EXPECTED:  (ORDER repeat my order for (PIZZAORDER (NUMBER a ) (SIZE large ) pizza with (TOPPING onions ) and (TOPPING black olives ) ) to go with (DRINKORDER (NUMBER two ) (CONTAINERTYPE cans ) of (DRINKTYPE sprite ) ) )\n",
      "GOT     :  (ORDER repeat my order for (PIZZAORDER (NUMBER a ) (SIZE large ) pizza with (TOPPING onions ) and (TOPPING black ) (TOPPING olives ) ) to go with (DRINKORDER (NUMBER two ) (CONTAINERTYPE cans ) of (DRINKTYPE sprite ) ) )\n",
      "SRC     :  i need an order of one medium cheese pizza with two large thin crust vegan pizzas\n",
      "EXPECTED:  (ORDER i need an order of (PIZZAORDER (NUMBER one ) (SIZE medium ) (TOPPING cheese ) pizza ) with (PIZZAORDER (NUMBER two ) (SIZE large ) (STYLE thin crust ) (STYLE vegan ) pizzas ) )\n",
      "GOT     :  (ORDER i need an order of (PIZZAORDER (NUMBER one ) (SIZE medium ) (TOPPING cheese ) pizza ) with (PIZZAORDER (NUMBER two ) (SIZE large ) (STYLE thin crust vegan ) pizzas ) )\n",
      "SRC     :  i like to have two medium size pizzas\n",
      "EXPECTED:  (ORDER i like to have (PIZZAORDER (NUMBER two ) (SIZE medium ) ) size pizzas )\n",
      "GOT     :  (ORDER i like to have (PIZZAORDER (NUMBER two ) (SIZE medium ) size pizzas ) )\n",
      "SRC     :  i'm all ready to order okay please give me a large pizza with bacon also if you could also put some pepperoni on there and if you could also have that with pineapple i'd really appreciate that that's all\n",
      "EXPECTED:  (ORDER i'm all ready to order okay please give me (PIZZAORDER (NUMBER a ) (SIZE large ) pizza with (TOPPING bacon ) also if you could also put some (TOPPING pepperoni ) on there and if you could also have that with (TOPPING pineapple ) ) i'd really appreciate that that's all )\n",
      "GOT     :  (ORDER i'm all ready to order okay please give me (PIZZAORDER (NUMBER a ) (SIZE large ) pizza with (TOPPING bacon ) also if you could also put some (TOPPING pepperoni ) on there and if you could also have that with (TOPPING pineapple ) i'd really (TOPPING appreciate ) ) that that's all )\n",
      "SRC     :  give me a pizza and i want pesto and bacon and i guess ham also thanks so much\n",
      "EXPECTED:  (ORDER give me (PIZZAORDER (NUMBER a ) pizza and i want (TOPPING pesto ) and (TOPPING bacon ) and i guess (TOPPING ham ) ) also thanks so much )\n",
      "GOT     :  (ORDER give me (PIZZAORDER (NUMBER a ) pizza and i want (TOPPING pesto ) and (TOPPING bacon ) and i guess (TOPPING ham ) also ) thanks so much )\n",
      "SRC     :  i wanted to have a medium pizza with onions bacon but do not add tuna in that\n",
      "EXPECTED:  (ORDER i wanted to have (PIZZAORDER (NUMBER a ) (SIZE medium ) pizza with (TOPPING onions ) (TOPPING bacon ) but do not add (NOT (TOPPING tuna ) ) ) in that )\n",
      "GOT     :  (ORDER i wanted to have (PIZZAORDER (NUMBER a ) (SIZE medium ) pizza with (TOPPING onions ) (TOPPING bacon ) but do not ) add tuna in that )\n",
      "SRC     :  i'm ordering a thin crust pie with mushroom and chicken toppings\n",
      "EXPECTED:  (ORDER i'm ordering (PIZZAORDER (NUMBER a ) (STYLE thin crust ) pie with (TOPPING mushroom ) and (TOPPING chicken ) ) toppings )\n",
      "GOT     :  (ORDER i'm ordering (PIZZAORDER (NUMBER a ) (STYLE thin crust ) pie with (TOPPING mushroom ) and (TOPPING chicken ) toppings ) )\n",
      "SRC     :  i want to three medium pizzas with cheddar cheese and two small pizzas\n",
      "EXPECTED:  (ORDER i want to (PIZZAORDER (NUMBER three ) (SIZE medium ) pizzas with (TOPPING cheddar cheese ) ) and (PIZZAORDER (NUMBER two ) (SIZE small ) pizzas ) )\n",
      "GOT     :  (ORDER i want to (PIZZAORDER (NUMBER three ) (SIZE medium ) pizzas with (TOPPING cheddar ) (TOPPING cheese ) ) and (PIZZAORDER (NUMBER two ) (SIZE small ) pizzas ) )\n",
      "SRC     :  i'd like one pizza make it a medium please and i want all of these toppings please: onions tuna as well as ham that's all\n",
      "EXPECTED:  (ORDER i'd like (PIZZAORDER (NUMBER one ) pizza make it a (SIZE medium ) please and i want all of these toppings please: (TOPPING onions ) (TOPPING tuna ) as well as (TOPPING ham ) ) that's all )\n",
      "GOT     :  (ORDER i'd like (PIZZAORDER (NUMBER one ) pizza make it a (SIZE medium ) please and i want all of these toppings please: (TOPPING onions ) (TOPPING tuna ) as well as (TOPPING ham ) that's ) all )\n",
      "SRC     :  tonight i want a pizza and make it thin crust style also i want extra cheese but no pesto that's all\n",
      "EXPECTED:  (ORDER tonight i want (PIZZAORDER (NUMBER a ) pizza and make it (STYLE thin crust ) style also i want (COMPLEX_TOPPING (QUANTITY extra ) (TOPPING cheese ) ) but no (NOT (TOPPING pesto ) ) ) that's all )\n",
      "GOT     :  (ORDER tonight i want (PIZZAORDER (NUMBER a ) pizza and make it (STYLE thin crust ) style also i want (COMPLEX_TOPPING (QUANTITY extra ) (TOPPING cheese ) ) but no (NOT (TOPPING pesto that's ) ) ) all )\n",
      "SRC     :  i'll take two pizzas with the thin crust and i want tuna on there but no pepperoni today thanks again\n",
      "EXPECTED:  (ORDER i'll take (PIZZAORDER (NUMBER two ) pizzas with the (STYLE thin crust ) and i want (TOPPING tuna ) on there but no (NOT (TOPPING pepperoni ) ) ) today thanks again )\n",
      "GOT     :  (ORDER i'll take (PIZZAORDER (NUMBER two ) pizzas with the (STYLE thin crust ) and i want (TOPPING tuna ) on there but no (NOT (TOPPING pepperoni ) ) today ) thanks again )\n",
      "SRC     :  i'd like to order one medium pizza with green peppers and onions and a second medium pizza with green peppers and mushrooms\n",
      "EXPECTED:  (ORDER i'd like to order (PIZZAORDER (NUMBER one ) (SIZE medium ) pizza with (TOPPING green peppers ) and (TOPPING onions ) ) and (PIZZAORDER (NUMBER a ) second (SIZE medium ) pizza with (TOPPING green peppers ) and (TOPPING mushrooms ) ) )\n",
      "GOT     :  (ORDER i'd like to order (PIZZAORDER (NUMBER one ) (SIZE medium ) pizza with (TOPPING green ) (TOPPING peppers ) and (TOPPING onions ) ) and (PIZZAORDER (NUMBER a ) second (SIZE medium ) pizza with (TOPPING green ) (TOPPING peppers ) and (TOPPING mushrooms ) ) )\n",
      "SRC     :  i would like to try the pie with mushrooms and peppers and no onions\n",
      "EXPECTED:  (ORDER i would like to try the (PIZZAORDER pie with (TOPPING mushrooms ) and (TOPPING peppers ) and no (NOT (TOPPING onions ) ) ) )\n",
      "GOT     :  (ORDER i would like to try the pie (PIZZAORDER with (TOPPING mushrooms ) and (TOPPING peppers ) and no (NOT (TOPPING onions ) ) ) )\n",
      "SRC     :  i want a medium olive and tuna pie with no mushrooms on it\n",
      "EXPECTED:  (ORDER i want (PIZZAORDER (NUMBER a ) (SIZE medium ) (TOPPING olive ) and (TOPPING tuna ) pie with no (NOT (TOPPING mushrooms ) ) ) on it )\n",
      "GOT     :  (ORDER i want (PIZZAORDER (NUMBER a ) (SIZE medium ) (TOPPING olive ) and (TOPPING tuna ) pie with no (NOT (TOPPING mushrooms ) ) on it ) )\n",
      "SRC     :  for this afternoon i think i'd like a pizza and definitely extra cheese and how about some peppers too but leave the pesto off it that's all\n",
      "EXPECTED:  (ORDER for this afternoon i think i'd like (PIZZAORDER (NUMBER a ) pizza and definitely (COMPLEX_TOPPING (QUANTITY extra ) (TOPPING cheese ) ) and how about some (TOPPING peppers ) too but leave the (NOT (TOPPING pesto ) ) ) off it that's all )\n",
      "GOT     :  (ORDER for this afternoon i think i'd like (PIZZAORDER (NUMBER a ) pizza and definitely (COMPLEX_TOPPING (QUANTITY extra ) (TOPPING cheese ) ) and how about some (TOPPING peppers ) too but leave the (TOPPING pesto ) off it ) that's all )\n",
      "SRC     :  get me a large pepper and sausage pie on a thin crust\n",
      "EXPECTED:  (ORDER get me (PIZZAORDER (NUMBER a ) (SIZE large ) (TOPPING pepper ) and (TOPPING sausage ) pie on a (STYLE thin crust ) ) )\n",
      "GOT     :  (ORDER get me (PIZZAORDER (NUMBER a ) (SIZE large ) (TOPPING pepper ) and (TOPPING sausage ) pie on ) (PIZZAORDER (NUMBER a ) (STYLE thin crust ) ) )\n",
      "SRC     :  hi how are you i want to order a large pie could you please make that with sausage olives and i want ham on there too thanks\n",
      "EXPECTED:  (ORDER hi how are you i want to order (PIZZAORDER (NUMBER a ) (SIZE large ) pie could you please make that with (TOPPING sausage ) (TOPPING olives ) and i want (TOPPING ham ) ) on there too thanks )\n",
      "GOT     :  (ORDER hi how are you i want to order (PIZZAORDER (NUMBER a ) (SIZE large ) pie could you please make that with (TOPPING sausage ) (TOPPING olives ) and i ) want ham on there too thanks )\n",
      "SRC     :  repeat my last order of two large pizzas with roasted red peppers and ham\n",
      "EXPECTED:  (ORDER repeat my last order of (PIZZAORDER (NUMBER two ) (SIZE large ) pizzas with (TOPPING roasted red peppers ) and (TOPPING ham ) ) )\n",
      "GOT     :  (ORDER repeat my last order of (PIZZAORDER (NUMBER two ) (SIZE large ) pizzas with (TOPPING roasted ) (TOPPING red ) (TOPPING peppers ) and (TOPPING ham ) ) )\n",
      "SRC     :  i'd like an order placed for three mediums pizzas with extra cheese and one large pizza with low fat cheese\n",
      "EXPECTED:  (ORDER i'd like an order placed for (PIZZAORDER (NUMBER three ) (SIZE mediums ) pizzas with (COMPLEX_TOPPING (QUANTITY extra ) (TOPPING cheese ) ) ) and (PIZZAORDER (NUMBER one ) (SIZE large ) pizza with (TOPPING low fat cheese ) ) )\n",
      "GOT     :  (ORDER i'd like an order placed for (PIZZAORDER (NUMBER three ) (SIZE mediums ) pizzas with (COMPLEX_TOPPING (QUANTITY extra ) (TOPPING cheese ) ) ) and (PIZZAORDER (NUMBER one ) (SIZE large ) pizza with (TOPPING low ) (TOPPING fat ) (TOPPING cheese ) ) )\n",
      "SRC     :  i would like to get one pizza with mushrooms and pesto and i do not want thin crust\n",
      "EXPECTED:  (ORDER i would like to get (PIZZAORDER (NUMBER one ) pizza with (TOPPING mushrooms ) and (TOPPING pesto ) and i do not want (NOT (STYLE thin crust ) ) ) )\n",
      "GOT     :  (ORDER i would like to get (PIZZAORDER (NUMBER one ) pizza with (TOPPING mushrooms ) and (TOPPING pesto ) and i do not want (NOT (STYLE thin ) ) crust ) )\n",
      "SRC     :  i want to get one pizza make it a medium and i'd like it with onions and chicken but please do not make it with extra cheese\n",
      "EXPECTED:  (ORDER i want to get (PIZZAORDER (NUMBER one ) pizza make it a (SIZE medium ) and i'd like it with (TOPPING onions ) and (TOPPING chicken ) but please do not make it with (NOT (COMPLEX_TOPPING (QUANTITY extra ) (TOPPING cheese ) ) ) ) )\n",
      "GOT     :  (ORDER i want to get (PIZZAORDER (NUMBER one ) pizza make it a (SIZE medium ) and i'd like it with (TOPPING onions ) and (TOPPING chicken ) but please do not make it with (COMPLEX_TOPPING (QUANTITY extra ) (TOPPING cheese ) ) ) )\n",
      "SRC     :  want ham bacon sausage extra cheese on a large pizza\n",
      "EXPECTED:  (ORDER want (PIZZAORDER (TOPPING ham ) (TOPPING bacon ) (TOPPING sausage ) (COMPLEX_TOPPING (QUANTITY extra ) (TOPPING cheese ) ) on (NUMBER a ) (SIZE large ) pizza ) )\n",
      "GOT     :  (ORDER want ham (PIZZAORDER (TOPPING bacon ) (TOPPING sausage ) (COMPLEX_TOPPING (QUANTITY extra ) (TOPPING cheese ) ) ) on (PIZZAORDER (NUMBER a ) (SIZE large ) pizza ) )\n",
      "SRC     :  i'm in the mood for a large pizza with olives onions and pineapple on it\n",
      "EXPECTED:  (ORDER i'm in the mood for (PIZZAORDER (NUMBER a ) (SIZE large ) pizza with (TOPPING olives ) (TOPPING onions ) and (TOPPING pineapple ) ) on it )\n",
      "GOT     :  (ORDER i'm in the mood for (PIZZAORDER (NUMBER a ) (SIZE large ) pizza with (TOPPING olives ) (TOPPING onions ) and (TOPPING pineapple ) on it ) )\n",
      "SRC     :  get me one large three topping pizza with ham sausage and banana peppers\n",
      "EXPECTED:  (ORDER get me (PIZZAORDER (NUMBER one ) (SIZE large ) three topping pizza with (TOPPING ham ) (TOPPING sausage ) and (TOPPING banana peppers ) ) )\n",
      "GOT     :  (ORDER get me (PIZZAORDER (NUMBER one ) (SIZE large ) three topping pizza with (TOPPING ham ) (TOPPING sausage ) and (TOPPING banana ) (TOPPING peppers ) ) )\n",
      "SRC     :  put an order in for five large pizzas with sliced sausage and bacon\n",
      "EXPECTED:  (ORDER put an order in for (PIZZAORDER (NUMBER five ) (SIZE large ) pizzas with sliced (TOPPING sausage ) and (TOPPING bacon ) ) )\n",
      "GOT     :  (ORDER put an order in for (PIZZAORDER (NUMBER five ) (SIZE large ) pizzas with sliced sausage and (TOPPING bacon ) ) )\n",
      "SRC     :  i'm going to order an olive and pepperoni pizza but i don't want pesto topping okay\n",
      "EXPECTED:  (ORDER i'm going to order (PIZZAORDER (NUMBER an ) (TOPPING olive ) and (TOPPING pepperoni ) pizza but i don't want (NOT (TOPPING pesto ) ) ) topping okay )\n",
      "GOT     :  (ORDER i'm going to order (PIZZAORDER (NUMBER an ) (TOPPING olive ) and (TOPPING pepperoni ) pizza but i don't want (NOT (TOPPING pesto ) ) topping ) okay )\n",
      "SRC     :  please put up a pizza with olives and sausage but i don't want tuna on it thanks\n",
      "EXPECTED:  (ORDER please put up (PIZZAORDER (NUMBER a ) pizza with (TOPPING olives ) and (TOPPING sausage ) but i don't want (NOT (TOPPING tuna ) ) ) on it thanks )\n",
      "GOT     :  (ORDER please put up (PIZZAORDER (NUMBER a ) pizza with (TOPPING olives ) and (TOPPING sausage ) ) but i don't (PIZZAORDER want (TOPPING tuna ) ) on it thanks )\n",
      "SRC     :  for this afternoon i only want one pizza and please put pepperoni and ham on there but definitely no onions thanks\n",
      "EXPECTED:  (ORDER for this afternoon i only want (PIZZAORDER (NUMBER one ) pizza and please put (TOPPING pepperoni ) and (TOPPING ham ) on there but definitely no (NOT (TOPPING onions ) ) ) thanks )\n",
      "GOT     :  (ORDER for this afternoon i only want (PIZZAORDER (NUMBER one ) pizza and please put (TOPPING pepperoni ) and (TOPPING ham ) on there but definitely no ) onions thanks )\n",
      "SRC     :  four large mushroom and basil pizzas with a two liter of mountain dew\n",
      "EXPECTED:  (ORDER (PIZZAORDER (NUMBER four ) (SIZE large ) (TOPPING mushroom ) and (TOPPING basil ) pizzas ) with (DRINKORDER (NUMBER a ) (VOLUME two liter ) of (DRINKTYPE mountain dew ) ) )\n",
      "GOT     :  (ORDER (PIZZAORDER (NUMBER four ) (SIZE large ) (TOPPING mushroom ) and (TOPPING basil ) pizzas ) with (DRINKORDER (NUMBER a ) (VOLUME two liter ) (DRINKTYPE of ) (DRINKTYPE mountain dew ) ) )\n",
      "SRC     :  order a small pizza with olives and pesto do not include peppers\n",
      "EXPECTED:  (ORDER order (PIZZAORDER (NUMBER a ) (SIZE small ) pizza with (TOPPING olives ) and (TOPPING pesto ) do not include (NOT (TOPPING peppers ) ) ) )\n",
      "GOT     :  (ORDER order (PIZZAORDER (NUMBER a ) (SIZE small ) pizza with (TOPPING olives ) and (TOPPING pesto ) do not include (TOPPING peppers ) ) )\n",
      "SRC     :  i want a large chicago style deep dish veggie pizza with a large coca-cola\n",
      "EXPECTED:  (ORDER i want (PIZZAORDER (NUMBER a ) (SIZE large ) (STYLE chicago style ) (STYLE deep dish ) (STYLE veggie ) pizza ) with (DRINKORDER (NUMBER a ) (SIZE large ) (DRINKTYPE coca-cola ) ) )\n",
      "GOT     :  (ORDER i want (PIZZAORDER (NUMBER a ) (SIZE large ) (STYLE chicago style deep dish veggie ) pizza ) with (DRINKORDER (NUMBER a ) (SIZE large ) (DRINKTYPE coca-cola ) ) )\n",
      "SRC     :  make an order for three small pizzas with no cheese but extra sauce and also include one bacon and ham large pizza\n",
      "EXPECTED:  (ORDER make an order for (PIZZAORDER (NUMBER three ) (SIZE small ) pizzas with no (NOT (TOPPING cheese ) ) but (COMPLEX_TOPPING (QUANTITY extra ) (TOPPING sauce ) ) ) and also include (PIZZAORDER (NUMBER one ) (TOPPING bacon ) and (TOPPING ham ) (SIZE large ) pizza ) )\n",
      "GOT     :  (ORDER make an order for (PIZZAORDER (NUMBER three ) (SIZE small ) pizzas with no (NOT (TOPPING cheese ) ) but (COMPLEX_TOPPING extra (TOPPING sauce ) ) ) and also include (PIZZAORDER (NUMBER one ) (TOPPING bacon ) and (TOPPING ham ) (SIZE large ) pizza ) )\n",
      "SRC     :  i would take one small pie with ham pesto without extra cheese\n",
      "EXPECTED:  (ORDER i would take (PIZZAORDER (NUMBER one ) (SIZE small ) pie with (TOPPING ham ) (TOPPING pesto ) without (NOT (COMPLEX_TOPPING (QUANTITY extra ) (TOPPING cheese ) ) ) ) )\n",
      "GOT     :  (ORDER i would take (PIZZAORDER (NUMBER one ) (SIZE small ) pie with (TOPPING ham ) (TOPPING pesto ) without (COMPLEX_TOPPING (QUANTITY extra ) (TOPPING cheese ) ) ) )\n",
      "SRC     :  id like to order two medium stuffed crust pizzas with pepperoni and green bell peppers\n",
      "EXPECTED:  (ORDER id like to order (PIZZAORDER (NUMBER two ) (SIZE medium ) (STYLE stuffed crust ) pizzas with (TOPPING pepperoni ) and (TOPPING green bell peppers ) ) )\n",
      "GOT     :  (ORDER id like to order (PIZZAORDER (NUMBER two ) (SIZE medium ) (STYLE stuffed crust ) pizzas with (TOPPING pepperoni ) and (TOPPING green ) (TOPPING bell ) (TOPPING peppers ) ) )\n",
      "SRC     :  i need a large sized pizza with chicken no olives and extra cheese please\n",
      "EXPECTED:  (ORDER i need (PIZZAORDER (NUMBER a ) (SIZE large ) sized pizza with (TOPPING chicken ) no (NOT (TOPPING olives ) ) and (COMPLEX_TOPPING (QUANTITY extra ) (TOPPING cheese ) ) ) please )\n",
      "GOT     :  (ORDER i need (PIZZAORDER (NUMBER a ) (SIZE large ) sized pizza with (TOPPING chicken ) no (TOPPING olives ) and (COMPLEX_TOPPING (QUANTITY extra ) (TOPPING cheese ) ) ) please )\n",
      "SRC     :  i want a small pizza pepperoni sausage and with no thin crust\n",
      "EXPECTED:  (ORDER i want (PIZZAORDER (NUMBER a ) (SIZE small ) pizza (TOPPING pepperoni ) (TOPPING sausage ) and with no (NOT (STYLE thin crust ) ) ) )\n",
      "GOT     :  (ORDER i want (PIZZAORDER (NUMBER a ) (SIZE small ) pizza (TOPPING pepperoni ) (TOPPING sausage ) and with no (NOT (STYLE thin ) ) crust ) )\n",
      "SRC     :  can i get one pizza with tuna and peppers and i do not want thin crust\n",
      "EXPECTED:  (ORDER can i get (PIZZAORDER (NUMBER one ) pizza with (TOPPING tuna ) and (TOPPING peppers ) and i do not want (NOT (STYLE thin crust ) ) ) )\n",
      "GOT     :  (ORDER can i get (PIZZAORDER (NUMBER one ) pizza with (TOPPING tuna ) and (TOPPING peppers ) and i do not want (NOT (STYLE thin ) ) crust ) )\n",
      "SRC     :  id like to order two medium vegan pizzas with arugula on top\n",
      "EXPECTED:  (ORDER id like to order (PIZZAORDER (NUMBER two ) (SIZE medium ) (STYLE vegan ) pizzas with (TOPPING arugula ) ) on top )\n",
      "GOT     :  (ORDER id like to order (PIZZAORDER (NUMBER two ) (SIZE medium ) (STYLE vegan ) pizzas with (TOPPING arugula ) on top ) )\n",
      "SRC     :  i'd like an order placed for two large pizzas with olives and mushrooms and make sure it has light sauce\n",
      "EXPECTED:  (ORDER i'd like an order placed for (PIZZAORDER (NUMBER two ) (SIZE large ) pizzas with (TOPPING olives ) and (TOPPING mushrooms ) and make sure it has (COMPLEX_TOPPING (QUANTITY light ) (TOPPING sauce ) ) ) )\n",
      "GOT     :  (ORDER i'd like an order placed for (PIZZAORDER (NUMBER two ) (SIZE large ) pizzas with (TOPPING olives ) and (TOPPING mushrooms ) and make sure it has (COMPLEX_TOPPING (QUANTITY light sauce ) ) ) )\n",
      "SRC     :  can i have a large pizza with red onions bell peppers pepperoni and lettuce\n",
      "EXPECTED:  (ORDER can i have (PIZZAORDER (NUMBER a ) (SIZE large ) pizza with (TOPPING red onions ) (TOPPING bell peppers ) (TOPPING pepperoni ) and (TOPPING lettuce ) ) )\n",
      "GOT     :  (ORDER can i have (PIZZAORDER (NUMBER a ) (SIZE large ) pizza with (TOPPING red ) (TOPPING onions ) (TOPPING bell ) (TOPPING peppers ) (TOPPING pepperoni ) and (TOPPING lettuce ) ) )\n",
      "SRC     :  i want to order one pie and make it medium size for toppings i'd like bacon and pesto but i'd appreciate it if you leave off sausage that's it\n",
      "EXPECTED:  (ORDER i want to order (PIZZAORDER (NUMBER one ) pie and make it (SIZE medium ) size for toppings i'd like (TOPPING bacon ) and (TOPPING pesto ) but i'd appreciate it if you leave off (NOT (TOPPING sausage ) ) ) that's it )\n",
      "GOT     :  (ORDER i want to order (PIZZAORDER (NUMBER one ) pie and make it (SIZE medium ) size for toppings i'd like (TOPPING bacon ) and (TOPPING pesto ) but i'd appreciate it if you leave off (TOPPING sausage ) ) that's it )\n",
      "SRC     :  i am just ordering soft drinks tonight give me just one pepsi but i want six diet cokes and i need them all large also i'd like a fanta make that medium\n",
      "EXPECTED:  (ORDER i am just ordering soft drinks tonight give me (DRINKORDER (NUMBER just one ) (DRINKTYPE pepsi ) ) but i want (DRINKORDER (NUMBER six ) (DRINKTYPE diet cokes ) and i need them all (SIZE large ) ) also i'd like (DRINKORDER (NUMBER a ) (DRINKTYPE fanta ) make that (SIZE medium ) ) )\n",
      "GOT     :  (ORDER i am just ordering soft drinks tonight give me (DRINKORDER (NUMBER just one ) (DRINKTYPE pepsi ) ) but i want (DRINKORDER (NUMBER six ) (DRINKTYPE diet cokes ) and i need them ) all large also i'd like (DRINKORDER (NUMBER a ) (DRINKTYPE fanta ) ) make that medium )\n",
      "SRC     :  i would like to order five pizzas all with yellow peppers and ham and also include five pepsis\n",
      "EXPECTED:  (ORDER i would like to order (PIZZAORDER (NUMBER five ) pizzas all with (TOPPING yellow peppers ) and (TOPPING ham ) ) and also include (DRINKORDER (NUMBER five ) (DRINKTYPE pepsis ) ) )\n",
      "GOT     :  (ORDER i would like to order (PIZZAORDER (NUMBER five ) pizzas all with (TOPPING yellow ) (TOPPING peppers ) and (TOPPING ham ) ) and also include (DRINKORDER (NUMBER five ) (DRINKTYPE pepsis ) ) )\n",
      "SRC     :  today i just need a small pie and put olives and bacon on it and i guess ham also that's all\n",
      "EXPECTED:  (ORDER today i just need (PIZZAORDER (NUMBER a ) (SIZE small ) pie and put (TOPPING olives ) and (TOPPING bacon ) on it and i guess (TOPPING ham ) ) also that's all )\n",
      "GOT     :  (ORDER today i just need (PIZZAORDER (NUMBER a ) (SIZE small ) pie and put (TOPPING olives ) and (TOPPING bacon ) on it and i guess (TOPPING ham ) also ) that's all )\n",
      "SRC     :  this afternoon i need just one small pizza please make sure there to make that with peppers on it as well as mushrooms and please i don't want pineapple\n",
      "EXPECTED:  (ORDER this afternoon i need just (PIZZAORDER (NUMBER one ) (SIZE small ) pizza please make sure there to make that with (TOPPING peppers ) on it as well as (TOPPING mushrooms ) and please i don't want (NOT (TOPPING pineapple ) ) ) )\n",
      "GOT     :  (ORDER this afternoon i need just (PIZZAORDER (NUMBER one ) (SIZE small ) pizza please make sure there to make that with (TOPPING peppers ) on it as well as (TOPPING mushrooms ) ) and please i don't (PIZZAORDER want (TOPPING pineapple ) ) )\n",
      "SRC     :  i just want a pizza and for toppings make it onions pepperoni and might as well go for sausage too\n",
      "EXPECTED:  (ORDER i just want (PIZZAORDER (NUMBER a ) pizza and for toppings make it (TOPPING onions ) (TOPPING pepperoni ) and might as well go for (TOPPING sausage ) ) too )\n",
      "GOT     :  (ORDER i just want (PIZZAORDER (NUMBER a ) pizza and for toppings make it (TOPPING onions ) (TOPPING pepperoni ) and might as well go for (TOPPING sausage ) too ) )\n",
      "SRC     :  i want a medium mushroom and pepperoni pie with extra cheese on it\n",
      "EXPECTED:  (ORDER i want (PIZZAORDER (NUMBER a ) (SIZE medium ) (TOPPING mushroom ) and (TOPPING pepperoni ) pie with (COMPLEX_TOPPING (QUANTITY extra ) (TOPPING cheese ) ) ) on it )\n",
      "GOT     :  (ORDER i want (PIZZAORDER (NUMBER a ) (SIZE medium ) (TOPPING mushroom ) and (TOPPING pepperoni ) pie with (COMPLEX_TOPPING (QUANTITY extra ) (TOPPING cheese ) ) on it ) )\n",
      "SRC     :  this order is for four large ice teas and two large pizzas with everything except anchovies and onions\n",
      "EXPECTED:  (ORDER this order is for (DRINKORDER (NUMBER four ) (SIZE large ) (DRINKTYPE ice teas ) ) and (PIZZAORDER (NUMBER two ) (SIZE large ) pizzas with (STYLE everything ) except (NOT (TOPPING anchovies ) ) and (NOT (TOPPING onions ) ) ) )\n",
      "GOT     :  (ORDER this order is for (DRINKORDER (NUMBER four ) (SIZE large ) (DRINKTYPE ice teas ) ) and (PIZZAORDER (NUMBER two ) (SIZE large ) pizzas with (STYLE everything ) except (TOPPING anchovies ) and (TOPPING onions ) ) )\n",
      "SRC     :  order me two cokes and one large pizza with ham bacon and mushrooms on it\n",
      "EXPECTED:  (ORDER order me (DRINKORDER (NUMBER two ) (DRINKTYPE cokes ) ) and (PIZZAORDER (NUMBER one ) (SIZE large ) pizza with (TOPPING ham ) (TOPPING bacon ) and (TOPPING mushrooms ) ) on it )\n",
      "GOT     :  (ORDER order me (DRINKORDER (NUMBER two ) (DRINKTYPE cokes ) ) and (PIZZAORDER (NUMBER one ) (SIZE large ) pizza with (TOPPING ham ) (TOPPING bacon ) and (TOPPING mushrooms ) on it ) )\n",
      "SRC     :  order a large pizza with bacon ham and sausage please\n",
      "EXPECTED:  (ORDER order (PIZZAORDER (NUMBER a ) (SIZE large ) pizza with (TOPPING bacon ) (TOPPING ham ) and (TOPPING sausage ) ) please )\n",
      "GOT     :  (ORDER order (PIZZAORDER (NUMBER a ) (SIZE large ) pizza with (TOPPING bacon ) (TOPPING ham ) and (TOPPING sausage ) please ) )\n",
      "SRC     :  hi how are you i have an order for one medium pie and i think i'll go for toppings of chicken and i guess olives also i don't like thin crust thanks\n",
      "EXPECTED:  (ORDER hi how are you i have an order for (PIZZAORDER (NUMBER one ) (SIZE medium ) pie and i think i'll go for toppings of (TOPPING chicken ) and i guess (TOPPING olives ) also i don't like (NOT (STYLE thin crust ) ) ) thanks )\n",
      "GOT     :  (ORDER hi how are you i have an order for (PIZZAORDER (NUMBER one ) (SIZE medium ) pie and i think i'll go for toppings of (TOPPING chicken ) and i guess (TOPPING olives ) also i don't like ) thin crust thanks )\n",
      "SRC     :  i wish to have three small size pizzas\n",
      "EXPECTED:  (ORDER i wish to have (PIZZAORDER (NUMBER three ) (SIZE small ) ) size pizzas )\n",
      "GOT     :  (ORDER i wish to have (PIZZAORDER (NUMBER three ) (SIZE small ) size pizzas ) )\n",
      "SRC     :  can i have one pizza with chicken and thin crust and pineapple thanks\n",
      "EXPECTED:  (ORDER can i have (PIZZAORDER (NUMBER one ) pizza with (TOPPING chicken ) and (STYLE thin crust ) and (TOPPING pineapple ) ) thanks )\n",
      "GOT     :  (ORDER can i have (PIZZAORDER (NUMBER one ) pizza with (TOPPING chicken ) and (STYLE thin crust ) ) and pineapple thanks )\n",
      "SRC     :  two small double cheese double pepperoni pizzas please\n",
      "EXPECTED:  (ORDER (PIZZAORDER (NUMBER two ) (SIZE small ) (COMPLEX_TOPPING (QUANTITY double ) (TOPPING cheese ) ) (COMPLEX_TOPPING (QUANTITY double ) (TOPPING pepperoni ) ) pizzas ) please )\n",
      "GOT     :  (ORDER (PIZZAORDER (NUMBER two ) (SIZE small ) (COMPLEX_TOPPING (QUANTITY double cheese double pepperoni ) ) pizzas ) please )\n",
      "SRC     :  i want you to put in an order for three small cheese pizzas and one small pizza with olives on it\n",
      "EXPECTED:  (ORDER i want you to put in an order for (PIZZAORDER (NUMBER three ) (SIZE small ) (TOPPING cheese ) pizzas ) and (PIZZAORDER (NUMBER one ) (SIZE small ) pizza with (TOPPING olives ) ) on it )\n",
      "GOT     :  (ORDER i want you to put in an order for (PIZZAORDER (NUMBER three ) (SIZE small ) (TOPPING cheese ) pizzas ) and (PIZZAORDER (NUMBER one ) (SIZE small ) pizza with (TOPPING olives ) on it ) )\n",
      "SRC     :  i want large pizza with contain pepper onion olives and pepsi\n",
      "EXPECTED:  (ORDER i want (PIZZAORDER (SIZE large ) pizza with contain (TOPPING pepper ) (TOPPING onion ) (TOPPING olives ) ) and (DRINKORDER (DRINKTYPE pepsi ) ) )\n",
      "GOT     :  (ORDER i want (PIZZAORDER (SIZE large ) pizza with contain (TOPPING pepper ) (TOPPING onion ) (TOPPING olives ) ) and pepsi )\n",
      "SRC     :  do me a favor and make me one large pizza and i'd like onions and pineapple on it but make sure there isn't any pesto much appreciated\n",
      "EXPECTED:  (ORDER do me a favor and make me (PIZZAORDER (NUMBER one ) (SIZE large ) pizza and i'd like (TOPPING onions ) and (TOPPING pineapple ) on it but make sure there isn't any (NOT (TOPPING pesto ) ) ) much appreciated )\n",
      "GOT     :  (ORDER do me a favor and make me (PIZZAORDER (NUMBER one ) (SIZE large ) pizza and i'd like (TOPPING onions ) and (TOPPING pineapple ) on it but make sure there isn't any (TOPPING pesto ) much ) appreciated )\n",
      "SRC     :  give me one pizza and i'd like tuna thin crust and please leave off the peppers thanks\n",
      "EXPECTED:  (ORDER give me (PIZZAORDER (NUMBER one ) pizza and i'd like (TOPPING tuna ) (STYLE thin crust ) and please leave off the (NOT (TOPPING peppers ) ) ) thanks )\n",
      "GOT     :  (ORDER give me (PIZZAORDER (NUMBER one ) pizza and i'd like (TOPPING tuna ) (STYLE thin crust ) and please leave off the ) peppers thanks )\n",
      "SRC     :  i think i'll have a medium pie with mushrooms and pineapple but please leave off ham\n",
      "EXPECTED:  (ORDER i think i'll have (PIZZAORDER (NUMBER a ) (SIZE medium ) pie with (TOPPING mushrooms ) and (TOPPING pineapple ) but please leave off (NOT (TOPPING ham ) ) ) )\n",
      "GOT     :  (ORDER i think i'll have (PIZZAORDER (NUMBER a ) (SIZE medium ) pie with (TOPPING mushrooms ) and (TOPPING pineapple ) but please leave off (TOPPING ham ) ) )\n",
      "SRC     :  i want one large size pizza\n",
      "EXPECTED:  (ORDER i want (PIZZAORDER (NUMBER one ) (SIZE large ) ) size pizza )\n",
      "GOT     :  (ORDER i want (PIZZAORDER (NUMBER one ) (SIZE large ) size pizza ) )\n",
      "SRC     :  i need to order a pepperoni and pineapple pie with no tuna on it\n",
      "EXPECTED:  (ORDER i need to order (PIZZAORDER (NUMBER a ) (TOPPING pepperoni ) and (TOPPING pineapple ) pie with no (NOT (TOPPING tuna ) ) ) on it )\n",
      "GOT     :  (ORDER i need to order (PIZZAORDER (NUMBER a ) (TOPPING pepperoni ) and (TOPPING pineapple ) pie with no (NOT (TOPPING tuna ) ) on it ) )\n",
      "SRC     :  begin an order for me that includes two small pizzas with ham and sausage along with a large pepperoni pizza\n",
      "EXPECTED:  (ORDER begin an order for me that includes (PIZZAORDER (NUMBER two ) (SIZE small ) pizzas with (TOPPING ham ) and (TOPPING sausage ) ) along with (PIZZAORDER (NUMBER a ) (SIZE large ) (TOPPING pepperoni ) pizza ) )\n",
      "GOT     :  (ORDER begin an order for me that includes (PIZZAORDER (NUMBER two ) (SIZE small ) pizzas with (TOPPING ham ) and (TOPPING sausage ) along ) with (PIZZAORDER (NUMBER a ) (SIZE large ) (TOPPING pepperoni ) pizza ) )\n",
      "SRC     :  i want to order a small pizza with pepperoni and sausage and a second small pizza with hot peppers and green peppers and four medium cokes\n",
      "EXPECTED:  (ORDER i want to order (PIZZAORDER (NUMBER a ) (SIZE small ) pizza with (TOPPING pepperoni ) and (TOPPING sausage ) ) and (PIZZAORDER (NUMBER a ) second (SIZE small ) pizza with (TOPPING hot peppers ) and (TOPPING green peppers ) ) and (DRINKORDER (NUMBER four ) (SIZE medium ) (DRINKTYPE cokes ) ) )\n",
      "GOT     :  (ORDER i want to order (PIZZAORDER (NUMBER a ) (SIZE small ) pizza with (TOPPING pepperoni ) and (TOPPING sausage ) ) and (PIZZAORDER (NUMBER a ) second (SIZE small ) pizza with (TOPPING hot ) (TOPPING peppers ) and (TOPPING green ) (TOPPING peppers ) ) and (DRINKORDER (NUMBER four ) (SIZE medium ) (DRINKTYPE cokes ) ) )\n",
      "SRC     :  i would like to order a large pizza with beef onions mushrooms and black olives and i'd also like to get four small diet pepsis\n",
      "EXPECTED:  (ORDER i would like to order (PIZZAORDER (NUMBER a ) (SIZE large ) pizza with (TOPPING beef ) (TOPPING onions ) (TOPPING mushrooms ) and (TOPPING black olives ) ) and i'd also like to get (DRINKORDER (NUMBER four ) (SIZE small ) (DRINKTYPE diet pepsis ) ) )\n",
      "GOT     :  (ORDER i would like to order (PIZZAORDER (NUMBER a ) (SIZE large ) pizza with (TOPPING beef ) (TOPPING onions ) (TOPPING mushrooms ) and (TOPPING black ) (TOPPING olives ) ) and i'd also like to get (DRINKORDER (NUMBER four ) (SIZE small ) (DRINKTYPE diet pepsis ) ) )\n",
      "SRC     :  i am going to need two small pizzas with light sauce and two small pizzas with extra cheese ordered\n",
      "EXPECTED:  (ORDER i am going to need (PIZZAORDER (NUMBER two ) (SIZE small ) pizzas with (COMPLEX_TOPPING (QUANTITY light ) (TOPPING sauce ) ) ) and (PIZZAORDER (NUMBER two ) (SIZE small ) pizzas with (COMPLEX_TOPPING (QUANTITY extra ) (TOPPING cheese ) ) ) ordered )\n",
      "GOT     :  (ORDER i am going to need (PIZZAORDER (NUMBER two ) (SIZE small ) pizzas with (COMPLEX_TOPPING (QUANTITY light sauce ) ) ) and (PIZZAORDER (NUMBER two ) (SIZE small ) pizzas with (COMPLEX_TOPPING (QUANTITY extra ) (TOPPING cheese ) ) ) ordered )\n",
      "SRC     :  i would like a medium pizza with chicken and olives and i do not want thin crust\n",
      "EXPECTED:  (ORDER i would like (PIZZAORDER (NUMBER a ) (SIZE medium ) pizza with (TOPPING chicken ) and (TOPPING olives ) and i do not want (NOT (STYLE thin crust ) ) ) )\n",
      "GOT     :  (ORDER i would like (PIZZAORDER (NUMBER a ) (SIZE medium ) pizza with (TOPPING chicken ) and (TOPPING olives ) and i do not want (NOT (STYLE thin ) ) crust ) )\n",
      "SRC     :  i want to order a medium pizza with bacon and chicken and i don't want it it have a thin crust\n",
      "EXPECTED:  (ORDER i want to order (PIZZAORDER (NUMBER a ) (SIZE medium ) pizza with (TOPPING bacon ) and (TOPPING chicken ) and i don't want it it have a (NOT (STYLE thin crust ) ) ) )\n",
      "GOT     :  (ORDER i want to order (PIZZAORDER (NUMBER a ) (SIZE medium ) pizza with (TOPPING bacon ) and (TOPPING chicken ) and i don't want it it have ) (PIZZAORDER (NUMBER a ) (STYLE thin crust ) ) )\n",
      "SRC     :  get me please a large pica with olives no sausage and thin crust\n",
      "EXPECTED:  (ORDER get me please (PIZZAORDER (NUMBER a ) (SIZE large ) pica with (TOPPING olives ) no (NOT (TOPPING sausage ) ) and (STYLE thin crust ) ) )\n",
      "GOT     :  (ORDER get me please (PIZZAORDER (NUMBER a ) (SIZE large ) pica with (TOPPING olives ) no (TOPPING sausage ) and (STYLE thin crust ) ) )\n",
      "SRC     :  put an order in for four large pizzas with extra cheese and light sauce\n",
      "EXPECTED:  (ORDER put an order in for (PIZZAORDER (NUMBER four ) (SIZE large ) pizzas with (COMPLEX_TOPPING (QUANTITY extra ) (TOPPING cheese ) ) and (COMPLEX_TOPPING (QUANTITY light ) (TOPPING sauce ) ) ) )\n",
      "GOT     :  (ORDER put an order in for (PIZZAORDER (NUMBER four ) (SIZE large ) pizzas with (COMPLEX_TOPPING (QUANTITY extra ) (TOPPING cheese ) ) and (COMPLEX_TOPPING (QUANTITY light sauce ) ) ) )\n",
      "SRC     :  order two pizzas with mushrooms pesto and do not include pepperoni\n",
      "EXPECTED:  (ORDER order (PIZZAORDER (NUMBER two ) pizzas with (TOPPING mushrooms ) (TOPPING pesto ) and do not include (NOT (TOPPING pepperoni ) ) ) )\n",
      "GOT     :  (ORDER order (PIZZAORDER (NUMBER two ) pizzas with (TOPPING mushrooms ) (TOPPING pesto ) and do not include (TOPPING pepperoni ) ) )\n",
      "SRC     :  i want one medium pizza and i like it with extra cheese and i'm in the mood for sausage and mushrooms on the pizza that's it\n",
      "EXPECTED:  (ORDER i want (PIZZAORDER (NUMBER one ) (SIZE medium ) pizza and i like it with (COMPLEX_TOPPING (QUANTITY extra ) (TOPPING cheese ) ) and i'm in the mood for (TOPPING sausage ) and (TOPPING mushrooms ) ) on the pizza that's it )\n",
      "GOT     :  (ORDER i want (PIZZAORDER (NUMBER one ) (SIZE medium ) pizza and i like it with (COMPLEX_TOPPING (QUANTITY extra ) (TOPPING cheese ) ) and i'm in the mood for (TOPPING sausage ) and (TOPPING mushrooms ) on the pizza ) that's it )\n",
      "SRC     :  put an order in for two pepsis and one large hamburger topping pizza\n",
      "EXPECTED:  (ORDER put an order in for (DRINKORDER (NUMBER two ) (DRINKTYPE pepsis ) ) and (PIZZAORDER (NUMBER one ) (SIZE large ) (TOPPING hamburger ) ) topping pizza )\n",
      "GOT     :  (ORDER put an order in for (DRINKORDER (NUMBER two ) (DRINKTYPE pepsis ) ) and (PIZZAORDER (NUMBER one ) (SIZE large ) (TOPPING hamburger ) topping pizza ) )\n",
      "SRC     :  i would like your xl pizza supreme\n",
      "EXPECTED:  (ORDER i would like your (PIZZAORDER (SIZE xl ) pizza (STYLE supreme ) ) )\n",
      "GOT     :  (ORDER i would like (PIZZAORDER your (SIZE xl ) pizza (STYLE supreme ) ) )\n",
      "SRC     :  can i get a large onion and ham pizza on a thin crust\n",
      "EXPECTED:  (ORDER can i get (PIZZAORDER (NUMBER a ) (SIZE large ) (TOPPING onion ) and (TOPPING ham ) pizza on a (STYLE thin crust ) ) )\n",
      "GOT     :  (ORDER can i get (PIZZAORDER (NUMBER a ) (SIZE large ) (TOPPING onion ) and (TOPPING ham ) pizza on ) (PIZZAORDER (NUMBER a ) (STYLE thin crust ) ) )\n",
      "SRC     :  id like to order one large chicken pizza with spicy red sauce and arugula on top\n",
      "EXPECTED:  (ORDER id like to order (PIZZAORDER (NUMBER one ) (SIZE large ) (TOPPING chicken ) pizza with (TOPPING spicy red sauce ) and (TOPPING arugula ) ) on top )\n",
      "GOT     :  (ORDER id like to order (PIZZAORDER (NUMBER one ) (SIZE large ) (TOPPING chicken ) pizza with (TOPPING spicy ) (TOPPING red ) (TOPPING sauce ) and (TOPPING arugula ) ) on top )\n",
      "SRC     :  put in an order for two cans of coke and one large pizza with beef and black olives\n",
      "EXPECTED:  (ORDER put in an order for (DRINKORDER (NUMBER two ) (CONTAINERTYPE cans ) of (DRINKTYPE coke ) ) and (PIZZAORDER (NUMBER one ) (SIZE large ) pizza with (TOPPING beef ) and (TOPPING black olives ) ) )\n",
      "GOT     :  (ORDER put in an order for (DRINKORDER (NUMBER two ) (CONTAINERTYPE cans ) of (DRINKTYPE coke ) ) and (PIZZAORDER (NUMBER one ) (SIZE large ) pizza with (TOPPING beef ) and (TOPPING black ) (TOPPING olives ) ) )\n",
      "SRC     :  i'd like to order just one pizza let's do pesto and ham toppings and please: zero olives\n",
      "EXPECTED:  (ORDER i'd like to order just (PIZZAORDER (NUMBER one ) pizza let's do (TOPPING pesto ) and (TOPPING ham ) toppings and please: zero (NOT (TOPPING olives ) ) ) )\n",
      "GOT     :  (ORDER i'd like to order just (PIZZAORDER (NUMBER one ) pizza let's do (TOPPING pesto ) and (TOPPING ham ) toppings ) and please: zero olives )\n",
      "SRC     :  just one small pizza please for toppings i'd love sausage pesto but i don't want pepperoni okay that's it\n",
      "EXPECTED:  (ORDER just (PIZZAORDER (NUMBER one ) (SIZE small ) pizza please for toppings i'd love (TOPPING sausage ) (TOPPING pesto ) but i don't want (NOT (TOPPING pepperoni ) ) ) okay that's it )\n",
      "GOT     :  (ORDER just (PIZZAORDER (NUMBER one ) (SIZE small ) pizza please for toppings i'd love (TOPPING sausage ) (TOPPING pesto ) but i don't want (NOT (TOPPING pepperoni ) ) okay ) that's it )\n",
      "SRC     :  i would like a small pepperoni pizza only\n",
      "EXPECTED:  (ORDER i would like (PIZZAORDER (NUMBER a ) (SIZE small ) (TOPPING pepperoni ) pizza ) only )\n",
      "GOT     :  (ORDER i would like (PIZZAORDER (NUMBER a ) (SIZE small ) (TOPPING pepperoni ) pizza only ) )\n",
      "SRC     :  begin an order for three large pizzas with ham and olives and add a small deep dish pizza with extra cheese\n",
      "EXPECTED:  (ORDER begin an order for (PIZZAORDER (NUMBER three ) (SIZE large ) pizzas with (TOPPING ham ) and (TOPPING olives ) ) and add (PIZZAORDER (NUMBER a ) (SIZE small ) (STYLE deep dish ) pizza with (COMPLEX_TOPPING (QUANTITY extra ) (TOPPING cheese ) ) ) )\n",
      "GOT     :  (ORDER begin an order for (PIZZAORDER (NUMBER three ) (SIZE large ) pizzas with (TOPPING ham ) and (TOPPING olives ) and ) add (PIZZAORDER (NUMBER a ) (SIZE small ) (STYLE deep dish ) pizza with (COMPLEX_TOPPING (QUANTITY extra ) (TOPPING cheese ) ) ) )\n",
      "SRC     :  i want to order a lunch pizza with sausage mushrooms and green peppers and a medium sprite\n",
      "EXPECTED:  (ORDER i want to order (PIZZAORDER (NUMBER a ) (SIZE lunch ) pizza with (TOPPING sausage ) (TOPPING mushrooms ) and (TOPPING green peppers ) ) and (DRINKORDER (NUMBER a ) (SIZE medium ) (DRINKTYPE sprite ) ) )\n",
      "GOT     :  (ORDER i want to order (PIZZAORDER (NUMBER a ) (SIZE lunch ) pizza with (TOPPING sausage ) (TOPPING mushrooms ) and (TOPPING green ) (TOPPING peppers ) ) and (DRINKORDER (NUMBER a ) (SIZE medium ) (DRINKTYPE sprite ) ) )\n",
      "SRC     :  put in a pizza order for two large pizzas with green peppers and olives and then add a small pizza with extra cheese\n",
      "EXPECTED:  (ORDER put in a pizza order for (PIZZAORDER (NUMBER two ) (SIZE large ) pizzas with (TOPPING green peppers ) and (TOPPING olives ) ) and then add (PIZZAORDER (NUMBER a ) (SIZE small ) pizza with (COMPLEX_TOPPING (QUANTITY extra ) (TOPPING cheese ) ) ) )\n",
      "GOT     :  (ORDER put in a pizza order for (PIZZAORDER (NUMBER two ) (SIZE large ) pizzas with (TOPPING green ) (TOPPING peppers ) and (TOPPING olives ) and ) then add (PIZZAORDER (NUMBER a ) (SIZE small ) pizza with (COMPLEX_TOPPING (QUANTITY extra ) (TOPPING cheese ) ) ) )\n",
      "SRC     :  can i have a small pizza with salami and red onion with a little basil on the top\n",
      "EXPECTED:  (ORDER can i have (PIZZAORDER (NUMBER a ) (SIZE small ) pizza with (TOPPING salami ) and (TOPPING red onion ) with (COMPLEX_TOPPING (QUANTITY a little ) (TOPPING basil ) ) ) on the top )\n",
      "GOT     :  (ORDER can i have (PIZZAORDER (NUMBER a ) (SIZE small ) pizza with (TOPPING salami ) and (TOPPING red ) (TOPPING onion ) with ) (PIZZAORDER (NUMBER a ) (COMPLEX_TOPPING (QUANTITY little ) ) (TOPPING basil ) on the top ) )\n",
      "SRC     :  hi tonight i want a small pizza and i need peppers on there and also i want pineapple definitely i don't want any extra cheese oh and i want a pepsi thank you\n",
      "EXPECTED:  (ORDER hi tonight i want (PIZZAORDER (NUMBER a ) (SIZE small ) pizza and i need (TOPPING peppers ) on there and also i want (TOPPING pineapple ) definitely i don't want any (NOT (COMPLEX_TOPPING (QUANTITY extra ) (TOPPING cheese ) ) ) ) oh and i want (DRINKORDER (NUMBER a ) (DRINKTYPE pepsi ) ) thank you )\n",
      "GOT     :  (ORDER hi tonight i want (PIZZAORDER (NUMBER a ) (SIZE small ) pizza and i need (TOPPING peppers ) on there and also i want (TOPPING pineapple ) ) definitely i (PIZZAORDER (SIZE don't ) want any (NOT (COMPLEX_TOPPING (QUANTITY extra ) (TOPPING cheese ) ) ) ) oh and i want (DRINKORDER (NUMBER a ) (DRINKTYPE pepsi ) ) thank you )\n",
      "SRC     :  could you get me one medium pizza with bacon peppers and mushrooms on it\n",
      "EXPECTED:  (ORDER could you get me (PIZZAORDER (NUMBER one ) (SIZE medium ) pizza with (TOPPING bacon ) (TOPPING peppers ) and (TOPPING mushrooms ) ) on it )\n",
      "GOT     :  (ORDER could you get me (PIZZAORDER (NUMBER one ) (SIZE medium ) pizza with (TOPPING bacon ) (TOPPING peppers ) and (TOPPING mushrooms ) on it ) )\n",
      "SRC     :  i would like to have one pizza with tuna and peppers without thin crust\n",
      "EXPECTED:  (ORDER i would like to have (PIZZAORDER (NUMBER one ) pizza with (TOPPING tuna ) and (TOPPING peppers ) without (NOT (STYLE thin crust ) ) ) )\n",
      "GOT     :  (ORDER i would like to have (PIZZAORDER (NUMBER one ) pizza with (TOPPING tuna ) and (TOPPING peppers ) without (NOT (STYLE thin ) ) crust ) )\n",
      "SRC     :  i'll go with a pie in medium size along with ham sausage without bacon\n",
      "EXPECTED:  (ORDER i'll go with (PIZZAORDER (NUMBER a ) pie in (SIZE medium ) size along with (TOPPING ham ) (TOPPING sausage ) without (NOT (TOPPING bacon ) ) ) )\n",
      "GOT     :  (ORDER i'll go with (PIZZAORDER (NUMBER a ) pie in (SIZE medium ) size along with (TOPPING ham ) (TOPPING sausage ) without (TOPPING bacon ) ) )\n",
      "SRC     :  one chicken and thin crust pizza with pineapple would do\n",
      "EXPECTED:  (ORDER (PIZZAORDER (NUMBER one ) (TOPPING chicken ) and (STYLE thin crust ) pizza with (TOPPING pineapple ) ) would do )\n",
      "GOT     :  (ORDER (PIZZAORDER (NUMBER one ) (TOPPING chicken ) and (STYLE thin crust ) pizza with (TOPPING pineapple ) would do ) )\n",
      "SRC     :  let me have pie along with mushrooms sausage but no ham\n",
      "EXPECTED:  (ORDER let me have (PIZZAORDER pie along with (TOPPING mushrooms ) (TOPPING sausage ) but no (NOT (TOPPING ham ) ) ) )\n",
      "GOT     :  (ORDER let me have pie along with (PIZZAORDER (TOPPING mushrooms ) (TOPPING sausage ) but no (NOT (TOPPING ham ) ) ) )\n",
      "SRC     :  i'll just take a small pizza and i'd like mushrooms tuna and olives on it please\n",
      "EXPECTED:  (ORDER i'll just take (PIZZAORDER (NUMBER a ) (SIZE small ) pizza and i'd like (TOPPING mushrooms ) (TOPPING tuna ) and (TOPPING olives ) ) on it please )\n",
      "GOT     :  (ORDER i'll just take (PIZZAORDER (NUMBER a ) (SIZE small ) pizza and i'd like (TOPPING mushrooms ) (TOPPING tuna ) and (TOPPING olives ) on it ) please )\n",
      "SRC     :  my order is for a medium pizza with mushrooms and anchovies and a large ice tea with no sugar\n",
      "EXPECTED:  (ORDER my order is for (PIZZAORDER (NUMBER a ) (SIZE medium ) pizza with (TOPPING mushrooms ) and (TOPPING anchovies ) ) and (DRINKORDER (NUMBER a ) (SIZE large ) (DRINKTYPE ice tea with no sugar ) ) )\n",
      "GOT     :  (ORDER my order is for (PIZZAORDER (NUMBER a ) (SIZE medium ) pizza with (TOPPING mushrooms ) and (TOPPING anchovies ) ) and (DRINKORDER (NUMBER a ) (SIZE large ) (DRINKTYPE ice tea ) ) with no sugar )\n",
      "SRC     :  i want one pizza with chicken ham and pepperoni on it\n",
      "EXPECTED:  (ORDER i want (PIZZAORDER (NUMBER one ) pizza with (TOPPING chicken ) (TOPPING ham ) and (TOPPING pepperoni ) ) on it )\n",
      "GOT     :  (ORDER i want (PIZZAORDER (NUMBER one ) pizza with (TOPPING chicken ) (TOPPING ham ) and (TOPPING pepperoni ) on it ) )\n",
      "SRC     :  can i get an olive and onion pizza i don't want any mushrooms on it and i'd like it medium\n",
      "EXPECTED:  (ORDER can i get (PIZZAORDER (NUMBER an ) (TOPPING olive ) and (TOPPING onion ) pizza i don't want any (NOT (TOPPING mushrooms ) ) on it and i'd like it (SIZE medium ) ) )\n",
      "GOT     :  (ORDER can i get (PIZZAORDER (NUMBER an ) (TOPPING olive ) and (TOPPING onion ) pizza i don't want any (NOT (TOPPING mushrooms ) ) ) on it and i'd like it medium )\n",
      "SRC     :  i want a large high-rise door pizza with pepperoni and feta cheese\n",
      "EXPECTED:  (ORDER i want (PIZZAORDER (NUMBER a ) (SIZE large ) (STYLE high-rise ) door pizza with (TOPPING pepperoni ) and (TOPPING feta cheese ) ) )\n",
      "GOT     :  (ORDER i want (PIZZAORDER (NUMBER a ) (SIZE large ) (STYLE high-rise ) door pizza with (TOPPING pepperoni ) and (TOPPING feta ) (TOPPING cheese ) ) )\n",
      "SRC     :  get me one pizza with ham and pesto and leave off the olives\n",
      "EXPECTED:  (ORDER get me (PIZZAORDER (NUMBER one ) pizza with (TOPPING ham ) and (TOPPING pesto ) and leave off the (NOT (TOPPING olives ) ) ) )\n",
      "GOT     :  (ORDER get me (PIZZAORDER (NUMBER one ) pizza with (TOPPING ham ) and (TOPPING pesto ) and leave off the (TOPPING olives ) ) )\n",
      "SRC     :  i need four small sized pizzas with bacon and ham on them\n",
      "EXPECTED:  (ORDER i need (PIZZAORDER (NUMBER four ) (SIZE small ) sized pizzas with (TOPPING bacon ) and (TOPPING ham ) ) on them )\n",
      "GOT     :  (ORDER i need (PIZZAORDER (NUMBER four ) (SIZE small ) sized pizzas with (TOPPING bacon ) and ) ham on them )\n",
      "SRC     :  i need to order one medium sausage pizza and one large canadian bacon pizza\n",
      "EXPECTED:  (ORDER i need to order (PIZZAORDER (NUMBER one ) (SIZE medium ) (TOPPING sausage ) pizza ) and (PIZZAORDER (NUMBER one ) (SIZE large ) (TOPPING canadian bacon ) pizza ) )\n",
      "GOT     :  (ORDER i need to order (PIZZAORDER (NUMBER one ) (SIZE medium ) (TOPPING sausage ) pizza ) and (PIZZAORDER (NUMBER one ) (SIZE large ) (TOPPING canadian ) (TOPPING bacon ) pizza ) )\n",
      "SRC     :  can i get one mushroom and pesto pizza with no thin crust\n",
      "EXPECTED:  (ORDER can i get (PIZZAORDER (NUMBER one ) (TOPPING mushroom ) and (TOPPING pesto ) pizza with no (NOT (STYLE thin crust ) ) ) )\n",
      "GOT     :  (ORDER can i get (PIZZAORDER (NUMBER one ) (TOPPING mushroom ) and (TOPPING pesto ) pizza with no (NOT (STYLE thin ) ) crust ) )\n",
      "SRC     :  one small cheese only pizza and one medium ham and pine apple pizza nothing to drink\n",
      "EXPECTED:  (ORDER (PIZZAORDER (NUMBER one ) (SIZE small ) (TOPPING cheese ) only pizza ) and (PIZZAORDER (NUMBER one ) (SIZE medium ) (TOPPING ham ) and (TOPPING pine apple ) pizza ) nothing to drink )\n",
      "GOT     :  (ORDER (PIZZAORDER (NUMBER one ) (SIZE small ) (TOPPING cheese ) only pizza ) and (PIZZAORDER (NUMBER one ) (SIZE medium ) (TOPPING ham ) and (TOPPING pine ) (TOPPING apple ) pizza ) nothing to drink )\n",
      "SRC     :  okay let me think okay i'll take a pizza and make it medium and i want ham and sausage on there but leave the bacon off\n",
      "EXPECTED:  (ORDER okay let me think okay i'll take (PIZZAORDER (NUMBER a ) pizza and make it (SIZE medium ) and i want (TOPPING ham ) and (TOPPING sausage ) on there but leave the (NOT (TOPPING bacon ) ) ) off )\n",
      "GOT     :  (ORDER okay let me think okay i'll take (PIZZAORDER (NUMBER a ) pizza and make it (SIZE medium ) and i want (TOPPING ham ) and (TOPPING sausage ) on there but leave the (TOPPING bacon ) ) off )\n",
      "SRC     :  my pizza order is for one small pepperoni with extra cheese two small sausage with extra cheese and one medium veggie pizza with extra cheese and extra sauce\n",
      "EXPECTED:  (ORDER my pizza order is for (PIZZAORDER (NUMBER one ) (SIZE small ) (TOPPING pepperoni ) with (COMPLEX_TOPPING (QUANTITY extra ) (TOPPING cheese ) ) ) (PIZZAORDER (NUMBER two ) (SIZE small ) (TOPPING sausage ) with (COMPLEX_TOPPING (QUANTITY extra ) (TOPPING cheese ) ) ) and (PIZZAORDER (NUMBER one ) (SIZE medium ) (STYLE veggie ) pizza with (COMPLEX_TOPPING (QUANTITY extra ) (TOPPING cheese ) ) and (COMPLEX_TOPPING (QUANTITY extra ) (TOPPING sauce ) ) ) )\n",
      "GOT     :  (ORDER my pizza order is for (PIZZAORDER (NUMBER one ) (SIZE small ) (TOPPING pepperoni ) with (COMPLEX_TOPPING (QUANTITY extra ) (TOPPING cheese ) ) ) (PIZZAORDER (NUMBER two ) (SIZE small ) (TOPPING sausage ) with (COMPLEX_TOPPING (QUANTITY extra ) (TOPPING cheese ) ) ) and (PIZZAORDER (NUMBER one ) (SIZE medium ) (STYLE veggie ) pizza with (COMPLEX_TOPPING (QUANTITY extra ) (TOPPING cheese ) ) and (COMPLEX_TOPPING extra (TOPPING sauce ) ) ) )\n",
      "SRC     :  i need one small size pizza and two large size pizzas\n",
      "EXPECTED:  (ORDER i need (PIZZAORDER (NUMBER one ) (SIZE small ) ) size pizza and (PIZZAORDER (NUMBER two ) (SIZE large ) ) size pizzas )\n",
      "GOT     :  (ORDER i need (PIZZAORDER (NUMBER one ) (SIZE small ) size pizza ) and (PIZZAORDER (NUMBER two ) (SIZE large ) size pizzas ) )\n",
      "SRC     :  i would like to get three pizzas with mushrooms pepperoni and ham please\n",
      "EXPECTED:  (ORDER i would like to get (PIZZAORDER (NUMBER three ) pizzas with (TOPPING mushrooms ) (TOPPING pepperoni ) and (TOPPING ham ) ) please )\n",
      "GOT     :  (ORDER i would like to get (PIZZAORDER (NUMBER three ) pizzas with (TOPPING mushrooms ) (TOPPING pepperoni ) and (TOPPING ham ) please ) )\n",
      "SRC     :  i want to order a deep dish pizza with fresh mushrooms and black olives\n",
      "EXPECTED:  (ORDER i want to order (PIZZAORDER (NUMBER a ) (STYLE deep dish ) pizza with fresh (TOPPING mushrooms ) and (TOPPING black olives ) ) )\n",
      "GOT     :  (ORDER i want to order (PIZZAORDER (NUMBER a ) (STYLE deep dish ) pizza with fresh (TOPPING mushrooms ) and (TOPPING black ) (TOPPING olives ) ) )\n",
      "SRC     :  start an order for three small pizzas with yellow peppers and extra onions\n",
      "EXPECTED:  (ORDER start an order for (PIZZAORDER (NUMBER three ) (SIZE small ) pizzas with (TOPPING yellow peppers ) and (COMPLEX_TOPPING (QUANTITY extra ) (TOPPING onions ) ) ) )\n",
      "GOT     :  (ORDER start an order for (PIZZAORDER (NUMBER three ) (SIZE small ) pizzas with (TOPPING yellow ) (TOPPING peppers ) and (COMPLEX_TOPPING (QUANTITY extra ) (TOPPING onions ) ) ) )\n",
      "SRC     :  start an order for three medium pizzas with onions and extra sauce and add two cans of coke\n",
      "EXPECTED:  (ORDER start an order for (PIZZAORDER (NUMBER three ) (SIZE medium ) pizzas with (TOPPING onions ) and (COMPLEX_TOPPING (QUANTITY extra ) (TOPPING sauce ) ) ) and add (DRINKORDER (NUMBER two ) (CONTAINERTYPE cans ) of (DRINKTYPE coke ) ) )\n",
      "GOT     :  (ORDER start an order for (PIZZAORDER (NUMBER three ) (SIZE medium ) pizzas with (TOPPING onions ) and (COMPLEX_TOPPING extra (TOPPING sauce ) ) ) and add (DRINKORDER (NUMBER two ) (CONTAINERTYPE cans ) of (DRINKTYPE coke ) ) )\n",
      "SRC     :  i need a small pie and i'd like tuna on it and please also i'll take peppers and bacon on it\n",
      "EXPECTED:  (ORDER i need (PIZZAORDER (NUMBER a ) (SIZE small ) pie and i'd like (TOPPING tuna ) on it and please also i'll take (TOPPING peppers ) and (TOPPING bacon ) ) on it )\n",
      "GOT     :  (ORDER i need (PIZZAORDER (NUMBER a ) (SIZE small ) pie and i'd like (TOPPING tuna ) on it and please also i'll take (TOPPING peppers ) and (TOPPING bacon ) on it ) )\n",
      "Results:\n",
      "Total examples: 1357\n",
      "Correct predictions: 1075\n",
      "Accuracy: 79.22%\n"
     ]
    }
   ],
   "execution_count": 11
  },
  {
   "metadata": {
    "ExecuteTime": {
     "end_time": "2024-12-20T13:32:58.980917Z",
     "start_time": "2024-12-20T13:32:58.962339Z"
    }
   },
   "cell_type": "code",
   "source": [
    "def run_complex_json(order):\n",
    "    words = [token for token in order.split(' ') if token != '']\n",
    "    order_result = feed_model(model_complex, order, inv_tags_ct)\n",
    "    if verbose_output: print(f\"COMPLEX:\\n\\t IN -> {order}\\n\\t OUT -> {order_result}\")\n",
    "    result = {}\n",
    "    index = 0\n",
    "    \n",
    "    TAGS_STARTERS = [\"TOPPING_S\", \"QUANTITY_S\"]\n",
    "    TAGS_CONT     = [\"TOPPING\"  , \"QUANTITY\"  ]\n",
    "    while index < len(order_result):  # len(order_result) == len(words)\n",
    "        found = False\n",
    "        for tag_s, tag in zip(TAGS_STARTERS, TAGS_CONT):\n",
    "            if order_result[index] == tag_s:\n",
    "                found = True\n",
    "                content = [words[index]]\n",
    "                index = index + 1\n",
    "                while index < len(order_result) and order_result[index] == tag:\n",
    "                    content = content + [words[index]]\n",
    "                    index = index + 1\n",
    "                if \"QUANTITY\" in tag:\n",
    "                    result[\"QUANTITY\"] = ' '.join(content)\n",
    "                elif \"TOPPING\" in tag:\n",
    "                    result[\"TOPPING\"] = ' '.join(content)\n",
    "                break\n",
    "        if not found:\n",
    "            index = index + 1\n",
    "    \n",
    "    return result\n",
    "\n",
    "def run_pizza_order_json(order):\n",
    "    words = [token for token in order.split(' ') if token != '']\n",
    "    order_result = feed_model(model_pizza_order, order, inv_tags_pz)\n",
    "    result = {\n",
    "        \"NUMBER\": None,\n",
    "        \"SIZE\": None,\n",
    "        \"STYLE\": [],\n",
    "        \"AllTopping\": []\n",
    "    }\n",
    "    if verbose_output: print(f\"PIZZA:\\n\\t IN -> {order}\\n\\t OUT -> {order_result}\") \n",
    "    index = 0\n",
    "    \n",
    "    NORMAL_TAGS_STARTERS = [\"TOPPING_S\", \"STYLE_S\", \"SIZE_S\", \"NUMBER_S\"]\n",
    "    NORMAL_TAGS_CONT     = [\"TOPPING\"  , \"STYLE\"  , \"SIZE\"  , \"NUMBER\"]\n",
    "    \n",
    "    NOT_TAGS_STARTERS    = [\"NOT_TOPPING_S\", \"NOT_STYLE_S\"]   # last two doesn't exist but aahhh whatever xD\n",
    "    while index < len(order_result):  # len(order_result) == len(words)\n",
    "        found = False\n",
    "        for tag_s, tag in zip(NORMAL_TAGS_STARTERS, NORMAL_TAGS_CONT):\n",
    "            if order_result[index] == tag_s:\n",
    "                found = True\n",
    "                content = [words[index]]\n",
    "                index = index + 1\n",
    "                while index < len(order_result) and tag in order_result[index]:\n",
    "                    content = content + [words[index]]\n",
    "                    index = index + 1\n",
    "                if \"TOPPING\" in tag:\n",
    "                    result[\"AllTopping\"].append({\n",
    "                            \"NOT\": False,\n",
    "                            \"QUANTITY\": None,\n",
    "                            \"TOPPING\": ' '.join(content)\n",
    "                        })  \n",
    "                elif \"STYLE\" in tag:\n",
    "                    result[\"STYLE\"].append({\n",
    "                        \"NOT\": False,\n",
    "                        \"TYPE\": ' '.join(content),\n",
    "                    })\n",
    "                elif \"SIZE\" in tag:\n",
    "                    result[\"SIZE\"] = ' '.join(content)\n",
    "                elif \"NUMBER\" in tag:\n",
    "                    result[\"NUMBER\"] = ' '.join(content)\n",
    "                    \n",
    "                break\n",
    "        if found:\n",
    "           continue\n",
    "        \n",
    "        for tag_s, tag in zip(NOT_TAGS_STARTERS, NORMAL_TAGS_CONT):\n",
    "            if order_result[index] == tag_s:\n",
    "                found = True\n",
    "                content = [words[index]]\n",
    "                index = index + 1\n",
    "                while index < len(order_result) and tag in order_result[index]:\n",
    "                    content = content + [words[index]]\n",
    "                    index = index + 1\n",
    "                    \n",
    "                if \"TOPPING\" in tag:\n",
    "                    result[\"AllTopping\"].append({\n",
    "                        \"NOT\": True,\n",
    "                        \"QUANTITY\": None,\n",
    "                        \"TOPPING\": ' '.join(content)\n",
    "                    })\n",
    "                elif \"STYLE\" in tag:\n",
    "                    result[\"STYLE\"].append({\n",
    "                        \"NOT\": True,\n",
    "                        \"TYPE\": ' '.join(content),\n",
    "                    })\n",
    "                elif \"SIZE\" in tag:\n",
    "                    result[\"SIZE\"] = ' '.join(content)\n",
    "                elif \"NUMBER\" in tag:\n",
    "                    result[\"NUMBER\"] = ' '.join(content)\n",
    "                break\n",
    "                \n",
    "        if found:\n",
    "           continue\n",
    "            \n",
    "        # special case: COMPLEX_TOPPING_S & NOT_COMPLEX_TOPPING_S\n",
    "        if \"COMPLEX_TOPPING_S\" in order_result[index]:\n",
    "            found = True\n",
    "            negated = \"NOT\" in order_result[index]\n",
    "            content = [words[index]]\n",
    "            index = index + 1\n",
    "            while index < len(order_result) and \"COMPLEX_TOPPING\" in order_result[index]:\n",
    "                content = content + [words[index]]\n",
    "                index = index + 1\n",
    "            val = run_complex_json(' '.join(content))\n",
    "            if negated:\n",
    "                if \"QUANTITY\" in val and \"TOPPING\" in val:\n",
    "                    result[\"AllTopping\"].append({\n",
    "                        \"NOT\": True,\n",
    "                        \"QUANTITY\": val[\"QUANTITY\"],\n",
    "                        \"TOPPING\": val[\"TOPPING\"]\n",
    "                    })\n",
    "            else:\n",
    "                if \"QUANTITY\" in val and \"TOPPING\" in val:\n",
    "                    result[\"AllTopping\"].append({\n",
    "                        \"NOT\": False,\n",
    "                        \"QUANTITY\": val[\"QUANTITY\"],\n",
    "                        \"TOPPING\": val[\"TOPPING\"]\n",
    "                    })\n",
    "        if found:\n",
    "           continue\n",
    "        index = index + 1\n",
    "    return result\n",
    "\n",
    "def run_drink_order_json(order):\n",
    "    words = [token for token in order.split(' ') if token != '']\n",
    "    order_result = feed_model(model_drink_order, order, inv_tags_dr)\n",
    "    if verbose_output: print(f\"DRINK:\\n\\t IN -> {order}\\n\\t OUT -> {order_result}\")\n",
    "    result = {}\n",
    "    index = 0\n",
    "    \n",
    "    TAGS_STARTERS = [\"SIZE_S\", \"VOLUME_S\", \"NUMBER_S\", \"DRINKTYPE_S\", \"CONTAINERTYPE_S\"]\n",
    "    TAGS_CONT     = [\"SIZE\"  , \"VOLUME\"  , \"NUMBER\"  , \"DRINKTYPE\"  , \"CONTAINERTYPE\"]\n",
    "    while index < len(order_result):  # len(order_result) == len(words)\n",
    "        found = False\n",
    "        for tag_s, tag in zip(TAGS_STARTERS, TAGS_CONT):\n",
    "            if order_result[index] == tag_s:\n",
    "                found = True\n",
    "                content = [words[index]]\n",
    "                index = index + 1\n",
    "                while index < len(order_result) and order_result[index] == tag:\n",
    "                    content = content + [words[index]]\n",
    "                    index = index + 1\n",
    "                \n",
    "                if \"SIZE\" in tag:\n",
    "                    result[\"SIZE\"] = ' '.join(content)\n",
    "                if \"VOLUME\" in tag:\n",
    "                    result[\"VOLUME\"] = \" \".join(content)\n",
    "                if \"NUMBER\" in tag:\n",
    "                    result[\"NUMBER\"] = ' '.join(content)\n",
    "                if \"DRINKTYPE\" in tag:\n",
    "                    result[\"DRINKTYPE\"] = \" \".join(content)\n",
    "                if \"CONTAINERTYPE\" in tag:\n",
    "                    result[\"CONTAINERTYPE\"] = \" \".join(content)\n",
    "                break\n",
    "        if not found:\n",
    "            index = index + 1\n",
    "    \n",
    "    return result\n",
    "\n",
    "def run_order_json(order):\n",
    "    words = [token for token in order.split(' ') if token != '']\n",
    "    order_result = feed_model(model_boundary, order, inv_tags_ob)\n",
    "    if verbose_output: print(f\"ORDER:\\n\\t IN -> {order}\\n\\t OUT -> {order_result}\")\n",
    "    pizza_order = []\n",
    "    drink_order = []\n",
    "    index = 0\n",
    "    while index < len(order_result):  # len(order_result) == len(words)\n",
    "        if order_result[index] in 'PIZZAORDER_S':  # read a pizza order\n",
    "            order = [words[index]]\n",
    "            index = index + 1\n",
    "            while index < len(order_result) and 'PIZZAORDER' in order_result[index]:\n",
    "                order = order + [words[index]]\n",
    "                index = index + 1\n",
    "            if len(order) >= 2:\n",
    "                pizza_order.append(run_pizza_order_json(' '.join(order)))\n",
    "                \n",
    "        elif order_result[index] in 'DRINKORDER_S':  # read a drink order\n",
    "            order = [words[index]]\n",
    "            index = index + 1\n",
    "            while index < len(order_result) and 'DRINKORDER' == order_result[index]:\n",
    "                order = order + [words[index]]\n",
    "                index = index + 1\n",
    "            if len(order) >= 2:\n",
    "                drink_or = run_drink_order_json((' '.join(order)))\n",
    "                while not \"DRINKTYPE\" in drink_or.keys() and index < len(order_result):\n",
    "                    order = order + [words[index]]\n",
    "                    index = index + 1\n",
    "                    while index < len(order_result) and 'DRINKORDER' == order_result[index]:\n",
    "                        order = order + [words[index]]\n",
    "                        index = index + 1\n",
    "                    drink_or = run_drink_order_json((' '.join(order)))\n",
    "                drink_order.append(drink_or)\n",
    "        else:\n",
    "            index = index + 1\n",
    "        \n",
    "    return {\n",
    "        \"PIZZAORDER\": pizza_order,\n",
    "        \"DRINKORDER\": drink_order,\n",
    "    }\n",
    "    \n",
    "def run_query_json(query):\n",
    "    query = query.lower()\n",
    "    return {\"ORDER\": run_order_json(query)}"
   ],
   "id": "5834f5625c4f0814",
   "outputs": [],
   "execution_count": 20
  },
  {
   "metadata": {
    "ExecuteTime": {
     "end_time": "2024-12-20T13:23:04.567073Z",
     "start_time": "2024-12-20T13:23:04.177386Z"
    }
   },
   "cell_type": "code",
   "source": [
    "import json\n",
    "from rich.console import Console\n",
    "from rich.panel import Panel\n",
    "from rich.columns import Columns\n",
    "\n",
    "def BeautifulPrintJson(obj):\n",
    "    # Pretty JSON strings\n",
    "    json_str = json.dumps(obj, indent=4)\n",
    "\n",
    "    # Create Panels for each JSON\n",
    "    panel = Panel(json_str, title=\"JSON\", expand=True)\n",
    "\n",
    "    # Render them side by side\n",
    "    console = Console()\n",
    "    console.print(Columns([panel]))\n",
    "\n",
    "def BeautifulCompareJson(obj1, obj2):\n",
    "    # Pretty JSON strings\n",
    "    json1_str = json.dumps(obj1, indent=4)\n",
    "    json2_str = json.dumps(obj2, indent=4)\n",
    "\n",
    "    # Create Panels for each JSON\n",
    "    panel1 = Panel(json1_str, title=\"JSON 1\", expand=True)\n",
    "    panel2 = Panel(json2_str, title=\"JSON 2\", expand=True)\n",
    "\n",
    "    # Render them side by side\n",
    "    console = Console()\n",
    "    console.print(Columns([panel1, panel2]))\n"
   ],
   "id": "ba2ea005d051c7d3",
   "outputs": [],
   "execution_count": 15
  },
  {
   "metadata": {
    "ExecuteTime": {
     "end_time": "2024-12-20T13:31:07.761952Z",
     "start_time": "2024-12-20T13:31:06.952519Z"
    }
   },
   "cell_type": "code",
   "source": [
    "index = 0\n",
    "import pandas as pd\n",
    "import csv\n",
    "\n",
    "test_csv = pd.read_csv('tests/test_set_1.csv')\n",
    "orders  = test_csv['order']\n",
    "ids     = test_csv['id']"
   ],
   "id": "a1eac4d128c5cebb",
   "outputs": [],
   "execution_count": 17
  },
  {
   "metadata": {
    "ExecuteTime": {
     "end_time": "2024-12-20T11:42:49.332281Z",
     "start_time": "2024-12-20T11:42:49.264762Z"
    }
   },
   "cell_type": "code",
   "source": [
    "order = orders[index]\n",
    "print(f\"{order}\")\n",
    "BeautifulPrintJson(run_query_json(order))\n",
    "index = index + 1"
   ],
   "id": "6b80de96f5cbd89c",
   "outputs": [
    {
     "name": "stdout",
     "output_type": "stream",
     "text": [
      "a personal pizza with pineapple lamb onions pine apple bacon sausage and a lot of cheese\n",
      "ORDER:\n",
      "\t IN -> order a extra lare pizza i'd love tmato on it and i love combination please do not put any ham on there i don't like ham on pizza\n",
      "\t OUT -> ['NONE', 'PIZZAORDER_S', 'PIZZAORDER', 'PIZZAORDER', 'PIZZAORDER', 'PIZZAORDER', 'PIZZAORDER', 'PIZZAORDER', 'PIZZAORDER', 'PIZZAORDER', 'PIZZAORDER', 'PIZZAORDER', 'PIZZAORDER', 'PIZZAORDER', 'PIZZAORDER', 'PIZZAORDER', 'PIZZAORDER', 'PIZZAORDER', 'PIZZAORDER', 'PIZZAORDER', 'NONE', 'NONE', 'NONE', 'PIZZAORDER', 'PIZZAORDER', 'PIZZAORDER', 'PIZZAORDER', 'PIZZAORDER']\n",
      "PIZZA:\n",
      "\t IN -> a extra lare pizza i'd love tmato on it and i love combination please do not put any ham\n",
      "\t OUT -> ['NUMBER_S', 'SIZE_S', 'SIZE', 'NONE', 'NONE', 'NONE', 'TOPPING_S', 'NONE', 'NONE', 'NONE', 'NONE', 'NONE', 'NONE', 'NONE', 'NONE', 'NONE', 'NONE', 'NONE', 'NOT_TOPPING_S']\n",
      "PIZZA:\n",
      "\t IN -> don't like ham on pizza\n",
      "\t OUT -> ['SIZE_S', 'NONE', 'TOPPING_S', 'NONE', 'NONE']\n"
     ]
    },
    {
     "data": {
      "text/plain": [
       "╭─────────────────── JSON ───────────────────╮\n",
       "│ {                                          │\n",
       "│     \"ORDER\": {                             │\n",
       "│         \"PIZZAORDER\": [                    │\n",
       "│             {                              │\n",
       "│                 \"NUMBER\": \"a\",             │\n",
       "│                 \"SIZE\": \"extra lare\",      │\n",
       "│                 \"STYLE\": [],               │\n",
       "│                 \"AllTopping\": [            │\n",
       "│                     {                      │\n",
       "│                         \"NOT\": false,      │\n",
       "│                         \"QUANTITY\": null,  │\n",
       "│                         \"TOPPING\": \"tmato\" │\n",
       "│                     },                     │\n",
       "│                     {                      │\n",
       "│                         \"NOT\": true,       │\n",
       "│                         \"QUANTITY\": null,  │\n",
       "│                         \"TOPPING\": \"ham\"   │\n",
       "│                     }                      │\n",
       "│                 ]                          │\n",
       "│             },                             │\n",
       "│             {                              │\n",
       "│                 \"NUMBER\": null,            │\n",
       "│                 \"SIZE\": \"don't\",           │\n",
       "│                 \"STYLE\": [],               │\n",
       "│                 \"AllTopping\": [            │\n",
       "│                     {                      │\n",
       "│                         \"NOT\": false,      │\n",
       "│                         \"QUANTITY\": null,  │\n",
       "│                         \"TOPPING\": \"ham\"   │\n",
       "│                     }                      │\n",
       "│                 ]                          │\n",
       "│             }                              │\n",
       "│         ],                                 │\n",
       "│         \"DRINKORDER\": []                   │\n",
       "│     }                                      │\n",
       "│ }                                          │\n",
       "╰────────────────────────────────────────────╯\n"
      ],
      "text/html": [
       "<pre style=\"white-space:pre;overflow-x:auto;line-height:normal;font-family:Menlo,'DejaVu Sans Mono',consolas,'Courier New',monospace\">╭─────────────────── JSON ───────────────────╮\n",
       "│ {                                          │\n",
       "│     \"ORDER\": {                             │\n",
       "│         \"PIZZAORDER\": [                    │\n",
       "│             {                              │\n",
       "│                 \"NUMBER\": \"a\",             │\n",
       "│                 \"SIZE\": \"extra lare\",      │\n",
       "│                 \"STYLE\": [],               │\n",
       "│                 \"AllTopping\": [            │\n",
       "│                     {                      │\n",
       "│                         \"NOT\": false,      │\n",
       "│                         \"QUANTITY\": null,  │\n",
       "│                         \"TOPPING\": \"tmato\" │\n",
       "│                     },                     │\n",
       "│                     {                      │\n",
       "│                         \"NOT\": true,       │\n",
       "│                         \"QUANTITY\": null,  │\n",
       "│                         \"TOPPING\": \"ham\"   │\n",
       "│                     }                      │\n",
       "│                 ]                          │\n",
       "│             },                             │\n",
       "│             {                              │\n",
       "│                 \"NUMBER\": null,            │\n",
       "│                 \"SIZE\": \"don't\",           │\n",
       "│                 \"STYLE\": [],               │\n",
       "│                 \"AllTopping\": [            │\n",
       "│                     {                      │\n",
       "│                         \"NOT\": false,      │\n",
       "│                         \"QUANTITY\": null,  │\n",
       "│                         \"TOPPING\": \"ham\"   │\n",
       "│                     }                      │\n",
       "│                 ]                          │\n",
       "│             }                              │\n",
       "│         ],                                 │\n",
       "│         \"DRINKORDER\": []                   │\n",
       "│     }                                      │\n",
       "│ }                                          │\n",
       "╰────────────────────────────────────────────╯\n",
       "</pre>\n"
      ]
     },
     "metadata": {},
     "output_type": "display_data"
    }
   ],
   "execution_count": 103
  },
  {
   "metadata": {
    "ExecuteTime": {
     "end_time": "2024-12-20T11:22:43.142919Z",
     "start_time": "2024-12-20T11:22:43.140130Z"
    }
   },
   "cell_type": "code",
   "source": "index = index - 1",
   "id": "2000c2d0f09feda2",
   "outputs": [],
   "execution_count": 99
  },
  {
   "metadata": {
    "ExecuteTime": {
     "end_time": "2024-12-20T13:39:13.698035Z",
     "start_time": "2024-12-20T13:34:01.133995Z"
    }
   },
   "cell_type": "code",
   "source": [
    "from evaluate.reformat_results import parse_tree\n",
    "from tqdm import tqdm\n",
    "outputs = []\n",
    "for i, order in tqdm(zip(ids, orders), total=len(ids), desc=\"writing results\"):\n",
    "    outputs.append ({\n",
    "        \"id\": i,\n",
    "        \"output\": parse_tree(run_query_json(order)).replace(\"\\n\", \"\"),\n",
    "    })\n",
    "    \n",
    "with open(\"results/test_set_1.csv\", 'w+') as file:\n",
    "    writer = csv.DictWriter(file, fieldnames=[\"id\", \"output\"])\n",
    "    writer.writeheader()\n",
    "    writer.writerows(outputs)"
   ],
   "id": "7a7794046daabd89",
   "outputs": [
    {
     "name": "stderr",
     "output_type": "stream",
     "text": [
      "writing results:   0%|          | 4/4000 [00:00<03:59, 16.65it/s]"
     ]
    },
    {
     "name": "stdout",
     "output_type": "stream",
     "text": [
      "Word: \"sauted\" -> \"saut\" not in vocab\n",
      "isPersonalPronoun: False\n",
      "isNumber: False\n",
      "isTopping: False\n",
      "isQuantity: False\n",
      "Word: \"sauted\" -> \"saut\" not in vocab\n",
      "isPersonalPronoun: False\n",
      "isNumber: False\n",
      "isTopping: False\n",
      "isQuantity: False\n",
      "Word: \"handle\" -> \"handl\" not in vocab\n",
      "isPersonalPronoun: False\n",
      "isNumber: False\n",
      "isTopping: False\n",
      "isQuantity: False\n"
     ]
    },
    {
     "name": "stderr",
     "output_type": "stream",
     "text": [
      "writing results:   0%|          | 6/4000 [00:00<04:07, 16.14it/s]"
     ]
    },
    {
     "name": "stdout",
     "output_type": "stream",
     "text": [
      "Word: \"killed\" -> \"kill\" not in vocab\n",
      "isPersonalPronoun: False\n",
      "isNumber: False\n",
      "isTopping: False\n",
      "isQuantity: False\n",
      "Word: \"killed\" -> \"kill\" not in vocab\n",
      "isPersonalPronoun: False\n",
      "isNumber: False\n",
      "isTopping: False\n",
      "isQuantity: False\n",
      "Word: \"chard\" -> \"chard\" not in vocab\n",
      "isPersonalPronoun: False\n",
      "isNumber: False\n",
      "isTopping: False\n",
      "isQuantity: False\n",
      "Word: \"juice\" -> \"juic\" not in vocab\n",
      "isPersonalPronoun: False\n",
      "isNumber: False\n",
      "isTopping: False\n",
      "isQuantity: False\n",
      "Word: \"boxes\" -> \"box\" not in vocab\n",
      "isPersonalPronoun: False\n",
      "isNumber: False\n",
      "isTopping: False\n",
      "isQuantity: False\n"
     ]
    },
    {
     "name": "stderr",
     "output_type": "stream",
     "text": [
      "writing results:   0%|          | 8/4000 [00:00<05:40, 11.74it/s]"
     ]
    },
    {
     "name": "stdout",
     "output_type": "stream",
     "text": [
      "Word: \"chard\" -> \"chard\" not in vocab\n",
      "isPersonalPronoun: False\n",
      "isNumber: False\n",
      "isTopping: False\n",
      "isQuantity: False\n",
      "Word: \"juice\" -> \"juic\" not in vocab\n",
      "isPersonalPronoun: False\n",
      "isNumber: False\n",
      "isTopping: False\n",
      "isQuantity: False\n",
      "Word: \"boxes\" -> \"box\" not in vocab\n",
      "isPersonalPronoun: False\n",
      "isNumber: False\n",
      "isTopping: False\n",
      "isQuantity: False\n",
      "Word: \"kimchi\" -> \"kimchi\" not in vocab\n",
      "isPersonalPronoun: False\n",
      "isNumber: False\n",
      "isTopping: False\n",
      "isQuantity: False\n",
      "Word: \"kimchi\" -> \"kimchi\" not in vocab\n",
      "isPersonalPronoun: False\n",
      "isNumber: False\n",
      "isTopping: False\n",
      "isQuantity: False\n"
     ]
    },
    {
     "name": "stderr",
     "output_type": "stream",
     "text": [
      "writing results:   0%|          | 14/4000 [00:00<04:10, 15.93it/s]"
     ]
    },
    {
     "name": "stdout",
     "output_type": "stream",
     "text": [
      "Word: \"kimchi\" -> \"kimchi\" not in vocab\n",
      "isPersonalPronoun: False\n",
      "isNumber: False\n",
      "isTopping: False\n",
      "isQuantity: False\n",
      "Word: \"ET\" -> \"et\" not in vocab\n",
      "isPersonalPronoun: False\n",
      "isNumber: False\n",
      "isTopping: False\n",
      "isQuantity: False\n",
      "Word: \"arrange\" -> \"arrang\" not in vocab\n",
      "isPersonalPronoun: False\n",
      "isNumber: False\n",
      "isTopping: False\n",
      "isQuantity: False\n"
     ]
    },
    {
     "name": "stderr",
     "output_type": "stream",
     "text": [
      "writing results:   1%|          | 22/4000 [00:01<04:47, 13.85it/s]"
     ]
    },
    {
     "name": "stdout",
     "output_type": "stream",
     "text": [
      "Word: \"ll have\" -> \"ll have\" not in vocab\n",
      "isPersonalPronoun: False\n",
      "isNumber: False\n",
      "isTopping: False\n",
      "isQuantity: False\n",
      "Word: \"sweet\" -> \"sweet\" not in vocab\n",
      "isPersonalPronoun: False\n",
      "isNumber: False\n",
      "isTopping: False\n",
      "isQuantity: False\n",
      "Word: \"sweet\" -> \"sweet\" not in vocab\n",
      "isPersonalPronoun: False\n",
      "isNumber: False\n",
      "isTopping: False\n",
      "isQuantity: False\n",
      "Word: \"lamb\" -> \"lamb\" not in vocab\n",
      "isPersonalPronoun: False\n",
      "isNumber: False\n",
      "isTopping: False\n",
      "isQuantity: False\n"
     ]
    },
    {
     "name": "stderr",
     "output_type": "stream",
     "text": [
      "writing results:   1%|          | 24/4000 [00:01<05:15, 12.58it/s]"
     ]
    },
    {
     "name": "stdout",
     "output_type": "stream",
     "text": [
      "Word: \"lamb\" -> \"lamb\" not in vocab\n",
      "isPersonalPronoun: False\n",
      "isNumber: False\n",
      "isTopping: False\n",
      "isQuantity: False\n",
      "Word: \"leeks\" -> \"leek\" not in vocab\n",
      "isPersonalPronoun: False\n",
      "isNumber: False\n",
      "isTopping: True\n",
      "isQuantity: False\n",
      "Word: \"leeks\" -> \"leek\" not in vocab\n",
      "isPersonalPronoun: False\n",
      "isNumber: False\n",
      "isTopping: True\n",
      "isQuantity: False\n"
     ]
    },
    {
     "name": "stderr",
     "output_type": "stream",
     "text": [
      "writing results:   1%|          | 28/4000 [00:01<03:54, 16.93it/s]"
     ]
    },
    {
     "name": "stdout",
     "output_type": "stream",
     "text": [
      "Word: \"lace\" -> \"lace\" not in vocab\n",
      "isPersonalPronoun: False\n",
      "isNumber: False\n",
      "isTopping: False\n",
      "isQuantity: False\n",
      "Word: \"lamb\" -> \"lamb\" not in vocab\n",
      "isPersonalPronoun: False\n",
      "isNumber: False\n",
      "isTopping: False\n",
      "isQuantity: False\n",
      "Word: \"lamb\" -> \"lamb\" not in vocab\n",
      "isPersonalPronoun: False\n",
      "isNumber: False\n",
      "isTopping: False\n",
      "isQuantity: False\n",
      "Word: \"mushy\" -> \"mushi\" not in vocab\n",
      "isPersonalPronoun: False\n",
      "isNumber: False\n",
      "isTopping: False\n",
      "isQuantity: False\n",
      "Word: \"mint\" -> \"mint\" not in vocab\n",
      "isPersonalPronoun: False\n",
      "isNumber: False\n",
      "isTopping: False\n",
      "isQuantity: False\n"
     ]
    },
    {
     "name": "stderr",
     "output_type": "stream",
     "text": [
      "writing results:   1%|          | 31/4000 [00:02<04:29, 14.74it/s]"
     ]
    },
    {
     "name": "stdout",
     "output_type": "stream",
     "text": [
      "Word: \"mushy\" -> \"mushi\" not in vocab\n",
      "isPersonalPronoun: False\n",
      "isNumber: False\n",
      "isTopping: False\n",
      "isQuantity: False\n",
      "Word: \"mint\" -> \"mint\" not in vocab\n",
      "isPersonalPronoun: False\n",
      "isNumber: False\n",
      "isTopping: False\n",
      "isQuantity: False\n",
      "Word: \"arrange\" -> \"arrang\" not in vocab\n",
      "isPersonalPronoun: False\n",
      "isNumber: False\n",
      "isTopping: False\n",
      "isQuantity: False\n",
      "Word: \"mint\" -> \"mint\" not in vocab\n",
      "isPersonalPronoun: False\n",
      "isNumber: False\n",
      "isTopping: False\n",
      "isQuantity: False\n"
     ]
    },
    {
     "name": "stderr",
     "output_type": "stream",
     "text": [
      "writing results:   1%|          | 36/4000 [00:02<04:52, 13.56it/s]"
     ]
    },
    {
     "name": "stdout",
     "output_type": "stream",
     "text": [
      "Word: \"mint\" -> \"mint\" not in vocab\n",
      "isPersonalPronoun: False\n",
      "isNumber: False\n",
      "isTopping: False\n",
      "isQuantity: False\n",
      "Word: \"hummus\" -> \"hummu\" not in vocab\n",
      "isPersonalPronoun: False\n",
      "isNumber: False\n",
      "isTopping: False\n",
      "isQuantity: False\n",
      "Word: \"hummus\" -> \"hummu\" not in vocab\n",
      "isPersonalPronoun: False\n",
      "isNumber: False\n",
      "isTopping: False\n",
      "isQuantity: False\n",
      "Word: \"hummus\" -> \"hummu\" not in vocab\n",
      "isPersonalPronoun: False\n",
      "isNumber: False\n",
      "isTopping: False\n",
      "isQuantity: False\n"
     ]
    },
    {
     "name": "stderr",
     "output_type": "stream",
     "text": [
      "writing results:   1%|          | 41/4000 [00:02<04:28, 14.74it/s]"
     ]
    },
    {
     "name": "stdout",
     "output_type": "stream",
     "text": [
      "Word: \"happy\" -> \"happi\" not in vocab\n",
      "isPersonalPronoun: False\n",
      "isNumber: False\n",
      "isTopping: False\n",
      "isQuantity: False\n",
      "Word: \"lamb\" -> \"lamb\" not in vocab\n",
      "isPersonalPronoun: False\n",
      "isNumber: False\n",
      "isTopping: False\n",
      "isQuantity: False\n",
      "Word: \"lamb\" -> \"lamb\" not in vocab\n",
      "isPersonalPronoun: False\n",
      "isNumber: False\n",
      "isTopping: False\n",
      "isQuantity: False\n",
      "Word: \"zest\" -> \"zest\" not in vocab\n",
      "isPersonalPronoun: False\n",
      "isNumber: False\n",
      "isTopping: False\n",
      "isQuantity: False\n",
      "Word: \"zest\" -> \"zest\" not in vocab\n",
      "isPersonalPronoun: False\n",
      "isNumber: False\n",
      "isTopping: False\n",
      "isQuantity: False\n"
     ]
    },
    {
     "name": "stderr",
     "output_type": "stream",
     "text": [
      "writing results:   1%|          | 45/4000 [00:03<03:30, 18.79it/s]"
     ]
    },
    {
     "name": "stdout",
     "output_type": "stream",
     "text": [
      "Word: \"lees\" -> \"lee\" not in vocab\n",
      "isPersonalPronoun: False\n",
      "isNumber: False\n",
      "isTopping: False\n",
      "isQuantity: False\n",
      "Word: \"lees\" -> \"lee\" not in vocab\n",
      "isPersonalPronoun: False\n",
      "isNumber: False\n",
      "isTopping: False\n",
      "isQuantity: False\n",
      "Word: \"cabbage\" -> \"cabbag\" not in vocab\n",
      "isPersonalPronoun: False\n",
      "isNumber: False\n",
      "isTopping: False\n",
      "isQuantity: False\n"
     ]
    },
    {
     "name": "stderr",
     "output_type": "stream",
     "text": [
      "writing results:   1%|          | 49/4000 [00:03<03:02, 21.66it/s]"
     ]
    },
    {
     "name": "stdout",
     "output_type": "stream",
     "text": [
      "Word: \"finalize\" -> \"final\" not in vocab\n",
      "isPersonalPronoun: False\n",
      "isNumber: False\n",
      "isTopping: False\n",
      "isQuantity: False\n",
      "Word: \"secure\" -> \"secur\" not in vocab\n",
      "isPersonalPronoun: False\n",
      "isNumber: False\n",
      "isTopping: False\n",
      "isQuantity: False\n",
      "Word: \"kimchi\" -> \"kimchi\" not in vocab\n",
      "isPersonalPronoun: False\n",
      "isNumber: False\n",
      "isTopping: False\n",
      "isQuantity: False\n"
     ]
    },
    {
     "name": "stderr",
     "output_type": "stream",
     "text": [
      "writing results:   1%|▏         | 52/4000 [00:03<04:10, 15.74it/s]"
     ]
    },
    {
     "name": "stdout",
     "output_type": "stream",
     "text": [
      "Word: \"secure\" -> \"secur\" not in vocab\n",
      "isPersonalPronoun: False\n",
      "isNumber: False\n",
      "isTopping: False\n",
      "isQuantity: False\n",
      "Word: \"kimchi\" -> \"kimchi\" not in vocab\n",
      "isPersonalPronoun: False\n",
      "isNumber: False\n",
      "isTopping: False\n",
      "isQuantity: False\n",
      "Word: \"stick\" -> \"stick\" not in vocab\n",
      "isPersonalPronoun: False\n",
      "isNumber: False\n",
      "isTopping: False\n",
      "isQuantity: False\n",
      "Word: \"mint\" -> \"mint\" not in vocab\n",
      "isPersonalPronoun: False\n",
      "isNumber: False\n",
      "isTopping: False\n",
      "isQuantity: False\n",
      "Word: \"mint\" -> \"mint\" not in vocab\n",
      "isPersonalPronoun: False\n",
      "isNumber: False\n",
      "isTopping: False\n",
      "isQuantity: False\n",
      "Word: \"interested\" -> \"interest\" not in vocab\n",
      "isPersonalPronoun: False\n",
      "isNumber: False\n",
      "isTopping: False\n",
      "isQuantity: False\n"
     ]
    },
    {
     "name": "stderr",
     "output_type": "stream",
     "text": [
      "writing results:   1%|▏         | 56/4000 [00:03<03:44, 17.57it/s]"
     ]
    },
    {
     "name": "stdout",
     "output_type": "stream",
     "text": [
      "Word: \"cucumber\" -> \"cucumb\" not in vocab\n",
      "isPersonalPronoun: False\n",
      "isNumber: False\n",
      "isTopping: False\n",
      "isQuantity: False\n",
      "Word: \"cucumber\" -> \"cucumb\" not in vocab\n",
      "isPersonalPronoun: False\n",
      "isNumber: False\n",
      "isTopping: False\n",
      "isQuantity: False\n",
      "Word: \"heavy\" -> \"heavi\" not in vocab\n",
      "isPersonalPronoun: False\n",
      "isNumber: False\n",
      "isTopping: False\n",
      "isQuantity: False\n",
      "Word: \"heavy\" -> \"heavi\" not in vocab\n",
      "isPersonalPronoun: False\n",
      "isNumber: False\n",
      "isTopping: False\n",
      "isQuantity: False\n"
     ]
    },
    {
     "name": "stderr",
     "output_type": "stream",
     "text": [
      "writing results:   1%|▏         | 59/4000 [00:03<04:44, 13.83it/s]"
     ]
    },
    {
     "name": "stdout",
     "output_type": "stream",
     "text": [
      "Word: \"secure\" -> \"secur\" not in vocab\n",
      "isPersonalPronoun: False\n",
      "isNumber: False\n",
      "isTopping: False\n",
      "isQuantity: False\n",
      "Word: \"lemon ice\" -> \"lemon ic\" not in vocab\n",
      "isPersonalPronoun: False\n",
      "isNumber: False\n",
      "isTopping: False\n",
      "isQuantity: False\n",
      "Word: \"lemon ice\" -> \"lemon ic\" not in vocab\n",
      "isPersonalPronoun: False\n",
      "isNumber: False\n",
      "isTopping: False\n",
      "isQuantity: False\n"
     ]
    },
    {
     "name": "stderr",
     "output_type": "stream",
     "text": [
      "writing results:   2%|▏         | 65/4000 [00:04<03:20, 19.62it/s]"
     ]
    },
    {
     "name": "stdout",
     "output_type": "stream",
     "text": [
      "Word: \"PPI\" -> \"ppi\" not in vocab\n",
      "isPersonalPronoun: False\n",
      "isNumber: False\n",
      "isTopping: False\n",
      "isQuantity: False\n",
      "Word: \"HAE\" -> \"hae\" not in vocab\n",
      "isPersonalPronoun: False\n",
      "isNumber: False\n",
      "isTopping: False\n",
      "isQuantity: False\n",
      "Word: \"smoked\" -> \"smoke\" not in vocab\n",
      "isPersonalPronoun: False\n",
      "isNumber: False\n",
      "isTopping: False\n",
      "isQuantity: False\n",
      "Word: \"salmon\" -> \"salmon\" not in vocab\n",
      "isPersonalPronoun: False\n",
      "isNumber: False\n",
      "isTopping: False\n",
      "isQuantity: False\n",
      "Word: \"smoked\" -> \"smoke\" not in vocab\n",
      "isPersonalPronoun: False\n",
      "isNumber: False\n",
      "isTopping: False\n",
      "isQuantity: False\n",
      "Word: \"salmon\" -> \"salmon\" not in vocab\n",
      "isPersonalPronoun: False\n",
      "isNumber: False\n",
      "isTopping: False\n",
      "isQuantity: False\n",
      "Word: \"extralarge\" -> \"extralarg\" not in vocab\n",
      "isPersonalPronoun: False\n",
      "isNumber: False\n",
      "isTopping: False\n",
      "isQuantity: False\n"
     ]
    },
    {
     "name": "stderr",
     "output_type": "stream",
     "text": [
      "writing results:   2%|▏         | 68/4000 [00:05<11:33,  5.67it/s]"
     ]
    },
    {
     "name": "stdout",
     "output_type": "stream",
     "text": [
      "Word: \"extralarge\" -> \"extralarg\" not in vocab\n",
      "isPersonalPronoun: False\n",
      "isNumber: False\n",
      "isTopping: False\n",
      "isQuantity: False\n",
      "Word: \"gaze\" -> \"gaze\" not in vocab\n",
      "isPersonalPronoun: False\n",
      "isNumber: False\n",
      "isTopping: False\n",
      "isQuantity: False\n",
      "Word: \"gaze\" -> \"gaze\" not in vocab\n",
      "isPersonalPronoun: False\n",
      "isNumber: False\n",
      "isTopping: False\n",
      "isQuantity: False\n"
     ]
    },
    {
     "name": "stderr",
     "output_type": "stream",
     "text": [
      "writing results:   2%|▏         | 72/4000 [00:06<08:42,  7.51it/s]"
     ]
    },
    {
     "name": "stdout",
     "output_type": "stream",
     "text": [
      "Word: \"leaning\" -> \"lean\" not in vocab\n",
      "isPersonalPronoun: False\n",
      "isNumber: False\n",
      "isTopping: False\n",
      "isQuantity: False\n",
      "Word: \"toward\" -> \"toward\" not in vocab\n",
      "isPersonalPronoun: False\n",
      "isNumber: False\n",
      "isTopping: False\n",
      "isQuantity: False\n"
     ]
    },
    {
     "name": "stderr",
     "output_type": "stream",
     "text": [
      "writing results:   2%|▏         | 75/4000 [00:06<08:34,  7.64it/s]"
     ]
    },
    {
     "name": "stdout",
     "output_type": "stream",
     "text": [
      "Word: \"gruyeres\" -> \"gruyer\" not in vocab\n",
      "isPersonalPronoun: False\n",
      "isNumber: False\n",
      "isTopping: False\n",
      "isQuantity: False\n",
      "Word: \"gruyeres\" -> \"gruyer\" not in vocab\n",
      "isPersonalPronoun: False\n",
      "isNumber: False\n",
      "isTopping: False\n",
      "isQuantity: False\n",
      "Word: \"leeks\" -> \"leek\" not in vocab\n",
      "isPersonalPronoun: False\n",
      "isNumber: False\n",
      "isTopping: True\n",
      "isQuantity: False\n",
      "Word: \"leeks\" -> \"leek\" not in vocab\n",
      "isPersonalPronoun: False\n",
      "isNumber: False\n",
      "isTopping: True\n",
      "isQuantity: False\n",
      "Word: \"time\" -> \"time\" not in vocab\n",
      "isPersonalPronoun: False\n",
      "isNumber: False\n",
      "isTopping: False\n",
      "isQuantity: False\n"
     ]
    },
    {
     "name": "stderr",
     "output_type": "stream",
     "text": [
      "writing results:   2%|▏         | 82/4000 [00:06<06:04, 10.76it/s]"
     ]
    },
    {
     "name": "stdout",
     "output_type": "stream",
     "text": [
      "Word: \"arrange\" -> \"arrang\" not in vocab\n",
      "isPersonalPronoun: False\n",
      "isNumber: False\n",
      "isTopping: False\n",
      "isQuantity: False\n",
      "Word: \"vegan pepperoni\" -> \"vegan pepperoni\" not in vocab\n",
      "isPersonalPronoun: False\n",
      "isNumber: False\n",
      "isTopping: False\n",
      "isQuantity: False\n",
      "Word: \"sparkling\" -> \"sparkl\" not in vocab\n",
      "isPersonalPronoun: False\n",
      "isNumber: False\n",
      "isTopping: False\n",
      "isQuantity: False\n",
      "Word: \"sparkling\" -> \"sparkl\" not in vocab\n",
      "isPersonalPronoun: False\n",
      "isNumber: False\n",
      "isTopping: False\n",
      "isQuantity: False\n",
      "Word: \"lie\" -> \"lie\" not in vocab\n",
      "isPersonalPronoun: False\n",
      "isNumber: False\n",
      "isTopping: False\n",
      "isQuantity: False\n",
      "Word: \"almond\" -> \"almond\" not in vocab\n",
      "isPersonalPronoun: False\n",
      "isNumber: False\n",
      "isTopping: False\n",
      "isQuantity: False\n"
     ]
    },
    {
     "name": "stderr",
     "output_type": "stream",
     "text": [
      "writing results:   2%|▏         | 86/4000 [00:07<06:27, 10.10it/s]"
     ]
    },
    {
     "name": "stdout",
     "output_type": "stream",
     "text": [
      "Word: \"almond\" -> \"almond\" not in vocab\n",
      "isPersonalPronoun: False\n",
      "isNumber: False\n",
      "isTopping: False\n",
      "isQuantity: False\n",
      "Word: \"leeks\" -> \"leek\" not in vocab\n",
      "isPersonalPronoun: False\n",
      "isNumber: False\n",
      "isTopping: True\n",
      "isQuantity: False\n",
      "Word: \"leeks\" -> \"leek\" not in vocab\n",
      "isPersonalPronoun: False\n",
      "isNumber: False\n",
      "isTopping: True\n",
      "isQuantity: False\n"
     ]
    },
    {
     "name": "stderr",
     "output_type": "stream",
     "text": [
      "writing results:   2%|▏         | 89/4000 [00:07<06:05, 10.69it/s]"
     ]
    },
    {
     "name": "stdout",
     "output_type": "stream",
     "text": [
      "Word: \"lats\" -> \"lat\" not in vocab\n",
      "isPersonalPronoun: False\n",
      "isNumber: False\n",
      "isTopping: False\n",
      "isQuantity: False\n",
      "Word: \"lats\" -> \"lat\" not in vocab\n",
      "isPersonalPronoun: False\n",
      "isNumber: False\n",
      "isTopping: False\n",
      "isQuantity: False\n",
      "Word: \"lats\" -> \"lat\" not in vocab\n",
      "isPersonalPronoun: False\n",
      "isNumber: False\n",
      "isTopping: False\n",
      "isQuantity: False\n",
      "Word: \"lats\" -> \"lat\" not in vocab\n",
      "isPersonalPronoun: False\n",
      "isNumber: False\n",
      "isTopping: False\n",
      "isQuantity: False\n",
      "Word: \"choice\" -> \"choic\" not in vocab\n",
      "isPersonalPronoun: False\n",
      "isNumber: False\n",
      "isTopping: False\n",
      "isQuantity: False\n",
      "Word: \"sweet\" -> \"sweet\" not in vocab\n",
      "isPersonalPronoun: False\n",
      "isNumber: False\n",
      "isTopping: False\n",
      "isQuantity: False\n"
     ]
    },
    {
     "name": "stderr",
     "output_type": "stream",
     "text": [
      "writing results:   2%|▏         | 92/4000 [00:07<05:36, 11.63it/s]"
     ]
    },
    {
     "name": "stdout",
     "output_type": "stream",
     "text": [
      "Word: \"sweet\" -> \"sweet\" not in vocab\n",
      "isPersonalPronoun: False\n",
      "isNumber: False\n",
      "isTopping: False\n",
      "isQuantity: False\n",
      "Word: \"sweet\" -> \"sweet\" not in vocab\n",
      "isPersonalPronoun: False\n",
      "isNumber: False\n",
      "isTopping: False\n",
      "isQuantity: False\n",
      "Word: \"juice\" -> \"juic\" not in vocab\n",
      "isPersonalPronoun: False\n",
      "isNumber: False\n",
      "isTopping: False\n",
      "isQuantity: False\n",
      "Word: \"juice\" -> \"juic\" not in vocab\n",
      "isPersonalPronoun: False\n",
      "isNumber: False\n",
      "isTopping: False\n",
      "isQuantity: False\n"
     ]
    },
    {
     "name": "stderr",
     "output_type": "stream",
     "text": [
      "writing results:   2%|▏         | 94/4000 [00:07<05:53, 11.06it/s]"
     ]
    },
    {
     "name": "stdout",
     "output_type": "stream",
     "text": [
      "Word: \"median\" -> \"median\" not in vocab\n",
      "isPersonalPronoun: False\n",
      "isNumber: False\n",
      "isTopping: False\n",
      "isQuantity: False\n",
      "Word: \"median\" -> \"median\" not in vocab\n",
      "isPersonalPronoun: False\n",
      "isNumber: False\n",
      "isTopping: False\n",
      "isQuantity: False\n",
      "Word: \"smoked\" -> \"smoke\" not in vocab\n",
      "isPersonalPronoun: False\n",
      "isNumber: False\n",
      "isTopping: False\n",
      "isQuantity: False\n",
      "Word: \"salmon\" -> \"salmon\" not in vocab\n",
      "isPersonalPronoun: False\n",
      "isNumber: False\n",
      "isTopping: False\n",
      "isQuantity: False\n",
      "Word: \"smoked\" -> \"smoke\" not in vocab\n",
      "isPersonalPronoun: False\n",
      "isNumber: False\n",
      "isTopping: False\n",
      "isQuantity: False\n",
      "Word: \"salmon\" -> \"salmon\" not in vocab\n",
      "isPersonalPronoun: False\n",
      "isNumber: False\n",
      "isTopping: False\n",
      "isQuantity: False\n"
     ]
    },
    {
     "name": "stderr",
     "output_type": "stream",
     "text": [
      "writing results:   2%|▏         | 96/4000 [00:08<06:40,  9.74it/s]"
     ]
    },
    {
     "name": "stdout",
     "output_type": "stream",
     "text": [
      "Word: \"smoked\" -> \"smoke\" not in vocab\n",
      "isPersonalPronoun: False\n",
      "isNumber: False\n",
      "isTopping: False\n",
      "isQuantity: False\n",
      "Word: \"salmon\" -> \"salmon\" not in vocab\n",
      "isPersonalPronoun: False\n",
      "isNumber: False\n",
      "isTopping: False\n",
      "isQuantity: False\n",
      "Word: \"smoked\" -> \"smoke\" not in vocab\n",
      "isPersonalPronoun: False\n",
      "isNumber: False\n",
      "isTopping: False\n",
      "isQuantity: False\n",
      "Word: \"salmon\" -> \"salmon\" not in vocab\n",
      "isPersonalPronoun: False\n",
      "isNumber: False\n",
      "isTopping: False\n",
      "isQuantity: False\n",
      "Word: \"yo\" -> \"yo\" not in vocab\n",
      "isPersonalPronoun: False\n",
      "isNumber: False\n",
      "isTopping: False\n",
      "isQuantity: False\n"
     ]
    },
    {
     "name": "stderr",
     "output_type": "stream",
     "text": [
      "writing results:   2%|▎         | 100/4000 [00:08<06:40,  9.74it/s]"
     ]
    },
    {
     "name": "stdout",
     "output_type": "stream",
     "text": [
      "Word: \"firing\" -> \"fire\" not in vocab\n",
      "isPersonalPronoun: False\n",
      "isNumber: False\n",
      "isTopping: False\n",
      "isQuantity: False\n",
      "Word: \"cucumber\" -> \"cucumb\" not in vocab\n",
      "isPersonalPronoun: False\n",
      "isNumber: False\n",
      "isTopping: False\n",
      "isQuantity: False\n",
      "Word: \"i've\" -> \"i'v\" not in vocab\n",
      "isPersonalPronoun: False\n",
      "isNumber: False\n",
      "isTopping: False\n",
      "isQuantity: False\n",
      "Word: \"decided\" -> \"decid\" not in vocab\n",
      "isPersonalPronoun: False\n",
      "isNumber: False\n",
      "isTopping: False\n",
      "isQuantity: False\n"
     ]
    },
    {
     "name": "stderr",
     "output_type": "stream",
     "text": [
      "writing results:   3%|▎         | 102/4000 [00:08<07:09,  9.08it/s]"
     ]
    },
    {
     "name": "stdout",
     "output_type": "stream",
     "text": [
      "Word: \"secure\" -> \"secur\" not in vocab\n",
      "isPersonalPronoun: False\n",
      "isNumber: False\n",
      "isTopping: False\n",
      "isQuantity: False\n",
      "Word: \"smoked\" -> \"smoke\" not in vocab\n",
      "isPersonalPronoun: False\n",
      "isNumber: False\n",
      "isTopping: False\n",
      "isQuantity: False\n",
      "Word: \"salmon\" -> \"salmon\" not in vocab\n",
      "isPersonalPronoun: False\n",
      "isNumber: False\n",
      "isTopping: False\n",
      "isQuantity: False\n",
      "Word: \"smoked\" -> \"smoke\" not in vocab\n",
      "isPersonalPronoun: False\n",
      "isNumber: False\n",
      "isTopping: False\n",
      "isQuantity: False\n",
      "Word: \"salmon\" -> \"salmon\" not in vocab\n",
      "isPersonalPronoun: False\n",
      "isNumber: False\n",
      "isTopping: False\n",
      "isQuantity: False\n"
     ]
    },
    {
     "name": "stderr",
     "output_type": "stream",
     "text": [
      "writing results:   3%|▎         | 104/4000 [00:08<06:02, 10.76it/s]"
     ]
    },
    {
     "name": "stdout",
     "output_type": "stream",
     "text": [
      "Word: \"club\" -> \"club\" not in vocab\n",
      "isPersonalPronoun: False\n",
      "isNumber: False\n",
      "isTopping: False\n",
      "isQuantity: False\n",
      "Word: \"club\" -> \"club\" not in vocab\n",
      "isPersonalPronoun: False\n",
      "isNumber: False\n",
      "isTopping: False\n",
      "isQuantity: False\n",
      "Word: \"head\" -> \"head\" not in vocab\n",
      "isPersonalPronoun: False\n",
      "isNumber: False\n",
      "isTopping: False\n",
      "isQuantity: False\n"
     ]
    },
    {
     "name": "stderr",
     "output_type": "stream",
     "text": [
      "writing results:   3%|▎         | 108/4000 [00:09<05:28, 11.86it/s]"
     ]
    },
    {
     "name": "stdout",
     "output_type": "stream",
     "text": [
      "Word: \"chard\" -> \"chard\" not in vocab\n",
      "isPersonalPronoun: False\n",
      "isNumber: False\n",
      "isTopping: False\n",
      "isQuantity: False\n",
      "Word: \"a lot\" -> \"a lot\" not in vocab\n",
      "isPersonalPronoun: False\n",
      "isNumber: False\n",
      "isTopping: False\n",
      "isQuantity: False\n",
      "Word: \"chard\" -> \"chard\" not in vocab\n",
      "isPersonalPronoun: False\n",
      "isNumber: False\n",
      "isTopping: False\n",
      "isQuantity: False\n",
      "Word: \"a lot\" -> \"a lot\" not in vocab\n",
      "isPersonalPronoun: False\n",
      "isNumber: False\n",
      "isTopping: False\n",
      "isQuantity: False\n",
      "Word: \"hook\" -> \"hook\" not in vocab\n",
      "isPersonalPronoun: False\n",
      "isNumber: False\n",
      "isTopping: False\n",
      "isQuantity: False\n",
      "Word: \"sweet\" -> \"sweet\" not in vocab\n",
      "isPersonalPronoun: False\n",
      "isNumber: False\n",
      "isTopping: False\n",
      "isQuantity: False\n"
     ]
    },
    {
     "name": "stderr",
     "output_type": "stream",
     "text": [
      "writing results:   3%|▎         | 110/4000 [00:09<05:32, 11.69it/s]"
     ]
    },
    {
     "name": "stdout",
     "output_type": "stream",
     "text": [
      "Word: \"sweet\" -> \"sweet\" not in vocab\n",
      "isPersonalPronoun: False\n",
      "isNumber: False\n",
      "isTopping: False\n",
      "isQuantity: False\n",
      "Word: \"lie\" -> \"lie\" not in vocab\n",
      "isPersonalPronoun: False\n",
      "isNumber: False\n",
      "isTopping: False\n",
      "isQuantity: False\n",
      "Word: \"allow\" -> \"allow\" not in vocab\n",
      "isPersonalPronoun: False\n",
      "isNumber: False\n",
      "isTopping: False\n",
      "isQuantity: False\n",
      "Word: \"footing\" -> \"foot\" not in vocab\n",
      "isPersonalPronoun: False\n",
      "isNumber: False\n",
      "isTopping: False\n",
      "isQuantity: True\n"
     ]
    },
    {
     "name": "stderr",
     "output_type": "stream",
     "text": [
      "writing results:   3%|▎         | 113/4000 [00:10<09:41,  6.69it/s]"
     ]
    },
    {
     "name": "stdout",
     "output_type": "stream",
     "text": [
      "Word: \"footing\" -> \"foot\" not in vocab\n",
      "isPersonalPronoun: False\n",
      "isNumber: False\n",
      "isTopping: False\n",
      "isQuantity: True\n",
      "Word: \"sirach\" -> \"sirach\" not in vocab\n",
      "isPersonalPronoun: False\n",
      "isNumber: False\n",
      "isTopping: False\n",
      "isQuantity: False\n"
     ]
    },
    {
     "name": "stderr",
     "output_type": "stream",
     "text": [
      "writing results:   3%|▎         | 115/4000 [00:11<13:35,  4.77it/s]"
     ]
    },
    {
     "name": "stdout",
     "output_type": "stream",
     "text": [
      "Word: \"sirach\" -> \"sirach\" not in vocab\n",
      "isPersonalPronoun: False\n",
      "isNumber: False\n",
      "isTopping: False\n",
      "isQuantity: False\n",
      "Word: \"cabbage\" -> \"cabbag\" not in vocab\n",
      "isPersonalPronoun: False\n",
      "isNumber: False\n",
      "isTopping: False\n",
      "isQuantity: False\n",
      "Word: \"Dr Pepper\" -> \"dr pepper\" not in vocab\n",
      "isPersonalPronoun: False\n",
      "isNumber: False\n",
      "isTopping: False\n",
      "isQuantity: False\n",
      "Word: \"cabbage\" -> \"cabbag\" not in vocab\n",
      "isPersonalPronoun: False\n",
      "isNumber: False\n",
      "isTopping: False\n",
      "isQuantity: False\n"
     ]
    },
    {
     "name": "stderr",
     "output_type": "stream",
     "text": [
      "writing results:   3%|▎         | 119/4000 [00:11<10:38,  6.07it/s]"
     ]
    },
    {
     "name": "stdout",
     "output_type": "stream",
     "text": [
      "Word: \"Dr Pepper\" -> \"dr pepper\" not in vocab\n",
      "isPersonalPronoun: False\n",
      "isNumber: False\n",
      "isTopping: False\n",
      "isQuantity: False\n",
      "Word: \"Dr Pepper\" -> \"dr pepper\" not in vocab\n",
      "isPersonalPronoun: False\n",
      "isNumber: False\n",
      "isTopping: False\n",
      "isQuantity: False\n",
      "Word: \"finalize\" -> \"final\" not in vocab\n",
      "isPersonalPronoun: False\n",
      "isNumber: False\n",
      "isTopping: False\n",
      "isQuantity: False\n",
      "Word: \"lamb\" -> \"lamb\" not in vocab\n",
      "isPersonalPronoun: False\n",
      "isNumber: False\n",
      "isTopping: False\n",
      "isQuantity: False\n",
      "Word: \"finalize\" -> \"final\" not in vocab\n",
      "isPersonalPronoun: False\n",
      "isNumber: False\n",
      "isTopping: False\n",
      "isQuantity: False\n",
      "Word: \"lamb\" -> \"lamb\" not in vocab\n",
      "isPersonalPronoun: False\n",
      "isNumber: False\n",
      "isTopping: False\n",
      "isQuantity: False\n"
     ]
    },
    {
     "name": "stderr",
     "output_type": "stream",
     "text": [
      "writing results:   3%|▎         | 122/4000 [00:11<08:58,  7.20it/s]"
     ]
    },
    {
     "name": "stdout",
     "output_type": "stream",
     "text": [
      "Word: \"hep\" -> \"hep\" not in vocab\n",
      "isPersonalPronoun: False\n",
      "isNumber: False\n",
      "isTopping: False\n",
      "isQuantity: False\n",
      "Word: \"gruyeres\" -> \"gruyer\" not in vocab\n",
      "isPersonalPronoun: False\n",
      "isNumber: False\n",
      "isTopping: False\n",
      "isQuantity: False\n",
      "Word: \"gruyeres\" -> \"gruyer\" not in vocab\n",
      "isPersonalPronoun: False\n",
      "isNumber: False\n",
      "isTopping: False\n",
      "isQuantity: False\n",
      "Word: \"sauted\" -> \"saut\" not in vocab\n",
      "isPersonalPronoun: False\n",
      "isNumber: False\n",
      "isTopping: False\n",
      "isQuantity: False\n"
     ]
    },
    {
     "name": "stderr",
     "output_type": "stream",
     "text": [
      "writing results:   3%|▎         | 127/4000 [00:12<06:01, 10.70it/s]"
     ]
    },
    {
     "name": "stdout",
     "output_type": "stream",
     "text": [
      "Word: \"sauted\" -> \"saut\" not in vocab\n",
      "isPersonalPronoun: False\n",
      "isNumber: False\n",
      "isTopping: False\n",
      "isQuantity: False\n",
      "Word: \"bel\" -> \"bel\" not in vocab\n",
      "isPersonalPronoun: False\n",
      "isNumber: False\n",
      "isTopping: False\n",
      "isQuantity: False\n",
      "Word: \"bel\" -> \"bel\" not in vocab\n",
      "isPersonalPronoun: False\n",
      "isNumber: False\n",
      "isTopping: False\n",
      "isQuantity: False\n"
     ]
    },
    {
     "name": "stderr",
     "output_type": "stream",
     "text": [
      "writing results:   3%|▎         | 133/4000 [00:12<04:18, 14.97it/s]"
     ]
    },
    {
     "name": "stdout",
     "output_type": "stream",
     "text": [
      "Word: \"cheddar cheese\" -> \"cheddar chees\" not in vocab\n",
      "isPersonalPronoun: False\n",
      "isNumber: False\n",
      "isTopping: False\n",
      "isQuantity: False\n",
      "Word: \"cheddar cheese\" -> \"cheddar chees\" not in vocab\n",
      "isPersonalPronoun: False\n",
      "isNumber: False\n",
      "isTopping: False\n",
      "isQuantity: False\n",
      "Word: \"pick\" -> \"pick\" not in vocab\n",
      "isPersonalPronoun: False\n",
      "isNumber: False\n",
      "isTopping: False\n",
      "isQuantity: False\n"
     ]
    },
    {
     "name": "stderr",
     "output_type": "stream",
     "text": [
      "writing results:   3%|▎         | 137/4000 [00:12<03:44, 17.19it/s]"
     ]
    },
    {
     "name": "stdout",
     "output_type": "stream",
     "text": [
      "Word: \"handle\" -> \"handl\" not in vocab\n",
      "isPersonalPronoun: False\n",
      "isNumber: False\n",
      "isTopping: False\n",
      "isQuantity: False\n",
      "Word: \"smoked\" -> \"smoke\" not in vocab\n",
      "isPersonalPronoun: False\n",
      "isNumber: False\n",
      "isTopping: False\n",
      "isQuantity: False\n",
      "Word: \"salmon\" -> \"salmon\" not in vocab\n",
      "isPersonalPronoun: False\n",
      "isNumber: False\n",
      "isTopping: False\n",
      "isQuantity: False\n",
      "Word: \"smoked\" -> \"smoke\" not in vocab\n",
      "isPersonalPronoun: False\n",
      "isNumber: False\n",
      "isTopping: False\n",
      "isQuantity: False\n",
      "Word: \"salmon\" -> \"salmon\" not in vocab\n",
      "isPersonalPronoun: False\n",
      "isNumber: False\n",
      "isTopping: False\n",
      "isQuantity: False\n"
     ]
    },
    {
     "name": "stderr",
     "output_type": "stream",
     "text": [
      "writing results:   3%|▎         | 139/4000 [00:12<06:37,  9.71it/s]"
     ]
    },
    {
     "name": "stdout",
     "output_type": "stream",
     "text": [
      "Word: \"mushy\" -> \"mushi\" not in vocab\n",
      "isPersonalPronoun: False\n",
      "isNumber: False\n",
      "isTopping: False\n",
      "isQuantity: False\n",
      "Word: \"blue\" -> \"blue\" not in vocab\n",
      "isPersonalPronoun: False\n",
      "isNumber: False\n",
      "isTopping: False\n",
      "isQuantity: False\n",
      "Word: \"blue\" -> \"blue\" not in vocab\n",
      "isPersonalPronoun: False\n",
      "isNumber: False\n",
      "isTopping: False\n",
      "isQuantity: False\n",
      "Word: \"blue\" -> \"blue\" not in vocab\n",
      "isPersonalPronoun: False\n",
      "isNumber: False\n",
      "isTopping: False\n",
      "isQuantity: False\n",
      "Word: \"mushy\" -> \"mushi\" not in vocab\n",
      "isPersonalPronoun: False\n",
      "isNumber: False\n",
      "isTopping: False\n",
      "isQuantity: False\n",
      "Word: \"blue\" -> \"blue\" not in vocab\n",
      "isPersonalPronoun: False\n",
      "isNumber: False\n",
      "isTopping: False\n",
      "isQuantity: False\n",
      "Word: \"blue\" -> \"blue\" not in vocab\n",
      "isPersonalPronoun: False\n",
      "isNumber: False\n",
      "isTopping: False\n",
      "isQuantity: False\n",
      "Word: \"blue\" -> \"blue\" not in vocab\n",
      "isPersonalPronoun: False\n",
      "isNumber: False\n",
      "isTopping: False\n",
      "isQuantity: False\n",
      "Word: \"setae\" -> \"seta\" not in vocab\n",
      "isPersonalPronoun: False\n",
      "isNumber: False\n",
      "isTopping: False\n",
      "isQuantity: False\n"
     ]
    },
    {
     "name": "stderr",
     "output_type": "stream",
     "text": [
      "writing results:   4%|▎         | 145/4000 [00:13<04:43, 13.62it/s]"
     ]
    },
    {
     "name": "stdout",
     "output_type": "stream",
     "text": [
      "Word: \"bunch of\" -> \"bunch of\" not in vocab\n",
      "isPersonalPronoun: False\n",
      "isNumber: False\n",
      "isTopping: False\n",
      "isQuantity: False\n",
      "Word: \"bunch of\" -> \"bunch of\" not in vocab\n",
      "isPersonalPronoun: False\n",
      "isNumber: False\n",
      "isTopping: False\n",
      "isQuantity: False\n",
      "Word: \"heavy\" -> \"heavi\" not in vocab\n",
      "isPersonalPronoun: False\n",
      "isNumber: False\n",
      "isTopping: False\n",
      "isQuantity: False\n",
      "Word: \"heavy\" -> \"heavi\" not in vocab\n",
      "isPersonalPronoun: False\n",
      "isNumber: False\n",
      "isTopping: False\n",
      "isQuantity: False\n"
     ]
    },
    {
     "name": "stderr",
     "output_type": "stream",
     "text": [
      "writing results:   4%|▎         | 147/4000 [00:13<04:48, 13.37it/s]"
     ]
    },
    {
     "name": "stdout",
     "output_type": "stream",
     "text": [
      "Word: \"pick\" -> \"pick\" not in vocab\n",
      "isPersonalPronoun: False\n",
      "isNumber: False\n",
      "isTopping: False\n",
      "isQuantity: False\n",
      "Word: \"prawns\" -> \"prawn\" not in vocab\n",
      "isPersonalPronoun: False\n",
      "isNumber: False\n",
      "isTopping: False\n",
      "isQuantity: False\n",
      "Word: \"prawns\" -> \"prawn\" not in vocab\n",
      "isPersonalPronoun: False\n",
      "isNumber: False\n",
      "isTopping: False\n",
      "isQuantity: False\n",
      "Word: \"sauted\" -> \"saut\" not in vocab\n",
      "isPersonalPronoun: False\n",
      "isNumber: False\n",
      "isTopping: False\n",
      "isQuantity: False\n"
     ]
    },
    {
     "name": "stderr",
     "output_type": "stream",
     "text": [
      "writing results:   4%|▎         | 149/4000 [00:13<05:56, 10.80it/s]"
     ]
    },
    {
     "name": "stdout",
     "output_type": "stream",
     "text": [
      "Word: \"prawns\" -> \"prawn\" not in vocab\n",
      "isPersonalPronoun: False\n",
      "isNumber: False\n",
      "isTopping: False\n",
      "isQuantity: False\n",
      "Word: \"sauted\" -> \"saut\" not in vocab\n",
      "isPersonalPronoun: False\n",
      "isNumber: False\n",
      "isTopping: False\n",
      "isQuantity: False\n",
      "Word: \"grab\" -> \"grab\" not in vocab\n",
      "isPersonalPronoun: False\n",
      "isNumber: False\n",
      "isTopping: False\n",
      "isQuantity: False\n",
      "Word: \"ant\" -> \"ant\" not in vocab\n",
      "isPersonalPronoun: False\n",
      "isNumber: False\n",
      "isTopping: False\n",
      "isQuantity: False\n",
      "Word: \"chard\" -> \"chard\" not in vocab\n",
      "isPersonalPronoun: False\n",
      "isNumber: False\n",
      "isTopping: False\n",
      "isQuantity: False\n"
     ]
    },
    {
     "name": "stderr",
     "output_type": "stream",
     "text": [
      "writing results:   4%|▍         | 154/4000 [00:13<04:35, 13.95it/s]"
     ]
    },
    {
     "name": "stdout",
     "output_type": "stream",
     "text": [
      "Word: \"chard\" -> \"chard\" not in vocab\n",
      "isPersonalPronoun: False\n",
      "isNumber: False\n",
      "isTopping: False\n",
      "isQuantity: False\n",
      "Word: \"big meat\" -> \"big meat\" not in vocab\n",
      "isPersonalPronoun: False\n",
      "isNumber: False\n",
      "isTopping: False\n",
      "isQuantity: False\n",
      "Word: \"smoked\" -> \"smoke\" not in vocab\n",
      "isPersonalPronoun: False\n",
      "isNumber: False\n",
      "isTopping: False\n",
      "isQuantity: False\n",
      "Word: \"salmon\" -> \"salmon\" not in vocab\n",
      "isPersonalPronoun: False\n",
      "isNumber: False\n",
      "isTopping: False\n",
      "isQuantity: False\n",
      "Word: \"ice teas\" -> \"ice tea\" not in vocab\n",
      "isPersonalPronoun: False\n",
      "isNumber: False\n",
      "isTopping: False\n",
      "isQuantity: False\n",
      "Word: \"big meat\" -> \"big meat\" not in vocab\n",
      "isPersonalPronoun: False\n",
      "isNumber: False\n",
      "isTopping: False\n",
      "isQuantity: False\n",
      "Word: \"smoked\" -> \"smoke\" not in vocab\n",
      "isPersonalPronoun: False\n",
      "isNumber: False\n",
      "isTopping: False\n",
      "isQuantity: False\n",
      "Word: \"salmon\" -> \"salmon\" not in vocab\n",
      "isPersonalPronoun: False\n",
      "isNumber: False\n",
      "isTopping: False\n",
      "isQuantity: False\n",
      "Word: \"ice teas\" -> \"ice tea\" not in vocab\n",
      "isPersonalPronoun: False\n",
      "isNumber: False\n",
      "isTopping: False\n",
      "isQuantity: False\n"
     ]
    },
    {
     "name": "stderr",
     "output_type": "stream",
     "text": [
      "writing results:   4%|▍         | 156/4000 [00:14<07:36,  8.42it/s]"
     ]
    },
    {
     "name": "stdout",
     "output_type": "stream",
     "text": [
      "Word: \"sweet\" -> \"sweet\" not in vocab\n",
      "isPersonalPronoun: False\n",
      "isNumber: False\n",
      "isTopping: False\n",
      "isQuantity: False\n",
      "Word: \"goat\" -> \"goat\" not in vocab\n",
      "isPersonalPronoun: False\n",
      "isNumber: False\n",
      "isTopping: False\n",
      "isQuantity: False\n",
      "Word: \"sweet\" -> \"sweet\" not in vocab\n",
      "isPersonalPronoun: False\n",
      "isNumber: False\n",
      "isTopping: False\n",
      "isQuantity: False\n",
      "Word: \"goat\" -> \"goat\" not in vocab\n",
      "isPersonalPronoun: False\n",
      "isNumber: False\n",
      "isTopping: False\n",
      "isQuantity: False\n",
      "Word: \"sauted\" -> \"saut\" not in vocab\n",
      "isPersonalPronoun: False\n",
      "isNumber: False\n",
      "isTopping: False\n",
      "isQuantity: False\n"
     ]
    },
    {
     "name": "stderr",
     "output_type": "stream",
     "text": [
      "writing results:   4%|▍         | 159/4000 [00:14<06:01, 10.62it/s]"
     ]
    },
    {
     "name": "stdout",
     "output_type": "stream",
     "text": [
      "Word: \"sauted\" -> \"saut\" not in vocab\n",
      "isPersonalPronoun: False\n",
      "isNumber: False\n",
      "isTopping: False\n",
      "isQuantity: False\n",
      "Word: \"sirach\" -> \"sirach\" not in vocab\n",
      "isPersonalPronoun: False\n",
      "isNumber: False\n",
      "isTopping: False\n",
      "isQuantity: False\n",
      "Word: \"sweet\" -> \"sweet\" not in vocab\n",
      "isPersonalPronoun: False\n",
      "isNumber: False\n",
      "isTopping: False\n",
      "isQuantity: False\n"
     ]
    },
    {
     "name": "stderr",
     "output_type": "stream",
     "text": [
      "writing results:   4%|▍         | 164/4000 [00:15<09:00,  7.10it/s]"
     ]
    },
    {
     "name": "stdout",
     "output_type": "stream",
     "text": [
      "Word: \"sirach\" -> \"sirach\" not in vocab\n",
      "isPersonalPronoun: False\n",
      "isNumber: False\n",
      "isTopping: False\n",
      "isQuantity: False\n",
      "Word: \"sweet\" -> \"sweet\" not in vocab\n",
      "isPersonalPronoun: False\n",
      "isNumber: False\n",
      "isTopping: False\n",
      "isQuantity: False\n",
      "Word: \"arrange\" -> \"arrang\" not in vocab\n",
      "isPersonalPronoun: False\n",
      "isNumber: False\n",
      "isTopping: False\n",
      "isQuantity: False\n",
      "Word: \"arrange\" -> \"arrang\" not in vocab\n",
      "isPersonalPronoun: False\n",
      "isNumber: False\n",
      "isTopping: False\n",
      "isQuantity: False\n"
     ]
    },
    {
     "name": "stderr",
     "output_type": "stream",
     "text": [
      "writing results:   4%|▍         | 166/4000 [00:15<07:42,  8.29it/s]"
     ]
    },
    {
     "name": "stdout",
     "output_type": "stream",
     "text": [
      "Word: \"prawns\" -> \"prawn\" not in vocab\n",
      "isPersonalPronoun: False\n",
      "isNumber: False\n",
      "isTopping: False\n",
      "isQuantity: False\n",
      "Word: \"prawns\" -> \"prawn\" not in vocab\n",
      "isPersonalPronoun: False\n",
      "isNumber: False\n",
      "isTopping: False\n",
      "isQuantity: False\n",
      "Word: \"zest\" -> \"zest\" not in vocab\n",
      "isPersonalPronoun: False\n",
      "isNumber: False\n",
      "isTopping: False\n",
      "isQuantity: False\n",
      "Word: \"gruyeres\" -> \"gruyer\" not in vocab\n",
      "isPersonalPronoun: False\n",
      "isNumber: False\n",
      "isTopping: False\n",
      "isQuantity: False\n",
      "Word: \"zest\" -> \"zest\" not in vocab\n",
      "isPersonalPronoun: False\n",
      "isNumber: False\n",
      "isTopping: False\n",
      "isQuantity: False\n",
      "Word: \"gruyeres\" -> \"gruyer\" not in vocab\n",
      "isPersonalPronoun: False\n",
      "isNumber: False\n",
      "isTopping: False\n",
      "isQuantity: False\n"
     ]
    },
    {
     "name": "stderr",
     "output_type": "stream",
     "text": [
      "writing results:   4%|▍         | 170/4000 [00:16<08:06,  7.88it/s]"
     ]
    },
    {
     "name": "stdout",
     "output_type": "stream",
     "text": [
      "Word: \"gopher\" -> \"gopher\" not in vocab\n",
      "isPersonalPronoun: False\n",
      "isNumber: False\n",
      "isTopping: False\n",
      "isQuantity: False\n",
      "Word: \"espresso\" -> \"espresso\" not in vocab\n",
      "isPersonalPronoun: False\n",
      "isNumber: False\n",
      "isTopping: False\n",
      "isQuantity: False\n",
      "Word: \"espresso\" -> \"espresso\" not in vocab\n",
      "isPersonalPronoun: False\n",
      "isNumber: False\n",
      "isTopping: False\n",
      "isQuantity: False\n",
      "Word: \"sweet\" -> \"sweet\" not in vocab\n",
      "isPersonalPronoun: False\n",
      "isNumber: False\n",
      "isTopping: False\n",
      "isQuantity: False\n",
      "Word: \"sweet\" -> \"sweet\" not in vocab\n",
      "isPersonalPronoun: False\n",
      "isNumber: False\n",
      "isTopping: False\n",
      "isQuantity: False\n"
     ]
    },
    {
     "name": "stderr",
     "output_type": "stream",
     "text": [
      "writing results:   4%|▍         | 172/4000 [00:16<07:48,  8.17it/s]"
     ]
    },
    {
     "name": "stdout",
     "output_type": "stream",
     "text": [
      "Word: \"large size\" -> \"large s\" not in vocab\n",
      "isPersonalPronoun: False\n",
      "isNumber: False\n",
      "isTopping: False\n",
      "isQuantity: False\n",
      "Word: \"large size\" -> \"large s\" not in vocab\n",
      "isPersonalPronoun: False\n",
      "isNumber: False\n",
      "isTopping: False\n",
      "isQuantity: False\n",
      "Word: \"cabbage\" -> \"cabbag\" not in vocab\n",
      "isPersonalPronoun: False\n",
      "isNumber: False\n",
      "isTopping: False\n",
      "isQuantity: False\n",
      "Word: \"cabbage\" -> \"cabbag\" not in vocab\n",
      "isPersonalPronoun: False\n",
      "isNumber: False\n",
      "isTopping: False\n",
      "isQuantity: False\n",
      "Word: \"goat\" -> \"goat\" not in vocab\n",
      "isPersonalPronoun: False\n",
      "isNumber: False\n",
      "isTopping: False\n",
      "isQuantity: False\n",
      "Word: \"Pelegrín\" -> \"pelegrín\" not in vocab\n",
      "isPersonalPronoun: False\n",
      "isNumber: False\n",
      "isTopping: False\n",
      "isQuantity: False\n",
      "Word: \"goat\" -> \"goat\" not in vocab\n",
      "isPersonalPronoun: False\n",
      "isNumber: False\n",
      "isTopping: False\n",
      "isQuantity: False\n"
     ]
    },
    {
     "name": "stderr",
     "output_type": "stream",
     "text": [
      "writing results:   5%|▍         | 182/4000 [00:18<07:17,  8.72it/s]"
     ]
    },
    {
     "name": "stdout",
     "output_type": "stream",
     "text": [
      "Word: \"Pelegrín\" -> \"pelegrín\" not in vocab\n",
      "isPersonalPronoun: False\n",
      "isNumber: False\n",
      "isTopping: False\n",
      "isQuantity: False\n",
      "Word: \"leeks\" -> \"leek\" not in vocab\n",
      "isPersonalPronoun: False\n",
      "isNumber: False\n",
      "isTopping: True\n",
      "isQuantity: False\n",
      "Word: \"leeks\" -> \"leek\" not in vocab\n",
      "isPersonalPronoun: False\n",
      "isNumber: False\n",
      "isTopping: True\n",
      "isQuantity: False\n"
     ]
    },
    {
     "name": "stderr",
     "output_type": "stream",
     "text": [
      "writing results:   5%|▍         | 184/4000 [00:18<07:14,  8.79it/s]"
     ]
    },
    {
     "name": "stdout",
     "output_type": "stream",
     "text": [
      "Word: \"heavy\" -> \"heavi\" not in vocab\n",
      "isPersonalPronoun: False\n",
      "isNumber: False\n",
      "isTopping: False\n",
      "isQuantity: False\n",
      "Word: \"heavy\" -> \"heavi\" not in vocab\n",
      "isPersonalPronoun: False\n",
      "isNumber: False\n",
      "isTopping: False\n",
      "isQuantity: False\n",
      "Word: \"heavy\" -> \"heavi\" not in vocab\n",
      "isPersonalPronoun: False\n",
      "isNumber: False\n",
      "isTopping: False\n",
      "isQuantity: False\n",
      "Word: \"heavy\" -> \"heavi\" not in vocab\n",
      "isPersonalPronoun: False\n",
      "isNumber: False\n",
      "isTopping: False\n",
      "isQuantity: False\n",
      "Word: \"leeks\" -> \"leek\" not in vocab\n",
      "isPersonalPronoun: False\n",
      "isNumber: False\n",
      "isTopping: True\n",
      "isQuantity: False\n",
      "Word: \"leeks\" -> \"leek\" not in vocab\n",
      "isPersonalPronoun: False\n",
      "isNumber: False\n",
      "isTopping: True\n",
      "isQuantity: False\n",
      "Word: \"ant\" -> \"ant\" not in vocab\n",
      "isPersonalPronoun: False\n",
      "isNumber: False\n",
      "isTopping: False\n",
      "isQuantity: False\n"
     ]
    },
    {
     "name": "stderr",
     "output_type": "stream",
     "text": [
      "writing results:   5%|▍         | 187/4000 [00:18<05:55, 10.74it/s]"
     ]
    },
    {
     "name": "stdout",
     "output_type": "stream",
     "text": [
      "Word: \"Prussian\" -> \"prussian\" not in vocab\n",
      "isPersonalPronoun: False\n",
      "isNumber: False\n",
      "isTopping: False\n",
      "isQuantity: False\n",
      "Word: \"Prussian\" -> \"prussian\" not in vocab\n",
      "isPersonalPronoun: False\n",
      "isNumber: False\n",
      "isTopping: False\n",
      "isQuantity: False\n"
     ]
    },
    {
     "name": "stderr",
     "output_type": "stream",
     "text": [
      "writing results:   5%|▍         | 189/4000 [00:18<07:04,  8.99it/s]"
     ]
    },
    {
     "name": "stdout",
     "output_type": "stream",
     "text": [
      "Word: \"grape\" -> \"grape\" not in vocab\n",
      "isPersonalPronoun: False\n",
      "isNumber: False\n",
      "isTopping: True\n",
      "isQuantity: False\n",
      "Word: \"juice\" -> \"juic\" not in vocab\n",
      "isPersonalPronoun: False\n",
      "isNumber: False\n",
      "isTopping: False\n",
      "isQuantity: False\n",
      "Word: \"grape\" -> \"grape\" not in vocab\n",
      "isPersonalPronoun: False\n",
      "isNumber: False\n",
      "isTopping: True\n",
      "isQuantity: False\n",
      "Word: \"juice\" -> \"juic\" not in vocab\n",
      "isPersonalPronoun: False\n",
      "isNumber: False\n",
      "isTopping: False\n",
      "isQuantity: False\n",
      "Word: \"cranberry\" -> \"cranberri\" not in vocab\n",
      "isPersonalPronoun: False\n",
      "isNumber: False\n",
      "isTopping: False\n",
      "isQuantity: False\n",
      "Word: \"juice\" -> \"juic\" not in vocab\n",
      "isPersonalPronoun: False\n",
      "isNumber: False\n",
      "isTopping: False\n",
      "isQuantity: False\n"
     ]
    },
    {
     "name": "stderr",
     "output_type": "stream",
     "text": [
      "writing results:   5%|▍         | 191/4000 [00:19<06:41,  9.48it/s]"
     ]
    },
    {
     "name": "stdout",
     "output_type": "stream",
     "text": [
      "Word: \"cranberry\" -> \"cranberri\" not in vocab\n",
      "isPersonalPronoun: False\n",
      "isNumber: False\n",
      "isTopping: False\n",
      "isQuantity: False\n",
      "Word: \"juice\" -> \"juic\" not in vocab\n",
      "isPersonalPronoun: False\n",
      "isNumber: False\n",
      "isTopping: False\n",
      "isQuantity: False\n",
      "Word: \"mint\" -> \"mint\" not in vocab\n",
      "isPersonalPronoun: False\n",
      "isNumber: False\n",
      "isTopping: False\n",
      "isQuantity: False\n",
      "Word: \"mint\" -> \"mint\" not in vocab\n",
      "isPersonalPronoun: False\n",
      "isNumber: False\n",
      "isTopping: False\n",
      "isQuantity: False\n"
     ]
    },
    {
     "name": "stderr",
     "output_type": "stream",
     "text": [
      "writing results:   5%|▍         | 195/4000 [00:19<07:12,  8.79it/s]"
     ]
    },
    {
     "name": "stdout",
     "output_type": "stream",
     "text": [
      "Word: \"needn\" -> \"needn\" not in vocab\n",
      "isPersonalPronoun: False\n",
      "isNumber: False\n",
      "isTopping: False\n",
      "isQuantity: False\n",
      "Word: \"medium size\" -> \"medium s\" not in vocab\n",
      "isPersonalPronoun: False\n",
      "isNumber: False\n",
      "isTopping: False\n",
      "isQuantity: False\n",
      "Word: \"medium size\" -> \"medium s\" not in vocab\n",
      "isPersonalPronoun: False\n",
      "isNumber: False\n",
      "isTopping: False\n",
      "isQuantity: False\n",
      "Word: \"stick\" -> \"stick\" not in vocab\n",
      "isPersonalPronoun: False\n",
      "isNumber: False\n",
      "isTopping: False\n",
      "isQuantity: False\n"
     ]
    },
    {
     "name": "stderr",
     "output_type": "stream",
     "text": [
      "writing results:   5%|▍         | 197/4000 [00:19<06:49,  9.28it/s]"
     ]
    },
    {
     "name": "stdout",
     "output_type": "stream",
     "text": [
      "Word: \"happy\" -> \"happi\" not in vocab\n",
      "isPersonalPronoun: False\n",
      "isNumber: False\n",
      "isTopping: False\n",
      "isQuantity: False\n",
      "Word: \"mint\" -> \"mint\" not in vocab\n",
      "isPersonalPronoun: False\n",
      "isNumber: False\n",
      "isTopping: False\n",
      "isQuantity: False\n",
      "Word: \"mint\" -> \"mint\" not in vocab\n",
      "isPersonalPronoun: False\n",
      "isNumber: False\n",
      "isTopping: False\n",
      "isQuantity: False\n",
      "Word: \"pest\" -> \"pest\" not in vocab\n",
      "isPersonalPronoun: False\n",
      "isNumber: False\n",
      "isTopping: False\n",
      "isQuantity: False\n",
      "Word: \"pest\" -> \"pest\" not in vocab\n",
      "isPersonalPronoun: False\n",
      "isNumber: False\n",
      "isTopping: False\n",
      "isQuantity: False\n"
     ]
    },
    {
     "name": "stderr",
     "output_type": "stream",
     "text": [
      "writing results:   5%|▌         | 203/4000 [00:20<04:53, 12.92it/s]"
     ]
    },
    {
     "name": "stdout",
     "output_type": "stream",
     "text": [
      "Word: \"finalize\" -> \"final\" not in vocab\n",
      "isPersonalPronoun: False\n",
      "isNumber: False\n",
      "isTopping: False\n",
      "isQuantity: False\n",
      "Word: \"kimchi\" -> \"kimchi\" not in vocab\n",
      "isPersonalPronoun: False\n",
      "isNumber: False\n",
      "isTopping: False\n",
      "isQuantity: False\n",
      "Word: \"sweet\" -> \"sweet\" not in vocab\n",
      "isPersonalPronoun: False\n",
      "isNumber: False\n",
      "isTopping: False\n",
      "isQuantity: False\n",
      "Word: \"kimchi\" -> \"kimchi\" not in vocab\n",
      "isPersonalPronoun: False\n",
      "isNumber: False\n",
      "isTopping: False\n",
      "isQuantity: False\n",
      "Word: \"sweet\" -> \"sweet\" not in vocab\n",
      "isPersonalPronoun: False\n",
      "isNumber: False\n",
      "isTopping: False\n",
      "isQuantity: False\n"
     ]
    },
    {
     "name": "stderr",
     "output_type": "stream",
     "text": [
      "writing results:   5%|▌         | 207/4000 [00:20<04:07, 15.35it/s]"
     ]
    },
    {
     "name": "stdout",
     "output_type": "stream",
     "text": [
      "Word: \"arrange\" -> \"arrang\" not in vocab\n",
      "isPersonalPronoun: False\n",
      "isNumber: False\n",
      "isTopping: False\n",
      "isQuantity: False\n"
     ]
    },
    {
     "name": "stderr",
     "output_type": "stream",
     "text": [
      "writing results:   5%|▌         | 217/4000 [00:20<02:53, 21.80it/s]"
     ]
    },
    {
     "name": "stdout",
     "output_type": "stream",
     "text": [
      "Word: \"leaning\" -> \"lean\" not in vocab\n",
      "isPersonalPronoun: False\n",
      "isNumber: False\n",
      "isTopping: False\n",
      "isQuantity: False\n",
      "Word: \"toward\" -> \"toward\" not in vocab\n",
      "isPersonalPronoun: False\n",
      "isNumber: False\n",
      "isTopping: False\n",
      "isQuantity: False\n",
      "Word: \"grabbing\" -> \"grab\" not in vocab\n",
      "isPersonalPronoun: False\n",
      "isNumber: False\n",
      "isTopping: False\n",
      "isQuantity: False\n"
     ]
    },
    {
     "name": "stderr",
     "output_type": "stream",
     "text": [
      "writing results:   6%|▌         | 220/4000 [00:20<03:22, 18.63it/s]"
     ]
    },
    {
     "name": "stdout",
     "output_type": "stream",
     "text": [
      "Word: \"gruyeres\" -> \"gruyer\" not in vocab\n",
      "isPersonalPronoun: False\n",
      "isNumber: False\n",
      "isTopping: False\n",
      "isQuantity: False\n",
      "Word: \"gruyeres\" -> \"gruyer\" not in vocab\n",
      "isPersonalPronoun: False\n",
      "isNumber: False\n",
      "isTopping: False\n",
      "isQuantity: False\n",
      "Word: \"fruit\" -> \"fruit\" not in vocab\n",
      "isPersonalPronoun: False\n",
      "isNumber: False\n",
      "isTopping: False\n",
      "isQuantity: False\n",
      "Word: \"punch\" -> \"punch\" not in vocab\n",
      "isPersonalPronoun: False\n",
      "isNumber: False\n",
      "isTopping: False\n",
      "isQuantity: False\n"
     ]
    },
    {
     "name": "stderr",
     "output_type": "stream",
     "text": [
      "writing results:   6%|▌         | 223/4000 [00:21<03:42, 16.96it/s]"
     ]
    },
    {
     "name": "stdout",
     "output_type": "stream",
     "text": [
      "Word: \"fruit\" -> \"fruit\" not in vocab\n",
      "isPersonalPronoun: False\n",
      "isNumber: False\n",
      "isTopping: False\n",
      "isQuantity: False\n",
      "Word: \"punch\" -> \"punch\" not in vocab\n",
      "isPersonalPronoun: False\n",
      "isNumber: False\n",
      "isTopping: False\n",
      "isQuantity: False\n",
      "Word: \"cabbage\" -> \"cabbag\" not in vocab\n",
      "isPersonalPronoun: False\n",
      "isNumber: False\n",
      "isTopping: False\n",
      "isQuantity: False\n"
     ]
    },
    {
     "name": "stderr",
     "output_type": "stream",
     "text": [
      "writing results:   6%|▌         | 226/4000 [00:21<03:54, 16.12it/s]"
     ]
    },
    {
     "name": "stdout",
     "output_type": "stream",
     "text": [
      "Word: \"oft\" -> \"oft\" not in vocab\n",
      "isPersonalPronoun: False\n",
      "isNumber: False\n",
      "isTopping: False\n",
      "isQuantity: False\n",
      "Word: \"mint\" -> \"mint\" not in vocab\n",
      "isPersonalPronoun: False\n",
      "isNumber: False\n",
      "isTopping: False\n",
      "isQuantity: False\n",
      "Word: \"mint\" -> \"mint\" not in vocab\n",
      "isPersonalPronoun: False\n",
      "isNumber: False\n",
      "isTopping: False\n",
      "isQuantity: False\n",
      "Word: \"fruit\" -> \"fruit\" not in vocab\n",
      "isPersonalPronoun: False\n",
      "isNumber: False\n",
      "isTopping: False\n",
      "isQuantity: False\n",
      "Word: \"punch\" -> \"punch\" not in vocab\n",
      "isPersonalPronoun: False\n",
      "isNumber: False\n",
      "isTopping: False\n",
      "isQuantity: False\n"
     ]
    },
    {
     "name": "stderr",
     "output_type": "stream",
     "text": [
      "writing results:   6%|▌         | 228/4000 [00:21<04:14, 14.80it/s]"
     ]
    },
    {
     "name": "stdout",
     "output_type": "stream",
     "text": [
      "Word: \"fruit\" -> \"fruit\" not in vocab\n",
      "isPersonalPronoun: False\n",
      "isNumber: False\n",
      "isTopping: False\n",
      "isQuantity: False\n",
      "Word: \"punch\" -> \"punch\" not in vocab\n",
      "isPersonalPronoun: False\n",
      "isNumber: False\n",
      "isTopping: False\n",
      "isQuantity: False\n",
      "Word: \"orange\" -> \"orang\" not in vocab\n",
      "isPersonalPronoun: False\n",
      "isNumber: False\n",
      "isTopping: False\n",
      "isQuantity: False\n",
      "Word: \"juice\" -> \"juic\" not in vocab\n",
      "isPersonalPronoun: False\n",
      "isNumber: False\n",
      "isTopping: False\n",
      "isQuantity: False\n",
      "Word: \"orange\" -> \"orang\" not in vocab\n",
      "isPersonalPronoun: False\n",
      "isNumber: False\n",
      "isTopping: False\n",
      "isQuantity: False\n",
      "Word: \"juice\" -> \"juic\" not in vocab\n",
      "isPersonalPronoun: False\n",
      "isNumber: False\n",
      "isTopping: False\n",
      "isQuantity: False\n",
      "Word: \"sweet\" -> \"sweet\" not in vocab\n",
      "isPersonalPronoun: False\n",
      "isNumber: False\n",
      "isTopping: False\n",
      "isQuantity: False\n"
     ]
    },
    {
     "name": "stderr",
     "output_type": "stream",
     "text": [
      "writing results:   6%|▌         | 232/4000 [00:21<04:25, 14.21it/s]"
     ]
    },
    {
     "name": "stdout",
     "output_type": "stream",
     "text": [
      "Word: \"sweet\" -> \"sweet\" not in vocab\n",
      "isPersonalPronoun: False\n",
      "isNumber: False\n",
      "isTopping: False\n",
      "isQuantity: False\n",
      "Word: \"pop\" -> \"pop\" not in vocab\n",
      "isPersonalPronoun: False\n",
      "isNumber: False\n",
      "isTopping: False\n",
      "isQuantity: False\n",
      "Word: \"seeds\" -> \"seed\" not in vocab\n",
      "isPersonalPronoun: False\n",
      "isNumber: False\n",
      "isTopping: False\n",
      "isQuantity: False\n",
      "Word: \"seeds\" -> \"seed\" not in vocab\n",
      "isPersonalPronoun: False\n",
      "isNumber: False\n",
      "isTopping: False\n",
      "isQuantity: False\n",
      "Word: \"sirach\" -> \"sirach\" not in vocab\n",
      "isPersonalPronoun: False\n",
      "isNumber: False\n",
      "isTopping: False\n",
      "isQuantity: False\n"
     ]
    },
    {
     "name": "stderr",
     "output_type": "stream",
     "text": [
      "writing results:   6%|▌         | 241/4000 [00:22<05:36, 11.17it/s]"
     ]
    },
    {
     "name": "stdout",
     "output_type": "stream",
     "text": [
      "Word: \"sirach\" -> \"sirach\" not in vocab\n",
      "isPersonalPronoun: False\n",
      "isNumber: False\n",
      "isTopping: False\n",
      "isQuantity: False\n",
      "Word: \"hummus\" -> \"hummu\" not in vocab\n",
      "isPersonalPronoun: False\n",
      "isNumber: False\n",
      "isTopping: False\n",
      "isQuantity: False\n",
      "Word: \"hummus\" -> \"hummu\" not in vocab\n",
      "isPersonalPronoun: False\n",
      "isNumber: False\n",
      "isTopping: False\n",
      "isQuantity: False\n"
     ]
    },
    {
     "name": "stderr",
     "output_type": "stream",
     "text": [
      "writing results:   6%|▌         | 243/4000 [00:23<05:17, 11.85it/s]"
     ]
    },
    {
     "name": "stdout",
     "output_type": "stream",
     "text": [
      "Word: \"finalize\" -> \"final\" not in vocab\n",
      "isPersonalPronoun: False\n",
      "isNumber: False\n",
      "isTopping: False\n",
      "isQuantity: False\n",
      "Word: \"sparkling\" -> \"sparkl\" not in vocab\n",
      "isPersonalPronoun: False\n",
      "isNumber: False\n",
      "isTopping: False\n",
      "isQuantity: False\n",
      "Word: \"sparkling\" -> \"sparkl\" not in vocab\n",
      "isPersonalPronoun: False\n",
      "isNumber: False\n",
      "isTopping: False\n",
      "isQuantity: False\n"
     ]
    },
    {
     "name": "stderr",
     "output_type": "stream",
     "text": [
      "writing results:   6%|▌         | 248/4000 [00:23<04:28, 14.00it/s]"
     ]
    },
    {
     "name": "stdout",
     "output_type": "stream",
     "text": [
      "Word: \"smoked\" -> \"smoke\" not in vocab\n",
      "isPersonalPronoun: False\n",
      "isNumber: False\n",
      "isTopping: False\n",
      "isQuantity: False\n",
      "Word: \"salmon\" -> \"salmon\" not in vocab\n",
      "isPersonalPronoun: False\n",
      "isNumber: False\n",
      "isTopping: False\n",
      "isQuantity: False\n",
      "Word: \"smoked\" -> \"smoke\" not in vocab\n",
      "isPersonalPronoun: False\n",
      "isNumber: False\n",
      "isTopping: False\n",
      "isQuantity: False\n",
      "Word: \"salmon\" -> \"salmon\" not in vocab\n",
      "isPersonalPronoun: False\n",
      "isNumber: False\n",
      "isTopping: False\n",
      "isQuantity: False\n",
      "Word: \"lie\" -> \"lie\" not in vocab\n",
      "isPersonalPronoun: False\n",
      "isNumber: False\n",
      "isTopping: False\n",
      "isQuantity: False\n"
     ]
    },
    {
     "name": "stderr",
     "output_type": "stream",
     "text": [
      "writing results:   6%|▋         | 254/4000 [00:23<04:13, 14.80it/s]"
     ]
    },
    {
     "name": "stdout",
     "output_type": "stream",
     "text": [
      "Word: \"poppy\" -> \"poppi\" not in vocab\n",
      "isPersonalPronoun: False\n",
      "isNumber: False\n",
      "isTopping: False\n",
      "isQuantity: False\n",
      "Word: \"seeds\" -> \"seed\" not in vocab\n",
      "isPersonalPronoun: False\n",
      "isNumber: False\n",
      "isTopping: False\n",
      "isQuantity: False\n",
      "Word: \"poppy\" -> \"poppi\" not in vocab\n",
      "isPersonalPronoun: False\n",
      "isNumber: False\n",
      "isTopping: False\n",
      "isQuantity: False\n",
      "Word: \"seeds\" -> \"seed\" not in vocab\n",
      "isPersonalPronoun: False\n",
      "isNumber: False\n",
      "isTopping: False\n",
      "isQuantity: False\n"
     ]
    },
    {
     "name": "stderr",
     "output_type": "stream",
     "text": [
      "writing results:   6%|▋         | 256/4000 [00:23<04:36, 13.56it/s]"
     ]
    },
    {
     "name": "stdout",
     "output_type": "stream",
     "text": [
      "Word: \"poppy\" -> \"poppi\" not in vocab\n",
      "isPersonalPronoun: False\n",
      "isNumber: False\n",
      "isTopping: False\n",
      "isQuantity: False\n",
      "Word: \"seeds\" -> \"seed\" not in vocab\n",
      "isPersonalPronoun: False\n",
      "isNumber: False\n",
      "isTopping: False\n",
      "isQuantity: False\n",
      "Word: \"poppy\" -> \"poppi\" not in vocab\n",
      "isPersonalPronoun: False\n",
      "isNumber: False\n",
      "isTopping: False\n",
      "isQuantity: False\n",
      "Word: \"seeds\" -> \"seed\" not in vocab\n",
      "isPersonalPronoun: False\n",
      "isNumber: False\n",
      "isTopping: False\n",
      "isQuantity: False\n",
      "Word: \"opting\" -> \"opt\" not in vocab\n",
      "isPersonalPronoun: False\n",
      "isNumber: False\n",
      "isTopping: False\n",
      "isQuantity: False\n",
      "Word: \"footing\" -> \"foot\" not in vocab\n",
      "isPersonalPronoun: False\n",
      "isNumber: False\n",
      "isTopping: False\n",
      "isQuantity: True\n"
     ]
    },
    {
     "name": "stderr",
     "output_type": "stream",
     "text": [
      "writing results:   6%|▋         | 260/4000 [00:24<08:23,  7.42it/s]"
     ]
    },
    {
     "name": "stdout",
     "output_type": "stream",
     "text": [
      "Word: \"footing\" -> \"foot\" not in vocab\n",
      "isPersonalPronoun: False\n",
      "isNumber: False\n",
      "isTopping: False\n",
      "isQuantity: True\n",
      "Word: \"fixing\" -> \"fix\" not in vocab\n",
      "isPersonalPronoun: False\n",
      "isNumber: False\n",
      "isTopping: False\n",
      "isQuantity: False\n",
      "Word: \"pin\" -> \"pin\" not in vocab\n",
      "isPersonalPronoun: False\n",
      "isNumber: False\n",
      "isTopping: False\n",
      "isQuantity: False\n",
      "Word: \"pin\" -> \"pin\" not in vocab\n",
      "isPersonalPronoun: False\n",
      "isNumber: False\n",
      "isTopping: False\n",
      "isQuantity: False\n"
     ]
    },
    {
     "name": "stderr",
     "output_type": "stream",
     "text": [
      "writing results:   7%|▋         | 262/4000 [00:25<07:32,  8.26it/s]"
     ]
    },
    {
     "name": "stdout",
     "output_type": "stream",
     "text": [
      "Word: \"duck\" -> \"duck\" not in vocab\n",
      "isPersonalPronoun: False\n",
      "isNumber: False\n",
      "isTopping: False\n",
      "isQuantity: False\n",
      "Word: \"duck\" -> \"duck\" not in vocab\n",
      "isPersonalPronoun: False\n",
      "isNumber: False\n",
      "isTopping: False\n",
      "isQuantity: False\n",
      "Word: \"arrange\" -> \"arrang\" not in vocab\n",
      "isPersonalPronoun: False\n",
      "isNumber: False\n",
      "isTopping: False\n",
      "isQuantity: False\n",
      "Word: \"bubble\" -> \"bubbl\" not in vocab\n",
      "isPersonalPronoun: False\n",
      "isNumber: False\n",
      "isTopping: False\n",
      "isQuantity: False\n"
     ]
    },
    {
     "name": "stderr",
     "output_type": "stream",
     "text": [
      "writing results:   7%|▋         | 264/4000 [00:25<07:36,  8.19it/s]"
     ]
    },
    {
     "name": "stdout",
     "output_type": "stream",
     "text": [
      "Word: \"bubble\" -> \"bubbl\" not in vocab\n",
      "isPersonalPronoun: False\n",
      "isNumber: False\n",
      "isTopping: False\n",
      "isQuantity: False\n",
      "Word: \"anted\" -> \"ant\" not in vocab\n",
      "isPersonalPronoun: False\n",
      "isNumber: False\n",
      "isTopping: False\n",
      "isQuantity: False\n",
      "Word: \"mushy\" -> \"mushi\" not in vocab\n",
      "isPersonalPronoun: False\n",
      "isNumber: False\n",
      "isTopping: False\n",
      "isQuantity: False\n",
      "Word: \"leeks\" -> \"leek\" not in vocab\n",
      "isPersonalPronoun: False\n",
      "isNumber: False\n",
      "isTopping: True\n",
      "isQuantity: False\n",
      "Word: \"mushy\" -> \"mushi\" not in vocab\n",
      "isPersonalPronoun: False\n",
      "isNumber: False\n",
      "isTopping: False\n",
      "isQuantity: False\n"
     ]
    },
    {
     "name": "stderr",
     "output_type": "stream",
     "text": [
      "writing results:   7%|▋         | 268/4000 [00:25<05:40, 10.97it/s]"
     ]
    },
    {
     "name": "stdout",
     "output_type": "stream",
     "text": [
      "Word: \"sort\" -> \"sort\" not in vocab\n",
      "isPersonalPronoun: False\n",
      "isNumber: False\n",
      "isTopping: False\n",
      "isQuantity: False\n",
      "Word: \"UT\" -> \"ut\" not in vocab\n",
      "isPersonalPronoun: False\n",
      "isNumber: False\n",
      "isTopping: False\n",
      "isQuantity: False\n",
      "Word: \"bubble\" -> \"bubbl\" not in vocab\n",
      "isPersonalPronoun: False\n",
      "isNumber: False\n",
      "isTopping: False\n",
      "isQuantity: False\n",
      "Word: \"bubble\" -> \"bubbl\" not in vocab\n",
      "isPersonalPronoun: False\n",
      "isNumber: False\n",
      "isTopping: False\n",
      "isQuantity: False\n"
     ]
    },
    {
     "name": "stderr",
     "output_type": "stream",
     "text": [
      "writing results:   7%|▋         | 272/4000 [00:25<05:00, 12.39it/s]"
     ]
    },
    {
     "name": "stdout",
     "output_type": "stream",
     "text": [
      "Word: \"my choice\" -> \"my choic\" not in vocab\n",
      "isPersonalPronoun: False\n",
      "isNumber: False\n",
      "isTopping: False\n",
      "isQuantity: False\n",
      "Word: \"low fat\" -> \"low fat\" not in vocab\n",
      "isPersonalPronoun: False\n",
      "isNumber: False\n",
      "isTopping: False\n",
      "isQuantity: False\n",
      "Word: \"low fat\" -> \"low fat\" not in vocab\n",
      "isPersonalPronoun: False\n",
      "isNumber: False\n",
      "isTopping: False\n",
      "isQuantity: False\n",
      "Word: \"duck\" -> \"duck\" not in vocab\n",
      "isPersonalPronoun: False\n",
      "isNumber: False\n",
      "isTopping: False\n",
      "isQuantity: False\n",
      "Word: \"duck\" -> \"duck\" not in vocab\n",
      "isPersonalPronoun: False\n",
      "isNumber: False\n",
      "isTopping: False\n",
      "isQuantity: False\n"
     ]
    },
    {
     "name": "stderr",
     "output_type": "stream",
     "text": [
      "writing results:   7%|▋         | 274/4000 [00:26<07:54,  7.86it/s]"
     ]
    },
    {
     "name": "stdout",
     "output_type": "stream",
     "text": [
      "Word: \"ave\" -> \"ave\" not in vocab\n",
      "isPersonalPronoun: False\n",
      "isNumber: False\n",
      "isTopping: False\n",
      "isQuantity: False\n",
      "Word: \"sauted\" -> \"saut\" not in vocab\n",
      "isPersonalPronoun: False\n",
      "isNumber: False\n",
      "isTopping: False\n",
      "isQuantity: False\n",
      "Word: \"sparkling\" -> \"sparkl\" not in vocab\n",
      "isPersonalPronoun: False\n",
      "isNumber: False\n",
      "isTopping: False\n",
      "isQuantity: False\n",
      "Word: \"sauted\" -> \"saut\" not in vocab\n",
      "isPersonalPronoun: False\n",
      "isNumber: False\n",
      "isTopping: False\n",
      "isQuantity: False\n",
      "Word: \"sparkling\" -> \"sparkl\" not in vocab\n",
      "isPersonalPronoun: False\n",
      "isNumber: False\n",
      "isTopping: False\n",
      "isQuantity: False\n",
      "Word: \"mushy peas\" -> \"mushy pea\" not in vocab\n",
      "isPersonalPronoun: False\n",
      "isNumber: False\n",
      "isTopping: False\n",
      "isQuantity: False\n",
      "Word: \"mushy peas\" -> \"mushy pea\" not in vocab\n",
      "isPersonalPronoun: False\n",
      "isNumber: False\n",
      "isTopping: False\n",
      "isQuantity: False\n",
      "Word: \"cranberry\" -> \"cranberri\" not in vocab\n",
      "isPersonalPronoun: False\n",
      "isNumber: False\n",
      "isTopping: False\n",
      "isQuantity: False\n",
      "Word: \"juice\" -> \"juic\" not in vocab\n",
      "isPersonalPronoun: False\n",
      "isNumber: False\n",
      "isTopping: False\n",
      "isQuantity: False\n",
      "Word: \"cranberry\" -> \"cranberri\" not in vocab\n",
      "isPersonalPronoun: False\n",
      "isNumber: False\n",
      "isTopping: False\n",
      "isQuantity: False\n",
      "Word: \"juice\" -> \"juic\" not in vocab\n",
      "isPersonalPronoun: False\n",
      "isNumber: False\n",
      "isTopping: False\n",
      "isQuantity: False\n"
     ]
    },
    {
     "name": "stderr",
     "output_type": "stream",
     "text": [
      "writing results:   7%|▋         | 277/4000 [00:26<09:17,  6.68it/s]"
     ]
    },
    {
     "name": "stdout",
     "output_type": "stream",
     "text": [
      "Word: \"footing\" -> \"foot\" not in vocab\n",
      "isPersonalPronoun: False\n",
      "isNumber: False\n",
      "isTopping: False\n",
      "isQuantity: True\n"
     ]
    },
    {
     "name": "stderr",
     "output_type": "stream",
     "text": [
      "writing results:   7%|▋         | 283/4000 [00:27<08:49,  7.03it/s]"
     ]
    },
    {
     "name": "stdout",
     "output_type": "stream",
     "text": [
      "Word: \"footing\" -> \"foot\" not in vocab\n",
      "isPersonalPronoun: False\n",
      "isNumber: False\n",
      "isTopping: False\n",
      "isQuantity: True\n",
      "Word: \"choose\" -> \"choos\" not in vocab\n",
      "isPersonalPronoun: False\n",
      "isNumber: False\n",
      "isTopping: False\n",
      "isQuantity: False\n",
      "Word: \"mushy\" -> \"mushi\" not in vocab\n",
      "isPersonalPronoun: False\n",
      "isNumber: False\n",
      "isTopping: False\n",
      "isQuantity: False\n",
      "Word: \"mushy\" -> \"mushi\" not in vocab\n",
      "isPersonalPronoun: False\n",
      "isNumber: False\n",
      "isTopping: False\n",
      "isQuantity: False\n"
     ]
    },
    {
     "name": "stderr",
     "output_type": "stream",
     "text": [
      "writing results:   7%|▋         | 286/4000 [00:27<06:37,  9.33it/s]"
     ]
    },
    {
     "name": "stdout",
     "output_type": "stream",
     "text": [
      "Word: \"order for\" -> \"order for\" not in vocab\n",
      "isPersonalPronoun: False\n",
      "isNumber: False\n",
      "isTopping: False\n",
      "isQuantity: False\n",
      "Word: \"lamb\" -> \"lamb\" not in vocab\n",
      "isPersonalPronoun: False\n",
      "isNumber: False\n",
      "isTopping: False\n",
      "isQuantity: False\n"
     ]
    },
    {
     "name": "stderr",
     "output_type": "stream",
     "text": [
      "writing results:   7%|▋         | 290/4000 [00:28<05:38, 10.97it/s]"
     ]
    },
    {
     "name": "stdout",
     "output_type": "stream",
     "text": [
      "Word: \"lamb\" -> \"lamb\" not in vocab\n",
      "isPersonalPronoun: False\n",
      "isNumber: False\n",
      "isTopping: False\n",
      "isQuantity: False\n",
      "Word: \"back\" -> \"back\" not in vocab\n",
      "isPersonalPronoun: False\n",
      "isNumber: False\n",
      "isTopping: False\n",
      "isQuantity: False\n",
      "Word: \"back\" -> \"back\" not in vocab\n",
      "isPersonalPronoun: False\n",
      "isNumber: False\n",
      "isTopping: False\n",
      "isQuantity: False\n",
      "Word: \"grab\" -> \"grab\" not in vocab\n",
      "isPersonalPronoun: False\n",
      "isNumber: False\n",
      "isTopping: False\n",
      "isQuantity: False\n"
     ]
    },
    {
     "name": "stderr",
     "output_type": "stream",
     "text": [
      "writing results:   7%|▋         | 292/4000 [00:28<06:23,  9.67it/s]"
     ]
    },
    {
     "name": "stdout",
     "output_type": "stream",
     "text": [
      "Word: \"i've\" -> \"i'v\" not in vocab\n",
      "isPersonalPronoun: False\n",
      "isNumber: False\n",
      "isTopping: False\n",
      "isQuantity: False\n",
      "Word: \"decided\" -> \"decid\" not in vocab\n",
      "isPersonalPronoun: False\n",
      "isNumber: False\n",
      "isTopping: False\n",
      "isQuantity: False\n",
      "Word: \"poppy\" -> \"poppi\" not in vocab\n",
      "isPersonalPronoun: False\n",
      "isNumber: False\n",
      "isTopping: False\n",
      "isQuantity: False\n",
      "Word: \"seeds\" -> \"seed\" not in vocab\n",
      "isPersonalPronoun: False\n",
      "isNumber: False\n",
      "isTopping: False\n",
      "isQuantity: False\n",
      "Word: \"seeds\" -> \"seed\" not in vocab\n",
      "isPersonalPronoun: False\n",
      "isNumber: False\n",
      "isTopping: False\n",
      "isQuantity: False\n",
      "Word: \"sirach\" -> \"sirach\" not in vocab\n",
      "isPersonalPronoun: False\n",
      "isNumber: False\n",
      "isTopping: False\n",
      "isQuantity: False\n"
     ]
    },
    {
     "name": "stderr",
     "output_type": "stream",
     "text": [
      "writing results:   7%|▋         | 298/4000 [00:29<07:16,  8.49it/s]"
     ]
    },
    {
     "name": "stdout",
     "output_type": "stream",
     "text": [
      "Word: \"sirach\" -> \"sirach\" not in vocab\n",
      "isPersonalPronoun: False\n",
      "isNumber: False\n",
      "isTopping: False\n",
      "isQuantity: False\n"
     ]
    },
    {
     "name": "stderr",
     "output_type": "stream",
     "text": [
      "writing results:   8%|▊         | 300/4000 [00:29<07:23,  8.34it/s]"
     ]
    },
    {
     "name": "stdout",
     "output_type": "stream",
     "text": [
      "Word: \"rd\" -> \"rd\" not in vocab\n",
      "isPersonalPronoun: False\n",
      "isNumber: False\n",
      "isTopping: False\n",
      "isQuantity: False\n",
      "Word: \"rd\" -> \"rd\" not in vocab\n",
      "isPersonalPronoun: False\n",
      "isNumber: False\n",
      "isTopping: False\n",
      "isQuantity: False\n",
      "Word: \"hummus\" -> \"hummu\" not in vocab\n",
      "isPersonalPronoun: False\n",
      "isNumber: False\n",
      "isTopping: False\n",
      "isQuantity: False\n",
      "Word: \"hummus\" -> \"hummu\" not in vocab\n",
      "isPersonalPronoun: False\n",
      "isNumber: False\n",
      "isTopping: False\n",
      "isQuantity: False\n"
     ]
    },
    {
     "name": "stderr",
     "output_type": "stream",
     "text": [
      "writing results:   8%|▊         | 302/4000 [00:29<06:36,  9.34it/s]"
     ]
    },
    {
     "name": "stdout",
     "output_type": "stream",
     "text": [
      "Word: \"pleas\" -> \"plea\" not in vocab\n",
      "isPersonalPronoun: False\n",
      "isNumber: False\n",
      "isTopping: False\n",
      "isQuantity: False\n",
      "Word: \"cabbage\" -> \"cabbag\" not in vocab\n",
      "isPersonalPronoun: False\n",
      "isNumber: False\n",
      "isTopping: False\n",
      "isQuantity: False\n",
      "Word: \"lamb\" -> \"lamb\" not in vocab\n",
      "isPersonalPronoun: False\n",
      "isNumber: False\n",
      "isTopping: False\n",
      "isQuantity: False\n",
      "Word: \"cabbage\" -> \"cabbag\" not in vocab\n",
      "isPersonalPronoun: False\n",
      "isNumber: False\n",
      "isTopping: False\n",
      "isQuantity: False\n",
      "Word: \"happy\" -> \"happi\" not in vocab\n",
      "isPersonalPronoun: False\n",
      "isNumber: False\n",
      "isTopping: False\n",
      "isQuantity: False\n",
      "Word: \"sirach\" -> \"sirach\" not in vocab\n",
      "isPersonalPronoun: False\n",
      "isNumber: False\n",
      "isTopping: False\n",
      "isQuantity: False\n",
      "Word: \"hummus\" -> \"hummu\" not in vocab\n",
      "isPersonalPronoun: False\n",
      "isNumber: False\n",
      "isTopping: False\n",
      "isQuantity: False\n"
     ]
    },
    {
     "name": "stderr",
     "output_type": "stream",
     "text": [
      "writing results:   8%|▊         | 304/4000 [00:30<12:43,  4.84it/s]"
     ]
    },
    {
     "name": "stdout",
     "output_type": "stream",
     "text": [
      "Word: \"sirach\" -> \"sirach\" not in vocab\n",
      "isPersonalPronoun: False\n",
      "isNumber: False\n",
      "isTopping: False\n",
      "isQuantity: False\n",
      "Word: \"hummus\" -> \"hummu\" not in vocab\n",
      "isPersonalPronoun: False\n",
      "isNumber: False\n",
      "isTopping: False\n",
      "isQuantity: False\n",
      "Word: \"cucumber\" -> \"cucumb\" not in vocab\n",
      "isPersonalPronoun: False\n",
      "isNumber: False\n",
      "isTopping: False\n",
      "isQuantity: False\n",
      "Word: \"cucumber\" -> \"cucumb\" not in vocab\n",
      "isPersonalPronoun: False\n",
      "isNumber: False\n",
      "isTopping: False\n",
      "isQuantity: False\n"
     ]
    },
    {
     "name": "stderr",
     "output_type": "stream",
     "text": [
      "writing results:   8%|▊         | 307/4000 [00:31<10:35,  5.81it/s]"
     ]
    },
    {
     "name": "stdout",
     "output_type": "stream",
     "text": [
      "Word: \"zest\" -> \"zest\" not in vocab\n",
      "isPersonalPronoun: False\n",
      "isNumber: False\n",
      "isTopping: False\n",
      "isQuantity: False\n",
      "Word: \"poppy\" -> \"poppi\" not in vocab\n",
      "isPersonalPronoun: False\n",
      "isNumber: False\n",
      "isTopping: False\n",
      "isQuantity: False\n",
      "Word: \"seeds\" -> \"seed\" not in vocab\n",
      "isPersonalPronoun: False\n",
      "isNumber: False\n",
      "isTopping: False\n",
      "isQuantity: False\n",
      "Word: \"leeks\" -> \"leek\" not in vocab\n",
      "isPersonalPronoun: False\n",
      "isNumber: False\n",
      "isTopping: True\n",
      "isQuantity: False\n",
      "Word: \"zest\" -> \"zest\" not in vocab\n",
      "isPersonalPronoun: False\n",
      "isNumber: False\n",
      "isTopping: False\n",
      "isQuantity: False\n",
      "Word: \"poppy\" -> \"poppi\" not in vocab\n",
      "isPersonalPronoun: False\n",
      "isNumber: False\n",
      "isTopping: False\n",
      "isQuantity: False\n",
      "Word: \"seeds\" -> \"seed\" not in vocab\n",
      "isPersonalPronoun: False\n",
      "isNumber: False\n",
      "isTopping: False\n",
      "isQuantity: False\n",
      "Word: \"opting\" -> \"opt\" not in vocab\n",
      "isPersonalPronoun: False\n",
      "isNumber: False\n",
      "isTopping: False\n",
      "isQuantity: False\n",
      "Word: \"kimchi\" -> \"kimchi\" not in vocab\n",
      "isPersonalPronoun: False\n",
      "isNumber: False\n",
      "isTopping: False\n",
      "isQuantity: False\n"
     ]
    },
    {
     "name": "stderr",
     "output_type": "stream",
     "text": [
      "writing results:   8%|▊         | 315/4000 [00:31<05:17, 11.62it/s]"
     ]
    },
    {
     "name": "stdout",
     "output_type": "stream",
     "text": [
      "Word: \"kimchi\" -> \"kimchi\" not in vocab\n",
      "isPersonalPronoun: False\n",
      "isNumber: False\n",
      "isTopping: False\n",
      "isQuantity: False\n",
      "Word: \"hook\" -> \"hook\" not in vocab\n",
      "isPersonalPronoun: False\n",
      "isNumber: False\n",
      "isTopping: False\n",
      "isQuantity: False\n",
      "Word: \"mint\" -> \"mint\" not in vocab\n",
      "isPersonalPronoun: False\n",
      "isNumber: False\n",
      "isTopping: False\n",
      "isQuantity: False\n",
      "Word: \"mint\" -> \"mint\" not in vocab\n",
      "isPersonalPronoun: False\n",
      "isNumber: False\n",
      "isTopping: False\n",
      "isQuantity: False\n",
      "Word: \"fixing\" -> \"fix\" not in vocab\n",
      "isPersonalPronoun: False\n",
      "isNumber: False\n",
      "isTopping: False\n",
      "isQuantity: False\n"
     ]
    },
    {
     "name": "stderr",
     "output_type": "stream",
     "text": [
      "writing results:   8%|▊         | 318/4000 [00:31<04:42, 13.03it/s]"
     ]
    },
    {
     "name": "stdout",
     "output_type": "stream",
     "text": [
      "Word: \"cucumber\" -> \"cucumb\" not in vocab\n",
      "isPersonalPronoun: False\n",
      "isNumber: False\n",
      "isTopping: False\n",
      "isQuantity: False\n",
      "Word: \"cucumber\" -> \"cucumb\" not in vocab\n",
      "isPersonalPronoun: False\n",
      "isNumber: False\n",
      "isTopping: False\n",
      "isQuantity: False\n",
      "Word: \"prawns\" -> \"prawn\" not in vocab\n",
      "isPersonalPronoun: False\n",
      "isNumber: False\n",
      "isTopping: False\n",
      "isQuantity: False\n"
     ]
    },
    {
     "name": "stderr",
     "output_type": "stream",
     "text": [
      "writing results:   8%|▊         | 324/4000 [00:31<03:18, 18.55it/s]"
     ]
    },
    {
     "name": "stdout",
     "output_type": "stream",
     "text": [
      "Word: \"stick\" -> \"stick\" not in vocab\n",
      "isPersonalPronoun: False\n",
      "isNumber: False\n",
      "isTopping: False\n",
      "isQuantity: False\n",
      "Word: \"footing\" -> \"foot\" not in vocab\n",
      "isPersonalPronoun: False\n",
      "isNumber: False\n",
      "isTopping: False\n",
      "isQuantity: True\n",
      "Word: \"pomegranate\" -> \"pomegran\" not in vocab\n",
      "isPersonalPronoun: False\n",
      "isNumber: False\n",
      "isTopping: False\n",
      "isQuantity: False\n",
      "Word: \"juice\" -> \"juic\" not in vocab\n",
      "isPersonalPronoun: False\n",
      "isNumber: False\n",
      "isTopping: False\n",
      "isQuantity: False\n"
     ]
    },
    {
     "name": "stderr",
     "output_type": "stream",
     "text": [
      "writing results:   8%|▊         | 330/4000 [00:32<06:00, 10.18it/s]"
     ]
    },
    {
     "name": "stdout",
     "output_type": "stream",
     "text": [
      "Word: \"footing\" -> \"foot\" not in vocab\n",
      "isPersonalPronoun: False\n",
      "isNumber: False\n",
      "isTopping: False\n",
      "isQuantity: True\n",
      "Word: \"pomegranate\" -> \"pomegran\" not in vocab\n",
      "isPersonalPronoun: False\n",
      "isNumber: False\n",
      "isTopping: False\n",
      "isQuantity: False\n",
      "Word: \"juice\" -> \"juic\" not in vocab\n",
      "isPersonalPronoun: False\n",
      "isNumber: False\n",
      "isTopping: False\n",
      "isQuantity: False\n",
      "Word: \"footing\" -> \"foot\" not in vocab\n",
      "isPersonalPronoun: False\n",
      "isNumber: False\n",
      "isTopping: False\n",
      "isQuantity: True\n"
     ]
    },
    {
     "name": "stderr",
     "output_type": "stream",
     "text": [
      "writing results:   9%|▊         | 341/4000 [00:33<05:43, 10.67it/s]"
     ]
    },
    {
     "name": "stdout",
     "output_type": "stream",
     "text": [
      "Word: \"footing\" -> \"foot\" not in vocab\n",
      "isPersonalPronoun: False\n",
      "isNumber: False\n",
      "isTopping: False\n",
      "isQuantity: True\n",
      "Word: \"sweet\" -> \"sweet\" not in vocab\n",
      "isPersonalPronoun: False\n",
      "isNumber: False\n",
      "isTopping: False\n",
      "isQuantity: False\n",
      "Word: \"sweet\" -> \"sweet\" not in vocab\n",
      "isPersonalPronoun: False\n",
      "isNumber: False\n",
      "isTopping: False\n",
      "isQuantity: False\n",
      "Word: \"secure\" -> \"secur\" not in vocab\n",
      "isPersonalPronoun: False\n",
      "isNumber: False\n",
      "isTopping: False\n",
      "isQuantity: False\n",
      "Word: \"sarsaparilla\" -> \"sarsaparilla\" not in vocab\n",
      "isPersonalPronoun: False\n",
      "isNumber: False\n",
      "isTopping: False\n",
      "isQuantity: False\n",
      "Word: \"sarsaparilla\" -> \"sarsaparilla\" not in vocab\n",
      "isPersonalPronoun: False\n",
      "isNumber: False\n",
      "isTopping: False\n",
      "isQuantity: False\n",
      "Word: \"juice\" -> \"juic\" not in vocab\n",
      "isPersonalPronoun: False\n",
      "isNumber: False\n",
      "isTopping: False\n",
      "isQuantity: False\n",
      "Word: \"boxes\" -> \"box\" not in vocab\n",
      "isPersonalPronoun: False\n",
      "isNumber: False\n",
      "isTopping: False\n",
      "isQuantity: False\n",
      "Word: \"juice\" -> \"juic\" not in vocab\n",
      "isPersonalPronoun: False\n",
      "isNumber: False\n",
      "isTopping: False\n",
      "isQuantity: False\n",
      "Word: \"boxes\" -> \"box\" not in vocab\n",
      "isPersonalPronoun: False\n",
      "isNumber: False\n",
      "isTopping: False\n",
      "isQuantity: False\n"
     ]
    },
    {
     "name": "stderr",
     "output_type": "stream",
     "text": [
      "writing results:   9%|▊         | 343/4000 [00:33<06:11,  9.84it/s]"
     ]
    },
    {
     "name": "stdout",
     "output_type": "stream",
     "text": [
      "Word: \"sirach\" -> \"sirach\" not in vocab\n",
      "isPersonalPronoun: False\n",
      "isNumber: False\n",
      "isTopping: False\n",
      "isQuantity: False\n"
     ]
    },
    {
     "name": "stderr",
     "output_type": "stream",
     "text": [
      "writing results:   9%|▊         | 345/4000 [00:34<09:57,  6.12it/s]"
     ]
    },
    {
     "name": "stdout",
     "output_type": "stream",
     "text": [
      "Word: \"sirach\" -> \"sirach\" not in vocab\n",
      "isPersonalPronoun: False\n",
      "isNumber: False\n",
      "isTopping: False\n",
      "isQuantity: False\n",
      "Word: \"arrange\" -> \"arrang\" not in vocab\n",
      "isPersonalPronoun: False\n",
      "isNumber: False\n",
      "isTopping: False\n",
      "isQuantity: False\n"
     ]
    },
    {
     "name": "stderr",
     "output_type": "stream",
     "text": [
      "writing results:   9%|▊         | 349/4000 [00:35<07:54,  7.69it/s]"
     ]
    },
    {
     "name": "stdout",
     "output_type": "stream",
     "text": [
      "Word: \"sort\" -> \"sort\" not in vocab\n",
      "isPersonalPronoun: False\n",
      "isNumber: False\n",
      "isTopping: False\n",
      "isQuantity: False\n",
      "Word: \"Mohave\" -> \"mohav\" not in vocab\n",
      "isPersonalPronoun: False\n",
      "isNumber: False\n",
      "isTopping: False\n",
      "isQuantity: False\n",
      "Word: \"chad\" -> \"chad\" not in vocab\n",
      "isPersonalPronoun: False\n",
      "isNumber: False\n",
      "isTopping: False\n",
      "isQuantity: False\n",
      "Word: \"chad\" -> \"chad\" not in vocab\n",
      "isPersonalPronoun: False\n",
      "isNumber: False\n",
      "isTopping: False\n",
      "isQuantity: False\n",
      "Word: \"zest\" -> \"zest\" not in vocab\n",
      "isPersonalPronoun: False\n",
      "isNumber: False\n",
      "isTopping: False\n",
      "isQuantity: False\n",
      "Word: \"zest\" -> \"zest\" not in vocab\n",
      "isPersonalPronoun: False\n",
      "isNumber: False\n",
      "isTopping: False\n",
      "isQuantity: False\n",
      "Word: \"zest\" -> \"zest\" not in vocab\n",
      "isPersonalPronoun: False\n",
      "isNumber: False\n",
      "isTopping: False\n",
      "isQuantity: False\n",
      "Word: \"zest\" -> \"zest\" not in vocab\n",
      "isPersonalPronoun: False\n",
      "isNumber: False\n",
      "isTopping: False\n",
      "isQuantity: False\n",
      "Word: \"cucumber\" -> \"cucumb\" not in vocab\n",
      "isPersonalPronoun: False\n",
      "isNumber: False\n",
      "isTopping: False\n",
      "isQuantity: False\n"
     ]
    },
    {
     "name": "stderr",
     "output_type": "stream",
     "text": [
      "writing results:   9%|▉         | 351/4000 [00:35<08:46,  6.93it/s]"
     ]
    },
    {
     "name": "stdout",
     "output_type": "stream",
     "text": [
      "Word: \"cucumber\" -> \"cucumb\" not in vocab\n",
      "isPersonalPronoun: False\n",
      "isNumber: False\n",
      "isTopping: False\n",
      "isQuantity: False\n",
      "Word: \"pick\" -> \"pick\" not in vocab\n",
      "isPersonalPronoun: False\n",
      "isNumber: False\n",
      "isTopping: False\n",
      "isQuantity: False\n",
      "Word: \"oat\" -> \"oat\" not in vocab\n",
      "isPersonalPronoun: False\n",
      "isNumber: False\n",
      "isTopping: False\n",
      "isQuantity: False\n",
      "Word: \"ilk\" -> \"ilk\" not in vocab\n",
      "isPersonalPronoun: False\n",
      "isNumber: False\n",
      "isTopping: False\n",
      "isQuantity: False\n"
     ]
    },
    {
     "name": "stderr",
     "output_type": "stream",
     "text": [
      "writing results:   9%|▉         | 353/4000 [00:35<09:05,  6.68it/s]"
     ]
    },
    {
     "name": "stdout",
     "output_type": "stream",
     "text": [
      "Word: \"oat\" -> \"oat\" not in vocab\n",
      "isPersonalPronoun: False\n",
      "isNumber: False\n",
      "isTopping: False\n",
      "isQuantity: False\n",
      "Word: \"ilk\" -> \"ilk\" not in vocab\n",
      "isPersonalPronoun: False\n",
      "isNumber: False\n",
      "isTopping: False\n",
      "isQuantity: False\n",
      "Word: \"aiming\" -> \"aim\" not in vocab\n",
      "isPersonalPronoun: False\n",
      "isNumber: False\n",
      "isTopping: False\n",
      "isQuantity: False\n",
      "Word: \"chard\" -> \"chard\" not in vocab\n",
      "isPersonalPronoun: False\n",
      "isNumber: False\n",
      "isTopping: False\n",
      "isQuantity: False\n",
      "Word: \"chard\" -> \"chard\" not in vocab\n",
      "isPersonalPronoun: False\n",
      "isNumber: False\n",
      "isTopping: False\n",
      "isQuantity: False\n"
     ]
    },
    {
     "name": "stderr",
     "output_type": "stream",
     "text": [
      "writing results:   9%|▉         | 356/4000 [00:36<06:45,  8.99it/s]"
     ]
    },
    {
     "name": "stdout",
     "output_type": "stream",
     "text": [
      "Word: \"fixing\" -> \"fix\" not in vocab\n",
      "isPersonalPronoun: False\n",
      "isNumber: False\n",
      "isTopping: False\n",
      "isQuantity: False\n",
      "Word: \"sauted\" -> \"saut\" not in vocab\n",
      "isPersonalPronoun: False\n",
      "isNumber: False\n",
      "isTopping: False\n",
      "isQuantity: False\n",
      "Word: \"sauted\" -> \"saut\" not in vocab\n",
      "isPersonalPronoun: False\n",
      "isNumber: False\n",
      "isTopping: False\n",
      "isQuantity: False\n",
      "Word: \"sauted\" -> \"saut\" not in vocab\n",
      "isPersonalPronoun: False\n",
      "isNumber: False\n",
      "isTopping: False\n",
      "isQuantity: False\n",
      "Word: \"sauted\" -> \"saut\" not in vocab\n",
      "isPersonalPronoun: False\n",
      "isNumber: False\n",
      "isTopping: False\n",
      "isQuantity: False\n"
     ]
    },
    {
     "name": "stderr",
     "output_type": "stream",
     "text": [
      "writing results:   9%|▉         | 360/4000 [00:36<05:28, 11.08it/s]"
     ]
    },
    {
     "name": "stdout",
     "output_type": "stream",
     "text": [
      "Word: \"poppy\" -> \"poppi\" not in vocab\n",
      "isPersonalPronoun: False\n",
      "isNumber: False\n",
      "isTopping: False\n",
      "isQuantity: False\n",
      "Word: \"poppy\" -> \"poppi\" not in vocab\n",
      "isPersonalPronoun: False\n",
      "isNumber: False\n",
      "isTopping: False\n",
      "isQuantity: False\n"
     ]
    },
    {
     "name": "stderr",
     "output_type": "stream",
     "text": [
      "writing results:   9%|▉         | 365/4000 [00:36<06:03, 10.01it/s]"
     ]
    },
    {
     "name": "stdout",
     "output_type": "stream",
     "text": [
      "Word: \"ll take\" -> \"ll take\" not in vocab\n",
      "isPersonalPronoun: False\n",
      "isNumber: False\n",
      "isTopping: False\n",
      "isQuantity: False\n",
      "Word: \"leeks\" -> \"leek\" not in vocab\n",
      "isPersonalPronoun: False\n",
      "isNumber: False\n",
      "isTopping: True\n",
      "isQuantity: False\n",
      "Word: \"leeks\" -> \"leek\" not in vocab\n",
      "isPersonalPronoun: False\n",
      "isNumber: False\n",
      "isTopping: True\n",
      "isQuantity: False\n",
      "Word: \"happy\" -> \"happi\" not in vocab\n",
      "isPersonalPronoun: False\n",
      "isNumber: False\n",
      "isTopping: False\n",
      "isQuantity: False\n"
     ]
    },
    {
     "name": "stderr",
     "output_type": "stream",
     "text": [
      "writing results:   9%|▉         | 367/4000 [00:37<06:06,  9.90it/s]"
     ]
    },
    {
     "name": "stdout",
     "output_type": "stream",
     "text": [
      "Word: \"gruyeres\" -> \"gruyer\" not in vocab\n",
      "isPersonalPronoun: False\n",
      "isNumber: False\n",
      "isTopping: False\n",
      "isQuantity: False\n",
      "Word: \"gruyeres\" -> \"gruyer\" not in vocab\n",
      "isPersonalPronoun: False\n",
      "isNumber: False\n",
      "isTopping: False\n",
      "isQuantity: False\n",
      "Word: \"lamb\" -> \"lamb\" not in vocab\n",
      "isPersonalPronoun: False\n",
      "isNumber: False\n",
      "isTopping: False\n",
      "isQuantity: False\n",
      "Word: \"lamb\" -> \"lamb\" not in vocab\n",
      "isPersonalPronoun: False\n",
      "isNumber: False\n",
      "isTopping: False\n",
      "isQuantity: False\n"
     ]
    },
    {
     "name": "stderr",
     "output_type": "stream",
     "text": [
      "writing results:   9%|▉         | 369/4000 [00:37<07:35,  7.97it/s]"
     ]
    },
    {
     "name": "stdout",
     "output_type": "stream",
     "text": [
      "Word: \"poppy\" -> \"poppi\" not in vocab\n",
      "isPersonalPronoun: False\n",
      "isNumber: False\n",
      "isTopping: False\n",
      "isQuantity: False\n",
      "Word: \"seeds\" -> \"seed\" not in vocab\n",
      "isPersonalPronoun: False\n",
      "isNumber: False\n",
      "isTopping: False\n",
      "isQuantity: False\n",
      "Word: \"mushy\" -> \"mushi\" not in vocab\n",
      "isPersonalPronoun: False\n",
      "isNumber: False\n",
      "isTopping: False\n",
      "isQuantity: False\n",
      "Word: \"poppy\" -> \"poppi\" not in vocab\n",
      "isPersonalPronoun: False\n",
      "isNumber: False\n",
      "isTopping: False\n",
      "isQuantity: False\n",
      "Word: \"seeds\" -> \"seed\" not in vocab\n",
      "isPersonalPronoun: False\n",
      "isNumber: False\n",
      "isTopping: False\n",
      "isQuantity: False\n",
      "Word: \"mushy\" -> \"mushi\" not in vocab\n",
      "isPersonalPronoun: False\n",
      "isNumber: False\n",
      "isTopping: False\n",
      "isQuantity: False\n",
      "Word: \"sirach\" -> \"sirach\" not in vocab\n",
      "isPersonalPronoun: False\n",
      "isNumber: False\n",
      "isTopping: False\n",
      "isQuantity: False\n",
      "Word: \"poppy\" -> \"poppi\" not in vocab\n",
      "isPersonalPronoun: False\n",
      "isNumber: False\n",
      "isTopping: False\n",
      "isQuantity: False\n",
      "Word: \"seeds\" -> \"seed\" not in vocab\n",
      "isPersonalPronoun: False\n",
      "isNumber: False\n",
      "isTopping: False\n",
      "isQuantity: False\n"
     ]
    },
    {
     "name": "stderr",
     "output_type": "stream",
     "text": [
      "writing results:   9%|▉         | 371/4000 [00:38<13:02,  4.64it/s]"
     ]
    },
    {
     "name": "stdout",
     "output_type": "stream",
     "text": [
      "Word: \"sirach\" -> \"sirach\" not in vocab\n",
      "isPersonalPronoun: False\n",
      "isNumber: False\n",
      "isTopping: False\n",
      "isQuantity: False\n",
      "Word: \"poppy\" -> \"poppi\" not in vocab\n",
      "isPersonalPronoun: False\n",
      "isNumber: False\n",
      "isTopping: False\n",
      "isQuantity: False\n",
      "Word: \"seeds\" -> \"seed\" not in vocab\n",
      "isPersonalPronoun: False\n",
      "isNumber: False\n",
      "isTopping: False\n",
      "isQuantity: False\n",
      "Word: \"leaning\" -> \"lean\" not in vocab\n",
      "isPersonalPronoun: False\n",
      "isNumber: False\n",
      "isTopping: False\n",
      "isQuantity: False\n",
      "Word: \"toward\" -> \"toward\" not in vocab\n",
      "isPersonalPronoun: False\n",
      "isNumber: False\n",
      "isTopping: False\n",
      "isQuantity: False\n",
      "Word: \"sweet\" -> \"sweet\" not in vocab\n",
      "isPersonalPronoun: False\n",
      "isNumber: False\n",
      "isTopping: False\n",
      "isQuantity: False\n"
     ]
    },
    {
     "name": "stderr",
     "output_type": "stream",
     "text": [
      "writing results:   9%|▉         | 374/4000 [00:38<10:14,  5.90it/s]"
     ]
    },
    {
     "name": "stdout",
     "output_type": "stream",
     "text": [
      "Word: \"leaning\" -> \"lean\" not in vocab\n",
      "isPersonalPronoun: False\n",
      "isNumber: False\n",
      "isTopping: False\n",
      "isQuantity: False\n",
      "Word: \"toward\" -> \"toward\" not in vocab\n",
      "isPersonalPronoun: False\n",
      "isNumber: False\n",
      "isTopping: False\n",
      "isQuantity: False\n",
      "Word: \"sweet\" -> \"sweet\" not in vocab\n",
      "isPersonalPronoun: False\n",
      "isNumber: False\n",
      "isTopping: False\n",
      "isQuantity: False\n",
      "Word: \"sweet\" -> \"sweet\" not in vocab\n",
      "isPersonalPronoun: False\n",
      "isNumber: False\n",
      "isTopping: False\n",
      "isQuantity: False\n",
      "Word: \"cucumber\" -> \"cucumb\" not in vocab\n",
      "isPersonalPronoun: False\n",
      "isNumber: False\n",
      "isTopping: False\n",
      "isQuantity: False\n",
      "Word: \"mushy\" -> \"mushi\" not in vocab\n",
      "isPersonalPronoun: False\n",
      "isNumber: False\n",
      "isTopping: False\n",
      "isQuantity: False\n"
     ]
    },
    {
     "name": "stderr",
     "output_type": "stream",
     "text": [
      "writing results:   9%|▉         | 375/4000 [00:39<10:56,  5.52it/s]"
     ]
    },
    {
     "name": "stdout",
     "output_type": "stream",
     "text": [
      "Word: \"sweet\" -> \"sweet\" not in vocab\n",
      "isPersonalPronoun: False\n",
      "isNumber: False\n",
      "isTopping: False\n",
      "isQuantity: False\n",
      "Word: \"cucumber\" -> \"cucumb\" not in vocab\n",
      "isPersonalPronoun: False\n",
      "isNumber: False\n",
      "isTopping: False\n",
      "isQuantity: False\n",
      "Word: \"mushy\" -> \"mushi\" not in vocab\n",
      "isPersonalPronoun: False\n",
      "isNumber: False\n",
      "isTopping: False\n",
      "isQuantity: False\n",
      "Word: \"goat\" -> \"goat\" not in vocab\n",
      "isPersonalPronoun: False\n",
      "isNumber: False\n",
      "isTopping: False\n",
      "isQuantity: False\n"
     ]
    },
    {
     "name": "stderr",
     "output_type": "stream",
     "text": [
      "writing results:   9%|▉         | 379/4000 [00:39<07:15,  8.31it/s]"
     ]
    },
    {
     "name": "stdout",
     "output_type": "stream",
     "text": [
      "Word: \"goat\" -> \"goat\" not in vocab\n",
      "isPersonalPronoun: False\n",
      "isNumber: False\n",
      "isTopping: False\n",
      "isQuantity: False\n"
     ]
    },
    {
     "name": "stderr",
     "output_type": "stream",
     "text": [
      "writing results:  10%|▉         | 382/4000 [00:39<05:34, 10.83it/s]"
     ]
    },
    {
     "name": "stdout",
     "output_type": "stream",
     "text": [
      "Word: \"blue\" -> \"blue\" not in vocab\n",
      "isPersonalPronoun: False\n",
      "isNumber: False\n",
      "isTopping: False\n",
      "isQuantity: False\n",
      "Word: \"blue\" -> \"blue\" not in vocab\n",
      "isPersonalPronoun: False\n",
      "isNumber: False\n",
      "isTopping: False\n",
      "isQuantity: False\n",
      "Word: \"mate\" -> \"mate\" not in vocab\n",
      "isPersonalPronoun: False\n",
      "isNumber: False\n",
      "isTopping: False\n",
      "isQuantity: False\n",
      "Word: \"mate\" -> \"mate\" not in vocab\n",
      "isPersonalPronoun: False\n",
      "isNumber: False\n",
      "isTopping: False\n",
      "isQuantity: False\n",
      "Word: \"sweet\" -> \"sweet\" not in vocab\n",
      "isPersonalPronoun: False\n",
      "isNumber: False\n",
      "isTopping: False\n",
      "isQuantity: False\n",
      "Word: \"almond\" -> \"almond\" not in vocab\n",
      "isPersonalPronoun: False\n",
      "isNumber: False\n",
      "isTopping: False\n",
      "isQuantity: False\n",
      "Word: \"almond\" -> \"almond\" not in vocab\n",
      "isPersonalPronoun: False\n",
      "isNumber: False\n",
      "isTopping: False\n",
      "isQuantity: False\n",
      "Word: \"sweet\" -> \"sweet\" not in vocab\n",
      "isPersonalPronoun: False\n",
      "isNumber: False\n",
      "isTopping: False\n",
      "isQuantity: False\n",
      "Word: \"almond\" -> \"almond\" not in vocab\n",
      "isPersonalPronoun: False\n",
      "isNumber: False\n",
      "isTopping: False\n",
      "isQuantity: False\n"
     ]
    },
    {
     "name": "stderr",
     "output_type": "stream",
     "text": [
      "writing results:  10%|▉         | 384/4000 [00:40<10:36,  5.68it/s]"
     ]
    },
    {
     "name": "stdout",
     "output_type": "stream",
     "text": [
      "Word: \"almond\" -> \"almond\" not in vocab\n",
      "isPersonalPronoun: False\n",
      "isNumber: False\n",
      "isTopping: False\n",
      "isQuantity: False\n",
      "Word: \"gruyeres\" -> \"gruyer\" not in vocab\n",
      "isPersonalPronoun: False\n",
      "isNumber: False\n",
      "isTopping: False\n",
      "isQuantity: False\n",
      "Word: \"gruyeres\" -> \"gruyer\" not in vocab\n",
      "isPersonalPronoun: False\n",
      "isNumber: False\n",
      "isTopping: False\n",
      "isQuantity: False\n"
     ]
    },
    {
     "name": "stderr",
     "output_type": "stream",
     "text": [
      "writing results:  10%|▉         | 388/4000 [00:40<08:07,  7.41it/s]"
     ]
    },
    {
     "name": "stdout",
     "output_type": "stream",
     "text": [
      "Word: \"Leighton\" -> \"leighton\" not in vocab\n",
      "isPersonalPronoun: False\n",
      "isNumber: False\n",
      "isTopping: False\n",
      "isQuantity: False\n",
      "Word: \"Leighton\" -> \"leighton\" not in vocab\n",
      "isPersonalPronoun: False\n",
      "isNumber: False\n",
      "isTopping: False\n",
      "isQuantity: False\n",
      "Word: \"sparkling\" -> \"sparkl\" not in vocab\n",
      "isPersonalPronoun: False\n",
      "isNumber: False\n",
      "isTopping: False\n",
      "isQuantity: False\n",
      "Word: \"sparkling\" -> \"sparkl\" not in vocab\n",
      "isPersonalPronoun: False\n",
      "isNumber: False\n",
      "isTopping: False\n",
      "isQuantity: False\n"
     ]
    },
    {
     "name": "stderr",
     "output_type": "stream",
     "text": [
      "writing results:  10%|▉         | 391/4000 [00:40<06:44,  8.92it/s]"
     ]
    },
    {
     "name": "stdout",
     "output_type": "stream",
     "text": [
      "Word: \"cabbage\" -> \"cabbag\" not in vocab\n",
      "isPersonalPronoun: False\n",
      "isNumber: False\n",
      "isTopping: False\n",
      "isQuantity: False\n",
      "Word: \"cabbage\" -> \"cabbag\" not in vocab\n",
      "isPersonalPronoun: False\n",
      "isNumber: False\n",
      "isTopping: False\n",
      "isQuantity: False\n",
      "Word: \"lie\" -> \"lie\" not in vocab\n",
      "isPersonalPronoun: False\n",
      "isNumber: False\n",
      "isTopping: False\n",
      "isQuantity: False\n",
      "Word: \"chard\" -> \"chard\" not in vocab\n",
      "isPersonalPronoun: False\n",
      "isNumber: False\n",
      "isTopping: False\n",
      "isQuantity: False\n",
      "Word: \"chard\" -> \"chard\" not in vocab\n",
      "isPersonalPronoun: False\n",
      "isNumber: False\n",
      "isTopping: False\n",
      "isQuantity: False\n"
     ]
    },
    {
     "name": "stderr",
     "output_type": "stream",
     "text": [
      "writing results:  10%|█         | 401/4000 [00:41<03:49, 15.67it/s]"
     ]
    },
    {
     "name": "stdout",
     "output_type": "stream",
     "text": [
      "Word: \"mint\" -> \"mint\" not in vocab\n",
      "isPersonalPronoun: False\n",
      "isNumber: False\n",
      "isTopping: False\n",
      "isQuantity: False\n",
      "Word: \"mint\" -> \"mint\" not in vocab\n",
      "isPersonalPronoun: False\n",
      "isNumber: False\n",
      "isTopping: False\n",
      "isQuantity: False\n",
      "Word: \"sauted\" -> \"saut\" not in vocab\n",
      "isPersonalPronoun: False\n",
      "isNumber: False\n",
      "isTopping: False\n",
      "isQuantity: False\n",
      "Word: \"sauted\" -> \"saut\" not in vocab\n",
      "isPersonalPronoun: False\n",
      "isNumber: False\n",
      "isTopping: False\n",
      "isQuantity: False\n"
     ]
    },
    {
     "name": "stderr",
     "output_type": "stream",
     "text": [
      "writing results:  10%|█         | 404/4000 [00:41<03:32, 16.91it/s]"
     ]
    },
    {
     "name": "stdout",
     "output_type": "stream",
     "text": [
      "Word: \"order for\" -> \"order for\" not in vocab\n",
      "isPersonalPronoun: False\n",
      "isNumber: False\n",
      "isTopping: False\n",
      "isQuantity: False\n",
      "Word: \"mint\" -> \"mint\" not in vocab\n",
      "isPersonalPronoun: False\n",
      "isNumber: False\n",
      "isTopping: False\n",
      "isQuantity: False\n",
      "Word: \"mint\" -> \"mint\" not in vocab\n",
      "isPersonalPronoun: False\n",
      "isNumber: False\n",
      "isTopping: False\n",
      "isQuantity: False\n",
      "Word: \"order for\" -> \"order for\" not in vocab\n",
      "isPersonalPronoun: False\n",
      "isNumber: False\n",
      "isTopping: False\n",
      "isQuantity: False\n",
      "Word: \"mushy\" -> \"mushi\" not in vocab\n",
      "isPersonalPronoun: False\n",
      "isNumber: False\n",
      "isTopping: False\n",
      "isQuantity: False\n"
     ]
    },
    {
     "name": "stderr",
     "output_type": "stream",
     "text": [
      "writing results:  10%|█         | 406/4000 [00:41<04:30, 13.29it/s]"
     ]
    },
    {
     "name": "stdout",
     "output_type": "stream",
     "text": [
      "Word: \"mushy\" -> \"mushi\" not in vocab\n",
      "isPersonalPronoun: False\n",
      "isNumber: False\n",
      "isTopping: False\n",
      "isQuantity: False\n",
      "Word: \"prawns\" -> \"prawn\" not in vocab\n",
      "isPersonalPronoun: False\n",
      "isNumber: False\n",
      "isTopping: False\n",
      "isQuantity: False\n",
      "Word: \"prawns\" -> \"prawn\" not in vocab\n",
      "isPersonalPronoun: False\n",
      "isNumber: False\n",
      "isTopping: False\n",
      "isQuantity: False\n"
     ]
    },
    {
     "name": "stderr",
     "output_type": "stream",
     "text": [
      "writing results:  10%|█         | 408/4000 [00:42<05:33, 10.79it/s]"
     ]
    },
    {
     "name": "stdout",
     "output_type": "stream",
     "text": [
      "Word: \"happy\" -> \"happi\" not in vocab\n",
      "isPersonalPronoun: False\n",
      "isNumber: False\n",
      "isTopping: False\n",
      "isQuantity: False\n",
      "Word: \"sweet\" -> \"sweet\" not in vocab\n",
      "isPersonalPronoun: False\n",
      "isNumber: False\n",
      "isTopping: False\n",
      "isQuantity: False\n",
      "Word: \"sweet\" -> \"sweet\" not in vocab\n",
      "isPersonalPronoun: False\n",
      "isNumber: False\n",
      "isTopping: False\n",
      "isQuantity: False\n",
      "Word: \"cutup\" -> \"cutup\" not in vocab\n",
      "isPersonalPronoun: False\n",
      "isNumber: False\n",
      "isTopping: False\n",
      "isQuantity: False\n",
      "Word: \"kimchi\" -> \"kimchi\" not in vocab\n",
      "isPersonalPronoun: False\n",
      "isNumber: False\n",
      "isTopping: False\n",
      "isQuantity: False\n",
      "Word: \"kimchi\" -> \"kimchi\" not in vocab\n",
      "isPersonalPronoun: False\n",
      "isNumber: False\n",
      "isTopping: False\n",
      "isQuantity: False\n"
     ]
    },
    {
     "name": "stderr",
     "output_type": "stream",
     "text": [
      "writing results:  10%|█         | 410/4000 [00:42<05:52, 10.18it/s]"
     ]
    },
    {
     "name": "stdout",
     "output_type": "stream",
     "text": [
      "Word: \"jalapeños\" -> \"jalapeño\" not in vocab\n",
      "isPersonalPronoun: False\n",
      "isNumber: False\n",
      "isTopping: False\n",
      "isQuantity: False\n",
      "Word: \"jalapeños\" -> \"jalapeño\" not in vocab\n",
      "isPersonalPronoun: False\n",
      "isNumber: False\n",
      "isTopping: False\n",
      "isQuantity: False\n"
     ]
    },
    {
     "name": "stderr",
     "output_type": "stream",
     "text": [
      "writing results:  10%|█         | 412/4000 [00:42<06:28,  9.23it/s]"
     ]
    },
    {
     "name": "stdout",
     "output_type": "stream",
     "text": [
      "Word: \"poppy\" -> \"poppi\" not in vocab\n",
      "isPersonalPronoun: False\n",
      "isNumber: False\n",
      "isTopping: False\n",
      "isQuantity: False\n",
      "Word: \"seeds\" -> \"seed\" not in vocab\n",
      "isPersonalPronoun: False\n",
      "isNumber: False\n",
      "isTopping: False\n",
      "isQuantity: False\n",
      "Word: \"chair\" -> \"chair\" not in vocab\n",
      "isPersonalPronoun: False\n",
      "isNumber: False\n",
      "isTopping: False\n",
      "isQuantity: False\n",
      "Word: \"latte\" -> \"latt\" not in vocab\n",
      "isPersonalPronoun: False\n",
      "isNumber: False\n",
      "isTopping: False\n",
      "isQuantity: False\n",
      "Word: \"chair\" -> \"chair\" not in vocab\n",
      "isPersonalPronoun: False\n",
      "isNumber: False\n",
      "isTopping: False\n",
      "isQuantity: False\n",
      "Word: \"latte\" -> \"latt\" not in vocab\n",
      "isPersonalPronoun: False\n",
      "isNumber: False\n",
      "isTopping: False\n",
      "isQuantity: False\n"
     ]
    },
    {
     "name": "stderr",
     "output_type": "stream",
     "text": [
      "writing results:  10%|█         | 414/4000 [00:42<06:21,  9.40it/s]"
     ]
    },
    {
     "name": "stdout",
     "output_type": "stream",
     "text": [
      "Word: \"pleas\" -> \"plea\" not in vocab\n",
      "isPersonalPronoun: False\n",
      "isNumber: False\n",
      "isTopping: False\n",
      "isQuantity: False\n",
      "Word: \"cucumber\" -> \"cucumb\" not in vocab\n",
      "isPersonalPronoun: False\n",
      "isNumber: False\n",
      "isTopping: False\n",
      "isQuantity: False\n",
      "Word: \"cucumber\" -> \"cucumb\" not in vocab\n",
      "isPersonalPronoun: False\n",
      "isNumber: False\n",
      "isTopping: False\n",
      "isQuantity: False\n",
      "Word: \"opt for\" -> \"opt for\" not in vocab\n",
      "isPersonalPronoun: False\n",
      "isNumber: False\n",
      "isTopping: False\n",
      "isQuantity: False\n",
      "Word: \"kimchi\" -> \"kimchi\" not in vocab\n",
      "isPersonalPronoun: False\n",
      "isNumber: False\n",
      "isTopping: False\n",
      "isQuantity: False\n"
     ]
    },
    {
     "name": "stderr",
     "output_type": "stream",
     "text": [
      "writing results:  10%|█         | 416/4000 [00:42<06:19,  9.45it/s]"
     ]
    },
    {
     "name": "stdout",
     "output_type": "stream",
     "text": [
      "Word: \"kimchi\" -> \"kimchi\" not in vocab\n",
      "isPersonalPronoun: False\n",
      "isNumber: False\n",
      "isTopping: False\n",
      "isQuantity: False\n",
      "Word: \"happy\" -> \"happi\" not in vocab\n",
      "isPersonalPronoun: False\n",
      "isNumber: False\n",
      "isTopping: False\n",
      "isQuantity: False\n",
      "Word: \"smoked\" -> \"smoke\" not in vocab\n",
      "isPersonalPronoun: False\n",
      "isNumber: False\n",
      "isTopping: False\n",
      "isQuantity: False\n",
      "Word: \"salmon\" -> \"salmon\" not in vocab\n",
      "isPersonalPronoun: False\n",
      "isNumber: False\n",
      "isTopping: False\n",
      "isQuantity: False\n"
     ]
    },
    {
     "name": "stderr",
     "output_type": "stream",
     "text": [
      "writing results:  11%|█         | 422/4000 [00:43<04:04, 14.64it/s]"
     ]
    },
    {
     "name": "stdout",
     "output_type": "stream",
     "text": [
      "Word: \"smoked\" -> \"smoke\" not in vocab\n",
      "isPersonalPronoun: False\n",
      "isNumber: False\n",
      "isTopping: False\n",
      "isQuantity: False\n",
      "Word: \"salmon\" -> \"salmon\" not in vocab\n",
      "isPersonalPronoun: False\n",
      "isNumber: False\n",
      "isTopping: False\n",
      "isQuantity: False\n",
      "Word: \"cutup\" -> \"cutup\" not in vocab\n",
      "isPersonalPronoun: False\n",
      "isNumber: False\n",
      "isTopping: False\n",
      "isQuantity: False\n",
      "Word: \"ET\" -> \"et\" not in vocab\n",
      "isPersonalPronoun: False\n",
      "isNumber: False\n",
      "isTopping: False\n",
      "isQuantity: False\n"
     ]
    },
    {
     "name": "stderr",
     "output_type": "stream",
     "text": [
      "writing results:  11%|█         | 425/4000 [00:43<03:48, 15.67it/s]"
     ]
    },
    {
     "name": "stdout",
     "output_type": "stream",
     "text": [
      "Word: \"goat\" -> \"goat\" not in vocab\n",
      "isPersonalPronoun: False\n",
      "isNumber: False\n",
      "isTopping: False\n",
      "isQuantity: False\n",
      "Word: \"goat\" -> \"goat\" not in vocab\n",
      "isPersonalPronoun: False\n",
      "isNumber: False\n",
      "isTopping: False\n",
      "isQuantity: False\n",
      "Word: \"sweet\" -> \"sweet\" not in vocab\n",
      "isPersonalPronoun: False\n",
      "isNumber: False\n",
      "isTopping: False\n",
      "isQuantity: False\n",
      "Word: \"sweet\" -> \"sweet\" not in vocab\n",
      "isPersonalPronoun: False\n",
      "isNumber: False\n",
      "isTopping: False\n",
      "isQuantity: False\n"
     ]
    },
    {
     "name": "stderr",
     "output_type": "stream",
     "text": [
      "writing results:  11%|█         | 427/4000 [00:43<07:00,  8.50it/s]"
     ]
    },
    {
     "name": "stdout",
     "output_type": "stream",
     "text": [
      "Word: \"lie\" -> \"lie\" not in vocab\n",
      "isPersonalPronoun: False\n",
      "isNumber: False\n",
      "isTopping: False\n",
      "isQuantity: False\n",
      "Word: \"footing\" -> \"foot\" not in vocab\n",
      "isPersonalPronoun: False\n",
      "isNumber: False\n",
      "isTopping: False\n",
      "isQuantity: True\n",
      "Word: \"medium size\" -> \"medium s\" not in vocab\n",
      "isPersonalPronoun: False\n",
      "isNumber: False\n",
      "isTopping: False\n",
      "isQuantity: False\n"
     ]
    },
    {
     "name": "stderr",
     "output_type": "stream",
     "text": [
      "writing results:  11%|█         | 431/4000 [00:44<06:20,  9.38it/s]"
     ]
    },
    {
     "name": "stdout",
     "output_type": "stream",
     "text": [
      "Word: \"medium size\" -> \"medium s\" not in vocab\n",
      "isPersonalPronoun: False\n",
      "isNumber: False\n",
      "isTopping: False\n",
      "isQuantity: False\n",
      "Word: \"chard\" -> \"chard\" not in vocab\n",
      "isPersonalPronoun: False\n",
      "isNumber: False\n",
      "isTopping: False\n",
      "isQuantity: False\n",
      "Word: \"chard\" -> \"chard\" not in vocab\n",
      "isPersonalPronoun: False\n",
      "isNumber: False\n",
      "isTopping: False\n",
      "isQuantity: False\n"
     ]
    },
    {
     "name": "stderr",
     "output_type": "stream",
     "text": [
      "writing results:  11%|█         | 434/4000 [00:44<05:50, 10.17it/s]"
     ]
    },
    {
     "name": "stdout",
     "output_type": "stream",
     "text": [
      "Word: \"mint\" -> \"mint\" not in vocab\n",
      "isPersonalPronoun: False\n",
      "isNumber: False\n",
      "isTopping: False\n",
      "isQuantity: False\n",
      "Word: \"mint\" -> \"mint\" not in vocab\n",
      "isPersonalPronoun: False\n",
      "isNumber: False\n",
      "isTopping: False\n",
      "isQuantity: False\n",
      "Word: \"grape\" -> \"grape\" not in vocab\n",
      "isPersonalPronoun: False\n",
      "isNumber: False\n",
      "isTopping: True\n",
      "isQuantity: False\n",
      "Word: \"juice\" -> \"juic\" not in vocab\n",
      "isPersonalPronoun: False\n",
      "isNumber: False\n",
      "isTopping: False\n",
      "isQuantity: False\n",
      "Word: \"grape\" -> \"grape\" not in vocab\n",
      "isPersonalPronoun: False\n",
      "isNumber: False\n",
      "isTopping: True\n",
      "isQuantity: False\n",
      "Word: \"juice\" -> \"juic\" not in vocab\n",
      "isPersonalPronoun: False\n",
      "isNumber: False\n",
      "isTopping: False\n",
      "isQuantity: False\n"
     ]
    },
    {
     "name": "stderr",
     "output_type": "stream",
     "text": [
      "writing results:  11%|█         | 436/4000 [00:44<06:06,  9.72it/s]"
     ]
    },
    {
     "name": "stdout",
     "output_type": "stream",
     "text": [
      "Word: \"leeks\" -> \"leek\" not in vocab\n",
      "isPersonalPronoun: False\n",
      "isNumber: False\n",
      "isTopping: True\n",
      "isQuantity: False\n",
      "Word: \"leeks\" -> \"leek\" not in vocab\n",
      "isPersonalPronoun: False\n",
      "isNumber: False\n",
      "isTopping: True\n",
      "isQuantity: False\n",
      "Word: \"Togo\" -> \"togo\" not in vocab\n",
      "isPersonalPronoun: False\n",
      "isNumber: False\n",
      "isTopping: False\n",
      "isQuantity: False\n"
     ]
    },
    {
     "name": "stderr",
     "output_type": "stream",
     "text": [
      "writing results:  11%|█         | 444/4000 [00:45<03:29, 16.96it/s]"
     ]
    },
    {
     "name": "stdout",
     "output_type": "stream",
     "text": [
      "Word: \"leeks\" -> \"leek\" not in vocab\n",
      "isPersonalPronoun: False\n",
      "isNumber: False\n",
      "isTopping: True\n",
      "isQuantity: False\n",
      "Word: \"leeks\" -> \"leek\" not in vocab\n",
      "isPersonalPronoun: False\n",
      "isNumber: False\n",
      "isTopping: True\n",
      "isQuantity: False\n",
      "Word: \"tree\" -> \"tree\" not in vocab\n",
      "isPersonalPronoun: False\n",
      "isNumber: False\n",
      "isTopping: False\n",
      "isQuantity: False\n",
      "Word: \"rd\" -> \"rd\" not in vocab\n",
      "isPersonalPronoun: False\n",
      "isNumber: False\n",
      "isTopping: False\n",
      "isQuantity: False\n",
      "Word: \"rd\" -> \"rd\" not in vocab\n",
      "isPersonalPronoun: False\n",
      "isNumber: False\n",
      "isTopping: False\n",
      "isQuantity: False\n"
     ]
    },
    {
     "name": "stderr",
     "output_type": "stream",
     "text": [
      "writing results:  11%|█         | 447/4000 [00:46<09:55,  5.96it/s]"
     ]
    },
    {
     "name": "stdout",
     "output_type": "stream",
     "text": [
      "Word: \"goodafternoon\" -> \"goodafternoon\" not in vocab\n",
      "isPersonalPronoun: False\n",
      "isNumber: False\n",
      "isTopping: False\n",
      "isQuantity: False\n",
      "Word: \"lamb\" -> \"lamb\" not in vocab\n",
      "isPersonalPronoun: False\n",
      "isNumber: False\n",
      "isTopping: False\n",
      "isQuantity: False\n",
      "Word: \"smoked\" -> \"smoke\" not in vocab\n",
      "isPersonalPronoun: False\n",
      "isNumber: False\n",
      "isTopping: False\n",
      "isQuantity: False\n",
      "Word: \"salmon\" -> \"salmon\" not in vocab\n",
      "isPersonalPronoun: False\n",
      "isNumber: False\n",
      "isTopping: False\n",
      "isQuantity: False\n",
      "Word: \"lamb\" -> \"lamb\" not in vocab\n",
      "isPersonalPronoun: False\n",
      "isNumber: False\n",
      "isTopping: False\n",
      "isQuantity: False\n",
      "Word: \"smoked\" -> \"smoke\" not in vocab\n",
      "isPersonalPronoun: False\n",
      "isNumber: False\n",
      "isTopping: False\n",
      "isQuantity: False\n",
      "Word: \"salmon\" -> \"salmon\" not in vocab\n",
      "isPersonalPronoun: False\n",
      "isNumber: False\n",
      "isTopping: False\n",
      "isQuantity: False\n"
     ]
    },
    {
     "name": "stderr",
     "output_type": "stream",
     "text": [
      "writing results:  11%|█▏        | 454/4000 [00:47<07:56,  7.44it/s]"
     ]
    },
    {
     "name": "stdout",
     "output_type": "stream",
     "text": [
      "Word: \"paltry\" -> \"paltri\" not in vocab\n",
      "isPersonalPronoun: False\n",
      "isNumber: False\n",
      "isTopping: False\n",
      "isQuantity: False\n",
      "Word: \"blue\" -> \"blue\" not in vocab\n",
      "isPersonalPronoun: False\n",
      "isNumber: False\n",
      "isTopping: False\n",
      "isQuantity: False\n",
      "Word: \"blue\" -> \"blue\" not in vocab\n",
      "isPersonalPronoun: False\n",
      "isNumber: False\n",
      "isTopping: False\n",
      "isQuantity: False\n",
      "Word: \"blue\" -> \"blue\" not in vocab\n",
      "isPersonalPronoun: False\n",
      "isNumber: False\n",
      "isTopping: False\n",
      "isQuantity: False\n"
     ]
    },
    {
     "name": "stderr",
     "output_type": "stream",
     "text": [
      "writing results:  11%|█▏        | 456/4000 [00:47<07:09,  8.25it/s]"
     ]
    },
    {
     "name": "stdout",
     "output_type": "stream",
     "text": [
      "Word: \"blue\" -> \"blue\" not in vocab\n",
      "isPersonalPronoun: False\n",
      "isNumber: False\n",
      "isTopping: False\n",
      "isQuantity: False\n",
      "Word: \"heavy\" -> \"heavi\" not in vocab\n",
      "isPersonalPronoun: False\n",
      "isNumber: False\n",
      "isTopping: False\n",
      "isQuantity: False\n"
     ]
    },
    {
     "name": "stderr",
     "output_type": "stream",
     "text": [
      "writing results:  12%|█▏        | 460/4000 [00:47<05:55,  9.96it/s]"
     ]
    },
    {
     "name": "stdout",
     "output_type": "stream",
     "text": [
      "Word: \"heavy\" -> \"heavi\" not in vocab\n",
      "isPersonalPronoun: False\n",
      "isNumber: False\n",
      "isTopping: False\n",
      "isQuantity: False\n",
      "Word: \"prawns\" -> \"prawn\" not in vocab\n",
      "isPersonalPronoun: False\n",
      "isNumber: False\n",
      "isTopping: False\n",
      "isQuantity: False\n",
      "Word: \"prawns\" -> \"prawn\" not in vocab\n",
      "isPersonalPronoun: False\n",
      "isNumber: False\n",
      "isTopping: False\n",
      "isQuantity: False\n",
      "Word: \"arrange\" -> \"arrang\" not in vocab\n",
      "isPersonalPronoun: False\n",
      "isNumber: False\n",
      "isTopping: False\n",
      "isQuantity: False\n"
     ]
    },
    {
     "name": "stderr",
     "output_type": "stream",
     "text": [
      "writing results:  12%|█▏        | 464/4000 [00:48<05:41, 10.35it/s]"
     ]
    },
    {
     "name": "stdout",
     "output_type": "stream",
     "text": [
      "Word: \"chose\" -> \"chose\" not in vocab\n",
      "isPersonalPronoun: False\n",
      "isNumber: False\n",
      "isTopping: False\n",
      "isQuantity: False\n",
      "Word: \"chad\" -> \"chad\" not in vocab\n",
      "isPersonalPronoun: False\n",
      "isNumber: False\n",
      "isTopping: False\n",
      "isQuantity: False\n",
      "Word: \"chad\" -> \"chad\" not in vocab\n",
      "isPersonalPronoun: False\n",
      "isNumber: False\n",
      "isTopping: False\n",
      "isQuantity: False\n",
      "Word: \"duck\" -> \"duck\" not in vocab\n",
      "isPersonalPronoun: False\n",
      "isNumber: False\n",
      "isTopping: False\n",
      "isQuantity: False\n",
      "Word: \"duck\" -> \"duck\" not in vocab\n",
      "isPersonalPronoun: False\n",
      "isNumber: False\n",
      "isTopping: False\n",
      "isQuantity: False\n"
     ]
    },
    {
     "name": "stderr",
     "output_type": "stream",
     "text": [
      "writing results:  12%|█▏        | 466/4000 [00:48<05:23, 10.91it/s]"
     ]
    },
    {
     "name": "stdout",
     "output_type": "stream",
     "text": [
      "Word: \"Godhead\" -> \"godhead\" not in vocab\n",
      "isPersonalPronoun: False\n",
      "isNumber: False\n",
      "isTopping: False\n",
      "isQuantity: False\n",
      "Word: \"cabbage\" -> \"cabbag\" not in vocab\n",
      "isPersonalPronoun: False\n",
      "isNumber: False\n",
      "isTopping: False\n",
      "isQuantity: False\n",
      "Word: \"cabbage\" -> \"cabbag\" not in vocab\n",
      "isPersonalPronoun: False\n",
      "isNumber: False\n",
      "isTopping: False\n",
      "isQuantity: False\n"
     ]
    },
    {
     "name": "stderr",
     "output_type": "stream",
     "text": [
      "writing results:  12%|█▏        | 470/4000 [00:48<05:13, 11.24it/s]"
     ]
    },
    {
     "name": "stdout",
     "output_type": "stream",
     "text": [
      "Word: \"finalize\" -> \"final\" not in vocab\n",
      "isPersonalPronoun: False\n",
      "isNumber: False\n",
      "isTopping: False\n",
      "isQuantity: False\n",
      "Word: \"black olive\" -> \"black ol\" not in vocab\n",
      "isPersonalPronoun: False\n",
      "isNumber: False\n",
      "isTopping: False\n",
      "isQuantity: False\n",
      "Word: \"black olive\" -> \"black ol\" not in vocab\n",
      "isPersonalPronoun: False\n",
      "isNumber: False\n",
      "isTopping: False\n",
      "isQuantity: False\n"
     ]
    },
    {
     "name": "stderr",
     "output_type": "stream",
     "text": [
      "writing results:  12%|█▏        | 475/4000 [00:48<04:08, 14.17it/s]"
     ]
    },
    {
     "name": "stdout",
     "output_type": "stream",
     "text": [
      "Word: \"duck\" -> \"duck\" not in vocab\n",
      "isPersonalPronoun: False\n",
      "isNumber: False\n",
      "isTopping: False\n",
      "isQuantity: False\n",
      "Word: \"duck\" -> \"duck\" not in vocab\n",
      "isPersonalPronoun: False\n",
      "isNumber: False\n",
      "isTopping: False\n",
      "isQuantity: False\n",
      "Word: \"hummus\" -> \"hummu\" not in vocab\n",
      "isPersonalPronoun: False\n",
      "isNumber: False\n",
      "isTopping: False\n",
      "isQuantity: False\n",
      "Word: \"hummus\" -> \"hummu\" not in vocab\n",
      "isPersonalPronoun: False\n",
      "isNumber: False\n",
      "isTopping: False\n",
      "isQuantity: False\n"
     ]
    },
    {
     "name": "stderr",
     "output_type": "stream",
     "text": [
      "writing results:  12%|█▏        | 477/4000 [00:49<04:00, 14.67it/s]"
     ]
    },
    {
     "name": "stdout",
     "output_type": "stream",
     "text": [
      "Word: \"sauted\" -> \"saut\" not in vocab\n",
      "isPersonalPronoun: False\n",
      "isNumber: False\n",
      "isTopping: False\n",
      "isQuantity: False\n",
      "Word: \"sauted\" -> \"saut\" not in vocab\n",
      "isPersonalPronoun: False\n",
      "isNumber: False\n",
      "isTopping: False\n",
      "isQuantity: False\n",
      "Word: \"sort\" -> \"sort\" not in vocab\n",
      "isPersonalPronoun: False\n",
      "isNumber: False\n",
      "isTopping: False\n",
      "isQuantity: False\n",
      "Word: \"extralarge\" -> \"extralarg\" not in vocab\n",
      "isPersonalPronoun: False\n",
      "isNumber: False\n",
      "isTopping: False\n",
      "isQuantity: False\n"
     ]
    },
    {
     "name": "stderr",
     "output_type": "stream",
     "text": [
      "writing results:  12%|█▏        | 479/4000 [00:50<14:24,  4.07it/s]"
     ]
    },
    {
     "name": "stdout",
     "output_type": "stream",
     "text": [
      "Word: \"extralarge\" -> \"extralarg\" not in vocab\n",
      "isPersonalPronoun: False\n",
      "isNumber: False\n",
      "isTopping: False\n",
      "isQuantity: False\n",
      "Word: \"arrange\" -> \"arrang\" not in vocab\n",
      "isPersonalPronoun: False\n",
      "isNumber: False\n",
      "isTopping: False\n",
      "isQuantity: False\n"
     ]
    },
    {
     "name": "stderr",
     "output_type": "stream",
     "text": [
      "writing results:  12%|█▏        | 483/4000 [00:51<15:08,  3.87it/s]"
     ]
    },
    {
     "name": "stdout",
     "output_type": "stream",
     "text": [
      "Word: \"arrange\" -> \"arrang\" not in vocab\n",
      "isPersonalPronoun: False\n",
      "isNumber: False\n",
      "isTopping: False\n",
      "isQuantity: False\n",
      "Word: \"chard\" -> \"chard\" not in vocab\n",
      "isPersonalPronoun: False\n",
      "isNumber: False\n",
      "isTopping: False\n",
      "isQuantity: False\n",
      "Word: \"back\" -> \"back\" not in vocab\n",
      "isPersonalPronoun: False\n",
      "isNumber: False\n",
      "isTopping: False\n",
      "isQuantity: False\n",
      "Word: \"chard\" -> \"chard\" not in vocab\n",
      "isPersonalPronoun: False\n",
      "isNumber: False\n",
      "isTopping: False\n",
      "isQuantity: False\n",
      "Word: \"back\" -> \"back\" not in vocab\n",
      "isPersonalPronoun: False\n",
      "isNumber: False\n",
      "isTopping: False\n",
      "isQuantity: False\n"
     ]
    },
    {
     "name": "stderr",
     "output_type": "stream",
     "text": [
      "writing results:  12%|█▏        | 488/4000 [00:51<07:34,  7.73it/s]"
     ]
    },
    {
     "name": "stdout",
     "output_type": "stream",
     "text": [
      "Word: \"hummus\" -> \"hummu\" not in vocab\n",
      "isPersonalPronoun: False\n",
      "isNumber: False\n",
      "isTopping: False\n",
      "isQuantity: False\n",
      "Word: \"hummus\" -> \"hummu\" not in vocab\n",
      "isPersonalPronoun: False\n",
      "isNumber: False\n",
      "isTopping: False\n",
      "isQuantity: False\n",
      "Word: \"stick\" -> \"stick\" not in vocab\n",
      "isPersonalPronoun: False\n",
      "isNumber: False\n",
      "isTopping: False\n",
      "isQuantity: False\n",
      "Word: \"arrange\" -> \"arrang\" not in vocab\n",
      "isPersonalPronoun: False\n",
      "isNumber: False\n",
      "isTopping: False\n",
      "isQuantity: False\n",
      "Word: \"sirach\" -> \"sirach\" not in vocab\n",
      "isPersonalPronoun: False\n",
      "isNumber: False\n",
      "isTopping: False\n",
      "isQuantity: False\n",
      "Word: \"sauted\" -> \"saut\" not in vocab\n",
      "isPersonalPronoun: False\n",
      "isNumber: False\n",
      "isTopping: False\n",
      "isQuantity: False\n",
      "Word: \"sauted\" -> \"saut\" not in vocab\n",
      "isPersonalPronoun: False\n",
      "isNumber: False\n",
      "isTopping: False\n",
      "isQuantity: False\n"
     ]
    },
    {
     "name": "stderr",
     "output_type": "stream",
     "text": [
      "writing results:  12%|█▏        | 497/4000 [00:52<06:33,  8.91it/s]"
     ]
    },
    {
     "name": "stdout",
     "output_type": "stream",
     "text": [
      "Word: \"sirach\" -> \"sirach\" not in vocab\n",
      "isPersonalPronoun: False\n",
      "isNumber: False\n",
      "isTopping: False\n",
      "isQuantity: False\n",
      "Word: \"sauted\" -> \"saut\" not in vocab\n",
      "isPersonalPronoun: False\n",
      "isNumber: False\n",
      "isTopping: False\n",
      "isQuantity: False\n",
      "Word: \"sauted\" -> \"saut\" not in vocab\n",
      "isPersonalPronoun: False\n",
      "isNumber: False\n",
      "isTopping: False\n",
      "isQuantity: False\n"
     ]
    },
    {
     "name": "stderr",
     "output_type": "stream",
     "text": [
      "writing results:  12%|█▎        | 500/4000 [00:53<05:33, 10.48it/s]"
     ]
    },
    {
     "name": "stdout",
     "output_type": "stream",
     "text": [
      "Word: \"duck\" -> \"duck\" not in vocab\n",
      "isPersonalPronoun: False\n",
      "isNumber: False\n",
      "isTopping: False\n",
      "isQuantity: False\n",
      "Word: \"duck\" -> \"duck\" not in vocab\n",
      "isPersonalPronoun: False\n",
      "isNumber: False\n",
      "isTopping: False\n",
      "isQuantity: False\n",
      "Word: \"medium size\" -> \"medium s\" not in vocab\n",
      "isPersonalPronoun: False\n",
      "isNumber: False\n",
      "isTopping: False\n",
      "isQuantity: False\n"
     ]
    },
    {
     "name": "stderr",
     "output_type": "stream",
     "text": [
      "writing results:  13%|█▎        | 508/4000 [00:53<03:53, 14.94it/s]"
     ]
    },
    {
     "name": "stdout",
     "output_type": "stream",
     "text": [
      "Word: \"medium size\" -> \"medium s\" not in vocab\n",
      "isPersonalPronoun: False\n",
      "isNumber: False\n",
      "isTopping: False\n",
      "isQuantity: False\n",
      "Word: \"leaning\" -> \"lean\" not in vocab\n",
      "isPersonalPronoun: False\n",
      "isNumber: False\n",
      "isTopping: False\n",
      "isQuantity: False\n",
      "Word: \"toward\" -> \"toward\" not in vocab\n",
      "isPersonalPronoun: False\n",
      "isNumber: False\n",
      "isTopping: False\n",
      "isQuantity: False\n",
      "Word: \"almond\" -> \"almond\" not in vocab\n",
      "isPersonalPronoun: False\n",
      "isNumber: False\n",
      "isTopping: False\n",
      "isQuantity: False\n"
     ]
    },
    {
     "name": "stderr",
     "output_type": "stream",
     "text": [
      "writing results:  13%|█▎        | 511/4000 [00:53<03:42, 15.66it/s]"
     ]
    },
    {
     "name": "stdout",
     "output_type": "stream",
     "text": [
      "Word: \"almond\" -> \"almond\" not in vocab\n",
      "isPersonalPronoun: False\n",
      "isNumber: False\n",
      "isTopping: False\n",
      "isQuantity: False\n",
      "Word: \"smoked\" -> \"smoke\" not in vocab\n",
      "isPersonalPronoun: False\n",
      "isNumber: False\n",
      "isTopping: False\n",
      "isQuantity: False\n",
      "Word: \"salmon\" -> \"salmon\" not in vocab\n",
      "isPersonalPronoun: False\n",
      "isNumber: False\n",
      "isTopping: False\n",
      "isQuantity: False\n"
     ]
    },
    {
     "name": "stderr",
     "output_type": "stream",
     "text": [
      "writing results:  13%|█▎        | 514/4000 [00:53<03:35, 16.15it/s]"
     ]
    },
    {
     "name": "stdout",
     "output_type": "stream",
     "text": [
      "Word: \"smoked\" -> \"smoke\" not in vocab\n",
      "isPersonalPronoun: False\n",
      "isNumber: False\n",
      "isTopping: False\n",
      "isQuantity: False\n",
      "Word: \"salmon\" -> \"salmon\" not in vocab\n",
      "isPersonalPronoun: False\n",
      "isNumber: False\n",
      "isTopping: False\n",
      "isQuantity: False\n",
      "Word: \"big meat\" -> \"big meat\" not in vocab\n",
      "isPersonalPronoun: False\n",
      "isNumber: False\n",
      "isTopping: False\n",
      "isQuantity: False\n",
      "Word: \"big meat\" -> \"big meat\" not in vocab\n",
      "isPersonalPronoun: False\n",
      "isNumber: False\n",
      "isTopping: False\n",
      "isQuantity: False\n"
     ]
    },
    {
     "name": "stderr",
     "output_type": "stream",
     "text": [
      "writing results:  13%|█▎        | 520/4000 [00:54<04:25, 13.12it/s]"
     ]
    },
    {
     "name": "stdout",
     "output_type": "stream",
     "text": [
      "Word: \"ll try\" -> \"ll tri\" not in vocab\n",
      "isPersonalPronoun: False\n",
      "isNumber: False\n",
      "isTopping: False\n",
      "isQuantity: False\n",
      "Word: \"PSP\" -> \"psp\" not in vocab\n",
      "isPersonalPronoun: False\n",
      "isNumber: False\n",
      "isTopping: False\n",
      "isQuantity: False\n",
      "Word: \"PSP\" -> \"psp\" not in vocab\n",
      "isPersonalPronoun: False\n",
      "isNumber: False\n",
      "isTopping: False\n",
      "isQuantity: False\n"
     ]
    },
    {
     "name": "stderr",
     "output_type": "stream",
     "text": [
      "writing results:  13%|█▎        | 522/4000 [00:54<04:16, 13.58it/s]"
     ]
    },
    {
     "name": "stdout",
     "output_type": "stream",
     "text": [
      "Word: \"goat\" -> \"goat\" not in vocab\n",
      "isPersonalPronoun: False\n",
      "isNumber: False\n",
      "isTopping: False\n",
      "isQuantity: False\n",
      "Word: \"goat\" -> \"goat\" not in vocab\n",
      "isPersonalPronoun: False\n",
      "isNumber: False\n",
      "isTopping: False\n",
      "isQuantity: False\n",
      "Word: \"about placing\" -> \"about plac\" not in vocab\n",
      "isPersonalPronoun: False\n",
      "isNumber: False\n",
      "isTopping: False\n",
      "isQuantity: False\n"
     ]
    },
    {
     "name": "stderr",
     "output_type": "stream",
     "text": [
      "writing results:  13%|█▎        | 527/4000 [00:54<03:59, 14.48it/s]"
     ]
    },
    {
     "name": "stdout",
     "output_type": "stream",
     "text": [
      "Word: \"already\" -> \"alreadi\" not in vocab\n",
      "isPersonalPronoun: False\n",
      "isNumber: False\n",
      "isTopping: False\n",
      "isQuantity: False\n",
      "Word: \"mushy\" -> \"mushi\" not in vocab\n",
      "isPersonalPronoun: False\n",
      "isNumber: False\n",
      "isTopping: False\n",
      "isQuantity: False\n",
      "Word: \"mushy\" -> \"mushi\" not in vocab\n",
      "isPersonalPronoun: False\n",
      "isNumber: False\n",
      "isTopping: False\n",
      "isQuantity: False\n",
      "Word: \"grabbing\" -> \"grab\" not in vocab\n",
      "isPersonalPronoun: False\n",
      "isNumber: False\n",
      "isTopping: False\n",
      "isQuantity: False\n",
      "Word: \"like to\" -> \"like to\" not in vocab\n",
      "isPersonalPronoun: False\n",
      "isNumber: False\n",
      "isTopping: False\n",
      "isQuantity: False\n"
     ]
    },
    {
     "name": "stderr",
     "output_type": "stream",
     "text": [
      "writing results:  13%|█▎        | 531/4000 [00:54<03:24, 16.99it/s]"
     ]
    },
    {
     "name": "stdout",
     "output_type": "stream",
     "text": [
      "Word: \"gie\" -> \"gie\" not in vocab\n",
      "isPersonalPronoun: False\n",
      "isNumber: False\n",
      "isTopping: False\n",
      "isQuantity: False\n",
      "Word: \"sparkling\" -> \"sparkl\" not in vocab\n",
      "isPersonalPronoun: False\n",
      "isNumber: False\n",
      "isTopping: False\n",
      "isQuantity: False\n",
      "Word: \"sparkling\" -> \"sparkl\" not in vocab\n",
      "isPersonalPronoun: False\n",
      "isNumber: False\n",
      "isTopping: False\n",
      "isQuantity: False\n"
     ]
    },
    {
     "name": "stderr",
     "output_type": "stream",
     "text": [
      "writing results:  13%|█▎        | 535/4000 [00:55<05:44, 10.07it/s]"
     ]
    },
    {
     "name": "stdout",
     "output_type": "stream",
     "text": [
      "Word: \"arrange\" -> \"arrang\" not in vocab\n",
      "isPersonalPronoun: False\n",
      "isNumber: False\n",
      "isTopping: False\n",
      "isQuantity: False\n",
      "Word: \"leeks\" -> \"leek\" not in vocab\n",
      "isPersonalPronoun: False\n",
      "isNumber: False\n",
      "isTopping: True\n",
      "isQuantity: False\n"
     ]
    },
    {
     "name": "stderr",
     "output_type": "stream",
     "text": [
      "writing results:  13%|█▎        | 539/4000 [00:56<05:35, 10.33it/s]"
     ]
    },
    {
     "name": "stdout",
     "output_type": "stream",
     "text": [
      "Word: \"i've\" -> \"i'v\" not in vocab\n",
      "isPersonalPronoun: False\n",
      "isNumber: False\n",
      "isTopping: False\n",
      "isQuantity: False\n",
      "Word: \"decided to\" -> \"decided to\" not in vocab\n",
      "isPersonalPronoun: False\n",
      "isNumber: False\n",
      "isTopping: False\n",
      "isQuantity: False\n",
      "Word: \"opting\" -> \"opt\" not in vocab\n",
      "isPersonalPronoun: False\n",
      "isNumber: False\n",
      "isTopping: False\n",
      "isQuantity: False\n",
      "Word: \"cucumber\" -> \"cucumb\" not in vocab\n",
      "isPersonalPronoun: False\n",
      "isNumber: False\n",
      "isTopping: False\n",
      "isQuantity: False\n",
      "Word: \"cucumber\" -> \"cucumb\" not in vocab\n",
      "isPersonalPronoun: False\n",
      "isNumber: False\n",
      "isTopping: False\n",
      "isQuantity: False\n",
      "Word: \"footing\" -> \"foot\" not in vocab\n",
      "isPersonalPronoun: False\n",
      "isNumber: False\n",
      "isTopping: False\n",
      "isQuantity: True\n"
     ]
    },
    {
     "name": "stderr",
     "output_type": "stream",
     "text": [
      "writing results:  14%|█▎        | 544/4000 [00:56<07:07,  8.08it/s]"
     ]
    },
    {
     "name": "stdout",
     "output_type": "stream",
     "text": [
      "Word: \"footing\" -> \"foot\" not in vocab\n",
      "isPersonalPronoun: False\n",
      "isNumber: False\n",
      "isTopping: False\n",
      "isQuantity: True\n",
      "Word: \"sparkling\" -> \"sparkl\" not in vocab\n",
      "isPersonalPronoun: False\n",
      "isNumber: False\n",
      "isTopping: False\n",
      "isQuantity: False\n",
      "Word: \"sparkling\" -> \"sparkl\" not in vocab\n",
      "isPersonalPronoun: False\n",
      "isNumber: False\n",
      "isTopping: False\n",
      "isQuantity: False\n",
      "Word: \"lamb\" -> \"lamb\" not in vocab\n",
      "isPersonalPronoun: False\n",
      "isNumber: False\n",
      "isTopping: False\n",
      "isQuantity: False\n",
      "Word: \"lamb\" -> \"lamb\" not in vocab\n",
      "isPersonalPronoun: False\n",
      "isNumber: False\n",
      "isTopping: False\n",
      "isQuantity: False\n",
      "Word: \"lamb\" -> \"lamb\" not in vocab\n",
      "isPersonalPronoun: False\n",
      "isNumber: False\n",
      "isTopping: False\n",
      "isQuantity: False\n"
     ]
    },
    {
     "name": "stderr",
     "output_type": "stream",
     "text": [
      "writing results:  14%|█▎        | 548/4000 [00:57<05:17, 10.87it/s]"
     ]
    },
    {
     "name": "stdout",
     "output_type": "stream",
     "text": [
      "Word: \"almond\" -> \"almond\" not in vocab\n",
      "isPersonalPronoun: False\n",
      "isNumber: False\n",
      "isTopping: False\n",
      "isQuantity: False\n",
      "Word: \"almond\" -> \"almond\" not in vocab\n",
      "isPersonalPronoun: False\n",
      "isNumber: False\n",
      "isTopping: False\n",
      "isQuantity: False\n",
      "Word: \"leeks\" -> \"leek\" not in vocab\n",
      "isPersonalPronoun: False\n",
      "isNumber: False\n",
      "isTopping: True\n",
      "isQuantity: False\n",
      "Word: \"flavored\" -> \"flavor\" not in vocab\n",
      "isPersonalPronoun: False\n",
      "isNumber: False\n",
      "isTopping: False\n",
      "isQuantity: False\n",
      "Word: \"leeks\" -> \"leek\" not in vocab\n",
      "isPersonalPronoun: False\n",
      "isNumber: False\n",
      "isTopping: True\n",
      "isQuantity: False\n"
     ]
    },
    {
     "name": "stderr",
     "output_type": "stream",
     "text": [
      "writing results:  14%|█▍        | 554/4000 [00:57<04:14, 13.52it/s]"
     ]
    },
    {
     "name": "stdout",
     "output_type": "stream",
     "text": [
      "Word: \"flavored\" -> \"flavor\" not in vocab\n",
      "isPersonalPronoun: False\n",
      "isNumber: False\n",
      "isTopping: False\n",
      "isQuantity: False\n",
      "Word: \"lamb\" -> \"lamb\" not in vocab\n",
      "isPersonalPronoun: False\n",
      "isNumber: False\n",
      "isTopping: False\n",
      "isQuantity: False\n",
      "Word: \"secure\" -> \"secur\" not in vocab\n",
      "isPersonalPronoun: False\n",
      "isNumber: False\n",
      "isTopping: False\n",
      "isQuantity: False\n",
      "Word: \"refer\" -> \"refer\" not in vocab\n",
      "isPersonalPronoun: False\n",
      "isNumber: False\n",
      "isTopping: False\n",
      "isQuantity: False\n"
     ]
    },
    {
     "name": "stderr",
     "output_type": "stream",
     "text": [
      "writing results:  14%|█▍        | 562/4000 [00:57<02:57, 19.35it/s]"
     ]
    },
    {
     "name": "stdout",
     "output_type": "stream",
     "text": [
      "Word: \"mint\" -> \"mint\" not in vocab\n",
      "isPersonalPronoun: False\n",
      "isNumber: False\n",
      "isTopping: False\n",
      "isQuantity: False\n",
      "Word: \"mint\" -> \"mint\" not in vocab\n",
      "isPersonalPronoun: False\n",
      "isNumber: False\n",
      "isTopping: False\n",
      "isQuantity: False\n",
      "Word: \"chard\" -> \"chard\" not in vocab\n",
      "isPersonalPronoun: False\n",
      "isNumber: False\n",
      "isTopping: False\n",
      "isQuantity: False\n",
      "Word: \"chard\" -> \"chard\" not in vocab\n",
      "isPersonalPronoun: False\n",
      "isNumber: False\n",
      "isTopping: False\n",
      "isQuantity: False\n",
      "Word: \"bout\" -> \"bout\" not in vocab\n",
      "isPersonalPronoun: False\n",
      "isNumber: False\n",
      "isTopping: False\n",
      "isQuantity: False\n"
     ]
    },
    {
     "name": "stderr",
     "output_type": "stream",
     "text": [
      "writing results:  14%|█▍        | 565/4000 [00:57<02:55, 19.59it/s]"
     ]
    },
    {
     "name": "stdout",
     "output_type": "stream",
     "text": [
      "Word: \"settle\" -> \"settl\" not in vocab\n",
      "isPersonalPronoun: False\n",
      "isNumber: False\n",
      "isTopping: False\n",
      "isQuantity: False\n",
      "Word: \"median\" -> \"median\" not in vocab\n",
      "isPersonalPronoun: False\n",
      "isNumber: False\n",
      "isTopping: False\n",
      "isQuantity: False\n",
      "Word: \"lamb\" -> \"lamb\" not in vocab\n",
      "isPersonalPronoun: False\n",
      "isNumber: False\n",
      "isTopping: False\n",
      "isQuantity: False\n",
      "Word: \"median\" -> \"median\" not in vocab\n",
      "isPersonalPronoun: False\n",
      "isNumber: False\n",
      "isTopping: False\n",
      "isQuantity: False\n",
      "Word: \"lamb\" -> \"lamb\" not in vocab\n",
      "isPersonalPronoun: False\n",
      "isNumber: False\n",
      "isTopping: False\n",
      "isQuantity: False\n",
      "Word: \"mint\" -> \"mint\" not in vocab\n",
      "isPersonalPronoun: False\n",
      "isNumber: False\n",
      "isTopping: False\n",
      "isQuantity: False\n",
      "Word: \"mint\" -> \"mint\" not in vocab\n",
      "isPersonalPronoun: False\n",
      "isNumber: False\n",
      "isTopping: False\n",
      "isQuantity: False\n",
      "Word: \"settle\" -> \"settl\" not in vocab\n",
      "isPersonalPronoun: False\n",
      "isNumber: False\n",
      "isTopping: False\n",
      "isQuantity: False\n",
      "Word: \"cucumber\" -> \"cucumb\" not in vocab\n",
      "isPersonalPronoun: False\n",
      "isNumber: False\n",
      "isTopping: False\n",
      "isQuantity: False\n"
     ]
    },
    {
     "name": "stderr",
     "output_type": "stream",
     "text": [
      "writing results:  14%|█▍        | 572/4000 [00:58<04:01, 14.18it/s]"
     ]
    },
    {
     "name": "stdout",
     "output_type": "stream",
     "text": [
      "Word: \"settle\" -> \"settl\" not in vocab\n",
      "isPersonalPronoun: False\n",
      "isNumber: False\n",
      "isTopping: False\n",
      "isQuantity: False\n",
      "Word: \"cucumber\" -> \"cucumb\" not in vocab\n",
      "isPersonalPronoun: False\n",
      "isNumber: False\n",
      "isTopping: False\n",
      "isQuantity: False\n",
      "Word: \"lie\" -> \"lie\" not in vocab\n",
      "isPersonalPronoun: False\n",
      "isNumber: False\n",
      "isTopping: False\n",
      "isQuantity: False\n",
      "Word: \"cabbage\" -> \"cabbag\" not in vocab\n",
      "isPersonalPronoun: False\n",
      "isNumber: False\n",
      "isTopping: False\n",
      "isQuantity: False\n",
      "Word: \"cabbage\" -> \"cabbag\" not in vocab\n",
      "isPersonalPronoun: False\n",
      "isNumber: False\n",
      "isTopping: False\n",
      "isQuantity: False\n",
      "Word: \"cabbage\" -> \"cabbag\" not in vocab\n",
      "isPersonalPronoun: False\n",
      "isNumber: False\n",
      "isTopping: False\n",
      "isQuantity: False\n",
      "Word: \"cucumber\" -> \"cucumb\" not in vocab\n",
      "isPersonalPronoun: False\n",
      "isNumber: False\n",
      "isTopping: False\n",
      "isQuantity: False\n",
      "Word: \"cucumber\" -> \"cucumb\" not in vocab\n",
      "isPersonalPronoun: False\n",
      "isNumber: False\n",
      "isTopping: False\n",
      "isQuantity: False\n",
      "Word: \"sweet\" -> \"sweet\" not in vocab\n",
      "isPersonalPronoun: False\n",
      "isNumber: False\n",
      "isTopping: False\n",
      "isQuantity: False\n",
      "Word: \"sweet\" -> \"sweet\" not in vocab\n",
      "isPersonalPronoun: False\n",
      "isNumber: False\n",
      "isTopping: False\n",
      "isQuantity: False\n"
     ]
    },
    {
     "name": "stderr",
     "output_type": "stream",
     "text": [
      "writing results:  14%|█▍        | 579/4000 [00:59<04:05, 13.95it/s]"
     ]
    },
    {
     "name": "stdout",
     "output_type": "stream",
     "text": [
      "Word: \"i've\" -> \"i'v\" not in vocab\n",
      "isPersonalPronoun: False\n",
      "isNumber: False\n",
      "isTopping: False\n",
      "isQuantity: False\n",
      "Word: \"decided\" -> \"decid\" not in vocab\n",
      "isPersonalPronoun: False\n",
      "isNumber: False\n",
      "isTopping: False\n",
      "isQuantity: False\n",
      "Word: \"blue\" -> \"blue\" not in vocab\n",
      "isPersonalPronoun: False\n",
      "isNumber: False\n",
      "isTopping: False\n",
      "isQuantity: False\n",
      "Word: \"blue\" -> \"blue\" not in vocab\n",
      "isPersonalPronoun: False\n",
      "isNumber: False\n",
      "isTopping: False\n",
      "isQuantity: False\n",
      "Word: \"finalize\" -> \"final\" not in vocab\n",
      "isPersonalPronoun: False\n",
      "isNumber: False\n",
      "isTopping: False\n",
      "isQuantity: False\n",
      "Word: \"zest\" -> \"zest\" not in vocab\n",
      "isPersonalPronoun: False\n",
      "isNumber: False\n",
      "isTopping: False\n",
      "isQuantity: False\n",
      "Word: \"zest\" -> \"zest\" not in vocab\n",
      "isPersonalPronoun: False\n",
      "isNumber: False\n",
      "isTopping: False\n",
      "isQuantity: False\n",
      "Word: \"thee\" -> \"thee\" not in vocab\n",
      "isPersonalPronoun: False\n",
      "isNumber: False\n",
      "isTopping: False\n",
      "isQuantity: False\n",
      "Word: \"thee\" -> \"thee\" not in vocab\n",
      "isPersonalPronoun: False\n",
      "isNumber: False\n",
      "isTopping: False\n",
      "isQuantity: False\n"
     ]
    },
    {
     "name": "stderr",
     "output_type": "stream",
     "text": [
      "writing results:  15%|█▍        | 582/4000 [00:59<05:44,  9.93it/s]"
     ]
    },
    {
     "name": "stdout",
     "output_type": "stream",
     "text": [
      "Word: \"decide\" -> \"decid\" not in vocab\n",
      "isPersonalPronoun: False\n",
      "isNumber: False\n",
      "isTopping: False\n",
      "isQuantity: False\n",
      "Word: \"gruyeres\" -> \"gruyer\" not in vocab\n",
      "isPersonalPronoun: False\n",
      "isNumber: False\n",
      "isTopping: False\n",
      "isQuantity: False\n",
      "Word: \"ground beef\" -> \"ground beef\" not in vocab\n",
      "isPersonalPronoun: False\n",
      "isNumber: False\n",
      "isTopping: False\n",
      "isQuantity: False\n",
      "Word: \"gruyeres\" -> \"gruyer\" not in vocab\n",
      "isPersonalPronoun: False\n",
      "isNumber: False\n",
      "isTopping: False\n",
      "isQuantity: False\n",
      "Word: \"ground beef\" -> \"ground beef\" not in vocab\n",
      "isPersonalPronoun: False\n",
      "isNumber: False\n",
      "isTopping: False\n",
      "isQuantity: False\n"
     ]
    },
    {
     "name": "stderr",
     "output_type": "stream",
     "text": [
      "writing results:  15%|█▍        | 588/4000 [00:59<03:48, 14.96it/s]"
     ]
    },
    {
     "name": "stdout",
     "output_type": "stream",
     "text": [
      "Word: \"lamb\" -> \"lamb\" not in vocab\n",
      "isPersonalPronoun: False\n",
      "isNumber: False\n",
      "isTopping: False\n",
      "isQuantity: False\n",
      "Word: \"lamb\" -> \"lamb\" not in vocab\n",
      "isPersonalPronoun: False\n",
      "isNumber: False\n",
      "isTopping: False\n",
      "isQuantity: False\n",
      "Word: \"lamb\" -> \"lamb\" not in vocab\n",
      "isPersonalPronoun: False\n",
      "isNumber: False\n",
      "isTopping: False\n",
      "isQuantity: False\n"
     ]
    },
    {
     "name": "stderr",
     "output_type": "stream",
     "text": [
      "writing results:  15%|█▍        | 590/4000 [01:00<04:24, 12.87it/s]"
     ]
    },
    {
     "name": "stdout",
     "output_type": "stream",
     "text": [
      "Word: \"secure\" -> \"secur\" not in vocab\n",
      "isPersonalPronoun: False\n",
      "isNumber: False\n",
      "isTopping: False\n",
      "isQuantity: False\n",
      "Word: \"poppy\" -> \"poppi\" not in vocab\n",
      "isPersonalPronoun: False\n",
      "isNumber: False\n",
      "isTopping: False\n",
      "isQuantity: False\n",
      "Word: \"seeds\" -> \"seed\" not in vocab\n",
      "isPersonalPronoun: False\n",
      "isNumber: False\n",
      "isTopping: False\n",
      "isQuantity: False\n",
      "Word: \"poppy\" -> \"poppi\" not in vocab\n",
      "isPersonalPronoun: False\n",
      "isNumber: False\n",
      "isTopping: False\n",
      "isQuantity: False\n",
      "Word: \"seeds\" -> \"seed\" not in vocab\n",
      "isPersonalPronoun: False\n",
      "isNumber: False\n",
      "isTopping: False\n",
      "isQuantity: False\n",
      "Word: \"heavy\" -> \"heavi\" not in vocab\n",
      "isPersonalPronoun: False\n",
      "isNumber: False\n",
      "isTopping: False\n",
      "isQuantity: False\n"
     ]
    },
    {
     "name": "stderr",
     "output_type": "stream",
     "text": [
      "writing results:  15%|█▍        | 592/4000 [01:00<04:42, 12.08it/s]"
     ]
    },
    {
     "name": "stdout",
     "output_type": "stream",
     "text": [
      "Word: \"sweet\" -> \"sweet\" not in vocab\n",
      "isPersonalPronoun: False\n",
      "isNumber: False\n",
      "isTopping: False\n",
      "isQuantity: False\n",
      "Word: \"sweet\" -> \"sweet\" not in vocab\n",
      "isPersonalPronoun: False\n",
      "isNumber: False\n",
      "isTopping: False\n",
      "isQuantity: False\n",
      "Word: \"i've\" -> \"i'v\" not in vocab\n",
      "isPersonalPronoun: False\n",
      "isNumber: False\n",
      "isTopping: False\n",
      "isQuantity: False\n",
      "Word: \"decided\" -> \"decid\" not in vocab\n",
      "isPersonalPronoun: False\n",
      "isNumber: False\n",
      "isTopping: False\n",
      "isQuantity: False\n"
     ]
    },
    {
     "name": "stderr",
     "output_type": "stream",
     "text": [
      "writing results:  15%|█▌        | 605/4000 [01:00<02:30, 22.51it/s]"
     ]
    },
    {
     "name": "stdout",
     "output_type": "stream",
     "text": [
      "Word: \"finalize\" -> \"final\" not in vocab\n",
      "isPersonalPronoun: False\n",
      "isNumber: False\n",
      "isTopping: False\n",
      "isQuantity: False\n",
      "Word: \"flavored\" -> \"flavor\" not in vocab\n",
      "isPersonalPronoun: False\n",
      "isNumber: False\n",
      "isTopping: False\n",
      "isQuantity: False\n",
      "Word: \"flavored\" -> \"flavor\" not in vocab\n",
      "isPersonalPronoun: False\n",
      "isNumber: False\n",
      "isTopping: False\n",
      "isQuantity: False\n",
      "Word: \"bubble\" -> \"bubbl\" not in vocab\n",
      "isPersonalPronoun: False\n",
      "isNumber: False\n",
      "isTopping: False\n",
      "isQuantity: False\n",
      "Word: \"bubble\" -> \"bubbl\" not in vocab\n",
      "isPersonalPronoun: False\n",
      "isNumber: False\n",
      "isTopping: False\n",
      "isQuantity: False\n"
     ]
    },
    {
     "name": "stderr",
     "output_type": "stream",
     "text": [
      "writing results:  15%|█▌        | 608/4000 [01:00<02:24, 23.40it/s]"
     ]
    },
    {
     "name": "stdout",
     "output_type": "stream",
     "text": [
      "Word: \"die\" -> \"die\" not in vocab\n",
      "isPersonalPronoun: False\n",
      "isNumber: False\n",
      "isTopping: False\n",
      "isQuantity: False\n",
      "Word: \"die\" -> \"die\" not in vocab\n",
      "isPersonalPronoun: False\n",
      "isNumber: False\n",
      "isTopping: False\n",
      "isQuantity: False\n",
      "Word: \"enjoy\" -> \"enjoy\" not in vocab\n",
      "isPersonalPronoun: False\n",
      "isNumber: False\n",
      "isTopping: False\n",
      "isQuantity: False\n"
     ]
    },
    {
     "name": "stderr",
     "output_type": "stream",
     "text": [
      "writing results:  15%|█▌        | 617/4000 [01:01<02:28, 22.73it/s]"
     ]
    },
    {
     "name": "stdout",
     "output_type": "stream",
     "text": [
      "Word: \"heavy\" -> \"heavi\" not in vocab\n",
      "isPersonalPronoun: False\n",
      "isNumber: False\n",
      "isTopping: False\n",
      "isQuantity: False\n",
      "Word: \"heavy\" -> \"heavi\" not in vocab\n",
      "isPersonalPronoun: False\n",
      "isNumber: False\n",
      "isTopping: False\n",
      "isQuantity: False\n",
      "Word: \"juice\" -> \"juic\" not in vocab\n",
      "isPersonalPronoun: False\n",
      "isNumber: False\n",
      "isTopping: False\n",
      "isQuantity: False\n"
     ]
    },
    {
     "name": "stderr",
     "output_type": "stream",
     "text": [
      "writing results:  16%|█▌        | 620/4000 [01:01<03:18, 17.03it/s]"
     ]
    },
    {
     "name": "stdout",
     "output_type": "stream",
     "text": [
      "Word: \"juice\" -> \"juic\" not in vocab\n",
      "isPersonalPronoun: False\n",
      "isNumber: False\n",
      "isTopping: False\n",
      "isQuantity: False\n",
      "Word: \"pleas\" -> \"plea\" not in vocab\n",
      "isPersonalPronoun: False\n",
      "isNumber: False\n",
      "isTopping: False\n",
      "isQuantity: False\n",
      "Word: \"arrange\" -> \"arrang\" not in vocab\n",
      "isPersonalPronoun: False\n",
      "isNumber: False\n",
      "isTopping: False\n",
      "isQuantity: False\n",
      "Word: \"lamb\" -> \"lamb\" not in vocab\n",
      "isPersonalPronoun: False\n",
      "isNumber: False\n",
      "isTopping: False\n",
      "isQuantity: False\n",
      "Word: \"lamb\" -> \"lamb\" not in vocab\n",
      "isPersonalPronoun: False\n",
      "isNumber: False\n",
      "isTopping: False\n",
      "isQuantity: False\n"
     ]
    },
    {
     "name": "stderr",
     "output_type": "stream",
     "text": [
      "writing results:  16%|█▌        | 623/4000 [01:01<03:29, 16.15it/s]"
     ]
    },
    {
     "name": "stdout",
     "output_type": "stream",
     "text": [
      "Word: \"zest\" -> \"zest\" not in vocab\n",
      "isPersonalPronoun: False\n",
      "isNumber: False\n",
      "isTopping: False\n",
      "isQuantity: False\n",
      "Word: \"zest\" -> \"zest\" not in vocab\n",
      "isPersonalPronoun: False\n",
      "isNumber: False\n",
      "isTopping: False\n",
      "isQuantity: False\n",
      "Word: \"cucumber\" -> \"cucumb\" not in vocab\n",
      "isPersonalPronoun: False\n",
      "isNumber: False\n",
      "isTopping: False\n",
      "isQuantity: False\n",
      "Word: \"LOOF\" -> \"loof\" not in vocab\n",
      "isPersonalPronoun: False\n",
      "isNumber: False\n",
      "isTopping: False\n",
      "isQuantity: False\n",
      "Word: \"cucumber\" -> \"cucumb\" not in vocab\n",
      "isPersonalPronoun: False\n",
      "isNumber: False\n",
      "isTopping: False\n",
      "isQuantity: False\n"
     ]
    },
    {
     "name": "stderr",
     "output_type": "stream",
     "text": [
      "writing results:  16%|█▌        | 628/4000 [01:02<05:15, 10.67it/s]"
     ]
    },
    {
     "name": "stdout",
     "output_type": "stream",
     "text": [
      "Word: \"LOOF\" -> \"loof\" not in vocab\n",
      "isPersonalPronoun: False\n",
      "isNumber: False\n",
      "isTopping: False\n",
      "isQuantity: False\n",
      "Word: \"sauted\" -> \"saut\" not in vocab\n",
      "isPersonalPronoun: False\n",
      "isNumber: False\n",
      "isTopping: False\n",
      "isQuantity: False\n",
      "Word: \"sauted\" -> \"saut\" not in vocab\n",
      "isPersonalPronoun: False\n",
      "isNumber: False\n",
      "isTopping: False\n",
      "isQuantity: False\n",
      "Word: \"sweet\" -> \"sweet\" not in vocab\n",
      "isPersonalPronoun: False\n",
      "isNumber: False\n",
      "isTopping: False\n",
      "isQuantity: False\n"
     ]
    },
    {
     "name": "stderr",
     "output_type": "stream",
     "text": [
      "writing results:  16%|█▌        | 632/4000 [01:02<04:38, 12.11it/s]"
     ]
    },
    {
     "name": "stdout",
     "output_type": "stream",
     "text": [
      "Word: \"sweet\" -> \"sweet\" not in vocab\n",
      "isPersonalPronoun: False\n",
      "isNumber: False\n",
      "isTopping: False\n",
      "isQuantity: False\n",
      "Word: \"mint\" -> \"mint\" not in vocab\n",
      "isPersonalPronoun: False\n",
      "isNumber: False\n",
      "isTopping: False\n",
      "isQuantity: False\n",
      "Word: \"sports\" -> \"sport\" not in vocab\n",
      "isPersonalPronoun: False\n",
      "isNumber: False\n",
      "isTopping: False\n",
      "isQuantity: False\n",
      "Word: \"mint\" -> \"mint\" not in vocab\n",
      "isPersonalPronoun: False\n",
      "isNumber: False\n",
      "isTopping: False\n",
      "isQuantity: False\n",
      "Word: \"sports\" -> \"sport\" not in vocab\n",
      "isPersonalPronoun: False\n",
      "isNumber: False\n",
      "isTopping: False\n",
      "isQuantity: False\n"
     ]
    },
    {
     "name": "stderr",
     "output_type": "stream",
     "text": [
      "writing results:  16%|█▌        | 634/4000 [01:03<04:40, 11.98it/s]"
     ]
    },
    {
     "name": "stdout",
     "output_type": "stream",
     "text": [
      "Word: \"mushy\" -> \"mushi\" not in vocab\n",
      "isPersonalPronoun: False\n",
      "isNumber: False\n",
      "isTopping: False\n",
      "isQuantity: False\n",
      "Word: \"goat\" -> \"goat\" not in vocab\n",
      "isPersonalPronoun: False\n",
      "isNumber: False\n",
      "isTopping: False\n",
      "isQuantity: False\n",
      "Word: \"mushy\" -> \"mushi\" not in vocab\n",
      "isPersonalPronoun: False\n",
      "isNumber: False\n",
      "isTopping: False\n",
      "isQuantity: False\n",
      "Word: \"goat\" -> \"goat\" not in vocab\n",
      "isPersonalPronoun: False\n",
      "isNumber: False\n",
      "isTopping: False\n",
      "isQuantity: False\n",
      "Word: \"lamb\" -> \"lamb\" not in vocab\n",
      "isPersonalPronoun: False\n",
      "isNumber: False\n",
      "isTopping: False\n",
      "isQuantity: False\n",
      "Word: \"sweet\" -> \"sweet\" not in vocab\n",
      "isPersonalPronoun: False\n",
      "isNumber: False\n",
      "isTopping: False\n",
      "isQuantity: False\n"
     ]
    },
    {
     "name": "stderr",
     "output_type": "stream",
     "text": [
      "writing results:  16%|█▌        | 641/4000 [01:03<03:01, 18.54it/s]"
     ]
    },
    {
     "name": "stdout",
     "output_type": "stream",
     "text": [
      "Word: \"lamb\" -> \"lamb\" not in vocab\n",
      "isPersonalPronoun: False\n",
      "isNumber: False\n",
      "isTopping: False\n",
      "isQuantity: False\n",
      "Word: \"pick\" -> \"pick\" not in vocab\n",
      "isPersonalPronoun: False\n",
      "isNumber: False\n",
      "isTopping: False\n",
      "isQuantity: False\n"
     ]
    },
    {
     "name": "stderr",
     "output_type": "stream",
     "text": [
      "writing results:  16%|█▌        | 644/4000 [01:03<04:27, 12.54it/s]"
     ]
    },
    {
     "name": "stdout",
     "output_type": "stream",
     "text": [
      "Word: \"vegges\" -> \"vegg\" not in vocab\n",
      "isPersonalPronoun: False\n",
      "isNumber: False\n",
      "isTopping: False\n",
      "isQuantity: False\n",
      "Word: \"vegges\" -> \"vegg\" not in vocab\n",
      "isPersonalPronoun: False\n",
      "isNumber: False\n",
      "isTopping: False\n",
      "isQuantity: False\n",
      "Word: \"blue\" -> \"blue\" not in vocab\n",
      "isPersonalPronoun: False\n",
      "isNumber: False\n",
      "isTopping: False\n",
      "isQuantity: False\n",
      "Word: \"blue\" -> \"blue\" not in vocab\n",
      "isPersonalPronoun: False\n",
      "isNumber: False\n",
      "isTopping: False\n",
      "isQuantity: False\n",
      "Word: \"cucumber\" -> \"cucumb\" not in vocab\n",
      "isPersonalPronoun: False\n",
      "isNumber: False\n",
      "isTopping: False\n",
      "isQuantity: False\n"
     ]
    },
    {
     "name": "stderr",
     "output_type": "stream",
     "text": [
      "writing results:  16%|█▌        | 648/4000 [01:03<03:26, 16.21it/s]"
     ]
    },
    {
     "name": "stdout",
     "output_type": "stream",
     "text": [
      "Word: \"cucumber\" -> \"cucumb\" not in vocab\n",
      "isPersonalPronoun: False\n",
      "isNumber: False\n",
      "isTopping: False\n",
      "isQuantity: False\n",
      "Word: \"roasted red\" -> \"roasted r\" not in vocab\n",
      "isPersonalPronoun: False\n",
      "isNumber: False\n",
      "isTopping: False\n",
      "isQuantity: False\n",
      "Word: \"roasted red\" -> \"roasted r\" not in vocab\n",
      "isPersonalPronoun: False\n",
      "isNumber: False\n",
      "isTopping: False\n",
      "isQuantity: False\n",
      "Word: \"bell peppers\" -> \"bell pepp\" not in vocab\n",
      "isPersonalPronoun: False\n",
      "isNumber: False\n",
      "isTopping: False\n",
      "isQuantity: False\n"
     ]
    },
    {
     "name": "stderr",
     "output_type": "stream",
     "text": [
      "writing results:  16%|█▋        | 653/4000 [01:04<03:53, 14.36it/s]"
     ]
    },
    {
     "name": "stdout",
     "output_type": "stream",
     "text": [
      "Word: \"bell peppers\" -> \"bell pepp\" not in vocab\n",
      "isPersonalPronoun: False\n",
      "isNumber: False\n",
      "isTopping: False\n",
      "isQuantity: False\n",
      "Word: \"leeks\" -> \"leek\" not in vocab\n",
      "isPersonalPronoun: False\n",
      "isNumber: False\n",
      "isTopping: True\n",
      "isQuantity: False\n",
      "Word: \"sparking\" -> \"spark\" not in vocab\n",
      "isPersonalPronoun: False\n",
      "isNumber: False\n",
      "isTopping: False\n",
      "isQuantity: False\n",
      "Word: \"sparking\" -> \"spark\" not in vocab\n",
      "isPersonalPronoun: False\n",
      "isNumber: False\n",
      "isTopping: False\n",
      "isQuantity: False\n",
      "Word: \"fixing\" -> \"fix\" not in vocab\n",
      "isPersonalPronoun: False\n",
      "isNumber: False\n",
      "isTopping: False\n",
      "isQuantity: False\n"
     ]
    },
    {
     "name": "stderr",
     "output_type": "stream",
     "text": [
      "writing results:  16%|█▋        | 658/4000 [01:04<03:04, 18.10it/s]"
     ]
    },
    {
     "name": "stdout",
     "output_type": "stream",
     "text": [
      "Word: \"arrange\" -> \"arrang\" not in vocab\n",
      "isPersonalPronoun: False\n",
      "isNumber: False\n",
      "isTopping: False\n",
      "isQuantity: False\n",
      "Word: \"prawns\" -> \"prawn\" not in vocab\n",
      "isPersonalPronoun: False\n",
      "isNumber: False\n",
      "isTopping: False\n",
      "isQuantity: False\n",
      "Word: \"me secure\" -> \"me secur\" not in vocab\n",
      "isPersonalPronoun: False\n",
      "isNumber: False\n",
      "isTopping: False\n",
      "isQuantity: False\n"
     ]
    },
    {
     "name": "stderr",
     "output_type": "stream",
     "text": [
      "writing results:  17%|█▋        | 664/4000 [01:04<02:47, 19.96it/s]"
     ]
    },
    {
     "name": "stdout",
     "output_type": "stream",
     "text": [
      "Word: \"duck\" -> \"duck\" not in vocab\n",
      "isPersonalPronoun: False\n",
      "isNumber: False\n",
      "isTopping: False\n",
      "isQuantity: False\n",
      "Word: \"duck\" -> \"duck\" not in vocab\n",
      "isPersonalPronoun: False\n",
      "isNumber: False\n",
      "isTopping: False\n",
      "isQuantity: False\n",
      "Word: \"sweet\" -> \"sweet\" not in vocab\n",
      "isPersonalPronoun: False\n",
      "isNumber: False\n",
      "isTopping: False\n",
      "isQuantity: False\n"
     ]
    },
    {
     "name": "stderr",
     "output_type": "stream",
     "text": [
      "writing results:  17%|█▋        | 667/4000 [01:05<03:47, 14.64it/s]"
     ]
    },
    {
     "name": "stdout",
     "output_type": "stream",
     "text": [
      "Word: \"sweet\" -> \"sweet\" not in vocab\n",
      "isPersonalPronoun: False\n",
      "isNumber: False\n",
      "isTopping: False\n",
      "isQuantity: False\n",
      "Word: \"hands\" -> \"hand\" not in vocab\n",
      "isPersonalPronoun: False\n",
      "isNumber: False\n",
      "isTopping: False\n",
      "isQuantity: False\n",
      "Word: \"poppy\" -> \"poppi\" not in vocab\n",
      "isPersonalPronoun: False\n",
      "isNumber: False\n",
      "isTopping: False\n",
      "isQuantity: False\n",
      "Word: \"seeds\" -> \"seed\" not in vocab\n",
      "isPersonalPronoun: False\n",
      "isNumber: False\n",
      "isTopping: False\n",
      "isQuantity: False\n",
      "Word: \"poppy\" -> \"poppi\" not in vocab\n",
      "isPersonalPronoun: False\n",
      "isNumber: False\n",
      "isTopping: False\n",
      "isQuantity: False\n",
      "Word: \"seeds\" -> \"seed\" not in vocab\n",
      "isPersonalPronoun: False\n",
      "isNumber: False\n",
      "isTopping: False\n",
      "isQuantity: False\n"
     ]
    },
    {
     "name": "stderr",
     "output_type": "stream",
     "text": [
      "writing results:  17%|█▋        | 669/4000 [01:05<04:28, 12.42it/s]"
     ]
    },
    {
     "name": "stdout",
     "output_type": "stream",
     "text": [
      "Word: \"sweet\" -> \"sweet\" not in vocab\n",
      "isPersonalPronoun: False\n",
      "isNumber: False\n",
      "isTopping: False\n",
      "isQuantity: False\n",
      "Word: \"sweet\" -> \"sweet\" not in vocab\n",
      "isPersonalPronoun: False\n",
      "isNumber: False\n",
      "isTopping: False\n",
      "isQuantity: False\n",
      "Word: \"grab\" -> \"grab\" not in vocab\n",
      "isPersonalPronoun: False\n",
      "isNumber: False\n",
      "isTopping: False\n",
      "isQuantity: False\n",
      "Word: \"cabbage\" -> \"cabbag\" not in vocab\n",
      "isPersonalPronoun: False\n",
      "isNumber: False\n",
      "isTopping: False\n",
      "isQuantity: False\n"
     ]
    },
    {
     "name": "stderr",
     "output_type": "stream",
     "text": [
      "writing results:  17%|█▋        | 671/4000 [01:05<04:03, 13.66it/s]"
     ]
    },
    {
     "name": "stdout",
     "output_type": "stream",
     "text": [
      "Word: \"cabbage\" -> \"cabbag\" not in vocab\n",
      "isPersonalPronoun: False\n",
      "isNumber: False\n",
      "isTopping: False\n",
      "isQuantity: False\n",
      "Word: \"settle\" -> \"settl\" not in vocab\n",
      "isPersonalPronoun: False\n",
      "isNumber: False\n",
      "isTopping: False\n",
      "isQuantity: False\n"
     ]
    },
    {
     "name": "stderr",
     "output_type": "stream",
     "text": [
      "writing results:  17%|█▋        | 675/4000 [01:05<03:39, 15.12it/s]"
     ]
    },
    {
     "name": "stdout",
     "output_type": "stream",
     "text": [
      "Word: \"fixing\" -> \"fix\" not in vocab\n",
      "isPersonalPronoun: False\n",
      "isNumber: False\n",
      "isTopping: False\n",
      "isQuantity: False\n",
      "Word: \"kombucha\" -> \"kombucha\" not in vocab\n",
      "isPersonalPronoun: False\n",
      "isNumber: False\n",
      "isTopping: False\n",
      "isQuantity: False\n"
     ]
    },
    {
     "name": "stderr",
     "output_type": "stream",
     "text": [
      "writing results:  17%|█▋        | 681/4000 [01:06<05:54,  9.36it/s]"
     ]
    },
    {
     "name": "stdout",
     "output_type": "stream",
     "text": [
      "Word: \"kombucha\" -> \"kombucha\" not in vocab\n",
      "isPersonalPronoun: False\n",
      "isNumber: False\n",
      "isTopping: False\n",
      "isQuantity: False\n",
      "Word: \"black beans\" -> \"black bean\" not in vocab\n",
      "isPersonalPronoun: False\n",
      "isNumber: False\n",
      "isTopping: False\n",
      "isQuantity: False\n",
      "Word: \"black beans\" -> \"black bean\" not in vocab\n",
      "isPersonalPronoun: False\n",
      "isNumber: False\n",
      "isTopping: False\n",
      "isQuantity: False\n"
     ]
    },
    {
     "name": "stderr",
     "output_type": "stream",
     "text": [
      "writing results:  17%|█▋        | 684/4000 [01:06<04:43, 11.70it/s]"
     ]
    },
    {
     "name": "stdout",
     "output_type": "stream",
     "text": [
      "Word: \"lie\" -> \"lie\" not in vocab\n",
      "isPersonalPronoun: False\n",
      "isNumber: False\n",
      "isTopping: False\n",
      "isQuantity: False\n",
      "Word: \"abut\" -> \"abut\" not in vocab\n",
      "isPersonalPronoun: False\n",
      "isNumber: False\n",
      "isTopping: False\n",
      "isQuantity: False\n",
      "Word: \"settle\" -> \"settl\" not in vocab\n",
      "isPersonalPronoun: False\n",
      "isNumber: False\n",
      "isTopping: False\n",
      "isQuantity: False\n",
      "Word: \"bunch of\" -> \"bunch of\" not in vocab\n",
      "isPersonalPronoun: False\n",
      "isNumber: False\n",
      "isTopping: False\n",
      "isQuantity: False\n"
     ]
    },
    {
     "name": "stderr",
     "output_type": "stream",
     "text": [
      "writing results:  17%|█▋        | 687/4000 [01:07<05:03, 10.93it/s]"
     ]
    },
    {
     "name": "stdout",
     "output_type": "stream",
     "text": [
      "Word: \"bunch of\" -> \"bunch of\" not in vocab\n",
      "isPersonalPronoun: False\n",
      "isNumber: False\n",
      "isTopping: False\n",
      "isQuantity: False\n",
      "Word: \"soy\" -> \"soy\" not in vocab\n",
      "isPersonalPronoun: False\n",
      "isNumber: False\n",
      "isTopping: False\n",
      "isQuantity: False\n",
      "Word: \"soy\" -> \"soy\" not in vocab\n",
      "isPersonalPronoun: False\n",
      "isNumber: False\n",
      "isTopping: False\n",
      "isQuantity: False\n",
      "Word: \"secure\" -> \"secur\" not in vocab\n",
      "isPersonalPronoun: False\n",
      "isNumber: False\n",
      "isTopping: False\n",
      "isQuantity: False\n",
      "Word: \"chard\" -> \"chard\" not in vocab\n",
      "isPersonalPronoun: False\n",
      "isNumber: False\n",
      "isTopping: False\n",
      "isQuantity: False\n",
      "Word: \"chard\" -> \"chard\" not in vocab\n",
      "isPersonalPronoun: False\n",
      "isNumber: False\n",
      "isTopping: False\n",
      "isQuantity: False\n"
     ]
    },
    {
     "name": "stderr",
     "output_type": "stream",
     "text": [
      "writing results:  17%|█▋        | 689/4000 [01:07<05:37,  9.80it/s]"
     ]
    },
    {
     "name": "stdout",
     "output_type": "stream",
     "text": [
      "Word: \"protein\" -> \"protein\" not in vocab\n",
      "isPersonalPronoun: False\n",
      "isNumber: False\n",
      "isTopping: False\n",
      "isQuantity: False\n",
      "Word: \"shakes\" -> \"shake\" not in vocab\n",
      "isPersonalPronoun: False\n",
      "isNumber: False\n",
      "isTopping: False\n",
      "isQuantity: False\n",
      "Word: \"protein\" -> \"protein\" not in vocab\n",
      "isPersonalPronoun: False\n",
      "isNumber: False\n",
      "isTopping: False\n",
      "isQuantity: False\n",
      "Word: \"shakes\" -> \"shake\" not in vocab\n",
      "isPersonalPronoun: False\n",
      "isNumber: False\n",
      "isTopping: False\n",
      "isQuantity: False\n",
      "Word: \"gruyeres\" -> \"gruyer\" not in vocab\n",
      "isPersonalPronoun: False\n",
      "isNumber: False\n",
      "isTopping: False\n",
      "isQuantity: False\n"
     ]
    },
    {
     "name": "stderr",
     "output_type": "stream",
     "text": [
      "writing results:  17%|█▋        | 693/4000 [01:07<04:53, 11.26it/s]"
     ]
    },
    {
     "name": "stdout",
     "output_type": "stream",
     "text": [
      "Word: \"gruyeres\" -> \"gruyer\" not in vocab\n",
      "isPersonalPronoun: False\n",
      "isNumber: False\n",
      "isTopping: False\n",
      "isQuantity: False\n",
      "Word: \"hummus\" -> \"hummu\" not in vocab\n",
      "isPersonalPronoun: False\n",
      "isNumber: False\n",
      "isTopping: False\n",
      "isQuantity: False\n",
      "Word: \"hummus\" -> \"hummu\" not in vocab\n",
      "isPersonalPronoun: False\n",
      "isNumber: False\n",
      "isTopping: False\n",
      "isQuantity: False\n",
      "Word: \"am trying\" -> \"am tri\" not in vocab\n",
      "isPersonalPronoun: False\n",
      "isNumber: False\n",
      "isTopping: False\n",
      "isQuantity: False\n"
     ]
    },
    {
     "name": "stderr",
     "output_type": "stream",
     "text": [
      "writing results:  18%|█▊        | 700/4000 [01:07<03:23, 16.19it/s]"
     ]
    },
    {
     "name": "stdout",
     "output_type": "stream",
     "text": [
      "Word: \"fruit\" -> \"fruit\" not in vocab\n",
      "isPersonalPronoun: False\n",
      "isNumber: False\n",
      "isTopping: False\n",
      "isQuantity: False\n",
      "Word: \"punch\" -> \"punch\" not in vocab\n",
      "isPersonalPronoun: False\n",
      "isNumber: False\n",
      "isTopping: False\n",
      "isQuantity: False\n",
      "Word: \"fruit\" -> \"fruit\" not in vocab\n",
      "isPersonalPronoun: False\n",
      "isNumber: False\n",
      "isTopping: False\n",
      "isQuantity: False\n",
      "Word: \"punch\" -> \"punch\" not in vocab\n",
      "isPersonalPronoun: False\n",
      "isNumber: False\n",
      "isTopping: False\n",
      "isQuantity: False\n"
     ]
    },
    {
     "name": "stderr",
     "output_type": "stream",
     "text": [
      "writing results:  18%|█▊        | 703/4000 [01:08<03:20, 16.44it/s]"
     ]
    },
    {
     "name": "stdout",
     "output_type": "stream",
     "text": [
      "Word: \"settle\" -> \"settl\" not in vocab\n",
      "isPersonalPronoun: False\n",
      "isNumber: False\n",
      "isTopping: False\n",
      "isQuantity: False\n",
      "Word: \"lie\" -> \"lie\" not in vocab\n",
      "isPersonalPronoun: False\n",
      "isNumber: False\n",
      "isTopping: False\n",
      "isQuantity: False\n",
      "Word: \"stick\" -> \"stick\" not in vocab\n",
      "isPersonalPronoun: False\n",
      "isNumber: False\n",
      "isTopping: False\n",
      "isQuantity: False\n",
      "Word: \"sauted\" -> \"saut\" not in vocab\n",
      "isPersonalPronoun: False\n",
      "isNumber: False\n",
      "isTopping: False\n",
      "isQuantity: False\n"
     ]
    },
    {
     "name": "stderr",
     "output_type": "stream",
     "text": [
      "writing results:  18%|█▊        | 706/4000 [01:08<03:00, 18.29it/s]"
     ]
    },
    {
     "name": "stdout",
     "output_type": "stream",
     "text": [
      "Word: \"sauted\" -> \"saut\" not in vocab\n",
      "isPersonalPronoun: False\n",
      "isNumber: False\n",
      "isTopping: False\n",
      "isQuantity: False\n",
      "Word: \"prawns\" -> \"prawn\" not in vocab\n",
      "isPersonalPronoun: False\n",
      "isNumber: False\n",
      "isTopping: False\n",
      "isQuantity: False\n",
      "Word: \"prawns\" -> \"prawn\" not in vocab\n",
      "isPersonalPronoun: False\n",
      "isNumber: False\n",
      "isTopping: False\n",
      "isQuantity: False\n",
      "Word: \"grab\" -> \"grab\" not in vocab\n",
      "isPersonalPronoun: False\n",
      "isNumber: False\n",
      "isTopping: False\n",
      "isQuantity: False\n",
      "Word: \"sweet\" -> \"sweet\" not in vocab\n",
      "isPersonalPronoun: False\n",
      "isNumber: False\n",
      "isTopping: False\n",
      "isQuantity: False\n"
     ]
    },
    {
     "name": "stderr",
     "output_type": "stream",
     "text": [
      "writing results:  18%|█▊        | 709/4000 [01:08<03:19, 16.47it/s]"
     ]
    },
    {
     "name": "stdout",
     "output_type": "stream",
     "text": [
      "Word: \"sweet\" -> \"sweet\" not in vocab\n",
      "isPersonalPronoun: False\n",
      "isNumber: False\n",
      "isTopping: False\n",
      "isQuantity: False\n",
      "Word: \"choose\" -> \"choos\" not in vocab\n",
      "isPersonalPronoun: False\n",
      "isNumber: False\n",
      "isTopping: False\n",
      "isQuantity: False\n",
      "Word: \"lamb\" -> \"lamb\" not in vocab\n",
      "isPersonalPronoun: False\n",
      "isNumber: False\n",
      "isTopping: False\n",
      "isQuantity: False\n",
      "Word: \"blue\" -> \"blue\" not in vocab\n",
      "isPersonalPronoun: False\n",
      "isNumber: False\n",
      "isTopping: False\n",
      "isQuantity: False\n"
     ]
    },
    {
     "name": "stderr",
     "output_type": "stream",
     "text": [
      "writing results:  18%|█▊        | 711/4000 [01:08<04:09, 13.17it/s]"
     ]
    },
    {
     "name": "stdout",
     "output_type": "stream",
     "text": [
      "Word: \"lamb\" -> \"lamb\" not in vocab\n",
      "isPersonalPronoun: False\n",
      "isNumber: False\n",
      "isTopping: False\n",
      "isQuantity: False\n",
      "Word: \"blue\" -> \"blue\" not in vocab\n",
      "isPersonalPronoun: False\n",
      "isNumber: False\n",
      "isTopping: False\n",
      "isQuantity: False\n",
      "Word: \"zest\" -> \"zest\" not in vocab\n",
      "isPersonalPronoun: False\n",
      "isNumber: False\n",
      "isTopping: False\n",
      "isQuantity: False\n"
     ]
    },
    {
     "name": "stderr",
     "output_type": "stream",
     "text": [
      "writing results:  18%|█▊        | 713/4000 [01:09<05:02, 10.86it/s]"
     ]
    },
    {
     "name": "stdout",
     "output_type": "stream",
     "text": [
      "Word: \"zest\" -> \"zest\" not in vocab\n",
      "isPersonalPronoun: False\n",
      "isNumber: False\n",
      "isTopping: False\n",
      "isQuantity: False\n",
      "Word: \"enjoy\" -> \"enjoy\" not in vocab\n",
      "isPersonalPronoun: False\n",
      "isNumber: False\n",
      "isTopping: False\n",
      "isQuantity: False\n"
     ]
    },
    {
     "name": "stderr",
     "output_type": "stream",
     "text": [
      "writing results:  18%|█▊        | 716/4000 [01:09<06:00,  9.11it/s]"
     ]
    },
    {
     "name": "stdout",
     "output_type": "stream",
     "text": [
      "Word: \"you arrange\" -> \"you arrang\" not in vocab\n",
      "isPersonalPronoun: False\n",
      "isNumber: False\n",
      "isTopping: False\n",
      "isQuantity: False\n",
      "Word: \"green peppers\" -> \"green pepp\" not in vocab\n",
      "isPersonalPronoun: False\n",
      "isNumber: False\n",
      "isTopping: False\n",
      "isQuantity: False\n",
      "Word: \"juice\" -> \"juic\" not in vocab\n",
      "isPersonalPronoun: False\n",
      "isNumber: False\n",
      "isTopping: False\n",
      "isQuantity: False\n",
      "Word: \"boxes\" -> \"box\" not in vocab\n",
      "isPersonalPronoun: False\n",
      "isNumber: False\n",
      "isTopping: False\n",
      "isQuantity: False\n",
      "Word: \"green peppers\" -> \"green pepp\" not in vocab\n",
      "isPersonalPronoun: False\n",
      "isNumber: False\n",
      "isTopping: False\n",
      "isQuantity: False\n",
      "Word: \"juice\" -> \"juic\" not in vocab\n",
      "isPersonalPronoun: False\n",
      "isNumber: False\n",
      "isTopping: False\n",
      "isQuantity: False\n",
      "Word: \"boxes\" -> \"box\" not in vocab\n",
      "isPersonalPronoun: False\n",
      "isNumber: False\n",
      "isTopping: False\n",
      "isQuantity: False\n",
      "Word: \"cabbage\" -> \"cabbag\" not in vocab\n",
      "isPersonalPronoun: False\n",
      "isNumber: False\n",
      "isTopping: False\n",
      "isQuantity: False\n"
     ]
    },
    {
     "name": "stderr",
     "output_type": "stream",
     "text": [
      "writing results:  18%|█▊        | 718/4000 [01:09<05:44,  9.52it/s]"
     ]
    },
    {
     "name": "stdout",
     "output_type": "stream",
     "text": [
      "Word: \"cabbage\" -> \"cabbag\" not in vocab\n",
      "isPersonalPronoun: False\n",
      "isNumber: False\n",
      "isTopping: False\n",
      "isQuantity: False\n",
      "Word: \"smoked\" -> \"smoke\" not in vocab\n",
      "isPersonalPronoun: False\n",
      "isNumber: False\n",
      "isTopping: False\n",
      "isQuantity: False\n",
      "Word: \"salmon\" -> \"salmon\" not in vocab\n",
      "isPersonalPronoun: False\n",
      "isNumber: False\n",
      "isTopping: False\n",
      "isQuantity: False\n"
     ]
    },
    {
     "name": "stderr",
     "output_type": "stream",
     "text": [
      "writing results:  18%|█▊        | 723/4000 [01:09<04:20, 12.60it/s]"
     ]
    },
    {
     "name": "stdout",
     "output_type": "stream",
     "text": [
      "Word: \"smoked\" -> \"smoke\" not in vocab\n",
      "isPersonalPronoun: False\n",
      "isNumber: False\n",
      "isTopping: False\n",
      "isQuantity: False\n",
      "Word: \"salmon\" -> \"salmon\" not in vocab\n",
      "isPersonalPronoun: False\n",
      "isNumber: False\n",
      "isTopping: False\n",
      "isQuantity: False\n",
      "Word: \"going to\" -> \"going to\" not in vocab\n",
      "isPersonalPronoun: False\n",
      "isNumber: False\n",
      "isTopping: False\n",
      "isQuantity: False\n",
      "Word: \"aiming\" -> \"aim\" not in vocab\n",
      "isPersonalPronoun: False\n",
      "isNumber: False\n",
      "isTopping: False\n",
      "isQuantity: False\n"
     ]
    },
    {
     "name": "stderr",
     "output_type": "stream",
     "text": [
      "writing results:  18%|█▊        | 725/4000 [01:10<04:11, 13.02it/s]"
     ]
    },
    {
     "name": "stdout",
     "output_type": "stream",
     "text": [
      "Word: \"hummus\" -> \"hummu\" not in vocab\n",
      "isPersonalPronoun: False\n",
      "isNumber: False\n",
      "isTopping: False\n",
      "isQuantity: False\n",
      "Word: \"hummus\" -> \"hummu\" not in vocab\n",
      "isPersonalPronoun: False\n",
      "isNumber: False\n",
      "isTopping: False\n",
      "isQuantity: False\n",
      "Word: \"opt\" -> \"opt\" not in vocab\n",
      "isPersonalPronoun: False\n",
      "isNumber: False\n",
      "isTopping: False\n",
      "isQuantity: False\n",
      "Word: \"dieters\" -> \"dieter\" not in vocab\n",
      "isPersonalPronoun: False\n",
      "isNumber: False\n",
      "isTopping: False\n",
      "isQuantity: False\n"
     ]
    },
    {
     "name": "stderr",
     "output_type": "stream",
     "text": [
      "writing results:  18%|█▊        | 727/4000 [01:11<13:06,  4.16it/s]"
     ]
    },
    {
     "name": "stdout",
     "output_type": "stream",
     "text": [
      "Word: \"dieters\" -> \"dieter\" not in vocab\n",
      "isPersonalPronoun: False\n",
      "isNumber: False\n",
      "isTopping: False\n",
      "isQuantity: False\n",
      "Word: \"secure\" -> \"secur\" not in vocab\n",
      "isPersonalPronoun: False\n",
      "isNumber: False\n",
      "isTopping: False\n",
      "isQuantity: False\n",
      "Word: \"smoked\" -> \"smoke\" not in vocab\n",
      "isPersonalPronoun: False\n",
      "isNumber: False\n",
      "isTopping: False\n",
      "isQuantity: False\n",
      "Word: \"salmon\" -> \"salmon\" not in vocab\n",
      "isPersonalPronoun: False\n",
      "isNumber: False\n",
      "isTopping: False\n",
      "isQuantity: False\n"
     ]
    },
    {
     "name": "stderr",
     "output_type": "stream",
     "text": [
      "writing results:  18%|█▊        | 731/4000 [01:11<08:58,  6.07it/s]"
     ]
    },
    {
     "name": "stdout",
     "output_type": "stream",
     "text": [
      "Word: \"smoked\" -> \"smoke\" not in vocab\n",
      "isPersonalPronoun: False\n",
      "isNumber: False\n",
      "isTopping: False\n",
      "isQuantity: False\n",
      "Word: \"salmon\" -> \"salmon\" not in vocab\n",
      "isPersonalPronoun: False\n",
      "isNumber: False\n",
      "isTopping: False\n",
      "isQuantity: False\n",
      "Word: \"smoked\" -> \"smoke\" not in vocab\n",
      "isPersonalPronoun: False\n",
      "isNumber: False\n",
      "isTopping: False\n",
      "isQuantity: False\n",
      "Word: \"salmon\" -> \"salmon\" not in vocab\n",
      "isPersonalPronoun: False\n",
      "isNumber: False\n",
      "isTopping: False\n",
      "isQuantity: False\n"
     ]
    },
    {
     "name": "stderr",
     "output_type": "stream",
     "text": [
      "writing results:  18%|█▊        | 735/4000 [01:12<06:06,  8.90it/s]"
     ]
    },
    {
     "name": "stdout",
     "output_type": "stream",
     "text": [
      "Word: \"mush yeas\" -> \"mush yea\" not in vocab\n",
      "isPersonalPronoun: False\n",
      "isNumber: False\n",
      "isTopping: False\n",
      "isQuantity: False\n",
      "Word: \"mush yeas\" -> \"mush yea\" not in vocab\n",
      "isPersonalPronoun: False\n",
      "isNumber: False\n",
      "isTopping: False\n",
      "isQuantity: False\n",
      "Word: \"smoked\" -> \"smoke\" not in vocab\n",
      "isPersonalPronoun: False\n",
      "isNumber: False\n",
      "isTopping: False\n",
      "isQuantity: False\n",
      "Word: \"salmon\" -> \"salmon\" not in vocab\n",
      "isPersonalPronoun: False\n",
      "isNumber: False\n",
      "isTopping: False\n",
      "isQuantity: False\n",
      "Word: \"smoked\" -> \"smoke\" not in vocab\n",
      "isPersonalPronoun: False\n",
      "isNumber: False\n",
      "isTopping: False\n",
      "isQuantity: False\n",
      "Word: \"salmon\" -> \"salmon\" not in vocab\n",
      "isPersonalPronoun: False\n",
      "isNumber: False\n",
      "isTopping: False\n",
      "isQuantity: False\n",
      "Word: \"footing\" -> \"foot\" not in vocab\n",
      "isPersonalPronoun: False\n",
      "isNumber: False\n",
      "isTopping: False\n",
      "isQuantity: True\n"
     ]
    },
    {
     "name": "stderr",
     "output_type": "stream",
     "text": [
      "writing results:  18%|█▊        | 739/4000 [01:13<08:43,  6.22it/s]"
     ]
    },
    {
     "name": "stdout",
     "output_type": "stream",
     "text": [
      "Word: \"footing\" -> \"foot\" not in vocab\n",
      "isPersonalPronoun: False\n",
      "isNumber: False\n",
      "isTopping: False\n",
      "isQuantity: True\n",
      "Word: \"juice\" -> \"juic\" not in vocab\n",
      "isPersonalPronoun: False\n",
      "isNumber: False\n",
      "isTopping: False\n",
      "isQuantity: False\n",
      "Word: \"juice\" -> \"juic\" not in vocab\n",
      "isPersonalPronoun: False\n",
      "isNumber: False\n",
      "isTopping: False\n",
      "isQuantity: False\n"
     ]
    },
    {
     "name": "stderr",
     "output_type": "stream",
     "text": [
      "writing results:  19%|█▊        | 743/4000 [01:13<09:35,  5.66it/s]"
     ]
    },
    {
     "name": "stdout",
     "output_type": "stream",
     "text": [
      "Word: \"stick\" -> \"stick\" not in vocab\n",
      "isPersonalPronoun: False\n",
      "isNumber: False\n",
      "isTopping: False\n",
      "isQuantity: False\n",
      "Word: \"allow\" -> \"allow\" not in vocab\n",
      "isPersonalPronoun: False\n",
      "isNumber: False\n",
      "isTopping: False\n",
      "isQuantity: False\n"
     ]
    },
    {
     "name": "stderr",
     "output_type": "stream",
     "text": [
      "writing results:  19%|█▊        | 746/4000 [01:14<09:35,  5.65it/s]"
     ]
    },
    {
     "name": "stdout",
     "output_type": "stream",
     "text": [
      "Word: \"lamb\" -> \"lamb\" not in vocab\n",
      "isPersonalPronoun: False\n",
      "isNumber: False\n",
      "isTopping: False\n",
      "isQuantity: False\n",
      "Word: \"duck\" -> \"duck\" not in vocab\n",
      "isPersonalPronoun: False\n",
      "isNumber: False\n",
      "isTopping: False\n",
      "isQuantity: False\n",
      "Word: \"duck\" -> \"duck\" not in vocab\n",
      "isPersonalPronoun: False\n",
      "isNumber: False\n",
      "isTopping: False\n",
      "isQuantity: False\n",
      "Word: \"cucumber\" -> \"cucumb\" not in vocab\n",
      "isPersonalPronoun: False\n",
      "isNumber: False\n",
      "isTopping: False\n",
      "isQuantity: False\n",
      "Word: \"duck\" -> \"duck\" not in vocab\n",
      "isPersonalPronoun: False\n",
      "isNumber: False\n",
      "isTopping: False\n",
      "isQuantity: False\n"
     ]
    },
    {
     "name": "stderr",
     "output_type": "stream",
     "text": [
      "writing results:  19%|█▊        | 747/4000 [01:14<08:52,  6.10it/s]"
     ]
    },
    {
     "name": "stdout",
     "output_type": "stream",
     "text": [
      "Word: \"cucumber\" -> \"cucumb\" not in vocab\n",
      "isPersonalPronoun: False\n",
      "isNumber: False\n",
      "isTopping: False\n",
      "isQuantity: False\n",
      "Word: \"Prussian\" -> \"prussian\" not in vocab\n",
      "isPersonalPronoun: False\n",
      "isNumber: False\n",
      "isTopping: False\n",
      "isQuantity: False\n"
     ]
    },
    {
     "name": "stderr",
     "output_type": "stream",
     "text": [
      "writing results:  19%|█▉        | 751/4000 [01:15<06:51,  7.89it/s]"
     ]
    },
    {
     "name": "stdout",
     "output_type": "stream",
     "text": [
      "Word: \"Prussian\" -> \"prussian\" not in vocab\n",
      "isPersonalPronoun: False\n",
      "isNumber: False\n",
      "isTopping: False\n",
      "isQuantity: False\n",
      "Word: \"prawns\" -> \"prawn\" not in vocab\n",
      "isPersonalPronoun: False\n",
      "isNumber: False\n",
      "isTopping: False\n",
      "isQuantity: False\n",
      "Word: \"prawns\" -> \"prawn\" not in vocab\n",
      "isPersonalPronoun: False\n",
      "isNumber: False\n",
      "isTopping: False\n",
      "isQuantity: False\n"
     ]
    },
    {
     "name": "stderr",
     "output_type": "stream",
     "text": [
      "writing results:  19%|█▉        | 753/4000 [01:15<06:53,  7.85it/s]"
     ]
    },
    {
     "name": "stdout",
     "output_type": "stream",
     "text": [
      "Word: \"grab\" -> \"grab\" not in vocab\n",
      "isPersonalPronoun: False\n",
      "isNumber: False\n",
      "isTopping: False\n",
      "isQuantity: False\n"
     ]
    },
    {
     "name": "stderr",
     "output_type": "stream",
     "text": [
      "writing results:  19%|█▉        | 754/4000 [01:15<07:56,  6.81it/s]"
     ]
    },
    {
     "name": "stdout",
     "output_type": "stream",
     "text": [
      "Word: \"cucumber\" -> \"cucumb\" not in vocab\n",
      "isPersonalPronoun: False\n",
      "isNumber: False\n",
      "isTopping: False\n",
      "isQuantity: False\n",
      "Word: \"blue\" -> \"blue\" not in vocab\n",
      "isPersonalPronoun: False\n",
      "isNumber: False\n",
      "isTopping: False\n",
      "isQuantity: False\n",
      "Word: \"cucumber\" -> \"cucumb\" not in vocab\n",
      "isPersonalPronoun: False\n",
      "isNumber: False\n",
      "isTopping: False\n",
      "isQuantity: False\n",
      "Word: \"blue\" -> \"blue\" not in vocab\n",
      "isPersonalPronoun: False\n",
      "isNumber: False\n",
      "isTopping: False\n",
      "isQuantity: False\n",
      "Word: \"sparkling\" -> \"sparkl\" not in vocab\n",
      "isPersonalPronoun: False\n",
      "isNumber: False\n",
      "isTopping: False\n",
      "isQuantity: False\n",
      "Word: \"sparkling\" -> \"sparkl\" not in vocab\n",
      "isPersonalPronoun: False\n",
      "isNumber: False\n",
      "isTopping: False\n",
      "isQuantity: False\n"
     ]
    },
    {
     "name": "stderr",
     "output_type": "stream",
     "text": [
      "writing results:  19%|█▉        | 756/4000 [01:15<06:54,  7.83it/s]"
     ]
    },
    {
     "name": "stdout",
     "output_type": "stream",
     "text": [
      "Word: \"wold\" -> \"wold\" not in vocab\n",
      "isPersonalPronoun: False\n",
      "isNumber: False\n",
      "isTopping: False\n",
      "isQuantity: False\n",
      "Word: \"kimchi\" -> \"kimchi\" not in vocab\n",
      "isPersonalPronoun: False\n",
      "isNumber: False\n",
      "isTopping: False\n",
      "isQuantity: False\n",
      "Word: \"kimchi\" -> \"kimchi\" not in vocab\n",
      "isPersonalPronoun: False\n",
      "isNumber: False\n",
      "isTopping: False\n",
      "isQuantity: False\n"
     ]
    },
    {
     "name": "stderr",
     "output_type": "stream",
     "text": [
      "writing results:  19%|█▉        | 757/4000 [01:15<08:38,  6.26it/s]"
     ]
    },
    {
     "name": "stdout",
     "output_type": "stream",
     "text": [
      "Word: \"ET\" -> \"et\" not in vocab\n",
      "isPersonalPronoun: False\n",
      "isNumber: False\n",
      "isTopping: False\n",
      "isQuantity: False\n",
      "Word: \"hummus\" -> \"hummu\" not in vocab\n",
      "isPersonalPronoun: False\n",
      "isNumber: False\n",
      "isTopping: False\n",
      "isQuantity: False\n",
      "Word: \"chair\" -> \"chair\" not in vocab\n",
      "isPersonalPronoun: False\n",
      "isNumber: False\n",
      "isTopping: False\n",
      "isQuantity: False\n",
      "Word: \"latte\" -> \"latt\" not in vocab\n",
      "isPersonalPronoun: False\n",
      "isNumber: False\n",
      "isTopping: False\n",
      "isQuantity: False\n",
      "Word: \"chair\" -> \"chair\" not in vocab\n",
      "isPersonalPronoun: False\n",
      "isNumber: False\n",
      "isTopping: False\n",
      "isQuantity: False\n",
      "Word: \"latte\" -> \"latt\" not in vocab\n",
      "isPersonalPronoun: False\n",
      "isNumber: False\n",
      "isTopping: False\n",
      "isQuantity: False\n",
      "Word: \"kimchi\" -> \"kimchi\" not in vocab\n",
      "isPersonalPronoun: False\n",
      "isNumber: False\n",
      "isTopping: False\n",
      "isQuantity: False\n",
      "Word: \"kimchi\" -> \"kimchi\" not in vocab\n",
      "isPersonalPronoun: False\n",
      "isNumber: False\n",
      "isTopping: False\n",
      "isQuantity: False\n"
     ]
    },
    {
     "name": "stderr",
     "output_type": "stream",
     "text": [
      "writing results:  19%|█▉        | 760/4000 [01:16<06:08,  8.79it/s]"
     ]
    },
    {
     "name": "stdout",
     "output_type": "stream",
     "text": [
      "Word: \"eats\" -> \"eat\" not in vocab\n",
      "isPersonalPronoun: False\n",
      "isNumber: False\n",
      "isTopping: False\n",
      "isQuantity: False\n",
      "Word: \"eats\" -> \"eat\" not in vocab\n",
      "isPersonalPronoun: False\n",
      "isNumber: False\n",
      "isTopping: False\n",
      "isQuantity: False\n",
      "Word: \"kimchi\" -> \"kimchi\" not in vocab\n",
      "isPersonalPronoun: False\n",
      "isNumber: False\n",
      "isTopping: False\n",
      "isQuantity: False\n",
      "Word: \"kimchi\" -> \"kimchi\" not in vocab\n",
      "isPersonalPronoun: False\n",
      "isNumber: False\n",
      "isTopping: False\n",
      "isQuantity: False\n"
     ]
    },
    {
     "name": "stderr",
     "output_type": "stream",
     "text": [
      "writing results:  19%|█▉        | 765/4000 [01:16<04:45, 11.35it/s]"
     ]
    },
    {
     "name": "stdout",
     "output_type": "stream",
     "text": [
      "Word: \"i've\" -> \"i'v\" not in vocab\n",
      "isPersonalPronoun: False\n",
      "isNumber: False\n",
      "isTopping: False\n",
      "isQuantity: False\n",
      "Word: \"decided\" -> \"decid\" not in vocab\n",
      "isPersonalPronoun: False\n",
      "isNumber: False\n",
      "isTopping: False\n",
      "isQuantity: False\n",
      "Word: \"wan\" -> \"wan\" not in vocab\n",
      "isPersonalPronoun: False\n",
      "isNumber: False\n",
      "isTopping: False\n",
      "isQuantity: False\n",
      "Word: \"leeks\" -> \"leek\" not in vocab\n",
      "isPersonalPronoun: False\n",
      "isNumber: False\n",
      "isTopping: True\n",
      "isQuantity: False\n",
      "Word: \"leeks\" -> \"leek\" not in vocab\n",
      "isPersonalPronoun: False\n",
      "isNumber: False\n",
      "isTopping: True\n",
      "isQuantity: False\n"
     ]
    },
    {
     "name": "stderr",
     "output_type": "stream",
     "text": [
      "writing results:  19%|█▉        | 767/4000 [01:16<04:24, 12.24it/s]"
     ]
    },
    {
     "name": "stdout",
     "output_type": "stream",
     "text": [
      "Word: \"cabbage\" -> \"cabbag\" not in vocab\n",
      "isPersonalPronoun: False\n",
      "isNumber: False\n",
      "isTopping: False\n",
      "isQuantity: False\n",
      "Word: \"cabbage\" -> \"cabbag\" not in vocab\n",
      "isPersonalPronoun: False\n",
      "isNumber: False\n",
      "isTopping: False\n",
      "isQuantity: False\n",
      "Word: \"favor and\" -> \"favor and\" not in vocab\n",
      "isPersonalPronoun: False\n",
      "isNumber: False\n",
      "isTopping: False\n",
      "isQuantity: False\n",
      "Word: \"HAE\" -> \"hae\" not in vocab\n",
      "isPersonalPronoun: False\n",
      "isNumber: False\n",
      "isTopping: False\n",
      "isQuantity: False\n"
     ]
    },
    {
     "name": "stderr",
     "output_type": "stream",
     "text": [
      "writing results:  19%|█▉        | 771/4000 [01:16<04:06, 13.09it/s]"
     ]
    },
    {
     "name": "stdout",
     "output_type": "stream",
     "text": [
      "Word: \"coca colas\" -> \"coca cola\" not in vocab\n",
      "isPersonalPronoun: False\n",
      "isNumber: False\n",
      "isTopping: False\n",
      "isQuantity: False\n",
      "Word: \"coca colas\" -> \"coca cola\" not in vocab\n",
      "isPersonalPronoun: False\n",
      "isNumber: False\n",
      "isTopping: False\n",
      "isQuantity: False\n",
      "Word: \"gat\" -> \"gat\" not in vocab\n",
      "isPersonalPronoun: False\n",
      "isNumber: False\n",
      "isTopping: False\n",
      "isQuantity: False\n",
      "Word: \"gat\" -> \"gat\" not in vocab\n",
      "isPersonalPronoun: False\n",
      "isNumber: False\n",
      "isTopping: False\n",
      "isQuantity: False\n"
     ]
    },
    {
     "name": "stderr",
     "output_type": "stream",
     "text": [
      "writing results:  19%|█▉        | 773/4000 [01:17<04:14, 12.66it/s]"
     ]
    },
    {
     "name": "stdout",
     "output_type": "stream",
     "text": [
      "Word: \"leeks\" -> \"leek\" not in vocab\n",
      "isPersonalPronoun: False\n",
      "isNumber: False\n",
      "isTopping: True\n",
      "isQuantity: False\n",
      "Word: \"leeks\" -> \"leek\" not in vocab\n",
      "isPersonalPronoun: False\n",
      "isNumber: False\n",
      "isTopping: True\n",
      "isQuantity: False\n",
      "Word: \"lace\" -> \"lace\" not in vocab\n",
      "isPersonalPronoun: False\n",
      "isNumber: False\n",
      "isTopping: False\n",
      "isQuantity: False\n",
      "Word: \"interested\" -> \"interest\" not in vocab\n",
      "isPersonalPronoun: False\n",
      "isNumber: False\n",
      "isTopping: False\n",
      "isQuantity: False\n"
     ]
    },
    {
     "name": "stderr",
     "output_type": "stream",
     "text": [
      "writing results:  19%|█▉        | 775/4000 [01:17<05:09, 10.43it/s]"
     ]
    },
    {
     "name": "stdout",
     "output_type": "stream",
     "text": [
      "Word: \"hummus\" -> \"hummu\" not in vocab\n",
      "isPersonalPronoun: False\n",
      "isNumber: False\n",
      "isTopping: False\n",
      "isQuantity: False\n",
      "Word: \"sweet\" -> \"sweet\" not in vocab\n",
      "isPersonalPronoun: False\n",
      "isNumber: False\n",
      "isTopping: False\n",
      "isQuantity: False\n",
      "Word: \"green olives\" -> \"green ol\" not in vocab\n",
      "isPersonalPronoun: False\n",
      "isNumber: False\n",
      "isTopping: False\n",
      "isQuantity: False\n",
      "Word: \"hummus\" -> \"hummu\" not in vocab\n",
      "isPersonalPronoun: False\n",
      "isNumber: False\n",
      "isTopping: False\n",
      "isQuantity: False\n",
      "Word: \"sweet\" -> \"sweet\" not in vocab\n",
      "isPersonalPronoun: False\n",
      "isNumber: False\n",
      "isTopping: False\n",
      "isQuantity: False\n",
      "Word: \"sort\" -> \"sort\" not in vocab\n",
      "isPersonalPronoun: False\n",
      "isNumber: False\n",
      "isTopping: False\n",
      "isQuantity: False\n",
      "Word: \"zest\" -> \"zest\" not in vocab\n",
      "isPersonalPronoun: False\n",
      "isNumber: False\n",
      "isTopping: False\n",
      "isQuantity: False\n",
      "Word: \"zest\" -> \"zest\" not in vocab\n",
      "isPersonalPronoun: False\n",
      "isNumber: False\n",
      "isTopping: False\n",
      "isQuantity: False\n"
     ]
    },
    {
     "name": "stderr",
     "output_type": "stream",
     "text": [
      "writing results:  19%|█▉        | 778/4000 [01:17<04:45, 11.29it/s]"
     ]
    },
    {
     "name": "stdout",
     "output_type": "stream",
     "text": [
      "Word: \"poppy\" -> \"poppi\" not in vocab\n",
      "isPersonalPronoun: False\n",
      "isNumber: False\n",
      "isTopping: False\n",
      "isQuantity: False\n",
      "Word: \"seeds\" -> \"seed\" not in vocab\n",
      "isPersonalPronoun: False\n",
      "isNumber: False\n",
      "isTopping: False\n",
      "isQuantity: False\n",
      "Word: \"poppy\" -> \"poppi\" not in vocab\n",
      "isPersonalPronoun: False\n",
      "isNumber: False\n",
      "isTopping: False\n",
      "isQuantity: False\n",
      "Word: \"seeds\" -> \"seed\" not in vocab\n",
      "isPersonalPronoun: False\n",
      "isNumber: False\n",
      "isTopping: False\n",
      "isQuantity: False\n",
      "Word: \"ant\" -> \"ant\" not in vocab\n",
      "isPersonalPronoun: False\n",
      "isNumber: False\n",
      "isTopping: False\n",
      "isQuantity: False\n"
     ]
    },
    {
     "name": "stderr",
     "output_type": "stream",
     "text": [
      "writing results:  20%|█▉        | 784/4000 [01:17<03:47, 14.17it/s]"
     ]
    },
    {
     "name": "stdout",
     "output_type": "stream",
     "text": [
      "Word: \"sauted\" -> \"saut\" not in vocab\n",
      "isPersonalPronoun: False\n",
      "isNumber: False\n",
      "isTopping: False\n",
      "isQuantity: False\n",
      "Word: \"sauted\" -> \"saut\" not in vocab\n",
      "isPersonalPronoun: False\n",
      "isNumber: False\n",
      "isTopping: False\n",
      "isQuantity: False\n",
      "Word: \"et\" -> \"et\" not in vocab\n",
      "isPersonalPronoun: False\n",
      "isNumber: False\n",
      "isTopping: False\n",
      "isQuantity: False\n"
     ]
    },
    {
     "name": "stderr",
     "output_type": "stream",
     "text": [
      "writing results:  20%|█▉        | 786/4000 [01:18<03:33, 15.08it/s]"
     ]
    },
    {
     "name": "stdout",
     "output_type": "stream",
     "text": [
      "Word: \"Tory\" -> \"tori\" not in vocab\n",
      "isPersonalPronoun: False\n",
      "isNumber: False\n",
      "isTopping: False\n",
      "isQuantity: False\n",
      "Word: \"macchiatos\" -> \"macchiato\" not in vocab\n",
      "isPersonalPronoun: False\n",
      "isNumber: False\n",
      "isTopping: False\n",
      "isQuantity: False\n"
     ]
    },
    {
     "name": "stderr",
     "output_type": "stream",
     "text": [
      "writing results:  20%|█▉        | 788/4000 [01:19<12:59,  4.12it/s]"
     ]
    },
    {
     "name": "stdout",
     "output_type": "stream",
     "text": [
      "Word: \"macchiatos\" -> \"macchiato\" not in vocab\n",
      "isPersonalPronoun: False\n",
      "isNumber: False\n",
      "isTopping: False\n",
      "isQuantity: False\n",
      "Word: \"interested\" -> \"interest\" not in vocab\n",
      "isPersonalPronoun: False\n",
      "isNumber: False\n",
      "isTopping: False\n",
      "isQuantity: False\n",
      "Word: \"zest\" -> \"zest\" not in vocab\n",
      "isPersonalPronoun: False\n",
      "isNumber: False\n",
      "isTopping: False\n",
      "isQuantity: False\n",
      "Word: \"zest\" -> \"zest\" not in vocab\n",
      "isPersonalPronoun: False\n",
      "isNumber: False\n",
      "isTopping: False\n",
      "isQuantity: False\n",
      "Word: \"zest\" -> \"zest\" not in vocab\n",
      "isPersonalPronoun: False\n",
      "isNumber: False\n",
      "isTopping: False\n",
      "isQuantity: False\n"
     ]
    },
    {
     "name": "stderr",
     "output_type": "stream",
     "text": [
      "writing results:  20%|█▉        | 792/4000 [01:19<09:12,  5.81it/s]"
     ]
    },
    {
     "name": "stdout",
     "output_type": "stream",
     "text": [
      "Word: \"flavored\" -> \"flavor\" not in vocab\n",
      "isPersonalPronoun: False\n",
      "isNumber: False\n",
      "isTopping: False\n",
      "isQuantity: False\n",
      "Word: \"flavored\" -> \"flavor\" not in vocab\n",
      "isPersonalPronoun: False\n",
      "isNumber: False\n",
      "isTopping: False\n",
      "isQuantity: False\n",
      "Word: \"goat\" -> \"goat\" not in vocab\n",
      "isPersonalPronoun: False\n",
      "isNumber: False\n",
      "isTopping: False\n",
      "isQuantity: False\n",
      "Word: \"goat\" -> \"goat\" not in vocab\n",
      "isPersonalPronoun: False\n",
      "isNumber: False\n",
      "isTopping: False\n",
      "isQuantity: False\n"
     ]
    },
    {
     "name": "stderr",
     "output_type": "stream",
     "text": [
      "writing results:  20%|█▉        | 795/4000 [01:20<07:26,  7.19it/s]"
     ]
    },
    {
     "name": "stdout",
     "output_type": "stream",
     "text": [
      "Word: \"choice\" -> \"choic\" not in vocab\n",
      "isPersonalPronoun: False\n",
      "isNumber: False\n",
      "isTopping: False\n",
      "isQuantity: False\n",
      "Word: \"lo\" -> \"lo\" not in vocab\n",
      "isPersonalPronoun: False\n",
      "isNumber: False\n",
      "isTopping: False\n",
      "isQuantity: False\n",
      "Word: \"lo\" -> \"lo\" not in vocab\n",
      "isPersonalPronoun: False\n",
      "isNumber: False\n",
      "isTopping: False\n",
      "isQuantity: False\n",
      "Word: \"lo\" -> \"lo\" not in vocab\n",
      "isPersonalPronoun: False\n",
      "isNumber: False\n",
      "isTopping: False\n",
      "isQuantity: False\n"
     ]
    },
    {
     "name": "stderr",
     "output_type": "stream",
     "text": [
      "writing results:  20%|█▉        | 797/4000 [01:20<06:23,  8.35it/s]"
     ]
    },
    {
     "name": "stdout",
     "output_type": "stream",
     "text": [
      "Word: \"soy\" -> \"soy\" not in vocab\n",
      "isPersonalPronoun: False\n",
      "isNumber: False\n",
      "isTopping: False\n",
      "isQuantity: False\n",
      "Word: \"soy\" -> \"soy\" not in vocab\n",
      "isPersonalPronoun: False\n",
      "isNumber: False\n",
      "isTopping: False\n",
      "isQuantity: False\n",
      "Word: \"tout\" -> \"tout\" not in vocab\n",
      "isPersonalPronoun: False\n",
      "isNumber: False\n",
      "isTopping: False\n",
      "isQuantity: False\n"
     ]
    },
    {
     "name": "stderr",
     "output_type": "stream",
     "text": [
      "writing results:  20%|██        | 802/4000 [01:20<04:28, 11.91it/s]"
     ]
    },
    {
     "name": "stdout",
     "output_type": "stream",
     "text": [
      "Word: \"stick\" -> \"stick\" not in vocab\n",
      "isPersonalPronoun: False\n",
      "isNumber: False\n",
      "isTopping: False\n",
      "isQuantity: False\n",
      "Word: \"opt\" -> \"opt\" not in vocab\n",
      "isPersonalPronoun: False\n",
      "isNumber: False\n",
      "isTopping: False\n",
      "isQuantity: False\n",
      "Word: \"goat\" -> \"goat\" not in vocab\n",
      "isPersonalPronoun: False\n",
      "isNumber: False\n",
      "isTopping: False\n",
      "isQuantity: False\n",
      "Word: \"goat\" -> \"goat\" not in vocab\n",
      "isPersonalPronoun: False\n",
      "isNumber: False\n",
      "isTopping: False\n",
      "isQuantity: False\n",
      "Word: \"ave\" -> \"ave\" not in vocab\n",
      "isPersonalPronoun: False\n",
      "isNumber: False\n",
      "isTopping: False\n",
      "isQuantity: False\n",
      "Word: \"prawns\" -> \"prawn\" not in vocab\n",
      "isPersonalPronoun: False\n",
      "isNumber: False\n",
      "isTopping: False\n",
      "isQuantity: False\n",
      "Word: \"sweet\" -> \"sweet\" not in vocab\n",
      "isPersonalPronoun: False\n",
      "isNumber: False\n",
      "isTopping: False\n",
      "isQuantity: False\n",
      "Word: \"jalapeños\" -> \"jalapeño\" not in vocab\n",
      "isPersonalPronoun: False\n",
      "isNumber: False\n",
      "isTopping: False\n",
      "isQuantity: False\n"
     ]
    },
    {
     "name": "stderr",
     "output_type": "stream",
     "text": [
      "writing results:  20%|██        | 804/4000 [01:20<05:19,  9.99it/s]"
     ]
    },
    {
     "name": "stdout",
     "output_type": "stream",
     "text": [
      "Word: \"sweet\" -> \"sweet\" not in vocab\n",
      "isPersonalPronoun: False\n",
      "isNumber: False\n",
      "isTopping: False\n",
      "isQuantity: False\n",
      "Word: \"jalapeños\" -> \"jalapeño\" not in vocab\n",
      "isPersonalPronoun: False\n",
      "isNumber: False\n",
      "isTopping: False\n",
      "isQuantity: False\n",
      "Word: \"gruyeres\" -> \"gruyer\" not in vocab\n",
      "isPersonalPronoun: False\n",
      "isNumber: False\n",
      "isTopping: False\n",
      "isQuantity: False\n"
     ]
    },
    {
     "name": "stderr",
     "output_type": "stream",
     "text": [
      "writing results:  20%|██        | 808/4000 [01:21<04:58, 10.68it/s]"
     ]
    },
    {
     "name": "stdout",
     "output_type": "stream",
     "text": [
      "Word: \"gruyeres\" -> \"gruyer\" not in vocab\n",
      "isPersonalPronoun: False\n",
      "isNumber: False\n",
      "isTopping: False\n",
      "isQuantity: False\n",
      "Word: \"sweet\" -> \"sweet\" not in vocab\n",
      "isPersonalPronoun: False\n",
      "isNumber: False\n",
      "isTopping: False\n",
      "isQuantity: False\n",
      "Word: \"sweet\" -> \"sweet\" not in vocab\n",
      "isPersonalPronoun: False\n",
      "isNumber: False\n",
      "isTopping: False\n",
      "isQuantity: False\n",
      "Word: \"mango\" -> \"mango\" not in vocab\n",
      "isPersonalPronoun: False\n",
      "isNumber: False\n",
      "isTopping: True\n",
      "isQuantity: False\n",
      "Word: \"juice\" -> \"juic\" not in vocab\n",
      "isPersonalPronoun: False\n",
      "isNumber: False\n",
      "isTopping: False\n",
      "isQuantity: False\n",
      "Word: \"mango\" -> \"mango\" not in vocab\n",
      "isPersonalPronoun: False\n",
      "isNumber: False\n",
      "isTopping: True\n",
      "isQuantity: False\n",
      "Word: \"juice\" -> \"juic\" not in vocab\n",
      "isPersonalPronoun: False\n",
      "isNumber: False\n",
      "isTopping: False\n",
      "isQuantity: False\n",
      "Word: \"mango\" -> \"mango\" not in vocab\n",
      "isPersonalPronoun: False\n",
      "isNumber: False\n",
      "isTopping: True\n",
      "isQuantity: False\n",
      "Word: \"juice\" -> \"juic\" not in vocab\n",
      "isPersonalPronoun: False\n",
      "isNumber: False\n",
      "isTopping: False\n",
      "isQuantity: False\n",
      "Word: \"mango\" -> \"mango\" not in vocab\n",
      "isPersonalPronoun: False\n",
      "isNumber: False\n",
      "isTopping: True\n",
      "isQuantity: False\n",
      "Word: \"juice\" -> \"juic\" not in vocab\n",
      "isPersonalPronoun: False\n",
      "isNumber: False\n",
      "isTopping: False\n",
      "isQuantity: False\n",
      "Word: \"anted\" -> \"ant\" not in vocab\n",
      "isPersonalPronoun: False\n",
      "isNumber: False\n",
      "isTopping: False\n",
      "isQuantity: False\n"
     ]
    },
    {
     "name": "stderr",
     "output_type": "stream",
     "text": [
      "writing results:  20%|██        | 816/4000 [01:21<03:40, 14.46it/s]"
     ]
    },
    {
     "name": "stdout",
     "output_type": "stream",
     "text": [
      "Word: \"settle\" -> \"settl\" not in vocab\n",
      "isPersonalPronoun: False\n",
      "isNumber: False\n",
      "isTopping: False\n",
      "isQuantity: False\n",
      "Word: \"leeks\" -> \"leek\" not in vocab\n",
      "isPersonalPronoun: False\n",
      "isNumber: False\n",
      "isTopping: True\n",
      "isQuantity: False\n",
      "Word: \"like having\" -> \"like hav\" not in vocab\n",
      "isPersonalPronoun: False\n",
      "isNumber: False\n",
      "isTopping: False\n",
      "isQuantity: False\n",
      "Word: \"cucumber\" -> \"cucumb\" not in vocab\n",
      "isPersonalPronoun: False\n",
      "isNumber: False\n",
      "isTopping: False\n",
      "isQuantity: False\n",
      "Word: \"footing\" -> \"foot\" not in vocab\n",
      "isPersonalPronoun: False\n",
      "isNumber: False\n",
      "isTopping: False\n",
      "isQuantity: True\n"
     ]
    },
    {
     "name": "stderr",
     "output_type": "stream",
     "text": [
      "writing results:  21%|██        | 821/4000 [01:24<12:04,  4.39it/s]"
     ]
    },
    {
     "name": "stdout",
     "output_type": "stream",
     "text": [
      "Word: \"cucumber\" -> \"cucumb\" not in vocab\n",
      "isPersonalPronoun: False\n",
      "isNumber: False\n",
      "isTopping: False\n",
      "isQuantity: False\n",
      "Word: \"footing\" -> \"foot\" not in vocab\n",
      "isPersonalPronoun: False\n",
      "isNumber: False\n",
      "isTopping: False\n",
      "isQuantity: True\n",
      "Word: \"settle\" -> \"settl\" not in vocab\n",
      "isPersonalPronoun: False\n",
      "isNumber: False\n",
      "isTopping: False\n",
      "isQuantity: False\n",
      "Word: \"smoked\" -> \"smoke\" not in vocab\n",
      "isPersonalPronoun: False\n",
      "isNumber: False\n",
      "isTopping: False\n",
      "isQuantity: False\n",
      "Word: \"salon\" -> \"salon\" not in vocab\n",
      "isPersonalPronoun: False\n",
      "isNumber: False\n",
      "isTopping: False\n",
      "isQuantity: False\n",
      "Word: \"smoked\" -> \"smoke\" not in vocab\n",
      "isPersonalPronoun: False\n",
      "isNumber: False\n",
      "isTopping: False\n",
      "isQuantity: False\n",
      "Word: \"salon\" -> \"salon\" not in vocab\n",
      "isPersonalPronoun: False\n",
      "isNumber: False\n",
      "isTopping: False\n",
      "isQuantity: False\n"
     ]
    },
    {
     "name": "stderr",
     "output_type": "stream",
     "text": [
      "writing results:  21%|██        | 824/4000 [01:24<09:06,  5.82it/s]"
     ]
    },
    {
     "name": "stdout",
     "output_type": "stream",
     "text": [
      "Word: \"soy\" -> \"soy\" not in vocab\n",
      "isPersonalPronoun: False\n",
      "isNumber: False\n",
      "isTopping: False\n",
      "isQuantity: False\n",
      "Word: \"soy\" -> \"soy\" not in vocab\n",
      "isPersonalPronoun: False\n",
      "isNumber: False\n",
      "isTopping: False\n",
      "isQuantity: False\n",
      "Word: \"mushy\" -> \"mushi\" not in vocab\n",
      "isPersonalPronoun: False\n",
      "isNumber: False\n",
      "isTopping: False\n",
      "isQuantity: False\n",
      "Word: \"mushy\" -> \"mushi\" not in vocab\n",
      "isPersonalPronoun: False\n",
      "isNumber: False\n",
      "isTopping: False\n",
      "isQuantity: False\n"
     ]
    },
    {
     "name": "stderr",
     "output_type": "stream",
     "text": [
      "writing results:  21%|██        | 829/4000 [01:24<05:50,  9.04it/s]"
     ]
    },
    {
     "name": "stdout",
     "output_type": "stream",
     "text": [
      "Word: \"opt\" -> \"opt\" not in vocab\n",
      "isPersonalPronoun: False\n",
      "isNumber: False\n",
      "isTopping: False\n",
      "isQuantity: False\n",
      "Word: \"Roget\" -> \"roget\" not in vocab\n",
      "isPersonalPronoun: False\n",
      "isNumber: False\n",
      "isTopping: False\n",
      "isQuantity: False\n"
     ]
    },
    {
     "name": "stderr",
     "output_type": "stream",
     "text": [
      "writing results:  21%|██        | 832/4000 [01:24<04:37, 11.43it/s]"
     ]
    },
    {
     "name": "stdout",
     "output_type": "stream",
     "text": [
      "Word: \"fr\" -> \"fr\" not in vocab\n",
      "isPersonalPronoun: False\n",
      "isNumber: False\n",
      "isTopping: False\n",
      "isQuantity: False\n",
      "Word: \"black olive\" -> \"black ol\" not in vocab\n",
      "isPersonalPronoun: False\n",
      "isNumber: False\n",
      "isTopping: False\n",
      "isQuantity: False\n"
     ]
    },
    {
     "name": "stderr",
     "output_type": "stream",
     "text": [
      "writing results:  21%|██        | 839/4000 [01:26<07:23,  7.13it/s]"
     ]
    },
    {
     "name": "stdout",
     "output_type": "stream",
     "text": [
      "Word: \"italiansausage\" -> \"italiansausag\" not in vocab\n",
      "isPersonalPronoun: False\n",
      "isNumber: False\n",
      "isTopping: False\n",
      "isQuantity: False\n",
      "Word: \"interested\" -> \"interest\" not in vocab\n",
      "isPersonalPronoun: False\n",
      "isNumber: False\n",
      "isTopping: False\n",
      "isQuantity: False\n",
      "Word: \"prawns\" -> \"prawn\" not in vocab\n",
      "isPersonalPronoun: False\n",
      "isNumber: False\n",
      "isTopping: False\n",
      "isQuantity: False\n",
      "Word: \"prawns\" -> \"prawn\" not in vocab\n",
      "isPersonalPronoun: False\n",
      "isNumber: False\n",
      "isTopping: False\n",
      "isQuantity: False\n"
     ]
    },
    {
     "name": "stderr",
     "output_type": "stream",
     "text": [
      "writing results:  21%|██        | 843/4000 [01:26<05:29,  9.57it/s]"
     ]
    },
    {
     "name": "stdout",
     "output_type": "stream",
     "text": [
      "Word: \"grab\" -> \"grab\" not in vocab\n",
      "isPersonalPronoun: False\n",
      "isNumber: False\n",
      "isTopping: False\n",
      "isQuantity: False\n",
      "Word: \"blue\" -> \"blue\" not in vocab\n",
      "isPersonalPronoun: False\n",
      "isNumber: False\n",
      "isTopping: False\n",
      "isQuantity: False\n",
      "Word: \"blue\" -> \"blue\" not in vocab\n",
      "isPersonalPronoun: False\n",
      "isNumber: False\n",
      "isTopping: False\n",
      "isQuantity: False\n",
      "Word: \"zest\" -> \"zest\" not in vocab\n",
      "isPersonalPronoun: False\n",
      "isNumber: False\n",
      "isTopping: False\n",
      "isQuantity: False\n",
      "Word: \"zest\" -> \"zest\" not in vocab\n",
      "isPersonalPronoun: False\n",
      "isNumber: False\n",
      "isTopping: False\n",
      "isQuantity: False\n"
     ]
    },
    {
     "name": "stderr",
     "output_type": "stream",
     "text": [
      "writing results:  21%|██        | 846/4000 [01:26<05:22,  9.79it/s]"
     ]
    },
    {
     "name": "stdout",
     "output_type": "stream",
     "text": [
      "Word: \"arrange\" -> \"arrang\" not in vocab\n",
      "isPersonalPronoun: False\n",
      "isNumber: False\n",
      "isTopping: False\n",
      "isQuantity: False\n",
      "Word: \"sweet\" -> \"sweet\" not in vocab\n",
      "isPersonalPronoun: False\n",
      "isNumber: False\n",
      "isTopping: False\n",
      "isQuantity: False\n",
      "Word: \"sweet\" -> \"sweet\" not in vocab\n",
      "isPersonalPronoun: False\n",
      "isNumber: False\n",
      "isTopping: False\n",
      "isQuantity: False\n",
      "Word: \"large size\" -> \"large s\" not in vocab\n",
      "isPersonalPronoun: False\n",
      "isNumber: False\n",
      "isTopping: False\n",
      "isQuantity: False\n",
      "Word: \"lamb\" -> \"lamb\" not in vocab\n",
      "isPersonalPronoun: False\n",
      "isNumber: False\n",
      "isTopping: False\n",
      "isQuantity: False\n"
     ]
    },
    {
     "name": "stderr",
     "output_type": "stream",
     "text": [
      "writing results:  21%|██        | 848/4000 [01:26<05:30,  9.55it/s]"
     ]
    },
    {
     "name": "stdout",
     "output_type": "stream",
     "text": [
      "Word: \"large size\" -> \"large s\" not in vocab\n",
      "isPersonalPronoun: False\n",
      "isNumber: False\n",
      "isTopping: False\n",
      "isQuantity: False\n",
      "Word: \"lamb\" -> \"lamb\" not in vocab\n",
      "isPersonalPronoun: False\n",
      "isNumber: False\n",
      "isTopping: False\n",
      "isQuantity: False\n",
      "Word: \"sweet\" -> \"sweet\" not in vocab\n",
      "isPersonalPronoun: False\n",
      "isNumber: False\n",
      "isTopping: False\n",
      "isQuantity: False\n",
      "Word: \"sweet\" -> \"sweet\" not in vocab\n",
      "isPersonalPronoun: False\n",
      "isNumber: False\n",
      "isTopping: False\n",
      "isQuantity: False\n",
      "Word: \"poppy\" -> \"poppi\" not in vocab\n",
      "isPersonalPronoun: False\n",
      "isNumber: False\n",
      "isTopping: False\n",
      "isQuantity: False\n",
      "Word: \"seeds\" -> \"seed\" not in vocab\n",
      "isPersonalPronoun: False\n",
      "isNumber: False\n",
      "isTopping: False\n",
      "isQuantity: False\n"
     ]
    },
    {
     "name": "stderr",
     "output_type": "stream",
     "text": [
      "writing results:  21%|██▏       | 850/4000 [01:27<05:31,  9.51it/s]"
     ]
    },
    {
     "name": "stdout",
     "output_type": "stream",
     "text": [
      "Word: \"poppy\" -> \"poppi\" not in vocab\n",
      "isPersonalPronoun: False\n",
      "isNumber: False\n",
      "isTopping: False\n",
      "isQuantity: False\n",
      "Word: \"seeds\" -> \"seed\" not in vocab\n",
      "isPersonalPronoun: False\n",
      "isNumber: False\n",
      "isTopping: False\n",
      "isQuantity: False\n",
      "Word: \"footing\" -> \"foot\" not in vocab\n",
      "isPersonalPronoun: False\n",
      "isNumber: False\n",
      "isTopping: False\n",
      "isQuantity: True\n"
     ]
    },
    {
     "name": "stderr",
     "output_type": "stream",
     "text": [
      "writing results:  21%|██▏       | 852/4000 [01:27<09:23,  5.59it/s]"
     ]
    },
    {
     "name": "stdout",
     "output_type": "stream",
     "text": [
      "Word: \"footing\" -> \"foot\" not in vocab\n",
      "isPersonalPronoun: False\n",
      "isNumber: False\n",
      "isTopping: False\n",
      "isQuantity: True\n",
      "Word: \"zest\" -> \"zest\" not in vocab\n",
      "isPersonalPronoun: False\n",
      "isNumber: False\n",
      "isTopping: False\n",
      "isQuantity: False\n",
      "Word: \"prawns\" -> \"prawn\" not in vocab\n",
      "isPersonalPronoun: False\n",
      "isNumber: False\n",
      "isTopping: False\n",
      "isQuantity: False\n",
      "Word: \"zest\" -> \"zest\" not in vocab\n",
      "isPersonalPronoun: False\n",
      "isNumber: False\n",
      "isTopping: False\n",
      "isQuantity: False\n",
      "Word: \"poppy\" -> \"poppi\" not in vocab\n",
      "isPersonalPronoun: False\n",
      "isNumber: False\n",
      "isTopping: False\n",
      "isQuantity: False\n",
      "Word: \"seeds\" -> \"seed\" not in vocab\n",
      "isPersonalPronoun: False\n",
      "isNumber: False\n",
      "isTopping: False\n",
      "isQuantity: False\n"
     ]
    },
    {
     "name": "stderr",
     "output_type": "stream",
     "text": [
      "writing results:  21%|██▏       | 854/4000 [01:28<08:29,  6.17it/s]"
     ]
    },
    {
     "name": "stdout",
     "output_type": "stream",
     "text": [
      "Word: \"poppy\" -> \"poppi\" not in vocab\n",
      "isPersonalPronoun: False\n",
      "isNumber: False\n",
      "isTopping: False\n",
      "isQuantity: False\n",
      "Word: \"seeds\" -> \"seed\" not in vocab\n",
      "isPersonalPronoun: False\n",
      "isNumber: False\n",
      "isTopping: False\n",
      "isQuantity: False\n",
      "Word: \"sweet\" -> \"sweet\" not in vocab\n",
      "isPersonalPronoun: False\n",
      "isNumber: False\n",
      "isTopping: False\n",
      "isQuantity: False\n",
      "Word: \"sweet\" -> \"sweet\" not in vocab\n",
      "isPersonalPronoun: False\n",
      "isNumber: False\n",
      "isTopping: False\n",
      "isQuantity: False\n",
      "Word: \"finalize\" -> \"final\" not in vocab\n",
      "isPersonalPronoun: False\n",
      "isNumber: False\n",
      "isTopping: False\n",
      "isQuantity: False\n",
      "Word: \"cranberry juice\" -> \"cranberry juic\" not in vocab\n",
      "isPersonalPronoun: False\n",
      "isNumber: False\n",
      "isTopping: False\n",
      "isQuantity: False\n"
     ]
    },
    {
     "name": "stderr",
     "output_type": "stream",
     "text": [
      "writing results:  21%|██▏       | 859/4000 [01:28<05:38,  9.28it/s]"
     ]
    },
    {
     "name": "stdout",
     "output_type": "stream",
     "text": [
      "Word: \"cranberry juice\" -> \"cranberry juic\" not in vocab\n",
      "isPersonalPronoun: False\n",
      "isNumber: False\n",
      "isTopping: False\n",
      "isQuantity: False\n",
      "Word: \"handle\" -> \"handl\" not in vocab\n",
      "isPersonalPronoun: False\n",
      "isNumber: False\n",
      "isTopping: False\n",
      "isQuantity: False\n",
      "Word: \"sweet\" -> \"sweet\" not in vocab\n",
      "isPersonalPronoun: False\n",
      "isNumber: False\n",
      "isTopping: False\n",
      "isQuantity: False\n",
      "Word: \"sweet\" -> \"sweet\" not in vocab\n",
      "isPersonalPronoun: False\n",
      "isNumber: False\n",
      "isTopping: False\n",
      "isQuantity: False\n",
      "Word: \"prawns\" -> \"prawn\" not in vocab\n",
      "isPersonalPronoun: False\n",
      "isNumber: False\n",
      "isTopping: False\n",
      "isQuantity: False\n"
     ]
    },
    {
     "name": "stderr",
     "output_type": "stream",
     "text": [
      "writing results:  22%|██▏       | 863/4000 [01:28<04:53, 10.69it/s]"
     ]
    },
    {
     "name": "stdout",
     "output_type": "stream",
     "text": [
      "Word: \"prawns\" -> \"prawn\" not in vocab\n",
      "isPersonalPronoun: False\n",
      "isNumber: False\n",
      "isTopping: False\n",
      "isQuantity: False\n",
      "Word: \"prawns\" -> \"prawn\" not in vocab\n",
      "isPersonalPronoun: False\n",
      "isNumber: False\n",
      "isTopping: False\n",
      "isQuantity: False\n",
      "Word: \"time\" -> \"time\" not in vocab\n",
      "isPersonalPronoun: False\n",
      "isNumber: False\n",
      "isTopping: False\n",
      "isQuantity: False\n",
      "Word: \"blue\" -> \"blue\" not in vocab\n",
      "isPersonalPronoun: False\n",
      "isNumber: False\n",
      "isTopping: False\n",
      "isQuantity: False\n",
      "Word: \"blue\" -> \"blue\" not in vocab\n",
      "isPersonalPronoun: False\n",
      "isNumber: False\n",
      "isTopping: False\n",
      "isQuantity: False\n"
     ]
    },
    {
     "name": "stderr",
     "output_type": "stream",
     "text": [
      "writing results:  22%|██▏       | 867/4000 [01:28<03:45, 13.89it/s]"
     ]
    },
    {
     "name": "stdout",
     "output_type": "stream",
     "text": [
      "Word: \"sriracha\" -> \"sriracha\" not in vocab\n",
      "isPersonalPronoun: False\n",
      "isNumber: False\n",
      "isTopping: True\n",
      "isQuantity: False\n",
      "Word: \"sriracha\" -> \"sriracha\" not in vocab\n",
      "isPersonalPronoun: False\n",
      "isNumber: False\n",
      "isTopping: True\n",
      "isQuantity: False\n",
      "Word: \"duck\" -> \"duck\" not in vocab\n",
      "isPersonalPronoun: False\n",
      "isNumber: False\n",
      "isTopping: False\n",
      "isQuantity: False\n",
      "Word: \"duck\" -> \"duck\" not in vocab\n",
      "isPersonalPronoun: False\n",
      "isNumber: False\n",
      "isTopping: False\n",
      "isQuantity: False\n"
     ]
    },
    {
     "name": "stderr",
     "output_type": "stream",
     "text": [
      "writing results:  22%|██▏       | 875/4000 [01:29<02:35, 20.14it/s]"
     ]
    },
    {
     "name": "stdout",
     "output_type": "stream",
     "text": [
      "Word: \"shy\" -> \"shi\" not in vocab\n",
      "isPersonalPronoun: False\n",
      "isNumber: False\n",
      "isTopping: False\n",
      "isQuantity: False\n",
      "Word: \"shy\" -> \"shi\" not in vocab\n",
      "isPersonalPronoun: False\n",
      "isNumber: False\n",
      "isTopping: False\n",
      "isQuantity: False\n",
      "Word: \"sports\" -> \"sport\" not in vocab\n",
      "isPersonalPronoun: False\n",
      "isNumber: False\n",
      "isTopping: False\n",
      "isQuantity: False\n",
      "Word: \"sports\" -> \"sport\" not in vocab\n",
      "isPersonalPronoun: False\n",
      "isNumber: False\n",
      "isTopping: False\n",
      "isQuantity: False\n"
     ]
    },
    {
     "name": "stderr",
     "output_type": "stream",
     "text": [
      "writing results:  22%|██▏       | 878/4000 [01:29<03:23, 15.34it/s]"
     ]
    },
    {
     "name": "stdout",
     "output_type": "stream",
     "text": [
      "Word: \"settle\" -> \"settl\" not in vocab\n",
      "isPersonalPronoun: False\n",
      "isNumber: False\n",
      "isTopping: False\n",
      "isQuantity: False\n",
      "Word: \"ground beef\" -> \"ground beef\" not in vocab\n",
      "isPersonalPronoun: False\n",
      "isNumber: False\n",
      "isTopping: False\n",
      "isQuantity: False\n",
      "Word: \"ground beef\" -> \"ground beef\" not in vocab\n",
      "isPersonalPronoun: False\n",
      "isNumber: False\n",
      "isTopping: False\n",
      "isQuantity: False\n",
      "Word: \"hummus\" -> \"hummu\" not in vocab\n",
      "isPersonalPronoun: False\n",
      "isNumber: False\n",
      "isTopping: False\n",
      "isQuantity: False\n",
      "Word: \"hummus\" -> \"hummu\" not in vocab\n",
      "isPersonalPronoun: False\n",
      "isNumber: False\n",
      "isTopping: False\n",
      "isQuantity: False\n"
     ]
    },
    {
     "name": "stderr",
     "output_type": "stream",
     "text": [
      "writing results:  22%|██▏       | 880/4000 [01:29<03:31, 14.75it/s]"
     ]
    },
    {
     "name": "stdout",
     "output_type": "stream",
     "text": [
      "Word: \"hummus\" -> \"hummu\" not in vocab\n",
      "isPersonalPronoun: False\n",
      "isNumber: False\n",
      "isTopping: False\n",
      "isQuantity: False\n",
      "Word: \"going to\" -> \"going to\" not in vocab\n",
      "isPersonalPronoun: False\n",
      "isNumber: False\n",
      "isTopping: False\n",
      "isQuantity: False\n",
      "Word: \"prawns\" -> \"prawn\" not in vocab\n",
      "isPersonalPronoun: False\n",
      "isNumber: False\n",
      "isTopping: False\n",
      "isQuantity: False\n",
      "Word: \"prawns\" -> \"prawn\" not in vocab\n",
      "isPersonalPronoun: False\n",
      "isNumber: False\n",
      "isTopping: False\n",
      "isQuantity: False\n"
     ]
    },
    {
     "name": "stderr",
     "output_type": "stream",
     "text": [
      "writing results:  22%|██▏       | 882/4000 [01:29<04:32, 11.46it/s]"
     ]
    },
    {
     "name": "stdout",
     "output_type": "stream",
     "text": [
      "Word: \"sort\" -> \"sort\" not in vocab\n",
      "isPersonalPronoun: False\n",
      "isNumber: False\n",
      "isTopping: False\n",
      "isQuantity: False\n",
      "Word: \"espresso\" -> \"espresso\" not in vocab\n",
      "isPersonalPronoun: False\n",
      "isNumber: False\n",
      "isTopping: False\n",
      "isQuantity: False\n",
      "Word: \"espresso\" -> \"espresso\" not in vocab\n",
      "isPersonalPronoun: False\n",
      "isNumber: False\n",
      "isTopping: False\n",
      "isQuantity: False\n"
     ]
    },
    {
     "name": "stderr",
     "output_type": "stream",
     "text": [
      "writing results:  22%|██▏       | 886/4000 [01:30<04:15, 12.21it/s]"
     ]
    },
    {
     "name": "stdout",
     "output_type": "stream",
     "text": [
      "Word: \"i've\" -> \"i'v\" not in vocab\n",
      "isPersonalPronoun: False\n",
      "isNumber: False\n",
      "isTopping: False\n",
      "isQuantity: False\n",
      "Word: \"decided\" -> \"decid\" not in vocab\n",
      "isPersonalPronoun: False\n",
      "isNumber: False\n",
      "isTopping: False\n",
      "isQuantity: False\n",
      "Word: \"settle\" -> \"settl\" not in vocab\n",
      "isPersonalPronoun: False\n",
      "isNumber: False\n",
      "isTopping: False\n",
      "isQuantity: False\n"
     ]
    },
    {
     "name": "stderr",
     "output_type": "stream",
     "text": [
      "writing results:  22%|██▏       | 888/4000 [01:30<04:09, 12.46it/s]"
     ]
    },
    {
     "name": "stdout",
     "output_type": "stream",
     "text": [
      "Word: \"juice\" -> \"juic\" not in vocab\n",
      "isPersonalPronoun: False\n",
      "isNumber: False\n",
      "isTopping: False\n",
      "isQuantity: False\n",
      "Word: \"boxes\" -> \"box\" not in vocab\n",
      "isPersonalPronoun: False\n",
      "isNumber: False\n",
      "isTopping: False\n",
      "isQuantity: False\n",
      "Word: \"juice\" -> \"juic\" not in vocab\n",
      "isPersonalPronoun: False\n",
      "isNumber: False\n",
      "isTopping: False\n",
      "isQuantity: False\n",
      "Word: \"boxes\" -> \"box\" not in vocab\n",
      "isPersonalPronoun: False\n",
      "isNumber: False\n",
      "isTopping: False\n",
      "isQuantity: False\n",
      "Word: \"lamb\" -> \"lamb\" not in vocab\n",
      "isPersonalPronoun: False\n",
      "isNumber: False\n",
      "isTopping: False\n",
      "isQuantity: False\n",
      "Word: \"lutes\" -> \"lute\" not in vocab\n",
      "isPersonalPronoun: False\n",
      "isNumber: False\n",
      "isTopping: False\n",
      "isQuantity: False\n"
     ]
    },
    {
     "name": "stderr",
     "output_type": "stream",
     "text": [
      "writing results:  22%|██▏       | 895/4000 [01:30<02:49, 18.33it/s]"
     ]
    },
    {
     "name": "stdout",
     "output_type": "stream",
     "text": [
      "Word: \"lutes\" -> \"lute\" not in vocab\n",
      "isPersonalPronoun: False\n",
      "isNumber: False\n",
      "isTopping: False\n",
      "isQuantity: False\n"
     ]
    },
    {
     "name": "stderr",
     "output_type": "stream",
     "text": [
      "writing results:  23%|██▎       | 901/4000 [01:30<02:01, 25.51it/s]"
     ]
    },
    {
     "name": "stdout",
     "output_type": "stream",
     "text": [
      "Word: \"cider\" -> \"cider\" not in vocab\n",
      "isPersonalPronoun: False\n",
      "isNumber: False\n",
      "isTopping: False\n",
      "isQuantity: False\n",
      "Word: \"want to\" -> \"want to\" not in vocab\n",
      "isPersonalPronoun: False\n",
      "isNumber: False\n",
      "isTopping: False\n",
      "isQuantity: False\n",
      "Word: \"Leighton\" -> \"leighton\" not in vocab\n",
      "isPersonalPronoun: False\n",
      "isNumber: False\n",
      "isTopping: False\n",
      "isQuantity: False\n",
      "Word: \"sauted\" -> \"saut\" not in vocab\n",
      "isPersonalPronoun: False\n",
      "isNumber: False\n",
      "isTopping: False\n",
      "isQuantity: False\n"
     ]
    },
    {
     "name": "stderr",
     "output_type": "stream",
     "text": [
      "writing results:  23%|██▎       | 904/4000 [01:31<03:05, 16.70it/s]"
     ]
    },
    {
     "name": "stdout",
     "output_type": "stream",
     "text": [
      "Word: \"Leighton\" -> \"leighton\" not in vocab\n",
      "isPersonalPronoun: False\n",
      "isNumber: False\n",
      "isTopping: False\n",
      "isQuantity: False\n",
      "Word: \"sauted\" -> \"saut\" not in vocab\n",
      "isPersonalPronoun: False\n",
      "isNumber: False\n",
      "isTopping: False\n",
      "isQuantity: False\n",
      "Word: \"prawns\" -> \"prawn\" not in vocab\n",
      "isPersonalPronoun: False\n",
      "isNumber: False\n",
      "isTopping: False\n",
      "isQuantity: False\n",
      "Word: \"goat\" -> \"goat\" not in vocab\n",
      "isPersonalPronoun: False\n",
      "isNumber: False\n",
      "isTopping: False\n",
      "isQuantity: False\n",
      "Word: \"prawns\" -> \"prawn\" not in vocab\n",
      "isPersonalPronoun: False\n",
      "isNumber: False\n",
      "isTopping: False\n",
      "isQuantity: False\n",
      "Word: \"goat\" -> \"goat\" not in vocab\n",
      "isPersonalPronoun: False\n",
      "isNumber: False\n",
      "isTopping: False\n",
      "isQuantity: False\n"
     ]
    },
    {
     "name": "stderr",
     "output_type": "stream",
     "text": [
      "writing results:  23%|██▎       | 907/4000 [01:31<03:41, 13.97it/s]"
     ]
    },
    {
     "name": "stdout",
     "output_type": "stream",
     "text": [
      "Word: \"poppy\" -> \"poppi\" not in vocab\n",
      "isPersonalPronoun: False\n",
      "isNumber: False\n",
      "isTopping: False\n",
      "isQuantity: False\n",
      "Word: \"seeds\" -> \"seed\" not in vocab\n",
      "isPersonalPronoun: False\n",
      "isNumber: False\n",
      "isTopping: False\n",
      "isQuantity: False\n",
      "Word: \"poppy\" -> \"poppi\" not in vocab\n",
      "isPersonalPronoun: False\n",
      "isNumber: False\n",
      "isTopping: False\n",
      "isQuantity: False\n",
      "Word: \"seeds\" -> \"seed\" not in vocab\n",
      "isPersonalPronoun: False\n",
      "isNumber: False\n",
      "isTopping: False\n",
      "isQuantity: False\n"
     ]
    },
    {
     "name": "stderr",
     "output_type": "stream",
     "text": [
      "writing results:  23%|██▎       | 909/4000 [01:31<04:09, 12.37it/s]"
     ]
    },
    {
     "name": "stdout",
     "output_type": "stream",
     "text": [
      "Word: \"cabbage\" -> \"cabbag\" not in vocab\n",
      "isPersonalPronoun: False\n",
      "isNumber: False\n",
      "isTopping: False\n",
      "isQuantity: False\n",
      "Word: \"cabbage\" -> \"cabbag\" not in vocab\n",
      "isPersonalPronoun: False\n",
      "isNumber: False\n",
      "isTopping: False\n",
      "isQuantity: False\n",
      "Word: \"settle\" -> \"settl\" not in vocab\n",
      "isPersonalPronoun: False\n",
      "isNumber: False\n",
      "isTopping: False\n",
      "isQuantity: False\n",
      "Word: \"cucumber\" -> \"cucumb\" not in vocab\n",
      "isPersonalPronoun: False\n",
      "isNumber: False\n",
      "isTopping: False\n",
      "isQuantity: False\n",
      "Word: \"cucumber\" -> \"cucumb\" not in vocab\n",
      "isPersonalPronoun: False\n",
      "isNumber: False\n",
      "isTopping: False\n",
      "isQuantity: False\n",
      "Word: \"LOOF\" -> \"loof\" not in vocab\n",
      "isPersonalPronoun: False\n",
      "isNumber: False\n",
      "isTopping: False\n",
      "isQuantity: False\n",
      "Word: \"garlic powder\" -> \"garlic powd\" not in vocab\n",
      "isPersonalPronoun: False\n",
      "isNumber: False\n",
      "isTopping: False\n",
      "isQuantity: False\n"
     ]
    },
    {
     "name": "stderr",
     "output_type": "stream",
     "text": [
      "writing results:  23%|██▎       | 914/4000 [01:32<05:30,  9.34it/s]"
     ]
    },
    {
     "name": "stdout",
     "output_type": "stream",
     "text": [
      "Word: \"LOOF\" -> \"loof\" not in vocab\n",
      "isPersonalPronoun: False\n",
      "isNumber: False\n",
      "isTopping: False\n",
      "isQuantity: False\n",
      "Word: \"garlic powder\" -> \"garlic powd\" not in vocab\n",
      "isPersonalPronoun: False\n",
      "isNumber: False\n",
      "isTopping: False\n",
      "isQuantity: False\n",
      "Word: \"order me\" -> \"order m\" not in vocab\n",
      "isPersonalPronoun: False\n",
      "isNumber: False\n",
      "isTopping: False\n",
      "isQuantity: False\n",
      "Word: \"blue\" -> \"blue\" not in vocab\n",
      "isPersonalPronoun: False\n",
      "isNumber: False\n",
      "isTopping: False\n",
      "isQuantity: False\n"
     ]
    },
    {
     "name": "stderr",
     "output_type": "stream",
     "text": [
      "writing results:  23%|██▎       | 918/4000 [01:32<04:24, 11.66it/s]"
     ]
    },
    {
     "name": "stdout",
     "output_type": "stream",
     "text": [
      "Word: \"blue\" -> \"blue\" not in vocab\n",
      "isPersonalPronoun: False\n",
      "isNumber: False\n",
      "isTopping: False\n",
      "isQuantity: False\n",
      "Word: \"finalize\" -> \"final\" not in vocab\n",
      "isPersonalPronoun: False\n",
      "isNumber: False\n",
      "isTopping: False\n",
      "isQuantity: False\n",
      "Word: \"like have\" -> \"like hav\" not in vocab\n",
      "isPersonalPronoun: False\n",
      "isNumber: False\n",
      "isTopping: False\n",
      "isQuantity: False\n",
      "Word: \"leeks\" -> \"leek\" not in vocab\n",
      "isPersonalPronoun: False\n",
      "isNumber: False\n",
      "isTopping: True\n",
      "isQuantity: False\n"
     ]
    },
    {
     "name": "stderr",
     "output_type": "stream",
     "text": [
      "writing results:  23%|██▎       | 922/4000 [01:32<03:12, 15.99it/s]"
     ]
    },
    {
     "name": "stdout",
     "output_type": "stream",
     "text": [
      "Word: \"leeks\" -> \"leek\" not in vocab\n",
      "isPersonalPronoun: False\n",
      "isNumber: False\n",
      "isTopping: True\n",
      "isQuantity: False\n",
      "Word: \"sirach\" -> \"sirach\" not in vocab\n",
      "isPersonalPronoun: False\n",
      "isNumber: False\n",
      "isTopping: False\n",
      "isQuantity: False\n",
      "Word: \"poppy\" -> \"poppi\" not in vocab\n",
      "isPersonalPronoun: False\n",
      "isNumber: False\n",
      "isTopping: False\n",
      "isQuantity: False\n",
      "Word: \"seeds\" -> \"seed\" not in vocab\n",
      "isPersonalPronoun: False\n",
      "isNumber: False\n",
      "isTopping: False\n",
      "isQuantity: False\n",
      "Word: \"sirach\" -> \"sirach\" not in vocab\n",
      "isPersonalPronoun: False\n",
      "isNumber: False\n",
      "isTopping: False\n",
      "isQuantity: False\n",
      "Word: \"poppy\" -> \"poppi\" not in vocab\n",
      "isPersonalPronoun: False\n",
      "isNumber: False\n",
      "isTopping: False\n",
      "isQuantity: False\n",
      "Word: \"seeds\" -> \"seed\" not in vocab\n",
      "isPersonalPronoun: False\n",
      "isNumber: False\n",
      "isTopping: False\n",
      "isQuantity: False\n",
      "Word: \"opting\" -> \"opt\" not in vocab\n",
      "isPersonalPronoun: False\n",
      "isNumber: False\n",
      "isTopping: False\n",
      "isQuantity: False\n",
      "Word: \"sriracha\" -> \"sriracha\" not in vocab\n",
      "isPersonalPronoun: False\n",
      "isNumber: False\n",
      "isTopping: True\n",
      "isQuantity: False\n",
      "Word: \"sriracha\" -> \"sriracha\" not in vocab\n",
      "isPersonalPronoun: False\n",
      "isNumber: False\n",
      "isTopping: True\n",
      "isQuantity: False\n"
     ]
    },
    {
     "name": "stderr",
     "output_type": "stream",
     "text": [
      "writing results:  23%|██▎       | 927/4000 [01:34<07:44,  6.61it/s]"
     ]
    },
    {
     "name": "stdout",
     "output_type": "stream",
     "text": [
      "Word: \"lemme\" -> \"lemm\" not in vocab\n",
      "isPersonalPronoun: False\n",
      "isNumber: False\n",
      "isTopping: False\n",
      "isQuantity: False\n",
      "Word: \"an order\" -> \"an ord\" not in vocab\n",
      "isPersonalPronoun: False\n",
      "isNumber: False\n",
      "isTopping: False\n",
      "isQuantity: False\n",
      "Word: \"flavored\" -> \"flavor\" not in vocab\n",
      "isPersonalPronoun: False\n",
      "isNumber: False\n",
      "isTopping: False\n",
      "isQuantity: False\n",
      "Word: \"flavored\" -> \"flavor\" not in vocab\n",
      "isPersonalPronoun: False\n",
      "isNumber: False\n",
      "isTopping: False\n",
      "isQuantity: False\n"
     ]
    },
    {
     "name": "stderr",
     "output_type": "stream",
     "text": [
      "writing results:  23%|██▎       | 929/4000 [01:34<07:15,  7.05it/s]"
     ]
    },
    {
     "name": "stdout",
     "output_type": "stream",
     "text": [
      "Word: \"lamb\" -> \"lamb\" not in vocab\n",
      "isPersonalPronoun: False\n",
      "isNumber: False\n",
      "isTopping: False\n",
      "isQuantity: False\n",
      "Word: \"lamb\" -> \"lamb\" not in vocab\n",
      "isPersonalPronoun: False\n",
      "isNumber: False\n",
      "isTopping: False\n",
      "isQuantity: False\n",
      "Word: \"smoked\" -> \"smoke\" not in vocab\n",
      "isPersonalPronoun: False\n",
      "isNumber: False\n",
      "isTopping: False\n",
      "isQuantity: False\n",
      "Word: \"salmon\" -> \"salmon\" not in vocab\n",
      "isPersonalPronoun: False\n",
      "isNumber: False\n",
      "isTopping: False\n",
      "isQuantity: False\n",
      "Word: \"smoked\" -> \"smoke\" not in vocab\n",
      "isPersonalPronoun: False\n",
      "isNumber: False\n",
      "isTopping: False\n",
      "isQuantity: False\n",
      "Word: \"salmon\" -> \"salmon\" not in vocab\n",
      "isPersonalPronoun: False\n",
      "isNumber: False\n",
      "isTopping: False\n",
      "isQuantity: False\n"
     ]
    },
    {
     "name": "stderr",
     "output_type": "stream",
     "text": [
      "writing results:  23%|██▎       | 932/4000 [01:34<05:50,  8.76it/s]"
     ]
    },
    {
     "name": "stdout",
     "output_type": "stream",
     "text": [
      "Word: \"grab\" -> \"grab\" not in vocab\n",
      "isPersonalPronoun: False\n",
      "isNumber: False\n",
      "isTopping: False\n",
      "isQuantity: False\n",
      "Word: \"bell peppers\" -> \"bell pepp\" not in vocab\n",
      "isPersonalPronoun: False\n",
      "isNumber: False\n",
      "isTopping: False\n",
      "isQuantity: False\n",
      "Word: \"bell peppers\" -> \"bell pepp\" not in vocab\n",
      "isPersonalPronoun: False\n",
      "isNumber: False\n",
      "isTopping: False\n",
      "isQuantity: False\n"
     ]
    },
    {
     "name": "stderr",
     "output_type": "stream",
     "text": [
      "writing results:  24%|██▎       | 942/4000 [01:35<03:25, 14.85it/s]"
     ]
    },
    {
     "name": "stdout",
     "output_type": "stream",
     "text": [
      "Word: \"heavy\" -> \"heavi\" not in vocab\n",
      "isPersonalPronoun: False\n",
      "isNumber: False\n",
      "isTopping: False\n",
      "isQuantity: False\n",
      "Word: \"grape\" -> \"grape\" not in vocab\n",
      "isPersonalPronoun: False\n",
      "isNumber: False\n",
      "isTopping: True\n",
      "isQuantity: False\n",
      "Word: \"juice\" -> \"juic\" not in vocab\n",
      "isPersonalPronoun: False\n",
      "isNumber: False\n",
      "isTopping: False\n",
      "isQuantity: False\n",
      "Word: \"heavy\" -> \"heavi\" not in vocab\n",
      "isPersonalPronoun: False\n",
      "isNumber: False\n",
      "isTopping: False\n",
      "isQuantity: False\n",
      "Word: \"grape\" -> \"grape\" not in vocab\n",
      "isPersonalPronoun: False\n",
      "isNumber: False\n",
      "isTopping: True\n",
      "isQuantity: False\n",
      "Word: \"juice\" -> \"juic\" not in vocab\n",
      "isPersonalPronoun: False\n",
      "isNumber: False\n",
      "isTopping: False\n",
      "isQuantity: False\n",
      "Word: \"kimchi\" -> \"kimchi\" not in vocab\n",
      "isPersonalPronoun: False\n",
      "isNumber: False\n",
      "isTopping: False\n",
      "isQuantity: False\n"
     ]
    },
    {
     "name": "stderr",
     "output_type": "stream",
     "text": [
      "writing results:  24%|██▎       | 945/4000 [01:35<03:28, 14.67it/s]"
     ]
    },
    {
     "name": "stdout",
     "output_type": "stream",
     "text": [
      "Word: \"kimchi\" -> \"kimchi\" not in vocab\n",
      "isPersonalPronoun: False\n",
      "isNumber: False\n",
      "isTopping: False\n",
      "isQuantity: False\n",
      "Word: \"mushy\" -> \"mushi\" not in vocab\n",
      "isPersonalPronoun: False\n",
      "isNumber: False\n",
      "isTopping: False\n",
      "isQuantity: False\n",
      "Word: \"mushy\" -> \"mushi\" not in vocab\n",
      "isPersonalPronoun: False\n",
      "isNumber: False\n",
      "isTopping: False\n",
      "isQuantity: False\n",
      "Word: \"zest\" -> \"zest\" not in vocab\n",
      "isPersonalPronoun: False\n",
      "isNumber: False\n",
      "isTopping: False\n",
      "isQuantity: False\n"
     ]
    },
    {
     "name": "stderr",
     "output_type": "stream",
     "text": [
      "writing results:  24%|██▎       | 948/4000 [01:35<03:47, 13.43it/s]"
     ]
    },
    {
     "name": "stdout",
     "output_type": "stream",
     "text": [
      "Word: \"zest\" -> \"zest\" not in vocab\n",
      "isPersonalPronoun: False\n",
      "isNumber: False\n",
      "isTopping: False\n",
      "isQuantity: False\n",
      "Word: \"finalize\" -> \"final\" not in vocab\n",
      "isPersonalPronoun: False\n",
      "isNumber: False\n",
      "isTopping: False\n",
      "isQuantity: False\n",
      "Word: \"get me\" -> \"get m\" not in vocab\n",
      "isPersonalPronoun: False\n",
      "isNumber: False\n",
      "isTopping: False\n",
      "isQuantity: False\n"
     ]
    },
    {
     "name": "stderr",
     "output_type": "stream",
     "text": [
      "writing results:  24%|██▍       | 951/4000 [01:35<03:37, 14.03it/s]"
     ]
    },
    {
     "name": "stdout",
     "output_type": "stream",
     "text": [
      "Word: \"arrange\" -> \"arrang\" not in vocab\n",
      "isPersonalPronoun: False\n",
      "isNumber: False\n",
      "isTopping: False\n",
      "isQuantity: False\n",
      "Word: \"sriracha\" -> \"sriracha\" not in vocab\n",
      "isPersonalPronoun: False\n",
      "isNumber: False\n",
      "isTopping: True\n",
      "isQuantity: False\n",
      "Word: \"sriracha\" -> \"sriracha\" not in vocab\n",
      "isPersonalPronoun: False\n",
      "isNumber: False\n",
      "isTopping: True\n",
      "isQuantity: False\n",
      "Word: \"sweet\" -> \"sweet\" not in vocab\n",
      "isPersonalPronoun: False\n",
      "isNumber: False\n",
      "isTopping: False\n",
      "isQuantity: False\n",
      "Word: \"soy\" -> \"soy\" not in vocab\n",
      "isPersonalPronoun: False\n",
      "isNumber: False\n",
      "isTopping: False\n",
      "isQuantity: False\n",
      "Word: \"sweet\" -> \"sweet\" not in vocab\n",
      "isPersonalPronoun: False\n",
      "isNumber: False\n",
      "isTopping: False\n",
      "isQuantity: False\n",
      "Word: \"soy\" -> \"soy\" not in vocab\n",
      "isPersonalPronoun: False\n",
      "isNumber: False\n",
      "isTopping: False\n",
      "isQuantity: False\n"
     ]
    },
    {
     "name": "stderr",
     "output_type": "stream",
     "text": [
      "writing results:  24%|██▍       | 957/4000 [01:36<03:50, 13.20it/s]"
     ]
    },
    {
     "name": "stdout",
     "output_type": "stream",
     "text": [
      "Word: \"sarsaparilla\" -> \"sarsaparilla\" not in vocab\n",
      "isPersonalPronoun: False\n",
      "isNumber: False\n",
      "isTopping: False\n",
      "isQuantity: False\n",
      "Word: \"sarsaparilla\" -> \"sarsaparilla\" not in vocab\n",
      "isPersonalPronoun: False\n",
      "isNumber: False\n",
      "isTopping: False\n",
      "isQuantity: False\n",
      "Word: \"eat\" -> \"eat\" not in vocab\n",
      "isPersonalPronoun: False\n",
      "isNumber: False\n",
      "isTopping: False\n",
      "isQuantity: False\n",
      "Word: \"eat\" -> \"eat\" not in vocab\n",
      "isPersonalPronoun: False\n",
      "isNumber: False\n",
      "isTopping: False\n",
      "isQuantity: False\n",
      "Word: \"eat\" -> \"eat\" not in vocab\n",
      "isPersonalPronoun: False\n",
      "isNumber: False\n",
      "isTopping: False\n",
      "isQuantity: False\n"
     ]
    },
    {
     "name": "stderr",
     "output_type": "stream",
     "text": [
      "writing results:  24%|██▍       | 959/4000 [01:36<03:55, 12.89it/s]"
     ]
    },
    {
     "name": "stdout",
     "output_type": "stream",
     "text": [
      "Word: \"arrange\" -> \"arrang\" not in vocab\n",
      "isPersonalPronoun: False\n",
      "isNumber: False\n",
      "isTopping: False\n",
      "isQuantity: False\n"
     ]
    },
    {
     "name": "stderr",
     "output_type": "stream",
     "text": [
      "writing results:  24%|██▍       | 965/4000 [01:36<02:48, 18.01it/s]"
     ]
    },
    {
     "name": "stdout",
     "output_type": "stream",
     "text": [
      "Word: \"i've\" -> \"i'v\" not in vocab\n",
      "isPersonalPronoun: False\n",
      "isNumber: False\n",
      "isTopping: False\n",
      "isQuantity: False\n",
      "Word: \"decided\" -> \"decid\" not in vocab\n",
      "isPersonalPronoun: False\n",
      "isNumber: False\n",
      "isTopping: False\n",
      "isQuantity: False\n",
      "Word: \"hummus\" -> \"hummu\" not in vocab\n",
      "isPersonalPronoun: False\n",
      "isNumber: False\n",
      "isTopping: False\n",
      "isQuantity: False\n",
      "Word: \"hummus\" -> \"hummu\" not in vocab\n",
      "isPersonalPronoun: False\n",
      "isNumber: False\n",
      "isTopping: False\n",
      "isQuantity: False\n",
      "Word: \"sort\" -> \"sort\" not in vocab\n",
      "isPersonalPronoun: False\n",
      "isNumber: False\n",
      "isTopping: False\n",
      "isQuantity: False\n"
     ]
    },
    {
     "name": "stderr",
     "output_type": "stream",
     "text": [
      "writing results:  24%|██▍       | 969/4000 [01:36<03:02, 16.58it/s]"
     ]
    },
    {
     "name": "stdout",
     "output_type": "stream",
     "text": [
      "Word: \"grape\" -> \"grape\" not in vocab\n",
      "isPersonalPronoun: False\n",
      "isNumber: False\n",
      "isTopping: True\n",
      "isQuantity: False\n",
      "Word: \"juice\" -> \"juic\" not in vocab\n",
      "isPersonalPronoun: False\n",
      "isNumber: False\n",
      "isTopping: False\n",
      "isQuantity: False\n",
      "Word: \"grape\" -> \"grape\" not in vocab\n",
      "isPersonalPronoun: False\n",
      "isNumber: False\n",
      "isTopping: True\n",
      "isQuantity: False\n",
      "Word: \"juice\" -> \"juic\" not in vocab\n",
      "isPersonalPronoun: False\n",
      "isNumber: False\n",
      "isTopping: False\n",
      "isQuantity: False\n",
      "Word: \"lamb\" -> \"lamb\" not in vocab\n",
      "isPersonalPronoun: False\n",
      "isNumber: False\n",
      "isTopping: False\n",
      "isQuantity: False\n",
      "Word: \"sparkling\" -> \"sparkl\" not in vocab\n",
      "isPersonalPronoun: False\n",
      "isNumber: False\n",
      "isTopping: False\n",
      "isQuantity: False\n"
     ]
    },
    {
     "name": "stderr",
     "output_type": "stream",
     "text": [
      "writing results:  24%|██▍       | 979/4000 [01:37<01:58, 25.59it/s]"
     ]
    },
    {
     "name": "stdout",
     "output_type": "stream",
     "text": [
      "Word: \"sparkling\" -> \"sparkl\" not in vocab\n",
      "isPersonalPronoun: False\n",
      "isNumber: False\n",
      "isTopping: False\n",
      "isQuantity: False\n",
      "Word: \"leaning\" -> \"lean\" not in vocab\n",
      "isPersonalPronoun: False\n",
      "isNumber: False\n",
      "isTopping: False\n",
      "isQuantity: False\n",
      "Word: \"toward\" -> \"toward\" not in vocab\n",
      "isPersonalPronoun: False\n",
      "isNumber: False\n",
      "isTopping: False\n",
      "isQuantity: False\n",
      "Word: \"craving\" -> \"crave\" not in vocab\n",
      "isPersonalPronoun: False\n",
      "isNumber: False\n",
      "isTopping: False\n",
      "isQuantity: False\n",
      "Word: \"cabbage\" -> \"cabbag\" not in vocab\n",
      "isPersonalPronoun: False\n",
      "isNumber: False\n",
      "isTopping: False\n",
      "isQuantity: False\n",
      "Word: \"smoked\" -> \"smoke\" not in vocab\n",
      "isPersonalPronoun: False\n",
      "isNumber: False\n",
      "isTopping: False\n",
      "isQuantity: False\n",
      "Word: \"salmon\" -> \"salmon\" not in vocab\n",
      "isPersonalPronoun: False\n",
      "isNumber: False\n",
      "isTopping: False\n",
      "isQuantity: False\n"
     ]
    },
    {
     "name": "stderr",
     "output_type": "stream",
     "text": [
      "writing results:  25%|██▍       | 985/4000 [01:37<02:41, 18.72it/s]"
     ]
    },
    {
     "name": "stdout",
     "output_type": "stream",
     "text": [
      "Word: \"cabbage\" -> \"cabbag\" not in vocab\n",
      "isPersonalPronoun: False\n",
      "isNumber: False\n",
      "isTopping: False\n",
      "isQuantity: False\n",
      "Word: \"smoked\" -> \"smoke\" not in vocab\n",
      "isPersonalPronoun: False\n",
      "isNumber: False\n",
      "isTopping: False\n",
      "isQuantity: False\n",
      "Word: \"salmon\" -> \"salmon\" not in vocab\n",
      "isPersonalPronoun: False\n",
      "isNumber: False\n",
      "isTopping: False\n",
      "isQuantity: False\n",
      "Word: \"sweet\" -> \"sweet\" not in vocab\n",
      "isPersonalPronoun: False\n",
      "isNumber: False\n",
      "isTopping: False\n",
      "isQuantity: False\n",
      "Word: \"sweet\" -> \"sweet\" not in vocab\n",
      "isPersonalPronoun: False\n",
      "isNumber: False\n",
      "isTopping: False\n",
      "isQuantity: False\n"
     ]
    },
    {
     "name": "stderr",
     "output_type": "stream",
     "text": [
      "writing results:  25%|██▍       | 991/4000 [01:37<02:24, 20.75it/s]"
     ]
    },
    {
     "name": "stdout",
     "output_type": "stream",
     "text": [
      "Word: \"zest\" -> \"zest\" not in vocab\n",
      "isPersonalPronoun: False\n",
      "isNumber: False\n",
      "isTopping: False\n",
      "isQuantity: False\n",
      "Word: \"zest\" -> \"zest\" not in vocab\n",
      "isPersonalPronoun: False\n",
      "isNumber: False\n",
      "isTopping: False\n",
      "isQuantity: False\n",
      "Word: \"my last\" -> \"my last\" not in vocab\n",
      "isPersonalPronoun: False\n",
      "isNumber: False\n",
      "isTopping: False\n",
      "isQuantity: False\n",
      "Word: \"zest\" -> \"zest\" not in vocab\n",
      "isPersonalPronoun: False\n",
      "isNumber: False\n",
      "isTopping: False\n",
      "isQuantity: False\n",
      "Word: \"zest\" -> \"zest\" not in vocab\n",
      "isPersonalPronoun: False\n",
      "isNumber: False\n",
      "isTopping: False\n",
      "isQuantity: False\n",
      "Word: \"mushy\" -> \"mushi\" not in vocab\n",
      "isPersonalPronoun: False\n",
      "isNumber: False\n",
      "isTopping: False\n",
      "isQuantity: False\n",
      "Word: \"mushy\" -> \"mushi\" not in vocab\n",
      "isPersonalPronoun: False\n",
      "isNumber: False\n",
      "isTopping: False\n",
      "isQuantity: False\n"
     ]
    },
    {
     "name": "stderr",
     "output_type": "stream",
     "text": [
      "writing results:  25%|██▍       | 994/4000 [01:38<03:39, 13.72it/s]"
     ]
    },
    {
     "name": "stdout",
     "output_type": "stream",
     "text": [
      "Word: \"godlike\" -> \"godlik\" not in vocab\n",
      "isPersonalPronoun: False\n",
      "isNumber: False\n",
      "isTopping: False\n",
      "isQuantity: False\n",
      "Word: \"macchiatos\" -> \"macchiato\" not in vocab\n",
      "isPersonalPronoun: False\n",
      "isNumber: False\n",
      "isTopping: False\n",
      "isQuantity: False\n"
     ]
    },
    {
     "name": "stderr",
     "output_type": "stream",
     "text": [
      "writing results:  25%|██▍       | 996/4000 [01:39<09:12,  5.43it/s]"
     ]
    },
    {
     "name": "stdout",
     "output_type": "stream",
     "text": [
      "Word: \"macchiatos\" -> \"macchiato\" not in vocab\n",
      "isPersonalPronoun: False\n",
      "isNumber: False\n",
      "isTopping: False\n",
      "isQuantity: False\n",
      "Word: \"sort\" -> \"sort\" not in vocab\n",
      "isPersonalPronoun: False\n",
      "isNumber: False\n",
      "isTopping: False\n",
      "isQuantity: False\n",
      "Word: \"by\" -> \"by\" not in vocab\n",
      "isPersonalPronoun: False\n",
      "isNumber: False\n",
      "isTopping: False\n",
      "isQuantity: False\n"
     ]
    },
    {
     "name": "stderr",
     "output_type": "stream",
     "text": [
      "writing results:  25%|██▌       | 1002/4000 [01:40<06:04,  8.22it/s]"
     ]
    },
    {
     "name": "stdout",
     "output_type": "stream",
     "text": [
      "Word: \"by\" -> \"by\" not in vocab\n",
      "isPersonalPronoun: False\n",
      "isNumber: False\n",
      "isTopping: False\n",
      "isQuantity: False\n",
      "Word: \"finalize\" -> \"final\" not in vocab\n",
      "isPersonalPronoun: False\n",
      "isNumber: False\n",
      "isTopping: False\n",
      "isQuantity: False\n",
      "Word: \"mushy\" -> \"mushi\" not in vocab\n",
      "isPersonalPronoun: False\n",
      "isNumber: False\n",
      "isTopping: False\n",
      "isQuantity: False\n",
      "Word: \"mushy\" -> \"mushi\" not in vocab\n",
      "isPersonalPronoun: False\n",
      "isNumber: False\n",
      "isTopping: False\n",
      "isQuantity: False\n"
     ]
    },
    {
     "name": "stderr",
     "output_type": "stream",
     "text": [
      "writing results:  25%|██▌       | 1008/4000 [01:40<05:12,  9.59it/s]"
     ]
    },
    {
     "name": "stdout",
     "output_type": "stream",
     "text": [
      "Word: \"i've\" -> \"i'v\" not in vocab\n",
      "isPersonalPronoun: False\n",
      "isNumber: False\n",
      "isTopping: False\n",
      "isQuantity: False\n",
      "Word: \"decided\" -> \"decid\" not in vocab\n",
      "isPersonalPronoun: False\n",
      "isNumber: False\n",
      "isTopping: False\n",
      "isQuantity: False\n",
      "Word: \"leeks\" -> \"leek\" not in vocab\n",
      "isPersonalPronoun: False\n",
      "isNumber: False\n",
      "isTopping: True\n",
      "isQuantity: False\n",
      "Word: \"zest\" -> \"zest\" not in vocab\n",
      "isPersonalPronoun: False\n",
      "isNumber: False\n",
      "isTopping: False\n",
      "isQuantity: False\n",
      "Word: \"espresso\" -> \"espresso\" not in vocab\n",
      "isPersonalPronoun: False\n",
      "isNumber: False\n",
      "isTopping: False\n",
      "isQuantity: False\n",
      "Word: \"leeks\" -> \"leek\" not in vocab\n",
      "isPersonalPronoun: False\n",
      "isNumber: False\n",
      "isTopping: True\n",
      "isQuantity: False\n",
      "Word: \"zest\" -> \"zest\" not in vocab\n",
      "isPersonalPronoun: False\n",
      "isNumber: False\n",
      "isTopping: False\n",
      "isQuantity: False\n",
      "Word: \"espresso\" -> \"espresso\" not in vocab\n",
      "isPersonalPronoun: False\n",
      "isNumber: False\n",
      "isTopping: False\n",
      "isQuantity: False\n"
     ]
    },
    {
     "name": "stderr",
     "output_type": "stream",
     "text": [
      "writing results:  25%|██▌       | 1010/4000 [01:40<04:47, 10.40it/s]"
     ]
    },
    {
     "name": "stdout",
     "output_type": "stream",
     "text": [
      "Word: \"juice\" -> \"juic\" not in vocab\n",
      "isPersonalPronoun: False\n",
      "isNumber: False\n",
      "isTopping: False\n",
      "isQuantity: False\n",
      "Word: \"large size\" -> \"large s\" not in vocab\n",
      "isPersonalPronoun: False\n",
      "isNumber: False\n",
      "isTopping: False\n",
      "isQuantity: False\n"
     ]
    },
    {
     "name": "stderr",
     "output_type": "stream",
     "text": [
      "writing results:  25%|██▌       | 1013/4000 [01:42<11:52,  4.19it/s]"
     ]
    },
    {
     "name": "stdout",
     "output_type": "stream",
     "text": [
      "Word: \"large size\" -> \"large s\" not in vocab\n",
      "isPersonalPronoun: False\n",
      "isNumber: False\n",
      "isTopping: False\n",
      "isQuantity: False\n",
      "Word: \"you sort\" -> \"you sort\" not in vocab\n",
      "isPersonalPronoun: False\n",
      "isNumber: False\n",
      "isTopping: False\n",
      "isQuantity: False\n"
     ]
    },
    {
     "name": "stderr",
     "output_type": "stream",
     "text": [
      "writing results:  25%|██▌       | 1016/4000 [01:42<10:09,  4.89it/s]"
     ]
    },
    {
     "name": "stdout",
     "output_type": "stream",
     "text": [
      "Word: \"bi\" -> \"bi\" not in vocab\n",
      "isPersonalPronoun: False\n",
      "isNumber: False\n",
      "isTopping: False\n",
      "isQuantity: False\n",
      "Word: \"gruyeres\" -> \"gruyer\" not in vocab\n",
      "isPersonalPronoun: False\n",
      "isNumber: False\n",
      "isTopping: False\n",
      "isQuantity: False\n",
      "Word: \"bi\" -> \"bi\" not in vocab\n",
      "isPersonalPronoun: False\n",
      "isNumber: False\n",
      "isTopping: False\n",
      "isQuantity: False\n",
      "Word: \"gruyeres\" -> \"gruyer\" not in vocab\n",
      "isPersonalPronoun: False\n",
      "isNumber: False\n",
      "isTopping: False\n",
      "isQuantity: False\n",
      "Word: \"opting\" -> \"opt\" not in vocab\n",
      "isPersonalPronoun: False\n",
      "isNumber: False\n",
      "isTopping: False\n",
      "isQuantity: False\n"
     ]
    },
    {
     "name": "stderr",
     "output_type": "stream",
     "text": [
      "writing results:  26%|██▌       | 1023/4000 [01:42<05:38,  8.78it/s]"
     ]
    },
    {
     "name": "stdout",
     "output_type": "stream",
     "text": [
      "Word: \"lamb\" -> \"lamb\" not in vocab\n",
      "isPersonalPronoun: False\n",
      "isNumber: False\n",
      "isTopping: False\n",
      "isQuantity: False\n",
      "Word: \"lamb\" -> \"lamb\" not in vocab\n",
      "isPersonalPronoun: False\n",
      "isNumber: False\n",
      "isTopping: False\n",
      "isQuantity: False\n",
      "Word: \"prawns\" -> \"prawn\" not in vocab\n",
      "isPersonalPronoun: False\n",
      "isNumber: False\n",
      "isTopping: False\n",
      "isQuantity: False\n",
      "Word: \"prawns\" -> \"prawn\" not in vocab\n",
      "isPersonalPronoun: False\n",
      "isNumber: False\n",
      "isTopping: False\n",
      "isQuantity: False\n",
      "Word: \"kombucha\" -> \"kombucha\" not in vocab\n",
      "isPersonalPronoun: False\n",
      "isNumber: False\n",
      "isTopping: False\n",
      "isQuantity: False\n"
     ]
    },
    {
     "name": "stderr",
     "output_type": "stream",
     "text": [
      "writing results:  26%|██▌       | 1025/4000 [01:43<08:39,  5.73it/s]"
     ]
    },
    {
     "name": "stdout",
     "output_type": "stream",
     "text": [
      "Word: \"kombucha\" -> \"kombucha\" not in vocab\n",
      "isPersonalPronoun: False\n",
      "isNumber: False\n",
      "isTopping: False\n",
      "isQuantity: False\n",
      "Word: \"finalize\" -> \"final\" not in vocab\n",
      "isPersonalPronoun: False\n",
      "isNumber: False\n",
      "isTopping: False\n",
      "isQuantity: False\n",
      "Word: \"stock\" -> \"stock\" not in vocab\n",
      "isPersonalPronoun: False\n",
      "isNumber: False\n",
      "isTopping: False\n",
      "isQuantity: False\n",
      "Word: \"cranberry\" -> \"cranberri\" not in vocab\n",
      "isPersonalPronoun: False\n",
      "isNumber: False\n",
      "isTopping: False\n",
      "isQuantity: False\n",
      "Word: \"juice\" -> \"juic\" not in vocab\n",
      "isPersonalPronoun: False\n",
      "isNumber: False\n",
      "isTopping: False\n",
      "isQuantity: False\n"
     ]
    },
    {
     "name": "stderr",
     "output_type": "stream",
     "text": [
      "writing results:  26%|██▌       | 1029/4000 [01:44<07:22,  6.72it/s]"
     ]
    },
    {
     "name": "stdout",
     "output_type": "stream",
     "text": [
      "Word: \"cranberry\" -> \"cranberri\" not in vocab\n",
      "isPersonalPronoun: False\n",
      "isNumber: False\n",
      "isTopping: False\n",
      "isQuantity: False\n",
      "Word: \"juice\" -> \"juic\" not in vocab\n",
      "isPersonalPronoun: False\n",
      "isNumber: False\n",
      "isTopping: False\n",
      "isQuantity: False\n",
      "Word: \"mint\" -> \"mint\" not in vocab\n",
      "isPersonalPronoun: False\n",
      "isNumber: False\n",
      "isTopping: False\n",
      "isQuantity: False\n",
      "Word: \"leeks\" -> \"leek\" not in vocab\n",
      "isPersonalPronoun: False\n",
      "isNumber: False\n",
      "isTopping: True\n",
      "isQuantity: False\n",
      "Word: \"mint\" -> \"mint\" not in vocab\n",
      "isPersonalPronoun: False\n",
      "isNumber: False\n",
      "isTopping: False\n",
      "isQuantity: False\n",
      "Word: \"leeks\" -> \"leek\" not in vocab\n",
      "isPersonalPronoun: False\n",
      "isNumber: False\n",
      "isTopping: True\n",
      "isQuantity: False\n"
     ]
    },
    {
     "name": "stderr",
     "output_type": "stream",
     "text": [
      "writing results:  26%|██▌       | 1036/4000 [01:44<03:54, 12.62it/s]"
     ]
    },
    {
     "name": "stdout",
     "output_type": "stream",
     "text": [
      "Word: \"stick\" -> \"stick\" not in vocab\n",
      "isPersonalPronoun: False\n",
      "isNumber: False\n",
      "isTopping: False\n",
      "isQuantity: False\n",
      "Word: \"mushy\" -> \"mushi\" not in vocab\n",
      "isPersonalPronoun: False\n",
      "isNumber: False\n",
      "isTopping: False\n",
      "isQuantity: False\n",
      "Word: \"mushy\" -> \"mushi\" not in vocab\n",
      "isPersonalPronoun: False\n",
      "isNumber: False\n",
      "isTopping: False\n",
      "isQuantity: False\n"
     ]
    },
    {
     "name": "stderr",
     "output_type": "stream",
     "text": [
      "writing results:  26%|██▌       | 1043/4000 [01:44<02:41, 18.35it/s]"
     ]
    },
    {
     "name": "stdout",
     "output_type": "stream",
     "text": [
      "Word: \"time\" -> \"time\" not in vocab\n",
      "isPersonalPronoun: False\n",
      "isNumber: False\n",
      "isTopping: False\n",
      "isQuantity: False\n",
      "Word: \"large size\" -> \"large s\" not in vocab\n",
      "isPersonalPronoun: False\n",
      "isNumber: False\n",
      "isTopping: False\n",
      "isQuantity: False\n",
      "Word: \"large size\" -> \"large s\" not in vocab\n",
      "isPersonalPronoun: False\n",
      "isNumber: False\n",
      "isTopping: False\n",
      "isQuantity: False\n"
     ]
    },
    {
     "name": "stderr",
     "output_type": "stream",
     "text": [
      "writing results:  26%|██▌       | 1049/4000 [01:45<02:35, 18.98it/s]"
     ]
    },
    {
     "name": "stdout",
     "output_type": "stream",
     "text": [
      "Word: \"choose\" -> \"choos\" not in vocab\n",
      "isPersonalPronoun: False\n",
      "isNumber: False\n",
      "isTopping: False\n",
      "isQuantity: False\n",
      "Word: \"duck\" -> \"duck\" not in vocab\n",
      "isPersonalPronoun: False\n",
      "isNumber: False\n",
      "isTopping: False\n",
      "isQuantity: False\n",
      "Word: \"fr\" -> \"fr\" not in vocab\n",
      "isPersonalPronoun: False\n",
      "isNumber: False\n",
      "isTopping: False\n",
      "isQuantity: False\n",
      "Word: \"cabbage\" -> \"cabbag\" not in vocab\n",
      "isPersonalPronoun: False\n",
      "isNumber: False\n",
      "isTopping: False\n",
      "isQuantity: False\n",
      "Word: \"cabbage\" -> \"cabbag\" not in vocab\n",
      "isPersonalPronoun: False\n",
      "isNumber: False\n",
      "isTopping: False\n",
      "isQuantity: False\n",
      "Word: \"decide\" -> \"decid\" not in vocab\n",
      "isPersonalPronoun: False\n",
      "isNumber: False\n",
      "isTopping: False\n",
      "isQuantity: False\n",
      "Word: \"extralarge\" -> \"extralarg\" not in vocab\n",
      "isPersonalPronoun: False\n",
      "isNumber: False\n",
      "isTopping: False\n",
      "isQuantity: False\n"
     ]
    },
    {
     "name": "stderr",
     "output_type": "stream",
     "text": [
      "writing results:  26%|██▋       | 1052/4000 [01:46<09:15,  5.31it/s]"
     ]
    },
    {
     "name": "stdout",
     "output_type": "stream",
     "text": [
      "Word: \"extralarge\" -> \"extralarg\" not in vocab\n",
      "isPersonalPronoun: False\n",
      "isNumber: False\n",
      "isTopping: False\n",
      "isQuantity: False\n",
      "Word: \"craving\" -> \"crave\" not in vocab\n",
      "isPersonalPronoun: False\n",
      "isNumber: False\n",
      "isTopping: False\n",
      "isQuantity: False\n",
      "Word: \"chard\" -> \"chard\" not in vocab\n",
      "isPersonalPronoun: False\n",
      "isNumber: False\n",
      "isTopping: False\n",
      "isQuantity: False\n"
     ]
    },
    {
     "name": "stderr",
     "output_type": "stream",
     "text": [
      "writing results:  26%|██▋       | 1054/4000 [01:46<08:02,  6.10it/s]"
     ]
    },
    {
     "name": "stdout",
     "output_type": "stream",
     "text": [
      "Word: \"chard\" -> \"chard\" not in vocab\n",
      "isPersonalPronoun: False\n",
      "isNumber: False\n",
      "isTopping: False\n",
      "isQuantity: False\n",
      "Word: \"choose\" -> \"choos\" not in vocab\n",
      "isPersonalPronoun: False\n",
      "isNumber: False\n",
      "isTopping: False\n",
      "isQuantity: False\n",
      "Word: \"hummus\" -> \"hummu\" not in vocab\n",
      "isPersonalPronoun: False\n",
      "isNumber: False\n",
      "isTopping: False\n",
      "isQuantity: False\n",
      "Word: \"prawns\" -> \"prawn\" not in vocab\n",
      "isPersonalPronoun: False\n",
      "isNumber: False\n",
      "isTopping: False\n",
      "isQuantity: False\n"
     ]
    },
    {
     "name": "stderr",
     "output_type": "stream",
     "text": [
      "writing results:  27%|██▋       | 1062/4000 [01:47<04:42, 10.42it/s]"
     ]
    },
    {
     "name": "stdout",
     "output_type": "stream",
     "text": [
      "Word: \"hummus\" -> \"hummu\" not in vocab\n",
      "isPersonalPronoun: False\n",
      "isNumber: False\n",
      "isTopping: False\n",
      "isQuantity: False\n",
      "Word: \"prawns\" -> \"prawn\" not in vocab\n",
      "isPersonalPronoun: False\n",
      "isNumber: False\n",
      "isTopping: False\n",
      "isQuantity: False\n",
      "Word: \"mat\" -> \"mat\" not in vocab\n",
      "isPersonalPronoun: False\n",
      "isNumber: False\n",
      "isTopping: False\n",
      "isQuantity: False\n",
      "Word: \"sweet\" -> \"sweet\" not in vocab\n",
      "isPersonalPronoun: False\n",
      "isNumber: False\n",
      "isTopping: False\n",
      "isQuantity: False\n",
      "Word: \"mat\" -> \"mat\" not in vocab\n",
      "isPersonalPronoun: False\n",
      "isNumber: False\n",
      "isTopping: False\n",
      "isQuantity: False\n",
      "Word: \"sweet\" -> \"sweet\" not in vocab\n",
      "isPersonalPronoun: False\n",
      "isNumber: False\n",
      "isTopping: False\n",
      "isQuantity: False\n",
      "Word: \"sauted\" -> \"saut\" not in vocab\n",
      "isPersonalPronoun: False\n",
      "isNumber: False\n",
      "isTopping: False\n",
      "isQuantity: False\n",
      "Word: \"sauted\" -> \"saut\" not in vocab\n",
      "isPersonalPronoun: False\n",
      "isNumber: False\n",
      "isTopping: False\n",
      "isQuantity: False\n"
     ]
    },
    {
     "name": "stderr",
     "output_type": "stream",
     "text": [
      "writing results:  27%|██▋       | 1064/4000 [01:47<04:46, 10.27it/s]"
     ]
    },
    {
     "name": "stdout",
     "output_type": "stream",
     "text": [
      "Word: \"poppy\" -> \"poppi\" not in vocab\n",
      "isPersonalPronoun: False\n",
      "isNumber: False\n",
      "isTopping: False\n",
      "isQuantity: False\n",
      "Word: \"seeds\" -> \"seed\" not in vocab\n",
      "isPersonalPronoun: False\n",
      "isNumber: False\n",
      "isTopping: False\n",
      "isQuantity: False\n"
     ]
    },
    {
     "name": "stderr",
     "output_type": "stream",
     "text": [
      "writing results:  27%|██▋       | 1066/4000 [01:47<05:56,  8.23it/s]"
     ]
    },
    {
     "name": "stdout",
     "output_type": "stream",
     "text": [
      "Word: \"ll try\" -> \"ll tri\" not in vocab\n",
      "isPersonalPronoun: False\n",
      "isNumber: False\n",
      "isTopping: False\n",
      "isQuantity: False\n",
      "Word: \"stick\" -> \"stick\" not in vocab\n",
      "isPersonalPronoun: False\n",
      "isNumber: False\n",
      "isTopping: False\n",
      "isQuantity: False\n",
      "Word: \"pace\" -> \"pace\" not in vocab\n",
      "isPersonalPronoun: False\n",
      "isNumber: False\n",
      "isTopping: False\n",
      "isQuantity: False\n",
      "Word: \"rust\" -> \"rust\" not in vocab\n",
      "isPersonalPronoun: False\n",
      "isNumber: False\n",
      "isTopping: False\n",
      "isQuantity: False\n"
     ]
    },
    {
     "name": "stderr",
     "output_type": "stream",
     "text": [
      "writing results:  27%|██▋       | 1070/4000 [01:48<05:20,  9.13it/s]"
     ]
    },
    {
     "name": "stdout",
     "output_type": "stream",
     "text": [
      "Word: \"rust\" -> \"rust\" not in vocab\n",
      "isPersonalPronoun: False\n",
      "isNumber: False\n",
      "isTopping: False\n",
      "isQuantity: False\n",
      "Word: \"chair\" -> \"chair\" not in vocab\n",
      "isPersonalPronoun: False\n",
      "isNumber: False\n",
      "isTopping: False\n",
      "isQuantity: False\n",
      "Word: \"latte\" -> \"latt\" not in vocab\n",
      "isPersonalPronoun: False\n",
      "isNumber: False\n",
      "isTopping: False\n",
      "isQuantity: False\n",
      "Word: \"chair\" -> \"chair\" not in vocab\n",
      "isPersonalPronoun: False\n",
      "isNumber: False\n",
      "isTopping: False\n",
      "isQuantity: False\n",
      "Word: \"latte\" -> \"latt\" not in vocab\n",
      "isPersonalPronoun: False\n",
      "isNumber: False\n",
      "isTopping: False\n",
      "isQuantity: False\n",
      "Word: \"cabbage\" -> \"cabbag\" not in vocab\n",
      "isPersonalPronoun: False\n",
      "isNumber: False\n",
      "isTopping: False\n",
      "isQuantity: False\n",
      "Word: \"footing\" -> \"foot\" not in vocab\n",
      "isPersonalPronoun: False\n",
      "isNumber: False\n",
      "isTopping: False\n",
      "isQuantity: True\n"
     ]
    },
    {
     "name": "stderr",
     "output_type": "stream",
     "text": [
      "writing results:  27%|██▋       | 1075/4000 [01:49<07:23,  6.59it/s]"
     ]
    },
    {
     "name": "stdout",
     "output_type": "stream",
     "text": [
      "Word: \"cabbage\" -> \"cabbag\" not in vocab\n",
      "isPersonalPronoun: False\n",
      "isNumber: False\n",
      "isTopping: False\n",
      "isQuantity: False\n",
      "Word: \"footing\" -> \"foot\" not in vocab\n",
      "isPersonalPronoun: False\n",
      "isNumber: False\n",
      "isTopping: False\n",
      "isQuantity: True\n",
      "Word: \"zest\" -> \"zest\" not in vocab\n",
      "isPersonalPronoun: False\n",
      "isNumber: False\n",
      "isTopping: False\n",
      "isQuantity: False\n",
      "Word: \"zest\" -> \"zest\" not in vocab\n",
      "isPersonalPronoun: False\n",
      "isNumber: False\n",
      "isTopping: False\n",
      "isQuantity: False\n",
      "Word: \"like to\" -> \"like to\" not in vocab\n",
      "isPersonalPronoun: False\n",
      "isNumber: False\n",
      "isTopping: False\n",
      "isQuantity: False\n",
      "Word: \"almond\" -> \"almond\" not in vocab\n",
      "isPersonalPronoun: False\n",
      "isNumber: False\n",
      "isTopping: False\n",
      "isQuantity: False\n",
      "Word: \"almond\" -> \"almond\" not in vocab\n",
      "isPersonalPronoun: False\n",
      "isNumber: False\n",
      "isTopping: False\n",
      "isQuantity: False\n"
     ]
    },
    {
     "name": "stderr",
     "output_type": "stream",
     "text": [
      "writing results:  27%|██▋       | 1077/4000 [01:49<08:26,  5.77it/s]"
     ]
    },
    {
     "name": "stdout",
     "output_type": "stream",
     "text": [
      "Word: \"bubble\" -> \"bubbl\" not in vocab\n",
      "isPersonalPronoun: False\n",
      "isNumber: False\n",
      "isTopping: False\n",
      "isQuantity: False\n",
      "Word: \"ea\" -> \"ea\" not in vocab\n",
      "isPersonalPronoun: False\n",
      "isNumber: False\n",
      "isTopping: False\n",
      "isQuantity: False\n",
      "Word: \"bubble\" -> \"bubbl\" not in vocab\n",
      "isPersonalPronoun: False\n",
      "isNumber: False\n",
      "isTopping: False\n",
      "isQuantity: False\n",
      "Word: \"ea\" -> \"ea\" not in vocab\n",
      "isPersonalPronoun: False\n",
      "isNumber: False\n",
      "isTopping: False\n",
      "isQuantity: False\n"
     ]
    },
    {
     "name": "stderr",
     "output_type": "stream",
     "text": [
      "writing results:  27%|██▋       | 1085/4000 [01:49<04:09, 11.67it/s]"
     ]
    },
    {
     "name": "stdout",
     "output_type": "stream",
     "text": [
      "Word: \"leeks\" -> \"leek\" not in vocab\n",
      "isPersonalPronoun: False\n",
      "isNumber: False\n",
      "isTopping: True\n",
      "isQuantity: False\n",
      "Word: \"leeks\" -> \"leek\" not in vocab\n",
      "isPersonalPronoun: False\n",
      "isNumber: False\n",
      "isTopping: True\n",
      "isQuantity: False\n",
      "Word: \"mushy\" -> \"mushi\" not in vocab\n",
      "isPersonalPronoun: False\n",
      "isNumber: False\n",
      "isTopping: False\n",
      "isQuantity: False\n",
      "Word: \"mushy\" -> \"mushi\" not in vocab\n",
      "isPersonalPronoun: False\n",
      "isNumber: False\n",
      "isTopping: False\n",
      "isQuantity: False\n"
     ]
    },
    {
     "name": "stderr",
     "output_type": "stream",
     "text": [
      "writing results:  27%|██▋       | 1089/4000 [01:50<03:31, 13.79it/s]"
     ]
    },
    {
     "name": "stdout",
     "output_type": "stream",
     "text": [
      "Word: \"i've\" -> \"i'v\" not in vocab\n",
      "isPersonalPronoun: False\n",
      "isNumber: False\n",
      "isTopping: False\n",
      "isQuantity: False\n",
      "Word: \"decided\" -> \"decid\" not in vocab\n",
      "isPersonalPronoun: False\n",
      "isNumber: False\n",
      "isTopping: False\n",
      "isQuantity: False\n",
      "Word: \"goat\" -> \"goat\" not in vocab\n",
      "isPersonalPronoun: False\n",
      "isNumber: False\n",
      "isTopping: False\n",
      "isQuantity: False\n",
      "Word: \"goat\" -> \"goat\" not in vocab\n",
      "isPersonalPronoun: False\n",
      "isNumber: False\n",
      "isTopping: False\n",
      "isQuantity: False\n",
      "Word: \"duck\" -> \"duck\" not in vocab\n",
      "isPersonalPronoun: False\n",
      "isNumber: False\n",
      "isTopping: False\n",
      "isQuantity: False\n"
     ]
    },
    {
     "name": "stderr",
     "output_type": "stream",
     "text": [
      "writing results:  27%|██▋       | 1094/4000 [01:50<03:06, 15.56it/s]"
     ]
    },
    {
     "name": "stdout",
     "output_type": "stream",
     "text": [
      "Word: \"opt\" -> \"opt\" not in vocab\n",
      "isPersonalPronoun: False\n",
      "isNumber: False\n",
      "isTopping: False\n",
      "isQuantity: False\n",
      "Word: \"card\" -> \"card\" not in vocab\n",
      "isPersonalPronoun: False\n",
      "isNumber: False\n",
      "isTopping: False\n",
      "isQuantity: False\n"
     ]
    },
    {
     "name": "stderr",
     "output_type": "stream",
     "text": [
      "writing results:  28%|██▊       | 1102/4000 [01:50<02:30, 19.22it/s]"
     ]
    },
    {
     "name": "stdout",
     "output_type": "stream",
     "text": [
      "Word: \"stick\" -> \"stick\" not in vocab\n",
      "isPersonalPronoun: False\n",
      "isNumber: False\n",
      "isTopping: False\n",
      "isQuantity: False\n",
      "Word: \"green olives\" -> \"green ol\" not in vocab\n",
      "isPersonalPronoun: False\n",
      "isNumber: False\n",
      "isTopping: False\n",
      "isQuantity: False\n",
      "Word: \"gaze\" -> \"gaze\" not in vocab\n",
      "isPersonalPronoun: False\n",
      "isNumber: False\n",
      "isTopping: False\n",
      "isQuantity: False\n",
      "Word: \"gaze\" -> \"gaze\" not in vocab\n",
      "isPersonalPronoun: False\n",
      "isNumber: False\n",
      "isTopping: False\n",
      "isQuantity: False\n"
     ]
    },
    {
     "name": "stderr",
     "output_type": "stream",
     "text": [
      "writing results:  28%|██▊       | 1107/4000 [01:51<03:58, 12.11it/s]"
     ]
    },
    {
     "name": "stdout",
     "output_type": "stream",
     "text": [
      "Word: \"story\" -> \"stori\" not in vocab\n",
      "isPersonalPronoun: False\n",
      "isNumber: False\n",
      "isTopping: False\n",
      "isQuantity: False\n",
      "Word: \"cappuccinos\" -> \"cappuccino\" not in vocab\n",
      "isPersonalPronoun: False\n",
      "isNumber: False\n",
      "isTopping: False\n",
      "isQuantity: False\n",
      "Word: \"cappuccinos\" -> \"cappuccino\" not in vocab\n",
      "isPersonalPronoun: False\n",
      "isNumber: False\n",
      "isTopping: False\n",
      "isQuantity: False\n",
      "Word: \"hummus\" -> \"hummu\" not in vocab\n",
      "isPersonalPronoun: False\n",
      "isNumber: False\n",
      "isTopping: False\n",
      "isQuantity: False\n",
      "Word: \"hummus\" -> \"hummu\" not in vocab\n",
      "isPersonalPronoun: False\n",
      "isNumber: False\n",
      "isTopping: False\n",
      "isQuantity: False\n"
     ]
    },
    {
     "name": "stderr",
     "output_type": "stream",
     "text": [
      "writing results:  28%|██▊       | 1109/4000 [01:51<03:59, 12.05it/s]"
     ]
    },
    {
     "name": "stdout",
     "output_type": "stream",
     "text": [
      "Word: \"need you\" -> \"need you\" not in vocab\n",
      "isPersonalPronoun: False\n",
      "isNumber: False\n",
      "isTopping: False\n",
      "isQuantity: False\n",
      "Word: \"mint\" -> \"mint\" not in vocab\n",
      "isPersonalPronoun: False\n",
      "isNumber: False\n",
      "isTopping: False\n",
      "isQuantity: False\n",
      "Word: \"mint\" -> \"mint\" not in vocab\n",
      "isPersonalPronoun: False\n",
      "isNumber: False\n",
      "isTopping: False\n",
      "isQuantity: False\n",
      "Word: \"mint\" -> \"mint\" not in vocab\n",
      "isPersonalPronoun: False\n",
      "isNumber: False\n",
      "isTopping: False\n",
      "isQuantity: False\n",
      "Word: \"HAE\" -> \"hae\" not in vocab\n",
      "isPersonalPronoun: False\n",
      "isNumber: False\n",
      "isTopping: False\n",
      "isQuantity: False\n"
     ]
    },
    {
     "name": "stderr",
     "output_type": "stream",
     "text": [
      "writing results:  28%|██▊       | 1111/4000 [01:51<04:33, 10.57it/s]"
     ]
    },
    {
     "name": "stdout",
     "output_type": "stream",
     "text": [
      "Word: \"smoked\" -> \"smoke\" not in vocab\n",
      "isPersonalPronoun: False\n",
      "isNumber: False\n",
      "isTopping: False\n",
      "isQuantity: False\n",
      "Word: \"salmon\" -> \"salmon\" not in vocab\n",
      "isPersonalPronoun: False\n",
      "isNumber: False\n",
      "isTopping: False\n",
      "isQuantity: False\n",
      "Word: \"smoked\" -> \"smoke\" not in vocab\n",
      "isPersonalPronoun: False\n",
      "isNumber: False\n",
      "isTopping: False\n",
      "isQuantity: False\n",
      "Word: \"salmon\" -> \"salmon\" not in vocab\n",
      "isPersonalPronoun: False\n",
      "isNumber: False\n",
      "isTopping: False\n",
      "isQuantity: False\n",
      "Word: \"wan\" -> \"wan\" not in vocab\n",
      "isPersonalPronoun: False\n",
      "isNumber: False\n",
      "isTopping: False\n",
      "isQuantity: False\n",
      "Word: \"kimchi\" -> \"kimchi\" not in vocab\n",
      "isPersonalPronoun: False\n",
      "isNumber: False\n",
      "isTopping: False\n",
      "isQuantity: False\n"
     ]
    },
    {
     "name": "stderr",
     "output_type": "stream",
     "text": [
      "writing results:  28%|██▊       | 1113/4000 [01:51<04:13, 11.37it/s]"
     ]
    },
    {
     "name": "stdout",
     "output_type": "stream",
     "text": [
      "Word: \"kimchi\" -> \"kimchi\" not in vocab\n",
      "isPersonalPronoun: False\n",
      "isNumber: False\n",
      "isTopping: False\n",
      "isQuantity: False\n",
      "Word: \"truffle oil\" -> \"truffle oil\" not in vocab\n",
      "isPersonalPronoun: False\n",
      "isNumber: False\n",
      "isTopping: False\n",
      "isQuantity: False\n",
      "Word: \"truffle oil\" -> \"truffle oil\" not in vocab\n",
      "isPersonalPronoun: False\n",
      "isNumber: False\n",
      "isTopping: False\n",
      "isQuantity: False\n"
     ]
    },
    {
     "name": "stderr",
     "output_type": "stream",
     "text": [
      "writing results:  28%|██▊       | 1118/4000 [01:52<05:12,  9.22it/s]"
     ]
    },
    {
     "name": "stdout",
     "output_type": "stream",
     "text": [
      "Word: \"leeks\" -> \"leek\" not in vocab\n",
      "isPersonalPronoun: False\n",
      "isNumber: False\n",
      "isTopping: True\n",
      "isQuantity: False\n",
      "Word: \"leeks\" -> \"leek\" not in vocab\n",
      "isPersonalPronoun: False\n",
      "isNumber: False\n",
      "isTopping: True\n",
      "isQuantity: False\n",
      "Word: \"settle\" -> \"settl\" not in vocab\n",
      "isPersonalPronoun: False\n",
      "isNumber: False\n",
      "isTopping: False\n",
      "isQuantity: False\n",
      "Word: \"mushy\" -> \"mushi\" not in vocab\n",
      "isPersonalPronoun: False\n",
      "isNumber: False\n",
      "isTopping: False\n",
      "isQuantity: False\n",
      "Word: \"mushy\" -> \"mushi\" not in vocab\n",
      "isPersonalPronoun: False\n",
      "isNumber: False\n",
      "isTopping: False\n",
      "isQuantity: False\n"
     ]
    },
    {
     "name": "stderr",
     "output_type": "stream",
     "text": [
      "writing results:  28%|██▊       | 1120/4000 [01:53<07:35,  6.32it/s]"
     ]
    },
    {
     "name": "stdout",
     "output_type": "stream",
     "text": [
      "Word: \"logo\" -> \"logo\" not in vocab\n",
      "isPersonalPronoun: False\n",
      "isNumber: False\n",
      "isTopping: False\n",
      "isQuantity: False\n",
      "Word: \"large size\" -> \"large s\" not in vocab\n",
      "isPersonalPronoun: False\n",
      "isNumber: False\n",
      "isTopping: False\n",
      "isQuantity: False\n",
      "Word: \"large size\" -> \"large s\" not in vocab\n",
      "isPersonalPronoun: False\n",
      "isNumber: False\n",
      "isTopping: False\n",
      "isQuantity: False\n"
     ]
    },
    {
     "name": "stderr",
     "output_type": "stream",
     "text": [
      "writing results:  28%|██▊       | 1122/4000 [01:53<06:34,  7.30it/s]"
     ]
    },
    {
     "name": "stdout",
     "output_type": "stream",
     "text": [
      "Word: \"footing\" -> \"foot\" not in vocab\n",
      "isPersonalPronoun: False\n",
      "isNumber: False\n",
      "isTopping: False\n",
      "isQuantity: True\n"
     ]
    },
    {
     "name": "stderr",
     "output_type": "stream",
     "text": [
      "writing results:  28%|██▊       | 1124/4000 [01:54<10:26,  4.59it/s]"
     ]
    },
    {
     "name": "stdout",
     "output_type": "stream",
     "text": [
      "Word: \"footing\" -> \"foot\" not in vocab\n",
      "isPersonalPronoun: False\n",
      "isNumber: False\n",
      "isTopping: False\n",
      "isQuantity: True\n",
      "Word: \"stick\" -> \"stick\" not in vocab\n",
      "isPersonalPronoun: False\n",
      "isNumber: False\n",
      "isTopping: False\n",
      "isQuantity: False\n"
     ]
    },
    {
     "name": "stderr",
     "output_type": "stream",
     "text": [
      "writing results:  28%|██▊       | 1127/4000 [01:55<11:26,  4.18it/s]"
     ]
    },
    {
     "name": "stdout",
     "output_type": "stream",
     "text": [
      "Word: \"pleasecan\" -> \"pleasecan\" not in vocab\n",
      "isPersonalPronoun: False\n",
      "isNumber: False\n",
      "isTopping: False\n",
      "isQuantity: False\n",
      "Word: \"sirach\" -> \"sirach\" not in vocab\n",
      "isPersonalPronoun: False\n",
      "isNumber: False\n",
      "isTopping: False\n",
      "isQuantity: False\n"
     ]
    },
    {
     "name": "stderr",
     "output_type": "stream",
     "text": [
      "writing results:  28%|██▊       | 1129/4000 [01:55<13:42,  3.49it/s]"
     ]
    },
    {
     "name": "stdout",
     "output_type": "stream",
     "text": [
      "Word: \"sirach\" -> \"sirach\" not in vocab\n",
      "isPersonalPronoun: False\n",
      "isNumber: False\n",
      "isTopping: False\n",
      "isQuantity: False\n",
      "Word: \"bay leaves\" -> \"bay leav\" not in vocab\n",
      "isPersonalPronoun: False\n",
      "isNumber: False\n",
      "isTopping: False\n",
      "isQuantity: False\n",
      "Word: \"bay leaves\" -> \"bay leav\" not in vocab\n",
      "isPersonalPronoun: False\n",
      "isNumber: False\n",
      "isTopping: False\n",
      "isQuantity: False\n"
     ]
    },
    {
     "name": "stderr",
     "output_type": "stream",
     "text": [
      "writing results:  28%|██▊       | 1131/4000 [01:56<10:30,  4.55it/s]"
     ]
    },
    {
     "name": "stdout",
     "output_type": "stream",
     "text": [
      "Word: \"stick\" -> \"stick\" not in vocab\n",
      "isPersonalPronoun: False\n",
      "isNumber: False\n",
      "isTopping: False\n",
      "isQuantity: False\n",
      "Word: \"zest\" -> \"zest\" not in vocab\n",
      "isPersonalPronoun: False\n",
      "isNumber: False\n",
      "isTopping: False\n",
      "isQuantity: False\n",
      "Word: \"lamb\" -> \"lamb\" not in vocab\n",
      "isPersonalPronoun: False\n",
      "isNumber: False\n",
      "isTopping: False\n",
      "isQuantity: False\n",
      "Word: \"lamb\" -> \"lamb\" not in vocab\n",
      "isPersonalPronoun: False\n",
      "isNumber: False\n",
      "isTopping: False\n",
      "isQuantity: False\n"
     ]
    },
    {
     "name": "stderr",
     "output_type": "stream",
     "text": [
      "writing results:  28%|██▊       | 1137/4000 [01:56<06:21,  7.50it/s]"
     ]
    },
    {
     "name": "stdout",
     "output_type": "stream",
     "text": [
      "Word: \"godlike\" -> \"godlik\" not in vocab\n",
      "isPersonalPronoun: False\n",
      "isNumber: False\n",
      "isTopping: False\n",
      "isQuantity: False\n",
      "Word: \"poppy\" -> \"poppi\" not in vocab\n",
      "isPersonalPronoun: False\n",
      "isNumber: False\n",
      "isTopping: False\n",
      "isQuantity: False\n",
      "Word: \"seeds\" -> \"seed\" not in vocab\n",
      "isPersonalPronoun: False\n",
      "isNumber: False\n",
      "isTopping: False\n",
      "isQuantity: False\n",
      "Word: \"poppy\" -> \"poppi\" not in vocab\n",
      "isPersonalPronoun: False\n",
      "isNumber: False\n",
      "isTopping: False\n",
      "isQuantity: False\n",
      "Word: \"seeds\" -> \"seed\" not in vocab\n",
      "isPersonalPronoun: False\n",
      "isNumber: False\n",
      "isTopping: False\n",
      "isQuantity: False\n"
     ]
    },
    {
     "name": "stderr",
     "output_type": "stream",
     "text": [
      "writing results:  28%|██▊       | 1139/4000 [01:56<05:40,  8.40it/s]"
     ]
    },
    {
     "name": "stdout",
     "output_type": "stream",
     "text": [
      "Word: \"goat\" -> \"goat\" not in vocab\n",
      "isPersonalPronoun: False\n",
      "isNumber: False\n",
      "isTopping: False\n",
      "isQuantity: False\n",
      "Word: \"goat\" -> \"goat\" not in vocab\n",
      "isPersonalPronoun: False\n",
      "isNumber: False\n",
      "isTopping: False\n",
      "isQuantity: False\n",
      "Word: \"lamb\" -> \"lamb\" not in vocab\n",
      "isPersonalPronoun: False\n",
      "isNumber: False\n",
      "isTopping: False\n",
      "isQuantity: False\n",
      "Word: \"lamb\" -> \"lamb\" not in vocab\n",
      "isPersonalPronoun: False\n",
      "isNumber: False\n",
      "isTopping: False\n",
      "isQuantity: False\n",
      "Word: \"leeks\" -> \"leek\" not in vocab\n",
      "isPersonalPronoun: False\n",
      "isNumber: False\n",
      "isTopping: True\n",
      "isQuantity: False\n"
     ]
    },
    {
     "name": "stderr",
     "output_type": "stream",
     "text": [
      "writing results:  29%|██▊       | 1141/4000 [01:57<05:21,  8.90it/s]"
     ]
    },
    {
     "name": "stdout",
     "output_type": "stream",
     "text": [
      "Word: \"leeks\" -> \"leek\" not in vocab\n",
      "isPersonalPronoun: False\n",
      "isNumber: False\n",
      "isTopping: True\n",
      "isQuantity: False\n"
     ]
    },
    {
     "name": "stderr",
     "output_type": "stream",
     "text": [
      "writing results:  29%|██▊       | 1146/4000 [01:57<03:29, 13.63it/s]"
     ]
    },
    {
     "name": "stdout",
     "output_type": "stream",
     "text": [
      "Word: \"mint\" -> \"mint\" not in vocab\n",
      "isPersonalPronoun: False\n",
      "isNumber: False\n",
      "isTopping: False\n",
      "isQuantity: False\n",
      "Word: \"mint\" -> \"mint\" not in vocab\n",
      "isPersonalPronoun: False\n",
      "isNumber: False\n",
      "isTopping: False\n",
      "isQuantity: False\n",
      "Word: \"to order\" -> \"to ord\" not in vocab\n",
      "isPersonalPronoun: False\n",
      "isNumber: False\n",
      "isTopping: False\n",
      "isQuantity: False\n",
      "Word: \"lamb\" -> \"lamb\" not in vocab\n",
      "isPersonalPronoun: False\n",
      "isNumber: False\n",
      "isTopping: False\n",
      "isQuantity: False\n"
     ]
    },
    {
     "name": "stderr",
     "output_type": "stream",
     "text": [
      "writing results:  29%|██▉       | 1151/4000 [01:57<03:15, 14.57it/s]"
     ]
    },
    {
     "name": "stdout",
     "output_type": "stream",
     "text": [
      "Word: \"lamb\" -> \"lamb\" not in vocab\n",
      "isPersonalPronoun: False\n",
      "isNumber: False\n",
      "isTopping: False\n",
      "isQuantity: False\n",
      "Word: \"sweet\" -> \"sweet\" not in vocab\n",
      "isPersonalPronoun: False\n",
      "isNumber: False\n",
      "isTopping: False\n",
      "isQuantity: False\n",
      "Word: \"sweet\" -> \"sweet\" not in vocab\n",
      "isPersonalPronoun: False\n",
      "isNumber: False\n",
      "isTopping: False\n",
      "isQuantity: False\n",
      "Word: \"sauted\" -> \"saut\" not in vocab\n",
      "isPersonalPronoun: False\n",
      "isNumber: False\n",
      "isTopping: False\n",
      "isQuantity: False\n",
      "Word: \"sauted\" -> \"saut\" not in vocab\n",
      "isPersonalPronoun: False\n",
      "isNumber: False\n",
      "isTopping: False\n",
      "isQuantity: False\n",
      "Word: \"handle\" -> \"handl\" not in vocab\n",
      "isPersonalPronoun: False\n",
      "isNumber: False\n",
      "isTopping: False\n",
      "isQuantity: False\n"
     ]
    },
    {
     "name": "stderr",
     "output_type": "stream",
     "text": [
      "writing results:  29%|██▉       | 1162/4000 [01:57<01:47, 26.45it/s]"
     ]
    },
    {
     "name": "stdout",
     "output_type": "stream",
     "text": [
      "Word: \"settle\" -> \"settl\" not in vocab\n",
      "isPersonalPronoun: False\n",
      "isNumber: False\n",
      "isTopping: False\n",
      "isQuantity: False\n",
      "Word: \"sweet\" -> \"sweet\" not in vocab\n",
      "isPersonalPronoun: False\n",
      "isNumber: False\n",
      "isTopping: False\n",
      "isQuantity: False\n"
     ]
    },
    {
     "name": "stderr",
     "output_type": "stream",
     "text": [
      "writing results:  29%|██▉       | 1167/4000 [01:58<01:46, 26.70it/s]"
     ]
    },
    {
     "name": "stdout",
     "output_type": "stream",
     "text": [
      "Word: \"sweet\" -> \"sweet\" not in vocab\n",
      "isPersonalPronoun: False\n",
      "isNumber: False\n",
      "isTopping: False\n",
      "isQuantity: False\n",
      "Word: \"secure\" -> \"secur\" not in vocab\n",
      "isPersonalPronoun: False\n",
      "isNumber: False\n",
      "isTopping: False\n",
      "isQuantity: False\n",
      "Word: \"extralarge\" -> \"extralarg\" not in vocab\n",
      "isPersonalPronoun: False\n",
      "isNumber: False\n",
      "isTopping: False\n",
      "isQuantity: False\n"
     ]
    },
    {
     "name": "stderr",
     "output_type": "stream",
     "text": [
      "writing results:  29%|██▉       | 1170/4000 [01:59<05:58,  7.90it/s]"
     ]
    },
    {
     "name": "stdout",
     "output_type": "stream",
     "text": [
      "Word: \"extralarge\" -> \"extralarg\" not in vocab\n",
      "isPersonalPronoun: False\n",
      "isNumber: False\n",
      "isTopping: False\n",
      "isQuantity: False\n"
     ]
    },
    {
     "name": "stderr",
     "output_type": "stream",
     "text": [
      "writing results:  29%|██▉       | 1176/4000 [01:59<04:11, 11.23it/s]"
     ]
    },
    {
     "name": "stdout",
     "output_type": "stream",
     "text": [
      "Word: \"grabbing\" -> \"grab\" not in vocab\n",
      "isPersonalPronoun: False\n",
      "isNumber: False\n",
      "isTopping: False\n",
      "isQuantity: False\n",
      "Word: \"leeks\" -> \"leek\" not in vocab\n",
      "isPersonalPronoun: False\n",
      "isNumber: False\n",
      "isTopping: True\n",
      "isQuantity: False\n",
      "Word: \"leeks\" -> \"leek\" not in vocab\n",
      "isPersonalPronoun: False\n",
      "isNumber: False\n",
      "isTopping: True\n",
      "isQuantity: False\n",
      "Word: \"large size\" -> \"large s\" not in vocab\n",
      "isPersonalPronoun: False\n",
      "isNumber: False\n",
      "isTopping: False\n",
      "isQuantity: False\n"
     ]
    },
    {
     "name": "stderr",
     "output_type": "stream",
     "text": [
      "writing results:  30%|██▉       | 1182/4000 [01:59<03:12, 14.61it/s]"
     ]
    },
    {
     "name": "stdout",
     "output_type": "stream",
     "text": [
      "Word: \"large size\" -> \"large s\" not in vocab\n",
      "isPersonalPronoun: False\n",
      "isNumber: False\n",
      "isTopping: False\n",
      "isQuantity: False\n",
      "Word: \"sauted\" -> \"saut\" not in vocab\n",
      "isPersonalPronoun: False\n",
      "isNumber: False\n",
      "isTopping: False\n",
      "isQuantity: False\n",
      "Word: \"sauted\" -> \"saut\" not in vocab\n",
      "isPersonalPronoun: False\n",
      "isNumber: False\n",
      "isTopping: False\n",
      "isQuantity: False\n"
     ]
    },
    {
     "name": "stderr",
     "output_type": "stream",
     "text": [
      "writing results:  30%|██▉       | 1185/4000 [02:00<03:00, 15.63it/s]"
     ]
    },
    {
     "name": "stdout",
     "output_type": "stream",
     "text": [
      "Word: \"finalize\" -> \"final\" not in vocab\n",
      "isPersonalPronoun: False\n",
      "isNumber: False\n",
      "isTopping: False\n",
      "isQuantity: False\n",
      "Word: \"blue\" -> \"blue\" not in vocab\n",
      "isPersonalPronoun: False\n",
      "isNumber: False\n",
      "isTopping: False\n",
      "isQuantity: False\n",
      "Word: \"blue\" -> \"blue\" not in vocab\n",
      "isPersonalPronoun: False\n",
      "isNumber: False\n",
      "isTopping: False\n",
      "isQuantity: False\n",
      "Word: \"footing\" -> \"foot\" not in vocab\n",
      "isPersonalPronoun: False\n",
      "isNumber: False\n",
      "isTopping: False\n",
      "isQuantity: True\n"
     ]
    },
    {
     "name": "stderr",
     "output_type": "stream",
     "text": [
      "writing results:  30%|██▉       | 1190/4000 [02:00<04:50,  9.69it/s]"
     ]
    },
    {
     "name": "stdout",
     "output_type": "stream",
     "text": [
      "Word: \"footing\" -> \"foot\" not in vocab\n",
      "isPersonalPronoun: False\n",
      "isNumber: False\n",
      "isTopping: False\n",
      "isQuantity: True\n",
      "Word: \"Putin\" -> \"putin\" not in vocab\n",
      "isPersonalPronoun: False\n",
      "isNumber: False\n",
      "isTopping: False\n",
      "isQuantity: False\n",
      "Word: \"hummus\" -> \"hummu\" not in vocab\n",
      "isPersonalPronoun: False\n",
      "isNumber: False\n",
      "isTopping: False\n",
      "isQuantity: False\n",
      "Word: \"an order\" -> \"an ord\" not in vocab\n",
      "isPersonalPronoun: False\n",
      "isNumber: False\n",
      "isTopping: False\n",
      "isQuantity: False\n"
     ]
    },
    {
     "name": "stderr",
     "output_type": "stream",
     "text": [
      "writing results:  30%|██▉       | 1193/4000 [02:01<03:54, 11.96it/s]"
     ]
    },
    {
     "name": "stdout",
     "output_type": "stream",
     "text": [
      "Word: \"blue\" -> \"blue\" not in vocab\n",
      "isPersonalPronoun: False\n",
      "isNumber: False\n",
      "isTopping: False\n",
      "isQuantity: False\n",
      "Word: \"blue\" -> \"blue\" not in vocab\n",
      "isPersonalPronoun: False\n",
      "isNumber: False\n",
      "isTopping: False\n",
      "isQuantity: False\n"
     ]
    },
    {
     "name": "stderr",
     "output_type": "stream",
     "text": [
      "writing results:  30%|██▉       | 1198/4000 [02:01<04:50,  9.64it/s]"
     ]
    },
    {
     "name": "stdout",
     "output_type": "stream",
     "text": [
      "Word: \"grab\" -> \"grab\" not in vocab\n",
      "isPersonalPronoun: False\n",
      "isNumber: False\n",
      "isTopping: False\n",
      "isQuantity: False\n"
     ]
    },
    {
     "name": "stderr",
     "output_type": "stream",
     "text": [
      "writing results:  30%|███       | 1202/4000 [02:02<03:58, 11.73it/s]"
     ]
    },
    {
     "name": "stdout",
     "output_type": "stream",
     "text": [
      "Word: \"yo\" -> \"yo\" not in vocab\n",
      "isPersonalPronoun: False\n",
      "isNumber: False\n",
      "isTopping: False\n",
      "isQuantity: False\n",
      "Word: \"handle\" -> \"handl\" not in vocab\n",
      "isPersonalPronoun: False\n",
      "isNumber: False\n",
      "isTopping: False\n",
      "isQuantity: False\n",
      "Word: \"mushy\" -> \"mushi\" not in vocab\n",
      "isPersonalPronoun: False\n",
      "isNumber: False\n",
      "isTopping: False\n",
      "isQuantity: False\n",
      "Word: \"mushy\" -> \"mushi\" not in vocab\n",
      "isPersonalPronoun: False\n",
      "isNumber: False\n",
      "isTopping: False\n",
      "isQuantity: False\n",
      "Word: \"extralarge\" -> \"extralarg\" not in vocab\n",
      "isPersonalPronoun: False\n",
      "isNumber: False\n",
      "isTopping: False\n",
      "isQuantity: False\n"
     ]
    },
    {
     "name": "stderr",
     "output_type": "stream",
     "text": [
      "writing results:  30%|███       | 1208/4000 [02:03<06:49,  6.81it/s]"
     ]
    },
    {
     "name": "stdout",
     "output_type": "stream",
     "text": [
      "Word: \"extralarge\" -> \"extralarg\" not in vocab\n",
      "isPersonalPronoun: False\n",
      "isNumber: False\n",
      "isTopping: False\n",
      "isQuantity: False\n",
      "Word: \"heavy\" -> \"heavi\" not in vocab\n",
      "isPersonalPronoun: False\n",
      "isNumber: False\n",
      "isTopping: False\n",
      "isQuantity: False\n",
      "Word: \"heavy\" -> \"heavi\" not in vocab\n",
      "isPersonalPronoun: False\n",
      "isNumber: False\n",
      "isTopping: False\n",
      "isQuantity: False\n"
     ]
    },
    {
     "name": "stderr",
     "output_type": "stream",
     "text": [
      "writing results:  30%|███       | 1210/4000 [02:03<06:34,  7.08it/s]"
     ]
    },
    {
     "name": "stdout",
     "output_type": "stream",
     "text": [
      "Word: \"cranberry\" -> \"cranberri\" not in vocab\n",
      "isPersonalPronoun: False\n",
      "isNumber: False\n",
      "isTopping: False\n",
      "isQuantity: False\n",
      "Word: \"juice\" -> \"juic\" not in vocab\n",
      "isPersonalPronoun: False\n",
      "isNumber: False\n",
      "isTopping: False\n",
      "isQuantity: False\n",
      "Word: \"cranberry\" -> \"cranberri\" not in vocab\n",
      "isPersonalPronoun: False\n",
      "isNumber: False\n",
      "isTopping: False\n",
      "isQuantity: False\n",
      "Word: \"juice\" -> \"juic\" not in vocab\n",
      "isPersonalPronoun: False\n",
      "isNumber: False\n",
      "isTopping: False\n",
      "isQuantity: False\n",
      "Word: \"lamb\" -> \"lamb\" not in vocab\n",
      "isPersonalPronoun: False\n",
      "isNumber: False\n",
      "isTopping: False\n",
      "isQuantity: False\n",
      "Word: \"lamb\" -> \"lamb\" not in vocab\n",
      "isPersonalPronoun: False\n",
      "isNumber: False\n",
      "isTopping: False\n",
      "isQuantity: False\n"
     ]
    },
    {
     "name": "stderr",
     "output_type": "stream",
     "text": [
      "writing results:  30%|███       | 1219/4000 [02:03<03:31, 13.18it/s]"
     ]
    },
    {
     "name": "stdout",
     "output_type": "stream",
     "text": [
      "Word: \"i've\" -> \"i'v\" not in vocab\n",
      "isPersonalPronoun: False\n",
      "isNumber: False\n",
      "isTopping: False\n",
      "isQuantity: False\n",
      "Word: \"decided\" -> \"decid\" not in vocab\n",
      "isPersonalPronoun: False\n",
      "isNumber: False\n",
      "isTopping: False\n",
      "isQuantity: False\n",
      "Word: \"arrange\" -> \"arrang\" not in vocab\n",
      "isPersonalPronoun: False\n",
      "isNumber: False\n",
      "isTopping: False\n",
      "isQuantity: False\n",
      "Word: \"settle\" -> \"settl\" not in vocab\n",
      "isPersonalPronoun: False\n",
      "isNumber: False\n",
      "isTopping: False\n",
      "isQuantity: False\n"
     ]
    },
    {
     "name": "stderr",
     "output_type": "stream",
     "text": [
      "writing results:  31%|███       | 1222/4000 [02:04<03:18, 14.02it/s]"
     ]
    },
    {
     "name": "stdout",
     "output_type": "stream",
     "text": [
      "Word: \"mint\" -> \"mint\" not in vocab\n",
      "isPersonalPronoun: False\n",
      "isNumber: False\n",
      "isTopping: False\n",
      "isQuantity: False\n",
      "Word: \"mint\" -> \"mint\" not in vocab\n",
      "isPersonalPronoun: False\n",
      "isNumber: False\n",
      "isTopping: False\n",
      "isQuantity: False\n",
      "Word: \"footing\" -> \"foot\" not in vocab\n",
      "isPersonalPronoun: False\n",
      "isNumber: False\n",
      "isTopping: False\n",
      "isQuantity: True\n"
     ]
    },
    {
     "name": "stderr",
     "output_type": "stream",
     "text": [
      "writing results:  31%|███       | 1225/4000 [02:04<05:30,  8.40it/s]"
     ]
    },
    {
     "name": "stdout",
     "output_type": "stream",
     "text": [
      "Word: \"footing\" -> \"foot\" not in vocab\n",
      "isPersonalPronoun: False\n",
      "isNumber: False\n",
      "isTopping: False\n",
      "isQuantity: True\n",
      "Word: \"stick\" -> \"stick\" not in vocab\n",
      "isPersonalPronoun: False\n",
      "isNumber: False\n",
      "isTopping: False\n",
      "isQuantity: False\n",
      "Word: \"paced\" -> \"pace\" not in vocab\n",
      "isPersonalPronoun: False\n",
      "isNumber: False\n",
      "isTopping: False\n",
      "isQuantity: False\n"
     ]
    },
    {
     "name": "stderr",
     "output_type": "stream",
     "text": [
      "writing results:  31%|███       | 1230/4000 [02:05<04:36, 10.04it/s]"
     ]
    },
    {
     "name": "stdout",
     "output_type": "stream",
     "text": [
      "Word: \"duck\" -> \"duck\" not in vocab\n",
      "isPersonalPronoun: False\n",
      "isNumber: False\n",
      "isTopping: False\n",
      "isQuantity: False\n",
      "Word: \"lamb\" -> \"lamb\" not in vocab\n",
      "isPersonalPronoun: False\n",
      "isNumber: False\n",
      "isTopping: False\n",
      "isQuantity: False\n",
      "Word: \"duck\" -> \"duck\" not in vocab\n",
      "isPersonalPronoun: False\n",
      "isNumber: False\n",
      "isTopping: False\n",
      "isQuantity: False\n",
      "Word: \"sweet\" -> \"sweet\" not in vocab\n",
      "isPersonalPronoun: False\n",
      "isNumber: False\n",
      "isTopping: False\n",
      "isQuantity: False\n",
      "Word: \"sweet\" -> \"sweet\" not in vocab\n",
      "isPersonalPronoun: False\n",
      "isNumber: False\n",
      "isTopping: False\n",
      "isQuantity: False\n",
      "Word: \"sweet\" -> \"sweet\" not in vocab\n",
      "isPersonalPronoun: False\n",
      "isNumber: False\n",
      "isTopping: False\n",
      "isQuantity: False\n",
      "Word: \"sweet\" -> \"sweet\" not in vocab\n",
      "isPersonalPronoun: False\n",
      "isNumber: False\n",
      "isTopping: False\n",
      "isQuantity: False\n",
      "Word: \"sirach\" -> \"sirach\" not in vocab\n",
      "isPersonalPronoun: False\n",
      "isNumber: False\n",
      "isTopping: False\n",
      "isQuantity: False\n"
     ]
    },
    {
     "name": "stderr",
     "output_type": "stream",
     "text": [
      "writing results:  31%|███       | 1232/4000 [02:06<08:01,  5.74it/s]"
     ]
    },
    {
     "name": "stdout",
     "output_type": "stream",
     "text": [
      "Word: \"sirach\" -> \"sirach\" not in vocab\n",
      "isPersonalPronoun: False\n",
      "isNumber: False\n",
      "isTopping: False\n",
      "isQuantity: False\n",
      "Word: \"ant\" -> \"ant\" not in vocab\n",
      "isPersonalPronoun: False\n",
      "isNumber: False\n",
      "isTopping: False\n",
      "isQuantity: False\n",
      "Word: \"smoked\" -> \"smoke\" not in vocab\n",
      "isPersonalPronoun: False\n",
      "isNumber: False\n",
      "isTopping: False\n",
      "isQuantity: False\n",
      "Word: \"salmon\" -> \"salmon\" not in vocab\n",
      "isPersonalPronoun: False\n",
      "isNumber: False\n",
      "isTopping: False\n",
      "isQuantity: False\n",
      "Word: \"Aleppo\" -> \"aleppo\" not in vocab\n",
      "isPersonalPronoun: False\n",
      "isNumber: False\n",
      "isTopping: False\n",
      "isQuantity: False\n",
      "Word: \"smoked\" -> \"smoke\" not in vocab\n",
      "isPersonalPronoun: False\n",
      "isNumber: False\n",
      "isTopping: False\n",
      "isQuantity: False\n",
      "Word: \"salmon\" -> \"salmon\" not in vocab\n",
      "isPersonalPronoun: False\n",
      "isNumber: False\n",
      "isTopping: False\n",
      "isQuantity: False\n"
     ]
    },
    {
     "name": "stderr",
     "output_type": "stream",
     "text": [
      "writing results:  31%|███       | 1240/4000 [02:07<06:32,  7.02it/s]"
     ]
    },
    {
     "name": "stdout",
     "output_type": "stream",
     "text": [
      "Word: \"aleppo\" -> \"aleppo\" not in vocab\n",
      "isPersonalPronoun: False\n",
      "isNumber: False\n",
      "isTopping: False\n",
      "isQuantity: False\n",
      "Word: \"pick\" -> \"pick\" not in vocab\n",
      "isPersonalPronoun: False\n",
      "isNumber: False\n",
      "isTopping: False\n",
      "isQuantity: False\n",
      "Word: \"sweet\" -> \"sweet\" not in vocab\n",
      "isPersonalPronoun: False\n",
      "isNumber: False\n",
      "isTopping: False\n",
      "isQuantity: False\n",
      "Word: \"con\" -> \"con\" not in vocab\n",
      "isPersonalPronoun: False\n",
      "isNumber: False\n",
      "isTopping: False\n",
      "isQuantity: False\n",
      "Word: \"sweet\" -> \"sweet\" not in vocab\n",
      "isPersonalPronoun: False\n",
      "isNumber: False\n",
      "isTopping: False\n",
      "isQuantity: False\n",
      "Word: \"con\" -> \"con\" not in vocab\n",
      "isPersonalPronoun: False\n",
      "isNumber: False\n",
      "isTopping: False\n",
      "isQuantity: False\n"
     ]
    },
    {
     "name": "stderr",
     "output_type": "stream",
     "text": [
      "writing results:  31%|███       | 1244/4000 [02:07<04:54,  9.35it/s]"
     ]
    },
    {
     "name": "stdout",
     "output_type": "stream",
     "text": [
      "Word: \"enjoy\" -> \"enjoy\" not in vocab\n",
      "isPersonalPronoun: False\n",
      "isNumber: False\n",
      "isTopping: False\n",
      "isQuantity: False\n",
      "Word: \"mushy\" -> \"mushi\" not in vocab\n",
      "isPersonalPronoun: False\n",
      "isNumber: False\n",
      "isTopping: False\n",
      "isQuantity: False\n",
      "Word: \"mushy\" -> \"mushi\" not in vocab\n",
      "isPersonalPronoun: False\n",
      "isNumber: False\n",
      "isTopping: False\n",
      "isQuantity: False\n",
      "Word: \"grab\" -> \"grab\" not in vocab\n",
      "isPersonalPronoun: False\n",
      "isNumber: False\n",
      "isTopping: False\n",
      "isQuantity: False\n",
      "Word: \"sweet\" -> \"sweet\" not in vocab\n",
      "isPersonalPronoun: False\n",
      "isNumber: False\n",
      "isTopping: False\n",
      "isQuantity: False\n"
     ]
    },
    {
     "name": "stderr",
     "output_type": "stream",
     "text": [
      "writing results:  31%|███       | 1246/4000 [02:07<05:22,  8.54it/s]"
     ]
    },
    {
     "name": "stdout",
     "output_type": "stream",
     "text": [
      "Word: \"sweet\" -> \"sweet\" not in vocab\n",
      "isPersonalPronoun: False\n",
      "isNumber: False\n",
      "isTopping: False\n",
      "isQuantity: False\n",
      "Word: \"sweet\" -> \"sweet\" not in vocab\n",
      "isPersonalPronoun: False\n",
      "isNumber: False\n",
      "isTopping: False\n",
      "isQuantity: False\n",
      "Word: \"need you\" -> \"need you\" not in vocab\n",
      "isPersonalPronoun: False\n",
      "isNumber: False\n",
      "isTopping: False\n",
      "isQuantity: False\n",
      "Word: \"chard\" -> \"chard\" not in vocab\n",
      "isPersonalPronoun: False\n",
      "isNumber: False\n",
      "isTopping: False\n",
      "isQuantity: False\n",
      "Word: \"chard\" -> \"chard\" not in vocab\n",
      "isPersonalPronoun: False\n",
      "isNumber: False\n",
      "isTopping: False\n",
      "isQuantity: False\n"
     ]
    },
    {
     "name": "stderr",
     "output_type": "stream",
     "text": [
      "writing results:  31%|███       | 1249/4000 [02:07<04:31, 10.12it/s]"
     ]
    },
    {
     "name": "stdout",
     "output_type": "stream",
     "text": [
      "Word: \"goat cheese\" -> \"goat chees\" not in vocab\n",
      "isPersonalPronoun: False\n",
      "isNumber: False\n",
      "isTopping: False\n",
      "isQuantity: False\n",
      "Word: \"goat cheese\" -> \"goat chees\" not in vocab\n",
      "isPersonalPronoun: False\n",
      "isNumber: False\n",
      "isTopping: False\n",
      "isQuantity: False\n",
      "Word: \"stick\" -> \"stick\" not in vocab\n",
      "isPersonalPronoun: False\n",
      "isNumber: False\n",
      "isTopping: False\n",
      "isQuantity: False\n",
      "Word: \"mint\" -> \"mint\" not in vocab\n",
      "isPersonalPronoun: False\n",
      "isNumber: False\n",
      "isTopping: False\n",
      "isQuantity: False\n",
      "Word: \"mint\" -> \"mint\" not in vocab\n",
      "isPersonalPronoun: False\n",
      "isNumber: False\n",
      "isTopping: False\n",
      "isQuantity: False\n"
     ]
    },
    {
     "name": "stderr",
     "output_type": "stream",
     "text": [
      "writing results:  31%|███▏      | 1254/4000 [02:08<03:38, 12.58it/s]"
     ]
    },
    {
     "name": "stdout",
     "output_type": "stream",
     "text": [
      "Word: \"choose\" -> \"choos\" not in vocab\n",
      "isPersonalPronoun: False\n",
      "isNumber: False\n",
      "isTopping: False\n",
      "isQuantity: False\n",
      "Word: \"arrange\" -> \"arrang\" not in vocab\n",
      "isPersonalPronoun: False\n",
      "isNumber: False\n",
      "isTopping: False\n",
      "isQuantity: False\n",
      "Word: \"Mohave\" -> \"mohav\" not in vocab\n",
      "isPersonalPronoun: False\n",
      "isNumber: False\n",
      "isTopping: False\n",
      "isQuantity: False\n"
     ]
    },
    {
     "name": "stderr",
     "output_type": "stream",
     "text": [
      "writing results:  31%|███▏      | 1258/4000 [02:08<04:05, 11.19it/s]"
     ]
    },
    {
     "name": "stdout",
     "output_type": "stream",
     "text": [
      "Word: \"smoked\" -> \"smoke\" not in vocab\n",
      "isPersonalPronoun: False\n",
      "isNumber: False\n",
      "isTopping: False\n",
      "isQuantity: False\n",
      "Word: \"salmon\" -> \"salmon\" not in vocab\n",
      "isPersonalPronoun: False\n",
      "isNumber: False\n",
      "isTopping: False\n",
      "isQuantity: False\n",
      "Word: \"smoked\" -> \"smoke\" not in vocab\n",
      "isPersonalPronoun: False\n",
      "isNumber: False\n",
      "isTopping: False\n",
      "isQuantity: False\n",
      "Word: \"salmon\" -> \"salmon\" not in vocab\n",
      "isPersonalPronoun: False\n",
      "isNumber: False\n",
      "isTopping: False\n",
      "isQuantity: False\n",
      "Word: \"finalize\" -> \"final\" not in vocab\n",
      "isPersonalPronoun: False\n",
      "isNumber: False\n",
      "isTopping: False\n",
      "isQuantity: False\n"
     ]
    },
    {
     "name": "stderr",
     "output_type": "stream",
     "text": [
      "writing results:  32%|███▏      | 1263/4000 [02:08<02:44, 16.68it/s]"
     ]
    },
    {
     "name": "stdout",
     "output_type": "stream",
     "text": [
      "Word: \"zest\" -> \"zest\" not in vocab\n",
      "isPersonalPronoun: False\n",
      "isNumber: False\n",
      "isTopping: False\n",
      "isQuantity: False\n",
      "Word: \"zest\" -> \"zest\" not in vocab\n",
      "isPersonalPronoun: False\n",
      "isNumber: False\n",
      "isTopping: False\n",
      "isQuantity: False\n",
      "Word: \"settle\" -> \"settl\" not in vocab\n",
      "isPersonalPronoun: False\n",
      "isNumber: False\n",
      "isTopping: False\n",
      "isQuantity: False\n",
      "Word: \"kimchi\" -> \"kimchi\" not in vocab\n",
      "isPersonalPronoun: False\n",
      "isNumber: False\n",
      "isTopping: False\n",
      "isQuantity: False\n",
      "Word: \"prawns\" -> \"prawn\" not in vocab\n",
      "isPersonalPronoun: False\n",
      "isNumber: False\n",
      "isTopping: False\n",
      "isQuantity: False\n"
     ]
    },
    {
     "name": "stderr",
     "output_type": "stream",
     "text": [
      "writing results:  32%|███▏      | 1268/4000 [02:09<02:59, 15.21it/s]"
     ]
    },
    {
     "name": "stdout",
     "output_type": "stream",
     "text": [
      "Word: \"kimchi\" -> \"kimchi\" not in vocab\n",
      "isPersonalPronoun: False\n",
      "isNumber: False\n",
      "isTopping: False\n",
      "isQuantity: False\n",
      "Word: \"prawns\" -> \"prawn\" not in vocab\n",
      "isPersonalPronoun: False\n",
      "isNumber: False\n",
      "isTopping: False\n",
      "isQuantity: False\n",
      "Word: \"rust\" -> \"rust\" not in vocab\n",
      "isPersonalPronoun: False\n",
      "isNumber: False\n",
      "isTopping: False\n",
      "isQuantity: False\n"
     ]
    },
    {
     "name": "stderr",
     "output_type": "stream",
     "text": [
      "writing results:  32%|███▏      | 1270/4000 [02:09<03:22, 13.48it/s]"
     ]
    },
    {
     "name": "stdout",
     "output_type": "stream",
     "text": [
      "Word: \"goo\" -> \"goo\" not in vocab\n",
      "isPersonalPronoun: False\n",
      "isNumber: False\n",
      "isTopping: False\n",
      "isQuantity: False\n",
      "Word: \"zest\" -> \"zest\" not in vocab\n",
      "isPersonalPronoun: False\n",
      "isNumber: False\n",
      "isTopping: False\n",
      "isQuantity: False\n",
      "Word: \"zest\" -> \"zest\" not in vocab\n",
      "isPersonalPronoun: False\n",
      "isNumber: False\n",
      "isTopping: False\n",
      "isQuantity: False\n",
      "Word: \"opt\" -> \"opt\" not in vocab\n",
      "isPersonalPronoun: False\n",
      "isNumber: False\n",
      "isTopping: False\n",
      "isQuantity: False\n",
      "Word: \"lamb\" -> \"lamb\" not in vocab\n",
      "isPersonalPronoun: False\n",
      "isNumber: False\n",
      "isTopping: False\n",
      "isQuantity: False\n",
      "Word: \"lamb\" -> \"lamb\" not in vocab\n",
      "isPersonalPronoun: False\n",
      "isNumber: False\n",
      "isTopping: False\n",
      "isQuantity: False\n"
     ]
    },
    {
     "name": "stderr",
     "output_type": "stream",
     "text": [
      "writing results:  32%|███▏      | 1274/4000 [02:09<02:43, 16.66it/s]"
     ]
    },
    {
     "name": "stdout",
     "output_type": "stream",
     "text": [
      "Word: \"club\" -> \"club\" not in vocab\n",
      "isPersonalPronoun: False\n",
      "isNumber: False\n",
      "isTopping: False\n",
      "isQuantity: False\n",
      "Word: \"club\" -> \"club\" not in vocab\n",
      "isPersonalPronoun: False\n",
      "isNumber: False\n",
      "isTopping: False\n",
      "isQuantity: False\n",
      "Word: \"settle\" -> \"settl\" not in vocab\n",
      "isPersonalPronoun: False\n",
      "isNumber: False\n",
      "isTopping: False\n",
      "isQuantity: False\n",
      "Word: \"goat\" -> \"goat\" not in vocab\n",
      "isPersonalPronoun: False\n",
      "isNumber: False\n",
      "isTopping: False\n",
      "isQuantity: False\n"
     ]
    },
    {
     "name": "stderr",
     "output_type": "stream",
     "text": [
      "writing results:  32%|███▏      | 1281/4000 [02:09<02:23, 18.94it/s]"
     ]
    },
    {
     "name": "stdout",
     "output_type": "stream",
     "text": [
      "Word: \"goat\" -> \"goat\" not in vocab\n",
      "isPersonalPronoun: False\n",
      "isNumber: False\n",
      "isTopping: False\n",
      "isQuantity: False\n",
      "Word: \"prawns\" -> \"prawn\" not in vocab\n",
      "isPersonalPronoun: False\n",
      "isNumber: False\n",
      "isTopping: False\n",
      "isQuantity: False\n",
      "Word: \"prawns\" -> \"prawn\" not in vocab\n",
      "isPersonalPronoun: False\n",
      "isNumber: False\n",
      "isTopping: False\n",
      "isQuantity: False\n",
      "Word: \"leeks\" -> \"leek\" not in vocab\n",
      "isPersonalPronoun: False\n",
      "isNumber: False\n",
      "isTopping: True\n",
      "isQuantity: False\n"
     ]
    },
    {
     "name": "stderr",
     "output_type": "stream",
     "text": [
      "writing results:  32%|███▏      | 1291/4000 [02:10<01:55, 23.48it/s]"
     ]
    },
    {
     "name": "stdout",
     "output_type": "stream",
     "text": [
      "Word: \"chard\" -> \"chard\" not in vocab\n",
      "isPersonalPronoun: False\n",
      "isNumber: False\n",
      "isTopping: False\n",
      "isQuantity: False\n",
      "Word: \"chard\" -> \"chard\" not in vocab\n",
      "isPersonalPronoun: False\n",
      "isNumber: False\n",
      "isTopping: False\n",
      "isQuantity: False\n",
      "Word: \"chard\" -> \"chard\" not in vocab\n",
      "isPersonalPronoun: False\n",
      "isNumber: False\n",
      "isTopping: False\n",
      "isQuantity: False\n",
      "Word: \"chard\" -> \"chard\" not in vocab\n",
      "isPersonalPronoun: False\n",
      "isNumber: False\n",
      "isTopping: False\n",
      "isQuantity: False\n",
      "Word: \"chard\" -> \"chard\" not in vocab\n",
      "isPersonalPronoun: False\n",
      "isNumber: False\n",
      "isTopping: False\n",
      "isQuantity: False\n",
      "Word: \"sirach\" -> \"sirach\" not in vocab\n",
      "isPersonalPronoun: False\n",
      "isNumber: False\n",
      "isTopping: False\n",
      "isQuantity: False\n"
     ]
    },
    {
     "name": "stderr",
     "output_type": "stream",
     "text": [
      "writing results:  32%|███▏      | 1299/4000 [02:11<03:28, 12.96it/s]"
     ]
    },
    {
     "name": "stdout",
     "output_type": "stream",
     "text": [
      "Word: \"sirach\" -> \"sirach\" not in vocab\n",
      "isPersonalPronoun: False\n",
      "isNumber: False\n",
      "isTopping: False\n",
      "isQuantity: False\n",
      "Word: \"arrange\" -> \"arrang\" not in vocab\n",
      "isPersonalPronoun: False\n",
      "isNumber: False\n",
      "isTopping: False\n",
      "isQuantity: False\n",
      "Word: \"sauted\" -> \"saut\" not in vocab\n",
      "isPersonalPronoun: False\n",
      "isNumber: False\n",
      "isTopping: False\n",
      "isQuantity: False\n",
      "Word: \"sauted\" -> \"saut\" not in vocab\n",
      "isPersonalPronoun: False\n",
      "isNumber: False\n",
      "isTopping: False\n",
      "isQuantity: False\n"
     ]
    },
    {
     "name": "stderr",
     "output_type": "stream",
     "text": [
      "writing results:  33%|███▎      | 1302/4000 [02:11<03:12, 14.01it/s]"
     ]
    },
    {
     "name": "stdout",
     "output_type": "stream",
     "text": [
      "Word: \"mint\" -> \"mint\" not in vocab\n",
      "isPersonalPronoun: False\n",
      "isNumber: False\n",
      "isTopping: False\n",
      "isQuantity: False\n",
      "Word: \"mint\" -> \"mint\" not in vocab\n",
      "isPersonalPronoun: False\n",
      "isNumber: False\n",
      "isTopping: False\n",
      "isQuantity: False\n",
      "Word: \"poppy\" -> \"poppi\" not in vocab\n",
      "isPersonalPronoun: False\n",
      "isNumber: False\n",
      "isTopping: False\n",
      "isQuantity: False\n",
      "Word: \"seeds\" -> \"seed\" not in vocab\n",
      "isPersonalPronoun: False\n",
      "isNumber: False\n",
      "isTopping: False\n",
      "isQuantity: False\n",
      "Word: \"poppy\" -> \"poppi\" not in vocab\n",
      "isPersonalPronoun: False\n",
      "isNumber: False\n",
      "isTopping: False\n",
      "isQuantity: False\n",
      "Word: \"seeds\" -> \"seed\" not in vocab\n",
      "isPersonalPronoun: False\n",
      "isNumber: False\n",
      "isTopping: False\n",
      "isQuantity: False\n"
     ]
    },
    {
     "name": "stderr",
     "output_type": "stream",
     "text": [
      "writing results:  33%|███▎      | 1305/4000 [02:11<03:37, 12.37it/s]"
     ]
    },
    {
     "name": "stdout",
     "output_type": "stream",
     "text": [
      "Word: \"pawns\" -> \"pawn\" not in vocab\n",
      "isPersonalPronoun: False\n",
      "isNumber: False\n",
      "isTopping: False\n",
      "isQuantity: False\n",
      "Word: \"pawns\" -> \"pawn\" not in vocab\n",
      "isPersonalPronoun: False\n",
      "isNumber: False\n",
      "isTopping: False\n",
      "isQuantity: False\n",
      "Word: \"pawns\" -> \"pawn\" not in vocab\n",
      "isPersonalPronoun: False\n",
      "isNumber: False\n",
      "isTopping: False\n",
      "isQuantity: False\n",
      "Word: \"ave\" -> \"ave\" not in vocab\n",
      "isPersonalPronoun: False\n",
      "isNumber: False\n",
      "isTopping: False\n",
      "isQuantity: False\n",
      "Word: \"poppy\" -> \"poppi\" not in vocab\n",
      "isPersonalPronoun: False\n",
      "isNumber: False\n",
      "isTopping: False\n",
      "isQuantity: False\n",
      "Word: \"seeds\" -> \"seed\" not in vocab\n",
      "isPersonalPronoun: False\n",
      "isNumber: False\n",
      "isTopping: False\n",
      "isQuantity: False\n",
      "Word: \"sirach\" -> \"sirach\" not in vocab\n",
      "isPersonalPronoun: False\n",
      "isNumber: False\n",
      "isTopping: False\n",
      "isQuantity: False\n",
      "Word: \"poppy\" -> \"poppi\" not in vocab\n",
      "isPersonalPronoun: False\n",
      "isNumber: False\n",
      "isTopping: False\n",
      "isQuantity: False\n",
      "Word: \"seeds\" -> \"seed\" not in vocab\n",
      "isPersonalPronoun: False\n",
      "isNumber: False\n",
      "isTopping: False\n",
      "isQuantity: False\n"
     ]
    },
    {
     "name": "stderr",
     "output_type": "stream",
     "text": [
      "writing results:  33%|███▎      | 1308/4000 [02:12<06:28,  6.93it/s]"
     ]
    },
    {
     "name": "stdout",
     "output_type": "stream",
     "text": [
      "Word: \"sirach\" -> \"sirach\" not in vocab\n",
      "isPersonalPronoun: False\n",
      "isNumber: False\n",
      "isTopping: False\n",
      "isQuantity: False\n",
      "Word: \"gruyeres\" -> \"gruyer\" not in vocab\n",
      "isPersonalPronoun: False\n",
      "isNumber: False\n",
      "isTopping: False\n",
      "isQuantity: False\n",
      "Word: \"leeks\" -> \"leek\" not in vocab\n",
      "isPersonalPronoun: False\n",
      "isNumber: False\n",
      "isTopping: True\n",
      "isQuantity: False\n"
     ]
    },
    {
     "name": "stderr",
     "output_type": "stream",
     "text": [
      "writing results:  33%|███▎      | 1310/4000 [02:12<06:48,  6.59it/s]"
     ]
    },
    {
     "name": "stdout",
     "output_type": "stream",
     "text": [
      "Word: \"gruyeres\" -> \"gruyer\" not in vocab\n",
      "isPersonalPronoun: False\n",
      "isNumber: False\n",
      "isTopping: False\n",
      "isQuantity: False\n",
      "Word: \"leeks\" -> \"leek\" not in vocab\n",
      "isPersonalPronoun: False\n",
      "isNumber: False\n",
      "isTopping: True\n",
      "isQuantity: False\n",
      "Word: \"cucumber\" -> \"cucumb\" not in vocab\n",
      "isPersonalPronoun: False\n",
      "isNumber: False\n",
      "isTopping: False\n",
      "isQuantity: False\n",
      "Word: \"cucumber\" -> \"cucumb\" not in vocab\n",
      "isPersonalPronoun: False\n",
      "isNumber: False\n",
      "isTopping: False\n",
      "isQuantity: False\n",
      "Word: \"ca\" -> \"ca\" not in vocab\n",
      "isPersonalPronoun: False\n",
      "isNumber: False\n",
      "isTopping: False\n",
      "isQuantity: False\n",
      "Word: \"sparkling\" -> \"sparkl\" not in vocab\n",
      "isPersonalPronoun: False\n",
      "isNumber: False\n",
      "isTopping: False\n",
      "isQuantity: False\n"
     ]
    },
    {
     "name": "stderr",
     "output_type": "stream",
     "text": [
      "writing results:  33%|███▎      | 1312/4000 [02:13<06:30,  6.89it/s]"
     ]
    },
    {
     "name": "stdout",
     "output_type": "stream",
     "text": [
      "Word: \"sparkling\" -> \"sparkl\" not in vocab\n",
      "isPersonalPronoun: False\n",
      "isNumber: False\n",
      "isTopping: False\n",
      "isQuantity: False\n",
      "Word: \"chair\" -> \"chair\" not in vocab\n",
      "isPersonalPronoun: False\n",
      "isNumber: False\n",
      "isTopping: False\n",
      "isQuantity: False\n",
      "Word: \"latte\" -> \"latt\" not in vocab\n",
      "isPersonalPronoun: False\n",
      "isNumber: False\n",
      "isTopping: False\n",
      "isQuantity: False\n",
      "Word: \"chair\" -> \"chair\" not in vocab\n",
      "isPersonalPronoun: False\n",
      "isNumber: False\n",
      "isTopping: False\n",
      "isQuantity: False\n",
      "Word: \"latte\" -> \"latt\" not in vocab\n",
      "isPersonalPronoun: False\n",
      "isNumber: False\n",
      "isTopping: False\n",
      "isQuantity: False\n"
     ]
    },
    {
     "name": "stderr",
     "output_type": "stream",
     "text": [
      "writing results:  33%|███▎      | 1316/4000 [02:13<05:41,  7.86it/s]"
     ]
    },
    {
     "name": "stdout",
     "output_type": "stream",
     "text": [
      "Word: \"favor and\" -> \"favor and\" not in vocab\n",
      "isPersonalPronoun: False\n",
      "isNumber: False\n",
      "isTopping: False\n",
      "isQuantity: False\n",
      "Word: \"bi\" -> \"bi\" not in vocab\n",
      "isPersonalPronoun: False\n",
      "isNumber: False\n",
      "isTopping: False\n",
      "isQuantity: False\n",
      "Word: \"bi\" -> \"bi\" not in vocab\n",
      "isPersonalPronoun: False\n",
      "isNumber: False\n",
      "isTopping: False\n",
      "isQuantity: False\n",
      "Word: \"bi\" -> \"bi\" not in vocab\n",
      "isPersonalPronoun: False\n",
      "isNumber: False\n",
      "isTopping: False\n",
      "isQuantity: False\n",
      "Word: \"bi\" -> \"bi\" not in vocab\n",
      "isPersonalPronoun: False\n",
      "isNumber: False\n",
      "isTopping: False\n",
      "isQuantity: False\n"
     ]
    },
    {
     "name": "stderr",
     "output_type": "stream",
     "text": [
      "writing results:  33%|███▎      | 1318/4000 [02:13<05:04,  8.80it/s]"
     ]
    },
    {
     "name": "stdout",
     "output_type": "stream",
     "text": [
      "Word: \"kimchi\" -> \"kimchi\" not in vocab\n",
      "isPersonalPronoun: False\n",
      "isNumber: False\n",
      "isTopping: False\n",
      "isQuantity: False\n",
      "Word: \"heavy\" -> \"heavi\" not in vocab\n",
      "isPersonalPronoun: False\n",
      "isNumber: False\n",
      "isTopping: False\n",
      "isQuantity: False\n",
      "Word: \"kimchi\" -> \"kimchi\" not in vocab\n",
      "isPersonalPronoun: False\n",
      "isNumber: False\n",
      "isTopping: False\n",
      "isQuantity: False\n",
      "Word: \"heavy\" -> \"heavi\" not in vocab\n",
      "isPersonalPronoun: False\n",
      "isNumber: False\n",
      "isTopping: False\n",
      "isQuantity: False\n"
     ]
    },
    {
     "name": "stderr",
     "output_type": "stream",
     "text": [
      "writing results:  33%|███▎      | 1321/4000 [02:14<05:11,  8.61it/s]"
     ]
    },
    {
     "name": "stdout",
     "output_type": "stream",
     "text": [
      "Word: \"chocolate\" -> \"chocol\" not in vocab\n",
      "isPersonalPronoun: False\n",
      "isNumber: False\n",
      "isTopping: False\n",
      "isQuantity: False\n",
      "Word: \"gruyeres\" -> \"gruyer\" not in vocab\n",
      "isPersonalPronoun: False\n",
      "isNumber: False\n",
      "isTopping: False\n",
      "isQuantity: False\n",
      "Word: \"chocolate\" -> \"chocol\" not in vocab\n",
      "isPersonalPronoun: False\n",
      "isNumber: False\n",
      "isTopping: False\n",
      "isQuantity: False\n",
      "Word: \"gruyeres\" -> \"gruyer\" not in vocab\n",
      "isPersonalPronoun: False\n",
      "isNumber: False\n",
      "isTopping: False\n",
      "isQuantity: False\n"
     ]
    },
    {
     "name": "stderr",
     "output_type": "stream",
     "text": [
      "writing results:  33%|███▎      | 1327/4000 [02:14<03:33, 12.53it/s]"
     ]
    },
    {
     "name": "stdout",
     "output_type": "stream",
     "text": [
      "Word: \"sweet\" -> \"sweet\" not in vocab\n",
      "isPersonalPronoun: False\n",
      "isNumber: False\n",
      "isTopping: False\n",
      "isQuantity: False\n",
      "Word: \"sweet\" -> \"sweet\" not in vocab\n",
      "isPersonalPronoun: False\n",
      "isNumber: False\n",
      "isTopping: False\n",
      "isQuantity: False\n"
     ]
    },
    {
     "name": "stderr",
     "output_type": "stream",
     "text": [
      "writing results:  33%|███▎      | 1331/4000 [02:14<03:00, 14.81it/s]"
     ]
    },
    {
     "name": "stdout",
     "output_type": "stream",
     "text": [
      "Word: \"leaning\" -> \"lean\" not in vocab\n",
      "isPersonalPronoun: False\n",
      "isNumber: False\n",
      "isTopping: False\n",
      "isQuantity: False\n",
      "Word: \"toward\" -> \"toward\" not in vocab\n",
      "isPersonalPronoun: False\n",
      "isNumber: False\n",
      "isTopping: False\n",
      "isQuantity: False\n",
      "Word: \"leaning\" -> \"lean\" not in vocab\n",
      "isPersonalPronoun: False\n",
      "isNumber: False\n",
      "isTopping: False\n",
      "isQuantity: False\n",
      "Word: \"toward\" -> \"toward\" not in vocab\n",
      "isPersonalPronoun: False\n",
      "isNumber: False\n",
      "isTopping: False\n",
      "isQuantity: False\n",
      "Word: \"arrange\" -> \"arrang\" not in vocab\n",
      "isPersonalPronoun: False\n",
      "isNumber: False\n",
      "isTopping: False\n",
      "isQuantity: False\n",
      "Word: \"sirach\" -> \"sirach\" not in vocab\n",
      "isPersonalPronoun: False\n",
      "isNumber: False\n",
      "isTopping: False\n",
      "isQuantity: False\n"
     ]
    },
    {
     "name": "stderr",
     "output_type": "stream",
     "text": [
      "writing results:  33%|███▎      | 1337/4000 [02:15<04:59,  8.88it/s]"
     ]
    },
    {
     "name": "stdout",
     "output_type": "stream",
     "text": [
      "Word: \"sirach\" -> \"sirach\" not in vocab\n",
      "isPersonalPronoun: False\n",
      "isNumber: False\n",
      "isTopping: False\n",
      "isQuantity: False\n",
      "Word: \"coconut\" -> \"coconut\" not in vocab\n",
      "isPersonalPronoun: False\n",
      "isNumber: False\n",
      "isTopping: True\n",
      "isQuantity: False\n",
      "Word: \"coconut\" -> \"coconut\" not in vocab\n",
      "isPersonalPronoun: False\n",
      "isNumber: False\n",
      "isTopping: True\n",
      "isQuantity: False\n"
     ]
    },
    {
     "name": "stderr",
     "output_type": "stream",
     "text": [
      "writing results:  33%|███▎      | 1339/4000 [02:15<04:31,  9.79it/s]"
     ]
    },
    {
     "name": "stdout",
     "output_type": "stream",
     "text": [
      "Word: \"espresso\" -> \"espresso\" not in vocab\n",
      "isPersonalPronoun: False\n",
      "isNumber: False\n",
      "isTopping: False\n",
      "isQuantity: False\n",
      "Word: \"espresso\" -> \"espresso\" not in vocab\n",
      "isPersonalPronoun: False\n",
      "isNumber: False\n",
      "isTopping: False\n",
      "isQuantity: False\n",
      "Word: \"mint\" -> \"mint\" not in vocab\n",
      "isPersonalPronoun: False\n",
      "isNumber: False\n",
      "isTopping: False\n",
      "isQuantity: False\n"
     ]
    },
    {
     "name": "stderr",
     "output_type": "stream",
     "text": [
      "writing results:  34%|███▎      | 1341/4000 [02:16<05:04,  8.72it/s]"
     ]
    },
    {
     "name": "stdout",
     "output_type": "stream",
     "text": [
      "Word: \"mint\" -> \"mint\" not in vocab\n",
      "isPersonalPronoun: False\n",
      "isNumber: False\n",
      "isTopping: False\n",
      "isQuantity: False\n",
      "Word: \"arrange\" -> \"arrang\" not in vocab\n",
      "isPersonalPronoun: False\n",
      "isNumber: False\n",
      "isTopping: False\n",
      "isQuantity: False\n",
      "Word: \"soy\" -> \"soy\" not in vocab\n",
      "isPersonalPronoun: False\n",
      "isNumber: False\n",
      "isTopping: False\n",
      "isQuantity: False\n",
      "Word: \"soy\" -> \"soy\" not in vocab\n",
      "isPersonalPronoun: False\n",
      "isNumber: False\n",
      "isTopping: False\n",
      "isQuantity: False\n",
      "Word: \"you get\" -> \"you get\" not in vocab\n",
      "isPersonalPronoun: False\n",
      "isNumber: False\n",
      "isTopping: False\n",
      "isQuantity: False\n",
      "Word: \"zest\" -> \"zest\" not in vocab\n",
      "isPersonalPronoun: False\n",
      "isNumber: False\n",
      "isTopping: False\n",
      "isQuantity: False\n"
     ]
    },
    {
     "name": "stderr",
     "output_type": "stream",
     "text": [
      "writing results:  34%|███▎      | 1343/4000 [02:16<04:54,  9.03it/s]"
     ]
    },
    {
     "name": "stdout",
     "output_type": "stream",
     "text": [
      "Word: \"zest\" -> \"zest\" not in vocab\n",
      "isPersonalPronoun: False\n",
      "isNumber: False\n",
      "isTopping: False\n",
      "isQuantity: False\n",
      "Word: \"mint\" -> \"mint\" not in vocab\n",
      "isPersonalPronoun: False\n",
      "isNumber: False\n",
      "isTopping: False\n",
      "isQuantity: False\n",
      "Word: \"mint\" -> \"mint\" not in vocab\n",
      "isPersonalPronoun: False\n",
      "isNumber: False\n",
      "isTopping: False\n",
      "isQuantity: False\n",
      "Word: \"lamb\" -> \"lamb\" not in vocab\n",
      "isPersonalPronoun: False\n",
      "isNumber: False\n",
      "isTopping: False\n",
      "isQuantity: False\n"
     ]
    },
    {
     "name": "stderr",
     "output_type": "stream",
     "text": [
      "writing results:  34%|███▎      | 1349/4000 [02:16<03:18, 13.36it/s]"
     ]
    },
    {
     "name": "stdout",
     "output_type": "stream",
     "text": [
      "Word: \"lamb\" -> \"lamb\" not in vocab\n",
      "isPersonalPronoun: False\n",
      "isNumber: False\n",
      "isTopping: False\n",
      "isQuantity: False\n",
      "Word: \"sweet\" -> \"sweet\" not in vocab\n",
      "isPersonalPronoun: False\n",
      "isNumber: False\n",
      "isTopping: False\n",
      "isQuantity: False\n",
      "Word: \"sweet\" -> \"sweet\" not in vocab\n",
      "isPersonalPronoun: False\n",
      "isNumber: False\n",
      "isTopping: False\n",
      "isQuantity: False\n",
      "Word: \"ant\" -> \"ant\" not in vocab\n",
      "isPersonalPronoun: False\n",
      "isNumber: False\n",
      "isTopping: False\n",
      "isQuantity: False\n"
     ]
    },
    {
     "name": "stderr",
     "output_type": "stream",
     "text": [
      "writing results:  34%|███▍      | 1356/4000 [02:16<02:28, 17.79it/s]"
     ]
    },
    {
     "name": "stdout",
     "output_type": "stream",
     "text": [
      "Word: \"sort\" -> \"sort\" not in vocab\n",
      "isPersonalPronoun: False\n",
      "isNumber: False\n",
      "isTopping: False\n",
      "isQuantity: False\n",
      "Word: \"hummus\" -> \"hummu\" not in vocab\n",
      "isPersonalPronoun: False\n",
      "isNumber: False\n",
      "isTopping: False\n",
      "isQuantity: False\n",
      "Word: \"hummus\" -> \"hummu\" not in vocab\n",
      "isPersonalPronoun: False\n",
      "isNumber: False\n",
      "isTopping: False\n",
      "isQuantity: False\n",
      "Word: \"black olives\" -> \"black ol\" not in vocab\n",
      "isPersonalPronoun: False\n",
      "isNumber: False\n",
      "isTopping: False\n",
      "isQuantity: False\n",
      "Word: \"mint\" -> \"mint\" not in vocab\n",
      "isPersonalPronoun: False\n",
      "isNumber: False\n",
      "isTopping: False\n",
      "isQuantity: False\n",
      "Word: \"mint\" -> \"mint\" not in vocab\n",
      "isPersonalPronoun: False\n",
      "isNumber: False\n",
      "isTopping: False\n",
      "isQuantity: False\n"
     ]
    },
    {
     "name": "stderr",
     "output_type": "stream",
     "text": [
      "writing results:  34%|███▍      | 1359/4000 [02:17<02:41, 16.38it/s]"
     ]
    },
    {
     "name": "stdout",
     "output_type": "stream",
     "text": [
      "Word: \"sweet\" -> \"sweet\" not in vocab\n",
      "isPersonalPronoun: False\n",
      "isNumber: False\n",
      "isTopping: False\n",
      "isQuantity: False\n",
      "Word: \"sweet\" -> \"sweet\" not in vocab\n",
      "isPersonalPronoun: False\n",
      "isNumber: False\n",
      "isTopping: False\n",
      "isQuantity: False\n",
      "Word: \"sweet\" -> \"sweet\" not in vocab\n",
      "isPersonalPronoun: False\n",
      "isNumber: False\n",
      "isTopping: False\n",
      "isQuantity: False\n",
      "Word: \"sweet\" -> \"sweet\" not in vocab\n",
      "isPersonalPronoun: False\n",
      "isNumber: False\n",
      "isTopping: False\n",
      "isQuantity: False\n",
      "Word: \"leeks\" -> \"leek\" not in vocab\n",
      "isPersonalPronoun: False\n",
      "isNumber: False\n",
      "isTopping: True\n",
      "isQuantity: False\n"
     ]
    },
    {
     "name": "stderr",
     "output_type": "stream",
     "text": [
      "writing results:  34%|███▍      | 1361/4000 [02:17<02:36, 16.90it/s]"
     ]
    },
    {
     "name": "stdout",
     "output_type": "stream",
     "text": [
      "Word: \"ca\" -> \"ca\" not in vocab\n",
      "isPersonalPronoun: False\n",
      "isNumber: False\n",
      "isTopping: False\n",
      "isQuantity: False\n",
      "Word: \"arrange\" -> \"arrang\" not in vocab\n",
      "isPersonalPronoun: False\n",
      "isNumber: False\n",
      "isTopping: False\n",
      "isQuantity: False\n",
      "Word: \"settle\" -> \"settl\" not in vocab\n",
      "isPersonalPronoun: False\n",
      "isNumber: False\n",
      "isTopping: False\n",
      "isQuantity: False\n",
      "Word: \"mushy\" -> \"mushi\" not in vocab\n",
      "isPersonalPronoun: False\n",
      "isNumber: False\n",
      "isTopping: False\n",
      "isQuantity: False\n",
      "Word: \"gruyeres\" -> \"gruyer\" not in vocab\n",
      "isPersonalPronoun: False\n",
      "isNumber: False\n",
      "isTopping: False\n",
      "isQuantity: False\n",
      "Word: \"mushy\" -> \"mushi\" not in vocab\n",
      "isPersonalPronoun: False\n",
      "isNumber: False\n",
      "isTopping: False\n",
      "isQuantity: False\n",
      "Word: \"gruyeres\" -> \"gruyer\" not in vocab\n",
      "isPersonalPronoun: False\n",
      "isNumber: False\n",
      "isTopping: False\n",
      "isQuantity: False\n"
     ]
    },
    {
     "name": "stderr",
     "output_type": "stream",
     "text": [
      "writing results:  34%|███▍      | 1363/4000 [02:17<04:33,  9.63it/s]"
     ]
    },
    {
     "name": "stdout",
     "output_type": "stream",
     "text": [
      "Word: \"HAE\" -> \"hae\" not in vocab\n",
      "isPersonalPronoun: False\n",
      "isNumber: False\n",
      "isTopping: False\n",
      "isQuantity: False\n",
      "Word: \"finalize\" -> \"final\" not in vocab\n",
      "isPersonalPronoun: False\n",
      "isNumber: False\n",
      "isTopping: False\n",
      "isQuantity: False\n",
      "Word: \"cabbage\" -> \"cabbag\" not in vocab\n",
      "isPersonalPronoun: False\n",
      "isNumber: False\n",
      "isTopping: False\n",
      "isQuantity: False\n"
     ]
    },
    {
     "name": "stderr",
     "output_type": "stream",
     "text": [
      "writing results:  34%|███▍      | 1368/4000 [02:17<03:40, 11.92it/s]"
     ]
    },
    {
     "name": "stdout",
     "output_type": "stream",
     "text": [
      "Word: \"cabbage\" -> \"cabbag\" not in vocab\n",
      "isPersonalPronoun: False\n",
      "isNumber: False\n",
      "isTopping: False\n",
      "isQuantity: False\n",
      "Word: \"hummus\" -> \"hummu\" not in vocab\n",
      "isPersonalPronoun: False\n",
      "isNumber: False\n",
      "isTopping: False\n",
      "isQuantity: False\n",
      "Word: \"goat\" -> \"goat\" not in vocab\n",
      "isPersonalPronoun: False\n",
      "isNumber: False\n",
      "isTopping: False\n",
      "isQuantity: False\n",
      "Word: \"hummus\" -> \"hummu\" not in vocab\n",
      "isPersonalPronoun: False\n",
      "isNumber: False\n",
      "isTopping: False\n",
      "isQuantity: False\n",
      "Word: \"goat\" -> \"goat\" not in vocab\n",
      "isPersonalPronoun: False\n",
      "isNumber: False\n",
      "isTopping: False\n",
      "isQuantity: False\n"
     ]
    },
    {
     "name": "stderr",
     "output_type": "stream",
     "text": [
      "writing results:  34%|███▍      | 1370/4000 [02:18<03:33, 12.31it/s]"
     ]
    },
    {
     "name": "stdout",
     "output_type": "stream",
     "text": [
      "Word: \"seen\" -> \"seen\" not in vocab\n",
      "isPersonalPronoun: False\n",
      "isNumber: False\n",
      "isTopping: False\n",
      "isQuantity: False\n",
      "Word: \"seen\" -> \"seen\" not in vocab\n",
      "isPersonalPronoun: False\n",
      "isNumber: False\n",
      "isTopping: False\n",
      "isQuantity: False\n",
      "Word: \"spic\" -> \"spic\" not in vocab\n",
      "isPersonalPronoun: False\n",
      "isNumber: False\n",
      "isTopping: False\n",
      "isQuantity: False\n",
      "Word: \"spic\" -> \"spic\" not in vocab\n",
      "isPersonalPronoun: False\n",
      "isNumber: False\n",
      "isTopping: False\n",
      "isQuantity: False\n",
      "Word: \"got\" -> \"got\" not in vocab\n",
      "isPersonalPronoun: False\n",
      "isNumber: False\n",
      "isTopping: False\n",
      "isQuantity: False\n"
     ]
    },
    {
     "name": "stderr",
     "output_type": "stream",
     "text": [
      "writing results:  34%|███▍      | 1372/4000 [02:18<03:30, 12.51it/s]"
     ]
    },
    {
     "name": "stdout",
     "output_type": "stream",
     "text": [
      "Word: \"got\" -> \"got\" not in vocab\n",
      "isPersonalPronoun: False\n",
      "isNumber: False\n",
      "isTopping: False\n",
      "isQuantity: False\n",
      "Word: \"HAE\" -> \"hae\" not in vocab\n",
      "isPersonalPronoun: False\n",
      "isNumber: False\n",
      "isTopping: False\n",
      "isQuantity: False\n",
      "Word: \"Pakistan\" -> \"pakistan\" not in vocab\n",
      "isPersonalPronoun: False\n",
      "isNumber: False\n",
      "isTopping: False\n",
      "isQuantity: False\n"
     ]
    },
    {
     "name": "stderr",
     "output_type": "stream",
     "text": [
      "writing results:  34%|███▍      | 1374/4000 [02:18<04:13, 10.36it/s]"
     ]
    },
    {
     "name": "stdout",
     "output_type": "stream",
     "text": [
      "Word: \"Pakistan\" -> \"pakistan\" not in vocab\n",
      "isPersonalPronoun: False\n",
      "isNumber: False\n",
      "isTopping: False\n",
      "isQuantity: False\n",
      "Word: \"smoked\" -> \"smoke\" not in vocab\n",
      "isPersonalPronoun: False\n",
      "isNumber: False\n",
      "isTopping: False\n",
      "isQuantity: False\n",
      "Word: \"salmon\" -> \"salmon\" not in vocab\n",
      "isPersonalPronoun: False\n",
      "isNumber: False\n",
      "isTopping: False\n",
      "isQuantity: False\n",
      "Word: \"footing\" -> \"foot\" not in vocab\n",
      "isPersonalPronoun: False\n",
      "isNumber: False\n",
      "isTopping: False\n",
      "isQuantity: True\n"
     ]
    },
    {
     "name": "stderr",
     "output_type": "stream",
     "text": [
      "writing results:  35%|███▍      | 1383/4000 [02:19<03:54, 11.18it/s]"
     ]
    },
    {
     "name": "stdout",
     "output_type": "stream",
     "text": [
      "Word: \"footing\" -> \"foot\" not in vocab\n",
      "isPersonalPronoun: False\n",
      "isNumber: False\n",
      "isTopping: False\n",
      "isQuantity: True\n",
      "Word: \"opt\" -> \"opt\" not in vocab\n",
      "isPersonalPronoun: False\n",
      "isNumber: False\n",
      "isTopping: False\n",
      "isQuantity: False\n",
      "Word: \"sweet\" -> \"sweet\" not in vocab\n",
      "isPersonalPronoun: False\n",
      "isNumber: False\n",
      "isTopping: False\n",
      "isQuantity: False\n",
      "Word: \"sweet\" -> \"sweet\" not in vocab\n",
      "isPersonalPronoun: False\n",
      "isNumber: False\n",
      "isTopping: False\n",
      "isQuantity: False\n"
     ]
    },
    {
     "name": "stderr",
     "output_type": "stream",
     "text": [
      "writing results:  35%|███▍      | 1385/4000 [02:19<03:46, 11.55it/s]"
     ]
    },
    {
     "name": "stdout",
     "output_type": "stream",
     "text": [
      "Word: \"mush yeas\" -> \"mush yea\" not in vocab\n",
      "isPersonalPronoun: False\n",
      "isNumber: False\n",
      "isTopping: False\n",
      "isQuantity: False\n",
      "Word: \"mushy\" -> \"mushi\" not in vocab\n",
      "isPersonalPronoun: False\n",
      "isNumber: False\n",
      "isTopping: False\n",
      "isQuantity: False\n",
      "Word: \"extralarge\" -> \"extralarg\" not in vocab\n",
      "isPersonalPronoun: False\n",
      "isNumber: False\n",
      "isTopping: False\n",
      "isQuantity: False\n"
     ]
    },
    {
     "name": "stderr",
     "output_type": "stream",
     "text": [
      "writing results:  35%|███▍      | 1388/4000 [02:20<08:19,  5.23it/s]"
     ]
    },
    {
     "name": "stdout",
     "output_type": "stream",
     "text": [
      "Word: \"extralarge\" -> \"extralarg\" not in vocab\n",
      "isPersonalPronoun: False\n",
      "isNumber: False\n",
      "isTopping: False\n",
      "isQuantity: False\n",
      "Word: \"gruyeres\" -> \"gruyer\" not in vocab\n",
      "isPersonalPronoun: False\n",
      "isNumber: False\n",
      "isTopping: False\n",
      "isQuantity: False\n",
      "Word: \"gruyeres\" -> \"gruyer\" not in vocab\n",
      "isPersonalPronoun: False\n",
      "isNumber: False\n",
      "isTopping: False\n",
      "isQuantity: False\n",
      "Word: \"footing\" -> \"foot\" not in vocab\n",
      "isPersonalPronoun: False\n",
      "isNumber: False\n",
      "isTopping: False\n",
      "isQuantity: True\n"
     ]
    },
    {
     "name": "stderr",
     "output_type": "stream",
     "text": [
      "writing results:  35%|███▍      | 1391/4000 [02:21<10:01,  4.34it/s]"
     ]
    },
    {
     "name": "stdout",
     "output_type": "stream",
     "text": [
      "Word: \"footing\" -> \"foot\" not in vocab\n",
      "isPersonalPronoun: False\n",
      "isNumber: False\n",
      "isTopping: False\n",
      "isQuantity: True\n",
      "Word: \"lamb\" -> \"lamb\" not in vocab\n",
      "isPersonalPronoun: False\n",
      "isNumber: False\n",
      "isTopping: False\n",
      "isQuantity: False\n",
      "Word: \"lamb\" -> \"lamb\" not in vocab\n",
      "isPersonalPronoun: False\n",
      "isNumber: False\n",
      "isTopping: False\n",
      "isQuantity: False\n",
      "Word: \"extralarge\" -> \"extralarg\" not in vocab\n",
      "isPersonalPronoun: False\n",
      "isNumber: False\n",
      "isTopping: False\n",
      "isQuantity: False\n",
      "Word: \"poppy\" -> \"poppi\" not in vocab\n",
      "isPersonalPronoun: False\n",
      "isNumber: False\n",
      "isTopping: False\n",
      "isQuantity: False\n",
      "Word: \"seeds\" -> \"seed\" not in vocab\n",
      "isPersonalPronoun: False\n",
      "isNumber: False\n",
      "isTopping: False\n",
      "isQuantity: False\n"
     ]
    },
    {
     "name": "stderr",
     "output_type": "stream",
     "text": [
      "writing results:  35%|███▍      | 1394/4000 [02:23<12:45,  3.40it/s]"
     ]
    },
    {
     "name": "stdout",
     "output_type": "stream",
     "text": [
      "Word: \"extralarge\" -> \"extralarg\" not in vocab\n",
      "isPersonalPronoun: False\n",
      "isNumber: False\n",
      "isTopping: False\n",
      "isQuantity: False\n",
      "Word: \"lamb\" -> \"lamb\" not in vocab\n",
      "isPersonalPronoun: False\n",
      "isNumber: False\n",
      "isTopping: False\n",
      "isQuantity: False\n",
      "Word: \"lamb\" -> \"lamb\" not in vocab\n",
      "isPersonalPronoun: False\n",
      "isNumber: False\n",
      "isTopping: False\n",
      "isQuantity: False\n",
      "Word: \"mean\" -> \"mean\" not in vocab\n",
      "isPersonalPronoun: False\n",
      "isNumber: False\n",
      "isTopping: False\n",
      "isQuantity: False\n"
     ]
    },
    {
     "name": "stderr",
     "output_type": "stream",
     "text": [
      "writing results:  35%|███▍      | 1396/4000 [02:23<09:37,  4.51it/s]"
     ]
    },
    {
     "name": "stdout",
     "output_type": "stream",
     "text": [
      "Word: \"mean\" -> \"mean\" not in vocab\n",
      "isPersonalPronoun: False\n",
      "isNumber: False\n",
      "isTopping: False\n",
      "isQuantity: False\n",
      "Word: \"poppy\" -> \"poppi\" not in vocab\n",
      "isPersonalPronoun: False\n",
      "isNumber: False\n",
      "isTopping: False\n",
      "isQuantity: False\n",
      "Word: \"seeds\" -> \"seed\" not in vocab\n",
      "isPersonalPronoun: False\n",
      "isNumber: False\n",
      "isTopping: False\n",
      "isQuantity: False\n"
     ]
    },
    {
     "name": "stderr",
     "output_type": "stream",
     "text": [
      "writing results:  35%|███▌      | 1401/4000 [02:23<05:37,  7.71it/s]"
     ]
    },
    {
     "name": "stdout",
     "output_type": "stream",
     "text": [
      "Word: \"poppy\" -> \"poppi\" not in vocab\n",
      "isPersonalPronoun: False\n",
      "isNumber: False\n",
      "isTopping: False\n",
      "isQuantity: False\n",
      "Word: \"seeds\" -> \"seed\" not in vocab\n",
      "isPersonalPronoun: False\n",
      "isNumber: False\n",
      "isTopping: False\n",
      "isQuantity: False\n",
      "Word: \"settle\" -> \"settl\" not in vocab\n",
      "isPersonalPronoun: False\n",
      "isNumber: False\n",
      "isTopping: False\n",
      "isQuantity: False\n"
     ]
    },
    {
     "name": "stderr",
     "output_type": "stream",
     "text": [
      "writing results:  35%|███▌      | 1403/4000 [02:24<07:26,  5.82it/s]"
     ]
    },
    {
     "name": "stdout",
     "output_type": "stream",
     "text": [
      "Word: \"optic\" -> \"optic\" not in vocab\n",
      "isPersonalPronoun: False\n",
      "isNumber: False\n",
      "isTopping: False\n",
      "isQuantity: False\n",
      "Word: \"protein\" -> \"protein\" not in vocab\n",
      "isPersonalPronoun: False\n",
      "isNumber: False\n",
      "isTopping: False\n",
      "isQuantity: False\n",
      "Word: \"shakes\" -> \"shake\" not in vocab\n",
      "isPersonalPronoun: False\n",
      "isNumber: False\n",
      "isTopping: False\n",
      "isQuantity: False\n",
      "Word: \"protein\" -> \"protein\" not in vocab\n",
      "isPersonalPronoun: False\n",
      "isNumber: False\n",
      "isTopping: False\n",
      "isQuantity: False\n",
      "Word: \"shakes\" -> \"shake\" not in vocab\n",
      "isPersonalPronoun: False\n",
      "isNumber: False\n",
      "isTopping: False\n",
      "isQuantity: False\n"
     ]
    },
    {
     "name": "stderr",
     "output_type": "stream",
     "text": [
      "writing results:  35%|███▌      | 1405/4000 [02:24<06:35,  6.57it/s]"
     ]
    },
    {
     "name": "stdout",
     "output_type": "stream",
     "text": [
      "Word: \"sirach\" -> \"sirach\" not in vocab\n",
      "isPersonalPronoun: False\n",
      "isNumber: False\n",
      "isTopping: False\n",
      "isQuantity: False\n",
      "Word: \"sirach\" -> \"sirach\" not in vocab\n",
      "isPersonalPronoun: False\n",
      "isNumber: False\n",
      "isTopping: False\n",
      "isQuantity: False\n",
      "Word: \"extralarge\" -> \"extralarg\" not in vocab\n",
      "isPersonalPronoun: False\n",
      "isNumber: False\n",
      "isTopping: False\n",
      "isQuantity: False\n"
     ]
    },
    {
     "name": "stderr",
     "output_type": "stream",
     "text": [
      "writing results:  35%|███▌      | 1407/4000 [02:26<19:41,  2.19it/s]"
     ]
    },
    {
     "name": "stdout",
     "output_type": "stream",
     "text": [
      "Word: \"extralarge\" -> \"extralarg\" not in vocab\n",
      "isPersonalPronoun: False\n",
      "isNumber: False\n",
      "isTopping: False\n",
      "isQuantity: False\n",
      "Word: \"ET\" -> \"et\" not in vocab\n",
      "isPersonalPronoun: False\n",
      "isNumber: False\n",
      "isTopping: False\n",
      "isQuantity: False\n",
      "Word: \"extralarge\" -> \"extralarg\" not in vocab\n",
      "isPersonalPronoun: False\n",
      "isNumber: False\n",
      "isTopping: False\n",
      "isQuantity: False\n"
     ]
    },
    {
     "name": "stderr",
     "output_type": "stream",
     "text": [
      "writing results:  35%|███▌      | 1414/4000 [02:29<13:53,  3.10it/s]"
     ]
    },
    {
     "name": "stdout",
     "output_type": "stream",
     "text": [
      "Word: \"extralarge\" -> \"extralarg\" not in vocab\n",
      "isPersonalPronoun: False\n",
      "isNumber: False\n",
      "isTopping: False\n",
      "isQuantity: False\n"
     ]
    },
    {
     "name": "stderr",
     "output_type": "stream",
     "text": [
      "writing results:  35%|███▌      | 1419/4000 [02:29<08:34,  5.02it/s]"
     ]
    },
    {
     "name": "stdout",
     "output_type": "stream",
     "text": [
      "Word: \"mood for\" -> \"mood for\" not in vocab\n",
      "isPersonalPronoun: False\n",
      "isNumber: False\n",
      "isTopping: False\n",
      "isQuantity: False\n",
      "Word: \"fr\" -> \"fr\" not in vocab\n",
      "isPersonalPronoun: False\n",
      "isNumber: False\n",
      "isTopping: False\n",
      "isQuantity: False\n",
      "Word: \"blue\" -> \"blue\" not in vocab\n",
      "isPersonalPronoun: False\n",
      "isNumber: False\n",
      "isTopping: False\n",
      "isQuantity: False\n",
      "Word: \"blue\" -> \"blue\" not in vocab\n",
      "isPersonalPronoun: False\n",
      "isNumber: False\n",
      "isTopping: False\n",
      "isQuantity: False\n",
      "Word: \"sweet\" -> \"sweet\" not in vocab\n",
      "isPersonalPronoun: False\n",
      "isNumber: False\n",
      "isTopping: False\n",
      "isQuantity: False\n"
     ]
    },
    {
     "name": "stderr",
     "output_type": "stream",
     "text": [
      "writing results:  36%|███▌      | 1421/4000 [02:29<07:34,  5.67it/s]"
     ]
    },
    {
     "name": "stdout",
     "output_type": "stream",
     "text": [
      "Word: \"sweet\" -> \"sweet\" not in vocab\n",
      "isPersonalPronoun: False\n",
      "isNumber: False\n",
      "isTopping: False\n",
      "isQuantity: False\n",
      "Word: \"heavy\" -> \"heavi\" not in vocab\n",
      "isPersonalPronoun: False\n",
      "isNumber: False\n",
      "isTopping: False\n",
      "isQuantity: False\n",
      "Word: \"heavy\" -> \"heavi\" not in vocab\n",
      "isPersonalPronoun: False\n",
      "isNumber: False\n",
      "isTopping: False\n",
      "isQuantity: False\n",
      "Word: \"duck\" -> \"duck\" not in vocab\n",
      "isPersonalPronoun: False\n",
      "isNumber: False\n",
      "isTopping: False\n",
      "isQuantity: False\n"
     ]
    },
    {
     "name": "stderr",
     "output_type": "stream",
     "text": [
      "writing results:  36%|███▌      | 1423/4000 [02:29<06:34,  6.53it/s]"
     ]
    },
    {
     "name": "stdout",
     "output_type": "stream",
     "text": [
      "Word: \"duck\" -> \"duck\" not in vocab\n",
      "isPersonalPronoun: False\n",
      "isNumber: False\n",
      "isTopping: False\n",
      "isQuantity: False\n",
      "Word: \"prawns\" -> \"prawn\" not in vocab\n",
      "isPersonalPronoun: False\n",
      "isNumber: False\n",
      "isTopping: False\n",
      "isQuantity: False\n",
      "Word: \"prawns\" -> \"prawn\" not in vocab\n",
      "isPersonalPronoun: False\n",
      "isNumber: False\n",
      "isTopping: False\n",
      "isQuantity: False\n",
      "Word: \"rd\" -> \"rd\" not in vocab\n",
      "isPersonalPronoun: False\n",
      "isNumber: False\n",
      "isTopping: False\n",
      "isQuantity: False\n",
      "Word: \"rd\" -> \"rd\" not in vocab\n",
      "isPersonalPronoun: False\n",
      "isNumber: False\n",
      "isTopping: False\n",
      "isQuantity: False\n"
     ]
    },
    {
     "name": "stderr",
     "output_type": "stream",
     "text": [
      "writing results:  36%|███▌      | 1431/4000 [02:30<03:09, 13.55it/s]"
     ]
    },
    {
     "name": "stdout",
     "output_type": "stream",
     "text": [
      "Word: \"ant\" -> \"ant\" not in vocab\n",
      "isPersonalPronoun: False\n",
      "isNumber: False\n",
      "isTopping: False\n",
      "isQuantity: False\n",
      "Word: \"duck\" -> \"duck\" not in vocab\n",
      "isPersonalPronoun: False\n",
      "isNumber: False\n",
      "isTopping: False\n",
      "isQuantity: False\n",
      "Word: \"duck\" -> \"duck\" not in vocab\n",
      "isPersonalPronoun: False\n",
      "isNumber: False\n",
      "isTopping: False\n",
      "isQuantity: False\n"
     ]
    },
    {
     "name": "stderr",
     "output_type": "stream",
     "text": [
      "writing results:  36%|███▌      | 1440/4000 [02:30<02:34, 16.61it/s]"
     ]
    },
    {
     "name": "stdout",
     "output_type": "stream",
     "text": [
      "Word: \"fantasy\" -> \"fantasi\" not in vocab\n",
      "isPersonalPronoun: False\n",
      "isNumber: False\n",
      "isTopping: False\n",
      "isQuantity: False\n",
      "Word: \"fantasy\" -> \"fantasi\" not in vocab\n",
      "isPersonalPronoun: False\n",
      "isNumber: False\n",
      "isTopping: False\n",
      "isQuantity: False\n",
      "Word: \"wan\" -> \"wan\" not in vocab\n",
      "isPersonalPronoun: False\n",
      "isNumber: False\n",
      "isTopping: False\n",
      "isQuantity: False\n"
     ]
    },
    {
     "name": "stderr",
     "output_type": "stream",
     "text": [
      "writing results:  36%|███▌      | 1443/4000 [02:30<02:49, 15.05it/s]"
     ]
    },
    {
     "name": "stdout",
     "output_type": "stream",
     "text": [
      "Word: \"heavy\" -> \"heavi\" not in vocab\n",
      "isPersonalPronoun: False\n",
      "isNumber: False\n",
      "isTopping: False\n",
      "isQuantity: False\n",
      "Word: \"heavy\" -> \"heavi\" not in vocab\n",
      "isPersonalPronoun: False\n",
      "isNumber: False\n",
      "isTopping: False\n",
      "isQuantity: False\n",
      "Word: \"kimchi\" -> \"kimchi\" not in vocab\n",
      "isPersonalPronoun: False\n",
      "isNumber: False\n",
      "isTopping: False\n",
      "isQuantity: False\n",
      "Word: \"kimchi\" -> \"kimchi\" not in vocab\n",
      "isPersonalPronoun: False\n",
      "isNumber: False\n",
      "isTopping: False\n",
      "isQuantity: False\n"
     ]
    },
    {
     "name": "stderr",
     "output_type": "stream",
     "text": [
      "writing results:  36%|███▌      | 1446/4000 [02:30<02:30, 17.02it/s]"
     ]
    },
    {
     "name": "stdout",
     "output_type": "stream",
     "text": [
      "Word: \"mint\" -> \"mint\" not in vocab\n",
      "isPersonalPronoun: False\n",
      "isNumber: False\n",
      "isTopping: False\n",
      "isQuantity: False\n",
      "Word: \"hummus\" -> \"hummu\" not in vocab\n",
      "isPersonalPronoun: False\n",
      "isNumber: False\n",
      "isTopping: False\n",
      "isQuantity: False\n",
      "Word: \"hummus\" -> \"hummu\" not in vocab\n",
      "isPersonalPronoun: False\n",
      "isNumber: False\n",
      "isTopping: False\n",
      "isQuantity: False\n",
      "Word: \"hummus\" -> \"hummu\" not in vocab\n",
      "isPersonalPronoun: False\n",
      "isNumber: False\n",
      "isTopping: False\n",
      "isQuantity: False\n",
      "Word: \"cabbage\" -> \"cabbag\" not in vocab\n",
      "isPersonalPronoun: False\n",
      "isNumber: False\n",
      "isTopping: False\n",
      "isQuantity: False\n",
      "Word: \"cabbage\" -> \"cabbag\" not in vocab\n",
      "isPersonalPronoun: False\n",
      "isNumber: False\n",
      "isTopping: False\n",
      "isQuantity: False\n"
     ]
    },
    {
     "name": "stderr",
     "output_type": "stream",
     "text": [
      "writing results:  36%|███▌      | 1449/4000 [02:31<03:00, 14.13it/s]"
     ]
    },
    {
     "name": "stdout",
     "output_type": "stream",
     "text": [
      "Word: \"handle\" -> \"handl\" not in vocab\n",
      "isPersonalPronoun: False\n",
      "isNumber: False\n",
      "isTopping: False\n",
      "isQuantity: False\n",
      "Word: \"sweet\" -> \"sweet\" not in vocab\n",
      "isPersonalPronoun: False\n",
      "isNumber: False\n",
      "isTopping: False\n",
      "isQuantity: False\n"
     ]
    },
    {
     "name": "stderr",
     "output_type": "stream",
     "text": [
      "writing results:  36%|███▋      | 1455/4000 [02:31<02:40, 15.81it/s]"
     ]
    },
    {
     "name": "stdout",
     "output_type": "stream",
     "text": [
      "Word: \"sweet\" -> \"sweet\" not in vocab\n",
      "isPersonalPronoun: False\n",
      "isNumber: False\n",
      "isTopping: False\n",
      "isQuantity: False\n",
      "Word: \"hummus\" -> \"hummu\" not in vocab\n",
      "isPersonalPronoun: False\n",
      "isNumber: False\n",
      "isTopping: False\n",
      "isQuantity: False\n",
      "Word: \"hummus\" -> \"hummu\" not in vocab\n",
      "isPersonalPronoun: False\n",
      "isNumber: False\n",
      "isTopping: False\n",
      "isQuantity: False\n"
     ]
    },
    {
     "name": "stderr",
     "output_type": "stream",
     "text": [
      "writing results:  36%|███▋      | 1457/4000 [02:31<02:50, 14.88it/s]"
     ]
    },
    {
     "name": "stdout",
     "output_type": "stream",
     "text": [
      "Word: \"i've\" -> \"i'v\" not in vocab\n",
      "isPersonalPronoun: False\n",
      "isNumber: False\n",
      "isTopping: False\n",
      "isQuantity: False\n",
      "Word: \"decided\" -> \"decid\" not in vocab\n",
      "isPersonalPronoun: False\n",
      "isNumber: False\n",
      "isTopping: False\n",
      "isQuantity: False\n",
      "Word: \"mate\" -> \"mate\" not in vocab\n",
      "isPersonalPronoun: False\n",
      "isNumber: False\n",
      "isTopping: False\n",
      "isQuantity: False\n",
      "Word: \"flavor\" -> \"flavor\" not in vocab\n",
      "isPersonalPronoun: False\n",
      "isNumber: False\n",
      "isTopping: False\n",
      "isQuantity: False\n"
     ]
    },
    {
     "name": "stderr",
     "output_type": "stream",
     "text": [
      "writing results:  36%|███▋      | 1460/4000 [02:32<04:43,  8.96it/s]"
     ]
    },
    {
     "name": "stdout",
     "output_type": "stream",
     "text": [
      "Word: \"mate\" -> \"mate\" not in vocab\n",
      "isPersonalPronoun: False\n",
      "isNumber: False\n",
      "isTopping: False\n",
      "isQuantity: False\n",
      "Word: \"flavor\" -> \"flavor\" not in vocab\n",
      "isPersonalPronoun: False\n",
      "isNumber: False\n",
      "isTopping: False\n",
      "isQuantity: False\n",
      "Word: \"order for\" -> \"order for\" not in vocab\n",
      "isPersonalPronoun: False\n",
      "isNumber: False\n",
      "isTopping: False\n",
      "isQuantity: False\n",
      "Word: \"sauted\" -> \"saut\" not in vocab\n",
      "isPersonalPronoun: False\n",
      "isNumber: False\n",
      "isTopping: False\n",
      "isQuantity: False\n",
      "Word: \"sauted\" -> \"saut\" not in vocab\n",
      "isPersonalPronoun: False\n",
      "isNumber: False\n",
      "isTopping: False\n",
      "isQuantity: False\n"
     ]
    },
    {
     "name": "stderr",
     "output_type": "stream",
     "text": [
      "writing results:  37%|███▋      | 1466/4000 [02:32<03:51, 10.96it/s]"
     ]
    },
    {
     "name": "stdout",
     "output_type": "stream",
     "text": [
      "Word: \"sauted\" -> \"saut\" not in vocab\n",
      "isPersonalPronoun: False\n",
      "isNumber: False\n",
      "isTopping: False\n",
      "isQuantity: False\n",
      "Word: \"sauted\" -> \"saut\" not in vocab\n",
      "isPersonalPronoun: False\n",
      "isNumber: False\n",
      "isTopping: False\n",
      "isQuantity: False\n",
      "Word: \"cabbage\" -> \"cabbag\" not in vocab\n",
      "isPersonalPronoun: False\n",
      "isNumber: False\n",
      "isTopping: False\n",
      "isQuantity: False\n",
      "Word: \"cabbage\" -> \"cabbag\" not in vocab\n",
      "isPersonalPronoun: False\n",
      "isNumber: False\n",
      "isTopping: False\n",
      "isQuantity: False\n"
     ]
    },
    {
     "name": "stderr",
     "output_type": "stream",
     "text": [
      "writing results:  37%|███▋      | 1468/4000 [02:32<03:33, 11.89it/s]"
     ]
    },
    {
     "name": "stdout",
     "output_type": "stream",
     "text": [
      "Word: \"pt\" -> \"pt\" not in vocab\n",
      "isPersonalPronoun: False\n",
      "isNumber: False\n",
      "isTopping: False\n",
      "isQuantity: False\n",
      "Word: \"sauted\" -> \"saut\" not in vocab\n",
      "isPersonalPronoun: False\n",
      "isNumber: False\n",
      "isTopping: False\n",
      "isQuantity: False\n",
      "Word: \"sauted\" -> \"saut\" not in vocab\n",
      "isPersonalPronoun: False\n",
      "isNumber: False\n",
      "isTopping: False\n",
      "isQuantity: False\n"
     ]
    },
    {
     "name": "stderr",
     "output_type": "stream",
     "text": [
      "writing results:  37%|███▋      | 1471/4000 [02:33<03:13, 13.09it/s]"
     ]
    },
    {
     "name": "stdout",
     "output_type": "stream",
     "text": [
      "Word: \"sauted\" -> \"saut\" not in vocab\n",
      "isPersonalPronoun: False\n",
      "isNumber: False\n",
      "isTopping: False\n",
      "isQuantity: False\n"
     ]
    },
    {
     "name": "stderr",
     "output_type": "stream",
     "text": [
      "writing results:  37%|███▋      | 1473/4000 [02:33<04:30,  9.33it/s]"
     ]
    },
    {
     "name": "stdout",
     "output_type": "stream",
     "text": [
      "Word: \"arrange\" -> \"arrang\" not in vocab\n",
      "isPersonalPronoun: False\n",
      "isNumber: False\n",
      "isTopping: False\n",
      "isQuantity: False\n",
      "Word: \"sweet\" -> \"sweet\" not in vocab\n",
      "isPersonalPronoun: False\n",
      "isNumber: False\n",
      "isTopping: False\n",
      "isQuantity: False\n",
      "Word: \"sweet\" -> \"sweet\" not in vocab\n",
      "isPersonalPronoun: False\n",
      "isNumber: False\n",
      "isTopping: False\n",
      "isQuantity: False\n",
      "Word: \"banana peppers\" -> \"banana pepp\" not in vocab\n",
      "isPersonalPronoun: False\n",
      "isNumber: False\n",
      "isTopping: False\n",
      "isQuantity: False\n",
      "Word: \"hummus\" -> \"hummu\" not in vocab\n",
      "isPersonalPronoun: False\n",
      "isNumber: False\n",
      "isTopping: False\n",
      "isQuantity: False\n"
     ]
    },
    {
     "name": "stderr",
     "output_type": "stream",
     "text": [
      "writing results:  37%|███▋      | 1477/4000 [02:33<03:40, 11.45it/s]"
     ]
    },
    {
     "name": "stdout",
     "output_type": "stream",
     "text": [
      "Word: \"hummus\" -> \"hummu\" not in vocab\n",
      "isPersonalPronoun: False\n",
      "isNumber: False\n",
      "isTopping: False\n",
      "isQuantity: False\n",
      "Word: \"opt\" -> \"opt\" not in vocab\n",
      "isPersonalPronoun: False\n",
      "isNumber: False\n",
      "isTopping: False\n",
      "isQuantity: False\n",
      "Word: \"Parisian\" -> \"parisian\" not in vocab\n",
      "isPersonalPronoun: False\n",
      "isNumber: False\n",
      "isTopping: False\n",
      "isQuantity: False\n"
     ]
    },
    {
     "name": "stderr",
     "output_type": "stream",
     "text": [
      "writing results:  37%|███▋      | 1482/4000 [02:33<02:54, 14.42it/s]"
     ]
    },
    {
     "name": "stdout",
     "output_type": "stream",
     "text": [
      "Word: \"grabbing\" -> \"grab\" not in vocab\n",
      "isPersonalPronoun: False\n",
      "isNumber: False\n",
      "isTopping: False\n",
      "isQuantity: False\n",
      "Word: \"blue\" -> \"blue\" not in vocab\n",
      "isPersonalPronoun: False\n",
      "isNumber: False\n",
      "isTopping: False\n",
      "isQuantity: False\n",
      "Word: \"blue\" -> \"blue\" not in vocab\n",
      "isPersonalPronoun: False\n",
      "isNumber: False\n",
      "isTopping: False\n",
      "isQuantity: False\n",
      "Word: \"zest\" -> \"zest\" not in vocab\n",
      "isPersonalPronoun: False\n",
      "isNumber: False\n",
      "isTopping: False\n",
      "isQuantity: False\n",
      "Word: \"zest\" -> \"zest\" not in vocab\n",
      "isPersonalPronoun: False\n",
      "isNumber: False\n",
      "isTopping: False\n",
      "isQuantity: False\n",
      "Word: \"lie\" -> \"lie\" not in vocab\n",
      "isPersonalPronoun: False\n",
      "isNumber: False\n",
      "isTopping: False\n",
      "isQuantity: False\n"
     ]
    },
    {
     "name": "stderr",
     "output_type": "stream",
     "text": [
      "writing results:  37%|███▋      | 1484/4000 [02:34<02:42, 15.50it/s]"
     ]
    },
    {
     "name": "stdout",
     "output_type": "stream",
     "text": [
      "Word: \"footing\" -> \"foot\" not in vocab\n",
      "isPersonalPronoun: False\n",
      "isNumber: False\n",
      "isTopping: False\n",
      "isQuantity: True\n",
      "Word: \"chard\" -> \"chard\" not in vocab\n",
      "isPersonalPronoun: False\n",
      "isNumber: False\n",
      "isTopping: False\n",
      "isQuantity: False\n"
     ]
    },
    {
     "name": "stderr",
     "output_type": "stream",
     "text": [
      "writing results:  37%|███▋      | 1488/4000 [02:34<05:05,  8.22it/s]"
     ]
    },
    {
     "name": "stdout",
     "output_type": "stream",
     "text": [
      "Word: \"footing\" -> \"foot\" not in vocab\n",
      "isPersonalPronoun: False\n",
      "isNumber: False\n",
      "isTopping: False\n",
      "isQuantity: True\n",
      "Word: \"chard\" -> \"chard\" not in vocab\n",
      "isPersonalPronoun: False\n",
      "isNumber: False\n",
      "isTopping: False\n",
      "isQuantity: False\n",
      "Word: \"ave\" -> \"ave\" not in vocab\n",
      "isPersonalPronoun: False\n",
      "isNumber: False\n",
      "isTopping: False\n",
      "isQuantity: False\n",
      "Word: \"mushy\" -> \"mushi\" not in vocab\n",
      "isPersonalPronoun: False\n",
      "isNumber: False\n",
      "isTopping: False\n",
      "isQuantity: False\n",
      "Word: \"mushy\" -> \"mushi\" not in vocab\n",
      "isPersonalPronoun: False\n",
      "isNumber: False\n",
      "isTopping: False\n",
      "isQuantity: False\n",
      "Word: \"peso\" -> \"peso\" not in vocab\n",
      "isPersonalPronoun: False\n",
      "isNumber: False\n",
      "isTopping: False\n",
      "isQuantity: False\n"
     ]
    },
    {
     "name": "stderr",
     "output_type": "stream",
     "text": [
      "writing results:  37%|███▋      | 1493/4000 [02:35<03:52, 10.79it/s]"
     ]
    },
    {
     "name": "stdout",
     "output_type": "stream",
     "text": [
      "Word: \"jalapeños\" -> \"jalapeño\" not in vocab\n",
      "isPersonalPronoun: False\n",
      "isNumber: False\n",
      "isTopping: False\n",
      "isQuantity: False\n",
      "Word: \"jalapeños\" -> \"jalapeño\" not in vocab\n",
      "isPersonalPronoun: False\n",
      "isNumber: False\n",
      "isTopping: False\n",
      "isQuantity: False\n",
      "Word: \"duck\" -> \"duck\" not in vocab\n",
      "isPersonalPronoun: False\n",
      "isNumber: False\n",
      "isTopping: False\n",
      "isQuantity: False\n",
      "Word: \"duck\" -> \"duck\" not in vocab\n",
      "isPersonalPronoun: False\n",
      "isNumber: False\n",
      "isTopping: False\n",
      "isQuantity: False\n",
      "Word: \"to finalize\" -> \"to fin\" not in vocab\n",
      "isPersonalPronoun: False\n",
      "isNumber: False\n",
      "isTopping: False\n",
      "isQuantity: False\n",
      "Word: \"cabbage\" -> \"cabbag\" not in vocab\n",
      "isPersonalPronoun: False\n",
      "isNumber: False\n",
      "isTopping: False\n",
      "isQuantity: False\n",
      "Word: \"sweet\" -> \"sweet\" not in vocab\n",
      "isPersonalPronoun: False\n",
      "isNumber: False\n",
      "isTopping: False\n",
      "isQuantity: False\n",
      "Word: \"poppy\" -> \"poppi\" not in vocab\n",
      "isPersonalPronoun: False\n",
      "isNumber: False\n",
      "isTopping: False\n",
      "isQuantity: False\n",
      "Word: \"seeds\" -> \"seed\" not in vocab\n",
      "isPersonalPronoun: False\n",
      "isNumber: False\n",
      "isTopping: False\n",
      "isQuantity: False\n",
      "Word: \"cabbage\" -> \"cabbag\" not in vocab\n",
      "isPersonalPronoun: False\n",
      "isNumber: False\n",
      "isTopping: False\n",
      "isQuantity: False\n",
      "Word: \"sweet\" -> \"sweet\" not in vocab\n",
      "isPersonalPronoun: False\n",
      "isNumber: False\n",
      "isTopping: False\n",
      "isQuantity: False\n"
     ]
    },
    {
     "name": "stderr",
     "output_type": "stream",
     "text": [
      "writing results:  37%|███▋      | 1498/4000 [02:35<03:43, 11.18it/s]"
     ]
    },
    {
     "name": "stdout",
     "output_type": "stream",
     "text": [
      "Word: \"allow\" -> \"allow\" not in vocab\n",
      "isPersonalPronoun: False\n",
      "isNumber: False\n",
      "isTopping: False\n",
      "isQuantity: False\n",
      "Word: \"smoked\" -> \"smoke\" not in vocab\n",
      "isPersonalPronoun: False\n",
      "isNumber: False\n",
      "isTopping: False\n",
      "isQuantity: False\n",
      "Word: \"salmon\" -> \"salmon\" not in vocab\n",
      "isPersonalPronoun: False\n",
      "isNumber: False\n",
      "isTopping: False\n",
      "isQuantity: False\n",
      "Word: \"smoked\" -> \"smoke\" not in vocab\n",
      "isPersonalPronoun: False\n",
      "isNumber: False\n",
      "isTopping: False\n",
      "isQuantity: False\n",
      "Word: \"salmon\" -> \"salmon\" not in vocab\n",
      "isPersonalPronoun: False\n",
      "isNumber: False\n",
      "isTopping: False\n",
      "isQuantity: False\n"
     ]
    },
    {
     "name": "stderr",
     "output_type": "stream",
     "text": [
      "writing results:  38%|███▊      | 1502/4000 [02:35<03:16, 12.73it/s]"
     ]
    },
    {
     "name": "stdout",
     "output_type": "stream",
     "text": [
      "Word: \"gruyeres\" -> \"gruyer\" not in vocab\n",
      "isPersonalPronoun: False\n",
      "isNumber: False\n",
      "isTopping: False\n",
      "isQuantity: False\n",
      "Word: \"gruyeres\" -> \"gruyer\" not in vocab\n",
      "isPersonalPronoun: False\n",
      "isNumber: False\n",
      "isTopping: False\n",
      "isQuantity: False\n",
      "Word: \"opt\" -> \"opt\" not in vocab\n",
      "isPersonalPronoun: False\n",
      "isNumber: False\n",
      "isTopping: False\n",
      "isQuantity: False\n",
      "Word: \"blue\" -> \"blue\" not in vocab\n",
      "isPersonalPronoun: False\n",
      "isNumber: False\n",
      "isTopping: False\n",
      "isQuantity: False\n"
     ]
    },
    {
     "name": "stderr",
     "output_type": "stream",
     "text": [
      "writing results:  38%|███▊      | 1507/4000 [02:36<02:36, 15.89it/s]"
     ]
    },
    {
     "name": "stdout",
     "output_type": "stream",
     "text": [
      "Word: \"blue\" -> \"blue\" not in vocab\n",
      "isPersonalPronoun: False\n",
      "isNumber: False\n",
      "isTopping: False\n",
      "isQuantity: False\n",
      "Word: \"settle\" -> \"settl\" not in vocab\n",
      "isPersonalPronoun: False\n",
      "isNumber: False\n",
      "isTopping: False\n",
      "isQuantity: False\n",
      "Word: \"duck\" -> \"duck\" not in vocab\n",
      "isPersonalPronoun: False\n",
      "isNumber: False\n",
      "isTopping: False\n",
      "isQuantity: False\n"
     ]
    },
    {
     "name": "stderr",
     "output_type": "stream",
     "text": [
      "writing results:  38%|███▊      | 1509/4000 [02:36<03:31, 11.80it/s]"
     ]
    },
    {
     "name": "stdout",
     "output_type": "stream",
     "text": [
      "Word: \"mint\" -> \"mint\" not in vocab\n",
      "isPersonalPronoun: False\n",
      "isNumber: False\n",
      "isTopping: False\n",
      "isQuantity: False\n",
      "Word: \"gruyeres\" -> \"gruyer\" not in vocab\n",
      "isPersonalPronoun: False\n",
      "isNumber: False\n",
      "isTopping: False\n",
      "isQuantity: False\n",
      "Word: \"mint\" -> \"mint\" not in vocab\n",
      "isPersonalPronoun: False\n",
      "isNumber: False\n",
      "isTopping: False\n",
      "isQuantity: False\n",
      "Word: \"gruyeres\" -> \"gruyer\" not in vocab\n",
      "isPersonalPronoun: False\n",
      "isNumber: False\n",
      "isTopping: False\n",
      "isQuantity: False\n"
     ]
    },
    {
     "name": "stderr",
     "output_type": "stream",
     "text": [
      "writing results:  38%|███▊      | 1512/4000 [02:36<03:06, 13.33it/s]"
     ]
    },
    {
     "name": "stdout",
     "output_type": "stream",
     "text": [
      "Word: \"smoked\" -> \"smoke\" not in vocab\n",
      "isPersonalPronoun: False\n",
      "isNumber: False\n",
      "isTopping: False\n",
      "isQuantity: False\n",
      "Word: \"salmon\" -> \"salmon\" not in vocab\n",
      "isPersonalPronoun: False\n",
      "isNumber: False\n",
      "isTopping: False\n",
      "isQuantity: False\n",
      "Word: \"smoked\" -> \"smoke\" not in vocab\n",
      "isPersonalPronoun: False\n",
      "isNumber: False\n",
      "isTopping: False\n",
      "isQuantity: False\n",
      "Word: \"salmon\" -> \"salmon\" not in vocab\n",
      "isPersonalPronoun: False\n",
      "isNumber: False\n",
      "isTopping: False\n",
      "isQuantity: False\n",
      "Word: \"duck\" -> \"duck\" not in vocab\n",
      "isPersonalPronoun: False\n",
      "isNumber: False\n",
      "isTopping: False\n",
      "isQuantity: False\n"
     ]
    },
    {
     "name": "stderr",
     "output_type": "stream",
     "text": [
      "writing results:  38%|███▊      | 1519/4000 [02:36<02:13, 18.61it/s]"
     ]
    },
    {
     "name": "stdout",
     "output_type": "stream",
     "text": [
      "Word: \"duck\" -> \"duck\" not in vocab\n",
      "isPersonalPronoun: False\n",
      "isNumber: False\n",
      "isTopping: False\n",
      "isQuantity: False\n",
      "Word: \"zest\" -> \"zest\" not in vocab\n",
      "isPersonalPronoun: False\n",
      "isNumber: False\n",
      "isTopping: False\n",
      "isQuantity: False\n",
      "Word: \"zest\" -> \"zest\" not in vocab\n",
      "isPersonalPronoun: False\n",
      "isNumber: False\n",
      "isTopping: False\n",
      "isQuantity: False\n"
     ]
    },
    {
     "name": "stderr",
     "output_type": "stream",
     "text": [
      "writing results:  38%|███▊      | 1522/4000 [02:37<02:11, 18.84it/s]"
     ]
    },
    {
     "name": "stdout",
     "output_type": "stream",
     "text": [
      "Word: \"HAE\" -> \"hae\" not in vocab\n",
      "isPersonalPronoun: False\n",
      "isNumber: False\n",
      "isTopping: False\n",
      "isQuantity: False\n",
      "Word: \"cabbage\" -> \"cabbag\" not in vocab\n",
      "isPersonalPronoun: False\n",
      "isNumber: False\n",
      "isTopping: False\n",
      "isQuantity: False\n",
      "Word: \"cabbage\" -> \"cabbag\" not in vocab\n",
      "isPersonalPronoun: False\n",
      "isNumber: False\n",
      "isTopping: False\n",
      "isQuantity: False\n",
      "Word: \"cabbage\" -> \"cabbag\" not in vocab\n",
      "isPersonalPronoun: False\n",
      "isNumber: False\n",
      "isTopping: False\n",
      "isQuantity: False\n"
     ]
    },
    {
     "name": "stderr",
     "output_type": "stream",
     "text": [
      "writing results:  38%|███▊      | 1528/4000 [02:37<02:07, 19.37it/s]"
     ]
    },
    {
     "name": "stdout",
     "output_type": "stream",
     "text": [
      "Word: \"cabbage\" -> \"cabbag\" not in vocab\n",
      "isPersonalPronoun: False\n",
      "isNumber: False\n",
      "isTopping: False\n",
      "isQuantity: False\n",
      "Word: \"i've\" -> \"i'v\" not in vocab\n",
      "isPersonalPronoun: False\n",
      "isNumber: False\n",
      "isTopping: False\n",
      "isQuantity: False\n",
      "Word: \"decided\" -> \"decid\" not in vocab\n",
      "isPersonalPronoun: False\n",
      "isNumber: False\n",
      "isTopping: False\n",
      "isQuantity: False\n",
      "Word: \"sweet\" -> \"sweet\" not in vocab\n",
      "isPersonalPronoun: False\n",
      "isNumber: False\n",
      "isTopping: False\n",
      "isQuantity: False\n"
     ]
    },
    {
     "name": "stderr",
     "output_type": "stream",
     "text": [
      "writing results:  38%|███▊      | 1531/4000 [02:37<02:33, 16.08it/s]"
     ]
    },
    {
     "name": "stdout",
     "output_type": "stream",
     "text": [
      "Word: \"sweet\" -> \"sweet\" not in vocab\n",
      "isPersonalPronoun: False\n",
      "isNumber: False\n",
      "isTopping: False\n",
      "isQuantity: False\n",
      "Word: \"sparkling\" -> \"sparkl\" not in vocab\n",
      "isPersonalPronoun: False\n",
      "isNumber: False\n",
      "isTopping: False\n",
      "isQuantity: False\n",
      "Word: \"sparkling\" -> \"sparkl\" not in vocab\n",
      "isPersonalPronoun: False\n",
      "isNumber: False\n",
      "isTopping: False\n",
      "isQuantity: False\n"
     ]
    },
    {
     "name": "stderr",
     "output_type": "stream",
     "text": [
      "writing results:  38%|███▊      | 1534/4000 [02:37<02:39, 15.49it/s]"
     ]
    },
    {
     "name": "stdout",
     "output_type": "stream",
     "text": [
      "Word: \"sarsaparilla\" -> \"sarsaparilla\" not in vocab\n",
      "isPersonalPronoun: False\n",
      "isNumber: False\n",
      "isTopping: False\n",
      "isQuantity: False\n",
      "Word: \"sarsaparilla\" -> \"sarsaparilla\" not in vocab\n",
      "isPersonalPronoun: False\n",
      "isNumber: False\n",
      "isTopping: False\n",
      "isQuantity: False\n",
      "Word: \"chair\" -> \"chair\" not in vocab\n",
      "isPersonalPronoun: False\n",
      "isNumber: False\n",
      "isTopping: False\n",
      "isQuantity: False\n",
      "Word: \"late\" -> \"late\" not in vocab\n",
      "isPersonalPronoun: False\n",
      "isNumber: False\n",
      "isTopping: False\n",
      "isQuantity: False\n"
     ]
    },
    {
     "name": "stderr",
     "output_type": "stream",
     "text": [
      "writing results:  38%|███▊      | 1540/4000 [02:38<02:19, 17.63it/s]"
     ]
    },
    {
     "name": "stdout",
     "output_type": "stream",
     "text": [
      "Word: \"chair\" -> \"chair\" not in vocab\n",
      "isPersonalPronoun: False\n",
      "isNumber: False\n",
      "isTopping: False\n",
      "isQuantity: False\n",
      "Word: \"late\" -> \"late\" not in vocab\n",
      "isPersonalPronoun: False\n",
      "isNumber: False\n",
      "isTopping: False\n",
      "isQuantity: False\n",
      "Word: \"ow\" -> \"ow\" not in vocab\n",
      "isPersonalPronoun: False\n",
      "isNumber: False\n",
      "isTopping: False\n",
      "isQuantity: False\n",
      "Word: \"UT\" -> \"ut\" not in vocab\n",
      "isPersonalPronoun: False\n",
      "isNumber: False\n",
      "isTopping: False\n",
      "isQuantity: False\n"
     ]
    },
    {
     "name": "stderr",
     "output_type": "stream",
     "text": [
      "writing results:  39%|███▊      | 1543/4000 [02:38<02:08, 19.09it/s]"
     ]
    },
    {
     "name": "stdout",
     "output_type": "stream",
     "text": [
      "Word: \"lees\" -> \"lee\" not in vocab\n",
      "isPersonalPronoun: False\n",
      "isNumber: False\n",
      "isTopping: False\n",
      "isQuantity: False\n",
      "Word: \"lees\" -> \"lee\" not in vocab\n",
      "isPersonalPronoun: False\n",
      "isNumber: False\n",
      "isTopping: False\n",
      "isQuantity: False\n",
      "Word: \"arrange\" -> \"arrang\" not in vocab\n",
      "isPersonalPronoun: False\n",
      "isNumber: False\n",
      "isTopping: False\n",
      "isQuantity: False\n",
      "Word: \"seen\" -> \"seen\" not in vocab\n",
      "isPersonalPronoun: False\n",
      "isNumber: False\n",
      "isTopping: False\n",
      "isQuantity: False\n"
     ]
    },
    {
     "name": "stderr",
     "output_type": "stream",
     "text": [
      "writing results:  39%|███▊      | 1546/4000 [02:38<02:22, 17.24it/s]"
     ]
    },
    {
     "name": "stdout",
     "output_type": "stream",
     "text": [
      "Word: \"seen\" -> \"seen\" not in vocab\n",
      "isPersonalPronoun: False\n",
      "isNumber: False\n",
      "isTopping: False\n",
      "isQuantity: False\n",
      "Word: \"footing\" -> \"foot\" not in vocab\n",
      "isPersonalPronoun: False\n",
      "isNumber: False\n",
      "isTopping: False\n",
      "isQuantity: True\n"
     ]
    },
    {
     "name": "stderr",
     "output_type": "stream",
     "text": [
      "writing results:  39%|███▉      | 1550/4000 [02:39<04:22,  9.35it/s]"
     ]
    },
    {
     "name": "stdout",
     "output_type": "stream",
     "text": [
      "Word: \"footing\" -> \"foot\" not in vocab\n",
      "isPersonalPronoun: False\n",
      "isNumber: False\n",
      "isTopping: False\n",
      "isQuantity: True\n",
      "Word: \"head\" -> \"head\" not in vocab\n",
      "isPersonalPronoun: False\n",
      "isNumber: False\n",
      "isTopping: False\n",
      "isQuantity: False\n",
      "Word: \"head\" -> \"head\" not in vocab\n",
      "isPersonalPronoun: False\n",
      "isNumber: False\n",
      "isTopping: False\n",
      "isQuantity: False\n"
     ]
    },
    {
     "name": "stderr",
     "output_type": "stream",
     "text": [
      "writing results:  39%|███▉      | 1552/4000 [02:39<04:29,  9.10it/s]"
     ]
    },
    {
     "name": "stdout",
     "output_type": "stream",
     "text": [
      "Word: \"craving\" -> \"crave\" not in vocab\n",
      "isPersonalPronoun: False\n",
      "isNumber: False\n",
      "isTopping: False\n",
      "isQuantity: False\n",
      "Word: \"bel\" -> \"bel\" not in vocab\n",
      "isPersonalPronoun: False\n",
      "isNumber: False\n",
      "isTopping: False\n",
      "isQuantity: False\n",
      "Word: \"espresso\" -> \"espresso\" not in vocab\n",
      "isPersonalPronoun: False\n",
      "isNumber: False\n",
      "isTopping: False\n",
      "isQuantity: False\n",
      "Word: \"bel\" -> \"bel\" not in vocab\n",
      "isPersonalPronoun: False\n",
      "isNumber: False\n",
      "isTopping: False\n",
      "isQuantity: False\n",
      "Word: \"espresso\" -> \"espresso\" not in vocab\n",
      "isPersonalPronoun: False\n",
      "isNumber: False\n",
      "isTopping: False\n",
      "isQuantity: False\n",
      "Word: \"mint\" -> \"mint\" not in vocab\n",
      "isPersonalPronoun: False\n",
      "isNumber: False\n",
      "isTopping: False\n",
      "isQuantity: False\n",
      "Word: \"mint\" -> \"mint\" not in vocab\n",
      "isPersonalPronoun: False\n",
      "isNumber: False\n",
      "isTopping: False\n",
      "isQuantity: False\n",
      "Word: \"smoked\" -> \"smoke\" not in vocab\n",
      "isPersonalPronoun: False\n",
      "isNumber: False\n",
      "isTopping: False\n",
      "isQuantity: False\n",
      "Word: \"salmon\" -> \"salmon\" not in vocab\n",
      "isPersonalPronoun: False\n",
      "isNumber: False\n",
      "isTopping: False\n",
      "isQuantity: False\n",
      "Word: \"smoked\" -> \"smoke\" not in vocab\n",
      "isPersonalPronoun: False\n",
      "isNumber: False\n",
      "isTopping: False\n",
      "isQuantity: False\n",
      "Word: \"salmon\" -> \"salmon\" not in vocab\n",
      "isPersonalPronoun: False\n",
      "isNumber: False\n",
      "isTopping: False\n",
      "isQuantity: False\n",
      "Word: \"choice\" -> \"choic\" not in vocab\n",
      "isPersonalPronoun: False\n",
      "isNumber: False\n",
      "isTopping: False\n",
      "isQuantity: False\n",
      "Word: \"chard\" -> \"chard\" not in vocab\n",
      "isPersonalPronoun: False\n",
      "isNumber: False\n",
      "isTopping: False\n",
      "isQuantity: False\n"
     ]
    },
    {
     "name": "stderr",
     "output_type": "stream",
     "text": [
      "writing results:  39%|███▉      | 1556/4000 [02:40<04:41,  8.68it/s]"
     ]
    },
    {
     "name": "stdout",
     "output_type": "stream",
     "text": [
      "Word: \"chard\" -> \"chard\" not in vocab\n",
      "isPersonalPronoun: False\n",
      "isNumber: False\n",
      "isTopping: False\n",
      "isQuantity: False\n",
      "Word: \"interested\" -> \"interest\" not in vocab\n",
      "isPersonalPronoun: False\n",
      "isNumber: False\n",
      "isTopping: False\n",
      "isQuantity: False\n",
      "Word: \"chair\" -> \"chair\" not in vocab\n",
      "isPersonalPronoun: False\n",
      "isNumber: False\n",
      "isTopping: False\n",
      "isQuantity: False\n",
      "Word: \"latte\" -> \"latt\" not in vocab\n",
      "isPersonalPronoun: False\n",
      "isNumber: False\n",
      "isTopping: False\n",
      "isQuantity: False\n",
      "Word: \"chair\" -> \"chair\" not in vocab\n",
      "isPersonalPronoun: False\n",
      "isNumber: False\n",
      "isTopping: False\n",
      "isQuantity: False\n",
      "Word: \"latte\" -> \"latt\" not in vocab\n",
      "isPersonalPronoun: False\n",
      "isNumber: False\n",
      "isTopping: False\n",
      "isQuantity: False\n"
     ]
    },
    {
     "name": "stderr",
     "output_type": "stream",
     "text": [
      "writing results:  39%|███▉      | 1565/4000 [02:40<02:17, 17.74it/s]"
     ]
    },
    {
     "name": "stdout",
     "output_type": "stream",
     "text": [
      "Word: \"craving\" -> \"crave\" not in vocab\n",
      "isPersonalPronoun: False\n",
      "isNumber: False\n",
      "isTopping: False\n",
      "isQuantity: False\n",
      "Word: \"arrange\" -> \"arrang\" not in vocab\n",
      "isPersonalPronoun: False\n",
      "isNumber: False\n",
      "isTopping: False\n",
      "isQuantity: False\n"
     ]
    },
    {
     "name": "stderr",
     "output_type": "stream",
     "text": [
      "writing results:  39%|███▉      | 1568/4000 [02:40<02:32, 15.90it/s]"
     ]
    },
    {
     "name": "stdout",
     "output_type": "stream",
     "text": [
      "Word: \"leaning\" -> \"lean\" not in vocab\n",
      "isPersonalPronoun: False\n",
      "isNumber: False\n",
      "isTopping: False\n",
      "isQuantity: False\n",
      "Word: \"toward\" -> \"toward\" not in vocab\n",
      "isPersonalPronoun: False\n",
      "isNumber: False\n",
      "isTopping: False\n",
      "isQuantity: False\n",
      "Word: \"going to\" -> \"going to\" not in vocab\n",
      "isPersonalPronoun: False\n",
      "isNumber: False\n",
      "isTopping: False\n",
      "isQuantity: False\n",
      "Word: \"kimchi\" -> \"kimchi\" not in vocab\n",
      "isPersonalPronoun: False\n",
      "isNumber: False\n",
      "isTopping: False\n",
      "isQuantity: False\n",
      "Word: \"kimchi\" -> \"kimchi\" not in vocab\n",
      "isPersonalPronoun: False\n",
      "isNumber: False\n",
      "isTopping: False\n",
      "isQuantity: False\n",
      "Word: \"mushy\" -> \"mushi\" not in vocab\n",
      "isPersonalPronoun: False\n",
      "isNumber: False\n",
      "isTopping: False\n",
      "isQuantity: False\n"
     ]
    },
    {
     "name": "stderr",
     "output_type": "stream",
     "text": [
      "writing results:  39%|███▉      | 1571/4000 [02:40<02:15, 17.89it/s]"
     ]
    },
    {
     "name": "stdout",
     "output_type": "stream",
     "text": [
      "Word: \"mushy\" -> \"mushi\" not in vocab\n",
      "isPersonalPronoun: False\n",
      "isNumber: False\n",
      "isTopping: False\n",
      "isQuantity: False\n",
      "Word: \"extralarge\" -> \"extralarg\" not in vocab\n",
      "isPersonalPronoun: False\n",
      "isNumber: False\n",
      "isTopping: False\n",
      "isQuantity: False\n"
     ]
    },
    {
     "name": "stderr",
     "output_type": "stream",
     "text": [
      "writing results:  39%|███▉      | 1574/4000 [02:41<06:16,  6.45it/s]"
     ]
    },
    {
     "name": "stdout",
     "output_type": "stream",
     "text": [
      "Word: \"extralarge\" -> \"extralarg\" not in vocab\n",
      "isPersonalPronoun: False\n",
      "isNumber: False\n",
      "isTopping: False\n",
      "isQuantity: False\n",
      "Word: \"cabbage\" -> \"cabbag\" not in vocab\n",
      "isPersonalPronoun: False\n",
      "isNumber: False\n",
      "isTopping: False\n",
      "isQuantity: False\n",
      "Word: \"lamb\" -> \"lamb\" not in vocab\n",
      "isPersonalPronoun: False\n",
      "isNumber: False\n",
      "isTopping: False\n",
      "isQuantity: False\n",
      "Word: \"goat\" -> \"goat\" not in vocab\n",
      "isPersonalPronoun: False\n",
      "isNumber: False\n",
      "isTopping: False\n",
      "isQuantity: False\n"
     ]
    },
    {
     "name": "stderr",
     "output_type": "stream",
     "text": [
      "writing results:  40%|███▉      | 1580/4000 [02:42<03:58, 10.16it/s]"
     ]
    },
    {
     "name": "stdout",
     "output_type": "stream",
     "text": [
      "Word: \"lamb\" -> \"lamb\" not in vocab\n",
      "isPersonalPronoun: False\n",
      "isNumber: False\n",
      "isTopping: False\n",
      "isQuantity: False\n",
      "Word: \"goat\" -> \"goat\" not in vocab\n",
      "isPersonalPronoun: False\n",
      "isNumber: False\n",
      "isTopping: False\n",
      "isQuantity: False\n",
      "Word: \"chocolate\" -> \"chocol\" not in vocab\n",
      "isPersonalPronoun: False\n",
      "isNumber: False\n",
      "isTopping: False\n",
      "isQuantity: False\n",
      "Word: \"chocolate\" -> \"chocol\" not in vocab\n",
      "isPersonalPronoun: False\n",
      "isNumber: False\n",
      "isTopping: False\n",
      "isQuantity: False\n"
     ]
    },
    {
     "name": "stderr",
     "output_type": "stream",
     "text": [
      "writing results:  40%|███▉      | 1583/4000 [02:43<06:44,  5.97it/s]"
     ]
    },
    {
     "name": "stdout",
     "output_type": "stream",
     "text": [
      "Word: \"zest\" -> \"zest\" not in vocab\n",
      "isPersonalPronoun: False\n",
      "isNumber: False\n",
      "isTopping: False\n",
      "isQuantity: False\n",
      "Word: \"zest\" -> \"zest\" not in vocab\n",
      "isPersonalPronoun: False\n",
      "isNumber: False\n",
      "isTopping: False\n",
      "isQuantity: False\n",
      "Word: \"duck\" -> \"duck\" not in vocab\n",
      "isPersonalPronoun: False\n",
      "isNumber: False\n",
      "isTopping: False\n",
      "isQuantity: False\n",
      "Word: \"prawns\" -> \"prawn\" not in vocab\n",
      "isPersonalPronoun: False\n",
      "isNumber: False\n",
      "isTopping: False\n",
      "isQuantity: False\n",
      "Word: \"duck\" -> \"duck\" not in vocab\n",
      "isPersonalPronoun: False\n",
      "isNumber: False\n",
      "isTopping: False\n",
      "isQuantity: False\n"
     ]
    },
    {
     "name": "stderr",
     "output_type": "stream",
     "text": [
      "writing results:  40%|███▉      | 1586/4000 [02:43<05:31,  7.29it/s]"
     ]
    },
    {
     "name": "stdout",
     "output_type": "stream",
     "text": [
      "Word: \"sweet\" -> \"sweet\" not in vocab\n",
      "isPersonalPronoun: False\n",
      "isNumber: False\n",
      "isTopping: False\n",
      "isQuantity: False\n",
      "Word: \"sweet\" -> \"sweet\" not in vocab\n",
      "isPersonalPronoun: False\n",
      "isNumber: False\n",
      "isTopping: False\n",
      "isQuantity: False\n",
      "Word: \"cider\" -> \"cider\" not in vocab\n",
      "isPersonalPronoun: False\n",
      "isNumber: False\n",
      "isTopping: False\n",
      "isQuantity: False\n",
      "Word: \"herbal\" -> \"herbal\" not in vocab\n",
      "isPersonalPronoun: False\n",
      "isNumber: False\n",
      "isTopping: False\n",
      "isQuantity: False\n"
     ]
    },
    {
     "name": "stderr",
     "output_type": "stream",
     "text": [
      "writing results:  40%|███▉      | 1590/4000 [02:43<04:18,  9.33it/s]"
     ]
    },
    {
     "name": "stdout",
     "output_type": "stream",
     "text": [
      "Word: \"herbal\" -> \"herbal\" not in vocab\n",
      "isPersonalPronoun: False\n",
      "isNumber: False\n",
      "isTopping: False\n",
      "isQuantity: False\n",
      "Word: \"mats\" -> \"mat\" not in vocab\n",
      "isPersonalPronoun: False\n",
      "isNumber: False\n",
      "isTopping: False\n",
      "isQuantity: False\n",
      "Word: \"mats\" -> \"mat\" not in vocab\n",
      "isPersonalPronoun: False\n",
      "isNumber: False\n",
      "isTopping: False\n",
      "isQuantity: False\n",
      "Word: \"lamb\" -> \"lamb\" not in vocab\n",
      "isPersonalPronoun: False\n",
      "isNumber: False\n",
      "isTopping: False\n",
      "isQuantity: False\n",
      "Word: \"lamb\" -> \"lamb\" not in vocab\n",
      "isPersonalPronoun: False\n",
      "isNumber: False\n",
      "isTopping: False\n",
      "isQuantity: False\n"
     ]
    },
    {
     "name": "stderr",
     "output_type": "stream",
     "text": [
      "writing results:  40%|███▉      | 1595/4000 [02:43<03:32, 11.31it/s]"
     ]
    },
    {
     "name": "stdout",
     "output_type": "stream",
     "text": [
      "Word: \"lamb\" -> \"lamb\" not in vocab\n",
      "isPersonalPronoun: False\n",
      "isNumber: False\n",
      "isTopping: False\n",
      "isQuantity: False\n",
      "Word: \"lamb\" -> \"lamb\" not in vocab\n",
      "isPersonalPronoun: False\n",
      "isNumber: False\n",
      "isTopping: False\n",
      "isQuantity: False\n"
     ]
    },
    {
     "name": "stderr",
     "output_type": "stream",
     "text": [
      "writing results:  40%|████      | 1600/4000 [02:44<02:57, 13.50it/s]"
     ]
    },
    {
     "name": "stdout",
     "output_type": "stream",
     "text": [
      "Word: \"juice\" -> \"juic\" not in vocab\n",
      "isPersonalPronoun: False\n",
      "isNumber: False\n",
      "isTopping: False\n",
      "isQuantity: False\n",
      "Word: \"boxes\" -> \"box\" not in vocab\n",
      "isPersonalPronoun: False\n",
      "isNumber: False\n",
      "isTopping: False\n",
      "isQuantity: False\n",
      "Word: \"juice\" -> \"juic\" not in vocab\n",
      "isPersonalPronoun: False\n",
      "isNumber: False\n",
      "isTopping: False\n",
      "isQuantity: False\n",
      "Word: \"boxes\" -> \"box\" not in vocab\n",
      "isPersonalPronoun: False\n",
      "isNumber: False\n",
      "isTopping: False\n",
      "isQuantity: False\n",
      "Word: \"order of\" -> \"order of\" not in vocab\n",
      "isPersonalPronoun: False\n",
      "isNumber: False\n",
      "isTopping: False\n",
      "isQuantity: False\n"
     ]
    },
    {
     "name": "stderr",
     "output_type": "stream",
     "text": [
      "writing results:  40%|████      | 1606/4000 [02:44<02:17, 17.39it/s]"
     ]
    },
    {
     "name": "stdout",
     "output_type": "stream",
     "text": [
      "Word: \"firing\" -> \"fire\" not in vocab\n",
      "isPersonalPronoun: False\n",
      "isNumber: False\n",
      "isTopping: False\n",
      "isQuantity: False\n",
      "Word: \"like to\" -> \"like to\" not in vocab\n",
      "isPersonalPronoun: False\n",
      "isNumber: False\n",
      "isTopping: False\n",
      "isQuantity: False\n",
      "Word: \"finalize\" -> \"final\" not in vocab\n",
      "isPersonalPronoun: False\n",
      "isNumber: False\n",
      "isTopping: False\n",
      "isQuantity: False\n"
     ]
    },
    {
     "name": "stderr",
     "output_type": "stream",
     "text": [
      "writing results:  40%|████      | 1609/4000 [02:44<02:24, 16.51it/s]"
     ]
    },
    {
     "name": "stdout",
     "output_type": "stream",
     "text": [
      "Word: \"choose\" -> \"choos\" not in vocab\n",
      "isPersonalPronoun: False\n",
      "isNumber: False\n",
      "isTopping: False\n",
      "isQuantity: False\n",
      "Word: \"kombucha\" -> \"kombucha\" not in vocab\n",
      "isPersonalPronoun: False\n",
      "isNumber: False\n",
      "isTopping: False\n",
      "isQuantity: False\n",
      "Word: \"kombucha\" -> \"kombucha\" not in vocab\n",
      "isPersonalPronoun: False\n",
      "isNumber: False\n",
      "isTopping: False\n",
      "isQuantity: False\n",
      "Word: \"grabbing\" -> \"grab\" not in vocab\n",
      "isPersonalPronoun: False\n",
      "isNumber: False\n",
      "isTopping: False\n",
      "isQuantity: False\n",
      "Word: \"smoked\" -> \"smoke\" not in vocab\n",
      "isPersonalPronoun: False\n",
      "isNumber: False\n",
      "isTopping: False\n",
      "isQuantity: False\n",
      "Word: \"salmon\" -> \"salmon\" not in vocab\n",
      "isPersonalPronoun: False\n",
      "isNumber: False\n",
      "isTopping: False\n",
      "isQuantity: False\n"
     ]
    },
    {
     "name": "stderr",
     "output_type": "stream",
     "text": [
      "writing results:  40%|████      | 1611/4000 [02:45<03:26, 11.58it/s]"
     ]
    },
    {
     "name": "stdout",
     "output_type": "stream",
     "text": [
      "Word: \"smoked\" -> \"smoke\" not in vocab\n",
      "isPersonalPronoun: False\n",
      "isNumber: False\n",
      "isTopping: False\n",
      "isQuantity: False\n",
      "Word: \"salmon\" -> \"salmon\" not in vocab\n",
      "isPersonalPronoun: False\n",
      "isNumber: False\n",
      "isTopping: False\n",
      "isQuantity: False\n",
      "Word: \"card\" -> \"card\" not in vocab\n",
      "isPersonalPronoun: False\n",
      "isNumber: False\n",
      "isTopping: False\n",
      "isQuantity: False\n",
      "Word: \"card\" -> \"card\" not in vocab\n",
      "isPersonalPronoun: False\n",
      "isNumber: False\n",
      "isTopping: False\n",
      "isQuantity: False\n",
      "Word: \"card\" -> \"card\" not in vocab\n",
      "isPersonalPronoun: False\n",
      "isNumber: False\n",
      "isTopping: False\n",
      "isQuantity: False\n"
     ]
    },
    {
     "name": "stderr",
     "output_type": "stream",
     "text": [
      "writing results:  40%|████      | 1613/4000 [02:45<03:21, 11.85it/s]"
     ]
    },
    {
     "name": "stdout",
     "output_type": "stream",
     "text": [
      "Word: \"fixing\" -> \"fix\" not in vocab\n",
      "isPersonalPronoun: False\n",
      "isNumber: False\n",
      "isTopping: False\n",
      "isQuantity: False\n",
      "Word: \"poppy\" -> \"poppi\" not in vocab\n",
      "isPersonalPronoun: False\n",
      "isNumber: False\n",
      "isTopping: False\n",
      "isQuantity: False\n",
      "Word: \"seeds\" -> \"seed\" not in vocab\n",
      "isPersonalPronoun: False\n",
      "isNumber: False\n",
      "isTopping: False\n",
      "isQuantity: False\n",
      "Word: \"poppy\" -> \"poppi\" not in vocab\n",
      "isPersonalPronoun: False\n",
      "isNumber: False\n",
      "isTopping: False\n",
      "isQuantity: False\n",
      "Word: \"seeds\" -> \"seed\" not in vocab\n",
      "isPersonalPronoun: False\n",
      "isNumber: False\n",
      "isTopping: False\n",
      "isQuantity: False\n"
     ]
    },
    {
     "name": "stderr",
     "output_type": "stream",
     "text": [
      "writing results:  40%|████      | 1617/4000 [02:45<02:40, 14.89it/s]"
     ]
    },
    {
     "name": "stdout",
     "output_type": "stream",
     "text": [
      "Word: \"ca\" -> \"ca\" not in vocab\n",
      "isPersonalPronoun: False\n",
      "isNumber: False\n",
      "isTopping: False\n",
      "isQuantity: False\n",
      "Word: \"stick\" -> \"stick\" not in vocab\n",
      "isPersonalPronoun: False\n",
      "isNumber: False\n",
      "isTopping: False\n",
      "isQuantity: False\n",
      "Word: \"leeks\" -> \"leek\" not in vocab\n",
      "isPersonalPronoun: False\n",
      "isNumber: False\n",
      "isTopping: True\n",
      "isQuantity: False\n",
      "Word: \"leeks\" -> \"leek\" not in vocab\n",
      "isPersonalPronoun: False\n",
      "isNumber: False\n",
      "isTopping: True\n",
      "isQuantity: False\n",
      "Word: \"sirach\" -> \"sirach\" not in vocab\n",
      "isPersonalPronoun: False\n",
      "isNumber: False\n",
      "isTopping: False\n",
      "isQuantity: False\n"
     ]
    },
    {
     "name": "stderr",
     "output_type": "stream",
     "text": [
      "writing results:  41%|████      | 1625/4000 [02:46<04:00,  9.86it/s]"
     ]
    },
    {
     "name": "stdout",
     "output_type": "stream",
     "text": [
      "Word: \"sirach\" -> \"sirach\" not in vocab\n",
      "isPersonalPronoun: False\n",
      "isNumber: False\n",
      "isTopping: False\n",
      "isQuantity: False\n",
      "Word: \"secure\" -> \"secur\" not in vocab\n",
      "isPersonalPronoun: False\n",
      "isNumber: False\n",
      "isTopping: False\n",
      "isQuantity: False\n",
      "Word: \"cucumber\" -> \"cucumb\" not in vocab\n",
      "isPersonalPronoun: False\n",
      "isNumber: False\n",
      "isTopping: False\n",
      "isQuantity: False\n",
      "Word: \"cucumber\" -> \"cucumb\" not in vocab\n",
      "isPersonalPronoun: False\n",
      "isNumber: False\n",
      "isTopping: False\n",
      "isQuantity: False\n"
     ]
    },
    {
     "name": "stderr",
     "output_type": "stream",
     "text": [
      "writing results:  41%|████      | 1628/4000 [02:46<03:56, 10.05it/s]"
     ]
    },
    {
     "name": "stdout",
     "output_type": "stream",
     "text": [
      "Word: \"bi\" -> \"bi\" not in vocab\n",
      "isPersonalPronoun: False\n",
      "isNumber: False\n",
      "isTopping: False\n",
      "isQuantity: False\n",
      "Word: \"sweet\" -> \"sweet\" not in vocab\n",
      "isPersonalPronoun: False\n",
      "isNumber: False\n",
      "isTopping: False\n",
      "isQuantity: False\n",
      "Word: \"jalapeño\" -> \"jalapeño\" not in vocab\n",
      "isPersonalPronoun: False\n",
      "isNumber: False\n",
      "isTopping: False\n",
      "isQuantity: False\n",
      "Word: \"jalapeño\" -> \"jalapeño\" not in vocab\n",
      "isPersonalPronoun: False\n",
      "isNumber: False\n",
      "isTopping: False\n",
      "isQuantity: False\n",
      "Word: \"footing\" -> \"foot\" not in vocab\n",
      "isPersonalPronoun: False\n",
      "isNumber: False\n",
      "isTopping: False\n",
      "isQuantity: True\n"
     ]
    },
    {
     "name": "stderr",
     "output_type": "stream",
     "text": [
      "writing results:  41%|████      | 1632/4000 [02:47<05:04,  7.79it/s]"
     ]
    },
    {
     "name": "stdout",
     "output_type": "stream",
     "text": [
      "Word: \"footing\" -> \"foot\" not in vocab\n",
      "isPersonalPronoun: False\n",
      "isNumber: False\n",
      "isTopping: False\n",
      "isQuantity: True\n",
      "Word: \"arrange\" -> \"arrang\" not in vocab\n",
      "isPersonalPronoun: False\n",
      "isNumber: False\n",
      "isTopping: False\n",
      "isQuantity: False\n",
      "Word: \"sweet\" -> \"sweet\" not in vocab\n",
      "isPersonalPronoun: False\n",
      "isNumber: False\n",
      "isTopping: False\n",
      "isQuantity: False\n",
      "Word: \"sweet\" -> \"sweet\" not in vocab\n",
      "isPersonalPronoun: False\n",
      "isNumber: False\n",
      "isTopping: False\n",
      "isQuantity: False\n"
     ]
    },
    {
     "name": "stderr",
     "output_type": "stream",
     "text": [
      "writing results:  41%|████      | 1636/4000 [02:47<04:12,  9.36it/s]"
     ]
    },
    {
     "name": "stdout",
     "output_type": "stream",
     "text": [
      "Word: \"i've\" -> \"i'v\" not in vocab\n",
      "isPersonalPronoun: False\n",
      "isNumber: False\n",
      "isTopping: False\n",
      "isQuantity: False\n",
      "Word: \"decided\" -> \"decid\" not in vocab\n",
      "isPersonalPronoun: False\n",
      "isNumber: False\n",
      "isTopping: False\n",
      "isQuantity: False\n",
      "Word: \"cabbage\" -> \"cabbag\" not in vocab\n",
      "isPersonalPronoun: False\n",
      "isNumber: False\n",
      "isTopping: False\n",
      "isQuantity: False\n",
      "Word: \"leeks\" -> \"leek\" not in vocab\n",
      "isPersonalPronoun: False\n",
      "isNumber: False\n",
      "isTopping: True\n",
      "isQuantity: False\n",
      "Word: \"cabbage\" -> \"cabbag\" not in vocab\n",
      "isPersonalPronoun: False\n",
      "isNumber: False\n",
      "isTopping: False\n",
      "isQuantity: False\n",
      "Word: \"kimchi\" -> \"kimchi\" not in vocab\n",
      "isPersonalPronoun: False\n",
      "isNumber: False\n",
      "isTopping: False\n",
      "isQuantity: False\n",
      "Word: \"humus\" -> \"humu\" not in vocab\n",
      "isPersonalPronoun: False\n",
      "isNumber: False\n",
      "isTopping: False\n",
      "isQuantity: False\n",
      "Word: \"kimchi\" -> \"kimchi\" not in vocab\n",
      "isPersonalPronoun: False\n",
      "isNumber: False\n",
      "isTopping: False\n",
      "isQuantity: False\n",
      "Word: \"stick\" -> \"stick\" not in vocab\n",
      "isPersonalPronoun: False\n",
      "isNumber: False\n",
      "isTopping: False\n",
      "isQuantity: False\n",
      "Word: \"baleen\" -> \"baleen\" not in vocab\n",
      "isPersonalPronoun: False\n",
      "isNumber: False\n",
      "isTopping: False\n",
      "isQuantity: False\n"
     ]
    },
    {
     "name": "stderr",
     "output_type": "stream",
     "text": [
      "writing results:  41%|████      | 1640/4000 [02:48<05:47,  6.78it/s]"
     ]
    },
    {
     "name": "stdout",
     "output_type": "stream",
     "text": [
      "Word: \"baleen\" -> \"baleen\" not in vocab\n",
      "isPersonalPronoun: False\n",
      "isNumber: False\n",
      "isTopping: False\n",
      "isQuantity: False\n",
      "Word: \"jalapeños\" -> \"jalapeño\" not in vocab\n",
      "isPersonalPronoun: False\n",
      "isNumber: False\n",
      "isTopping: False\n",
      "isQuantity: False\n",
      "Word: \"jalapeños\" -> \"jalapeño\" not in vocab\n",
      "isPersonalPronoun: False\n",
      "isNumber: False\n",
      "isTopping: False\n",
      "isQuantity: False\n"
     ]
    },
    {
     "name": "stderr",
     "output_type": "stream",
     "text": [
      "writing results:  41%|████      | 1642/4000 [02:48<05:13,  7.53it/s]"
     ]
    },
    {
     "name": "stdout",
     "output_type": "stream",
     "text": [
      "Word: \"leeks\" -> \"leek\" not in vocab\n",
      "isPersonalPronoun: False\n",
      "isNumber: False\n",
      "isTopping: True\n",
      "isQuantity: False\n",
      "Word: \"leeks\" -> \"leek\" not in vocab\n",
      "isPersonalPronoun: False\n",
      "isNumber: False\n",
      "isTopping: True\n",
      "isQuantity: False\n",
      "Word: \"ca\" -> \"ca\" not in vocab\n",
      "isPersonalPronoun: False\n",
      "isNumber: False\n",
      "isTopping: False\n",
      "isQuantity: False\n",
      "Word: \"chard\" -> \"chard\" not in vocab\n",
      "isPersonalPronoun: False\n",
      "isNumber: False\n",
      "isTopping: False\n",
      "isQuantity: False\n",
      "Word: \"chard\" -> \"chard\" not in vocab\n",
      "isPersonalPronoun: False\n",
      "isNumber: False\n",
      "isTopping: False\n",
      "isQuantity: False\n"
     ]
    },
    {
     "name": "stderr",
     "output_type": "stream",
     "text": [
      "writing results:  41%|████      | 1648/4000 [02:49<02:59, 13.07it/s]"
     ]
    },
    {
     "name": "stdout",
     "output_type": "stream",
     "text": [
      "Word: \"cabbage\" -> \"cabbag\" not in vocab\n",
      "isPersonalPronoun: False\n",
      "isNumber: False\n",
      "isTopping: False\n",
      "isQuantity: False\n",
      "Word: \"would take\" -> \"would tak\" not in vocab\n",
      "isPersonalPronoun: False\n",
      "isNumber: False\n",
      "isTopping: False\n",
      "isQuantity: False\n",
      "Word: \"decide\" -> \"decid\" not in vocab\n",
      "isPersonalPronoun: False\n",
      "isNumber: False\n",
      "isTopping: False\n",
      "isQuantity: False\n"
     ]
    },
    {
     "name": "stderr",
     "output_type": "stream",
     "text": [
      "writing results:  41%|████▏     | 1650/4000 [02:49<06:04,  6.45it/s]"
     ]
    },
    {
     "name": "stdout",
     "output_type": "stream",
     "text": [
      "Word: \"stick\" -> \"stick\" not in vocab\n",
      "isPersonalPronoun: False\n",
      "isNumber: False\n",
      "isTopping: False\n",
      "isQuantity: False\n",
      "Word: \"rd\" -> \"rd\" not in vocab\n",
      "isPersonalPronoun: False\n",
      "isNumber: False\n",
      "isTopping: False\n",
      "isQuantity: False\n",
      "Word: \"bubble\" -> \"bubbl\" not in vocab\n",
      "isPersonalPronoun: False\n",
      "isNumber: False\n",
      "isTopping: False\n",
      "isQuantity: False\n",
      "Word: \"rd\" -> \"rd\" not in vocab\n",
      "isPersonalPronoun: False\n",
      "isNumber: False\n",
      "isTopping: False\n",
      "isQuantity: False\n",
      "Word: \"bubble\" -> \"bubbl\" not in vocab\n",
      "isPersonalPronoun: False\n",
      "isNumber: False\n",
      "isTopping: False\n",
      "isQuantity: False\n",
      "Word: \"fr\" -> \"fr\" not in vocab\n",
      "isPersonalPronoun: False\n",
      "isNumber: False\n",
      "isTopping: False\n",
      "isQuantity: False\n",
      "Word: \"mint\" -> \"mint\" not in vocab\n",
      "isPersonalPronoun: False\n",
      "isNumber: False\n",
      "isTopping: False\n",
      "isQuantity: False\n",
      "Word: \"sirach\" -> \"sirach\" not in vocab\n",
      "isPersonalPronoun: False\n",
      "isNumber: False\n",
      "isTopping: False\n",
      "isQuantity: False\n",
      "Word: \"mint\" -> \"mint\" not in vocab\n",
      "isPersonalPronoun: False\n",
      "isNumber: False\n",
      "isTopping: False\n",
      "isQuantity: False\n",
      "Word: \"sirach\" -> \"sirach\" not in vocab\n",
      "isPersonalPronoun: False\n",
      "isNumber: False\n",
      "isTopping: False\n",
      "isQuantity: False\n",
      "Word: \"poppy\" -> \"poppi\" not in vocab\n",
      "isPersonalPronoun: False\n",
      "isNumber: False\n",
      "isTopping: False\n",
      "isQuantity: False\n",
      "Word: \"seeds\" -> \"seed\" not in vocab\n",
      "isPersonalPronoun: False\n",
      "isNumber: False\n",
      "isTopping: False\n",
      "isQuantity: False\n",
      "Word: \"cucumber\" -> \"cucumb\" not in vocab\n",
      "isPersonalPronoun: False\n",
      "isNumber: False\n",
      "isTopping: False\n",
      "isQuantity: False\n",
      "Word: \"poppy\" -> \"poppi\" not in vocab\n",
      "isPersonalPronoun: False\n",
      "isNumber: False\n",
      "isTopping: False\n",
      "isQuantity: False\n",
      "Word: \"seeds\" -> \"seed\" not in vocab\n",
      "isPersonalPronoun: False\n",
      "isNumber: False\n",
      "isTopping: False\n",
      "isQuantity: False\n",
      "Word: \"cucumber\" -> \"cucumb\" not in vocab\n",
      "isPersonalPronoun: False\n",
      "isNumber: False\n",
      "isTopping: False\n",
      "isQuantity: False\n"
     ]
    },
    {
     "name": "stderr",
     "output_type": "stream",
     "text": [
      "writing results:  41%|████▏     | 1656/4000 [02:51<06:24,  6.10it/s]"
     ]
    },
    {
     "name": "stdout",
     "output_type": "stream",
     "text": [
      "Word: \"hummus\" -> \"hummu\" not in vocab\n",
      "isPersonalPronoun: False\n",
      "isNumber: False\n",
      "isTopping: False\n",
      "isQuantity: False\n",
      "Word: \"hummus\" -> \"hummu\" not in vocab\n",
      "isPersonalPronoun: False\n",
      "isNumber: False\n",
      "isTopping: False\n",
      "isQuantity: False\n"
     ]
    },
    {
     "name": "stderr",
     "output_type": "stream",
     "text": [
      "writing results:  42%|████▏     | 1660/4000 [02:51<04:23,  8.87it/s]"
     ]
    },
    {
     "name": "stdout",
     "output_type": "stream",
     "text": [
      "Word: \"fixing\" -> \"fix\" not in vocab\n",
      "isPersonalPronoun: False\n",
      "isNumber: False\n",
      "isTopping: False\n",
      "isQuantity: False\n",
      "Word: \"craving\" -> \"crave\" not in vocab\n",
      "isPersonalPronoun: False\n",
      "isNumber: False\n",
      "isTopping: False\n",
      "isQuantity: False\n",
      "Word: \"zest\" -> \"zest\" not in vocab\n",
      "isPersonalPronoun: False\n",
      "isNumber: False\n",
      "isTopping: False\n",
      "isQuantity: False\n",
      "Word: \"zest\" -> \"zest\" not in vocab\n",
      "isPersonalPronoun: False\n",
      "isNumber: False\n",
      "isTopping: False\n",
      "isQuantity: False\n",
      "Word: \"leeks\" -> \"leek\" not in vocab\n",
      "isPersonalPronoun: False\n",
      "isNumber: False\n",
      "isTopping: True\n",
      "isQuantity: False\n"
     ]
    },
    {
     "name": "stderr",
     "output_type": "stream",
     "text": [
      "writing results:  42%|████▏     | 1662/4000 [02:51<03:50, 10.16it/s]"
     ]
    },
    {
     "name": "stdout",
     "output_type": "stream",
     "text": [
      "Word: \"leeks\" -> \"leek\" not in vocab\n",
      "isPersonalPronoun: False\n",
      "isNumber: False\n",
      "isTopping: True\n",
      "isQuantity: False\n",
      "Word: \"cabbage\" -> \"cabbag\" not in vocab\n",
      "isPersonalPronoun: False\n",
      "isNumber: False\n",
      "isTopping: False\n",
      "isQuantity: False\n",
      "Word: \"heavy\" -> \"heavi\" not in vocab\n",
      "isPersonalPronoun: False\n",
      "isNumber: False\n",
      "isTopping: False\n",
      "isQuantity: False\n"
     ]
    },
    {
     "name": "stderr",
     "output_type": "stream",
     "text": [
      "writing results:  42%|████▏     | 1667/4000 [02:51<03:25, 11.34it/s]"
     ]
    },
    {
     "name": "stdout",
     "output_type": "stream",
     "text": [
      "Word: \"heavy\" -> \"heavi\" not in vocab\n",
      "isPersonalPronoun: False\n",
      "isNumber: False\n",
      "isTopping: False\n",
      "isQuantity: False\n",
      "Word: \"sweet\" -> \"sweet\" not in vocab\n",
      "isPersonalPronoun: False\n",
      "isNumber: False\n",
      "isTopping: False\n",
      "isQuantity: False\n",
      "Word: \"sweet\" -> \"sweet\" not in vocab\n",
      "isPersonalPronoun: False\n",
      "isNumber: False\n",
      "isTopping: False\n",
      "isQuantity: False\n",
      "Word: \"sweet\" -> \"sweet\" not in vocab\n",
      "isPersonalPronoun: False\n",
      "isNumber: False\n",
      "isTopping: False\n",
      "isQuantity: False\n",
      "Word: \"sweet\" -> \"sweet\" not in vocab\n",
      "isPersonalPronoun: False\n",
      "isNumber: False\n",
      "isTopping: False\n",
      "isQuantity: False\n"
     ]
    },
    {
     "name": "stderr",
     "output_type": "stream",
     "text": [
      "writing results:  42%|████▏     | 1672/4000 [02:52<02:43, 14.26it/s]"
     ]
    },
    {
     "name": "stdout",
     "output_type": "stream",
     "text": [
      "Word: \"large size\" -> \"large s\" not in vocab\n",
      "isPersonalPronoun: False\n",
      "isNumber: False\n",
      "isTopping: False\n",
      "isQuantity: False\n",
      "Word: \"large size\" -> \"large s\" not in vocab\n",
      "isPersonalPronoun: False\n",
      "isNumber: False\n",
      "isTopping: False\n",
      "isQuantity: False\n",
      "Word: \"i've\" -> \"i'v\" not in vocab\n",
      "isPersonalPronoun: False\n",
      "isNumber: False\n",
      "isTopping: False\n",
      "isQuantity: False\n",
      "Word: \"decided\" -> \"decid\" not in vocab\n",
      "isPersonalPronoun: False\n",
      "isNumber: False\n",
      "isTopping: False\n",
      "isQuantity: False\n"
     ]
    },
    {
     "name": "stderr",
     "output_type": "stream",
     "text": [
      "writing results:  42%|████▏     | 1674/4000 [02:52<03:18, 11.74it/s]"
     ]
    },
    {
     "name": "stdout",
     "output_type": "stream",
     "text": [
      "Word: \"gruyeres\" -> \"gruyer\" not in vocab\n",
      "isPersonalPronoun: False\n",
      "isNumber: False\n",
      "isTopping: False\n",
      "isQuantity: False\n",
      "Word: \"gruyeres\" -> \"gruyer\" not in vocab\n",
      "isPersonalPronoun: False\n",
      "isNumber: False\n",
      "isTopping: False\n",
      "isQuantity: False\n"
     ]
    },
    {
     "name": "stderr",
     "output_type": "stream",
     "text": [
      "writing results:  42%|████▏     | 1676/4000 [02:52<03:26, 11.26it/s]"
     ]
    },
    {
     "name": "stdout",
     "output_type": "stream",
     "text": [
      "Word: \"canyon\" -> \"canyon\" not in vocab\n",
      "isPersonalPronoun: False\n",
      "isNumber: False\n",
      "isTopping: False\n",
      "isQuantity: False\n",
      "Word: \"prawns\" -> \"prawn\" not in vocab\n",
      "isPersonalPronoun: False\n",
      "isNumber: False\n",
      "isTopping: False\n",
      "isQuantity: False\n",
      "Word: \"prawns\" -> \"prawn\" not in vocab\n",
      "isPersonalPronoun: False\n",
      "isNumber: False\n",
      "isTopping: False\n",
      "isQuantity: False\n"
     ]
    },
    {
     "name": "stderr",
     "output_type": "stream",
     "text": [
      "writing results:  42%|████▏     | 1682/4000 [02:52<02:31, 15.26it/s]"
     ]
    },
    {
     "name": "stdout",
     "output_type": "stream",
     "text": [
      "Word: \"sweet\" -> \"sweet\" not in vocab\n",
      "isPersonalPronoun: False\n",
      "isNumber: False\n",
      "isTopping: False\n",
      "isQuantity: False\n",
      "Word: \"jalapeños\" -> \"jalapeño\" not in vocab\n",
      "isPersonalPronoun: False\n",
      "isNumber: False\n",
      "isTopping: False\n",
      "isQuantity: False\n",
      "Word: \"sweet\" -> \"sweet\" not in vocab\n",
      "isPersonalPronoun: False\n",
      "isNumber: False\n",
      "isTopping: False\n",
      "isQuantity: False\n",
      "Word: \"jalapeños\" -> \"jalapeño\" not in vocab\n",
      "isPersonalPronoun: False\n",
      "isNumber: False\n",
      "isTopping: False\n",
      "isQuantity: False\n",
      "Word: \"leeks\" -> \"leek\" not in vocab\n",
      "isPersonalPronoun: False\n",
      "isNumber: False\n",
      "isTopping: True\n",
      "isQuantity: False\n"
     ]
    },
    {
     "name": "stderr",
     "output_type": "stream",
     "text": [
      "writing results:  42%|████▏     | 1686/4000 [02:53<02:24, 16.04it/s]"
     ]
    },
    {
     "name": "stdout",
     "output_type": "stream",
     "text": [
      "Word: \"leeks\" -> \"leek\" not in vocab\n",
      "isPersonalPronoun: False\n",
      "isNumber: False\n",
      "isTopping: True\n",
      "isQuantity: False\n",
      "Word: \"kimchi\" -> \"kimchi\" not in vocab\n",
      "isPersonalPronoun: False\n",
      "isNumber: False\n",
      "isTopping: False\n",
      "isQuantity: False\n"
     ]
    },
    {
     "name": "stderr",
     "output_type": "stream",
     "text": [
      "writing results:  42%|████▏     | 1690/4000 [02:53<02:24, 15.95it/s]"
     ]
    },
    {
     "name": "stdout",
     "output_type": "stream",
     "text": [
      "Word: \"kimchi\" -> \"kimchi\" not in vocab\n",
      "isPersonalPronoun: False\n",
      "isNumber: False\n",
      "isTopping: False\n",
      "isQuantity: False\n",
      "Word: \"sweet\" -> \"sweet\" not in vocab\n",
      "isPersonalPronoun: False\n",
      "isNumber: False\n",
      "isTopping: False\n",
      "isQuantity: False\n",
      "Word: \"sweet\" -> \"sweet\" not in vocab\n",
      "isPersonalPronoun: False\n",
      "isNumber: False\n",
      "isTopping: False\n",
      "isQuantity: False\n",
      "Word: \"nice\" -> \"nice\" not in vocab\n",
      "isPersonalPronoun: False\n",
      "isNumber: False\n",
      "isTopping: False\n",
      "isQuantity: False\n"
     ]
    },
    {
     "name": "stderr",
     "output_type": "stream",
     "text": [
      "writing results:  42%|████▏     | 1699/4000 [02:53<01:39, 23.10it/s]"
     ]
    },
    {
     "name": "stdout",
     "output_type": "stream",
     "text": [
      "Word: \"enjoy\" -> \"enjoy\" not in vocab\n",
      "isPersonalPronoun: False\n",
      "isNumber: False\n",
      "isTopping: False\n",
      "isQuantity: False\n",
      "Word: \"footing\" -> \"foot\" not in vocab\n",
      "isPersonalPronoun: False\n",
      "isNumber: False\n",
      "isTopping: False\n",
      "isQuantity: True\n"
     ]
    },
    {
     "name": "stderr",
     "output_type": "stream",
     "text": [
      "writing results:  43%|████▎     | 1704/4000 [02:54<03:49, 10.03it/s]"
     ]
    },
    {
     "name": "stdout",
     "output_type": "stream",
     "text": [
      "Word: \"footing\" -> \"foot\" not in vocab\n",
      "isPersonalPronoun: False\n",
      "isNumber: False\n",
      "isTopping: False\n",
      "isQuantity: True\n",
      "Word: \"cabbage\" -> \"cabbag\" not in vocab\n",
      "isPersonalPronoun: False\n",
      "isNumber: False\n",
      "isTopping: False\n",
      "isQuantity: False\n",
      "Word: \"cabbage\" -> \"cabbag\" not in vocab\n",
      "isPersonalPronoun: False\n",
      "isNumber: False\n",
      "isTopping: False\n",
      "isQuantity: False\n"
     ]
    },
    {
     "name": "stderr",
     "output_type": "stream",
     "text": [
      "writing results:  43%|████▎     | 1706/4000 [02:54<04:00,  9.54it/s]"
     ]
    },
    {
     "name": "stdout",
     "output_type": "stream",
     "text": [
      "Word: \"mint\" -> \"mint\" not in vocab\n",
      "isPersonalPronoun: False\n",
      "isNumber: False\n",
      "isTopping: False\n",
      "isQuantity: False\n",
      "Word: \"zest\" -> \"zest\" not in vocab\n",
      "isPersonalPronoun: False\n",
      "isNumber: False\n",
      "isTopping: False\n",
      "isQuantity: False\n",
      "Word: \"mint\" -> \"mint\" not in vocab\n",
      "isPersonalPronoun: False\n",
      "isNumber: False\n",
      "isTopping: False\n",
      "isQuantity: False\n",
      "Word: \"zest\" -> \"zest\" not in vocab\n",
      "isPersonalPronoun: False\n",
      "isNumber: False\n",
      "isTopping: False\n",
      "isQuantity: False\n",
      "Word: \"mint\" -> \"mint\" not in vocab\n",
      "isPersonalPronoun: False\n",
      "isNumber: False\n",
      "isTopping: False\n",
      "isQuantity: False\n",
      "Word: \"chard\" -> \"chard\" not in vocab\n",
      "isPersonalPronoun: False\n",
      "isNumber: False\n",
      "isTopping: False\n",
      "isQuantity: False\n"
     ]
    },
    {
     "name": "stderr",
     "output_type": "stream",
     "text": [
      "writing results:  43%|████▎     | 1712/4000 [02:54<02:35, 14.70it/s]"
     ]
    },
    {
     "name": "stdout",
     "output_type": "stream",
     "text": [
      "Word: \"chard\" -> \"chard\" not in vocab\n",
      "isPersonalPronoun: False\n",
      "isNumber: False\n",
      "isTopping: False\n",
      "isQuantity: False\n",
      "Word: \"sweet\" -> \"sweet\" not in vocab\n",
      "isPersonalPronoun: False\n",
      "isNumber: False\n",
      "isTopping: False\n",
      "isQuantity: False\n",
      "Word: \"sweet\" -> \"sweet\" not in vocab\n",
      "isPersonalPronoun: False\n",
      "isNumber: False\n",
      "isTopping: False\n",
      "isQuantity: False\n",
      "Word: \"sweet\" -> \"sweet\" not in vocab\n",
      "isPersonalPronoun: False\n",
      "isNumber: False\n",
      "isTopping: False\n",
      "isQuantity: False\n",
      "Word: \"sauted\" -> \"saut\" not in vocab\n",
      "isPersonalPronoun: False\n",
      "isNumber: False\n",
      "isTopping: False\n",
      "isQuantity: False\n",
      "Word: \"sauted\" -> \"saut\" not in vocab\n",
      "isPersonalPronoun: False\n",
      "isNumber: False\n",
      "isTopping: False\n",
      "isQuantity: False\n",
      "Word: \"kimchi\" -> \"kimchi\" not in vocab\n",
      "isPersonalPronoun: False\n",
      "isNumber: False\n",
      "isTopping: False\n",
      "isQuantity: False\n"
     ]
    },
    {
     "name": "stderr",
     "output_type": "stream",
     "text": [
      "writing results:  43%|████▎     | 1715/4000 [02:55<02:41, 14.18it/s]"
     ]
    },
    {
     "name": "stdout",
     "output_type": "stream",
     "text": [
      "Word: \"kimchi\" -> \"kimchi\" not in vocab\n",
      "isPersonalPronoun: False\n",
      "isNumber: False\n",
      "isTopping: False\n",
      "isQuantity: False\n",
      "Word: \"poppy\" -> \"poppi\" not in vocab\n",
      "isPersonalPronoun: False\n",
      "isNumber: False\n",
      "isTopping: False\n",
      "isQuantity: False\n",
      "Word: \"seeds\" -> \"seed\" not in vocab\n",
      "isPersonalPronoun: False\n",
      "isNumber: False\n",
      "isTopping: False\n",
      "isQuantity: False\n",
      "Word: \"kimchi\" -> \"kimchi\" not in vocab\n",
      "isPersonalPronoun: False\n",
      "isNumber: False\n",
      "isTopping: False\n",
      "isQuantity: False\n"
     ]
    },
    {
     "name": "stderr",
     "output_type": "stream",
     "text": [
      "writing results:  43%|████▎     | 1720/4000 [02:55<02:58, 12.81it/s]"
     ]
    },
    {
     "name": "stdout",
     "output_type": "stream",
     "text": [
      "Word: \"poppy\" -> \"poppi\" not in vocab\n",
      "isPersonalPronoun: False\n",
      "isNumber: False\n",
      "isTopping: False\n",
      "isQuantity: False\n",
      "Word: \"seeds\" -> \"seed\" not in vocab\n",
      "isPersonalPronoun: False\n",
      "isNumber: False\n",
      "isTopping: False\n",
      "isQuantity: False\n",
      "Word: \"kimchi\" -> \"kimchi\" not in vocab\n",
      "isPersonalPronoun: False\n",
      "isNumber: False\n",
      "isTopping: False\n",
      "isQuantity: False\n",
      "Word: \"chard\" -> \"chard\" not in vocab\n",
      "isPersonalPronoun: False\n",
      "isNumber: False\n",
      "isTopping: False\n",
      "isQuantity: False\n",
      "Word: \"chard\" -> \"chard\" not in vocab\n",
      "isPersonalPronoun: False\n",
      "isNumber: False\n",
      "isTopping: False\n",
      "isQuantity: False\n"
     ]
    },
    {
     "name": "stderr",
     "output_type": "stream",
     "text": [
      "writing results:  43%|████▎     | 1724/4000 [02:55<02:25, 15.69it/s]"
     ]
    },
    {
     "name": "stdout",
     "output_type": "stream",
     "text": [
      "Word: \"secure\" -> \"secur\" not in vocab\n",
      "isPersonalPronoun: False\n",
      "isNumber: False\n",
      "isTopping: False\n",
      "isQuantity: False\n",
      "Word: \"psi\" -> \"psi\" not in vocab\n",
      "isPersonalPronoun: False\n",
      "isNumber: False\n",
      "isTopping: False\n",
      "isQuantity: False\n",
      "Word: \"psi\" -> \"psi\" not in vocab\n",
      "isPersonalPronoun: False\n",
      "isNumber: False\n",
      "isTopping: False\n",
      "isQuantity: False\n",
      "Word: \"choice\" -> \"choic\" not in vocab\n",
      "isPersonalPronoun: False\n",
      "isNumber: False\n",
      "isTopping: False\n",
      "isQuantity: False\n"
     ]
    },
    {
     "name": "stderr",
     "output_type": "stream",
     "text": [
      "writing results:  43%|████▎     | 1732/4000 [02:56<01:50, 20.52it/s]"
     ]
    },
    {
     "name": "stdout",
     "output_type": "stream",
     "text": [
      "Word: \"smoked\" -> \"smoke\" not in vocab\n",
      "isPersonalPronoun: False\n",
      "isNumber: False\n",
      "isTopping: False\n",
      "isQuantity: False\n",
      "Word: \"salmon\" -> \"salmon\" not in vocab\n",
      "isPersonalPronoun: False\n",
      "isNumber: False\n",
      "isTopping: False\n",
      "isQuantity: False\n",
      "Word: \"vegges\" -> \"vegg\" not in vocab\n",
      "isPersonalPronoun: False\n",
      "isNumber: False\n",
      "isTopping: False\n",
      "isQuantity: False\n",
      "Word: \"vegges\" -> \"vegg\" not in vocab\n",
      "isPersonalPronoun: False\n",
      "isNumber: False\n",
      "isTopping: False\n",
      "isQuantity: False\n"
     ]
    },
    {
     "name": "stderr",
     "output_type": "stream",
     "text": [
      "writing results:  43%|████▎     | 1735/4000 [02:56<01:44, 21.61it/s]"
     ]
    },
    {
     "name": "stdout",
     "output_type": "stream",
     "text": [
      "Word: \"goat\" -> \"goat\" not in vocab\n",
      "isPersonalPronoun: False\n",
      "isNumber: False\n",
      "isTopping: False\n",
      "isQuantity: False\n",
      "Word: \"lamb\" -> \"lamb\" not in vocab\n",
      "isPersonalPronoun: False\n",
      "isNumber: False\n",
      "isTopping: False\n",
      "isQuantity: False\n",
      "Word: \"goat\" -> \"goat\" not in vocab\n",
      "isPersonalPronoun: False\n",
      "isNumber: False\n",
      "isTopping: False\n",
      "isQuantity: False\n",
      "Word: \"lamb\" -> \"lamb\" not in vocab\n",
      "isPersonalPronoun: False\n",
      "isNumber: False\n",
      "isTopping: False\n",
      "isQuantity: False\n",
      "Word: \"poppy\" -> \"poppi\" not in vocab\n",
      "isPersonalPronoun: False\n",
      "isNumber: False\n",
      "isTopping: False\n",
      "isQuantity: False\n",
      "Word: \"seeds\" -> \"seed\" not in vocab\n",
      "isPersonalPronoun: False\n",
      "isNumber: False\n",
      "isTopping: False\n",
      "isQuantity: False\n"
     ]
    },
    {
     "name": "stderr",
     "output_type": "stream",
     "text": [
      "writing results:  44%|████▎     | 1741/4000 [02:56<01:46, 21.16it/s]"
     ]
    },
    {
     "name": "stdout",
     "output_type": "stream",
     "text": [
      "Word: \"poppy\" -> \"poppi\" not in vocab\n",
      "isPersonalPronoun: False\n",
      "isNumber: False\n",
      "isTopping: False\n",
      "isQuantity: False\n",
      "Word: \"seeds\" -> \"seed\" not in vocab\n",
      "isPersonalPronoun: False\n",
      "isNumber: False\n",
      "isTopping: False\n",
      "isQuantity: False\n",
      "Word: \"hummus\" -> \"hummu\" not in vocab\n",
      "isPersonalPronoun: False\n",
      "isNumber: False\n",
      "isTopping: False\n",
      "isQuantity: False\n",
      "Word: \"hummus\" -> \"hummu\" not in vocab\n",
      "isPersonalPronoun: False\n",
      "isNumber: False\n",
      "isTopping: False\n",
      "isQuantity: False\n",
      "Word: \"chard\" -> \"chard\" not in vocab\n",
      "isPersonalPronoun: False\n",
      "isNumber: False\n",
      "isTopping: False\n",
      "isQuantity: False\n"
     ]
    },
    {
     "name": "stderr",
     "output_type": "stream",
     "text": [
      "writing results:  44%|████▎     | 1744/4000 [02:56<02:00, 18.67it/s]"
     ]
    },
    {
     "name": "stdout",
     "output_type": "stream",
     "text": [
      "Word: \"chard\" -> \"chard\" not in vocab\n",
      "isPersonalPronoun: False\n",
      "isNumber: False\n",
      "isTopping: False\n",
      "isQuantity: False\n",
      "Word: \"coconut\" -> \"coconut\" not in vocab\n",
      "isPersonalPronoun: False\n",
      "isNumber: False\n",
      "isTopping: True\n",
      "isQuantity: False\n",
      "Word: \"coconut\" -> \"coconut\" not in vocab\n",
      "isPersonalPronoun: False\n",
      "isNumber: False\n",
      "isTopping: True\n",
      "isQuantity: False\n"
     ]
    },
    {
     "name": "stderr",
     "output_type": "stream",
     "text": [
      "writing results:  44%|████▎     | 1749/4000 [02:56<01:41, 22.15it/s]"
     ]
    },
    {
     "name": "stdout",
     "output_type": "stream",
     "text": [
      "Word: \"prawns\" -> \"prawn\" not in vocab\n",
      "isPersonalPronoun: False\n",
      "isNumber: False\n",
      "isTopping: False\n",
      "isQuantity: False\n",
      "Word: \"prawns\" -> \"prawn\" not in vocab\n",
      "isPersonalPronoun: False\n",
      "isNumber: False\n",
      "isTopping: False\n",
      "isQuantity: False\n",
      "Word: \"i've\" -> \"i'v\" not in vocab\n",
      "isPersonalPronoun: False\n",
      "isNumber: False\n",
      "isTopping: False\n",
      "isQuantity: False\n",
      "Word: \"decided\" -> \"decid\" not in vocab\n",
      "isPersonalPronoun: False\n",
      "isNumber: False\n",
      "isTopping: False\n",
      "isQuantity: False\n"
     ]
    },
    {
     "name": "stderr",
     "output_type": "stream",
     "text": [
      "writing results:  44%|████▍     | 1754/4000 [02:57<02:05, 17.85it/s]"
     ]
    },
    {
     "name": "stdout",
     "output_type": "stream",
     "text": [
      "Word: \"lamb\" -> \"lamb\" not in vocab\n",
      "isPersonalPronoun: False\n",
      "isNumber: False\n",
      "isTopping: False\n",
      "isQuantity: False\n",
      "Word: \"chard\" -> \"chard\" not in vocab\n",
      "isPersonalPronoun: False\n",
      "isNumber: False\n",
      "isTopping: False\n",
      "isQuantity: False\n",
      "Word: \"lamb\" -> \"lamb\" not in vocab\n",
      "isPersonalPronoun: False\n",
      "isNumber: False\n",
      "isTopping: False\n",
      "isQuantity: False\n",
      "Word: \"chard\" -> \"chard\" not in vocab\n",
      "isPersonalPronoun: False\n",
      "isNumber: False\n",
      "isTopping: False\n",
      "isQuantity: False\n",
      "Word: \"arrange\" -> \"arrang\" not in vocab\n",
      "isPersonalPronoun: False\n",
      "isNumber: False\n",
      "isTopping: False\n",
      "isQuantity: False\n",
      "Word: \"stick\" -> \"stick\" not in vocab\n",
      "isPersonalPronoun: False\n",
      "isNumber: False\n",
      "isTopping: False\n",
      "isQuantity: False\n",
      "Word: \"poppy\" -> \"poppi\" not in vocab\n",
      "isPersonalPronoun: False\n",
      "isNumber: False\n",
      "isTopping: False\n",
      "isQuantity: False\n",
      "Word: \"seeds\" -> \"seed\" not in vocab\n",
      "isPersonalPronoun: False\n",
      "isNumber: False\n",
      "isTopping: False\n",
      "isQuantity: False\n",
      "Word: \"footing\" -> \"foot\" not in vocab\n",
      "isPersonalPronoun: False\n",
      "isNumber: False\n",
      "isTopping: False\n",
      "isQuantity: True\n"
     ]
    },
    {
     "name": "stderr",
     "output_type": "stream",
     "text": [
      "writing results:  44%|████▍     | 1756/4000 [02:58<05:48,  6.44it/s]"
     ]
    },
    {
     "name": "stdout",
     "output_type": "stream",
     "text": [
      "Word: \"poppy\" -> \"poppi\" not in vocab\n",
      "isPersonalPronoun: False\n",
      "isNumber: False\n",
      "isTopping: False\n",
      "isQuantity: False\n",
      "Word: \"seeds\" -> \"seed\" not in vocab\n",
      "isPersonalPronoun: False\n",
      "isNumber: False\n",
      "isTopping: False\n",
      "isQuantity: False\n",
      "Word: \"footing\" -> \"foot\" not in vocab\n",
      "isPersonalPronoun: False\n",
      "isNumber: False\n",
      "isTopping: False\n",
      "isQuantity: True\n",
      "Word: \"pick\" -> \"pick\" not in vocab\n",
      "isPersonalPronoun: False\n",
      "isNumber: False\n",
      "isTopping: False\n",
      "isQuantity: False\n",
      "Word: \"kimchi\" -> \"kimchi\" not in vocab\n",
      "isPersonalPronoun: False\n",
      "isNumber: False\n",
      "isTopping: False\n",
      "isQuantity: False\n",
      "Word: \"kimchi\" -> \"kimchi\" not in vocab\n",
      "isPersonalPronoun: False\n",
      "isNumber: False\n",
      "isTopping: False\n",
      "isQuantity: False\n"
     ]
    },
    {
     "name": "stderr",
     "output_type": "stream",
     "text": [
      "writing results:  44%|████▍     | 1765/4000 [02:58<02:48, 13.28it/s]"
     ]
    },
    {
     "name": "stdout",
     "output_type": "stream",
     "text": [
      "Word: \"duck\" -> \"duck\" not in vocab\n",
      "isPersonalPronoun: False\n",
      "isNumber: False\n",
      "isTopping: False\n",
      "isQuantity: False\n",
      "Word: \"duck\" -> \"duck\" not in vocab\n",
      "isPersonalPronoun: False\n",
      "isNumber: False\n",
      "isTopping: False\n",
      "isQuantity: False\n",
      "Word: \"lemme\" -> \"lemm\" not in vocab\n",
      "isPersonalPronoun: False\n",
      "isNumber: False\n",
      "isTopping: False\n",
      "isQuantity: False\n",
      "Word: \"cabbage\" -> \"cabbag\" not in vocab\n",
      "isPersonalPronoun: False\n",
      "isNumber: False\n",
      "isTopping: False\n",
      "isQuantity: False\n",
      "Word: \"cabbage\" -> \"cabbag\" not in vocab\n",
      "isPersonalPronoun: False\n",
      "isNumber: False\n",
      "isTopping: False\n",
      "isQuantity: False\n",
      "Word: \"ave\" -> \"ave\" not in vocab\n",
      "isPersonalPronoun: False\n",
      "isNumber: False\n",
      "isTopping: False\n",
      "isQuantity: False\n",
      "Word: \"mushy\" -> \"mushi\" not in vocab\n",
      "isPersonalPronoun: False\n",
      "isNumber: False\n",
      "isTopping: False\n",
      "isQuantity: False\n",
      "Word: \"pas\" -> \"pa\" not in vocab\n",
      "isPersonalPronoun: False\n",
      "isNumber: False\n",
      "isTopping: False\n",
      "isQuantity: False\n"
     ]
    },
    {
     "name": "stderr",
     "output_type": "stream",
     "text": [
      "writing results:  44%|████▍     | 1771/4000 [02:59<02:53, 12.88it/s]"
     ]
    },
    {
     "name": "stdout",
     "output_type": "stream",
     "text": [
      "Word: \"mushy\" -> \"mushi\" not in vocab\n",
      "isPersonalPronoun: False\n",
      "isNumber: False\n",
      "isTopping: False\n",
      "isQuantity: False\n",
      "Word: \"pas\" -> \"pa\" not in vocab\n",
      "isPersonalPronoun: False\n",
      "isNumber: False\n",
      "isTopping: False\n",
      "isQuantity: False\n",
      "Word: \"cabbage\" -> \"cabbag\" not in vocab\n",
      "isPersonalPronoun: False\n",
      "isNumber: False\n",
      "isTopping: False\n",
      "isQuantity: False\n",
      "Word: \"cabbage\" -> \"cabbag\" not in vocab\n",
      "isPersonalPronoun: False\n",
      "isNumber: False\n",
      "isTopping: False\n",
      "isQuantity: False\n",
      "Word: \"prawns\" -> \"prawn\" not in vocab\n",
      "isPersonalPronoun: False\n",
      "isNumber: False\n",
      "isTopping: False\n",
      "isQuantity: False\n",
      "Word: \"prawns\" -> \"prawn\" not in vocab\n",
      "isPersonalPronoun: False\n",
      "isNumber: False\n",
      "isTopping: False\n",
      "isQuantity: False\n"
     ]
    },
    {
     "name": "stderr",
     "output_type": "stream",
     "text": [
      "writing results:  44%|████▍     | 1775/4000 [02:59<02:18, 16.09it/s]"
     ]
    },
    {
     "name": "stdout",
     "output_type": "stream",
     "text": [
      "Word: \"blue\" -> \"blue\" not in vocab\n",
      "isPersonalPronoun: False\n",
      "isNumber: False\n",
      "isTopping: False\n",
      "isQuantity: False\n",
      "Word: \"blue\" -> \"blue\" not in vocab\n",
      "isPersonalPronoun: False\n",
      "isNumber: False\n",
      "isTopping: False\n",
      "isQuantity: False\n",
      "Word: \"opt\" -> \"opt\" not in vocab\n",
      "isPersonalPronoun: False\n",
      "isNumber: False\n",
      "isTopping: False\n",
      "isQuantity: False\n"
     ]
    },
    {
     "name": "stderr",
     "output_type": "stream",
     "text": [
      "writing results:  44%|████▍     | 1778/4000 [02:59<03:06, 11.90it/s]"
     ]
    },
    {
     "name": "stdout",
     "output_type": "stream",
     "text": [
      "Word: \"lamb\" -> \"lamb\" not in vocab\n",
      "isPersonalPronoun: False\n",
      "isNumber: False\n",
      "isTopping: False\n",
      "isQuantity: False\n",
      "Word: \"frit\" -> \"frit\" not in vocab\n",
      "isPersonalPronoun: False\n",
      "isNumber: False\n",
      "isTopping: False\n",
      "isQuantity: False\n",
      "Word: \"punch\" -> \"punch\" not in vocab\n",
      "isPersonalPronoun: False\n",
      "isNumber: False\n",
      "isTopping: False\n",
      "isQuantity: False\n",
      "Word: \"lamb\" -> \"lamb\" not in vocab\n",
      "isPersonalPronoun: False\n",
      "isNumber: False\n",
      "isTopping: False\n",
      "isQuantity: False\n",
      "Word: \"frit\" -> \"frit\" not in vocab\n",
      "isPersonalPronoun: False\n",
      "isNumber: False\n",
      "isTopping: False\n",
      "isQuantity: False\n",
      "Word: \"punch\" -> \"punch\" not in vocab\n",
      "isPersonalPronoun: False\n",
      "isNumber: False\n",
      "isTopping: False\n",
      "isQuantity: False\n"
     ]
    },
    {
     "name": "stderr",
     "output_type": "stream",
     "text": [
      "writing results:  45%|████▍     | 1783/4000 [03:00<02:34, 14.38it/s]"
     ]
    },
    {
     "name": "stdout",
     "output_type": "stream",
     "text": [
      "Word: \"will try\" -> \"will tri\" not in vocab\n",
      "isPersonalPronoun: False\n",
      "isNumber: False\n",
      "isTopping: False\n",
      "isQuantity: False\n",
      "Word: \"chard\" -> \"chard\" not in vocab\n",
      "isPersonalPronoun: False\n",
      "isNumber: False\n",
      "isTopping: False\n",
      "isQuantity: False\n",
      "Word: \"chard\" -> \"chard\" not in vocab\n",
      "isPersonalPronoun: False\n",
      "isNumber: False\n",
      "isTopping: False\n",
      "isQuantity: False\n"
     ]
    },
    {
     "name": "stderr",
     "output_type": "stream",
     "text": [
      "writing results:  45%|████▍     | 1785/4000 [03:00<02:58, 12.41it/s]"
     ]
    },
    {
     "name": "stdout",
     "output_type": "stream",
     "text": [
      "Word: \"leaning\" -> \"lean\" not in vocab\n",
      "isPersonalPronoun: False\n",
      "isNumber: False\n",
      "isTopping: False\n",
      "isQuantity: False\n",
      "Word: \"toward\" -> \"toward\" not in vocab\n",
      "isPersonalPronoun: False\n",
      "isNumber: False\n",
      "isTopping: False\n",
      "isQuantity: False\n",
      "Word: \"mint\" -> \"mint\" not in vocab\n",
      "isPersonalPronoun: False\n",
      "isNumber: False\n",
      "isTopping: False\n",
      "isQuantity: False\n",
      "Word: \"mint\" -> \"mint\" not in vocab\n",
      "isPersonalPronoun: False\n",
      "isNumber: False\n",
      "isTopping: False\n",
      "isQuantity: False\n",
      "Word: \"cabbage\" -> \"cabbag\" not in vocab\n",
      "isPersonalPronoun: False\n",
      "isNumber: False\n",
      "isTopping: False\n",
      "isQuantity: False\n",
      "Word: \"cabbage\" -> \"cabbag\" not in vocab\n",
      "isPersonalPronoun: False\n",
      "isNumber: False\n",
      "isTopping: False\n",
      "isQuantity: False\n",
      "Word: \"prawns\" -> \"prawn\" not in vocab\n",
      "isPersonalPronoun: False\n",
      "isNumber: False\n",
      "isTopping: False\n",
      "isQuantity: False\n",
      "Word: \"prawns\" -> \"prawn\" not in vocab\n",
      "isPersonalPronoun: False\n",
      "isNumber: False\n",
      "isTopping: False\n",
      "isQuantity: False\n"
     ]
    },
    {
     "name": "stderr",
     "output_type": "stream",
     "text": [
      "writing results:  45%|████▍     | 1787/4000 [03:00<03:04, 12.00it/s]"
     ]
    },
    {
     "name": "stdout",
     "output_type": "stream",
     "text": [
      "Word: \"grabbing\" -> \"grab\" not in vocab\n",
      "isPersonalPronoun: False\n",
      "isNumber: False\n",
      "isTopping: False\n",
      "isQuantity: False\n",
      "Word: \"herbal\" -> \"herbal\" not in vocab\n",
      "isPersonalPronoun: False\n",
      "isNumber: False\n",
      "isTopping: False\n",
      "isQuantity: False\n",
      "Word: \"herbal\" -> \"herbal\" not in vocab\n",
      "isPersonalPronoun: False\n",
      "isNumber: False\n",
      "isTopping: False\n",
      "isQuantity: False\n",
      "Word: \"poppy\" -> \"poppi\" not in vocab\n",
      "isPersonalPronoun: False\n",
      "isNumber: False\n",
      "isTopping: False\n",
      "isQuantity: False\n",
      "Word: \"seeds\" -> \"seed\" not in vocab\n",
      "isPersonalPronoun: False\n",
      "isNumber: False\n",
      "isTopping: False\n",
      "isQuantity: False\n"
     ]
    },
    {
     "name": "stderr",
     "output_type": "stream",
     "text": [
      "writing results:  45%|████▍     | 1790/4000 [03:00<02:52, 12.78it/s]"
     ]
    },
    {
     "name": "stdout",
     "output_type": "stream",
     "text": [
      "Word: \"poppy\" -> \"poppi\" not in vocab\n",
      "isPersonalPronoun: False\n",
      "isNumber: False\n",
      "isTopping: False\n",
      "isQuantity: False\n",
      "Word: \"seeds\" -> \"seed\" not in vocab\n",
      "isPersonalPronoun: False\n",
      "isNumber: False\n",
      "isTopping: False\n",
      "isQuantity: False\n",
      "Word: \"poppy\" -> \"poppi\" not in vocab\n",
      "isPersonalPronoun: False\n",
      "isNumber: False\n",
      "isTopping: False\n",
      "isQuantity: False\n",
      "Word: \"seeds\" -> \"seed\" not in vocab\n",
      "isPersonalPronoun: False\n",
      "isNumber: False\n",
      "isTopping: False\n",
      "isQuantity: False\n"
     ]
    },
    {
     "name": "stderr",
     "output_type": "stream",
     "text": [
      "writing results:  45%|████▍     | 1795/4000 [03:01<02:41, 13.68it/s]"
     ]
    },
    {
     "name": "stdout",
     "output_type": "stream",
     "text": [
      "Word: \"poppy\" -> \"poppi\" not in vocab\n",
      "isPersonalPronoun: False\n",
      "isNumber: False\n",
      "isTopping: False\n",
      "isQuantity: False\n",
      "Word: \"seeds\" -> \"seed\" not in vocab\n",
      "isPersonalPronoun: False\n",
      "isNumber: False\n",
      "isTopping: False\n",
      "isQuantity: False\n",
      "Word: \"cabbage\" -> \"cabbag\" not in vocab\n",
      "isPersonalPronoun: False\n",
      "isNumber: False\n",
      "isTopping: False\n",
      "isQuantity: False\n",
      "Word: \"cabbage\" -> \"cabbag\" not in vocab\n",
      "isPersonalPronoun: False\n",
      "isNumber: False\n",
      "isTopping: False\n",
      "isQuantity: False\n"
     ]
    },
    {
     "name": "stderr",
     "output_type": "stream",
     "text": [
      "writing results:  45%|████▌     | 1800/4000 [03:01<02:28, 14.80it/s]"
     ]
    },
    {
     "name": "stdout",
     "output_type": "stream",
     "text": [
      "Word: \"humus\" -> \"humu\" not in vocab\n",
      "isPersonalPronoun: False\n",
      "isNumber: False\n",
      "isTopping: False\n",
      "isQuantity: False\n",
      "Word: \"settle\" -> \"settl\" not in vocab\n",
      "isPersonalPronoun: False\n",
      "isNumber: False\n",
      "isTopping: False\n",
      "isQuantity: False\n"
     ]
    },
    {
     "name": "stderr",
     "output_type": "stream",
     "text": [
      "writing results:  45%|████▌     | 1812/4000 [03:01<01:46, 20.54it/s]"
     ]
    },
    {
     "name": "stdout",
     "output_type": "stream",
     "text": [
      "Word: \"gruyeres\" -> \"gruyer\" not in vocab\n",
      "isPersonalPronoun: False\n",
      "isNumber: False\n",
      "isTopping: False\n",
      "isQuantity: False\n",
      "Word: \"gruyeres\" -> \"gruyer\" not in vocab\n",
      "isPersonalPronoun: False\n",
      "isNumber: False\n",
      "isTopping: False\n",
      "isQuantity: False\n",
      "Word: \"cucumber\" -> \"cucumb\" not in vocab\n",
      "isPersonalPronoun: False\n",
      "isNumber: False\n",
      "isTopping: False\n",
      "isQuantity: False\n",
      "Word: \"cucumber\" -> \"cucumb\" not in vocab\n",
      "isPersonalPronoun: False\n",
      "isNumber: False\n",
      "isTopping: False\n",
      "isQuantity: False\n",
      "Word: \"sirach\" -> \"sirach\" not in vocab\n",
      "isPersonalPronoun: False\n",
      "isNumber: False\n",
      "isTopping: False\n",
      "isQuantity: False\n",
      "Word: \"goat\" -> \"goat\" not in vocab\n",
      "isPersonalPronoun: False\n",
      "isNumber: False\n",
      "isTopping: False\n",
      "isQuantity: False\n",
      "Word: \"kimchi\" -> \"kimchi\" not in vocab\n",
      "isPersonalPronoun: False\n",
      "isNumber: False\n",
      "isTopping: False\n",
      "isQuantity: False\n"
     ]
    },
    {
     "name": "stderr",
     "output_type": "stream",
     "text": [
      "writing results:  45%|████▌     | 1815/4000 [03:02<04:54,  7.41it/s]"
     ]
    },
    {
     "name": "stdout",
     "output_type": "stream",
     "text": [
      "Word: \"sirach\" -> \"sirach\" not in vocab\n",
      "isPersonalPronoun: False\n",
      "isNumber: False\n",
      "isTopping: False\n",
      "isQuantity: False\n",
      "Word: \"goat\" -> \"goat\" not in vocab\n",
      "isPersonalPronoun: False\n",
      "isNumber: False\n",
      "isTopping: False\n",
      "isQuantity: False\n",
      "Word: \"kimchi\" -> \"kimchi\" not in vocab\n",
      "isPersonalPronoun: False\n",
      "isNumber: False\n",
      "isTopping: False\n",
      "isQuantity: False\n",
      "Word: \"lamb\" -> \"lamb\" not in vocab\n",
      "isPersonalPronoun: False\n",
      "isNumber: False\n",
      "isTopping: False\n",
      "isQuantity: False\n",
      "Word: \"cabbage\" -> \"cabbag\" not in vocab\n",
      "isPersonalPronoun: False\n",
      "isNumber: False\n",
      "isTopping: False\n",
      "isQuantity: False\n"
     ]
    },
    {
     "name": "stderr",
     "output_type": "stream",
     "text": [
      "writing results:  46%|████▌     | 1820/4000 [03:03<03:27, 10.52it/s]"
     ]
    },
    {
     "name": "stdout",
     "output_type": "stream",
     "text": [
      "Word: \"cabbage\" -> \"cabbag\" not in vocab\n",
      "isPersonalPronoun: False\n",
      "isNumber: False\n",
      "isTopping: False\n",
      "isQuantity: False\n",
      "Word: \"opt\" -> \"opt\" not in vocab\n",
      "isPersonalPronoun: False\n",
      "isNumber: False\n",
      "isTopping: False\n",
      "isQuantity: False\n",
      "Word: \"sparkling\" -> \"sparkl\" not in vocab\n",
      "isPersonalPronoun: False\n",
      "isNumber: False\n",
      "isTopping: False\n",
      "isQuantity: False\n",
      "Word: \"sparkling\" -> \"sparkl\" not in vocab\n",
      "isPersonalPronoun: False\n",
      "isNumber: False\n",
      "isTopping: False\n",
      "isQuantity: False\n",
      "Word: \"roasted red\" -> \"roasted r\" not in vocab\n",
      "isPersonalPronoun: False\n",
      "isNumber: False\n",
      "isTopping: False\n",
      "isQuantity: False\n"
     ]
    },
    {
     "name": "stderr",
     "output_type": "stream",
     "text": [
      "writing results:  46%|████▌     | 1823/4000 [03:03<03:31, 10.31it/s]"
     ]
    },
    {
     "name": "stdout",
     "output_type": "stream",
     "text": [
      "Word: \"roasted red\" -> \"roasted r\" not in vocab\n",
      "isPersonalPronoun: False\n",
      "isNumber: False\n",
      "isTopping: False\n",
      "isQuantity: False\n",
      "Word: \"ET\" -> \"et\" not in vocab\n",
      "isPersonalPronoun: False\n",
      "isNumber: False\n",
      "isTopping: False\n",
      "isQuantity: False\n",
      "Word: \"sirach\" -> \"sirach\" not in vocab\n",
      "isPersonalPronoun: False\n",
      "isNumber: False\n",
      "isTopping: False\n",
      "isQuantity: False\n"
     ]
    },
    {
     "name": "stderr",
     "output_type": "stream",
     "text": [
      "writing results:  46%|████▌     | 1827/4000 [03:04<05:32,  6.53it/s]"
     ]
    },
    {
     "name": "stdout",
     "output_type": "stream",
     "text": [
      "Word: \"sirach\" -> \"sirach\" not in vocab\n",
      "isPersonalPronoun: False\n",
      "isNumber: False\n",
      "isTopping: False\n",
      "isQuantity: False\n",
      "Word: \"opting\" -> \"opt\" not in vocab\n",
      "isPersonalPronoun: False\n",
      "isNumber: False\n",
      "isTopping: False\n",
      "isQuantity: False\n",
      "Word: \"sweet\" -> \"sweet\" not in vocab\n",
      "isPersonalPronoun: False\n",
      "isNumber: False\n",
      "isTopping: False\n",
      "isQuantity: False\n",
      "Word: \"sweet\" -> \"sweet\" not in vocab\n",
      "isPersonalPronoun: False\n",
      "isNumber: False\n",
      "isTopping: False\n",
      "isQuantity: False\n"
     ]
    },
    {
     "name": "stderr",
     "output_type": "stream",
     "text": [
      "writing results:  46%|████▌     | 1831/4000 [03:04<04:08,  8.72it/s]"
     ]
    },
    {
     "name": "stdout",
     "output_type": "stream",
     "text": [
      "Word: \"lamb\" -> \"lamb\" not in vocab\n",
      "isPersonalPronoun: False\n",
      "isNumber: False\n",
      "isTopping: False\n",
      "isQuantity: False\n",
      "Word: \"lamb\" -> \"lamb\" not in vocab\n",
      "isPersonalPronoun: False\n",
      "isNumber: False\n",
      "isTopping: False\n",
      "isQuantity: False\n",
      "Word: \"zest\" -> \"zest\" not in vocab\n",
      "isPersonalPronoun: False\n",
      "isNumber: False\n",
      "isTopping: False\n",
      "isQuantity: False\n",
      "Word: \"zest\" -> \"zest\" not in vocab\n",
      "isPersonalPronoun: False\n",
      "isNumber: False\n",
      "isTopping: False\n",
      "isQuantity: False\n"
     ]
    },
    {
     "name": "stderr",
     "output_type": "stream",
     "text": [
      "writing results:  46%|████▌     | 1833/4000 [03:04<03:50,  9.42it/s]"
     ]
    },
    {
     "name": "stdout",
     "output_type": "stream",
     "text": [
      "Word: \"tonic\" -> \"tonic\" not in vocab\n",
      "isPersonalPronoun: False\n",
      "isNumber: False\n",
      "isTopping: False\n",
      "isQuantity: False\n",
      "Word: \"tonic\" -> \"tonic\" not in vocab\n",
      "isPersonalPronoun: False\n",
      "isNumber: False\n",
      "isTopping: False\n",
      "isQuantity: False\n",
      "Word: \"lamb\" -> \"lamb\" not in vocab\n",
      "isPersonalPronoun: False\n",
      "isNumber: False\n",
      "isTopping: False\n",
      "isQuantity: False\n"
     ]
    },
    {
     "name": "stderr",
     "output_type": "stream",
     "text": [
      "writing results:  46%|████▌     | 1846/4000 [03:05<01:54, 18.81it/s]"
     ]
    },
    {
     "name": "stdout",
     "output_type": "stream",
     "text": [
      "Word: \"prefer to\" -> \"prefer to\" not in vocab\n",
      "isPersonalPronoun: False\n",
      "isNumber: False\n",
      "isTopping: False\n",
      "isQuantity: False\n",
      "Word: \"almond\" -> \"almond\" not in vocab\n",
      "isPersonalPronoun: False\n",
      "isNumber: False\n",
      "isTopping: False\n",
      "isQuantity: False\n",
      "Word: \"almond\" -> \"almond\" not in vocab\n",
      "isPersonalPronoun: False\n",
      "isNumber: False\n",
      "isTopping: False\n",
      "isQuantity: False\n",
      "Word: \"footing\" -> \"foot\" not in vocab\n",
      "isPersonalPronoun: False\n",
      "isNumber: False\n",
      "isTopping: False\n",
      "isQuantity: True\n"
     ]
    },
    {
     "name": "stderr",
     "output_type": "stream",
     "text": [
      "writing results:  46%|████▌     | 1849/4000 [03:06<04:18,  8.31it/s]"
     ]
    },
    {
     "name": "stdout",
     "output_type": "stream",
     "text": [
      "Word: \"footing\" -> \"foot\" not in vocab\n",
      "isPersonalPronoun: False\n",
      "isNumber: False\n",
      "isTopping: False\n",
      "isQuantity: True\n",
      "Word: \"time\" -> \"time\" not in vocab\n",
      "isPersonalPronoun: False\n",
      "isNumber: False\n",
      "isTopping: False\n",
      "isQuantity: False\n",
      "Word: \"hummus\" -> \"hummu\" not in vocab\n",
      "isPersonalPronoun: False\n",
      "isNumber: False\n",
      "isTopping: False\n",
      "isQuantity: False\n",
      "Word: \"hummus\" -> \"hummu\" not in vocab\n",
      "isPersonalPronoun: False\n",
      "isNumber: False\n",
      "isTopping: False\n",
      "isQuantity: False\n",
      "Word: \"decide on\" -> \"decide on\" not in vocab\n",
      "isPersonalPronoun: False\n",
      "isNumber: False\n",
      "isTopping: False\n",
      "isQuantity: False\n"
     ]
    },
    {
     "name": "stderr",
     "output_type": "stream",
     "text": [
      "writing results:  46%|████▋     | 1852/4000 [03:06<03:37,  9.89it/s]"
     ]
    },
    {
     "name": "stdout",
     "output_type": "stream",
     "text": [
      "Word: \"go with\" -> \"go with\" not in vocab\n",
      "isPersonalPronoun: False\n",
      "isNumber: False\n",
      "isTopping: False\n",
      "isQuantity: False\n",
      "Word: \"stick\" -> \"stick\" not in vocab\n",
      "isPersonalPronoun: False\n",
      "isNumber: False\n",
      "isTopping: False\n",
      "isQuantity: False\n",
      "Word: \"gruyeres\" -> \"gruyer\" not in vocab\n",
      "isPersonalPronoun: False\n",
      "isNumber: False\n",
      "isTopping: False\n",
      "isQuantity: False\n"
     ]
    },
    {
     "name": "stderr",
     "output_type": "stream",
     "text": [
      "writing results:  46%|████▋     | 1856/4000 [03:06<03:37,  9.86it/s]"
     ]
    },
    {
     "name": "stdout",
     "output_type": "stream",
     "text": [
      "Word: \"gruyeres\" -> \"gruyer\" not in vocab\n",
      "isPersonalPronoun: False\n",
      "isNumber: False\n",
      "isTopping: False\n",
      "isQuantity: False\n",
      "Word: \"mango\" -> \"mango\" not in vocab\n",
      "isPersonalPronoun: False\n",
      "isNumber: False\n",
      "isTopping: True\n",
      "isQuantity: False\n",
      "Word: \"juice\" -> \"juic\" not in vocab\n",
      "isPersonalPronoun: False\n",
      "isNumber: False\n",
      "isTopping: False\n",
      "isQuantity: False\n",
      "Word: \"mango\" -> \"mango\" not in vocab\n",
      "isPersonalPronoun: False\n",
      "isNumber: False\n",
      "isTopping: True\n",
      "isQuantity: False\n",
      "Word: \"juice\" -> \"juic\" not in vocab\n",
      "isPersonalPronoun: False\n",
      "isNumber: False\n",
      "isTopping: False\n",
      "isQuantity: False\n"
     ]
    },
    {
     "name": "stderr",
     "output_type": "stream",
     "text": [
      "writing results:  46%|████▋     | 1859/4000 [03:07<03:00, 11.88it/s]"
     ]
    },
    {
     "name": "stdout",
     "output_type": "stream",
     "text": [
      "Word: \"tryout\" -> \"tryout\" not in vocab\n",
      "isPersonalPronoun: False\n",
      "isNumber: False\n",
      "isTopping: False\n",
      "isQuantity: False\n",
      "Word: \"flavored\" -> \"flavor\" not in vocab\n",
      "isPersonalPronoun: False\n",
      "isNumber: False\n",
      "isTopping: False\n",
      "isQuantity: False\n",
      "Word: \"flavored\" -> \"flavor\" not in vocab\n",
      "isPersonalPronoun: False\n",
      "isNumber: False\n",
      "isTopping: False\n",
      "isQuantity: False\n"
     ]
    },
    {
     "name": "stderr",
     "output_type": "stream",
     "text": [
      "writing results:  47%|████▋     | 1863/4000 [03:07<02:13, 16.01it/s]"
     ]
    },
    {
     "name": "stdout",
     "output_type": "stream",
     "text": [
      "Word: \"sarsaparilla\" -> \"sarsaparilla\" not in vocab\n",
      "isPersonalPronoun: False\n",
      "isNumber: False\n",
      "isTopping: False\n",
      "isQuantity: False\n",
      "Word: \"sarsaparilla\" -> \"sarsaparilla\" not in vocab\n",
      "isPersonalPronoun: False\n",
      "isNumber: False\n",
      "isTopping: False\n",
      "isQuantity: False\n"
     ]
    },
    {
     "name": "stderr",
     "output_type": "stream",
     "text": [
      "writing results:  47%|████▋     | 1868/4000 [03:07<02:23, 14.81it/s]"
     ]
    },
    {
     "name": "stdout",
     "output_type": "stream",
     "text": [
      "Word: \"large size\" -> \"large s\" not in vocab\n",
      "isPersonalPronoun: False\n",
      "isNumber: False\n",
      "isTopping: False\n",
      "isQuantity: False\n",
      "Word: \"smoked\" -> \"smoke\" not in vocab\n",
      "isPersonalPronoun: False\n",
      "isNumber: False\n",
      "isTopping: False\n",
      "isQuantity: False\n",
      "Word: \"salmon\" -> \"salmon\" not in vocab\n",
      "isPersonalPronoun: False\n",
      "isNumber: False\n",
      "isTopping: False\n",
      "isQuantity: False\n",
      "Word: \"large size\" -> \"large s\" not in vocab\n",
      "isPersonalPronoun: False\n",
      "isNumber: False\n",
      "isTopping: False\n",
      "isQuantity: False\n",
      "Word: \"smoked\" -> \"smoke\" not in vocab\n",
      "isPersonalPronoun: False\n",
      "isNumber: False\n",
      "isTopping: False\n",
      "isQuantity: False\n",
      "Word: \"salmon\" -> \"salmon\" not in vocab\n",
      "isPersonalPronoun: False\n",
      "isNumber: False\n",
      "isTopping: False\n",
      "isQuantity: False\n"
     ]
    },
    {
     "name": "stderr",
     "output_type": "stream",
     "text": [
      "writing results:  47%|████▋     | 1872/4000 [03:07<02:14, 15.77it/s]"
     ]
    },
    {
     "name": "stdout",
     "output_type": "stream",
     "text": [
      "Word: \"wouldlike\" -> \"wouldlik\" not in vocab\n",
      "isPersonalPronoun: False\n",
      "isNumber: False\n",
      "isTopping: False\n",
      "isQuantity: False\n",
      "Word: \"match\" -> \"match\" not in vocab\n",
      "isPersonalPronoun: False\n",
      "isNumber: False\n",
      "isTopping: False\n",
      "isQuantity: False\n",
      "Word: \"latte\" -> \"latt\" not in vocab\n",
      "isPersonalPronoun: False\n",
      "isNumber: False\n",
      "isTopping: False\n",
      "isQuantity: False\n",
      "Word: \"match\" -> \"match\" not in vocab\n",
      "isPersonalPronoun: False\n",
      "isNumber: False\n",
      "isTopping: False\n",
      "isQuantity: False\n",
      "Word: \"latte\" -> \"latt\" not in vocab\n",
      "isPersonalPronoun: False\n",
      "isNumber: False\n",
      "isTopping: False\n",
      "isQuantity: False\n",
      "Word: \"anted\" -> \"ant\" not in vocab\n",
      "isPersonalPronoun: False\n",
      "isNumber: False\n",
      "isTopping: False\n",
      "isQuantity: False\n",
      "Word: \"footing\" -> \"foot\" not in vocab\n",
      "isPersonalPronoun: False\n",
      "isNumber: False\n",
      "isTopping: False\n",
      "isQuantity: True\n"
     ]
    },
    {
     "name": "stderr",
     "output_type": "stream",
     "text": [
      "writing results:  47%|████▋     | 1874/4000 [03:09<09:06,  3.89it/s]"
     ]
    },
    {
     "name": "stdout",
     "output_type": "stream",
     "text": [
      "Word: \"footing\" -> \"foot\" not in vocab\n",
      "isPersonalPronoun: False\n",
      "isNumber: False\n",
      "isTopping: False\n",
      "isQuantity: True\n",
      "Word: \"footing\" -> \"foot\" not in vocab\n",
      "isPersonalPronoun: False\n",
      "isNumber: False\n",
      "isTopping: False\n",
      "isQuantity: True\n"
     ]
    },
    {
     "name": "stderr",
     "output_type": "stream",
     "text": [
      "writing results:  47%|████▋     | 1876/4000 [03:10<10:42,  3.31it/s]"
     ]
    },
    {
     "name": "stdout",
     "output_type": "stream",
     "text": [
      "Word: \"footing\" -> \"foot\" not in vocab\n",
      "isPersonalPronoun: False\n",
      "isNumber: False\n",
      "isTopping: False\n",
      "isQuantity: True\n",
      "Word: \"sarsaparilla\" -> \"sarsaparilla\" not in vocab\n",
      "isPersonalPronoun: False\n",
      "isNumber: False\n",
      "isTopping: False\n",
      "isQuantity: False\n",
      "Word: \"sarsaparilla\" -> \"sarsaparilla\" not in vocab\n",
      "isPersonalPronoun: False\n",
      "isNumber: False\n",
      "isTopping: False\n",
      "isQuantity: False\n"
     ]
    },
    {
     "name": "stderr",
     "output_type": "stream",
     "text": [
      "writing results:  47%|████▋     | 1879/4000 [03:10<07:49,  4.51it/s]"
     ]
    },
    {
     "name": "stdout",
     "output_type": "stream",
     "text": [
      "Word: \"kimchi\" -> \"kimchi\" not in vocab\n",
      "isPersonalPronoun: False\n",
      "isNumber: False\n",
      "isTopping: False\n",
      "isQuantity: False\n",
      "Word: \"kimchi\" -> \"kimchi\" not in vocab\n",
      "isPersonalPronoun: False\n",
      "isNumber: False\n",
      "isTopping: False\n",
      "isQuantity: False\n",
      "Word: \"median\" -> \"median\" not in vocab\n",
      "isPersonalPronoun: False\n",
      "isNumber: False\n",
      "isTopping: False\n",
      "isQuantity: False\n",
      "Word: \"median\" -> \"median\" not in vocab\n",
      "isPersonalPronoun: False\n",
      "isNumber: False\n",
      "isTopping: False\n",
      "isQuantity: False\n"
     ]
    },
    {
     "name": "stderr",
     "output_type": "stream",
     "text": [
      "writing results:  47%|████▋     | 1884/4000 [03:10<04:56,  7.13it/s]"
     ]
    },
    {
     "name": "stdout",
     "output_type": "stream",
     "text": [
      "Word: \"enjoy\" -> \"enjoy\" not in vocab\n",
      "isPersonalPronoun: False\n",
      "isNumber: False\n",
      "isTopping: False\n",
      "isQuantity: False\n",
      "Word: \"sweet\" -> \"sweet\" not in vocab\n",
      "isPersonalPronoun: False\n",
      "isNumber: False\n",
      "isTopping: False\n",
      "isQuantity: False\n",
      "Word: \"sweet\" -> \"sweet\" not in vocab\n",
      "isPersonalPronoun: False\n",
      "isNumber: False\n",
      "isTopping: False\n",
      "isQuantity: False\n",
      "Word: \"kimchi\" -> \"kimchi\" not in vocab\n",
      "isPersonalPronoun: False\n",
      "isNumber: False\n",
      "isTopping: False\n",
      "isQuantity: False\n",
      "Word: \"sirach\" -> \"sirach\" not in vocab\n",
      "isPersonalPronoun: False\n",
      "isNumber: False\n",
      "isTopping: False\n",
      "isQuantity: False\n",
      "Word: \"gruyerecheese\" -> \"gruyerechees\" not in vocab\n",
      "isPersonalPronoun: False\n",
      "isNumber: False\n",
      "isTopping: False\n",
      "isQuantity: False\n"
     ]
    },
    {
     "name": "stderr",
     "output_type": "stream",
     "text": [
      "writing results:  47%|████▋     | 1886/4000 [03:14<18:56,  1.86it/s]"
     ]
    },
    {
     "name": "stdout",
     "output_type": "stream",
     "text": [
      "Word: \"sirach\" -> \"sirach\" not in vocab\n",
      "isPersonalPronoun: False\n",
      "isNumber: False\n",
      "isTopping: False\n",
      "isQuantity: False\n",
      "Word: \"gruyerecheese\" -> \"gruyerechees\" not in vocab\n",
      "isPersonalPronoun: False\n",
      "isNumber: False\n",
      "isTopping: False\n",
      "isQuantity: False\n",
      "Word: \"grazing\" -> \"graze\" not in vocab\n",
      "isPersonalPronoun: False\n",
      "isNumber: False\n",
      "isTopping: False\n",
      "isQuantity: False\n",
      "Word: \"duck\" -> \"duck\" not in vocab\n",
      "isPersonalPronoun: False\n",
      "isNumber: False\n",
      "isTopping: False\n",
      "isQuantity: False\n",
      "Word: \"duck\" -> \"duck\" not in vocab\n",
      "isPersonalPronoun: False\n",
      "isNumber: False\n",
      "isTopping: False\n",
      "isQuantity: False\n",
      "Word: \"goat\" -> \"goat\" not in vocab\n",
      "isPersonalPronoun: False\n",
      "isNumber: False\n",
      "isTopping: False\n",
      "isQuantity: False\n"
     ]
    },
    {
     "name": "stderr",
     "output_type": "stream",
     "text": [
      "writing results:  47%|████▋     | 1888/4000 [03:14<14:54,  2.36it/s]"
     ]
    },
    {
     "name": "stdout",
     "output_type": "stream",
     "text": [
      "Word: \"goat\" -> \"goat\" not in vocab\n",
      "isPersonalPronoun: False\n",
      "isNumber: False\n",
      "isTopping: False\n",
      "isQuantity: False\n",
      "Word: \"duck\" -> \"duck\" not in vocab\n",
      "isPersonalPronoun: False\n",
      "isNumber: False\n",
      "isTopping: False\n",
      "isQuantity: False\n",
      "Word: \"duck\" -> \"duck\" not in vocab\n",
      "isPersonalPronoun: False\n",
      "isNumber: False\n",
      "isTopping: False\n",
      "isQuantity: False\n",
      "Word: \"leeks\" -> \"leek\" not in vocab\n",
      "isPersonalPronoun: False\n",
      "isNumber: False\n",
      "isTopping: True\n",
      "isQuantity: False\n"
     ]
    },
    {
     "name": "stderr",
     "output_type": "stream",
     "text": [
      "writing results:  47%|████▋     | 1892/4000 [03:14<09:05,  3.86it/s]"
     ]
    },
    {
     "name": "stdout",
     "output_type": "stream",
     "text": [
      "Word: \"leeks\" -> \"leek\" not in vocab\n",
      "isPersonalPronoun: False\n",
      "isNumber: False\n",
      "isTopping: True\n",
      "isQuantity: False\n",
      "Word: \"HAE\" -> \"hae\" not in vocab\n",
      "isPersonalPronoun: False\n",
      "isNumber: False\n",
      "isTopping: False\n",
      "isQuantity: False\n",
      "Word: \"mushy\" -> \"mushi\" not in vocab\n",
      "isPersonalPronoun: False\n",
      "isNumber: False\n",
      "isTopping: False\n",
      "isQuantity: False\n",
      "Word: \"mushy\" -> \"mushi\" not in vocab\n",
      "isPersonalPronoun: False\n",
      "isNumber: False\n",
      "isTopping: False\n",
      "isQuantity: False\n"
     ]
    },
    {
     "name": "stderr",
     "output_type": "stream",
     "text": [
      "writing results:  47%|████▋     | 1899/4000 [03:15<04:24,  7.94it/s]"
     ]
    },
    {
     "name": "stdout",
     "output_type": "stream",
     "text": [
      "Word: \"mango\" -> \"mango\" not in vocab\n",
      "isPersonalPronoun: False\n",
      "isNumber: False\n",
      "isTopping: True\n",
      "isQuantity: False\n",
      "Word: \"juice\" -> \"juic\" not in vocab\n",
      "isPersonalPronoun: False\n",
      "isNumber: False\n",
      "isTopping: False\n",
      "isQuantity: False\n",
      "Word: \"mango\" -> \"mango\" not in vocab\n",
      "isPersonalPronoun: False\n",
      "isNumber: False\n",
      "isTopping: True\n",
      "isQuantity: False\n",
      "Word: \"juice\" -> \"juic\" not in vocab\n",
      "isPersonalPronoun: False\n",
      "isNumber: False\n",
      "isTopping: False\n",
      "isQuantity: False\n",
      "Word: \"poppy\" -> \"poppi\" not in vocab\n",
      "isPersonalPronoun: False\n",
      "isNumber: False\n",
      "isTopping: False\n",
      "isQuantity: False\n",
      "Word: \"seeds\" -> \"seed\" not in vocab\n",
      "isPersonalPronoun: False\n",
      "isNumber: False\n",
      "isTopping: False\n",
      "isQuantity: False\n"
     ]
    },
    {
     "name": "stderr",
     "output_type": "stream",
     "text": [
      "writing results:  48%|████▊     | 1903/4000 [03:15<03:54,  8.96it/s]"
     ]
    },
    {
     "name": "stdout",
     "output_type": "stream",
     "text": [
      "Word: \"poppy\" -> \"poppi\" not in vocab\n",
      "isPersonalPronoun: False\n",
      "isNumber: False\n",
      "isTopping: False\n",
      "isQuantity: False\n",
      "Word: \"seeds\" -> \"seed\" not in vocab\n",
      "isPersonalPronoun: False\n",
      "isNumber: False\n",
      "isTopping: False\n",
      "isQuantity: False\n",
      "Word: \"zest\" -> \"zest\" not in vocab\n",
      "isPersonalPronoun: False\n",
      "isNumber: False\n",
      "isTopping: False\n",
      "isQuantity: False\n",
      "Word: \"zest\" -> \"zest\" not in vocab\n",
      "isPersonalPronoun: False\n",
      "isNumber: False\n",
      "isTopping: False\n",
      "isQuantity: False\n",
      "Word: \"hummus\" -> \"hummu\" not in vocab\n",
      "isPersonalPronoun: False\n",
      "isNumber: False\n",
      "isTopping: False\n",
      "isQuantity: False\n",
      "Word: \"tree\" -> \"tree\" not in vocab\n",
      "isPersonalPronoun: False\n",
      "isNumber: False\n",
      "isTopping: False\n",
      "isQuantity: False\n"
     ]
    },
    {
     "name": "stderr",
     "output_type": "stream",
     "text": [
      "writing results:  48%|████▊     | 1905/4000 [03:15<03:35,  9.70it/s]"
     ]
    },
    {
     "name": "stdout",
     "output_type": "stream",
     "text": [
      "Word: \"happy\" -> \"happi\" not in vocab\n",
      "isPersonalPronoun: False\n",
      "isNumber: False\n",
      "isTopping: False\n",
      "isQuantity: False\n",
      "Word: \"kimchi\" -> \"kimchi\" not in vocab\n",
      "isPersonalPronoun: False\n",
      "isNumber: False\n",
      "isTopping: False\n",
      "isQuantity: False\n",
      "Word: \"kimchi\" -> \"kimchi\" not in vocab\n",
      "isPersonalPronoun: False\n",
      "isNumber: False\n",
      "isTopping: False\n",
      "isQuantity: False\n",
      "Word: \"ginger beer\" -> \"ginger b\" not in vocab\n",
      "isPersonalPronoun: False\n",
      "isNumber: False\n",
      "isTopping: False\n",
      "isQuantity: False\n",
      "Word: \"ginger beer\" -> \"ginger b\" not in vocab\n",
      "isPersonalPronoun: False\n",
      "isNumber: False\n",
      "isTopping: False\n",
      "isQuantity: False\n",
      "Word: \"footing\" -> \"foot\" not in vocab\n",
      "isPersonalPronoun: False\n",
      "isNumber: False\n",
      "isTopping: False\n",
      "isQuantity: True\n"
     ]
    },
    {
     "name": "stderr",
     "output_type": "stream",
     "text": [
      "writing results:  48%|████▊     | 1912/4000 [03:16<03:36,  9.66it/s]"
     ]
    },
    {
     "name": "stdout",
     "output_type": "stream",
     "text": [
      "Word: \"footing\" -> \"foot\" not in vocab\n",
      "isPersonalPronoun: False\n",
      "isNumber: False\n",
      "isTopping: False\n",
      "isQuantity: True\n",
      "Word: \"opt\" -> \"opt\" not in vocab\n",
      "isPersonalPronoun: False\n",
      "isNumber: False\n",
      "isTopping: False\n",
      "isQuantity: False\n",
      "Word: \"settle\" -> \"settl\" not in vocab\n",
      "isPersonalPronoun: False\n",
      "isNumber: False\n",
      "isTopping: False\n",
      "isQuantity: False\n"
     ]
    },
    {
     "name": "stderr",
     "output_type": "stream",
     "text": [
      "writing results:  48%|████▊     | 1915/4000 [03:16<03:11, 10.90it/s]"
     ]
    },
    {
     "name": "stdout",
     "output_type": "stream",
     "text": [
      "Word: \"pop\" -> \"pop\" not in vocab\n",
      "isPersonalPronoun: False\n",
      "isNumber: False\n",
      "isTopping: False\n",
      "isQuantity: False\n",
      "Word: \"seeds\" -> \"seed\" not in vocab\n",
      "isPersonalPronoun: False\n",
      "isNumber: False\n",
      "isTopping: False\n",
      "isQuantity: False\n",
      "Word: \"seeds\" -> \"seed\" not in vocab\n",
      "isPersonalPronoun: False\n",
      "isNumber: False\n",
      "isTopping: False\n",
      "isQuantity: False\n",
      "Word: \"heavy\" -> \"heavi\" not in vocab\n",
      "isPersonalPronoun: False\n",
      "isNumber: False\n",
      "isTopping: False\n",
      "isQuantity: False\n",
      "Word: \"heavy\" -> \"heavi\" not in vocab\n",
      "isPersonalPronoun: False\n",
      "isNumber: False\n",
      "isTopping: False\n",
      "isQuantity: False\n"
     ]
    },
    {
     "name": "stderr",
     "output_type": "stream",
     "text": [
      "writing results:  48%|████▊     | 1918/4000 [03:16<02:40, 12.95it/s]"
     ]
    },
    {
     "name": "stdout",
     "output_type": "stream",
     "text": [
      "Word: \"smoke\" -> \"smoke\" not in vocab\n",
      "isPersonalPronoun: False\n",
      "isNumber: False\n",
      "isTopping: False\n",
      "isQuantity: False\n",
      "Word: \"salmon\" -> \"salmon\" not in vocab\n",
      "isPersonalPronoun: False\n",
      "isNumber: False\n",
      "isTopping: False\n",
      "isQuantity: False\n",
      "Word: \"smoke\" -> \"smoke\" not in vocab\n",
      "isPersonalPronoun: False\n",
      "isNumber: False\n",
      "isTopping: False\n",
      "isQuantity: False\n",
      "Word: \"salmon\" -> \"salmon\" not in vocab\n",
      "isPersonalPronoun: False\n",
      "isNumber: False\n",
      "isTopping: False\n",
      "isQuantity: False\n",
      "Word: \"pleas\" -> \"plea\" not in vocab\n",
      "isPersonalPronoun: False\n",
      "isNumber: False\n",
      "isTopping: False\n",
      "isQuantity: False\n",
      "Word: \"kimchi\" -> \"kimchi\" not in vocab\n",
      "isPersonalPronoun: False\n",
      "isNumber: False\n",
      "isTopping: False\n",
      "isQuantity: False\n"
     ]
    },
    {
     "name": "stderr",
     "output_type": "stream",
     "text": [
      "writing results:  48%|████▊     | 1921/4000 [03:17<03:14, 10.72it/s]"
     ]
    },
    {
     "name": "stdout",
     "output_type": "stream",
     "text": [
      "Word: \"kimchi\" -> \"kimchi\" not in vocab\n",
      "isPersonalPronoun: False\n",
      "isNumber: False\n",
      "isTopping: False\n",
      "isQuantity: False\n",
      "Word: \"chard\" -> \"chard\" not in vocab\n",
      "isPersonalPronoun: False\n",
      "isNumber: False\n",
      "isTopping: False\n",
      "isQuantity: False\n",
      "Word: \"chard\" -> \"chard\" not in vocab\n",
      "isPersonalPronoun: False\n",
      "isNumber: False\n",
      "isTopping: False\n",
      "isQuantity: False\n"
     ]
    },
    {
     "name": "stderr",
     "output_type": "stream",
     "text": [
      "writing results:  48%|████▊     | 1927/4000 [03:17<02:26, 14.14it/s]"
     ]
    },
    {
     "name": "stdout",
     "output_type": "stream",
     "text": [
      "Word: \"card\" -> \"card\" not in vocab\n",
      "isPersonalPronoun: False\n",
      "isNumber: False\n",
      "isTopping: False\n",
      "isQuantity: False\n",
      "Word: \"card\" -> \"card\" not in vocab\n",
      "isPersonalPronoun: False\n",
      "isNumber: False\n",
      "isTopping: False\n",
      "isQuantity: False\n",
      "Word: \"time\" -> \"time\" not in vocab\n",
      "isPersonalPronoun: False\n",
      "isNumber: False\n",
      "isTopping: False\n",
      "isQuantity: False\n",
      "Word: \"kimchi\" -> \"kimchi\" not in vocab\n",
      "isPersonalPronoun: False\n",
      "isNumber: False\n",
      "isTopping: False\n",
      "isQuantity: False\n",
      "Word: \"kimchi\" -> \"kimchi\" not in vocab\n",
      "isPersonalPronoun: False\n",
      "isNumber: False\n",
      "isTopping: False\n",
      "isQuantity: False\n",
      "Word: \"poppy\" -> \"poppi\" not in vocab\n",
      "isPersonalPronoun: False\n",
      "isNumber: False\n",
      "isTopping: False\n",
      "isQuantity: False\n",
      "Word: \"seeds\" -> \"seed\" not in vocab\n",
      "isPersonalPronoun: False\n",
      "isNumber: False\n",
      "isTopping: False\n",
      "isQuantity: False\n",
      "Word: \"poppy\" -> \"poppi\" not in vocab\n",
      "isPersonalPronoun: False\n",
      "isNumber: False\n",
      "isTopping: False\n",
      "isQuantity: False\n",
      "Word: \"seeds\" -> \"seed\" not in vocab\n",
      "isPersonalPronoun: False\n",
      "isNumber: False\n",
      "isTopping: False\n",
      "isQuantity: False\n"
     ]
    },
    {
     "name": "stderr",
     "output_type": "stream",
     "text": [
      "writing results:  48%|████▊     | 1931/4000 [03:18<03:40,  9.38it/s]"
     ]
    },
    {
     "name": "stdout",
     "output_type": "stream",
     "text": [
      "Word: \"letsget\" -> \"letsget\" not in vocab\n",
      "isPersonalPronoun: False\n",
      "isNumber: False\n",
      "isTopping: False\n",
      "isQuantity: False\n",
      "Word: \"AR\" -> \"ar\" not in vocab\n",
      "isPersonalPronoun: False\n",
      "isNumber: False\n",
      "isTopping: False\n",
      "isQuantity: False\n",
      "Word: \"mint\" -> \"mint\" not in vocab\n",
      "isPersonalPronoun: False\n",
      "isNumber: False\n",
      "isTopping: False\n",
      "isQuantity: False\n",
      "Word: \"mint\" -> \"mint\" not in vocab\n",
      "isPersonalPronoun: False\n",
      "isNumber: False\n",
      "isTopping: False\n",
      "isQuantity: False\n"
     ]
    },
    {
     "name": "stderr",
     "output_type": "stream",
     "text": [
      "writing results:  48%|████▊     | 1933/4000 [03:18<03:11, 10.77it/s]"
     ]
    },
    {
     "name": "stdout",
     "output_type": "stream",
     "text": [
      "Word: \"heavy\" -> \"heavi\" not in vocab\n",
      "isPersonalPronoun: False\n",
      "isNumber: False\n",
      "isTopping: False\n",
      "isQuantity: False\n",
      "Word: \"heavy\" -> \"heavi\" not in vocab\n",
      "isPersonalPronoun: False\n",
      "isNumber: False\n",
      "isTopping: False\n",
      "isQuantity: False\n",
      "Word: \"hummus\" -> \"hummu\" not in vocab\n",
      "isPersonalPronoun: False\n",
      "isNumber: False\n",
      "isTopping: False\n",
      "isQuantity: False\n",
      "Word: \"hummus\" -> \"hummu\" not in vocab\n",
      "isPersonalPronoun: False\n",
      "isNumber: False\n",
      "isTopping: False\n",
      "isQuantity: False\n",
      "Word: \"macchiatos\" -> \"macchiato\" not in vocab\n",
      "isPersonalPronoun: False\n",
      "isNumber: False\n",
      "isTopping: False\n",
      "isQuantity: False\n"
     ]
    },
    {
     "name": "stderr",
     "output_type": "stream",
     "text": [
      "writing results:  48%|████▊     | 1937/4000 [03:19<06:39,  5.16it/s]"
     ]
    },
    {
     "name": "stdout",
     "output_type": "stream",
     "text": [
      "Word: \"macchiatos\" -> \"macchiato\" not in vocab\n",
      "isPersonalPronoun: False\n",
      "isNumber: False\n",
      "isTopping: False\n",
      "isQuantity: False\n",
      "Word: \"large size\" -> \"large s\" not in vocab\n",
      "isPersonalPronoun: False\n",
      "isNumber: False\n",
      "isTopping: False\n",
      "isQuantity: False\n",
      "Word: \"large size\" -> \"large s\" not in vocab\n",
      "isPersonalPronoun: False\n",
      "isNumber: False\n",
      "isTopping: False\n",
      "isQuantity: False\n"
     ]
    },
    {
     "name": "stderr",
     "output_type": "stream",
     "text": [
      "writing results:  48%|████▊     | 1940/4000 [03:20<04:48,  7.13it/s]"
     ]
    },
    {
     "name": "stdout",
     "output_type": "stream",
     "text": [
      "Word: \"fixing\" -> \"fix\" not in vocab\n",
      "isPersonalPronoun: False\n",
      "isNumber: False\n",
      "isTopping: False\n",
      "isQuantity: False\n",
      "Word: \"stick\" -> \"stick\" not in vocab\n",
      "isPersonalPronoun: False\n",
      "isNumber: False\n",
      "isTopping: False\n",
      "isQuantity: False\n",
      "Word: \"ginger ale\" -> \"ginger al\" not in vocab\n",
      "isPersonalPronoun: False\n",
      "isNumber: False\n",
      "isTopping: False\n",
      "isQuantity: False\n"
     ]
    },
    {
     "name": "stderr",
     "output_type": "stream",
     "text": [
      "writing results:  49%|████▊     | 1945/4000 [03:20<03:32,  9.65it/s]"
     ]
    },
    {
     "name": "stdout",
     "output_type": "stream",
     "text": [
      "Word: \"ginger ale\" -> \"ginger al\" not in vocab\n",
      "isPersonalPronoun: False\n",
      "isNumber: False\n",
      "isTopping: False\n",
      "isQuantity: False\n",
      "Word: \"lamb\" -> \"lamb\" not in vocab\n",
      "isPersonalPronoun: False\n",
      "isNumber: False\n",
      "isTopping: False\n",
      "isQuantity: False\n",
      "Word: \"lamb\" -> \"lamb\" not in vocab\n",
      "isPersonalPronoun: False\n",
      "isNumber: False\n",
      "isTopping: False\n",
      "isQuantity: False\n",
      "Word: \"June\" -> \"june\" not in vocab\n",
      "isPersonalPronoun: False\n",
      "isNumber: False\n",
      "isTopping: False\n",
      "isQuantity: False\n",
      "Word: \"dit\" -> \"dit\" not in vocab\n",
      "isPersonalPronoun: False\n",
      "isNumber: False\n",
      "isTopping: False\n",
      "isQuantity: False\n",
      "Word: \"dit\" -> \"dit\" not in vocab\n",
      "isPersonalPronoun: False\n",
      "isNumber: False\n",
      "isTopping: False\n",
      "isQuantity: False\n",
      "Word: \"dit\" -> \"dit\" not in vocab\n",
      "isPersonalPronoun: False\n",
      "isNumber: False\n",
      "isTopping: False\n",
      "isQuantity: False\n",
      "Word: \"dit\" -> \"dit\" not in vocab\n",
      "isPersonalPronoun: False\n",
      "isNumber: False\n",
      "isTopping: False\n",
      "isQuantity: False\n",
      "Word: \"dit\" -> \"dit\" not in vocab\n",
      "isPersonalPronoun: False\n",
      "isNumber: False\n",
      "isTopping: False\n",
      "isQuantity: False\n",
      "Word: \"dit\" -> \"dit\" not in vocab\n",
      "isPersonalPronoun: False\n",
      "isNumber: False\n",
      "isTopping: False\n",
      "isQuantity: False\n",
      "Word: \"dit\" -> \"dit\" not in vocab\n",
      "isPersonalPronoun: False\n",
      "isNumber: False\n",
      "isTopping: False\n",
      "isQuantity: False\n",
      "Word: \"dit\" -> \"dit\" not in vocab\n",
      "isPersonalPronoun: False\n",
      "isNumber: False\n",
      "isTopping: False\n",
      "isQuantity: False\n"
     ]
    },
    {
     "name": "stderr",
     "output_type": "stream",
     "text": [
      "writing results:  49%|████▊     | 1947/4000 [03:20<04:47,  7.13it/s]"
     ]
    },
    {
     "name": "stdout",
     "output_type": "stream",
     "text": [
      "Word: \"mint\" -> \"mint\" not in vocab\n",
      "isPersonalPronoun: False\n",
      "isNumber: False\n",
      "isTopping: False\n",
      "isQuantity: False\n",
      "Word: \"hummus\" -> \"hummu\" not in vocab\n",
      "isPersonalPronoun: False\n",
      "isNumber: False\n",
      "isTopping: False\n",
      "isQuantity: False\n",
      "Word: \"mint\" -> \"mint\" not in vocab\n",
      "isPersonalPronoun: False\n",
      "isNumber: False\n",
      "isTopping: False\n",
      "isQuantity: False\n",
      "Word: \"hummus\" -> \"hummu\" not in vocab\n",
      "isPersonalPronoun: False\n",
      "isNumber: False\n",
      "isTopping: False\n",
      "isQuantity: False\n",
      "Word: \"choose\" -> \"choos\" not in vocab\n",
      "isPersonalPronoun: False\n",
      "isNumber: False\n",
      "isTopping: False\n",
      "isQuantity: False\n"
     ]
    },
    {
     "name": "stderr",
     "output_type": "stream",
     "text": [
      "writing results:  49%|████▉     | 1951/4000 [03:21<03:39,  9.33it/s]"
     ]
    },
    {
     "name": "stdout",
     "output_type": "stream",
     "text": [
      "Word: \"fixing\" -> \"fix\" not in vocab\n",
      "isPersonalPronoun: False\n",
      "isNumber: False\n",
      "isTopping: False\n",
      "isQuantity: False\n",
      "Word: \"prawns\" -> \"prawn\" not in vocab\n",
      "isPersonalPronoun: False\n",
      "isNumber: False\n",
      "isTopping: False\n",
      "isQuantity: False\n",
      "Word: \"prawns\" -> \"prawn\" not in vocab\n",
      "isPersonalPronoun: False\n",
      "isNumber: False\n",
      "isTopping: False\n",
      "isQuantity: False\n",
      "Word: \"aiming\" -> \"aim\" not in vocab\n",
      "isPersonalPronoun: False\n",
      "isNumber: False\n",
      "isTopping: False\n",
      "isQuantity: False\n"
     ]
    },
    {
     "name": "stderr",
     "output_type": "stream",
     "text": [
      "writing results:  49%|████▉     | 1961/4000 [03:21<01:57, 17.39it/s]"
     ]
    },
    {
     "name": "stdout",
     "output_type": "stream",
     "text": [
      "Word: \"kimchi\" -> \"kimchi\" not in vocab\n",
      "isPersonalPronoun: False\n",
      "isNumber: False\n",
      "isTopping: False\n",
      "isQuantity: False\n",
      "Word: \"poppy\" -> \"poppi\" not in vocab\n",
      "isPersonalPronoun: False\n",
      "isNumber: False\n",
      "isTopping: False\n",
      "isQuantity: False\n",
      "Word: \"seeds\" -> \"seed\" not in vocab\n",
      "isPersonalPronoun: False\n",
      "isNumber: False\n",
      "isTopping: False\n",
      "isQuantity: False\n",
      "Word: \"poppy\" -> \"poppi\" not in vocab\n",
      "isPersonalPronoun: False\n",
      "isNumber: False\n",
      "isTopping: False\n",
      "isQuantity: False\n",
      "Word: \"seeds\" -> \"seed\" not in vocab\n",
      "isPersonalPronoun: False\n",
      "isNumber: False\n",
      "isTopping: False\n",
      "isQuantity: False\n"
     ]
    },
    {
     "name": "stderr",
     "output_type": "stream",
     "text": [
      "writing results:  49%|████▉     | 1973/4000 [03:21<01:15, 27.01it/s]"
     ]
    },
    {
     "name": "stdout",
     "output_type": "stream",
     "text": [
      "Word: \"canyon\" -> \"canyon\" not in vocab\n",
      "isPersonalPronoun: False\n",
      "isNumber: False\n",
      "isTopping: False\n",
      "isQuantity: False\n",
      "Word: \"prawns\" -> \"prawn\" not in vocab\n",
      "isPersonalPronoun: False\n",
      "isNumber: False\n",
      "isTopping: False\n",
      "isQuantity: False\n",
      "Word: \"limeade\" -> \"limead\" not in vocab\n",
      "isPersonalPronoun: False\n",
      "isNumber: False\n",
      "isTopping: False\n",
      "isQuantity: False\n",
      "Word: \"limeade\" -> \"limead\" not in vocab\n",
      "isPersonalPronoun: False\n",
      "isNumber: False\n",
      "isTopping: False\n",
      "isQuantity: False\n"
     ]
    },
    {
     "name": "stderr",
     "output_type": "stream",
     "text": [
      "writing results:  49%|████▉     | 1977/4000 [03:22<01:16, 26.46it/s]"
     ]
    },
    {
     "name": "stdout",
     "output_type": "stream",
     "text": [
      "Word: \"Leighton\" -> \"leighton\" not in vocab\n",
      "isPersonalPronoun: False\n",
      "isNumber: False\n",
      "isTopping: False\n",
      "isQuantity: False\n",
      "Word: \"Leighton\" -> \"leighton\" not in vocab\n",
      "isPersonalPronoun: False\n",
      "isNumber: False\n",
      "isTopping: False\n",
      "isQuantity: False\n",
      "Word: \"sort\" -> \"sort\" not in vocab\n",
      "isPersonalPronoun: False\n",
      "isNumber: False\n",
      "isTopping: False\n",
      "isQuantity: False\n",
      "Word: \"blue\" -> \"blue\" not in vocab\n",
      "isPersonalPronoun: False\n",
      "isNumber: False\n",
      "isTopping: False\n",
      "isQuantity: False\n",
      "Word: \"blue\" -> \"blue\" not in vocab\n",
      "isPersonalPronoun: False\n",
      "isNumber: False\n",
      "isTopping: False\n",
      "isQuantity: False\n",
      "Word: \"heavy\" -> \"heavi\" not in vocab\n",
      "isPersonalPronoun: False\n",
      "isNumber: False\n",
      "isTopping: False\n",
      "isQuantity: False\n",
      "Word: \"heavy\" -> \"heavi\" not in vocab\n",
      "isPersonalPronoun: False\n",
      "isNumber: False\n",
      "isTopping: False\n",
      "isQuantity: False\n",
      "Word: \"anted\" -> \"ant\" not in vocab\n",
      "isPersonalPronoun: False\n",
      "isNumber: False\n",
      "isTopping: False\n",
      "isQuantity: False\n",
      "Word: \"juice\" -> \"juic\" not in vocab\n",
      "isPersonalPronoun: False\n",
      "isNumber: False\n",
      "isTopping: False\n",
      "isQuantity: False\n",
      "Word: \"hummus\" -> \"hummu\" not in vocab\n",
      "isPersonalPronoun: False\n",
      "isNumber: False\n",
      "isTopping: False\n",
      "isQuantity: False\n",
      "Word: \"footing\" -> \"foot\" not in vocab\n",
      "isPersonalPronoun: False\n",
      "isNumber: False\n",
      "isTopping: False\n",
      "isQuantity: True\n",
      "Word: \"cider\" -> \"cider\" not in vocab\n",
      "isPersonalPronoun: False\n",
      "isNumber: False\n",
      "isTopping: False\n",
      "isQuantity: False\n"
     ]
    },
    {
     "name": "stderr",
     "output_type": "stream",
     "text": [
      "writing results:  50%|████▉     | 1981/4000 [03:23<04:00,  8.41it/s]"
     ]
    },
    {
     "name": "stdout",
     "output_type": "stream",
     "text": [
      "Word: \"hummus\" -> \"hummu\" not in vocab\n",
      "isPersonalPronoun: False\n",
      "isNumber: False\n",
      "isTopping: False\n",
      "isQuantity: False\n",
      "Word: \"footing\" -> \"foot\" not in vocab\n",
      "isPersonalPronoun: False\n",
      "isNumber: False\n",
      "isTopping: False\n",
      "isQuantity: True\n",
      "Word: \"cider\" -> \"cider\" not in vocab\n",
      "isPersonalPronoun: False\n",
      "isNumber: False\n",
      "isTopping: False\n",
      "isQuantity: False\n",
      "Word: \"ET\" -> \"et\" not in vocab\n",
      "isPersonalPronoun: False\n",
      "isNumber: False\n",
      "isTopping: False\n",
      "isQuantity: False\n",
      "Word: \"choice\" -> \"choic\" not in vocab\n",
      "isPersonalPronoun: False\n",
      "isNumber: False\n",
      "isTopping: False\n",
      "isQuantity: False\n"
     ]
    },
    {
     "name": "stderr",
     "output_type": "stream",
     "text": [
      "writing results:  50%|████▉     | 1987/4000 [03:23<03:17, 10.21it/s]"
     ]
    },
    {
     "name": "stdout",
     "output_type": "stream",
     "text": [
      "Word: \"chair\" -> \"chair\" not in vocab\n",
      "isPersonalPronoun: False\n",
      "isNumber: False\n",
      "isTopping: False\n",
      "isQuantity: False\n",
      "Word: \"latte\" -> \"latt\" not in vocab\n",
      "isPersonalPronoun: False\n",
      "isNumber: False\n",
      "isTopping: False\n",
      "isQuantity: False\n",
      "Word: \"chair\" -> \"chair\" not in vocab\n",
      "isPersonalPronoun: False\n",
      "isNumber: False\n",
      "isTopping: False\n",
      "isQuantity: False\n",
      "Word: \"latte\" -> \"latt\" not in vocab\n",
      "isPersonalPronoun: False\n",
      "isNumber: False\n",
      "isTopping: False\n",
      "isQuantity: False\n"
     ]
    },
    {
     "name": "stderr",
     "output_type": "stream",
     "text": [
      "writing results:  50%|████▉     | 1989/4000 [03:23<03:22,  9.95it/s]"
     ]
    },
    {
     "name": "stdout",
     "output_type": "stream",
     "text": [
      "Word: \"Leighton\" -> \"leighton\" not in vocab\n",
      "isPersonalPronoun: False\n",
      "isNumber: False\n",
      "isTopping: False\n",
      "isQuantity: False\n",
      "Word: \"lamb\" -> \"lamb\" not in vocab\n",
      "isPersonalPronoun: False\n",
      "isNumber: False\n",
      "isTopping: False\n",
      "isQuantity: False\n",
      "Word: \"Leighton\" -> \"leighton\" not in vocab\n",
      "isPersonalPronoun: False\n",
      "isNumber: False\n",
      "isTopping: False\n",
      "isQuantity: False\n",
      "Word: \"lamb\" -> \"lamb\" not in vocab\n",
      "isPersonalPronoun: False\n",
      "isNumber: False\n",
      "isTopping: False\n",
      "isQuantity: False\n",
      "Word: \"ave\" -> \"ave\" not in vocab\n",
      "isPersonalPronoun: False\n",
      "isNumber: False\n",
      "isTopping: False\n",
      "isQuantity: False\n",
      "Word: \"mushy\" -> \"mushi\" not in vocab\n",
      "isPersonalPronoun: False\n",
      "isNumber: False\n",
      "isTopping: False\n",
      "isQuantity: False\n"
     ]
    },
    {
     "name": "stderr",
     "output_type": "stream",
     "text": [
      "writing results:  50%|████▉     | 1994/4000 [03:24<02:39, 12.55it/s]"
     ]
    },
    {
     "name": "stdout",
     "output_type": "stream",
     "text": [
      "Word: \"mushy\" -> \"mushi\" not in vocab\n",
      "isPersonalPronoun: False\n",
      "isNumber: False\n",
      "isTopping: False\n",
      "isQuantity: False\n",
      "Word: \"happy\" -> \"happi\" not in vocab\n",
      "isPersonalPronoun: False\n",
      "isNumber: False\n",
      "isTopping: False\n",
      "isQuantity: False\n"
     ]
    },
    {
     "name": "stderr",
     "output_type": "stream",
     "text": [
      "writing results:  50%|████▉     | 1996/4000 [03:24<02:29, 13.44it/s]"
     ]
    },
    {
     "name": "stdout",
     "output_type": "stream",
     "text": [
      "Word: \"pick\" -> \"pick\" not in vocab\n",
      "isPersonalPronoun: False\n",
      "isNumber: False\n",
      "isTopping: False\n",
      "isQuantity: False\n",
      "Word: \"cucumber\" -> \"cucumb\" not in vocab\n",
      "isPersonalPronoun: False\n",
      "isNumber: False\n",
      "isTopping: False\n",
      "isQuantity: False\n",
      "Word: \"cucumber\" -> \"cucumb\" not in vocab\n",
      "isPersonalPronoun: False\n",
      "isNumber: False\n",
      "isTopping: False\n",
      "isQuantity: False\n",
      "Word: \"heavy on\" -> \"heavy on\" not in vocab\n",
      "isPersonalPronoun: False\n",
      "isNumber: False\n",
      "isTopping: False\n",
      "isQuantity: False\n",
      "Word: \"heavy on\" -> \"heavy on\" not in vocab\n",
      "isPersonalPronoun: False\n",
      "isNumber: False\n",
      "isTopping: False\n",
      "isQuantity: False\n"
     ]
    },
    {
     "name": "stderr",
     "output_type": "stream",
     "text": [
      "writing results:  50%|████▉     | 1998/4000 [03:24<02:52, 11.62it/s]"
     ]
    },
    {
     "name": "stdout",
     "output_type": "stream",
     "text": [
      "Word: \"green peppers\" -> \"green pepp\" not in vocab\n",
      "isPersonalPronoun: False\n",
      "isNumber: False\n",
      "isTopping: False\n",
      "isQuantity: False\n",
      "Word: \"green peppers\" -> \"green pepp\" not in vocab\n",
      "isPersonalPronoun: False\n",
      "isNumber: False\n",
      "isTopping: False\n",
      "isQuantity: False\n",
      "Word: \"sauted\" -> \"saut\" not in vocab\n",
      "isPersonalPronoun: False\n",
      "isNumber: False\n",
      "isTopping: False\n",
      "isQuantity: False\n",
      "Word: \"sauted\" -> \"saut\" not in vocab\n",
      "isPersonalPronoun: False\n",
      "isNumber: False\n",
      "isTopping: False\n",
      "isQuantity: False\n"
     ]
    },
    {
     "name": "stderr",
     "output_type": "stream",
     "text": [
      "writing results:  50%|█████     | 2002/4000 [03:25<03:23,  9.80it/s]"
     ]
    },
    {
     "name": "stdout",
     "output_type": "stream",
     "text": [
      "Word: \"peso\" -> \"peso\" not in vocab\n",
      "isPersonalPronoun: False\n",
      "isNumber: False\n",
      "isTopping: False\n",
      "isQuantity: False\n",
      "Word: \"peso\" -> \"peso\" not in vocab\n",
      "isPersonalPronoun: False\n",
      "isNumber: False\n",
      "isTopping: False\n",
      "isQuantity: False\n",
      "Word: \"peso\" -> \"peso\" not in vocab\n",
      "isPersonalPronoun: False\n",
      "isNumber: False\n",
      "isTopping: False\n",
      "isQuantity: False\n",
      "Word: \"peso\" -> \"peso\" not in vocab\n",
      "isPersonalPronoun: False\n",
      "isNumber: False\n",
      "isTopping: False\n",
      "isQuantity: False\n",
      "Word: \"cucumber\" -> \"cucumb\" not in vocab\n",
      "isPersonalPronoun: False\n",
      "isNumber: False\n",
      "isTopping: False\n",
      "isQuantity: False\n",
      "Word: \"cucumber\" -> \"cucumb\" not in vocab\n",
      "isPersonalPronoun: False\n",
      "isNumber: False\n",
      "isTopping: False\n",
      "isQuantity: False\n"
     ]
    },
    {
     "name": "stderr",
     "output_type": "stream",
     "text": [
      "writing results:  50%|█████     | 2004/4000 [03:25<03:14, 10.28it/s]"
     ]
    },
    {
     "name": "stdout",
     "output_type": "stream",
     "text": [
      "Word: \"mushy\" -> \"mushi\" not in vocab\n",
      "isPersonalPronoun: False\n",
      "isNumber: False\n",
      "isTopping: False\n",
      "isQuantity: False\n",
      "Word: \"cucumber\" -> \"cucumb\" not in vocab\n",
      "isPersonalPronoun: False\n",
      "isNumber: False\n",
      "isTopping: False\n",
      "isQuantity: False\n",
      "Word: \"mushy\" -> \"mushi\" not in vocab\n",
      "isPersonalPronoun: False\n",
      "isNumber: False\n",
      "isTopping: False\n",
      "isQuantity: False\n",
      "Word: \"cucumber\" -> \"cucumb\" not in vocab\n",
      "isPersonalPronoun: False\n",
      "isNumber: False\n",
      "isTopping: False\n",
      "isQuantity: False\n",
      "Word: \"mushy\" -> \"mushi\" not in vocab\n",
      "isPersonalPronoun: False\n",
      "isNumber: False\n",
      "isTopping: False\n",
      "isQuantity: False\n",
      "Word: \"ta\" -> \"ta\" not in vocab\n",
      "isPersonalPronoun: False\n",
      "isNumber: False\n",
      "isTopping: False\n",
      "isQuantity: False\n"
     ]
    },
    {
     "name": "stderr",
     "output_type": "stream",
     "text": [
      "writing results:  50%|█████     | 2006/4000 [03:25<03:12, 10.36it/s]"
     ]
    },
    {
     "name": "stdout",
     "output_type": "stream",
     "text": [
      "Word: \"mushy\" -> \"mushi\" not in vocab\n",
      "isPersonalPronoun: False\n",
      "isNumber: False\n",
      "isTopping: False\n",
      "isQuantity: False\n",
      "Word: \"ta\" -> \"ta\" not in vocab\n",
      "isPersonalPronoun: False\n",
      "isNumber: False\n",
      "isTopping: False\n",
      "isQuantity: False\n",
      "Word: \"peregrine\" -> \"peregrin\" not in vocab\n",
      "isPersonalPronoun: False\n",
      "isNumber: False\n",
      "isTopping: False\n",
      "isQuantity: False\n"
     ]
    },
    {
     "name": "stderr",
     "output_type": "stream",
     "text": [
      "writing results:  50%|█████     | 2009/4000 [03:26<06:25,  5.17it/s]"
     ]
    },
    {
     "name": "stdout",
     "output_type": "stream",
     "text": [
      "Word: \"peregrine\" -> \"peregrin\" not in vocab\n",
      "isPersonalPronoun: False\n",
      "isNumber: False\n",
      "isTopping: False\n",
      "isQuantity: False\n",
      "Word: \"mint\" -> \"mint\" not in vocab\n",
      "isPersonalPronoun: False\n",
      "isNumber: False\n",
      "isTopping: False\n",
      "isQuantity: False\n",
      "Word: \"mint\" -> \"mint\" not in vocab\n",
      "isPersonalPronoun: False\n",
      "isNumber: False\n",
      "isTopping: False\n",
      "isQuantity: False\n"
     ]
    },
    {
     "name": "stderr",
     "output_type": "stream",
     "text": [
      "writing results:  50%|█████     | 2013/4000 [03:26<04:50,  6.85it/s]"
     ]
    },
    {
     "name": "stdout",
     "output_type": "stream",
     "text": [
      "Word: \"would love\" -> \"would lov\" not in vocab\n",
      "isPersonalPronoun: False\n",
      "isNumber: False\n",
      "isTopping: False\n",
      "isQuantity: False\n"
     ]
    },
    {
     "name": "stderr",
     "output_type": "stream",
     "text": [
      "writing results:  50%|█████     | 2016/4000 [03:27<05:01,  6.59it/s]"
     ]
    },
    {
     "name": "stdout",
     "output_type": "stream",
     "text": [
      "Word: \"limeade\" -> \"limead\" not in vocab\n",
      "isPersonalPronoun: False\n",
      "isNumber: False\n",
      "isTopping: False\n",
      "isQuantity: False\n",
      "Word: \"limeade\" -> \"limead\" not in vocab\n",
      "isPersonalPronoun: False\n",
      "isNumber: False\n",
      "isTopping: False\n",
      "isQuantity: False\n",
      "Word: \"opt\" -> \"opt\" not in vocab\n",
      "isPersonalPronoun: False\n",
      "isNumber: False\n",
      "isTopping: False\n",
      "isQuantity: False\n",
      "Word: \"smoked\" -> \"smoke\" not in vocab\n",
      "isPersonalPronoun: False\n",
      "isNumber: False\n",
      "isTopping: False\n",
      "isQuantity: False\n",
      "Word: \"salmon\" -> \"salmon\" not in vocab\n",
      "isPersonalPronoun: False\n",
      "isNumber: False\n",
      "isTopping: False\n",
      "isQuantity: False\n"
     ]
    },
    {
     "name": "stderr",
     "output_type": "stream",
     "text": [
      "writing results:  50%|█████     | 2018/4000 [03:27<04:25,  7.46it/s]"
     ]
    },
    {
     "name": "stdout",
     "output_type": "stream",
     "text": [
      "Word: \"smoked\" -> \"smoke\" not in vocab\n",
      "isPersonalPronoun: False\n",
      "isNumber: False\n",
      "isTopping: False\n",
      "isQuantity: False\n",
      "Word: \"salmon\" -> \"salmon\" not in vocab\n",
      "isPersonalPronoun: False\n",
      "isNumber: False\n",
      "isTopping: False\n",
      "isQuantity: False\n",
      "Word: \"arrange\" -> \"arrang\" not in vocab\n",
      "isPersonalPronoun: False\n",
      "isNumber: False\n",
      "isTopping: False\n",
      "isQuantity: False\n",
      "Word: \"arrange\" -> \"arrang\" not in vocab\n",
      "isPersonalPronoun: False\n",
      "isNumber: False\n",
      "isTopping: False\n",
      "isQuantity: False\n"
     ]
    },
    {
     "name": "stderr",
     "output_type": "stream",
     "text": [
      "writing results:  51%|█████     | 2024/4000 [03:28<03:36,  9.11it/s]"
     ]
    },
    {
     "name": "stdout",
     "output_type": "stream",
     "text": [
      "Word: \"cider\" -> \"cider\" not in vocab\n",
      "isPersonalPronoun: False\n",
      "isNumber: False\n",
      "isTopping: False\n",
      "isQuantity: False\n",
      "Word: \"cider\" -> \"cider\" not in vocab\n",
      "isPersonalPronoun: False\n",
      "isNumber: False\n",
      "isTopping: False\n",
      "isQuantity: False\n",
      "Word: \"handle\" -> \"handl\" not in vocab\n",
      "isPersonalPronoun: False\n",
      "isNumber: False\n",
      "isTopping: False\n",
      "isQuantity: False\n"
     ]
    },
    {
     "name": "stderr",
     "output_type": "stream",
     "text": [
      "writing results:  51%|█████     | 2026/4000 [03:28<03:17,  9.99it/s]"
     ]
    },
    {
     "name": "stdout",
     "output_type": "stream",
     "text": [
      "Word: \"chard\" -> \"chard\" not in vocab\n",
      "isPersonalPronoun: False\n",
      "isNumber: False\n",
      "isTopping: False\n",
      "isQuantity: False\n",
      "Word: \"chard\" -> \"chard\" not in vocab\n",
      "isPersonalPronoun: False\n",
      "isNumber: False\n",
      "isTopping: False\n",
      "isQuantity: False\n",
      "Word: \"hook\" -> \"hook\" not in vocab\n",
      "isPersonalPronoun: False\n",
      "isNumber: False\n",
      "isTopping: False\n",
      "isQuantity: False\n"
     ]
    },
    {
     "name": "stderr",
     "output_type": "stream",
     "text": [
      "writing results:  51%|█████     | 2036/4000 [03:28<01:50, 17.79it/s]"
     ]
    },
    {
     "name": "stdout",
     "output_type": "stream",
     "text": [
      "Word: \"cranberry\" -> \"cranberri\" not in vocab\n",
      "isPersonalPronoun: False\n",
      "isNumber: False\n",
      "isTopping: False\n",
      "isQuantity: False\n",
      "Word: \"juice\" -> \"juic\" not in vocab\n",
      "isPersonalPronoun: False\n",
      "isNumber: False\n",
      "isTopping: False\n",
      "isQuantity: False\n",
      "Word: \"cranberry\" -> \"cranberri\" not in vocab\n",
      "isPersonalPronoun: False\n",
      "isNumber: False\n",
      "isTopping: False\n",
      "isQuantity: False\n",
      "Word: \"juice\" -> \"juic\" not in vocab\n",
      "isPersonalPronoun: False\n",
      "isNumber: False\n",
      "isTopping: False\n",
      "isQuantity: False\n",
      "Word: \"sauted\" -> \"saut\" not in vocab\n",
      "isPersonalPronoun: False\n",
      "isNumber: False\n",
      "isTopping: False\n",
      "isQuantity: False\n",
      "Word: \"sauted\" -> \"saut\" not in vocab\n",
      "isPersonalPronoun: False\n",
      "isNumber: False\n",
      "isTopping: False\n",
      "isQuantity: False\n",
      "Word: \"settle\" -> \"settl\" not in vocab\n",
      "isPersonalPronoun: False\n",
      "isNumber: False\n",
      "isTopping: False\n",
      "isQuantity: False\n",
      "Word: \"footing\" -> \"foot\" not in vocab\n",
      "isPersonalPronoun: False\n",
      "isNumber: False\n",
      "isTopping: False\n",
      "isQuantity: True\n"
     ]
    },
    {
     "name": "stderr",
     "output_type": "stream",
     "text": [
      "writing results:  51%|█████     | 2041/4000 [03:29<03:22,  9.66it/s]"
     ]
    },
    {
     "name": "stdout",
     "output_type": "stream",
     "text": [
      "Word: \"footing\" -> \"foot\" not in vocab\n",
      "isPersonalPronoun: False\n",
      "isNumber: False\n",
      "isTopping: False\n",
      "isQuantity: True\n",
      "Word: \"finalize\" -> \"final\" not in vocab\n",
      "isPersonalPronoun: False\n",
      "isNumber: False\n",
      "isTopping: False\n",
      "isQuantity: False\n",
      "Word: \"yellow peppers\" -> \"yellow pepp\" not in vocab\n",
      "isPersonalPronoun: False\n",
      "isNumber: False\n",
      "isTopping: False\n",
      "isQuantity: False\n",
      "Word: \"yellow peppers\" -> \"yellow pepp\" not in vocab\n",
      "isPersonalPronoun: False\n",
      "isNumber: False\n",
      "isTopping: False\n",
      "isQuantity: False\n"
     ]
    },
    {
     "name": "stderr",
     "output_type": "stream",
     "text": [
      "writing results:  51%|█████     | 2047/4000 [03:29<02:17, 14.22it/s]"
     ]
    },
    {
     "name": "stdout",
     "output_type": "stream",
     "text": [
      "Word: \"pt\" -> \"pt\" not in vocab\n",
      "isPersonalPronoun: False\n",
      "isNumber: False\n",
      "isTopping: False\n",
      "isQuantity: False\n",
      "Word: \"peso\" -> \"peso\" not in vocab\n",
      "isPersonalPronoun: False\n",
      "isNumber: False\n",
      "isTopping: False\n",
      "isQuantity: False\n",
      "Word: \"peso\" -> \"peso\" not in vocab\n",
      "isPersonalPronoun: False\n",
      "isNumber: False\n",
      "isTopping: False\n",
      "isQuantity: False\n",
      "Word: \"lattes\" -> \"latt\" not in vocab\n",
      "isPersonalPronoun: False\n",
      "isNumber: False\n",
      "isTopping: False\n",
      "isQuantity: False\n",
      "Word: \"lattes\" -> \"latt\" not in vocab\n",
      "isPersonalPronoun: False\n",
      "isNumber: False\n",
      "isTopping: False\n",
      "isQuantity: False\n",
      "Word: \"head\" -> \"head\" not in vocab\n",
      "isPersonalPronoun: False\n",
      "isNumber: False\n",
      "isTopping: False\n",
      "isQuantity: False\n"
     ]
    },
    {
     "name": "stderr",
     "output_type": "stream",
     "text": [
      "writing results:  51%|█████▏    | 2051/4000 [03:30<02:02, 15.90it/s]"
     ]
    },
    {
     "name": "stdout",
     "output_type": "stream",
     "text": [
      "Word: \"leaning\" -> \"lean\" not in vocab\n",
      "isPersonalPronoun: False\n",
      "isNumber: False\n",
      "isTopping: False\n",
      "isQuantity: False\n",
      "Word: \"toward\" -> \"toward\" not in vocab\n",
      "isPersonalPronoun: False\n",
      "isNumber: False\n",
      "isTopping: False\n",
      "isQuantity: False\n",
      "Word: \"finalize\" -> \"final\" not in vocab\n",
      "isPersonalPronoun: False\n",
      "isNumber: False\n",
      "isTopping: False\n",
      "isQuantity: False\n",
      "Word: \"large size\" -> \"large s\" not in vocab\n",
      "isPersonalPronoun: False\n",
      "isNumber: False\n",
      "isTopping: False\n",
      "isQuantity: False\n",
      "Word: \"large size\" -> \"large s\" not in vocab\n",
      "isPersonalPronoun: False\n",
      "isNumber: False\n",
      "isTopping: False\n",
      "isQuantity: False\n"
     ]
    },
    {
     "name": "stderr",
     "output_type": "stream",
     "text": [
      "writing results:  51%|█████▏    | 2054/4000 [03:30<02:23, 13.55it/s]"
     ]
    },
    {
     "name": "stdout",
     "output_type": "stream",
     "text": [
      "Word: \"finalize\" -> \"final\" not in vocab\n",
      "isPersonalPronoun: False\n",
      "isNumber: False\n",
      "isTopping: False\n",
      "isQuantity: False\n",
      "Word: \"duck\" -> \"duck\" not in vocab\n",
      "isPersonalPronoun: False\n",
      "isNumber: False\n",
      "isTopping: False\n",
      "isQuantity: False\n",
      "Word: \"duck\" -> \"duck\" not in vocab\n",
      "isPersonalPronoun: False\n",
      "isNumber: False\n",
      "isTopping: False\n",
      "isQuantity: False\n",
      "Word: \"re\" -> \"re\" not in vocab\n",
      "isPersonalPronoun: False\n",
      "isNumber: False\n",
      "isTopping: False\n",
      "isQuantity: False\n",
      "Word: \"sparkling\" -> \"sparkl\" not in vocab\n",
      "isPersonalPronoun: False\n",
      "isNumber: False\n",
      "isTopping: False\n",
      "isQuantity: False\n"
     ]
    },
    {
     "name": "stderr",
     "output_type": "stream",
     "text": [
      "writing results:  51%|█████▏    | 2059/4000 [03:30<02:11, 14.75it/s]"
     ]
    },
    {
     "name": "stdout",
     "output_type": "stream",
     "text": [
      "Word: \"sparkling\" -> \"sparkl\" not in vocab\n",
      "isPersonalPronoun: False\n",
      "isNumber: False\n",
      "isTopping: False\n",
      "isQuantity: False\n",
      "Word: \"ne\" -> \"ne\" not in vocab\n",
      "isPersonalPronoun: False\n",
      "isNumber: False\n",
      "isTopping: False\n",
      "isQuantity: False\n",
      "Word: \"ne\" -> \"ne\" not in vocab\n",
      "isPersonalPronoun: False\n",
      "isNumber: False\n",
      "isTopping: False\n",
      "isQuantity: False\n",
      "Word: \"secure\" -> \"secur\" not in vocab\n",
      "isPersonalPronoun: False\n",
      "isNumber: False\n",
      "isTopping: False\n",
      "isQuantity: False\n",
      "Word: \"pick\" -> \"pick\" not in vocab\n",
      "isPersonalPronoun: False\n",
      "isNumber: False\n",
      "isTopping: False\n",
      "isQuantity: False\n",
      "Word: \"gruyeres\" -> \"gruyer\" not in vocab\n",
      "isPersonalPronoun: False\n",
      "isNumber: False\n",
      "isTopping: False\n",
      "isQuantity: False\n"
     ]
    },
    {
     "name": "stderr",
     "output_type": "stream",
     "text": [
      "writing results:  52%|█████▏    | 2064/4000 [03:31<02:24, 13.38it/s]"
     ]
    },
    {
     "name": "stdout",
     "output_type": "stream",
     "text": [
      "Word: \"gruyeres\" -> \"gruyer\" not in vocab\n",
      "isPersonalPronoun: False\n",
      "isNumber: False\n",
      "isTopping: False\n",
      "isQuantity: False\n",
      "Word: \"chard\" -> \"chard\" not in vocab\n",
      "isPersonalPronoun: False\n",
      "isNumber: False\n",
      "isTopping: False\n",
      "isQuantity: False\n",
      "Word: \"chard\" -> \"chard\" not in vocab\n",
      "isPersonalPronoun: False\n",
      "isNumber: False\n",
      "isTopping: False\n",
      "isQuantity: False\n",
      "Word: \"heavy\" -> \"heavi\" not in vocab\n",
      "isPersonalPronoun: False\n",
      "isNumber: False\n",
      "isTopping: False\n",
      "isQuantity: False\n",
      "Word: \"heavy\" -> \"heavi\" not in vocab\n",
      "isPersonalPronoun: False\n",
      "isNumber: False\n",
      "isTopping: False\n",
      "isQuantity: False\n"
     ]
    },
    {
     "name": "stderr",
     "output_type": "stream",
     "text": [
      "writing results:  52%|█████▏    | 2066/4000 [03:31<02:23, 13.50it/s]"
     ]
    },
    {
     "name": "stdout",
     "output_type": "stream",
     "text": [
      "Word: \"need to\" -> \"need to\" not in vocab\n",
      "isPersonalPronoun: False\n",
      "isNumber: False\n",
      "isTopping: False\n",
      "isQuantity: False\n",
      "Word: \"mushy\" -> \"mushi\" not in vocab\n",
      "isPersonalPronoun: False\n",
      "isNumber: False\n",
      "isTopping: False\n",
      "isQuantity: False\n",
      "Word: \"mushy\" -> \"mushi\" not in vocab\n",
      "isPersonalPronoun: False\n",
      "isNumber: False\n",
      "isTopping: False\n",
      "isQuantity: False\n"
     ]
    },
    {
     "name": "stderr",
     "output_type": "stream",
     "text": [
      "writing results:  52%|█████▏    | 2070/4000 [03:31<03:08, 10.22it/s]"
     ]
    },
    {
     "name": "stdout",
     "output_type": "stream",
     "text": [
      "Word: \"godlike\" -> \"godlik\" not in vocab\n",
      "isPersonalPronoun: False\n",
      "isNumber: False\n",
      "isTopping: False\n",
      "isQuantity: False\n",
      "Word: \"goat\" -> \"goat\" not in vocab\n",
      "isPersonalPronoun: False\n",
      "isNumber: False\n",
      "isTopping: False\n",
      "isQuantity: False\n",
      "Word: \"goat\" -> \"goat\" not in vocab\n",
      "isPersonalPronoun: False\n",
      "isNumber: False\n",
      "isTopping: False\n",
      "isQuantity: False\n",
      "Word: \"chard\" -> \"chard\" not in vocab\n",
      "isPersonalPronoun: False\n",
      "isNumber: False\n",
      "isTopping: False\n",
      "isQuantity: False\n",
      "Word: \"chard\" -> \"chard\" not in vocab\n",
      "isPersonalPronoun: False\n",
      "isNumber: False\n",
      "isTopping: False\n",
      "isQuantity: False\n",
      "Word: \"sirach\" -> \"sirach\" not in vocab\n",
      "isPersonalPronoun: False\n",
      "isNumber: False\n",
      "isTopping: False\n",
      "isQuantity: False\n"
     ]
    },
    {
     "name": "stderr",
     "output_type": "stream",
     "text": [
      "writing results:  52%|█████▏    | 2074/4000 [03:32<04:48,  6.68it/s]"
     ]
    },
    {
     "name": "stdout",
     "output_type": "stream",
     "text": [
      "Word: \"sirach\" -> \"sirach\" not in vocab\n",
      "isPersonalPronoun: False\n",
      "isNumber: False\n",
      "isTopping: False\n",
      "isQuantity: False\n",
      "Word: \"arrange\" -> \"arrang\" not in vocab\n",
      "isPersonalPronoun: False\n",
      "isNumber: False\n",
      "isTopping: False\n",
      "isQuantity: False\n"
     ]
    },
    {
     "name": "stderr",
     "output_type": "stream",
     "text": [
      "writing results:  52%|█████▏    | 2082/4000 [03:33<02:33, 12.54it/s]"
     ]
    },
    {
     "name": "stdout",
     "output_type": "stream",
     "text": [
      "Word: \"cucumber\" -> \"cucumb\" not in vocab\n",
      "isPersonalPronoun: False\n",
      "isNumber: False\n",
      "isTopping: False\n",
      "isQuantity: False\n",
      "Word: \"smoked\" -> \"smoke\" not in vocab\n",
      "isPersonalPronoun: False\n",
      "isNumber: False\n",
      "isTopping: False\n",
      "isQuantity: False\n",
      "Word: \"salmon\" -> \"salmon\" not in vocab\n",
      "isPersonalPronoun: False\n",
      "isNumber: False\n",
      "isTopping: False\n",
      "isQuantity: False\n",
      "Word: \"smoked\" -> \"smoke\" not in vocab\n",
      "isPersonalPronoun: False\n",
      "isNumber: False\n",
      "isTopping: False\n",
      "isQuantity: False\n",
      "Word: \"salmon\" -> \"salmon\" not in vocab\n",
      "isPersonalPronoun: False\n",
      "isNumber: False\n",
      "isTopping: False\n",
      "isQuantity: False\n"
     ]
    },
    {
     "name": "stderr",
     "output_type": "stream",
     "text": [
      "writing results:  52%|█████▏    | 2084/4000 [03:33<02:35, 12.29it/s]"
     ]
    },
    {
     "name": "stdout",
     "output_type": "stream",
     "text": [
      "Word: \"protein\" -> \"protein\" not in vocab\n",
      "isPersonalPronoun: False\n",
      "isNumber: False\n",
      "isTopping: False\n",
      "isQuantity: False\n",
      "Word: \"shakes\" -> \"shake\" not in vocab\n",
      "isPersonalPronoun: False\n",
      "isNumber: False\n",
      "isTopping: False\n",
      "isQuantity: False\n",
      "Word: \"protein\" -> \"protein\" not in vocab\n",
      "isPersonalPronoun: False\n",
      "isNumber: False\n",
      "isTopping: False\n",
      "isQuantity: False\n",
      "Word: \"shakes\" -> \"shake\" not in vocab\n",
      "isPersonalPronoun: False\n",
      "isNumber: False\n",
      "isTopping: False\n",
      "isQuantity: False\n",
      "Word: \"finalize\" -> \"final\" not in vocab\n",
      "isPersonalPronoun: False\n",
      "isNumber: False\n",
      "isTopping: False\n",
      "isQuantity: False\n"
     ]
    },
    {
     "name": "stderr",
     "output_type": "stream",
     "text": [
      "writing results:  52%|█████▏    | 2089/4000 [03:33<02:48, 11.36it/s]"
     ]
    },
    {
     "name": "stdout",
     "output_type": "stream",
     "text": [
      "Word: \"cucumber\" -> \"cucumb\" not in vocab\n",
      "isPersonalPronoun: False\n",
      "isNumber: False\n",
      "isTopping: False\n",
      "isQuantity: False\n",
      "Word: \"sweet\" -> \"sweet\" not in vocab\n",
      "isPersonalPronoun: False\n",
      "isNumber: False\n",
      "isTopping: False\n",
      "isQuantity: False\n",
      "Word: \"cucumber\" -> \"cucumb\" not in vocab\n",
      "isPersonalPronoun: False\n",
      "isNumber: False\n",
      "isTopping: False\n",
      "isQuantity: False\n",
      "Word: \"sweet\" -> \"sweet\" not in vocab\n",
      "isPersonalPronoun: False\n",
      "isNumber: False\n",
      "isTopping: False\n",
      "isQuantity: False\n",
      "Word: \"sweet\" -> \"sweet\" not in vocab\n",
      "isPersonalPronoun: False\n",
      "isNumber: False\n",
      "isTopping: False\n",
      "isQuantity: False\n"
     ]
    },
    {
     "name": "stderr",
     "output_type": "stream",
     "text": [
      "writing results:  52%|█████▏    | 2091/4000 [03:33<02:50, 11.18it/s]"
     ]
    },
    {
     "name": "stdout",
     "output_type": "stream",
     "text": [
      "Word: \"smoked\" -> \"smoke\" not in vocab\n",
      "isPersonalPronoun: False\n",
      "isNumber: False\n",
      "isTopping: False\n",
      "isQuantity: False\n",
      "Word: \"salmon\" -> \"salmon\" not in vocab\n",
      "isPersonalPronoun: False\n",
      "isNumber: False\n",
      "isTopping: False\n",
      "isQuantity: False\n",
      "Word: \"smoked\" -> \"smoke\" not in vocab\n",
      "isPersonalPronoun: False\n",
      "isNumber: False\n",
      "isTopping: False\n",
      "isQuantity: False\n",
      "Word: \"salmon\" -> \"salmon\" not in vocab\n",
      "isPersonalPronoun: False\n",
      "isNumber: False\n",
      "isTopping: False\n",
      "isQuantity: False\n",
      "Word: \"finalize\" -> \"final\" not in vocab\n",
      "isPersonalPronoun: False\n",
      "isNumber: False\n",
      "isTopping: False\n",
      "isQuantity: False\n",
      "Word: \"arrange\" -> \"arrang\" not in vocab\n",
      "isPersonalPronoun: False\n",
      "isNumber: False\n",
      "isTopping: False\n",
      "isQuantity: False\n"
     ]
    },
    {
     "name": "stderr",
     "output_type": "stream",
     "text": [
      "writing results:  52%|█████▎    | 2100/4000 [03:34<01:38, 19.24it/s]"
     ]
    },
    {
     "name": "stdout",
     "output_type": "stream",
     "text": [
      "Word: \"goat\" -> \"goat\" not in vocab\n",
      "isPersonalPronoun: False\n",
      "isNumber: False\n",
      "isTopping: False\n",
      "isQuantity: False\n",
      "Word: \"goat\" -> \"goat\" not in vocab\n",
      "isPersonalPronoun: False\n",
      "isNumber: False\n",
      "isTopping: False\n",
      "isQuantity: False\n",
      "Word: \"mushy\" -> \"mushi\" not in vocab\n",
      "isPersonalPronoun: False\n",
      "isNumber: False\n",
      "isTopping: False\n",
      "isQuantity: False\n",
      "Word: \"mushy\" -> \"mushi\" not in vocab\n",
      "isPersonalPronoun: False\n",
      "isNumber: False\n",
      "isTopping: False\n",
      "isQuantity: False\n",
      "Word: \"wan\" -> \"wan\" not in vocab\n",
      "isPersonalPronoun: False\n",
      "isNumber: False\n",
      "isTopping: False\n",
      "isQuantity: False\n",
      "Word: \"duck\" -> \"duck\" not in vocab\n",
      "isPersonalPronoun: False\n",
      "isNumber: False\n",
      "isTopping: False\n",
      "isQuantity: False\n"
     ]
    },
    {
     "name": "stderr",
     "output_type": "stream",
     "text": [
      "writing results:  53%|█████▎    | 2103/4000 [03:34<01:44, 18.24it/s]"
     ]
    },
    {
     "name": "stdout",
     "output_type": "stream",
     "text": [
      "Word: \"duck\" -> \"duck\" not in vocab\n",
      "isPersonalPronoun: False\n",
      "isNumber: False\n",
      "isTopping: False\n",
      "isQuantity: False\n",
      "Word: \"in the\" -> \"in th\" not in vocab\n",
      "isPersonalPronoun: False\n",
      "isNumber: False\n",
      "isTopping: False\n",
      "isQuantity: False\n"
     ]
    },
    {
     "name": "stderr",
     "output_type": "stream",
     "text": [
      "writing results:  53%|█████▎    | 2106/4000 [03:35<03:54,  8.07it/s]"
     ]
    },
    {
     "name": "stdout",
     "output_type": "stream",
     "text": [
      "Word: \"goodevening\" -> \"goodeven\" not in vocab\n",
      "isPersonalPronoun: False\n",
      "isNumber: False\n",
      "isTopping: False\n",
      "isQuantity: False\n",
      "Word: \"heavy\" -> \"heavi\" not in vocab\n",
      "isPersonalPronoun: False\n",
      "isNumber: False\n",
      "isTopping: False\n",
      "isQuantity: False\n",
      "Word: \"heavy\" -> \"heavi\" not in vocab\n",
      "isPersonalPronoun: False\n",
      "isNumber: False\n",
      "isTopping: False\n",
      "isQuantity: False\n",
      "Word: \"bubble\" -> \"bubbl\" not in vocab\n",
      "isPersonalPronoun: False\n",
      "isNumber: False\n",
      "isTopping: False\n",
      "isQuantity: False\n"
     ]
    },
    {
     "name": "stderr",
     "output_type": "stream",
     "text": [
      "writing results:  53%|█████▎    | 2108/4000 [03:35<03:39,  8.62it/s]"
     ]
    },
    {
     "name": "stdout",
     "output_type": "stream",
     "text": [
      "Word: \"bubble\" -> \"bubbl\" not in vocab\n",
      "isPersonalPronoun: False\n",
      "isNumber: False\n",
      "isTopping: False\n",
      "isQuantity: False\n",
      "Word: \"zest\" -> \"zest\" not in vocab\n",
      "isPersonalPronoun: False\n",
      "isNumber: False\n",
      "isTopping: False\n",
      "isQuantity: False\n",
      "Word: \"zest\" -> \"zest\" not in vocab\n",
      "isPersonalPronoun: False\n",
      "isNumber: False\n",
      "isTopping: False\n",
      "isQuantity: False\n",
      "Word: \"interested\" -> \"interest\" not in vocab\n",
      "isPersonalPronoun: False\n",
      "isNumber: False\n",
      "isTopping: False\n",
      "isQuantity: False\n",
      "Word: \"copy\" -> \"copi\" not in vocab\n",
      "isPersonalPronoun: False\n",
      "isNumber: False\n",
      "isTopping: False\n",
      "isQuantity: False\n",
      "Word: \"seeds\" -> \"seed\" not in vocab\n",
      "isPersonalPronoun: False\n",
      "isNumber: False\n",
      "isTopping: False\n",
      "isQuantity: False\n",
      "Word: \"copy\" -> \"copi\" not in vocab\n",
      "isPersonalPronoun: False\n",
      "isNumber: False\n",
      "isTopping: False\n",
      "isQuantity: False\n",
      "Word: \"seeds\" -> \"seed\" not in vocab\n",
      "isPersonalPronoun: False\n",
      "isNumber: False\n",
      "isTopping: False\n",
      "isQuantity: False\n"
     ]
    },
    {
     "name": "stderr",
     "output_type": "stream",
     "text": [
      "writing results:  53%|█████▎    | 2115/4000 [03:36<03:07, 10.04it/s]"
     ]
    },
    {
     "name": "stdout",
     "output_type": "stream",
     "text": [
      "Word: \"copy\" -> \"copi\" not in vocab\n",
      "isPersonalPronoun: False\n",
      "isNumber: False\n",
      "isTopping: False\n",
      "isQuantity: False\n",
      "Word: \"duck\" -> \"duck\" not in vocab\n",
      "isPersonalPronoun: False\n",
      "isNumber: False\n",
      "isTopping: False\n",
      "isQuantity: False\n",
      "Word: \"duck\" -> \"duck\" not in vocab\n",
      "isPersonalPronoun: False\n",
      "isNumber: False\n",
      "isTopping: False\n",
      "isQuantity: False\n"
     ]
    },
    {
     "name": "stderr",
     "output_type": "stream",
     "text": [
      "writing results:  53%|█████▎    | 2123/4000 [03:36<02:00, 15.58it/s]"
     ]
    },
    {
     "name": "stdout",
     "output_type": "stream",
     "text": [
      "Word: \"i've\" -> \"i'v\" not in vocab\n",
      "isPersonalPronoun: False\n",
      "isNumber: False\n",
      "isTopping: False\n",
      "isQuantity: False\n",
      "Word: \"decided\" -> \"decid\" not in vocab\n",
      "isPersonalPronoun: False\n",
      "isNumber: False\n",
      "isTopping: False\n",
      "isQuantity: False\n",
      "Word: \"god\" -> \"god\" not in vocab\n",
      "isPersonalPronoun: False\n",
      "isNumber: False\n",
      "isTopping: False\n",
      "isQuantity: False\n",
      "Word: \"hummus\" -> \"hummu\" not in vocab\n",
      "isPersonalPronoun: False\n",
      "isNumber: False\n",
      "isTopping: False\n",
      "isQuantity: False\n",
      "Word: \"hummus\" -> \"hummu\" not in vocab\n",
      "isPersonalPronoun: False\n",
      "isNumber: False\n",
      "isTopping: False\n",
      "isQuantity: False\n"
     ]
    },
    {
     "name": "stderr",
     "output_type": "stream",
     "text": [
      "writing results:  53%|█████▎    | 2126/4000 [03:36<01:55, 16.24it/s]"
     ]
    },
    {
     "name": "stdout",
     "output_type": "stream",
     "text": [
      "Word: \"you order\" -> \"you ord\" not in vocab\n",
      "isPersonalPronoun: False\n",
      "isNumber: False\n",
      "isTopping: False\n",
      "isQuantity: False\n",
      "Word: \"sweet\" -> \"sweet\" not in vocab\n",
      "isPersonalPronoun: False\n",
      "isNumber: False\n",
      "isTopping: False\n",
      "isQuantity: False\n",
      "Word: \"sweet\" -> \"sweet\" not in vocab\n",
      "isPersonalPronoun: False\n",
      "isNumber: False\n",
      "isTopping: False\n",
      "isQuantity: False\n",
      "Word: \"opt for\" -> \"opt for\" not in vocab\n",
      "isPersonalPronoun: False\n",
      "isNumber: False\n",
      "isTopping: False\n",
      "isQuantity: False\n"
     ]
    },
    {
     "name": "stderr",
     "output_type": "stream",
     "text": [
      "writing results:  53%|█████▎    | 2132/4000 [03:37<01:54, 16.30it/s]"
     ]
    },
    {
     "name": "stdout",
     "output_type": "stream",
     "text": [
      "Word: \"Togo\" -> \"togo\" not in vocab\n",
      "isPersonalPronoun: False\n",
      "isNumber: False\n",
      "isTopping: False\n",
      "isQuantity: False\n",
      "Word: \"duck\" -> \"duck\" not in vocab\n",
      "isPersonalPronoun: False\n",
      "isNumber: False\n",
      "isTopping: False\n",
      "isQuantity: False\n",
      "Word: \"duck\" -> \"duck\" not in vocab\n",
      "isPersonalPronoun: False\n",
      "isNumber: False\n",
      "isTopping: False\n",
      "isQuantity: False\n",
      "Word: \"arrange\" -> \"arrang\" not in vocab\n",
      "isPersonalPronoun: False\n",
      "isNumber: False\n",
      "isTopping: False\n",
      "isQuantity: False\n",
      "Word: \"sort\" -> \"sort\" not in vocab\n",
      "isPersonalPronoun: False\n",
      "isNumber: False\n",
      "isTopping: False\n",
      "isQuantity: False\n"
     ]
    },
    {
     "name": "stderr",
     "output_type": "stream",
     "text": [
      "writing results:  54%|█████▎    | 2141/4000 [03:37<01:30, 20.47it/s]"
     ]
    },
    {
     "name": "stdout",
     "output_type": "stream",
     "text": [
      "Word: \"pick\" -> \"pick\" not in vocab\n",
      "isPersonalPronoun: False\n",
      "isNumber: False\n",
      "isTopping: False\n",
      "isQuantity: False\n"
     ]
    },
    {
     "name": "stderr",
     "output_type": "stream",
     "text": [
      "writing results:  54%|█████▎    | 2144/4000 [03:37<01:56, 15.89it/s]"
     ]
    },
    {
     "name": "stdout",
     "output_type": "stream",
     "text": [
      "Word: \"secure\" -> \"secur\" not in vocab\n",
      "isPersonalPronoun: False\n",
      "isNumber: False\n",
      "isTopping: False\n",
      "isQuantity: False\n",
      "Word: \"sweet\" -> \"sweet\" not in vocab\n",
      "isPersonalPronoun: False\n",
      "isNumber: False\n",
      "isTopping: False\n",
      "isQuantity: False\n",
      "Word: \"sweet\" -> \"sweet\" not in vocab\n",
      "isPersonalPronoun: False\n",
      "isNumber: False\n",
      "isTopping: False\n",
      "isQuantity: False\n",
      "Word: \"duck\" -> \"duck\" not in vocab\n",
      "isPersonalPronoun: False\n",
      "isNumber: False\n",
      "isTopping: False\n",
      "isQuantity: False\n",
      "Word: \"duck\" -> \"duck\" not in vocab\n",
      "isPersonalPronoun: False\n",
      "isNumber: False\n",
      "isTopping: False\n",
      "isQuantity: False\n"
     ]
    },
    {
     "name": "stderr",
     "output_type": "stream",
     "text": [
      "writing results:  54%|█████▎    | 2146/4000 [03:37<02:08, 14.40it/s]"
     ]
    },
    {
     "name": "stdout",
     "output_type": "stream",
     "text": [
      "Word: \"sort\" -> \"sort\" not in vocab\n",
      "isPersonalPronoun: False\n",
      "isNumber: False\n",
      "isTopping: False\n",
      "isQuantity: False\n",
      "Word: \"lamb\" -> \"lamb\" not in vocab\n",
      "isPersonalPronoun: False\n",
      "isNumber: False\n",
      "isTopping: False\n",
      "isQuantity: False\n",
      "Word: \"leeks\" -> \"leek\" not in vocab\n",
      "isPersonalPronoun: False\n",
      "isNumber: False\n",
      "isTopping: True\n",
      "isQuantity: False\n",
      "Word: \"lamb\" -> \"lamb\" not in vocab\n",
      "isPersonalPronoun: False\n",
      "isNumber: False\n",
      "isTopping: False\n",
      "isQuantity: False\n"
     ]
    },
    {
     "name": "stderr",
     "output_type": "stream",
     "text": [
      "writing results:  54%|█████▎    | 2148/4000 [03:38<02:35, 11.89it/s]"
     ]
    },
    {
     "name": "stdout",
     "output_type": "stream",
     "text": [
      "Word: \"sweet\" -> \"sweet\" not in vocab\n",
      "isPersonalPronoun: False\n",
      "isNumber: False\n",
      "isTopping: False\n",
      "isQuantity: False\n",
      "Word: \"sweet\" -> \"sweet\" not in vocab\n",
      "isPersonalPronoun: False\n",
      "isNumber: False\n",
      "isTopping: False\n",
      "isQuantity: False\n"
     ]
    },
    {
     "name": "stderr",
     "output_type": "stream",
     "text": [
      "writing results:  54%|█████▍    | 2155/4000 [03:38<02:17, 13.46it/s]"
     ]
    },
    {
     "name": "stdout",
     "output_type": "stream",
     "text": [
      "Word: \"enjoy\" -> \"enjoy\" not in vocab\n",
      "isPersonalPronoun: False\n",
      "isNumber: False\n",
      "isTopping: False\n",
      "isQuantity: False\n",
      "Word: \"cabbage\" -> \"cabbag\" not in vocab\n",
      "isPersonalPronoun: False\n",
      "isNumber: False\n",
      "isTopping: False\n",
      "isQuantity: False\n",
      "Word: \"cabbage\" -> \"cabbag\" not in vocab\n",
      "isPersonalPronoun: False\n",
      "isNumber: False\n",
      "isTopping: False\n",
      "isQuantity: False\n",
      "Word: \"hummus\" -> \"hummu\" not in vocab\n",
      "isPersonalPronoun: False\n",
      "isNumber: False\n",
      "isTopping: False\n",
      "isQuantity: False\n",
      "Word: \"mint\" -> \"mint\" not in vocab\n",
      "isPersonalPronoun: False\n",
      "isNumber: False\n",
      "isTopping: False\n",
      "isQuantity: False\n"
     ]
    },
    {
     "name": "stderr",
     "output_type": "stream",
     "text": [
      "writing results:  54%|█████▍    | 2160/4000 [03:38<02:10, 14.10it/s]"
     ]
    },
    {
     "name": "stdout",
     "output_type": "stream",
     "text": [
      "Word: \"craving\" -> \"crave\" not in vocab\n",
      "isPersonalPronoun: False\n",
      "isNumber: False\n",
      "isTopping: False\n",
      "isQuantity: False\n",
      "Word: \"cucumber\" -> \"cucumb\" not in vocab\n",
      "isPersonalPronoun: False\n",
      "isNumber: False\n",
      "isTopping: False\n",
      "isQuantity: False\n"
     ]
    },
    {
     "name": "stderr",
     "output_type": "stream",
     "text": [
      "writing results:  54%|█████▍    | 2163/4000 [03:39<01:49, 16.76it/s]"
     ]
    },
    {
     "name": "stdout",
     "output_type": "stream",
     "text": [
      "Word: \"bail\" -> \"bail\" not in vocab\n",
      "isPersonalPronoun: False\n",
      "isNumber: False\n",
      "isTopping: False\n",
      "isQuantity: False\n",
      "Word: \"bail\" -> \"bail\" not in vocab\n",
      "isPersonalPronoun: False\n",
      "isNumber: False\n",
      "isTopping: False\n",
      "isQuantity: False\n",
      "Word: \"sauted\" -> \"saut\" not in vocab\n",
      "isPersonalPronoun: False\n",
      "isNumber: False\n",
      "isTopping: False\n",
      "isQuantity: False\n",
      "Word: \"sweet\" -> \"sweet\" not in vocab\n",
      "isPersonalPronoun: False\n",
      "isNumber: False\n",
      "isTopping: False\n",
      "isQuantity: False\n",
      "Word: \"sauted\" -> \"saut\" not in vocab\n",
      "isPersonalPronoun: False\n",
      "isNumber: False\n",
      "isTopping: False\n",
      "isQuantity: False\n",
      "Word: \"sweet\" -> \"sweet\" not in vocab\n",
      "isPersonalPronoun: False\n",
      "isNumber: False\n",
      "isTopping: False\n",
      "isQuantity: False\n",
      "Word: \"sauted\" -> \"saut\" not in vocab\n",
      "isPersonalPronoun: False\n",
      "isNumber: False\n",
      "isTopping: False\n",
      "isQuantity: False\n"
     ]
    },
    {
     "name": "stderr",
     "output_type": "stream",
     "text": [
      "writing results:  54%|█████▍    | 2167/4000 [03:39<02:08, 14.31it/s]"
     ]
    },
    {
     "name": "stdout",
     "output_type": "stream",
     "text": [
      "Word: \"sweet\" -> \"sweet\" not in vocab\n",
      "isPersonalPronoun: False\n",
      "isNumber: False\n",
      "isTopping: False\n",
      "isQuantity: False\n",
      "Word: \"sweet\" -> \"sweet\" not in vocab\n",
      "isPersonalPronoun: False\n",
      "isNumber: False\n",
      "isTopping: False\n",
      "isQuantity: False\n",
      "Word: \"ea\" -> \"ea\" not in vocab\n",
      "isPersonalPronoun: False\n",
      "isNumber: False\n",
      "isTopping: False\n",
      "isQuantity: False\n",
      "Word: \"hook\" -> \"hook\" not in vocab\n",
      "isPersonalPronoun: False\n",
      "isNumber: False\n",
      "isTopping: False\n",
      "isQuantity: False\n"
     ]
    },
    {
     "name": "stderr",
     "output_type": "stream",
     "text": [
      "writing results:  54%|█████▍    | 2171/4000 [03:39<01:38, 18.62it/s]"
     ]
    },
    {
     "name": "stdout",
     "output_type": "stream",
     "text": [
      "Word: \"leeks\" -> \"leek\" not in vocab\n",
      "isPersonalPronoun: False\n",
      "isNumber: False\n",
      "isTopping: True\n",
      "isQuantity: False\n",
      "Word: \"mint\" -> \"mint\" not in vocab\n",
      "isPersonalPronoun: False\n",
      "isNumber: False\n",
      "isTopping: False\n",
      "isQuantity: False\n",
      "Word: \"mint\" -> \"mint\" not in vocab\n",
      "isPersonalPronoun: False\n",
      "isNumber: False\n",
      "isTopping: False\n",
      "isQuantity: False\n"
     ]
    },
    {
     "name": "stderr",
     "output_type": "stream",
     "text": [
      "writing results:  54%|█████▍    | 2174/4000 [03:39<02:13, 13.73it/s]"
     ]
    },
    {
     "name": "stdout",
     "output_type": "stream",
     "text": [
      "Word: \"gruyeres\" -> \"gruyer\" not in vocab\n",
      "isPersonalPronoun: False\n",
      "isNumber: False\n",
      "isTopping: False\n",
      "isQuantity: False\n",
      "Word: \"gruyeres\" -> \"gruyer\" not in vocab\n",
      "isPersonalPronoun: False\n",
      "isNumber: False\n",
      "isTopping: False\n",
      "isQuantity: False\n"
     ]
    },
    {
     "name": "stderr",
     "output_type": "stream",
     "text": [
      "writing results:  54%|█████▍    | 2176/4000 [03:40<02:22, 12.80it/s]"
     ]
    },
    {
     "name": "stdout",
     "output_type": "stream",
     "text": [
      "Word: \"i've\" -> \"i'v\" not in vocab\n",
      "isPersonalPronoun: False\n",
      "isNumber: False\n",
      "isTopping: False\n",
      "isQuantity: False\n",
      "Word: \"decided\" -> \"decid\" not in vocab\n",
      "isPersonalPronoun: False\n",
      "isNumber: False\n",
      "isTopping: False\n",
      "isQuantity: False\n",
      "Word: \"goat\" -> \"goat\" not in vocab\n",
      "isPersonalPronoun: False\n",
      "isNumber: False\n",
      "isTopping: False\n",
      "isQuantity: False\n",
      "Word: \"goat\" -> \"goat\" not in vocab\n",
      "isPersonalPronoun: False\n",
      "isNumber: False\n",
      "isTopping: False\n",
      "isQuantity: False\n",
      "Word: \"aiming\" -> \"aim\" not in vocab\n",
      "isPersonalPronoun: False\n",
      "isNumber: False\n",
      "isTopping: False\n",
      "isQuantity: False\n",
      "Word: \"match\" -> \"match\" not in vocab\n",
      "isPersonalPronoun: False\n",
      "isNumber: False\n",
      "isTopping: False\n",
      "isQuantity: False\n",
      "Word: \"latte\" -> \"latt\" not in vocab\n",
      "isPersonalPronoun: False\n",
      "isNumber: False\n",
      "isTopping: False\n",
      "isQuantity: False\n"
     ]
    },
    {
     "name": "stderr",
     "output_type": "stream",
     "text": [
      "writing results:  54%|█████▍    | 2178/4000 [03:40<02:26, 12.41it/s]"
     ]
    },
    {
     "name": "stdout",
     "output_type": "stream",
     "text": [
      "Word: \"match\" -> \"match\" not in vocab\n",
      "isPersonalPronoun: False\n",
      "isNumber: False\n",
      "isTopping: False\n",
      "isQuantity: False\n",
      "Word: \"latte\" -> \"latt\" not in vocab\n",
      "isPersonalPronoun: False\n",
      "isNumber: False\n",
      "isTopping: False\n",
      "isQuantity: False\n",
      "Word: \"extralarge\" -> \"extralarg\" not in vocab\n",
      "isPersonalPronoun: False\n",
      "isNumber: False\n",
      "isTopping: False\n",
      "isQuantity: False\n",
      "Word: \"cabbage\" -> \"cabbag\" not in vocab\n",
      "isPersonalPronoun: False\n",
      "isNumber: False\n",
      "isTopping: False\n",
      "isQuantity: False\n"
     ]
    },
    {
     "name": "stderr",
     "output_type": "stream",
     "text": [
      "writing results:  55%|█████▍    | 2180/4000 [03:41<07:08,  4.25it/s]"
     ]
    },
    {
     "name": "stdout",
     "output_type": "stream",
     "text": [
      "Word: \"extralarge\" -> \"extralarg\" not in vocab\n",
      "isPersonalPronoun: False\n",
      "isNumber: False\n",
      "isTopping: False\n",
      "isQuantity: False\n",
      "Word: \"cabbage\" -> \"cabbag\" not in vocab\n",
      "isPersonalPronoun: False\n",
      "isNumber: False\n",
      "isTopping: False\n",
      "isQuantity: False\n",
      "Word: \"finalize\" -> \"final\" not in vocab\n",
      "isPersonalPronoun: False\n",
      "isNumber: False\n",
      "isTopping: False\n",
      "isQuantity: False\n"
     ]
    },
    {
     "name": "stderr",
     "output_type": "stream",
     "text": [
      "writing results:  55%|█████▍    | 2185/4000 [03:41<04:20,  6.97it/s]"
     ]
    },
    {
     "name": "stdout",
     "output_type": "stream",
     "text": [
      "Word: \"duck\" -> \"duck\" not in vocab\n",
      "isPersonalPronoun: False\n",
      "isNumber: False\n",
      "isTopping: False\n",
      "isQuantity: False\n",
      "Word: \"duck\" -> \"duck\" not in vocab\n",
      "isPersonalPronoun: False\n",
      "isNumber: False\n",
      "isTopping: False\n",
      "isQuantity: False\n",
      "Word: \"gruyeres\" -> \"gruyer\" not in vocab\n",
      "isPersonalPronoun: False\n",
      "isNumber: False\n",
      "isTopping: False\n",
      "isQuantity: False\n"
     ]
    },
    {
     "name": "stderr",
     "output_type": "stream",
     "text": [
      "writing results:  55%|█████▍    | 2187/4000 [03:42<04:15,  7.08it/s]"
     ]
    },
    {
     "name": "stdout",
     "output_type": "stream",
     "text": [
      "Word: \"gruyeres\" -> \"gruyer\" not in vocab\n",
      "isPersonalPronoun: False\n",
      "isNumber: False\n",
      "isTopping: False\n",
      "isQuantity: False\n",
      "Word: \"mushy\" -> \"mushi\" not in vocab\n",
      "isPersonalPronoun: False\n",
      "isNumber: False\n",
      "isTopping: False\n",
      "isQuantity: False\n",
      "Word: \"mushy\" -> \"mushi\" not in vocab\n",
      "isPersonalPronoun: False\n",
      "isNumber: False\n",
      "isTopping: False\n",
      "isQuantity: False\n",
      "Word: \"gruyeres\" -> \"gruyer\" not in vocab\n",
      "isPersonalPronoun: False\n",
      "isNumber: False\n",
      "isTopping: False\n",
      "isQuantity: False\n",
      "Word: \"gruyeres\" -> \"gruyer\" not in vocab\n",
      "isPersonalPronoun: False\n",
      "isNumber: False\n",
      "isTopping: False\n",
      "isQuantity: False\n",
      "Word: \"humus\" -> \"humu\" not in vocab\n",
      "isPersonalPronoun: False\n",
      "isNumber: False\n",
      "isTopping: False\n",
      "isQuantity: False\n"
     ]
    },
    {
     "name": "stderr",
     "output_type": "stream",
     "text": [
      "writing results:  55%|█████▍    | 2192/4000 [03:42<03:22,  8.93it/s]"
     ]
    },
    {
     "name": "stdout",
     "output_type": "stream",
     "text": [
      "Word: \"humus\" -> \"humu\" not in vocab\n",
      "isPersonalPronoun: False\n",
      "isNumber: False\n",
      "isTopping: False\n",
      "isQuantity: False\n",
      "Word: \"ricotta cheese\" -> \"ricotta chees\" not in vocab\n",
      "isPersonalPronoun: False\n",
      "isNumber: False\n",
      "isTopping: False\n",
      "isQuantity: False\n",
      "Word: \"HAE\" -> \"hae\" not in vocab\n",
      "isPersonalPronoun: False\n",
      "isNumber: False\n",
      "isTopping: False\n",
      "isQuantity: False\n"
     ]
    },
    {
     "name": "stderr",
     "output_type": "stream",
     "text": [
      "writing results:  55%|█████▍    | 2194/4000 [03:42<03:30,  8.57it/s]"
     ]
    },
    {
     "name": "stdout",
     "output_type": "stream",
     "text": [
      "Word: \"gruyeres\" -> \"gruyer\" not in vocab\n",
      "isPersonalPronoun: False\n",
      "isNumber: False\n",
      "isTopping: False\n",
      "isQuantity: False\n",
      "Word: \"gruyeres\" -> \"gruyer\" not in vocab\n",
      "isPersonalPronoun: False\n",
      "isNumber: False\n",
      "isTopping: False\n",
      "isQuantity: False\n",
      "Word: \"like to\" -> \"like to\" not in vocab\n",
      "isPersonalPronoun: False\n",
      "isNumber: False\n",
      "isTopping: False\n",
      "isQuantity: False\n",
      "Word: \"hummus\" -> \"hummu\" not in vocab\n",
      "isPersonalPronoun: False\n",
      "isNumber: False\n",
      "isTopping: False\n",
      "isQuantity: False\n",
      "Word: \"hummus\" -> \"hummu\" not in vocab\n",
      "isPersonalPronoun: False\n",
      "isNumber: False\n",
      "isTopping: False\n",
      "isQuantity: False\n"
     ]
    },
    {
     "name": "stderr",
     "output_type": "stream",
     "text": [
      "writing results:  55%|█████▍    | 2196/4000 [03:43<03:06,  9.69it/s]"
     ]
    },
    {
     "name": "stdout",
     "output_type": "stream",
     "text": [
      "Word: \"sort\" -> \"sort\" not in vocab\n",
      "isPersonalPronoun: False\n",
      "isNumber: False\n",
      "isTopping: False\n",
      "isQuantity: False\n",
      "Word: \"sweet\" -> \"sweet\" not in vocab\n",
      "isPersonalPronoun: False\n",
      "isNumber: False\n",
      "isTopping: False\n",
      "isQuantity: False\n",
      "Word: \"sweet\" -> \"sweet\" not in vocab\n",
      "isPersonalPronoun: False\n",
      "isNumber: False\n",
      "isTopping: False\n",
      "isQuantity: False\n",
      "Word: \"fruit\" -> \"fruit\" not in vocab\n",
      "isPersonalPronoun: False\n",
      "isNumber: False\n",
      "isTopping: False\n",
      "isQuantity: False\n",
      "Word: \"punch\" -> \"punch\" not in vocab\n",
      "isPersonalPronoun: False\n",
      "isNumber: False\n",
      "isTopping: False\n",
      "isQuantity: False\n",
      "Word: \"mint\" -> \"mint\" not in vocab\n",
      "isPersonalPronoun: False\n",
      "isNumber: False\n",
      "isTopping: False\n",
      "isQuantity: False\n"
     ]
    },
    {
     "name": "stderr",
     "output_type": "stream",
     "text": [
      "writing results:  55%|█████▌    | 2202/4000 [03:43<02:05, 14.38it/s]"
     ]
    },
    {
     "name": "stdout",
     "output_type": "stream",
     "text": [
      "Word: \"mint\" -> \"mint\" not in vocab\n",
      "isPersonalPronoun: False\n",
      "isNumber: False\n",
      "isTopping: False\n",
      "isQuantity: False\n",
      "Word: \"hummus\" -> \"hummu\" not in vocab\n",
      "isPersonalPronoun: False\n",
      "isNumber: False\n",
      "isTopping: False\n",
      "isQuantity: False\n",
      "Word: \"hummus\" -> \"hummu\" not in vocab\n",
      "isPersonalPronoun: False\n",
      "isNumber: False\n",
      "isTopping: False\n",
      "isQuantity: False\n",
      "Word: \"cabbage\" -> \"cabbag\" not in vocab\n",
      "isPersonalPronoun: False\n",
      "isNumber: False\n",
      "isTopping: False\n",
      "isQuantity: False\n"
     ]
    },
    {
     "name": "stderr",
     "output_type": "stream",
     "text": [
      "writing results:  55%|█████▌    | 2208/4000 [03:43<01:40, 17.75it/s]"
     ]
    },
    {
     "name": "stdout",
     "output_type": "stream",
     "text": [
      "Word: \"sauteed spinach\" -> \"sauteed spinach\" not in vocab\n",
      "isPersonalPronoun: False\n",
      "isNumber: False\n",
      "isTopping: False\n",
      "isQuantity: False\n",
      "Word: \"sauteed spinach\" -> \"sauteed spinach\" not in vocab\n",
      "isPersonalPronoun: False\n",
      "isNumber: False\n",
      "isTopping: False\n",
      "isQuantity: False\n",
      "Word: \"cabbage\" -> \"cabbag\" not in vocab\n",
      "isPersonalPronoun: False\n",
      "isNumber: False\n",
      "isTopping: False\n",
      "isQuantity: False\n",
      "Word: \"cabbage\" -> \"cabbag\" not in vocab\n",
      "isPersonalPronoun: False\n",
      "isNumber: False\n",
      "isTopping: False\n",
      "isQuantity: False\n",
      "Word: \"cutup\" -> \"cutup\" not in vocab\n",
      "isPersonalPronoun: False\n",
      "isNumber: False\n",
      "isTopping: False\n",
      "isQuantity: False\n",
      "Word: \"herbal\" -> \"herbal\" not in vocab\n",
      "isPersonalPronoun: False\n",
      "isNumber: False\n",
      "isTopping: False\n",
      "isQuantity: False\n",
      "Word: \"herbal\" -> \"herbal\" not in vocab\n",
      "isPersonalPronoun: False\n",
      "isNumber: False\n",
      "isTopping: False\n",
      "isQuantity: False\n",
      "Word: \"flavored\" -> \"flavor\" not in vocab\n",
      "isPersonalPronoun: False\n",
      "isNumber: False\n",
      "isTopping: False\n",
      "isQuantity: False\n",
      "Word: \"flavored\" -> \"flavor\" not in vocab\n",
      "isPersonalPronoun: False\n",
      "isNumber: False\n",
      "isTopping: False\n",
      "isQuantity: False\n"
     ]
    },
    {
     "name": "stderr",
     "output_type": "stream",
     "text": [
      "writing results:  55%|█████▌    | 2213/4000 [03:44<02:08, 13.89it/s]"
     ]
    },
    {
     "name": "stdout",
     "output_type": "stream",
     "text": [
      "Word: \"met\" -> \"met\" not in vocab\n",
      "isPersonalPronoun: False\n",
      "isNumber: False\n",
      "isTopping: False\n",
      "isQuantity: False\n",
      "Word: \"met\" -> \"met\" not in vocab\n",
      "isPersonalPronoun: False\n",
      "isNumber: False\n",
      "isTopping: False\n",
      "isQuantity: False\n",
      "Word: \"sweet\" -> \"sweet\" not in vocab\n",
      "isPersonalPronoun: False\n",
      "isNumber: False\n",
      "isTopping: False\n",
      "isQuantity: False\n"
     ]
    },
    {
     "name": "stderr",
     "output_type": "stream",
     "text": [
      "writing results:  55%|█████▌    | 2215/4000 [03:44<02:30, 11.86it/s]"
     ]
    },
    {
     "name": "stdout",
     "output_type": "stream",
     "text": [
      "Word: \"smoked\" -> \"smoke\" not in vocab\n",
      "isPersonalPronoun: False\n",
      "isNumber: False\n",
      "isTopping: False\n",
      "isQuantity: False\n",
      "Word: \"salmon\" -> \"salmon\" not in vocab\n",
      "isPersonalPronoun: False\n",
      "isNumber: False\n",
      "isTopping: False\n",
      "isQuantity: False\n",
      "Word: \"prawns\" -> \"prawn\" not in vocab\n",
      "isPersonalPronoun: False\n",
      "isNumber: False\n",
      "isTopping: False\n",
      "isQuantity: False\n",
      "Word: \"smoked\" -> \"smoke\" not in vocab\n",
      "isPersonalPronoun: False\n",
      "isNumber: False\n",
      "isTopping: False\n",
      "isQuantity: False\n",
      "Word: \"salmon\" -> \"salmon\" not in vocab\n",
      "isPersonalPronoun: False\n",
      "isNumber: False\n",
      "isTopping: False\n",
      "isQuantity: False\n",
      "Word: \"prawns\" -> \"prawn\" not in vocab\n",
      "isPersonalPronoun: False\n",
      "isNumber: False\n",
      "isTopping: False\n",
      "isQuantity: False\n"
     ]
    },
    {
     "name": "stderr",
     "output_type": "stream",
     "text": [
      "writing results:  55%|█████▌    | 2217/4000 [03:45<06:25,  4.62it/s]"
     ]
    },
    {
     "name": "stdout",
     "output_type": "stream",
     "text": [
      "Word: \"leeks\" -> \"leek\" not in vocab\n",
      "isPersonalPronoun: False\n",
      "isNumber: False\n",
      "isTopping: True\n",
      "isQuantity: False\n",
      "Word: \"leeks\" -> \"leek\" not in vocab\n",
      "isPersonalPronoun: False\n",
      "isNumber: False\n",
      "isTopping: True\n",
      "isQuantity: False\n",
      "Word: \"kimchi\" -> \"kimchi\" not in vocab\n",
      "isPersonalPronoun: False\n",
      "isNumber: False\n",
      "isTopping: False\n",
      "isQuantity: False\n",
      "Word: \"sweet\" -> \"sweet\" not in vocab\n",
      "isPersonalPronoun: False\n",
      "isNumber: False\n",
      "isTopping: False\n",
      "isQuantity: False\n"
     ]
    },
    {
     "name": "stderr",
     "output_type": "stream",
     "text": [
      "writing results:  56%|█████▌    | 2226/4000 [03:45<02:32, 11.64it/s]"
     ]
    },
    {
     "name": "stdout",
     "output_type": "stream",
     "text": [
      "Word: \"kimchi\" -> \"kimchi\" not in vocab\n",
      "isPersonalPronoun: False\n",
      "isNumber: False\n",
      "isTopping: False\n",
      "isQuantity: False\n",
      "Word: \"sweet\" -> \"sweet\" not in vocab\n",
      "isPersonalPronoun: False\n",
      "isNumber: False\n",
      "isTopping: False\n",
      "isQuantity: False\n",
      "Word: \"lamb\" -> \"lamb\" not in vocab\n",
      "isPersonalPronoun: False\n",
      "isNumber: False\n",
      "isTopping: False\n",
      "isQuantity: False\n",
      "Word: \"grab\" -> \"grab\" not in vocab\n",
      "isPersonalPronoun: False\n",
      "isNumber: False\n",
      "isTopping: False\n",
      "isQuantity: False\n"
     ]
    },
    {
     "name": "stderr",
     "output_type": "stream",
     "text": [
      "writing results:  56%|█████▌    | 2234/4000 [03:46<02:37, 11.22it/s]"
     ]
    },
    {
     "name": "stdout",
     "output_type": "stream",
     "text": [
      "Word: \"grab\" -> \"grab\" not in vocab\n",
      "isPersonalPronoun: False\n",
      "isNumber: False\n",
      "isTopping: False\n",
      "isQuantity: False\n",
      "Word: \"protein\" -> \"protein\" not in vocab\n",
      "isPersonalPronoun: False\n",
      "isNumber: False\n",
      "isTopping: False\n",
      "isQuantity: False\n",
      "Word: \"shakes\" -> \"shake\" not in vocab\n",
      "isPersonalPronoun: False\n",
      "isNumber: False\n",
      "isTopping: False\n",
      "isQuantity: False\n",
      "Word: \"protein\" -> \"protein\" not in vocab\n",
      "isPersonalPronoun: False\n",
      "isNumber: False\n",
      "isTopping: False\n",
      "isQuantity: False\n",
      "Word: \"shakes\" -> \"shake\" not in vocab\n",
      "isPersonalPronoun: False\n",
      "isNumber: False\n",
      "isTopping: False\n",
      "isQuantity: False\n"
     ]
    },
    {
     "name": "stderr",
     "output_type": "stream",
     "text": [
      "writing results:  56%|█████▌    | 2237/4000 [03:46<02:26, 12.07it/s]"
     ]
    },
    {
     "name": "stdout",
     "output_type": "stream",
     "text": [
      "Word: \"Oder\" -> \"oder\" not in vocab\n",
      "isPersonalPronoun: False\n",
      "isNumber: False\n",
      "isTopping: False\n",
      "isQuantity: False\n",
      "Word: \"mint\" -> \"mint\" not in vocab\n",
      "isPersonalPronoun: False\n",
      "isNumber: False\n",
      "isTopping: False\n",
      "isQuantity: False\n",
      "Word: \"mint\" -> \"mint\" not in vocab\n",
      "isPersonalPronoun: False\n",
      "isNumber: False\n",
      "isTopping: False\n",
      "isQuantity: False\n",
      "Word: \"large size\" -> \"large s\" not in vocab\n",
      "isPersonalPronoun: False\n",
      "isNumber: False\n",
      "isTopping: False\n",
      "isQuantity: False\n",
      "Word: \"large size\" -> \"large s\" not in vocab\n",
      "isPersonalPronoun: False\n",
      "isNumber: False\n",
      "isTopping: False\n",
      "isQuantity: False\n"
     ]
    },
    {
     "name": "stderr",
     "output_type": "stream",
     "text": [
      "writing results:  56%|█████▌    | 2247/4000 [03:47<01:42, 17.06it/s]"
     ]
    },
    {
     "name": "stdout",
     "output_type": "stream",
     "text": [
      "Word: \"juice\" -> \"juic\" not in vocab\n",
      "isPersonalPronoun: False\n",
      "isNumber: False\n",
      "isTopping: False\n",
      "isQuantity: False\n",
      "Word: \"juice\" -> \"juic\" not in vocab\n",
      "isPersonalPronoun: False\n",
      "isNumber: False\n",
      "isTopping: False\n",
      "isQuantity: False\n",
      "Word: \"sort\" -> \"sort\" not in vocab\n",
      "isPersonalPronoun: False\n",
      "isNumber: False\n",
      "isTopping: False\n",
      "isQuantity: False\n"
     ]
    },
    {
     "name": "stderr",
     "output_type": "stream",
     "text": [
      "writing results:  56%|█████▋    | 2250/4000 [03:47<01:35, 18.33it/s]"
     ]
    },
    {
     "name": "stdout",
     "output_type": "stream",
     "text": [
      "Word: \"hummus\" -> \"hummu\" not in vocab\n",
      "isPersonalPronoun: False\n",
      "isNumber: False\n",
      "isTopping: False\n",
      "isQuantity: False\n",
      "Word: \"hummus\" -> \"hummu\" not in vocab\n",
      "isPersonalPronoun: False\n",
      "isNumber: False\n",
      "isTopping: False\n",
      "isQuantity: False\n",
      "Word: \"hummus\" -> \"hummu\" not in vocab\n",
      "isPersonalPronoun: False\n",
      "isNumber: False\n",
      "isTopping: False\n",
      "isQuantity: False\n",
      "Word: \"footing\" -> \"foot\" not in vocab\n",
      "isPersonalPronoun: False\n",
      "isNumber: False\n",
      "isTopping: False\n",
      "isQuantity: True\n"
     ]
    },
    {
     "name": "stderr",
     "output_type": "stream",
     "text": [
      "writing results:  56%|█████▋    | 2253/4000 [03:48<03:33,  8.19it/s]"
     ]
    },
    {
     "name": "stdout",
     "output_type": "stream",
     "text": [
      "Word: \"footing\" -> \"foot\" not in vocab\n",
      "isPersonalPronoun: False\n",
      "isNumber: False\n",
      "isTopping: False\n",
      "isQuantity: True\n",
      "Word: \"i've\" -> \"i'v\" not in vocab\n",
      "isPersonalPronoun: False\n",
      "isNumber: False\n",
      "isTopping: False\n",
      "isQuantity: False\n",
      "Word: \"decided\" -> \"decid\" not in vocab\n",
      "isPersonalPronoun: False\n",
      "isNumber: False\n",
      "isTopping: False\n",
      "isQuantity: False\n",
      "Word: \"aiming\" -> \"aim\" not in vocab\n",
      "isPersonalPronoun: False\n",
      "isNumber: False\n",
      "isTopping: False\n",
      "isQuantity: False\n",
      "Word: \"heavy on\" -> \"heavy on\" not in vocab\n",
      "isPersonalPronoun: False\n",
      "isNumber: False\n",
      "isTopping: False\n",
      "isQuantity: False\n",
      "Word: \"sirach\" -> \"sirach\" not in vocab\n",
      "isPersonalPronoun: False\n",
      "isNumber: False\n",
      "isTopping: False\n",
      "isQuantity: False\n"
     ]
    },
    {
     "name": "stderr",
     "output_type": "stream",
     "text": [
      "writing results:  56%|█████▋    | 2259/4000 [03:50<05:36,  5.17it/s]"
     ]
    },
    {
     "name": "stdout",
     "output_type": "stream",
     "text": [
      "Word: \"heavy\" -> \"heavi\" not in vocab\n",
      "isPersonalPronoun: False\n",
      "isNumber: False\n",
      "isTopping: False\n",
      "isQuantity: False\n",
      "Word: \"sirach\" -> \"sirach\" not in vocab\n",
      "isPersonalPronoun: False\n",
      "isNumber: False\n",
      "isTopping: False\n",
      "isQuantity: False\n",
      "Word: \"sweet\" -> \"sweet\" not in vocab\n",
      "isPersonalPronoun: False\n",
      "isNumber: False\n",
      "isTopping: False\n",
      "isQuantity: False\n",
      "Word: \"bay leaves\" -> \"bay leav\" not in vocab\n",
      "isPersonalPronoun: False\n",
      "isNumber: False\n",
      "isTopping: False\n",
      "isQuantity: False\n"
     ]
    },
    {
     "name": "stderr",
     "output_type": "stream",
     "text": [
      "writing results:  57%|█████▋    | 2262/4000 [03:50<04:50,  5.99it/s]"
     ]
    },
    {
     "name": "stdout",
     "output_type": "stream",
     "text": [
      "Word: \"sweet\" -> \"sweet\" not in vocab\n",
      "isPersonalPronoun: False\n",
      "isNumber: False\n",
      "isTopping: False\n",
      "isQuantity: False\n",
      "Word: \"smoked\" -> \"smoke\" not in vocab\n",
      "isPersonalPronoun: False\n",
      "isNumber: False\n",
      "isTopping: False\n",
      "isQuantity: False\n",
      "Word: \"salmon\" -> \"salmon\" not in vocab\n",
      "isPersonalPronoun: False\n",
      "isNumber: False\n",
      "isTopping: False\n",
      "isQuantity: False\n",
      "Word: \"smoked\" -> \"smoke\" not in vocab\n",
      "isPersonalPronoun: False\n",
      "isNumber: False\n",
      "isTopping: False\n",
      "isQuantity: False\n",
      "Word: \"salmon\" -> \"salmon\" not in vocab\n",
      "isPersonalPronoun: False\n",
      "isNumber: False\n",
      "isTopping: False\n",
      "isQuantity: False\n",
      "Word: \"leeks\" -> \"leek\" not in vocab\n",
      "isPersonalPronoun: False\n",
      "isNumber: False\n",
      "isTopping: True\n",
      "isQuantity: False\n",
      "Word: \"leeks\" -> \"leek\" not in vocab\n",
      "isPersonalPronoun: False\n",
      "isNumber: False\n",
      "isTopping: True\n",
      "isQuantity: False\n",
      "Word: \"juice\" -> \"juic\" not in vocab\n",
      "isPersonalPronoun: False\n",
      "isNumber: False\n",
      "isTopping: False\n",
      "isQuantity: False\n",
      "Word: \"boxes\" -> \"box\" not in vocab\n",
      "isPersonalPronoun: False\n",
      "isNumber: False\n",
      "isTopping: False\n",
      "isQuantity: False\n"
     ]
    },
    {
     "name": "stderr",
     "output_type": "stream",
     "text": [
      "writing results:  57%|█████▋    | 2264/4000 [03:51<05:11,  5.57it/s]"
     ]
    },
    {
     "name": "stdout",
     "output_type": "stream",
     "text": [
      "Word: \"juice\" -> \"juic\" not in vocab\n",
      "isPersonalPronoun: False\n",
      "isNumber: False\n",
      "isTopping: False\n",
      "isQuantity: False\n",
      "Word: \"boxes\" -> \"box\" not in vocab\n",
      "isPersonalPronoun: False\n",
      "isNumber: False\n",
      "isTopping: False\n",
      "isQuantity: False\n",
      "Word: \"chard\" -> \"chard\" not in vocab\n",
      "isPersonalPronoun: False\n",
      "isNumber: False\n",
      "isTopping: False\n",
      "isQuantity: False\n",
      "Word: \"chard\" -> \"chard\" not in vocab\n",
      "isPersonalPronoun: False\n",
      "isNumber: False\n",
      "isTopping: False\n",
      "isQuantity: False\n"
     ]
    },
    {
     "name": "stderr",
     "output_type": "stream",
     "text": [
      "writing results:  57%|█████▋    | 2271/4000 [03:51<02:56,  9.78it/s]"
     ]
    },
    {
     "name": "stdout",
     "output_type": "stream",
     "text": [
      "Word: \"lamb\" -> \"lamb\" not in vocab\n",
      "isPersonalPronoun: False\n",
      "isNumber: False\n",
      "isTopping: False\n",
      "isQuantity: False\n",
      "Word: \"zest\" -> \"zest\" not in vocab\n",
      "isPersonalPronoun: False\n",
      "isNumber: False\n",
      "isTopping: False\n",
      "isQuantity: False\n",
      "Word: \"zest\" -> \"zest\" not in vocab\n",
      "isPersonalPronoun: False\n",
      "isNumber: False\n",
      "isTopping: False\n",
      "isQuantity: False\n"
     ]
    },
    {
     "name": "stderr",
     "output_type": "stream",
     "text": [
      "writing results:  57%|█████▋    | 2275/4000 [03:51<02:32, 11.32it/s]"
     ]
    },
    {
     "name": "stdout",
     "output_type": "stream",
     "text": [
      "Word: \"kimchi\" -> \"kimchi\" not in vocab\n",
      "isPersonalPronoun: False\n",
      "isNumber: False\n",
      "isTopping: False\n",
      "isQuantity: False\n",
      "Word: \"kimchi\" -> \"kimchi\" not in vocab\n",
      "isPersonalPronoun: False\n",
      "isNumber: False\n",
      "isTopping: False\n",
      "isQuantity: False\n",
      "Word: \"lamb\" -> \"lamb\" not in vocab\n",
      "isPersonalPronoun: False\n",
      "isNumber: False\n",
      "isTopping: False\n",
      "isQuantity: False\n",
      "Word: \"lamb\" -> \"lamb\" not in vocab\n",
      "isPersonalPronoun: False\n",
      "isNumber: False\n",
      "isTopping: False\n",
      "isQuantity: False\n"
     ]
    },
    {
     "name": "stderr",
     "output_type": "stream",
     "text": [
      "writing results:  57%|█████▋    | 2277/4000 [03:51<02:42, 10.63it/s]"
     ]
    },
    {
     "name": "stdout",
     "output_type": "stream",
     "text": [
      "Word: \"leeks\" -> \"leek\" not in vocab\n",
      "isPersonalPronoun: False\n",
      "isNumber: False\n",
      "isTopping: True\n",
      "isQuantity: False\n",
      "Word: \"mint\" -> \"mint\" not in vocab\n",
      "isPersonalPronoun: False\n",
      "isNumber: False\n",
      "isTopping: False\n",
      "isQuantity: False\n",
      "Word: \"bail\" -> \"bail\" not in vocab\n",
      "isPersonalPronoun: False\n",
      "isNumber: False\n",
      "isTopping: False\n",
      "isQuantity: False\n",
      "Word: \"mint\" -> \"mint\" not in vocab\n",
      "isPersonalPronoun: False\n",
      "isNumber: False\n",
      "isTopping: False\n",
      "isQuantity: False\n",
      "Word: \"bail\" -> \"bail\" not in vocab\n",
      "isPersonalPronoun: False\n",
      "isNumber: False\n",
      "isTopping: False\n",
      "isQuantity: False\n",
      "Word: \"lamb\" -> \"lamb\" not in vocab\n",
      "isPersonalPronoun: False\n",
      "isNumber: False\n",
      "isTopping: False\n",
      "isQuantity: False\n",
      "Word: \"gruyeres\" -> \"gruyer\" not in vocab\n",
      "isPersonalPronoun: False\n",
      "isNumber: False\n",
      "isTopping: False\n",
      "isQuantity: False\n"
     ]
    },
    {
     "name": "stderr",
     "output_type": "stream",
     "text": [
      "writing results:  57%|█████▋    | 2279/4000 [03:52<03:04,  9.35it/s]"
     ]
    },
    {
     "name": "stdout",
     "output_type": "stream",
     "text": [
      "Word: \"gruyeres\" -> \"gruyer\" not in vocab\n",
      "isPersonalPronoun: False\n",
      "isNumber: False\n",
      "isTopping: False\n",
      "isQuantity: False\n"
     ]
    },
    {
     "name": "stderr",
     "output_type": "stream",
     "text": [
      "writing results:  57%|█████▋    | 2282/4000 [03:52<02:57,  9.66it/s]"
     ]
    },
    {
     "name": "stdout",
     "output_type": "stream",
     "text": [
      "Word: \"got\" -> \"got\" not in vocab\n",
      "isPersonalPronoun: False\n",
      "isNumber: False\n",
      "isTopping: False\n",
      "isQuantity: False\n",
      "Word: \"got\" -> \"got\" not in vocab\n",
      "isPersonalPronoun: False\n",
      "isNumber: False\n",
      "isTopping: False\n",
      "isQuantity: False\n",
      "Word: \"got\" -> \"got\" not in vocab\n",
      "isPersonalPronoun: False\n",
      "isNumber: False\n",
      "isTopping: False\n",
      "isQuantity: False\n",
      "Word: \"got\" -> \"got\" not in vocab\n",
      "isPersonalPronoun: False\n",
      "isNumber: False\n",
      "isTopping: False\n",
      "isQuantity: False\n"
     ]
    },
    {
     "name": "stderr",
     "output_type": "stream",
     "text": [
      "writing results:  57%|█████▋    | 2290/4000 [03:52<01:38, 17.29it/s]"
     ]
    },
    {
     "name": "stdout",
     "output_type": "stream",
     "text": [
      "Word: \"opt\" -> \"opt\" not in vocab\n",
      "isPersonalPronoun: False\n",
      "isNumber: False\n",
      "isTopping: False\n",
      "isQuantity: False\n",
      "Word: \"gruyeres\" -> \"gruyer\" not in vocab\n",
      "isPersonalPronoun: False\n",
      "isNumber: False\n",
      "isTopping: False\n",
      "isQuantity: False\n",
      "Word: \"gruyeres\" -> \"gruyer\" not in vocab\n",
      "isPersonalPronoun: False\n",
      "isNumber: False\n",
      "isTopping: False\n",
      "isQuantity: False\n",
      "Word: \"leaning\" -> \"lean\" not in vocab\n",
      "isPersonalPronoun: False\n",
      "isNumber: False\n",
      "isTopping: False\n",
      "isQuantity: False\n",
      "Word: \"toward\" -> \"toward\" not in vocab\n",
      "isPersonalPronoun: False\n",
      "isNumber: False\n",
      "isTopping: False\n",
      "isQuantity: False\n"
     ]
    },
    {
     "name": "stderr",
     "output_type": "stream",
     "text": [
      "writing results:  57%|█████▋    | 2293/4000 [03:53<02:38, 10.75it/s]"
     ]
    },
    {
     "name": "stdout",
     "output_type": "stream",
     "text": [
      "Word: \"kombucha\" -> \"kombucha\" not in vocab\n",
      "isPersonalPronoun: False\n",
      "isNumber: False\n",
      "isTopping: False\n",
      "isQuantity: False\n"
     ]
    },
    {
     "name": "stderr",
     "output_type": "stream",
     "text": [
      "writing results:  57%|█████▋    | 2295/4000 [03:54<05:48,  4.89it/s]"
     ]
    },
    {
     "name": "stdout",
     "output_type": "stream",
     "text": [
      "Word: \"kombucha\" -> \"kombucha\" not in vocab\n",
      "isPersonalPronoun: False\n",
      "isNumber: False\n",
      "isTopping: False\n",
      "isQuantity: False\n",
      "Word: \"happy with\" -> \"happy with\" not in vocab\n",
      "isPersonalPronoun: False\n",
      "isNumber: False\n",
      "isTopping: False\n",
      "isQuantity: False\n",
      "Word: \"grabbing\" -> \"grab\" not in vocab\n",
      "isPersonalPronoun: False\n",
      "isNumber: False\n",
      "isTopping: False\n",
      "isQuantity: False\n"
     ]
    },
    {
     "name": "stderr",
     "output_type": "stream",
     "text": [
      "writing results:  57%|█████▊    | 2300/4000 [03:54<03:57,  7.17it/s]"
     ]
    },
    {
     "name": "stdout",
     "output_type": "stream",
     "text": [
      "Word: \"goat\" -> \"goat\" not in vocab\n",
      "isPersonalPronoun: False\n",
      "isNumber: False\n",
      "isTopping: False\n",
      "isQuantity: False\n",
      "Word: \"goat\" -> \"goat\" not in vocab\n",
      "isPersonalPronoun: False\n",
      "isNumber: False\n",
      "isTopping: False\n",
      "isQuantity: False\n",
      "Word: \"mushy\" -> \"mushi\" not in vocab\n",
      "isPersonalPronoun: False\n",
      "isNumber: False\n",
      "isTopping: False\n",
      "isQuantity: False\n",
      "Word: \"mushy\" -> \"mushi\" not in vocab\n",
      "isPersonalPronoun: False\n",
      "isNumber: False\n",
      "isTopping: False\n",
      "isQuantity: False\n"
     ]
    },
    {
     "name": "stderr",
     "output_type": "stream",
     "text": [
      "writing results:  58%|█████▊    | 2303/4000 [03:55<03:14,  8.72it/s]"
     ]
    },
    {
     "name": "stdout",
     "output_type": "stream",
     "text": [
      "Word: \"i've\" -> \"i'v\" not in vocab\n",
      "isPersonalPronoun: False\n",
      "isNumber: False\n",
      "isTopping: False\n",
      "isQuantity: False\n",
      "Word: \"decided\" -> \"decid\" not in vocab\n",
      "isPersonalPronoun: False\n",
      "isNumber: False\n",
      "isTopping: False\n",
      "isQuantity: False\n",
      "Word: \"leeks\" -> \"leek\" not in vocab\n",
      "isPersonalPronoun: False\n",
      "isNumber: False\n",
      "isTopping: True\n",
      "isQuantity: False\n",
      "Word: \"leeks\" -> \"leek\" not in vocab\n",
      "isPersonalPronoun: False\n",
      "isNumber: False\n",
      "isTopping: True\n",
      "isQuantity: False\n",
      "Word: \"ready to\" -> \"ready to\" not in vocab\n",
      "isPersonalPronoun: False\n",
      "isNumber: False\n",
      "isTopping: False\n",
      "isQuantity: False\n",
      "Word: \"mushy\" -> \"mushi\" not in vocab\n",
      "isPersonalPronoun: False\n",
      "isNumber: False\n",
      "isTopping: False\n",
      "isQuantity: False\n",
      "Word: \"mushy\" -> \"mushi\" not in vocab\n",
      "isPersonalPronoun: False\n",
      "isNumber: False\n",
      "isTopping: False\n",
      "isQuantity: False\n"
     ]
    },
    {
     "name": "stderr",
     "output_type": "stream",
     "text": [
      "writing results:  58%|█████▊    | 2305/4000 [03:55<03:20,  8.44it/s]"
     ]
    },
    {
     "name": "stdout",
     "output_type": "stream",
     "text": [
      "Word: \"Parisian\" -> \"parisian\" not in vocab\n",
      "isPersonalPronoun: False\n",
      "isNumber: False\n",
      "isTopping: False\n",
      "isQuantity: False\n",
      "Word: \"Parisian\" -> \"parisian\" not in vocab\n",
      "isPersonalPronoun: False\n",
      "isNumber: False\n",
      "isTopping: False\n",
      "isQuantity: False\n",
      "Word: \"gruyeres\" -> \"gruyer\" not in vocab\n",
      "isPersonalPronoun: False\n",
      "isNumber: False\n",
      "isTopping: False\n",
      "isQuantity: False\n",
      "Word: \"hummus\" -> \"hummu\" not in vocab\n",
      "isPersonalPronoun: False\n",
      "isNumber: False\n",
      "isTopping: False\n",
      "isQuantity: False\n",
      "Word: \"cabbage\" -> \"cabbag\" not in vocab\n",
      "isPersonalPronoun: False\n",
      "isNumber: False\n",
      "isTopping: False\n",
      "isQuantity: False\n"
     ]
    },
    {
     "name": "stderr",
     "output_type": "stream",
     "text": [
      "writing results:  58%|█████▊    | 2310/4000 [03:56<03:31,  8.00it/s]"
     ]
    },
    {
     "name": "stdout",
     "output_type": "stream",
     "text": [
      "Word: \"gruyeres\" -> \"gruyer\" not in vocab\n",
      "isPersonalPronoun: False\n",
      "isNumber: False\n",
      "isTopping: False\n",
      "isQuantity: False\n",
      "Word: \"hummus\" -> \"hummu\" not in vocab\n",
      "isPersonalPronoun: False\n",
      "isNumber: False\n",
      "isTopping: False\n",
      "isQuantity: False\n",
      "Word: \"cabbage\" -> \"cabbag\" not in vocab\n",
      "isPersonalPronoun: False\n",
      "isNumber: False\n",
      "isTopping: False\n",
      "isQuantity: False\n",
      "Word: \"sports\" -> \"sport\" not in vocab\n",
      "isPersonalPronoun: False\n",
      "isNumber: False\n",
      "isTopping: False\n",
      "isQuantity: False\n",
      "Word: \"sports\" -> \"sport\" not in vocab\n",
      "isPersonalPronoun: False\n",
      "isNumber: False\n",
      "isTopping: False\n",
      "isQuantity: False\n"
     ]
    },
    {
     "name": "stderr",
     "output_type": "stream",
     "text": [
      "writing results:  58%|█████▊    | 2312/4000 [03:56<03:17,  8.56it/s]"
     ]
    },
    {
     "name": "stdout",
     "output_type": "stream",
     "text": [
      "Word: \"arrange\" -> \"arrang\" not in vocab\n",
      "isPersonalPronoun: False\n",
      "isNumber: False\n",
      "isTopping: False\n",
      "isQuantity: False\n"
     ]
    },
    {
     "name": "stderr",
     "output_type": "stream",
     "text": [
      "writing results:  58%|█████▊    | 2317/4000 [03:56<02:20, 11.99it/s]"
     ]
    },
    {
     "name": "stdout",
     "output_type": "stream",
     "text": [
      "Word: \"lacing\" -> \"lace\" not in vocab\n",
      "isPersonalPronoun: False\n",
      "isNumber: False\n",
      "isTopping: False\n",
      "isQuantity: False\n",
      "Word: \"aiming\" -> \"aim\" not in vocab\n",
      "isPersonalPronoun: False\n",
      "isNumber: False\n",
      "isTopping: False\n",
      "isQuantity: False\n",
      "Word: \"lamb\" -> \"lamb\" not in vocab\n",
      "isPersonalPronoun: False\n",
      "isNumber: False\n",
      "isTopping: False\n",
      "isQuantity: False\n",
      "Word: \"MEP\" -> \"mep\" not in vocab\n",
      "isPersonalPronoun: False\n",
      "isNumber: False\n",
      "isTopping: False\n",
      "isQuantity: False\n",
      "Word: \"sirach\" -> \"sirach\" not in vocab\n",
      "isPersonalPronoun: False\n",
      "isNumber: False\n",
      "isTopping: False\n",
      "isQuantity: False\n"
     ]
    },
    {
     "name": "stderr",
     "output_type": "stream",
     "text": [
      "writing results:  58%|█████▊    | 2322/4000 [03:57<04:00,  6.97it/s]"
     ]
    },
    {
     "name": "stdout",
     "output_type": "stream",
     "text": [
      "Word: \"sirach\" -> \"sirach\" not in vocab\n",
      "isPersonalPronoun: False\n",
      "isNumber: False\n",
      "isTopping: False\n",
      "isQuantity: False\n",
      "Word: \"order for\" -> \"order for\" not in vocab\n",
      "isPersonalPronoun: False\n",
      "isNumber: False\n",
      "isTopping: False\n",
      "isQuantity: False\n",
      "Word: \"an order\" -> \"an ord\" not in vocab\n",
      "isPersonalPronoun: False\n",
      "isNumber: False\n",
      "isTopping: False\n",
      "isQuantity: False\n"
     ]
    },
    {
     "name": "stderr",
     "output_type": "stream",
     "text": [
      "writing results:  58%|█████▊    | 2325/4000 [03:57<03:06,  8.99it/s]"
     ]
    },
    {
     "name": "stdout",
     "output_type": "stream",
     "text": [
      "Word: \"grabbing\" -> \"grab\" not in vocab\n",
      "isPersonalPronoun: False\n",
      "isNumber: False\n",
      "isTopping: False\n",
      "isQuantity: False\n",
      "Word: \"pomegranate\" -> \"pomegran\" not in vocab\n",
      "isPersonalPronoun: False\n",
      "isNumber: False\n",
      "isTopping: False\n",
      "isQuantity: False\n",
      "Word: \"juice\" -> \"juic\" not in vocab\n",
      "isPersonalPronoun: False\n",
      "isNumber: False\n",
      "isTopping: False\n",
      "isQuantity: False\n"
     ]
    },
    {
     "name": "stderr",
     "output_type": "stream",
     "text": [
      "writing results:  58%|█████▊    | 2329/4000 [03:58<02:51,  9.76it/s]"
     ]
    },
    {
     "name": "stdout",
     "output_type": "stream",
     "text": [
      "Word: \"pomegranate\" -> \"pomegran\" not in vocab\n",
      "isPersonalPronoun: False\n",
      "isNumber: False\n",
      "isTopping: False\n",
      "isQuantity: False\n",
      "Word: \"juice\" -> \"juic\" not in vocab\n",
      "isPersonalPronoun: False\n",
      "isNumber: False\n",
      "isTopping: False\n",
      "isQuantity: False\n",
      "Word: \"goat\" -> \"goat\" not in vocab\n",
      "isPersonalPronoun: False\n",
      "isNumber: False\n",
      "isTopping: False\n",
      "isQuantity: False\n",
      "Word: \"goat\" -> \"goat\" not in vocab\n",
      "isPersonalPronoun: False\n",
      "isNumber: False\n",
      "isTopping: False\n",
      "isQuantity: False\n",
      "Word: \"hook\" -> \"hook\" not in vocab\n",
      "isPersonalPronoun: False\n",
      "isNumber: False\n",
      "isTopping: False\n",
      "isQuantity: False\n",
      "Word: \"leaning\" -> \"lean\" not in vocab\n",
      "isPersonalPronoun: False\n",
      "isNumber: False\n",
      "isTopping: False\n",
      "isQuantity: False\n",
      "Word: \"toward\" -> \"toward\" not in vocab\n",
      "isPersonalPronoun: False\n",
      "isNumber: False\n",
      "isTopping: False\n",
      "isQuantity: False\n"
     ]
    },
    {
     "name": "stderr",
     "output_type": "stream",
     "text": [
      "writing results:  58%|█████▊    | 2334/4000 [03:58<02:04, 13.43it/s]"
     ]
    },
    {
     "name": "stdout",
     "output_type": "stream",
     "text": [
      "Word: \"sweet\" -> \"sweet\" not in vocab\n",
      "isPersonalPronoun: False\n",
      "isNumber: False\n",
      "isTopping: False\n",
      "isQuantity: False\n",
      "Word: \"sweet\" -> \"sweet\" not in vocab\n",
      "isPersonalPronoun: False\n",
      "isNumber: False\n",
      "isTopping: False\n",
      "isQuantity: False\n",
      "Word: \"sort\" -> \"sort\" not in vocab\n",
      "isPersonalPronoun: False\n",
      "isNumber: False\n",
      "isTopping: False\n",
      "isQuantity: False\n",
      "Word: \"just want\" -> \"just want\" not in vocab\n",
      "isPersonalPronoun: False\n",
      "isNumber: False\n",
      "isTopping: False\n",
      "isQuantity: False\n",
      "Word: \"sirach\" -> \"sirach\" not in vocab\n",
      "isPersonalPronoun: False\n",
      "isNumber: False\n",
      "isTopping: False\n",
      "isQuantity: False\n"
     ]
    },
    {
     "name": "stderr",
     "output_type": "stream",
     "text": [
      "writing results:  58%|█████▊    | 2338/4000 [03:59<04:00,  6.92it/s]"
     ]
    },
    {
     "name": "stdout",
     "output_type": "stream",
     "text": [
      "Word: \"sirach\" -> \"sirach\" not in vocab\n",
      "isPersonalPronoun: False\n",
      "isNumber: False\n",
      "isTopping: False\n",
      "isQuantity: False\n",
      "Word: \"Salerno\" -> \"salerno\" not in vocab\n",
      "isPersonalPronoun: False\n",
      "isNumber: False\n",
      "isTopping: False\n",
      "isQuantity: False\n",
      "Word: \"Salerno\" -> \"salerno\" not in vocab\n",
      "isPersonalPronoun: False\n",
      "isNumber: False\n",
      "isTopping: False\n",
      "isQuantity: False\n"
     ]
    },
    {
     "name": "stderr",
     "output_type": "stream",
     "text": [
      "writing results:  59%|█████▊    | 2344/4000 [03:59<02:29, 11.07it/s]"
     ]
    },
    {
     "name": "stdout",
     "output_type": "stream",
     "text": [
      "Word: \"sweet\" -> \"sweet\" not in vocab\n",
      "isPersonalPronoun: False\n",
      "isNumber: False\n",
      "isTopping: False\n",
      "isQuantity: False\n",
      "Word: \"sweet\" -> \"sweet\" not in vocab\n",
      "isPersonalPronoun: False\n",
      "isNumber: False\n",
      "isTopping: False\n",
      "isQuantity: False\n",
      "Word: \"settle\" -> \"settl\" not in vocab\n",
      "isPersonalPronoun: False\n",
      "isNumber: False\n",
      "isTopping: False\n",
      "isQuantity: False\n",
      "Word: \"heavy\" -> \"heavi\" not in vocab\n",
      "isPersonalPronoun: False\n",
      "isNumber: False\n",
      "isTopping: False\n",
      "isQuantity: False\n"
     ]
    },
    {
     "name": "stderr",
     "output_type": "stream",
     "text": [
      "writing results:  59%|█████▉    | 2351/4000 [04:00<01:33, 17.64it/s]"
     ]
    },
    {
     "name": "stdout",
     "output_type": "stream",
     "text": [
      "Word: \"heavy\" -> \"heavi\" not in vocab\n",
      "isPersonalPronoun: False\n",
      "isNumber: False\n",
      "isTopping: False\n",
      "isQuantity: False\n",
      "Word: \"coconut\" -> \"coconut\" not in vocab\n",
      "isPersonalPronoun: False\n",
      "isNumber: False\n",
      "isTopping: True\n",
      "isQuantity: False\n",
      "Word: \"coconut\" -> \"coconut\" not in vocab\n",
      "isPersonalPronoun: False\n",
      "isNumber: False\n",
      "isTopping: True\n",
      "isQuantity: False\n",
      "Word: \"sort\" -> \"sort\" not in vocab\n",
      "isPersonalPronoun: False\n",
      "isNumber: False\n",
      "isTopping: False\n",
      "isQuantity: False\n"
     ]
    },
    {
     "name": "stderr",
     "output_type": "stream",
     "text": [
      "writing results:  59%|█████▉    | 2357/4000 [04:00<01:39, 16.50it/s]"
     ]
    },
    {
     "name": "stdout",
     "output_type": "stream",
     "text": [
      "Word: \"kombucha\" -> \"kombucha\" not in vocab\n",
      "isPersonalPronoun: False\n",
      "isNumber: False\n",
      "isTopping: False\n",
      "isQuantity: False\n",
      "Word: \"kombucha\" -> \"kombucha\" not in vocab\n",
      "isPersonalPronoun: False\n",
      "isNumber: False\n",
      "isTopping: False\n",
      "isQuantity: False\n",
      "Word: \"jalapeños\" -> \"jalapeño\" not in vocab\n",
      "isPersonalPronoun: False\n",
      "isNumber: False\n",
      "isTopping: False\n",
      "isQuantity: False\n"
     ]
    },
    {
     "name": "stderr",
     "output_type": "stream",
     "text": [
      "writing results:  59%|█████▉    | 2362/4000 [04:00<01:43, 15.81it/s]"
     ]
    },
    {
     "name": "stdout",
     "output_type": "stream",
     "text": [
      "Word: \"jalapeños\" -> \"jalapeño\" not in vocab\n",
      "isPersonalPronoun: False\n",
      "isNumber: False\n",
      "isTopping: False\n",
      "isQuantity: False\n",
      "Word: \"fr\" -> \"fr\" not in vocab\n",
      "isPersonalPronoun: False\n",
      "isNumber: False\n",
      "isTopping: False\n",
      "isQuantity: False\n",
      "Word: \"chad\" -> \"chad\" not in vocab\n",
      "isPersonalPronoun: False\n",
      "isNumber: False\n",
      "isTopping: False\n",
      "isQuantity: False\n",
      "Word: \"chad\" -> \"chad\" not in vocab\n",
      "isPersonalPronoun: False\n",
      "isNumber: False\n",
      "isTopping: False\n",
      "isQuantity: False\n"
     ]
    },
    {
     "name": "stderr",
     "output_type": "stream",
     "text": [
      "writing results:  59%|█████▉    | 2364/4000 [04:00<01:45, 15.44it/s]"
     ]
    },
    {
     "name": "stdout",
     "output_type": "stream",
     "text": [
      "Word: \"cabbage\" -> \"cabbag\" not in vocab\n",
      "isPersonalPronoun: False\n",
      "isNumber: False\n",
      "isTopping: False\n",
      "isQuantity: False\n",
      "Word: \"cabbage\" -> \"cabbag\" not in vocab\n",
      "isPersonalPronoun: False\n",
      "isNumber: False\n",
      "isTopping: False\n",
      "isQuantity: False\n",
      "Word: \"decide\" -> \"decid\" not in vocab\n",
      "isPersonalPronoun: False\n",
      "isNumber: False\n",
      "isTopping: False\n",
      "isQuantity: False\n",
      "Word: \"goat\" -> \"goat\" not in vocab\n",
      "isPersonalPronoun: False\n",
      "isNumber: False\n",
      "isTopping: False\n",
      "isQuantity: False\n"
     ]
    },
    {
     "name": "stderr",
     "output_type": "stream",
     "text": [
      "writing results:  59%|█████▉    | 2368/4000 [04:01<01:47, 15.23it/s]"
     ]
    },
    {
     "name": "stdout",
     "output_type": "stream",
     "text": [
      "Word: \"goat\" -> \"goat\" not in vocab\n",
      "isPersonalPronoun: False\n",
      "isNumber: False\n",
      "isTopping: False\n",
      "isQuantity: False\n"
     ]
    },
    {
     "name": "stderr",
     "output_type": "stream",
     "text": [
      "writing results:  59%|█████▉    | 2370/4000 [04:01<01:45, 15.39it/s]"
     ]
    },
    {
     "name": "stdout",
     "output_type": "stream",
     "text": [
      "Word: \"zest\" -> \"zest\" not in vocab\n",
      "isPersonalPronoun: False\n",
      "isNumber: False\n",
      "isTopping: False\n",
      "isQuantity: False\n",
      "Word: \"zest\" -> \"zest\" not in vocab\n",
      "isPersonalPronoun: False\n",
      "isNumber: False\n",
      "isTopping: False\n",
      "isQuantity: False\n",
      "Word: \"mushy\" -> \"mushi\" not in vocab\n",
      "isPersonalPronoun: False\n",
      "isNumber: False\n",
      "isTopping: False\n",
      "isQuantity: False\n",
      "Word: \"mushy\" -> \"mushi\" not in vocab\n",
      "isPersonalPronoun: False\n",
      "isNumber: False\n",
      "isTopping: False\n",
      "isQuantity: False\n"
     ]
    },
    {
     "name": "stderr",
     "output_type": "stream",
     "text": [
      "writing results:  59%|█████▉    | 2372/4000 [04:01<02:00, 13.51it/s]"
     ]
    },
    {
     "name": "stdout",
     "output_type": "stream",
     "text": [
      "Word: \"goat\" -> \"goat\" not in vocab\n",
      "isPersonalPronoun: False\n",
      "isNumber: False\n",
      "isTopping: False\n",
      "isQuantity: False\n",
      "Word: \"goat\" -> \"goat\" not in vocab\n",
      "isPersonalPronoun: False\n",
      "isNumber: False\n",
      "isTopping: False\n",
      "isQuantity: False\n",
      "Word: \"gruyeres\" -> \"gruyer\" not in vocab\n",
      "isPersonalPronoun: False\n",
      "isNumber: False\n",
      "isTopping: False\n",
      "isQuantity: False\n"
     ]
    },
    {
     "name": "stderr",
     "output_type": "stream",
     "text": [
      "writing results:  59%|█████▉    | 2374/4000 [04:01<02:48,  9.68it/s]"
     ]
    },
    {
     "name": "stdout",
     "output_type": "stream",
     "text": [
      "Word: \"gruyeres\" -> \"gruyer\" not in vocab\n",
      "isPersonalPronoun: False\n",
      "isNumber: False\n",
      "isTopping: False\n",
      "isQuantity: False\n",
      "Word: \"sweet\" -> \"sweet\" not in vocab\n",
      "isPersonalPronoun: False\n",
      "isNumber: False\n",
      "isTopping: False\n",
      "isQuantity: False\n",
      "Word: \"sweet\" -> \"sweet\" not in vocab\n",
      "isPersonalPronoun: False\n",
      "isNumber: False\n",
      "isTopping: False\n",
      "isQuantity: False\n",
      "Word: \"sweet\" -> \"sweet\" not in vocab\n",
      "isPersonalPronoun: False\n",
      "isNumber: False\n",
      "isTopping: False\n",
      "isQuantity: False\n",
      "Word: \"sweet\" -> \"sweet\" not in vocab\n",
      "isPersonalPronoun: False\n",
      "isNumber: False\n",
      "isTopping: False\n",
      "isQuantity: False\n",
      "Word: \"interested\" -> \"interest\" not in vocab\n",
      "isPersonalPronoun: False\n",
      "isNumber: False\n",
      "isTopping: False\n",
      "isQuantity: False\n",
      "Word: \"sweet\" -> \"sweet\" not in vocab\n",
      "isPersonalPronoun: False\n",
      "isNumber: False\n",
      "isTopping: False\n",
      "isQuantity: False\n"
     ]
    },
    {
     "name": "stderr",
     "output_type": "stream",
     "text": [
      "writing results:  59%|█████▉    | 2376/4000 [04:02<03:04,  8.80it/s]"
     ]
    },
    {
     "name": "stdout",
     "output_type": "stream",
     "text": [
      "Word: \"sweet\" -> \"sweet\" not in vocab\n",
      "isPersonalPronoun: False\n",
      "isNumber: False\n",
      "isTopping: False\n",
      "isQuantity: False\n",
      "Word: \"hummus\" -> \"hummu\" not in vocab\n",
      "isPersonalPronoun: False\n",
      "isNumber: False\n",
      "isTopping: False\n",
      "isQuantity: False\n",
      "Word: \"hummus\" -> \"hummu\" not in vocab\n",
      "isPersonalPronoun: False\n",
      "isNumber: False\n",
      "isTopping: False\n",
      "isQuantity: False\n",
      "Word: \"hummus\" -> \"hummu\" not in vocab\n",
      "isPersonalPronoun: False\n",
      "isNumber: False\n",
      "isTopping: False\n",
      "isQuantity: False\n"
     ]
    },
    {
     "name": "stderr",
     "output_type": "stream",
     "text": [
      "writing results:  59%|█████▉    | 2378/4000 [04:02<03:29,  7.75it/s]"
     ]
    },
    {
     "name": "stdout",
     "output_type": "stream",
     "text": [
      "Word: \"cabbage\" -> \"cabbag\" not in vocab\n",
      "isPersonalPronoun: False\n",
      "isNumber: False\n",
      "isTopping: False\n",
      "isQuantity: False\n",
      "Word: \"zest\" -> \"zest\" not in vocab\n",
      "isPersonalPronoun: False\n",
      "isNumber: False\n",
      "isTopping: False\n",
      "isQuantity: False\n",
      "Word: \"cabbage\" -> \"cabbag\" not in vocab\n",
      "isPersonalPronoun: False\n",
      "isNumber: False\n",
      "isTopping: False\n",
      "isQuantity: False\n",
      "Word: \"zest\" -> \"zest\" not in vocab\n",
      "isPersonalPronoun: False\n",
      "isNumber: False\n",
      "isTopping: False\n",
      "isQuantity: False\n",
      "Word: \"zest\" -> \"zest\" not in vocab\n",
      "isPersonalPronoun: False\n",
      "isNumber: False\n",
      "isTopping: False\n",
      "isQuantity: False\n"
     ]
    },
    {
     "name": "stderr",
     "output_type": "stream",
     "text": [
      "writing results:  60%|█████▉    | 2380/4000 [04:02<03:07,  8.64it/s]"
     ]
    },
    {
     "name": "stdout",
     "output_type": "stream",
     "text": [
      "Word: \"zest\" -> \"zest\" not in vocab\n",
      "isPersonalPronoun: False\n",
      "isNumber: False\n",
      "isTopping: False\n",
      "isQuantity: False\n",
      "Word: \"heavy\" -> \"heavi\" not in vocab\n",
      "isPersonalPronoun: False\n",
      "isNumber: False\n",
      "isTopping: False\n",
      "isQuantity: False\n",
      "Word: \"heavy\" -> \"heavi\" not in vocab\n",
      "isPersonalPronoun: False\n",
      "isNumber: False\n",
      "isTopping: False\n",
      "isQuantity: False\n"
     ]
    },
    {
     "name": "stderr",
     "output_type": "stream",
     "text": [
      "writing results:  60%|█████▉    | 2383/4000 [04:02<02:34, 10.48it/s]"
     ]
    },
    {
     "name": "stdout",
     "output_type": "stream",
     "text": [
      "Word: \"order for\" -> \"order for\" not in vocab\n",
      "isPersonalPronoun: False\n",
      "isNumber: False\n",
      "isTopping: False\n",
      "isQuantity: False\n",
      "Word: \"goat\" -> \"goat\" not in vocab\n",
      "isPersonalPronoun: False\n",
      "isNumber: False\n",
      "isTopping: False\n",
      "isQuantity: False\n",
      "Word: \"goat\" -> \"goat\" not in vocab\n",
      "isPersonalPronoun: False\n",
      "isNumber: False\n",
      "isTopping: False\n",
      "isQuantity: False\n",
      "Word: \"spicy red\" -> \"spicy r\" not in vocab\n",
      "isPersonalPronoun: False\n",
      "isNumber: False\n",
      "isTopping: False\n",
      "isQuantity: False\n"
     ]
    },
    {
     "name": "stderr",
     "output_type": "stream",
     "text": [
      "writing results:  60%|█████▉    | 2385/4000 [04:03<03:00,  8.93it/s]"
     ]
    },
    {
     "name": "stdout",
     "output_type": "stream",
     "text": [
      "Word: \"spicy red\" -> \"spicy r\" not in vocab\n",
      "isPersonalPronoun: False\n",
      "isNumber: False\n",
      "isTopping: False\n",
      "isQuantity: False\n",
      "Word: \"chocolate\" -> \"chocol\" not in vocab\n",
      "isPersonalPronoun: False\n",
      "isNumber: False\n",
      "isTopping: False\n",
      "isQuantity: False\n",
      "Word: \"chocolate\" -> \"chocol\" not in vocab\n",
      "isPersonalPronoun: False\n",
      "isNumber: False\n",
      "isTopping: False\n",
      "isQuantity: False\n",
      "Word: \"cucumber\" -> \"cucumb\" not in vocab\n",
      "isPersonalPronoun: False\n",
      "isNumber: False\n",
      "isTopping: False\n",
      "isQuantity: False\n"
     ]
    },
    {
     "name": "stderr",
     "output_type": "stream",
     "text": [
      "writing results:  60%|█████▉    | 2387/4000 [04:03<02:50,  9.45it/s]"
     ]
    },
    {
     "name": "stdout",
     "output_type": "stream",
     "text": [
      "Word: \"cucumber\" -> \"cucumb\" not in vocab\n",
      "isPersonalPronoun: False\n",
      "isNumber: False\n",
      "isTopping: False\n",
      "isQuantity: False\n",
      "Word: \"smoked\" -> \"smoke\" not in vocab\n",
      "isPersonalPronoun: False\n",
      "isNumber: False\n",
      "isTopping: False\n",
      "isQuantity: False\n",
      "Word: \"salmon\" -> \"salmon\" not in vocab\n",
      "isPersonalPronoun: False\n",
      "isNumber: False\n",
      "isTopping: False\n",
      "isQuantity: False\n"
     ]
    },
    {
     "name": "stderr",
     "output_type": "stream",
     "text": [
      "writing results:  60%|█████▉    | 2390/4000 [04:03<03:04,  8.70it/s]"
     ]
    },
    {
     "name": "stdout",
     "output_type": "stream",
     "text": [
      "Word: \"smoked\" -> \"smoke\" not in vocab\n",
      "isPersonalPronoun: False\n",
      "isNumber: False\n",
      "isTopping: False\n",
      "isQuantity: False\n",
      "Word: \"salmon\" -> \"salmon\" not in vocab\n",
      "isPersonalPronoun: False\n",
      "isNumber: False\n",
      "isTopping: False\n",
      "isQuantity: False\n",
      "Word: \"finalize\" -> \"final\" not in vocab\n",
      "isPersonalPronoun: False\n",
      "isNumber: False\n",
      "isTopping: False\n",
      "isQuantity: False\n",
      "Word: \"goat\" -> \"goat\" not in vocab\n",
      "isPersonalPronoun: False\n",
      "isNumber: False\n",
      "isTopping: False\n",
      "isQuantity: False\n",
      "Word: \"goat\" -> \"goat\" not in vocab\n",
      "isPersonalPronoun: False\n",
      "isNumber: False\n",
      "isTopping: False\n",
      "isQuantity: False\n"
     ]
    },
    {
     "name": "stderr",
     "output_type": "stream",
     "text": [
      "writing results:  60%|█████▉    | 2396/4000 [04:03<01:47, 14.93it/s]"
     ]
    },
    {
     "name": "stdout",
     "output_type": "stream",
     "text": [
      "Word: \"sparkling\" -> \"sparkl\" not in vocab\n",
      "isPersonalPronoun: False\n",
      "isNumber: False\n",
      "isTopping: False\n",
      "isQuantity: False\n",
      "Word: \"sparkling\" -> \"sparkl\" not in vocab\n",
      "isPersonalPronoun: False\n",
      "isNumber: False\n",
      "isTopping: False\n",
      "isQuantity: False\n",
      "Word: \"duck\" -> \"duck\" not in vocab\n",
      "isPersonalPronoun: False\n",
      "isNumber: False\n",
      "isTopping: False\n",
      "isQuantity: False\n",
      "Word: \"duck\" -> \"duck\" not in vocab\n",
      "isPersonalPronoun: False\n",
      "isNumber: False\n",
      "isTopping: False\n",
      "isQuantity: False\n",
      "Word: \"blue\" -> \"blue\" not in vocab\n",
      "isPersonalPronoun: False\n",
      "isNumber: False\n",
      "isTopping: False\n",
      "isQuantity: False\n"
     ]
    },
    {
     "name": "stderr",
     "output_type": "stream",
     "text": [
      "writing results:  60%|██████    | 2401/4000 [04:04<01:29, 17.96it/s]"
     ]
    },
    {
     "name": "stdout",
     "output_type": "stream",
     "text": [
      "Word: \"blue\" -> \"blue\" not in vocab\n",
      "isPersonalPronoun: False\n",
      "isNumber: False\n",
      "isTopping: False\n",
      "isQuantity: False\n",
      "Word: \"chard\" -> \"chard\" not in vocab\n",
      "isPersonalPronoun: False\n",
      "isNumber: False\n",
      "isTopping: False\n",
      "isQuantity: False\n",
      "Word: \"chard\" -> \"chard\" not in vocab\n",
      "isPersonalPronoun: False\n",
      "isNumber: False\n",
      "isTopping: False\n",
      "isQuantity: False\n",
      "Word: \"choice\" -> \"choic\" not in vocab\n",
      "isPersonalPronoun: False\n",
      "isNumber: False\n",
      "isTopping: False\n",
      "isQuantity: False\n"
     ]
    },
    {
     "name": "stderr",
     "output_type": "stream",
     "text": [
      "writing results:  60%|██████    | 2408/4000 [04:04<01:25, 18.69it/s]"
     ]
    },
    {
     "name": "stdout",
     "output_type": "stream",
     "text": [
      "Word: \"cabbage\" -> \"cabbag\" not in vocab\n",
      "isPersonalPronoun: False\n",
      "isNumber: False\n",
      "isTopping: False\n",
      "isQuantity: False\n",
      "Word: \"leeks\" -> \"leek\" not in vocab\n",
      "isPersonalPronoun: False\n",
      "isNumber: False\n",
      "isTopping: True\n",
      "isQuantity: False\n",
      "Word: \"leeks\" -> \"leek\" not in vocab\n",
      "isPersonalPronoun: False\n",
      "isNumber: False\n",
      "isTopping: True\n",
      "isQuantity: False\n",
      "Word: \"dit\" -> \"dit\" not in vocab\n",
      "isPersonalPronoun: False\n",
      "isNumber: False\n",
      "isTopping: False\n",
      "isQuantity: False\n",
      "Word: \"dit\" -> \"dit\" not in vocab\n",
      "isPersonalPronoun: False\n",
      "isNumber: False\n",
      "isTopping: False\n",
      "isQuantity: False\n"
     ]
    },
    {
     "name": "stderr",
     "output_type": "stream",
     "text": [
      "writing results:  60%|██████    | 2410/4000 [04:04<01:26, 18.44it/s]"
     ]
    },
    {
     "name": "stdout",
     "output_type": "stream",
     "text": [
      "Word: \"mushy\" -> \"mushi\" not in vocab\n",
      "isPersonalPronoun: False\n",
      "isNumber: False\n",
      "isTopping: False\n",
      "isQuantity: False\n",
      "Word: \"mushy\" -> \"mushi\" not in vocab\n",
      "isPersonalPronoun: False\n",
      "isNumber: False\n",
      "isTopping: False\n",
      "isQuantity: False\n",
      "Word: \"macchiatos\" -> \"macchiato\" not in vocab\n",
      "isPersonalPronoun: False\n",
      "isNumber: False\n",
      "isTopping: False\n",
      "isQuantity: False\n"
     ]
    },
    {
     "name": "stderr",
     "output_type": "stream",
     "text": [
      "writing results:  60%|██████    | 2415/4000 [04:06<04:50,  5.45it/s]"
     ]
    },
    {
     "name": "stdout",
     "output_type": "stream",
     "text": [
      "Word: \"macchiatos\" -> \"macchiato\" not in vocab\n",
      "isPersonalPronoun: False\n",
      "isNumber: False\n",
      "isTopping: False\n",
      "isQuantity: False\n",
      "Word: \"duck\" -> \"duck\" not in vocab\n",
      "isPersonalPronoun: False\n",
      "isNumber: False\n",
      "isTopping: False\n",
      "isQuantity: False\n",
      "Word: \"duck\" -> \"duck\" not in vocab\n",
      "isPersonalPronoun: False\n",
      "isNumber: False\n",
      "isTopping: False\n",
      "isQuantity: False\n",
      "Word: \"leaning\" -> \"lean\" not in vocab\n",
      "isPersonalPronoun: False\n",
      "isNumber: False\n",
      "isTopping: False\n",
      "isQuantity: False\n",
      "Word: \"toward\" -> \"toward\" not in vocab\n",
      "isPersonalPronoun: False\n",
      "isNumber: False\n",
      "isTopping: False\n",
      "isQuantity: False\n"
     ]
    },
    {
     "name": "stderr",
     "output_type": "stream",
     "text": [
      "writing results:  60%|██████    | 2420/4000 [04:06<02:55,  9.00it/s]"
     ]
    },
    {
     "name": "stdout",
     "output_type": "stream",
     "text": [
      "Word: \"finalize\" -> \"final\" not in vocab\n",
      "isPersonalPronoun: False\n",
      "isNumber: False\n",
      "isTopping: False\n",
      "isQuantity: False\n",
      "Word: \"mint\" -> \"mint\" not in vocab\n",
      "isPersonalPronoun: False\n",
      "isNumber: False\n",
      "isTopping: False\n",
      "isQuantity: False\n"
     ]
    },
    {
     "name": "stderr",
     "output_type": "stream",
     "text": [
      "writing results:  61%|██████    | 2422/4000 [04:06<02:55,  9.01it/s]"
     ]
    },
    {
     "name": "stdout",
     "output_type": "stream",
     "text": [
      "Word: \"lamb\" -> \"lamb\" not in vocab\n",
      "isPersonalPronoun: False\n",
      "isNumber: False\n",
      "isTopping: False\n",
      "isQuantity: False\n",
      "Word: \"cabbage\" -> \"cabbag\" not in vocab\n",
      "isPersonalPronoun: False\n",
      "isNumber: False\n",
      "isTopping: False\n",
      "isQuantity: False\n",
      "Word: \"lamb\" -> \"lamb\" not in vocab\n",
      "isPersonalPronoun: False\n",
      "isNumber: False\n",
      "isTopping: False\n",
      "isQuantity: False\n",
      "Word: \"cabbage\" -> \"cabbag\" not in vocab\n",
      "isPersonalPronoun: False\n",
      "isNumber: False\n",
      "isTopping: False\n",
      "isQuantity: False\n",
      "Word: \"lamb\" -> \"lamb\" not in vocab\n",
      "isPersonalPronoun: False\n",
      "isNumber: False\n",
      "isTopping: False\n",
      "isQuantity: False\n",
      "Word: \"cucumber\" -> \"cucumb\" not in vocab\n",
      "isPersonalPronoun: False\n",
      "isNumber: False\n",
      "isTopping: False\n",
      "isQuantity: False\n"
     ]
    },
    {
     "name": "stderr",
     "output_type": "stream",
     "text": [
      "writing results:  61%|██████    | 2427/4000 [04:07<02:24, 10.87it/s]"
     ]
    },
    {
     "name": "stdout",
     "output_type": "stream",
     "text": [
      "Word: \"cucumber\" -> \"cucumb\" not in vocab\n",
      "isPersonalPronoun: False\n",
      "isNumber: False\n",
      "isTopping: False\n",
      "isQuantity: False\n",
      "Word: \"pick\" -> \"pick\" not in vocab\n",
      "isPersonalPronoun: False\n",
      "isNumber: False\n",
      "isTopping: False\n",
      "isQuantity: False\n"
     ]
    },
    {
     "name": "stderr",
     "output_type": "stream",
     "text": [
      "writing results:  61%|██████    | 2432/4000 [04:07<02:00, 12.98it/s]"
     ]
    },
    {
     "name": "stdout",
     "output_type": "stream",
     "text": [
      "Word: \"pick\" -> \"pick\" not in vocab\n",
      "isPersonalPronoun: False\n",
      "isNumber: False\n",
      "isTopping: False\n",
      "isQuantity: False\n",
      "Word: \"blue\" -> \"blue\" not in vocab\n",
      "isPersonalPronoun: False\n",
      "isNumber: False\n",
      "isTopping: False\n",
      "isQuantity: False\n",
      "Word: \"blue\" -> \"blue\" not in vocab\n",
      "isPersonalPronoun: False\n",
      "isNumber: False\n",
      "isTopping: False\n",
      "isQuantity: False\n"
     ]
    },
    {
     "name": "stderr",
     "output_type": "stream",
     "text": [
      "writing results:  61%|██████    | 2434/4000 [04:07<02:12, 11.80it/s]"
     ]
    },
    {
     "name": "stdout",
     "output_type": "stream",
     "text": [
      "Word: \"gruyeres\" -> \"gruyer\" not in vocab\n",
      "isPersonalPronoun: False\n",
      "isNumber: False\n",
      "isTopping: False\n",
      "isQuantity: False\n",
      "Word: \"gruyeres\" -> \"gruyer\" not in vocab\n",
      "isPersonalPronoun: False\n",
      "isNumber: False\n",
      "isTopping: False\n",
      "isQuantity: False\n",
      "Word: \"i've\" -> \"i'v\" not in vocab\n",
      "isPersonalPronoun: False\n",
      "isNumber: False\n",
      "isTopping: False\n",
      "isQuantity: False\n",
      "Word: \"decided\" -> \"decid\" not in vocab\n",
      "isPersonalPronoun: False\n",
      "isNumber: False\n",
      "isTopping: False\n",
      "isQuantity: False\n",
      "Word: \"chocolate\" -> \"chocol\" not in vocab\n",
      "isPersonalPronoun: False\n",
      "isNumber: False\n",
      "isTopping: False\n",
      "isQuantity: False\n"
     ]
    },
    {
     "name": "stderr",
     "output_type": "stream",
     "text": [
      "writing results:  61%|██████    | 2436/4000 [04:08<02:09, 12.04it/s]"
     ]
    },
    {
     "name": "stdout",
     "output_type": "stream",
     "text": [
      "Word: \"chocolate\" -> \"chocol\" not in vocab\n",
      "isPersonalPronoun: False\n",
      "isNumber: False\n",
      "isTopping: False\n",
      "isQuantity: False\n",
      "Word: \"poppy\" -> \"poppi\" not in vocab\n",
      "isPersonalPronoun: False\n",
      "isNumber: False\n",
      "isTopping: False\n",
      "isQuantity: False\n",
      "Word: \"seeds\" -> \"seed\" not in vocab\n",
      "isPersonalPronoun: False\n",
      "isNumber: False\n",
      "isTopping: False\n",
      "isQuantity: False\n",
      "Word: \"poppy\" -> \"poppi\" not in vocab\n",
      "isPersonalPronoun: False\n",
      "isNumber: False\n",
      "isTopping: False\n",
      "isQuantity: False\n",
      "Word: \"seeds\" -> \"seed\" not in vocab\n",
      "isPersonalPronoun: False\n",
      "isNumber: False\n",
      "isTopping: False\n",
      "isQuantity: False\n",
      "Word: \"bi\" -> \"bi\" not in vocab\n",
      "isPersonalPronoun: False\n",
      "isNumber: False\n",
      "isTopping: False\n",
      "isQuantity: False\n"
     ]
    },
    {
     "name": "stderr",
     "output_type": "stream",
     "text": [
      "writing results:  61%|██████    | 2441/4000 [04:08<01:54, 13.66it/s]"
     ]
    },
    {
     "name": "stdout",
     "output_type": "stream",
     "text": [
      "Word: \"bi\" -> \"bi\" not in vocab\n",
      "isPersonalPronoun: False\n",
      "isNumber: False\n",
      "isTopping: False\n",
      "isQuantity: False\n",
      "Word: \"extralarge\" -> \"extralarg\" not in vocab\n",
      "isPersonalPronoun: False\n",
      "isNumber: False\n",
      "isTopping: False\n",
      "isQuantity: False\n"
     ]
    },
    {
     "name": "stderr",
     "output_type": "stream",
     "text": [
      "writing results:  61%|██████    | 2443/4000 [04:09<06:34,  3.95it/s]"
     ]
    },
    {
     "name": "stdout",
     "output_type": "stream",
     "text": [
      "Word: \"extralarge\" -> \"extralarg\" not in vocab\n",
      "isPersonalPronoun: False\n",
      "isNumber: False\n",
      "isTopping: False\n",
      "isQuantity: False\n",
      "Word: \"bel\" -> \"bel\" not in vocab\n",
      "isPersonalPronoun: False\n",
      "isNumber: False\n",
      "isTopping: False\n",
      "isQuantity: False\n",
      "Word: \"bel\" -> \"bel\" not in vocab\n",
      "isPersonalPronoun: False\n",
      "isNumber: False\n",
      "isTopping: False\n",
      "isQuantity: False\n"
     ]
    },
    {
     "name": "stderr",
     "output_type": "stream",
     "text": [
      "writing results:  61%|██████    | 2445/4000 [04:10<05:34,  4.64it/s]"
     ]
    },
    {
     "name": "stdout",
     "output_type": "stream",
     "text": [
      "Word: \"ant\" -> \"ant\" not in vocab\n",
      "isPersonalPronoun: False\n",
      "isNumber: False\n",
      "isTopping: False\n",
      "isQuantity: False\n",
      "Word: \"prawns\" -> \"prawn\" not in vocab\n",
      "isPersonalPronoun: False\n",
      "isNumber: False\n",
      "isTopping: False\n",
      "isQuantity: False\n",
      "Word: \"sweet\" -> \"sweet\" not in vocab\n",
      "isPersonalPronoun: False\n",
      "isNumber: False\n",
      "isTopping: False\n",
      "isQuantity: False\n",
      "Word: \"prawns\" -> \"prawn\" not in vocab\n",
      "isPersonalPronoun: False\n",
      "isNumber: False\n",
      "isTopping: False\n",
      "isQuantity: False\n",
      "Word: \"sweet\" -> \"sweet\" not in vocab\n",
      "isPersonalPronoun: False\n",
      "isNumber: False\n",
      "isTopping: False\n",
      "isQuantity: False\n",
      "Word: \"duck\" -> \"duck\" not in vocab\n",
      "isPersonalPronoun: False\n",
      "isNumber: False\n",
      "isTopping: False\n",
      "isQuantity: False\n",
      "Word: \"duck\" -> \"duck\" not in vocab\n",
      "isPersonalPronoun: False\n",
      "isNumber: False\n",
      "isTopping: False\n",
      "isQuantity: False\n"
     ]
    },
    {
     "name": "stderr",
     "output_type": "stream",
     "text": [
      "writing results:  61%|██████    | 2447/4000 [04:10<04:58,  5.20it/s]"
     ]
    },
    {
     "name": "stdout",
     "output_type": "stream",
     "text": [
      "Word: \"match\" -> \"match\" not in vocab\n",
      "isPersonalPronoun: False\n",
      "isNumber: False\n",
      "isTopping: False\n",
      "isQuantity: False\n",
      "Word: \"late\" -> \"late\" not in vocab\n",
      "isPersonalPronoun: False\n",
      "isNumber: False\n",
      "isTopping: False\n",
      "isQuantity: False\n",
      "Word: \"match\" -> \"match\" not in vocab\n",
      "isPersonalPronoun: False\n",
      "isNumber: False\n",
      "isTopping: False\n",
      "isQuantity: False\n",
      "Word: \"late\" -> \"late\" not in vocab\n",
      "isPersonalPronoun: False\n",
      "isNumber: False\n",
      "isTopping: False\n",
      "isQuantity: False\n",
      "Word: \"happy\" -> \"happi\" not in vocab\n",
      "isPersonalPronoun: False\n",
      "isNumber: False\n",
      "isTopping: False\n",
      "isQuantity: False\n"
     ]
    },
    {
     "name": "stderr",
     "output_type": "stream",
     "text": [
      "writing results:  61%|██████▏   | 2450/4000 [04:10<03:55,  6.59it/s]"
     ]
    },
    {
     "name": "stdout",
     "output_type": "stream",
     "text": [
      "Word: \"arrange\" -> \"arrang\" not in vocab\n",
      "isPersonalPronoun: False\n",
      "isNumber: False\n",
      "isTopping: False\n",
      "isQuantity: False\n",
      "Word: \"a lot\" -> \"a lot\" not in vocab\n",
      "isPersonalPronoun: False\n",
      "isNumber: False\n",
      "isTopping: False\n",
      "isQuantity: False\n",
      "Word: \"a lot\" -> \"a lot\" not in vocab\n",
      "isPersonalPronoun: False\n",
      "isNumber: False\n",
      "isTopping: False\n",
      "isQuantity: False\n"
     ]
    },
    {
     "name": "stderr",
     "output_type": "stream",
     "text": [
      "writing results:  61%|██████▏   | 2457/4000 [04:11<03:01,  8.49it/s]"
     ]
    },
    {
     "name": "stdout",
     "output_type": "stream",
     "text": [
      "Word: \"couldyou\" -> \"couldyou\" not in vocab\n",
      "isPersonalPronoun: False\n",
      "isNumber: False\n",
      "isTopping: False\n",
      "isQuantity: False\n",
      "Word: \"arrange\" -> \"arrang\" not in vocab\n",
      "isPersonalPronoun: False\n",
      "isNumber: False\n",
      "isTopping: False\n",
      "isQuantity: False\n",
      "Word: \"sort\" -> \"sort\" not in vocab\n",
      "isPersonalPronoun: False\n",
      "isNumber: False\n",
      "isTopping: False\n",
      "isQuantity: False\n",
      "Word: \"footing\" -> \"foot\" not in vocab\n",
      "isPersonalPronoun: False\n",
      "isNumber: False\n",
      "isTopping: False\n",
      "isQuantity: True\n"
     ]
    },
    {
     "name": "stderr",
     "output_type": "stream",
     "text": [
      "writing results:  61%|██████▏   | 2459/4000 [04:12<04:58,  5.16it/s]"
     ]
    },
    {
     "name": "stdout",
     "output_type": "stream",
     "text": [
      "Word: \"footing\" -> \"foot\" not in vocab\n",
      "isPersonalPronoun: False\n",
      "isNumber: False\n",
      "isTopping: False\n",
      "isQuantity: True\n"
     ]
    },
    {
     "name": "stderr",
     "output_type": "stream",
     "text": [
      "writing results:  62%|██████▏   | 2464/4000 [04:13<04:12,  6.07it/s]"
     ]
    },
    {
     "name": "stdout",
     "output_type": "stream",
     "text": [
      "Word: \"readjust\" -> \"readjust\" not in vocab\n",
      "isPersonalPronoun: False\n",
      "isNumber: False\n",
      "isTopping: False\n",
      "isQuantity: False\n",
      "Word: \"finalize\" -> \"final\" not in vocab\n",
      "isPersonalPronoun: False\n",
      "isNumber: False\n",
      "isTopping: False\n",
      "isQuantity: False\n",
      "Word: \"the veggies\" -> \"the veggi\" not in vocab\n",
      "isPersonalPronoun: False\n",
      "isNumber: False\n",
      "isTopping: False\n",
      "isQuantity: False\n"
     ]
    },
    {
     "name": "stderr",
     "output_type": "stream",
     "text": [
      "writing results:  62%|██████▏   | 2466/4000 [04:13<03:53,  6.56it/s]"
     ]
    },
    {
     "name": "stdout",
     "output_type": "stream",
     "text": [
      "Word: \"interested\" -> \"interest\" not in vocab\n",
      "isPersonalPronoun: False\n",
      "isNumber: False\n",
      "isTopping: False\n",
      "isQuantity: False\n",
      "Word: \"poppy\" -> \"poppi\" not in vocab\n",
      "isPersonalPronoun: False\n",
      "isNumber: False\n",
      "isTopping: False\n",
      "isQuantity: False\n",
      "Word: \"seeds\" -> \"seed\" not in vocab\n",
      "isPersonalPronoun: False\n",
      "isNumber: False\n",
      "isTopping: False\n",
      "isQuantity: False\n",
      "Word: \"poppy\" -> \"poppi\" not in vocab\n",
      "isPersonalPronoun: False\n",
      "isNumber: False\n",
      "isTopping: False\n",
      "isQuantity: False\n",
      "Word: \"seeds\" -> \"seed\" not in vocab\n",
      "isPersonalPronoun: False\n",
      "isNumber: False\n",
      "isTopping: False\n",
      "isQuantity: False\n",
      "Word: \"finalize\" -> \"final\" not in vocab\n",
      "isPersonalPronoun: False\n",
      "isNumber: False\n",
      "isTopping: False\n",
      "isQuantity: False\n"
     ]
    },
    {
     "name": "stderr",
     "output_type": "stream",
     "text": [
      "writing results:  62%|██████▏   | 2470/4000 [04:13<03:20,  7.63it/s]"
     ]
    },
    {
     "name": "stdout",
     "output_type": "stream",
     "text": [
      "Word: \"cucumber\" -> \"cucumb\" not in vocab\n",
      "isPersonalPronoun: False\n",
      "isNumber: False\n",
      "isTopping: False\n",
      "isQuantity: False\n",
      "Word: \"cucumber\" -> \"cucumb\" not in vocab\n",
      "isPersonalPronoun: False\n",
      "isNumber: False\n",
      "isTopping: False\n",
      "isQuantity: False\n",
      "Word: \"tonic\" -> \"tonic\" not in vocab\n",
      "isPersonalPronoun: False\n",
      "isNumber: False\n",
      "isTopping: False\n",
      "isQuantity: False\n",
      "Word: \"tonic\" -> \"tonic\" not in vocab\n",
      "isPersonalPronoun: False\n",
      "isNumber: False\n",
      "isTopping: False\n",
      "isQuantity: False\n"
     ]
    },
    {
     "name": "stderr",
     "output_type": "stream",
     "text": [
      "writing results:  62%|██████▏   | 2474/4000 [04:14<02:56,  8.64it/s]"
     ]
    },
    {
     "name": "stdout",
     "output_type": "stream",
     "text": [
      "Word: \"chard\" -> \"chard\" not in vocab\n",
      "isPersonalPronoun: False\n",
      "isNumber: False\n",
      "isTopping: False\n",
      "isQuantity: False\n",
      "Word: \"bay leaves\" -> \"bay leav\" not in vocab\n",
      "isPersonalPronoun: False\n",
      "isNumber: False\n",
      "isTopping: False\n",
      "isQuantity: False\n",
      "Word: \"chard\" -> \"chard\" not in vocab\n",
      "isPersonalPronoun: False\n",
      "isNumber: False\n",
      "isTopping: False\n",
      "isQuantity: False\n"
     ]
    },
    {
     "name": "stderr",
     "output_type": "stream",
     "text": [
      "writing results:  62%|██████▏   | 2481/4000 [04:14<01:49, 13.82it/s]"
     ]
    },
    {
     "name": "stdout",
     "output_type": "stream",
     "text": [
      "Word: \"kimchi\" -> \"kimchi\" not in vocab\n",
      "isPersonalPronoun: False\n",
      "isNumber: False\n",
      "isTopping: False\n",
      "isQuantity: False\n",
      "Word: \"kimchi\" -> \"kimchi\" not in vocab\n",
      "isPersonalPronoun: False\n",
      "isNumber: False\n",
      "isTopping: False\n",
      "isQuantity: False\n",
      "Word: \"opting\" -> \"opt\" not in vocab\n",
      "isPersonalPronoun: False\n",
      "isNumber: False\n",
      "isTopping: False\n",
      "isQuantity: False\n"
     ]
    },
    {
     "name": "stderr",
     "output_type": "stream",
     "text": [
      "writing results:  62%|██████▏   | 2483/4000 [04:14<01:48, 13.93it/s]"
     ]
    },
    {
     "name": "stdout",
     "output_type": "stream",
     "text": [
      "Word: \"tonic\" -> \"tonic\" not in vocab\n",
      "isPersonalPronoun: False\n",
      "isNumber: False\n",
      "isTopping: False\n",
      "isQuantity: False\n",
      "Word: \"tonic\" -> \"tonic\" not in vocab\n",
      "isPersonalPronoun: False\n",
      "isNumber: False\n",
      "isTopping: False\n",
      "isQuantity: False\n",
      "Word: \"sauted\" -> \"saut\" not in vocab\n",
      "isPersonalPronoun: False\n",
      "isNumber: False\n",
      "isTopping: False\n",
      "isQuantity: False\n",
      "Word: \"sauted\" -> \"saut\" not in vocab\n",
      "isPersonalPronoun: False\n",
      "isNumber: False\n",
      "isTopping: False\n",
      "isQuantity: False\n",
      "Word: \"sirach\" -> \"sirach\" not in vocab\n",
      "isPersonalPronoun: False\n",
      "isNumber: False\n",
      "isTopping: False\n",
      "isQuantity: False\n"
     ]
    },
    {
     "name": "stderr",
     "output_type": "stream",
     "text": [
      "writing results:  62%|██████▏   | 2485/4000 [04:15<04:41,  5.39it/s]"
     ]
    },
    {
     "name": "stdout",
     "output_type": "stream",
     "text": [
      "Word: \"sirach\" -> \"sirach\" not in vocab\n",
      "isPersonalPronoun: False\n",
      "isNumber: False\n",
      "isTopping: False\n",
      "isQuantity: False\n",
      "Word: \"duck\" -> \"duck\" not in vocab\n",
      "isPersonalPronoun: False\n",
      "isNumber: False\n",
      "isTopping: False\n",
      "isQuantity: False\n",
      "Word: \"jalapeños\" -> \"jalapeño\" not in vocab\n",
      "isPersonalPronoun: False\n",
      "isNumber: False\n",
      "isTopping: False\n",
      "isQuantity: False\n",
      "Word: \"jalapeños\" -> \"jalapeño\" not in vocab\n",
      "isPersonalPronoun: False\n",
      "isNumber: False\n",
      "isTopping: False\n",
      "isQuantity: False\n",
      "Word: \"duck\" -> \"duck\" not in vocab\n",
      "isPersonalPronoun: False\n",
      "isNumber: False\n",
      "isTopping: False\n",
      "isQuantity: False\n",
      "Word: \"jalapeños\" -> \"jalapeño\" not in vocab\n",
      "isPersonalPronoun: False\n",
      "isNumber: False\n",
      "isTopping: False\n",
      "isQuantity: False\n",
      "Word: \"an order\" -> \"an ord\" not in vocab\n",
      "isPersonalPronoun: False\n",
      "isNumber: False\n",
      "isTopping: False\n",
      "isQuantity: False\n"
     ]
    },
    {
     "name": "stderr",
     "output_type": "stream",
     "text": [
      "writing results:  62%|██████▏   | 2489/4000 [04:16<04:30,  5.59it/s]"
     ]
    },
    {
     "name": "stdout",
     "output_type": "stream",
     "text": [
      "Word: \"please make\" -> \"please mak\" not in vocab\n",
      "isPersonalPronoun: False\n",
      "isNumber: False\n",
      "isTopping: False\n",
      "isQuantity: False\n",
      "Word: \"sauted\" -> \"saut\" not in vocab\n",
      "isPersonalPronoun: False\n",
      "isNumber: False\n",
      "isTopping: False\n",
      "isQuantity: False\n",
      "Word: \"sauted\" -> \"saut\" not in vocab\n",
      "isPersonalPronoun: False\n",
      "isNumber: False\n",
      "isTopping: False\n",
      "isQuantity: False\n",
      "Word: \"stick\" -> \"stick\" not in vocab\n",
      "isPersonalPronoun: False\n",
      "isNumber: False\n",
      "isTopping: False\n",
      "isQuantity: False\n"
     ]
    },
    {
     "name": "stderr",
     "output_type": "stream",
     "text": [
      "writing results:  62%|██████▏   | 2491/4000 [04:16<03:37,  6.93it/s]"
     ]
    },
    {
     "name": "stdout",
     "output_type": "stream",
     "text": [
      "Word: \"zest\" -> \"zest\" not in vocab\n",
      "isPersonalPronoun: False\n",
      "isNumber: False\n",
      "isTopping: False\n",
      "isQuantity: False\n",
      "Word: \"zest\" -> \"zest\" not in vocab\n",
      "isPersonalPronoun: False\n",
      "isNumber: False\n",
      "isTopping: False\n",
      "isQuantity: False\n",
      "Word: \"mushy\" -> \"mushi\" not in vocab\n",
      "isPersonalPronoun: False\n",
      "isNumber: False\n",
      "isTopping: False\n",
      "isQuantity: False\n",
      "Word: \"mushy\" -> \"mushi\" not in vocab\n",
      "isPersonalPronoun: False\n",
      "isNumber: False\n",
      "isTopping: False\n",
      "isQuantity: False\n",
      "Word: \"cabbage\" -> \"cabbag\" not in vocab\n",
      "isPersonalPronoun: False\n",
      "isNumber: False\n",
      "isTopping: False\n",
      "isQuantity: False\n"
     ]
    },
    {
     "name": "stderr",
     "output_type": "stream",
     "text": [
      "writing results:  62%|██████▏   | 2496/4000 [04:16<02:06, 11.87it/s]"
     ]
    },
    {
     "name": "stdout",
     "output_type": "stream",
     "text": [
      "Word: \"cabbage\" -> \"cabbag\" not in vocab\n",
      "isPersonalPronoun: False\n",
      "isNumber: False\n",
      "isTopping: False\n",
      "isQuantity: False\n",
      "Word: \"choice\" -> \"choic\" not in vocab\n",
      "isPersonalPronoun: False\n",
      "isNumber: False\n",
      "isTopping: False\n",
      "isQuantity: False\n",
      "Word: \"gaze\" -> \"gaze\" not in vocab\n",
      "isPersonalPronoun: False\n",
      "isNumber: False\n",
      "isTopping: False\n",
      "isQuantity: False\n",
      "Word: \"cucumber\" -> \"cucumb\" not in vocab\n",
      "isPersonalPronoun: False\n",
      "isNumber: False\n",
      "isTopping: False\n",
      "isQuantity: False\n",
      "Word: \"cucumber\" -> \"cucumb\" not in vocab\n",
      "isPersonalPronoun: False\n",
      "isNumber: False\n",
      "isTopping: False\n",
      "isQuantity: False\n",
      "Word: \"sort\" -> \"sort\" not in vocab\n",
      "isPersonalPronoun: False\n",
      "isNumber: False\n",
      "isTopping: False\n",
      "isQuantity: False\n",
      "Word: \"gruyeres\" -> \"gruyer\" not in vocab\n",
      "isPersonalPronoun: False\n",
      "isNumber: False\n",
      "isTopping: False\n",
      "isQuantity: False\n"
     ]
    },
    {
     "name": "stderr",
     "output_type": "stream",
     "text": [
      "writing results:  62%|██████▏   | 2499/4000 [04:17<02:26, 10.26it/s]"
     ]
    },
    {
     "name": "stdout",
     "output_type": "stream",
     "text": [
      "Word: \"gruyeres\" -> \"gruyer\" not in vocab\n",
      "isPersonalPronoun: False\n",
      "isNumber: False\n",
      "isTopping: False\n",
      "isQuantity: False\n",
      "Word: \"decide\" -> \"decid\" not in vocab\n",
      "isPersonalPronoun: False\n",
      "isNumber: False\n",
      "isTopping: False\n",
      "isQuantity: False\n",
      "Word: \"decide\" -> \"decid\" not in vocab\n",
      "isPersonalPronoun: False\n",
      "isNumber: False\n",
      "isTopping: False\n",
      "isQuantity: False\n"
     ]
    },
    {
     "name": "stderr",
     "output_type": "stream",
     "text": [
      "writing results:  63%|██████▎   | 2501/4000 [04:17<03:02,  8.21it/s]"
     ]
    },
    {
     "name": "stdout",
     "output_type": "stream",
     "text": [
      "Word: \"anted\" -> \"ant\" not in vocab\n",
      "isPersonalPronoun: False\n",
      "isNumber: False\n",
      "isTopping: False\n",
      "isQuantity: False\n",
      "Word: \"smoked\" -> \"smoke\" not in vocab\n",
      "isPersonalPronoun: False\n",
      "isNumber: False\n",
      "isTopping: False\n",
      "isQuantity: False\n",
      "Word: \"Simon\" -> \"simon\" not in vocab\n",
      "isPersonalPronoun: False\n",
      "isNumber: False\n",
      "isTopping: False\n",
      "isQuantity: False\n",
      "Word: \"smoked\" -> \"smoke\" not in vocab\n",
      "isPersonalPronoun: False\n",
      "isNumber: False\n",
      "isTopping: False\n",
      "isQuantity: False\n",
      "Word: \"Simon\" -> \"simon\" not in vocab\n",
      "isPersonalPronoun: False\n",
      "isNumber: False\n",
      "isTopping: False\n",
      "isQuantity: False\n",
      "Word: \"sweet potatoes\" -> \"sweet potato\" not in vocab\n",
      "isPersonalPronoun: False\n",
      "isNumber: False\n",
      "isTopping: True\n",
      "isQuantity: False\n"
     ]
    },
    {
     "name": "stderr",
     "output_type": "stream",
     "text": [
      "writing results:  63%|██████▎   | 2503/4000 [04:17<02:39,  9.41it/s]"
     ]
    },
    {
     "name": "stdout",
     "output_type": "stream",
     "text": [
      "Word: \"sweet potatoes\" -> \"sweet potato\" not in vocab\n",
      "isPersonalPronoun: False\n",
      "isNumber: False\n",
      "isTopping: True\n",
      "isQuantity: False\n"
     ]
    },
    {
     "name": "stderr",
     "output_type": "stream",
     "text": [
      "writing results:  63%|██████▎   | 2505/4000 [04:17<02:58,  8.39it/s]"
     ]
    },
    {
     "name": "stdout",
     "output_type": "stream",
     "text": [
      "Word: \"extralarge\" -> \"extralarg\" not in vocab\n",
      "isPersonalPronoun: False\n",
      "isNumber: False\n",
      "isTopping: False\n",
      "isQuantity: False\n",
      "Word: \"extralarge\" -> \"extralarg\" not in vocab\n",
      "isPersonalPronoun: False\n",
      "isNumber: False\n",
      "isTopping: False\n",
      "isQuantity: False\n"
     ]
    },
    {
     "name": "stderr",
     "output_type": "stream",
     "text": [
      "writing results:  63%|██████▎   | 2511/4000 [04:20<06:56,  3.58it/s]"
     ]
    },
    {
     "name": "stdout",
     "output_type": "stream",
     "text": [
      "Word: \"extralarge\" -> \"extralarg\" not in vocab\n",
      "isPersonalPronoun: False\n",
      "isNumber: False\n",
      "isTopping: False\n",
      "isQuantity: False\n",
      "Word: \"extralarge\" -> \"extralarg\" not in vocab\n",
      "isPersonalPronoun: False\n",
      "isNumber: False\n",
      "isTopping: False\n",
      "isQuantity: False\n",
      "Word: \"cabbage\" -> \"cabbag\" not in vocab\n",
      "isPersonalPronoun: False\n",
      "isNumber: False\n",
      "isTopping: False\n",
      "isQuantity: False\n",
      "Word: \"cabbage\" -> \"cabbag\" not in vocab\n",
      "isPersonalPronoun: False\n",
      "isNumber: False\n",
      "isTopping: False\n",
      "isQuantity: False\n"
     ]
    },
    {
     "name": "stderr",
     "output_type": "stream",
     "text": [
      "writing results:  63%|██████▎   | 2513/4000 [04:20<05:48,  4.27it/s]"
     ]
    },
    {
     "name": "stdout",
     "output_type": "stream",
     "text": [
      "Word: \"mint\" -> \"mint\" not in vocab\n",
      "isPersonalPronoun: False\n",
      "isNumber: False\n",
      "isTopping: False\n",
      "isQuantity: False\n",
      "Word: \"mint\" -> \"mint\" not in vocab\n",
      "isPersonalPronoun: False\n",
      "isNumber: False\n",
      "isTopping: False\n",
      "isQuantity: False\n",
      "Word: \"heavy on\" -> \"heavy on\" not in vocab\n",
      "isPersonalPronoun: False\n",
      "isNumber: False\n",
      "isTopping: False\n",
      "isQuantity: False\n",
      "Word: \"heavy on\" -> \"heavy on\" not in vocab\n",
      "isPersonalPronoun: False\n",
      "isNumber: False\n",
      "isTopping: False\n",
      "isQuantity: False\n"
     ]
    },
    {
     "name": "stderr",
     "output_type": "stream",
     "text": [
      "writing results:  63%|██████▎   | 2520/4000 [04:21<03:01,  8.15it/s]"
     ]
    },
    {
     "name": "stdout",
     "output_type": "stream",
     "text": [
      "Word: \"settle\" -> \"settl\" not in vocab\n",
      "isPersonalPronoun: False\n",
      "isNumber: False\n",
      "isTopping: False\n",
      "isQuantity: False\n",
      "Word: \"goat\" -> \"goat\" not in vocab\n",
      "isPersonalPronoun: False\n",
      "isNumber: False\n",
      "isTopping: False\n",
      "isQuantity: False\n",
      "Word: \"goat\" -> \"goat\" not in vocab\n",
      "isPersonalPronoun: False\n",
      "isNumber: False\n",
      "isTopping: False\n",
      "isQuantity: False\n"
     ]
    },
    {
     "name": "stderr",
     "output_type": "stream",
     "text": [
      "writing results:  63%|██████▎   | 2526/4000 [04:21<02:30,  9.80it/s]"
     ]
    },
    {
     "name": "stdout",
     "output_type": "stream",
     "text": [
      "Word: \"medium size\" -> \"medium s\" not in vocab\n",
      "isPersonalPronoun: False\n",
      "isNumber: False\n",
      "isTopping: False\n",
      "isQuantity: False\n",
      "Word: \"medium size\" -> \"medium s\" not in vocab\n",
      "isPersonalPronoun: False\n",
      "isNumber: False\n",
      "isTopping: False\n",
      "isQuantity: False\n",
      "Word: \"mango\" -> \"mango\" not in vocab\n",
      "isPersonalPronoun: False\n",
      "isNumber: False\n",
      "isTopping: True\n",
      "isQuantity: False\n",
      "Word: \"juice\" -> \"juic\" not in vocab\n",
      "isPersonalPronoun: False\n",
      "isNumber: False\n",
      "isTopping: False\n",
      "isQuantity: False\n",
      "Word: \"medium size\" -> \"medium s\" not in vocab\n",
      "isPersonalPronoun: False\n",
      "isNumber: False\n",
      "isTopping: False\n",
      "isQuantity: False\n",
      "Word: \"medium size\" -> \"medium s\" not in vocab\n",
      "isPersonalPronoun: False\n",
      "isNumber: False\n",
      "isTopping: False\n",
      "isQuantity: False\n",
      "Word: \"mango\" -> \"mango\" not in vocab\n",
      "isPersonalPronoun: False\n",
      "isNumber: False\n",
      "isTopping: True\n",
      "isQuantity: False\n",
      "Word: \"juice\" -> \"juic\" not in vocab\n",
      "isPersonalPronoun: False\n",
      "isNumber: False\n",
      "isTopping: False\n",
      "isQuantity: False\n"
     ]
    },
    {
     "name": "stderr",
     "output_type": "stream",
     "text": [
      "writing results:  63%|██████▎   | 2535/4000 [04:21<01:32, 15.88it/s]"
     ]
    },
    {
     "name": "stdout",
     "output_type": "stream",
     "text": [
      "Word: \"capes\" -> \"cape\" not in vocab\n",
      "isPersonalPronoun: False\n",
      "isNumber: False\n",
      "isTopping: False\n",
      "isQuantity: False\n",
      "Word: \"capes\" -> \"cape\" not in vocab\n",
      "isPersonalPronoun: False\n",
      "isNumber: False\n",
      "isTopping: False\n",
      "isQuantity: False\n",
      "Word: \"red peppers\" -> \"red pepp\" not in vocab\n",
      "isPersonalPronoun: False\n",
      "isNumber: False\n",
      "isTopping: False\n",
      "isQuantity: False\n",
      "Word: \"lamb\" -> \"lamb\" not in vocab\n",
      "isPersonalPronoun: False\n",
      "isNumber: False\n",
      "isTopping: False\n",
      "isQuantity: False\n"
     ]
    },
    {
     "name": "stderr",
     "output_type": "stream",
     "text": [
      "writing results:  63%|██████▎   | 2539/4000 [04:22<01:21, 17.84it/s]"
     ]
    },
    {
     "name": "stdout",
     "output_type": "stream",
     "text": [
      "Word: \"lamb\" -> \"lamb\" not in vocab\n",
      "isPersonalPronoun: False\n",
      "isNumber: False\n",
      "isTopping: False\n",
      "isQuantity: False\n",
      "Word: \"ant\" -> \"ant\" not in vocab\n",
      "isPersonalPronoun: False\n",
      "isNumber: False\n",
      "isTopping: False\n",
      "isQuantity: False\n",
      "Word: \"cabbage\" -> \"cabbag\" not in vocab\n",
      "isPersonalPronoun: False\n",
      "isNumber: False\n",
      "isTopping: False\n",
      "isQuantity: False\n"
     ]
    },
    {
     "name": "stderr",
     "output_type": "stream",
     "text": [
      "writing results:  64%|██████▎   | 2543/4000 [04:22<01:23, 17.54it/s]"
     ]
    },
    {
     "name": "stdout",
     "output_type": "stream",
     "text": [
      "Word: \"go with\" -> \"go with\" not in vocab\n",
      "isPersonalPronoun: False\n",
      "isNumber: False\n",
      "isTopping: False\n",
      "isQuantity: False\n",
      "Word: \"duck\" -> \"duck\" not in vocab\n",
      "isPersonalPronoun: False\n",
      "isNumber: False\n",
      "isTopping: False\n",
      "isQuantity: False\n",
      "Word: \"duck\" -> \"duck\" not in vocab\n",
      "isPersonalPronoun: False\n",
      "isNumber: False\n",
      "isTopping: False\n",
      "isQuantity: False\n"
     ]
    },
    {
     "name": "stderr",
     "output_type": "stream",
     "text": [
      "writing results:  64%|██████▎   | 2547/4000 [04:22<01:32, 15.70it/s]"
     ]
    },
    {
     "name": "stdout",
     "output_type": "stream",
     "text": [
      "Word: \"secure\" -> \"secur\" not in vocab\n",
      "isPersonalPronoun: False\n",
      "isNumber: False\n",
      "isTopping: False\n",
      "isQuantity: False\n",
      "Word: \"mushy\" -> \"mushi\" not in vocab\n",
      "isPersonalPronoun: False\n",
      "isNumber: False\n",
      "isTopping: False\n",
      "isQuantity: False\n",
      "Word: \"smoked\" -> \"smoke\" not in vocab\n",
      "isPersonalPronoun: False\n",
      "isNumber: False\n",
      "isTopping: False\n",
      "isQuantity: False\n",
      "Word: \"salmon\" -> \"salmon\" not in vocab\n",
      "isPersonalPronoun: False\n",
      "isNumber: False\n",
      "isTopping: False\n",
      "isQuantity: False\n",
      "Word: \"mushy\" -> \"mushi\" not in vocab\n",
      "isPersonalPronoun: False\n",
      "isNumber: False\n",
      "isTopping: False\n",
      "isQuantity: False\n",
      "Word: \"smoked\" -> \"smoke\" not in vocab\n",
      "isPersonalPronoun: False\n",
      "isNumber: False\n",
      "isTopping: False\n",
      "isQuantity: False\n",
      "Word: \"salmon\" -> \"salmon\" not in vocab\n",
      "isPersonalPronoun: False\n",
      "isNumber: False\n",
      "isTopping: False\n",
      "isQuantity: False\n",
      "Word: \"sort\" -> \"sort\" not in vocab\n",
      "isPersonalPronoun: False\n",
      "isNumber: False\n",
      "isTopping: False\n",
      "isQuantity: False\n",
      "Word: \"prawns\" -> \"prawn\" not in vocab\n",
      "isPersonalPronoun: False\n",
      "isNumber: False\n",
      "isTopping: False\n",
      "isQuantity: False\n"
     ]
    },
    {
     "name": "stderr",
     "output_type": "stream",
     "text": [
      "writing results:  64%|██████▍   | 2550/4000 [04:22<01:40, 14.40it/s]"
     ]
    },
    {
     "name": "stdout",
     "output_type": "stream",
     "text": [
      "Word: \"prawns\" -> \"prawn\" not in vocab\n",
      "isPersonalPronoun: False\n",
      "isNumber: False\n",
      "isTopping: False\n",
      "isQuantity: False\n",
      "Word: \"zest\" -> \"zest\" not in vocab\n",
      "isPersonalPronoun: False\n",
      "isNumber: False\n",
      "isTopping: False\n",
      "isQuantity: False\n",
      "Word: \"zest\" -> \"zest\" not in vocab\n",
      "isPersonalPronoun: False\n",
      "isNumber: False\n",
      "isTopping: False\n",
      "isQuantity: False\n",
      "Word: \"goat\" -> \"goat\" not in vocab\n",
      "isPersonalPronoun: False\n",
      "isNumber: False\n",
      "isTopping: False\n",
      "isQuantity: False\n"
     ]
    },
    {
     "name": "stderr",
     "output_type": "stream",
     "text": [
      "writing results:  64%|██████▍   | 2554/4000 [04:23<01:42, 14.17it/s]"
     ]
    },
    {
     "name": "stdout",
     "output_type": "stream",
     "text": [
      "Word: \"goat\" -> \"goat\" not in vocab\n",
      "isPersonalPronoun: False\n",
      "isNumber: False\n",
      "isTopping: False\n",
      "isQuantity: False\n",
      "Word: \"you order\" -> \"you ord\" not in vocab\n",
      "isPersonalPronoun: False\n",
      "isNumber: False\n",
      "isTopping: False\n",
      "isQuantity: False\n",
      "Word: \"duck\" -> \"duck\" not in vocab\n",
      "isPersonalPronoun: False\n",
      "isNumber: False\n",
      "isTopping: False\n",
      "isQuantity: False\n",
      "Word: \"duck\" -> \"duck\" not in vocab\n",
      "isPersonalPronoun: False\n",
      "isNumber: False\n",
      "isTopping: False\n",
      "isQuantity: False\n"
     ]
    },
    {
     "name": "stderr",
     "output_type": "stream",
     "text": [
      "writing results:  64%|██████▍   | 2559/4000 [04:23<01:23, 17.23it/s]"
     ]
    },
    {
     "name": "stdout",
     "output_type": "stream",
     "text": [
      "Word: \"zest\" -> \"zest\" not in vocab\n",
      "isPersonalPronoun: False\n",
      "isNumber: False\n",
      "isTopping: False\n",
      "isQuantity: False\n",
      "Word: \"zest\" -> \"zest\" not in vocab\n",
      "isPersonalPronoun: False\n",
      "isNumber: False\n",
      "isTopping: False\n",
      "isQuantity: False\n",
      "Word: \"goat\" -> \"goat\" not in vocab\n",
      "isPersonalPronoun: False\n",
      "isNumber: False\n",
      "isTopping: False\n",
      "isQuantity: False\n",
      "Word: \"goat\" -> \"goat\" not in vocab\n",
      "isPersonalPronoun: False\n",
      "isNumber: False\n",
      "isTopping: False\n",
      "isQuantity: False\n",
      "Word: \"die\" -> \"die\" not in vocab\n",
      "isPersonalPronoun: False\n",
      "isNumber: False\n",
      "isTopping: False\n",
      "isQuantity: False\n",
      "Word: \"die\" -> \"die\" not in vocab\n",
      "isPersonalPronoun: False\n",
      "isNumber: False\n",
      "isTopping: False\n",
      "isQuantity: False\n",
      "Word: \"settle\" -> \"settl\" not in vocab\n",
      "isPersonalPronoun: False\n",
      "isNumber: False\n",
      "isTopping: False\n",
      "isQuantity: False\n",
      "Word: \"footing\" -> \"foot\" not in vocab\n",
      "isPersonalPronoun: False\n",
      "isNumber: False\n",
      "isTopping: False\n",
      "isQuantity: True\n"
     ]
    },
    {
     "name": "stderr",
     "output_type": "stream",
     "text": [
      "writing results:  64%|██████▍   | 2563/4000 [04:24<03:05,  7.73it/s]"
     ]
    },
    {
     "name": "stdout",
     "output_type": "stream",
     "text": [
      "Word: \"footing\" -> \"foot\" not in vocab\n",
      "isPersonalPronoun: False\n",
      "isNumber: False\n",
      "isTopping: False\n",
      "isQuantity: True\n",
      "Word: \"leeks\" -> \"leek\" not in vocab\n",
      "isPersonalPronoun: False\n",
      "isNumber: False\n",
      "isTopping: True\n",
      "isQuantity: False\n",
      "Word: \"leeks\" -> \"leek\" not in vocab\n",
      "isPersonalPronoun: False\n",
      "isNumber: False\n",
      "isTopping: True\n",
      "isQuantity: False\n",
      "Word: \"sirach\" -> \"sirach\" not in vocab\n",
      "isPersonalPronoun: False\n",
      "isNumber: False\n",
      "isTopping: False\n",
      "isQuantity: False\n"
     ]
    },
    {
     "name": "stderr",
     "output_type": "stream",
     "text": [
      "writing results:  64%|██████▍   | 2570/4000 [04:25<02:59,  7.96it/s]"
     ]
    },
    {
     "name": "stdout",
     "output_type": "stream",
     "text": [
      "Word: \"sirach\" -> \"sirach\" not in vocab\n",
      "isPersonalPronoun: False\n",
      "isNumber: False\n",
      "isTopping: False\n",
      "isQuantity: False\n",
      "Word: \"arrange\" -> \"arrang\" not in vocab\n",
      "isPersonalPronoun: False\n",
      "isNumber: False\n",
      "isTopping: False\n",
      "isQuantity: False\n",
      "Word: \"sweet\" -> \"sweet\" not in vocab\n",
      "isPersonalPronoun: False\n",
      "isNumber: False\n",
      "isTopping: False\n",
      "isQuantity: False\n"
     ]
    },
    {
     "name": "stderr",
     "output_type": "stream",
     "text": [
      "writing results:  64%|██████▍   | 2578/4000 [04:25<01:44, 13.63it/s]"
     ]
    },
    {
     "name": "stdout",
     "output_type": "stream",
     "text": [
      "Word: \"sweet\" -> \"sweet\" not in vocab\n",
      "isPersonalPronoun: False\n",
      "isNumber: False\n",
      "isTopping: False\n",
      "isQuantity: False\n"
     ]
    },
    {
     "name": "stderr",
     "output_type": "stream",
     "text": [
      "writing results:  65%|██████▍   | 2581/4000 [04:25<01:34, 15.07it/s]"
     ]
    },
    {
     "name": "stdout",
     "output_type": "stream",
     "text": [
      "Word: \"Roget\" -> \"roget\" not in vocab\n",
      "isPersonalPronoun: False\n",
      "isNumber: False\n",
      "isTopping: False\n",
      "isQuantity: False\n",
      "Word: \"hummus\" -> \"hummu\" not in vocab\n",
      "isPersonalPronoun: False\n",
      "isNumber: False\n",
      "isTopping: False\n",
      "isQuantity: False\n",
      "Word: \"hummus\" -> \"hummu\" not in vocab\n",
      "isPersonalPronoun: False\n",
      "isNumber: False\n",
      "isTopping: False\n",
      "isQuantity: False\n",
      "Word: \"arrange\" -> \"arrang\" not in vocab\n",
      "isPersonalPronoun: False\n",
      "isNumber: False\n",
      "isTopping: False\n",
      "isQuantity: False\n"
     ]
    },
    {
     "name": "stderr",
     "output_type": "stream",
     "text": [
      "writing results:  65%|██████▍   | 2585/4000 [04:26<01:34, 14.91it/s]"
     ]
    },
    {
     "name": "stdout",
     "output_type": "stream",
     "text": [
      "Word: \"like to\" -> \"like to\" not in vocab\n",
      "isPersonalPronoun: False\n",
      "isNumber: False\n",
      "isTopping: False\n",
      "isQuantity: False\n",
      "Word: \"gat\" -> \"gat\" not in vocab\n",
      "isPersonalPronoun: False\n",
      "isNumber: False\n",
      "isTopping: False\n",
      "isQuantity: False\n",
      "Word: \"gat\" -> \"gat\" not in vocab\n",
      "isPersonalPronoun: False\n",
      "isNumber: False\n",
      "isTopping: False\n",
      "isQuantity: False\n",
      "Word: \"god\" -> \"god\" not in vocab\n",
      "isPersonalPronoun: False\n",
      "isNumber: False\n",
      "isTopping: False\n",
      "isQuantity: False\n",
      "Word: \"gruyeres\" -> \"gruyer\" not in vocab\n",
      "isPersonalPronoun: False\n",
      "isNumber: False\n",
      "isTopping: False\n",
      "isQuantity: False\n",
      "Word: \"gruyeres\" -> \"gruyer\" not in vocab\n",
      "isPersonalPronoun: False\n",
      "isNumber: False\n",
      "isTopping: False\n",
      "isQuantity: False\n",
      "Word: \"order for\" -> \"order for\" not in vocab\n",
      "isPersonalPronoun: False\n",
      "isNumber: False\n",
      "isTopping: False\n",
      "isQuantity: False\n",
      "Word: \"hummus\" -> \"hummu\" not in vocab\n",
      "isPersonalPronoun: False\n",
      "isNumber: False\n",
      "isTopping: False\n",
      "isQuantity: False\n",
      "Word: \"blue\" -> \"blue\" not in vocab\n",
      "isPersonalPronoun: False\n",
      "isNumber: False\n",
      "isTopping: False\n",
      "isQuantity: False\n",
      "Word: \"hummus\" -> \"hummu\" not in vocab\n",
      "isPersonalPronoun: False\n",
      "isNumber: False\n",
      "isTopping: False\n",
      "isQuantity: False\n",
      "Word: \"blue\" -> \"blue\" not in vocab\n",
      "isPersonalPronoun: False\n",
      "isNumber: False\n",
      "isTopping: False\n",
      "isQuantity: False\n",
      "Word: \"secure\" -> \"secur\" not in vocab\n",
      "isPersonalPronoun: False\n",
      "isNumber: False\n",
      "isTopping: False\n",
      "isQuantity: False\n",
      "Word: \"heavy\" -> \"heavi\" not in vocab\n",
      "isPersonalPronoun: False\n",
      "isNumber: False\n",
      "isTopping: False\n",
      "isQuantity: False\n",
      "Word: \"heavy\" -> \"heavi\" not in vocab\n",
      "isPersonalPronoun: False\n",
      "isNumber: False\n",
      "isTopping: False\n",
      "isQuantity: False\n"
     ]
    },
    {
     "name": "stderr",
     "output_type": "stream",
     "text": [
      "writing results:  65%|██████▍   | 2590/4000 [04:26<02:19, 10.11it/s]"
     ]
    },
    {
     "name": "stdout",
     "output_type": "stream",
     "text": [
      "Word: \"heavy\" -> \"heavi\" not in vocab\n",
      "isPersonalPronoun: False\n",
      "isNumber: False\n",
      "isTopping: False\n",
      "isQuantity: False\n",
      "Word: \"heavy\" -> \"heavi\" not in vocab\n",
      "isPersonalPronoun: False\n",
      "isNumber: False\n",
      "isTopping: False\n",
      "isQuantity: False\n",
      "Word: \"happy\" -> \"happi\" not in vocab\n",
      "isPersonalPronoun: False\n",
      "isNumber: False\n",
      "isTopping: False\n",
      "isQuantity: False\n",
      "Word: \"cherry coke\" -> \"cherry cok\" not in vocab\n",
      "isPersonalPronoun: False\n",
      "isNumber: False\n",
      "isTopping: False\n",
      "isQuantity: False\n",
      "Word: \"cherry coke\" -> \"cherry cok\" not in vocab\n",
      "isPersonalPronoun: False\n",
      "isNumber: False\n",
      "isTopping: False\n",
      "isQuantity: False\n"
     ]
    },
    {
     "name": "stderr",
     "output_type": "stream",
     "text": [
      "writing results:  65%|██████▍   | 2594/4000 [04:26<01:46, 13.22it/s]"
     ]
    },
    {
     "name": "stdout",
     "output_type": "stream",
     "text": [
      "Word: \"arrange\" -> \"arrang\" not in vocab\n",
      "isPersonalPronoun: False\n",
      "isNumber: False\n",
      "isTopping: False\n",
      "isQuantity: False\n",
      "Word: \"macchiatos\" -> \"macchiato\" not in vocab\n",
      "isPersonalPronoun: False\n",
      "isNumber: False\n",
      "isTopping: False\n",
      "isQuantity: False\n"
     ]
    },
    {
     "name": "stderr",
     "output_type": "stream",
     "text": [
      "writing results:  65%|██████▍   | 2598/4000 [04:28<03:42,  6.30it/s]"
     ]
    },
    {
     "name": "stdout",
     "output_type": "stream",
     "text": [
      "Word: \"macchiatos\" -> \"macchiato\" not in vocab\n",
      "isPersonalPronoun: False\n",
      "isNumber: False\n",
      "isTopping: False\n",
      "isQuantity: False\n",
      "Word: \"heavy\" -> \"heavi\" not in vocab\n",
      "isPersonalPronoun: False\n",
      "isNumber: False\n",
      "isTopping: False\n",
      "isQuantity: False\n",
      "Word: \"heavy\" -> \"heavi\" not in vocab\n",
      "isPersonalPronoun: False\n",
      "isNumber: False\n",
      "isTopping: False\n",
      "isQuantity: False\n"
     ]
    },
    {
     "name": "stderr",
     "output_type": "stream",
     "text": [
      "writing results:  65%|██████▌   | 2602/4000 [04:28<03:00,  7.75it/s]"
     ]
    },
    {
     "name": "stdout",
     "output_type": "stream",
     "text": [
      "Word: \"pop\" -> \"pop\" not in vocab\n",
      "isPersonalPronoun: False\n",
      "isNumber: False\n",
      "isTopping: False\n",
      "isQuantity: False\n",
      "Word: \"seeds\" -> \"seed\" not in vocab\n",
      "isPersonalPronoun: False\n",
      "isNumber: False\n",
      "isTopping: False\n",
      "isQuantity: False\n",
      "Word: \"pop\" -> \"pop\" not in vocab\n",
      "isPersonalPronoun: False\n",
      "isNumber: False\n",
      "isTopping: False\n",
      "isQuantity: False\n",
      "Word: \"seeds\" -> \"seed\" not in vocab\n",
      "isPersonalPronoun: False\n",
      "isNumber: False\n",
      "isTopping: False\n",
      "isQuantity: False\n"
     ]
    },
    {
     "name": "stderr",
     "output_type": "stream",
     "text": [
      "writing results:  65%|██████▌   | 2608/4000 [04:28<01:57, 11.89it/s]"
     ]
    },
    {
     "name": "stdout",
     "output_type": "stream",
     "text": [
      "Word: \"ET\" -> \"et\" not in vocab\n",
      "isPersonalPronoun: False\n",
      "isNumber: False\n",
      "isTopping: False\n",
      "isQuantity: False\n",
      "Word: \"ricotta cheese\" -> \"ricotta chees\" not in vocab\n",
      "isPersonalPronoun: False\n",
      "isNumber: False\n",
      "isTopping: False\n",
      "isQuantity: False\n",
      "Word: \"ricotta cheese\" -> \"ricotta chees\" not in vocab\n",
      "isPersonalPronoun: False\n",
      "isNumber: False\n",
      "isTopping: False\n",
      "isQuantity: False\n",
      "Word: \"hook\" -> \"hook\" not in vocab\n",
      "isPersonalPronoun: False\n",
      "isNumber: False\n",
      "isTopping: False\n",
      "isQuantity: False\n",
      "Word: \"opt\" -> \"opt\" not in vocab\n",
      "isPersonalPronoun: False\n",
      "isNumber: False\n",
      "isTopping: False\n",
      "isQuantity: False\n",
      "Word: \"finalize\" -> \"final\" not in vocab\n",
      "isPersonalPronoun: False\n",
      "isNumber: False\n",
      "isTopping: False\n",
      "isQuantity: False\n",
      "Word: \"smoked\" -> \"smoke\" not in vocab\n",
      "isPersonalPronoun: False\n",
      "isNumber: False\n",
      "isTopping: False\n",
      "isQuantity: False\n",
      "Word: \"salmon\" -> \"salmon\" not in vocab\n",
      "isPersonalPronoun: False\n",
      "isNumber: False\n",
      "isTopping: False\n",
      "isQuantity: False\n",
      "Word: \"smoked\" -> \"smoke\" not in vocab\n",
      "isPersonalPronoun: False\n",
      "isNumber: False\n",
      "isTopping: False\n",
      "isQuantity: False\n",
      "Word: \"salmon\" -> \"salmon\" not in vocab\n",
      "isPersonalPronoun: False\n",
      "isNumber: False\n",
      "isTopping: False\n",
      "isQuantity: False\n"
     ]
    },
    {
     "name": "stderr",
     "output_type": "stream",
     "text": [
      "writing results:  65%|██████▌   | 2614/4000 [04:29<01:54, 12.15it/s]"
     ]
    },
    {
     "name": "stdout",
     "output_type": "stream",
     "text": [
      "Word: \"cabbage\" -> \"cabbag\" not in vocab\n",
      "isPersonalPronoun: False\n",
      "isNumber: False\n",
      "isTopping: False\n",
      "isQuantity: False\n",
      "Word: \"cabbage\" -> \"cabbag\" not in vocab\n",
      "isPersonalPronoun: False\n",
      "isNumber: False\n",
      "isTopping: False\n",
      "isQuantity: False\n",
      "Word: \"lamb\" -> \"lamb\" not in vocab\n",
      "isPersonalPronoun: False\n",
      "isNumber: False\n",
      "isTopping: False\n",
      "isQuantity: False\n",
      "Word: \"lamb\" -> \"lamb\" not in vocab\n",
      "isPersonalPronoun: False\n",
      "isNumber: False\n",
      "isTopping: False\n",
      "isQuantity: False\n",
      "Word: \"footing\" -> \"foot\" not in vocab\n",
      "isPersonalPronoun: False\n",
      "isNumber: False\n",
      "isTopping: False\n",
      "isQuantity: True\n",
      "Word: \"mint\" -> \"mint\" not in vocab\n",
      "isPersonalPronoun: False\n",
      "isNumber: False\n",
      "isTopping: False\n",
      "isQuantity: False\n"
     ]
    },
    {
     "name": "stderr",
     "output_type": "stream",
     "text": [
      "writing results:  66%|██████▌   | 2620/4000 [04:30<02:40,  8.61it/s]"
     ]
    },
    {
     "name": "stdout",
     "output_type": "stream",
     "text": [
      "Word: \"footing\" -> \"foot\" not in vocab\n",
      "isPersonalPronoun: False\n",
      "isNumber: False\n",
      "isTopping: False\n",
      "isQuantity: True\n",
      "Word: \"mint\" -> \"mint\" not in vocab\n",
      "isPersonalPronoun: False\n",
      "isNumber: False\n",
      "isTopping: False\n",
      "isQuantity: False\n",
      "Word: \"prawns\" -> \"prawn\" not in vocab\n",
      "isPersonalPronoun: False\n",
      "isNumber: False\n",
      "isTopping: False\n",
      "isQuantity: False\n",
      "Word: \"prawns\" -> \"prawn\" not in vocab\n",
      "isPersonalPronoun: False\n",
      "isNumber: False\n",
      "isTopping: False\n",
      "isQuantity: False\n"
     ]
    },
    {
     "name": "stderr",
     "output_type": "stream",
     "text": [
      "writing results:  66%|██████▌   | 2623/4000 [04:30<02:21,  9.72it/s]"
     ]
    },
    {
     "name": "stdout",
     "output_type": "stream",
     "text": [
      "Word: \"smoked\" -> \"smoke\" not in vocab\n",
      "isPersonalPronoun: False\n",
      "isNumber: False\n",
      "isTopping: False\n",
      "isQuantity: False\n",
      "Word: \"salmon\" -> \"salmon\" not in vocab\n",
      "isPersonalPronoun: False\n",
      "isNumber: False\n",
      "isTopping: False\n",
      "isQuantity: False\n",
      "Word: \"mint\" -> \"mint\" not in vocab\n",
      "isPersonalPronoun: False\n",
      "isNumber: False\n",
      "isTopping: False\n",
      "isQuantity: False\n",
      "Word: \"smoked\" -> \"smoke\" not in vocab\n",
      "isPersonalPronoun: False\n",
      "isNumber: False\n",
      "isTopping: False\n",
      "isQuantity: False\n",
      "Word: \"salmon\" -> \"salmon\" not in vocab\n",
      "isPersonalPronoun: False\n",
      "isNumber: False\n",
      "isTopping: False\n",
      "isQuantity: False\n",
      "Word: \"heavy\" -> \"heavi\" not in vocab\n",
      "isPersonalPronoun: False\n",
      "isNumber: False\n",
      "isTopping: False\n",
      "isQuantity: False\n"
     ]
    },
    {
     "name": "stderr",
     "output_type": "stream",
     "text": [
      "writing results:  66%|██████▌   | 2629/4000 [04:31<01:41, 13.46it/s]"
     ]
    },
    {
     "name": "stdout",
     "output_type": "stream",
     "text": [
      "Word: \"heavy\" -> \"heavi\" not in vocab\n",
      "isPersonalPronoun: False\n",
      "isNumber: False\n",
      "isTopping: False\n",
      "isQuantity: False\n",
      "Word: \"chocolate\" -> \"chocol\" not in vocab\n",
      "isPersonalPronoun: False\n",
      "isNumber: False\n",
      "isTopping: False\n",
      "isQuantity: False\n",
      "Word: \"chocolate\" -> \"chocol\" not in vocab\n",
      "isPersonalPronoun: False\n",
      "isNumber: False\n",
      "isTopping: False\n",
      "isQuantity: False\n",
      "Word: \"footing\" -> \"foot\" not in vocab\n",
      "isPersonalPronoun: False\n",
      "isNumber: False\n",
      "isTopping: False\n",
      "isQuantity: True\n"
     ]
    },
    {
     "name": "stderr",
     "output_type": "stream",
     "text": [
      "writing results:  66%|██████▌   | 2631/4000 [04:31<03:01,  7.53it/s]"
     ]
    },
    {
     "name": "stdout",
     "output_type": "stream",
     "text": [
      "Word: \"footing\" -> \"foot\" not in vocab\n",
      "isPersonalPronoun: False\n",
      "isNumber: False\n",
      "isTopping: False\n",
      "isQuantity: True\n",
      "Word: \"i've\" -> \"i'v\" not in vocab\n",
      "isPersonalPronoun: False\n",
      "isNumber: False\n",
      "isTopping: False\n",
      "isQuantity: False\n",
      "Word: \"decided\" -> \"decid\" not in vocab\n",
      "isPersonalPronoun: False\n",
      "isNumber: False\n",
      "isTopping: False\n",
      "isQuantity: False\n",
      "Word: \"sarsaparilla\" -> \"sarsaparilla\" not in vocab\n",
      "isPersonalPronoun: False\n",
      "isNumber: False\n",
      "isTopping: False\n",
      "isQuantity: False\n"
     ]
    },
    {
     "name": "stderr",
     "output_type": "stream",
     "text": [
      "writing results:  66%|██████▌   | 2636/4000 [04:32<02:22,  9.59it/s]"
     ]
    },
    {
     "name": "stdout",
     "output_type": "stream",
     "text": [
      "Word: \"sarsaparilla\" -> \"sarsaparilla\" not in vocab\n",
      "isPersonalPronoun: False\n",
      "isNumber: False\n",
      "isTopping: False\n",
      "isQuantity: False\n",
      "Word: \"settle\" -> \"settl\" not in vocab\n",
      "isPersonalPronoun: False\n",
      "isNumber: False\n",
      "isTopping: False\n",
      "isQuantity: False\n",
      "Word: \"ave\" -> \"ave\" not in vocab\n",
      "isPersonalPronoun: False\n",
      "isNumber: False\n",
      "isTopping: False\n",
      "isQuantity: False\n",
      "Word: \"sauted\" -> \"saut\" not in vocab\n",
      "isPersonalPronoun: False\n",
      "isNumber: False\n",
      "isTopping: False\n",
      "isQuantity: False\n",
      "Word: \"sauted\" -> \"saut\" not in vocab\n",
      "isPersonalPronoun: False\n",
      "isNumber: False\n",
      "isTopping: False\n",
      "isQuantity: False\n",
      "Word: \"sauted\" -> \"saut\" not in vocab\n",
      "isPersonalPronoun: False\n",
      "isNumber: False\n",
      "isTopping: False\n",
      "isQuantity: False\n",
      "Word: \"extralarge\" -> \"extralarg\" not in vocab\n",
      "isPersonalPronoun: False\n",
      "isNumber: False\n",
      "isTopping: False\n",
      "isQuantity: False\n",
      "Word: \"duck\" -> \"duck\" not in vocab\n",
      "isPersonalPronoun: False\n",
      "isNumber: False\n",
      "isTopping: False\n",
      "isQuantity: False\n"
     ]
    },
    {
     "name": "stderr",
     "output_type": "stream",
     "text": [
      "writing results:  66%|██████▌   | 2638/4000 [04:33<05:47,  3.92it/s]"
     ]
    },
    {
     "name": "stdout",
     "output_type": "stream",
     "text": [
      "Word: \"extralarge\" -> \"extralarg\" not in vocab\n",
      "isPersonalPronoun: False\n",
      "isNumber: False\n",
      "isTopping: False\n",
      "isQuantity: False\n",
      "Word: \"duck\" -> \"duck\" not in vocab\n",
      "isPersonalPronoun: False\n",
      "isNumber: False\n",
      "isTopping: False\n",
      "isQuantity: False\n",
      "Word: \"handle\" -> \"handl\" not in vocab\n",
      "isPersonalPronoun: False\n",
      "isNumber: False\n",
      "isTopping: False\n",
      "isQuantity: False\n",
      "Word: \"smoked\" -> \"smoke\" not in vocab\n",
      "isPersonalPronoun: False\n",
      "isNumber: False\n",
      "isTopping: False\n",
      "isQuantity: False\n",
      "Word: \"salmon\" -> \"salmon\" not in vocab\n",
      "isPersonalPronoun: False\n",
      "isNumber: False\n",
      "isTopping: False\n",
      "isQuantity: False\n"
     ]
    },
    {
     "name": "stderr",
     "output_type": "stream",
     "text": [
      "writing results:  66%|██████▌   | 2642/4000 [04:33<03:53,  5.82it/s]"
     ]
    },
    {
     "name": "stdout",
     "output_type": "stream",
     "text": [
      "Word: \"smoked\" -> \"smoke\" not in vocab\n",
      "isPersonalPronoun: False\n",
      "isNumber: False\n",
      "isTopping: False\n",
      "isQuantity: False\n",
      "Word: \"salmon\" -> \"salmon\" not in vocab\n",
      "isPersonalPronoun: False\n",
      "isNumber: False\n",
      "isTopping: False\n",
      "isQuantity: False\n",
      "Word: \"stick\" -> \"stick\" not in vocab\n",
      "isPersonalPronoun: False\n",
      "isNumber: False\n",
      "isTopping: False\n",
      "isQuantity: False\n",
      "Word: \"hummus\" -> \"hummu\" not in vocab\n",
      "isPersonalPronoun: False\n",
      "isNumber: False\n",
      "isTopping: False\n",
      "isQuantity: False\n",
      "Word: \"hummus\" -> \"hummu\" not in vocab\n",
      "isPersonalPronoun: False\n",
      "isNumber: False\n",
      "isTopping: False\n",
      "isQuantity: False\n",
      "Word: \"mint\" -> \"mint\" not in vocab\n",
      "isPersonalPronoun: False\n",
      "isNumber: False\n",
      "isTopping: False\n",
      "isQuantity: False\n"
     ]
    },
    {
     "name": "stderr",
     "output_type": "stream",
     "text": [
      "writing results:  66%|██████▌   | 2646/4000 [04:34<02:36,  8.64it/s]"
     ]
    },
    {
     "name": "stdout",
     "output_type": "stream",
     "text": [
      "Word: \"mint\" -> \"mint\" not in vocab\n",
      "isPersonalPronoun: False\n",
      "isNumber: False\n",
      "isTopping: False\n",
      "isQuantity: False\n",
      "Word: \"sauted\" -> \"saut\" not in vocab\n",
      "isPersonalPronoun: False\n",
      "isNumber: False\n",
      "isTopping: False\n",
      "isQuantity: False\n",
      "Word: \"sauted\" -> \"saut\" not in vocab\n",
      "isPersonalPronoun: False\n",
      "isNumber: False\n",
      "isTopping: False\n",
      "isQuantity: False\n",
      "Word: \"happy\" -> \"happi\" not in vocab\n",
      "isPersonalPronoun: False\n",
      "isNumber: False\n",
      "isTopping: False\n",
      "isQuantity: False\n"
     ]
    },
    {
     "name": "stderr",
     "output_type": "stream",
     "text": [
      "writing results:  66%|██████▌   | 2648/4000 [04:34<02:24,  9.33it/s]"
     ]
    },
    {
     "name": "stdout",
     "output_type": "stream",
     "text": [
      "Word: \"lamb\" -> \"lamb\" not in vocab\n",
      "isPersonalPronoun: False\n",
      "isNumber: False\n",
      "isTopping: False\n",
      "isQuantity: False\n",
      "Word: \"lamb\" -> \"lamb\" not in vocab\n",
      "isPersonalPronoun: False\n",
      "isNumber: False\n",
      "isTopping: False\n",
      "isQuantity: False\n",
      "Word: \"finalize\" -> \"final\" not in vocab\n",
      "isPersonalPronoun: False\n",
      "isNumber: False\n",
      "isTopping: False\n",
      "isQuantity: False\n",
      "Word: \"leeks\" -> \"leek\" not in vocab\n",
      "isPersonalPronoun: False\n",
      "isNumber: False\n",
      "isTopping: True\n",
      "isQuantity: False\n"
     ]
    },
    {
     "name": "stderr",
     "output_type": "stream",
     "text": [
      "writing results:  66%|██████▋   | 2651/4000 [04:34<01:58, 11.35it/s]"
     ]
    },
    {
     "name": "stdout",
     "output_type": "stream",
     "text": [
      "Word: \"leeks\" -> \"leek\" not in vocab\n",
      "isPersonalPronoun: False\n",
      "isNumber: False\n",
      "isTopping: True\n",
      "isQuantity: False\n"
     ]
    },
    {
     "name": "stderr",
     "output_type": "stream",
     "text": [
      "writing results:  66%|██████▋   | 2653/4000 [04:34<03:00,  7.45it/s]"
     ]
    },
    {
     "name": "stdout",
     "output_type": "stream",
     "text": [
      "Word: \"wouldlike\" -> \"wouldlik\" not in vocab\n",
      "isPersonalPronoun: False\n",
      "isNumber: False\n",
      "isTopping: False\n",
      "isQuantity: False\n",
      "Word: \"arrange\" -> \"arrang\" not in vocab\n",
      "isPersonalPronoun: False\n",
      "isNumber: False\n",
      "isTopping: False\n",
      "isQuantity: False\n",
      "Word: \"sirach\" -> \"sirach\" not in vocab\n",
      "isPersonalPronoun: False\n",
      "isNumber: False\n",
      "isTopping: False\n",
      "isQuantity: False\n",
      "Word: \"sirach\" -> \"sirach\" not in vocab\n",
      "isPersonalPronoun: False\n",
      "isNumber: False\n",
      "isTopping: False\n",
      "isQuantity: False\n"
     ]
    },
    {
     "name": "stderr",
     "output_type": "stream",
     "text": [
      "writing results:  66%|██████▋   | 2655/4000 [04:36<06:12,  3.61it/s]"
     ]
    },
    {
     "name": "stdout",
     "output_type": "stream",
     "text": [
      "Word: \"hummus\" -> \"hummu\" not in vocab\n",
      "isPersonalPronoun: False\n",
      "isNumber: False\n",
      "isTopping: False\n",
      "isQuantity: False\n",
      "Word: \"hummus\" -> \"hummu\" not in vocab\n",
      "isPersonalPronoun: False\n",
      "isNumber: False\n",
      "isTopping: False\n",
      "isQuantity: False\n",
      "Word: \"kimchi\" -> \"kimchi\" not in vocab\n",
      "isPersonalPronoun: False\n",
      "isNumber: False\n",
      "isTopping: False\n",
      "isQuantity: False\n",
      "Word: \"leeks\" -> \"leek\" not in vocab\n",
      "isPersonalPronoun: False\n",
      "isNumber: False\n",
      "isTopping: True\n",
      "isQuantity: False\n"
     ]
    },
    {
     "name": "stderr",
     "output_type": "stream",
     "text": [
      "writing results:  66%|██████▋   | 2660/4000 [04:36<03:43,  6.01it/s]"
     ]
    },
    {
     "name": "stdout",
     "output_type": "stream",
     "text": [
      "Word: \"kimchi\" -> \"kimchi\" not in vocab\n",
      "isPersonalPronoun: False\n",
      "isNumber: False\n",
      "isTopping: False\n",
      "isQuantity: False\n",
      "Word: \"leeks\" -> \"leek\" not in vocab\n",
      "isPersonalPronoun: False\n",
      "isNumber: False\n",
      "isTopping: True\n",
      "isQuantity: False\n",
      "Word: \"fixing\" -> \"fix\" not in vocab\n",
      "isPersonalPronoun: False\n",
      "isNumber: False\n",
      "isTopping: False\n",
      "isQuantity: False\n",
      "Word: \"duck\" -> \"duck\" not in vocab\n",
      "isPersonalPronoun: False\n",
      "isNumber: False\n",
      "isTopping: False\n",
      "isQuantity: False\n",
      "Word: \"duck\" -> \"duck\" not in vocab\n",
      "isPersonalPronoun: False\n",
      "isNumber: False\n",
      "isTopping: False\n",
      "isQuantity: False\n"
     ]
    },
    {
     "name": "stderr",
     "output_type": "stream",
     "text": [
      "writing results:  67%|██████▋   | 2664/4000 [04:36<02:41,  8.25it/s]"
     ]
    },
    {
     "name": "stdout",
     "output_type": "stream",
     "text": [
      "Word: \"mint\" -> \"mint\" not in vocab\n",
      "isPersonalPronoun: False\n",
      "isNumber: False\n",
      "isTopping: False\n",
      "isQuantity: False\n",
      "Word: \"mint\" -> \"mint\" not in vocab\n",
      "isPersonalPronoun: False\n",
      "isNumber: False\n",
      "isTopping: False\n",
      "isQuantity: False\n",
      "Word: \"mint\" -> \"mint\" not in vocab\n",
      "isPersonalPronoun: False\n",
      "isNumber: False\n",
      "isTopping: False\n",
      "isQuantity: False\n",
      "Word: \"mint\" -> \"mint\" not in vocab\n",
      "isPersonalPronoun: False\n",
      "isNumber: False\n",
      "isTopping: False\n",
      "isQuantity: False\n"
     ]
    },
    {
     "name": "stderr",
     "output_type": "stream",
     "text": [
      "writing results:  67%|██████▋   | 2671/4000 [04:37<02:26,  9.06it/s]"
     ]
    },
    {
     "name": "stdout",
     "output_type": "stream",
     "text": [
      "Word: \"lutes\" -> \"lute\" not in vocab\n",
      "isPersonalPronoun: False\n",
      "isNumber: False\n",
      "isTopping: False\n",
      "isQuantity: False\n",
      "Word: \"lutes\" -> \"lute\" not in vocab\n",
      "isPersonalPronoun: False\n",
      "isNumber: False\n",
      "isTopping: False\n",
      "isQuantity: False\n",
      "Word: \"opt\" -> \"opt\" not in vocab\n",
      "isPersonalPronoun: False\n",
      "isNumber: False\n",
      "isTopping: False\n",
      "isQuantity: False\n",
      "Word: \"goat\" -> \"goat\" not in vocab\n",
      "isPersonalPronoun: False\n",
      "isNumber: False\n",
      "isTopping: False\n",
      "isQuantity: False\n",
      "Word: \"goat\" -> \"goat\" not in vocab\n",
      "isPersonalPronoun: False\n",
      "isNumber: False\n",
      "isTopping: False\n",
      "isQuantity: False\n"
     ]
    },
    {
     "name": "stderr",
     "output_type": "stream",
     "text": [
      "writing results:  67%|██████▋   | 2678/4000 [04:38<01:33, 14.19it/s]"
     ]
    },
    {
     "name": "stdout",
     "output_type": "stream",
     "text": [
      "Word: \"opting\" -> \"opt\" not in vocab\n",
      "isPersonalPronoun: False\n",
      "isNumber: False\n",
      "isTopping: False\n",
      "isQuantity: False\n",
      "Word: \"sparkling\" -> \"sparkl\" not in vocab\n",
      "isPersonalPronoun: False\n",
      "isNumber: False\n",
      "isTopping: False\n",
      "isQuantity: False\n",
      "Word: \"sparkling\" -> \"sparkl\" not in vocab\n",
      "isPersonalPronoun: False\n",
      "isNumber: False\n",
      "isTopping: False\n",
      "isQuantity: False\n",
      "Word: \"lamb\" -> \"lamb\" not in vocab\n",
      "isPersonalPronoun: False\n",
      "isNumber: False\n",
      "isTopping: False\n",
      "isQuantity: False\n"
     ]
    },
    {
     "name": "stderr",
     "output_type": "stream",
     "text": [
      "writing results:  67%|██████▋   | 2681/4000 [04:38<01:24, 15.64it/s]"
     ]
    },
    {
     "name": "stdout",
     "output_type": "stream",
     "text": [
      "Word: \"coconut\" -> \"coconut\" not in vocab\n",
      "isPersonalPronoun: False\n",
      "isNumber: False\n",
      "isTopping: True\n",
      "isQuantity: False\n",
      "Word: \"coconut\" -> \"coconut\" not in vocab\n",
      "isPersonalPronoun: False\n",
      "isNumber: False\n",
      "isTopping: True\n",
      "isQuantity: False\n",
      "Word: \"steed\" -> \"steed\" not in vocab\n",
      "isPersonalPronoun: False\n",
      "isNumber: False\n",
      "isTopping: False\n",
      "isQuantity: False\n"
     ]
    },
    {
     "name": "stderr",
     "output_type": "stream",
     "text": [
      "writing results:  67%|██████▋   | 2685/4000 [04:38<01:30, 14.49it/s]"
     ]
    },
    {
     "name": "stdout",
     "output_type": "stream",
     "text": [
      "Word: \"steed\" -> \"steed\" not in vocab\n",
      "isPersonalPronoun: False\n",
      "isNumber: False\n",
      "isTopping: False\n",
      "isQuantity: False\n",
      "Word: \"hummus\" -> \"hummu\" not in vocab\n",
      "isPersonalPronoun: False\n",
      "isNumber: False\n",
      "isTopping: False\n",
      "isQuantity: False\n",
      "Word: \"hummus\" -> \"hummu\" not in vocab\n",
      "isPersonalPronoun: False\n",
      "isNumber: False\n",
      "isTopping: False\n",
      "isQuantity: False\n"
     ]
    },
    {
     "name": "stderr",
     "output_type": "stream",
     "text": [
      "writing results:  67%|██████▋   | 2687/4000 [04:38<01:39, 13.18it/s]"
     ]
    },
    {
     "name": "stdout",
     "output_type": "stream",
     "text": [
      "Word: \"stick\" -> \"stick\" not in vocab\n",
      "isPersonalPronoun: False\n",
      "isNumber: False\n",
      "isTopping: False\n",
      "isQuantity: False\n",
      "Word: \"sauted\" -> \"saut\" not in vocab\n",
      "isPersonalPronoun: False\n",
      "isNumber: False\n",
      "isTopping: False\n",
      "isQuantity: False\n",
      "Word: \"sauted\" -> \"saut\" not in vocab\n",
      "isPersonalPronoun: False\n",
      "isNumber: False\n",
      "isTopping: False\n",
      "isQuantity: False\n",
      "Word: \"arrange\" -> \"arrang\" not in vocab\n",
      "isPersonalPronoun: False\n",
      "isNumber: False\n",
      "isTopping: False\n",
      "isQuantity: False\n",
      "Word: \"sirach\" -> \"sirach\" not in vocab\n",
      "isPersonalPronoun: False\n",
      "isNumber: False\n",
      "isTopping: False\n",
      "isQuantity: False\n",
      "Word: \"sirach\" -> \"sirach\" not in vocab\n",
      "isPersonalPronoun: False\n",
      "isNumber: False\n",
      "isTopping: False\n",
      "isQuantity: False\n"
     ]
    },
    {
     "name": "stderr",
     "output_type": "stream",
     "text": [
      "writing results:  67%|██████▋   | 2692/4000 [04:40<03:40,  5.94it/s]"
     ]
    },
    {
     "name": "stdout",
     "output_type": "stream",
     "text": [
      "Word: \"sirach\" -> \"sirach\" not in vocab\n",
      "isPersonalPronoun: False\n",
      "isNumber: False\n",
      "isTopping: False\n",
      "isQuantity: False\n",
      "Word: \"hands\" -> \"hand\" not in vocab\n",
      "isPersonalPronoun: False\n",
      "isNumber: False\n",
      "isTopping: False\n",
      "isQuantity: False\n",
      "Word: \"tonic\" -> \"tonic\" not in vocab\n",
      "isPersonalPronoun: False\n",
      "isNumber: False\n",
      "isTopping: False\n",
      "isQuantity: False\n",
      "Word: \"tonic\" -> \"tonic\" not in vocab\n",
      "isPersonalPronoun: False\n",
      "isNumber: False\n",
      "isTopping: False\n",
      "isQuantity: False\n",
      "Word: \"tonic\" -> \"tonic\" not in vocab\n",
      "isPersonalPronoun: False\n",
      "isNumber: False\n",
      "isTopping: False\n",
      "isQuantity: False\n",
      "Word: \"tonic\" -> \"tonic\" not in vocab\n",
      "isPersonalPronoun: False\n",
      "isNumber: False\n",
      "isTopping: False\n",
      "isQuantity: False\n",
      "Word: \"mushy\" -> \"mushi\" not in vocab\n",
      "isPersonalPronoun: False\n",
      "isNumber: False\n",
      "isTopping: False\n",
      "isQuantity: False\n",
      "Word: \"picked\" -> \"pick\" not in vocab\n",
      "isPersonalPronoun: False\n",
      "isNumber: False\n",
      "isTopping: False\n",
      "isQuantity: False\n"
     ]
    },
    {
     "name": "stderr",
     "output_type": "stream",
     "text": [
      "writing results:  67%|██████▋   | 2694/4000 [04:40<03:41,  5.89it/s]"
     ]
    },
    {
     "name": "stdout",
     "output_type": "stream",
     "text": [
      "Word: \"mushy\" -> \"mushi\" not in vocab\n",
      "isPersonalPronoun: False\n",
      "isNumber: False\n",
      "isTopping: False\n",
      "isQuantity: False\n",
      "Word: \"picked\" -> \"pick\" not in vocab\n",
      "isPersonalPronoun: False\n",
      "isNumber: False\n",
      "isTopping: False\n",
      "isQuantity: False\n",
      "Word: \"leaning\" -> \"lean\" not in vocab\n",
      "isPersonalPronoun: False\n",
      "isNumber: False\n",
      "isTopping: False\n",
      "isQuantity: False\n",
      "Word: \"toward\" -> \"toward\" not in vocab\n",
      "isPersonalPronoun: False\n",
      "isNumber: False\n",
      "isTopping: False\n",
      "isQuantity: False\n",
      "Word: \"sirach\" -> \"sirach\" not in vocab\n",
      "isPersonalPronoun: False\n",
      "isNumber: False\n",
      "isTopping: False\n",
      "isQuantity: False\n"
     ]
    },
    {
     "name": "stderr",
     "output_type": "stream",
     "text": [
      "writing results:  68%|██████▊   | 2700/4000 [04:41<03:31,  6.14it/s]"
     ]
    },
    {
     "name": "stdout",
     "output_type": "stream",
     "text": [
      "Word: \"sirach\" -> \"sirach\" not in vocab\n",
      "isPersonalPronoun: False\n",
      "isNumber: False\n",
      "isTopping: False\n",
      "isQuantity: False\n",
      "Word: \"chard\" -> \"chard\" not in vocab\n",
      "isPersonalPronoun: False\n",
      "isNumber: False\n",
      "isTopping: False\n",
      "isQuantity: False\n",
      "Word: \"chard\" -> \"chard\" not in vocab\n",
      "isPersonalPronoun: False\n",
      "isNumber: False\n",
      "isTopping: False\n",
      "isQuantity: False\n",
      "Word: \"grabbing\" -> \"grab\" not in vocab\n",
      "isPersonalPronoun: False\n",
      "isNumber: False\n",
      "isTopping: False\n",
      "isQuantity: False\n"
     ]
    },
    {
     "name": "stderr",
     "output_type": "stream",
     "text": [
      "writing results:  68%|██████▊   | 2704/4000 [04:41<02:29,  8.66it/s]"
     ]
    },
    {
     "name": "stdout",
     "output_type": "stream",
     "text": [
      "Word: \"finalize\" -> \"final\" not in vocab\n",
      "isPersonalPronoun: False\n",
      "isNumber: False\n",
      "isTopping: False\n",
      "isQuantity: False\n",
      "Word: \"club\" -> \"club\" not in vocab\n",
      "isPersonalPronoun: False\n",
      "isNumber: False\n",
      "isTopping: False\n",
      "isQuantity: False\n",
      "Word: \"club\" -> \"club\" not in vocab\n",
      "isPersonalPronoun: False\n",
      "isNumber: False\n",
      "isTopping: False\n",
      "isQuantity: False\n",
      "Word: \"arrange\" -> \"arrang\" not in vocab\n",
      "isPersonalPronoun: False\n",
      "isNumber: False\n",
      "isTopping: False\n",
      "isQuantity: False\n",
      "Word: \"sweet\" -> \"sweet\" not in vocab\n",
      "isPersonalPronoun: False\n",
      "isNumber: False\n",
      "isTopping: False\n",
      "isQuantity: False\n"
     ]
    },
    {
     "name": "stderr",
     "output_type": "stream",
     "text": [
      "writing results:  68%|██████▊   | 2708/4000 [04:42<02:02, 10.52it/s]"
     ]
    },
    {
     "name": "stdout",
     "output_type": "stream",
     "text": [
      "Word: \"sweet\" -> \"sweet\" not in vocab\n",
      "isPersonalPronoun: False\n",
      "isNumber: False\n",
      "isTopping: False\n",
      "isQuantity: False\n",
      "Word: \"hat\" -> \"hat\" not in vocab\n",
      "isPersonalPronoun: False\n",
      "isNumber: False\n",
      "isTopping: False\n",
      "isQuantity: False\n",
      "Word: \"club\" -> \"club\" not in vocab\n",
      "isPersonalPronoun: False\n",
      "isNumber: False\n",
      "isTopping: False\n",
      "isQuantity: False\n"
     ]
    },
    {
     "name": "stderr",
     "output_type": "stream",
     "text": [
      "writing results:  68%|██████▊   | 2715/4000 [04:42<01:19, 16.23it/s]"
     ]
    },
    {
     "name": "stdout",
     "output_type": "stream",
     "text": [
      "Word: \"club\" -> \"club\" not in vocab\n",
      "isPersonalPronoun: False\n",
      "isNumber: False\n",
      "isTopping: False\n",
      "isQuantity: False\n"
     ]
    },
    {
     "name": "stderr",
     "output_type": "stream",
     "text": [
      "writing results:  68%|██████▊   | 2718/4000 [04:42<01:23, 15.30it/s]"
     ]
    },
    {
     "name": "stdout",
     "output_type": "stream",
     "text": [
      "Word: \"HAE\" -> \"hae\" not in vocab\n",
      "isPersonalPronoun: False\n",
      "isNumber: False\n",
      "isTopping: False\n",
      "isQuantity: False\n",
      "Word: \"tonic\" -> \"tonic\" not in vocab\n",
      "isPersonalPronoun: False\n",
      "isNumber: False\n",
      "isTopping: False\n",
      "isQuantity: False\n",
      "Word: \"HAE\" -> \"hae\" not in vocab\n",
      "isPersonalPronoun: False\n",
      "isNumber: False\n",
      "isTopping: False\n",
      "isQuantity: False\n",
      "Word: \"tonic\" -> \"tonic\" not in vocab\n",
      "isPersonalPronoun: False\n",
      "isNumber: False\n",
      "isTopping: False\n",
      "isQuantity: False\n",
      "Word: \"leeks\" -> \"leek\" not in vocab\n",
      "isPersonalPronoun: False\n",
      "isNumber: False\n",
      "isTopping: True\n",
      "isQuantity: False\n",
      "Word: \"leeks\" -> \"leek\" not in vocab\n",
      "isPersonalPronoun: False\n",
      "isNumber: False\n",
      "isTopping: True\n",
      "isQuantity: False\n"
     ]
    },
    {
     "name": "stderr",
     "output_type": "stream",
     "text": [
      "writing results:  68%|██████▊   | 2722/4000 [04:42<01:25, 14.90it/s]"
     ]
    },
    {
     "name": "stdout",
     "output_type": "stream",
     "text": [
      "Word: \"finalize\" -> \"final\" not in vocab\n",
      "isPersonalPronoun: False\n",
      "isNumber: False\n",
      "isTopping: False\n",
      "isQuantity: False\n",
      "Word: \"Gruyere\" -> \"gruyer\" not in vocab\n",
      "isPersonalPronoun: False\n",
      "isNumber: False\n",
      "isTopping: False\n",
      "isQuantity: False\n",
      "Word: \"Gruyere\" -> \"gruyer\" not in vocab\n",
      "isPersonalPronoun: False\n",
      "isNumber: False\n",
      "isTopping: False\n",
      "isQuantity: False\n"
     ]
    },
    {
     "name": "stderr",
     "output_type": "stream",
     "text": [
      "writing results:  68%|██████▊   | 2728/4000 [04:43<01:06, 19.14it/s]"
     ]
    },
    {
     "name": "stdout",
     "output_type": "stream",
     "text": [
      "Word: \"duck\" -> \"duck\" not in vocab\n",
      "isPersonalPronoun: False\n",
      "isNumber: False\n",
      "isTopping: False\n",
      "isQuantity: False\n",
      "Word: \"duck\" -> \"duck\" not in vocab\n",
      "isPersonalPronoun: False\n",
      "isNumber: False\n",
      "isTopping: False\n",
      "isQuantity: False\n",
      "Word: \"mushy\" -> \"mushi\" not in vocab\n",
      "isPersonalPronoun: False\n",
      "isNumber: False\n",
      "isTopping: False\n",
      "isQuantity: False\n"
     ]
    },
    {
     "name": "stderr",
     "output_type": "stream",
     "text": [
      "writing results:  68%|██████▊   | 2731/4000 [04:43<01:11, 17.66it/s]"
     ]
    },
    {
     "name": "stdout",
     "output_type": "stream",
     "text": [
      "Word: \"mushy\" -> \"mushi\" not in vocab\n",
      "isPersonalPronoun: False\n",
      "isNumber: False\n",
      "isTopping: False\n",
      "isQuantity: False\n",
      "Word: \"steed\" -> \"steed\" not in vocab\n",
      "isPersonalPronoun: False\n",
      "isNumber: False\n",
      "isTopping: False\n",
      "isQuantity: False\n",
      "Word: \"steed\" -> \"steed\" not in vocab\n",
      "isPersonalPronoun: False\n",
      "isNumber: False\n",
      "isTopping: False\n",
      "isQuantity: False\n",
      "Word: \"big meat\" -> \"big meat\" not in vocab\n",
      "isPersonalPronoun: False\n",
      "isNumber: False\n",
      "isTopping: False\n",
      "isQuantity: False\n"
     ]
    },
    {
     "name": "stderr",
     "output_type": "stream",
     "text": [
      "writing results:  68%|██████▊   | 2733/4000 [04:43<01:31, 13.88it/s]"
     ]
    },
    {
     "name": "stdout",
     "output_type": "stream",
     "text": [
      "Word: \"sweet\" -> \"sweet\" not in vocab\n",
      "isPersonalPronoun: False\n",
      "isNumber: False\n",
      "isTopping: False\n",
      "isQuantity: False\n",
      "Word: \"chard\" -> \"chard\" not in vocab\n",
      "isPersonalPronoun: False\n",
      "isNumber: False\n",
      "isTopping: False\n",
      "isQuantity: False\n",
      "Word: \"sweet\" -> \"sweet\" not in vocab\n",
      "isPersonalPronoun: False\n",
      "isNumber: False\n",
      "isTopping: False\n",
      "isQuantity: False\n",
      "Word: \"chard\" -> \"chard\" not in vocab\n",
      "isPersonalPronoun: False\n",
      "isNumber: False\n",
      "isTopping: False\n",
      "isQuantity: False\n",
      "Word: \"lace\" -> \"lace\" not in vocab\n",
      "isPersonalPronoun: False\n",
      "isNumber: False\n",
      "isTopping: False\n",
      "isQuantity: False\n",
      "Word: \"aiming\" -> \"aim\" not in vocab\n",
      "isPersonalPronoun: False\n",
      "isNumber: False\n",
      "isTopping: False\n",
      "isQuantity: False\n"
     ]
    },
    {
     "name": "stderr",
     "output_type": "stream",
     "text": [
      "writing results:  68%|██████▊   | 2736/4000 [04:43<02:02, 10.32it/s]"
     ]
    },
    {
     "name": "stdout",
     "output_type": "stream",
     "text": [
      "Word: \"flavored\" -> \"flavor\" not in vocab\n",
      "isPersonalPronoun: False\n",
      "isNumber: False\n",
      "isTopping: False\n",
      "isQuantity: False\n",
      "Word: \"flavored\" -> \"flavor\" not in vocab\n",
      "isPersonalPronoun: False\n",
      "isNumber: False\n",
      "isTopping: False\n",
      "isQuantity: False\n",
      "Word: \"flavored\" -> \"flavor\" not in vocab\n",
      "isPersonalPronoun: False\n",
      "isNumber: False\n",
      "isTopping: False\n",
      "isQuantity: False\n",
      "Word: \"flavored\" -> \"flavor\" not in vocab\n",
      "isPersonalPronoun: False\n",
      "isNumber: False\n",
      "isTopping: False\n",
      "isQuantity: False\n",
      "Word: \"flavored\" -> \"flavor\" not in vocab\n",
      "isPersonalPronoun: False\n",
      "isNumber: False\n",
      "isTopping: False\n",
      "isQuantity: False\n",
      "Word: \"flavored\" -> \"flavor\" not in vocab\n",
      "isPersonalPronoun: False\n",
      "isNumber: False\n",
      "isTopping: False\n",
      "isQuantity: False\n",
      "Word: \"flavored\" -> \"flavor\" not in vocab\n",
      "isPersonalPronoun: False\n",
      "isNumber: False\n",
      "isTopping: False\n",
      "isQuantity: False\n",
      "Word: \"flavored\" -> \"flavor\" not in vocab\n",
      "isPersonalPronoun: False\n",
      "isNumber: False\n",
      "isTopping: False\n",
      "isQuantity: False\n"
     ]
    },
    {
     "name": "stderr",
     "output_type": "stream",
     "text": [
      "writing results:  69%|██████▊   | 2741/4000 [04:44<01:40, 12.48it/s]"
     ]
    },
    {
     "name": "stdout",
     "output_type": "stream",
     "text": [
      "Word: \"mint\" -> \"mint\" not in vocab\n",
      "isPersonalPronoun: False\n",
      "isNumber: False\n",
      "isTopping: False\n",
      "isQuantity: False\n",
      "Word: \"gopher\" -> \"gopher\" not in vocab\n",
      "isPersonalPronoun: False\n",
      "isNumber: False\n",
      "isTopping: False\n",
      "isQuantity: False\n",
      "Word: \"duck\" -> \"duck\" not in vocab\n",
      "isPersonalPronoun: False\n",
      "isNumber: False\n",
      "isTopping: False\n",
      "isQuantity: False\n",
      "Word: \"duck\" -> \"duck\" not in vocab\n",
      "isPersonalPronoun: False\n",
      "isNumber: False\n",
      "isTopping: False\n",
      "isQuantity: False\n"
     ]
    },
    {
     "name": "stderr",
     "output_type": "stream",
     "text": [
      "writing results:  69%|██████▊   | 2748/4000 [04:44<01:14, 16.73it/s]"
     ]
    },
    {
     "name": "stdout",
     "output_type": "stream",
     "text": [
      "Word: \"secure\" -> \"secur\" not in vocab\n",
      "isPersonalPronoun: False\n",
      "isNumber: False\n",
      "isTopping: False\n",
      "isQuantity: False\n",
      "Word: \"heavy\" -> \"heavi\" not in vocab\n",
      "isPersonalPronoun: False\n",
      "isNumber: False\n",
      "isTopping: False\n",
      "isQuantity: False\n",
      "Word: \"heavy\" -> \"heavi\" not in vocab\n",
      "isPersonalPronoun: False\n",
      "isNumber: False\n",
      "isTopping: False\n",
      "isQuantity: False\n",
      "Word: \"arrange\" -> \"arrang\" not in vocab\n",
      "isPersonalPronoun: False\n",
      "isNumber: False\n",
      "isTopping: False\n",
      "isQuantity: False\n"
     ]
    },
    {
     "name": "stderr",
     "output_type": "stream",
     "text": [
      "writing results:  69%|██████▉   | 2750/4000 [04:44<01:14, 16.79it/s]"
     ]
    },
    {
     "name": "stdout",
     "output_type": "stream",
     "text": [
      "Word: \"prawns\" -> \"prawn\" not in vocab\n",
      "isPersonalPronoun: False\n",
      "isNumber: False\n",
      "isTopping: False\n",
      "isQuantity: False\n",
      "Word: \"prawns\" -> \"prawn\" not in vocab\n",
      "isPersonalPronoun: False\n",
      "isNumber: False\n",
      "isTopping: False\n",
      "isQuantity: False\n",
      "Word: \"like to\" -> \"like to\" not in vocab\n",
      "isPersonalPronoun: False\n",
      "isNumber: False\n",
      "isTopping: False\n",
      "isQuantity: False\n",
      "Word: \"footing\" -> \"foot\" not in vocab\n",
      "isPersonalPronoun: False\n",
      "isNumber: False\n",
      "isTopping: False\n",
      "isQuantity: True\n",
      "Word: \"match\" -> \"match\" not in vocab\n",
      "isPersonalPronoun: False\n",
      "isNumber: False\n",
      "isTopping: False\n",
      "isQuantity: False\n",
      "Word: \"latte\" -> \"latt\" not in vocab\n",
      "isPersonalPronoun: False\n",
      "isNumber: False\n",
      "isTopping: False\n",
      "isQuantity: False\n"
     ]
    },
    {
     "name": "stderr",
     "output_type": "stream",
     "text": [
      "writing results:  69%|██████▉   | 2753/4000 [04:45<03:16,  6.33it/s]"
     ]
    },
    {
     "name": "stdout",
     "output_type": "stream",
     "text": [
      "Word: \"footing\" -> \"foot\" not in vocab\n",
      "isPersonalPronoun: False\n",
      "isNumber: False\n",
      "isTopping: False\n",
      "isQuantity: True\n",
      "Word: \"match\" -> \"match\" not in vocab\n",
      "isPersonalPronoun: False\n",
      "isNumber: False\n",
      "isTopping: False\n",
      "isQuantity: False\n",
      "Word: \"latte\" -> \"latt\" not in vocab\n",
      "isPersonalPronoun: False\n",
      "isNumber: False\n",
      "isTopping: False\n",
      "isQuantity: False\n",
      "Word: \"mushy\" -> \"mushi\" not in vocab\n",
      "isPersonalPronoun: False\n",
      "isNumber: False\n",
      "isTopping: False\n",
      "isQuantity: False\n",
      "Word: \"mushy\" -> \"mushi\" not in vocab\n",
      "isPersonalPronoun: False\n",
      "isNumber: False\n",
      "isTopping: False\n",
      "isQuantity: False\n"
     ]
    },
    {
     "name": "stderr",
     "output_type": "stream",
     "text": [
      "writing results:  69%|██████▉   | 2755/4000 [04:45<02:54,  7.12it/s]"
     ]
    },
    {
     "name": "stdout",
     "output_type": "stream",
     "text": [
      "Word: \"prawns\" -> \"prawn\" not in vocab\n",
      "isPersonalPronoun: False\n",
      "isNumber: False\n",
      "isTopping: False\n",
      "isQuantity: False\n",
      "Word: \"prawns\" -> \"prawn\" not in vocab\n",
      "isPersonalPronoun: False\n",
      "isNumber: False\n",
      "isTopping: False\n",
      "isQuantity: False\n"
     ]
    },
    {
     "name": "stderr",
     "output_type": "stream",
     "text": [
      "writing results:  69%|██████▉   | 2757/4000 [04:46<04:10,  4.97it/s]"
     ]
    },
    {
     "name": "stdout",
     "output_type": "stream",
     "text": [
      "Word: \"wouldlike\" -> \"wouldlik\" not in vocab\n",
      "isPersonalPronoun: False\n",
      "isNumber: False\n",
      "isTopping: False\n",
      "isQuantity: False\n",
      "Word: \"leeks\" -> \"leek\" not in vocab\n",
      "isPersonalPronoun: False\n",
      "isNumber: False\n",
      "isTopping: True\n",
      "isQuantity: False\n",
      "Word: \"cucumber\" -> \"cucumb\" not in vocab\n",
      "isPersonalPronoun: False\n",
      "isNumber: False\n",
      "isTopping: False\n",
      "isQuantity: False\n",
      "Word: \"leeks\" -> \"leek\" not in vocab\n",
      "isPersonalPronoun: False\n",
      "isNumber: False\n",
      "isTopping: True\n",
      "isQuantity: False\n",
      "Word: \"cucumber\" -> \"cucumb\" not in vocab\n",
      "isPersonalPronoun: False\n",
      "isNumber: False\n",
      "isTopping: False\n",
      "isQuantity: False\n",
      "Word: \"cucumber\" -> \"cucumb\" not in vocab\n",
      "isPersonalPronoun: False\n",
      "isNumber: False\n",
      "isTopping: False\n",
      "isQuantity: False\n",
      "Word: \"grabbing\" -> \"grab\" not in vocab\n",
      "isPersonalPronoun: False\n",
      "isNumber: False\n",
      "isTopping: False\n",
      "isQuantity: False\n",
      "Word: \"bubble\" -> \"bubbl\" not in vocab\n",
      "isPersonalPronoun: False\n",
      "isNumber: False\n",
      "isTopping: False\n",
      "isQuantity: False\n",
      "Word: \"bubble\" -> \"bubbl\" not in vocab\n",
      "isPersonalPronoun: False\n",
      "isNumber: False\n",
      "isTopping: False\n",
      "isQuantity: False\n"
     ]
    },
    {
     "name": "stderr",
     "output_type": "stream",
     "text": [
      "writing results:  69%|██████▉   | 2767/4000 [04:47<01:30, 13.67it/s]"
     ]
    },
    {
     "name": "stdout",
     "output_type": "stream",
     "text": [
      "Word: \"kimchi\" -> \"kimchi\" not in vocab\n",
      "isPersonalPronoun: False\n",
      "isNumber: False\n",
      "isTopping: False\n",
      "isQuantity: False\n",
      "Word: \"kimchi\" -> \"kimchi\" not in vocab\n",
      "isPersonalPronoun: False\n",
      "isNumber: False\n",
      "isTopping: False\n",
      "isQuantity: False\n",
      "Word: \"going to\" -> \"going to\" not in vocab\n",
      "isPersonalPronoun: False\n",
      "isNumber: False\n",
      "isTopping: False\n",
      "isQuantity: False\n"
     ]
    },
    {
     "name": "stderr",
     "output_type": "stream",
     "text": [
      "writing results:  69%|██████▉   | 2772/4000 [04:47<01:13, 16.77it/s]"
     ]
    },
    {
     "name": "stdout",
     "output_type": "stream",
     "text": [
      "Word: \"heavy on\" -> \"heavy on\" not in vocab\n",
      "isPersonalPronoun: False\n",
      "isNumber: False\n",
      "isTopping: False\n",
      "isQuantity: False\n",
      "Word: \"heavy on\" -> \"heavy on\" not in vocab\n",
      "isPersonalPronoun: False\n",
      "isNumber: False\n",
      "isTopping: False\n",
      "isQuantity: False\n"
     ]
    },
    {
     "name": "stderr",
     "output_type": "stream",
     "text": [
      "writing results:  69%|██████▉   | 2775/4000 [04:47<01:30, 13.58it/s]"
     ]
    },
    {
     "name": "stdout",
     "output_type": "stream",
     "text": [
      "Word: \"ave\" -> \"ave\" not in vocab\n",
      "isPersonalPronoun: False\n",
      "isNumber: False\n",
      "isTopping: False\n",
      "isQuantity: False\n",
      "Word: \"gruyeres\" -> \"gruyer\" not in vocab\n",
      "isPersonalPronoun: False\n",
      "isNumber: False\n",
      "isTopping: False\n",
      "isQuantity: False\n",
      "Word: \"gruyeres\" -> \"gruyer\" not in vocab\n",
      "isPersonalPronoun: False\n",
      "isNumber: False\n",
      "isTopping: False\n",
      "isQuantity: False\n",
      "Word: \"decide\" -> \"decid\" not in vocab\n",
      "isPersonalPronoun: False\n",
      "isNumber: False\n",
      "isTopping: False\n",
      "isQuantity: False\n"
     ]
    },
    {
     "name": "stderr",
     "output_type": "stream",
     "text": [
      "writing results:  69%|██████▉   | 2778/4000 [04:48<02:15,  9.02it/s]"
     ]
    },
    {
     "name": "stdout",
     "output_type": "stream",
     "text": [
      "Word: \"today's\" -> \"today'\" not in vocab\n",
      "isPersonalPronoun: False\n",
      "isNumber: False\n",
      "isTopping: False\n",
      "isQuantity: False\n",
      "Word: \"sweet\" -> \"sweet\" not in vocab\n",
      "isPersonalPronoun: False\n",
      "isNumber: False\n",
      "isTopping: False\n",
      "isQuantity: False\n",
      "Word: \"sweet\" -> \"sweet\" not in vocab\n",
      "isPersonalPronoun: False\n",
      "isNumber: False\n",
      "isTopping: False\n",
      "isQuantity: False\n",
      "Word: \"prawns\" -> \"prawn\" not in vocab\n",
      "isPersonalPronoun: False\n",
      "isNumber: False\n",
      "isTopping: False\n",
      "isQuantity: False\n",
      "Word: \"prawns\" -> \"prawn\" not in vocab\n",
      "isPersonalPronoun: False\n",
      "isNumber: False\n",
      "isTopping: False\n",
      "isQuantity: False\n"
     ]
    },
    {
     "name": "stderr",
     "output_type": "stream",
     "text": [
      "writing results:  70%|██████▉   | 2780/4000 [04:48<02:18,  8.79it/s]"
     ]
    },
    {
     "name": "stdout",
     "output_type": "stream",
     "text": [
      "Word: \"arrange\" -> \"arrang\" not in vocab\n",
      "isPersonalPronoun: False\n",
      "isNumber: False\n",
      "isTopping: False\n",
      "isQuantity: False\n",
      "Word: \"smoked\" -> \"smoke\" not in vocab\n",
      "isPersonalPronoun: False\n",
      "isNumber: False\n",
      "isTopping: False\n",
      "isQuantity: False\n",
      "Word: \"salmon\" -> \"salmon\" not in vocab\n",
      "isPersonalPronoun: False\n",
      "isNumber: False\n",
      "isTopping: False\n",
      "isQuantity: False\n",
      "Word: \"smoked\" -> \"smoke\" not in vocab\n",
      "isPersonalPronoun: False\n",
      "isNumber: False\n",
      "isTopping: False\n",
      "isQuantity: False\n",
      "Word: \"salmon\" -> \"salmon\" not in vocab\n",
      "isPersonalPronoun: False\n",
      "isNumber: False\n",
      "isTopping: False\n",
      "isQuantity: False\n"
     ]
    },
    {
     "name": "stderr",
     "output_type": "stream",
     "text": [
      "writing results:  70%|██████▉   | 2782/4000 [04:49<03:38,  5.57it/s]"
     ]
    },
    {
     "name": "stdout",
     "output_type": "stream",
     "text": [
      "Word: \"sauted\" -> \"saut\" not in vocab\n",
      "isPersonalPronoun: False\n",
      "isNumber: False\n",
      "isTopping: False\n",
      "isQuantity: False\n",
      "Word: \"espresso\" -> \"espresso\" not in vocab\n",
      "isPersonalPronoun: False\n",
      "isNumber: False\n",
      "isTopping: False\n",
      "isQuantity: False\n",
      "Word: \"sauted\" -> \"saut\" not in vocab\n",
      "isPersonalPronoun: False\n",
      "isNumber: False\n",
      "isTopping: False\n",
      "isQuantity: False\n",
      "Word: \"espresso\" -> \"espresso\" not in vocab\n",
      "isPersonalPronoun: False\n",
      "isNumber: False\n",
      "isTopping: False\n",
      "isQuantity: False\n",
      "Word: \"prawns\" -> \"prawn\" not in vocab\n",
      "isPersonalPronoun: False\n",
      "isNumber: False\n",
      "isTopping: False\n",
      "isQuantity: False\n",
      "Word: \"prawns\" -> \"prawn\" not in vocab\n",
      "isPersonalPronoun: False\n",
      "isNumber: False\n",
      "isTopping: False\n",
      "isQuantity: False\n"
     ]
    },
    {
     "name": "stderr",
     "output_type": "stream",
     "text": [
      "writing results:  70%|██████▉   | 2785/4000 [04:49<02:45,  7.33it/s]"
     ]
    },
    {
     "name": "stdout",
     "output_type": "stream",
     "text": [
      "Word: \"red peppers\" -> \"red pepp\" not in vocab\n",
      "isPersonalPronoun: False\n",
      "isNumber: False\n",
      "isTopping: False\n",
      "isQuantity: False\n",
      "Word: \"lie\" -> \"lie\" not in vocab\n",
      "isPersonalPronoun: False\n",
      "isNumber: False\n",
      "isTopping: False\n",
      "isQuantity: False\n"
     ]
    },
    {
     "name": "stderr",
     "output_type": "stream",
     "text": [
      "writing results:  70%|██████▉   | 2789/4000 [04:49<02:17,  8.80it/s]"
     ]
    },
    {
     "name": "stdout",
     "output_type": "stream",
     "text": [
      "Word: \"finalize\" -> \"final\" not in vocab\n",
      "isPersonalPronoun: False\n",
      "isNumber: False\n",
      "isTopping: False\n",
      "isQuantity: False\n",
      "Word: \"chard\" -> \"chard\" not in vocab\n",
      "isPersonalPronoun: False\n",
      "isNumber: False\n",
      "isTopping: False\n",
      "isQuantity: False\n",
      "Word: \"chard\" -> \"chard\" not in vocab\n",
      "isPersonalPronoun: False\n",
      "isNumber: False\n",
      "isTopping: False\n",
      "isQuantity: False\n",
      "Word: \"sirach\" -> \"sirach\" not in vocab\n",
      "isPersonalPronoun: False\n",
      "isNumber: False\n",
      "isTopping: False\n",
      "isQuantity: False\n"
     ]
    },
    {
     "name": "stderr",
     "output_type": "stream",
     "text": [
      "writing results:  70%|██████▉   | 2791/4000 [04:50<04:23,  4.58it/s]"
     ]
    },
    {
     "name": "stdout",
     "output_type": "stream",
     "text": [
      "Word: \"sirach\" -> \"sirach\" not in vocab\n",
      "isPersonalPronoun: False\n",
      "isNumber: False\n",
      "isTopping: False\n",
      "isQuantity: False\n",
      "Word: \"aiming\" -> \"aim\" not in vocab\n",
      "isPersonalPronoun: False\n",
      "isNumber: False\n",
      "isTopping: False\n",
      "isQuantity: False\n",
      "Word: \"mushy\" -> \"mushi\" not in vocab\n",
      "isPersonalPronoun: False\n",
      "isNumber: False\n",
      "isTopping: False\n",
      "isQuantity: False\n",
      "Word: \"zest\" -> \"zest\" not in vocab\n",
      "isPersonalPronoun: False\n",
      "isNumber: False\n",
      "isTopping: False\n",
      "isQuantity: False\n"
     ]
    },
    {
     "name": "stderr",
     "output_type": "stream",
     "text": [
      "writing results:  70%|██████▉   | 2794/4000 [04:51<03:38,  5.52it/s]"
     ]
    },
    {
     "name": "stdout",
     "output_type": "stream",
     "text": [
      "Word: \"mushy\" -> \"mushi\" not in vocab\n",
      "isPersonalPronoun: False\n",
      "isNumber: False\n",
      "isTopping: False\n",
      "isQuantity: False\n",
      "Word: \"zest\" -> \"zest\" not in vocab\n",
      "isPersonalPronoun: False\n",
      "isNumber: False\n",
      "isTopping: False\n",
      "isQuantity: False\n",
      "Word: \"cucumber\" -> \"cucumb\" not in vocab\n",
      "isPersonalPronoun: False\n",
      "isNumber: False\n",
      "isTopping: False\n",
      "isQuantity: False\n",
      "Word: \"cucumber\" -> \"cucumb\" not in vocab\n",
      "isPersonalPronoun: False\n",
      "isNumber: False\n",
      "isTopping: False\n",
      "isQuantity: False\n",
      "Word: \"cucumber\" -> \"cucumb\" not in vocab\n",
      "isPersonalPronoun: False\n",
      "isNumber: False\n",
      "isTopping: False\n",
      "isQuantity: False\n"
     ]
    },
    {
     "name": "stderr",
     "output_type": "stream",
     "text": [
      "writing results:  70%|██████▉   | 2795/4000 [04:51<04:03,  4.95it/s]"
     ]
    },
    {
     "name": "stdout",
     "output_type": "stream",
     "text": [
      "Word: \"allow\" -> \"allow\" not in vocab\n",
      "isPersonalPronoun: False\n",
      "isNumber: False\n",
      "isTopping: False\n",
      "isQuantity: False\n",
      "Word: \"herbal\" -> \"herbal\" not in vocab\n",
      "isPersonalPronoun: False\n",
      "isNumber: False\n",
      "isTopping: False\n",
      "isQuantity: False\n",
      "Word: \"herbal\" -> \"herbal\" not in vocab\n",
      "isPersonalPronoun: False\n",
      "isNumber: False\n",
      "isTopping: False\n",
      "isQuantity: False\n",
      "Word: \"herbal\" -> \"herbal\" not in vocab\n",
      "isPersonalPronoun: False\n",
      "isNumber: False\n",
      "isTopping: False\n",
      "isQuantity: False\n",
      "Word: \"herbal\" -> \"herbal\" not in vocab\n",
      "isPersonalPronoun: False\n",
      "isNumber: False\n",
      "isTopping: False\n",
      "isQuantity: False\n",
      "Word: \"herbal\" -> \"herbal\" not in vocab\n",
      "isPersonalPronoun: False\n",
      "isNumber: False\n",
      "isTopping: False\n",
      "isQuantity: False\n",
      "Word: \"herbal\" -> \"herbal\" not in vocab\n",
      "isPersonalPronoun: False\n",
      "isNumber: False\n",
      "isTopping: False\n",
      "isQuantity: False\n",
      "Word: \"herbal\" -> \"herbal\" not in vocab\n",
      "isPersonalPronoun: False\n",
      "isNumber: False\n",
      "isTopping: False\n",
      "isQuantity: False\n",
      "Word: \"herbal\" -> \"herbal\" not in vocab\n",
      "isPersonalPronoun: False\n",
      "isNumber: False\n",
      "isTopping: False\n",
      "isQuantity: False\n",
      "Word: \"goat\" -> \"goat\" not in vocab\n",
      "isPersonalPronoun: False\n",
      "isNumber: False\n",
      "isTopping: False\n",
      "isQuantity: False\n",
      "Word: \"goat\" -> \"goat\" not in vocab\n",
      "isPersonalPronoun: False\n",
      "isNumber: False\n",
      "isTopping: False\n",
      "isQuantity: False\n",
      "Word: \"macchiatos\" -> \"macchiato\" not in vocab\n",
      "isPersonalPronoun: False\n",
      "isNumber: False\n",
      "isTopping: False\n",
      "isQuantity: False\n"
     ]
    },
    {
     "name": "stderr",
     "output_type": "stream",
     "text": [
      "writing results:  70%|██████▉   | 2799/4000 [04:52<05:19,  3.76it/s]"
     ]
    },
    {
     "name": "stdout",
     "output_type": "stream",
     "text": [
      "Word: \"macchiatos\" -> \"macchiato\" not in vocab\n",
      "isPersonalPronoun: False\n",
      "isNumber: False\n",
      "isTopping: False\n",
      "isQuantity: False\n",
      "Word: \"sparking\" -> \"spark\" not in vocab\n",
      "isPersonalPronoun: False\n",
      "isNumber: False\n",
      "isTopping: False\n",
      "isQuantity: False\n",
      "Word: \"sparking\" -> \"spark\" not in vocab\n",
      "isPersonalPronoun: False\n",
      "isNumber: False\n",
      "isTopping: False\n",
      "isQuantity: False\n",
      "Word: \"met\" -> \"met\" not in vocab\n",
      "isPersonalPronoun: False\n",
      "isNumber: False\n",
      "isTopping: False\n",
      "isQuantity: False\n"
     ]
    },
    {
     "name": "stderr",
     "output_type": "stream",
     "text": [
      "writing results:  70%|███████   | 2803/4000 [04:53<03:03,  6.51it/s]"
     ]
    },
    {
     "name": "stdout",
     "output_type": "stream",
     "text": [
      "Word: \"zest\" -> \"zest\" not in vocab\n",
      "isPersonalPronoun: False\n",
      "isNumber: False\n",
      "isTopping: False\n",
      "isQuantity: False\n",
      "Word: \"zest\" -> \"zest\" not in vocab\n",
      "isPersonalPronoun: False\n",
      "isNumber: False\n",
      "isTopping: False\n",
      "isQuantity: False\n",
      "Word: \"interested\" -> \"interest\" not in vocab\n",
      "isPersonalPronoun: False\n",
      "isNumber: False\n",
      "isTopping: False\n",
      "isQuantity: False\n"
     ]
    },
    {
     "name": "stderr",
     "output_type": "stream",
     "text": [
      "writing results:  70%|███████   | 2808/4000 [04:53<02:11,  9.04it/s]"
     ]
    },
    {
     "name": "stdout",
     "output_type": "stream",
     "text": [
      "Word: \"my favorite\" -> \"my favorit\" not in vocab\n",
      "isPersonalPronoun: False\n",
      "isNumber: False\n",
      "isTopping: False\n",
      "isQuantity: False\n",
      "Word: \"macchiatos\" -> \"macchiato\" not in vocab\n",
      "isPersonalPronoun: False\n",
      "isNumber: False\n",
      "isTopping: False\n",
      "isQuantity: False\n",
      "Word: \"macchiatos\" -> \"macchiato\" not in vocab\n",
      "isPersonalPronoun: False\n",
      "isNumber: False\n",
      "isTopping: False\n",
      "isQuantity: False\n"
     ]
    },
    {
     "name": "stderr",
     "output_type": "stream",
     "text": [
      "writing results:  70%|███████   | 2813/4000 [04:53<01:27, 13.57it/s]"
     ]
    },
    {
     "name": "stdout",
     "output_type": "stream",
     "text": [
      "Word: \"grab\" -> \"grab\" not in vocab\n",
      "isPersonalPronoun: False\n",
      "isNumber: False\n",
      "isTopping: False\n",
      "isQuantity: False\n",
      "Word: \"lamb\" -> \"lamb\" not in vocab\n",
      "isPersonalPronoun: False\n",
      "isNumber: False\n",
      "isTopping: False\n",
      "isQuantity: False\n",
      "Word: \"espresso\" -> \"espresso\" not in vocab\n",
      "isPersonalPronoun: False\n",
      "isNumber: False\n",
      "isTopping: False\n",
      "isQuantity: False\n",
      "Word: \"lamb\" -> \"lamb\" not in vocab\n",
      "isPersonalPronoun: False\n",
      "isNumber: False\n",
      "isTopping: False\n",
      "isQuantity: False\n",
      "Word: \"espresso\" -> \"espresso\" not in vocab\n",
      "isPersonalPronoun: False\n",
      "isNumber: False\n",
      "isTopping: False\n",
      "isQuantity: False\n"
     ]
    },
    {
     "name": "stderr",
     "output_type": "stream",
     "text": [
      "writing results:  70%|███████   | 2817/4000 [04:54<01:45, 11.19it/s]"
     ]
    },
    {
     "name": "stdout",
     "output_type": "stream",
     "text": [
      "Word: \"gruyeres\" -> \"gruyer\" not in vocab\n",
      "isPersonalPronoun: False\n",
      "isNumber: False\n",
      "isTopping: False\n",
      "isQuantity: False\n",
      "Word: \"gruyeres\" -> \"gruyer\" not in vocab\n",
      "isPersonalPronoun: False\n",
      "isNumber: False\n",
      "isTopping: False\n",
      "isQuantity: False\n",
      "Word: \"opting\" -> \"opt\" not in vocab\n",
      "isPersonalPronoun: False\n",
      "isNumber: False\n",
      "isTopping: False\n",
      "isQuantity: False\n"
     ]
    },
    {
     "name": "stderr",
     "output_type": "stream",
     "text": [
      "writing results:  71%|███████   | 2824/4000 [04:54<01:17, 15.21it/s]"
     ]
    },
    {
     "name": "stdout",
     "output_type": "stream",
     "text": [
      "Word: \"fixing\" -> \"fix\" not in vocab\n",
      "isPersonalPronoun: False\n",
      "isNumber: False\n",
      "isTopping: False\n",
      "isQuantity: False\n",
      "Word: \"duck\" -> \"duck\" not in vocab\n",
      "isPersonalPronoun: False\n",
      "isNumber: False\n",
      "isTopping: False\n",
      "isQuantity: False\n",
      "Word: \"prawns\" -> \"prawn\" not in vocab\n",
      "isPersonalPronoun: False\n",
      "isNumber: False\n",
      "isTopping: False\n",
      "isQuantity: False\n",
      "Word: \"duck\" -> \"duck\" not in vocab\n",
      "isPersonalPronoun: False\n",
      "isNumber: False\n",
      "isTopping: False\n",
      "isQuantity: False\n"
     ]
    },
    {
     "name": "stderr",
     "output_type": "stream",
     "text": [
      "writing results:  71%|███████   | 2826/4000 [04:54<01:29, 13.18it/s]"
     ]
    },
    {
     "name": "stdout",
     "output_type": "stream",
     "text": [
      "Word: \"settle\" -> \"settl\" not in vocab\n",
      "isPersonalPronoun: False\n",
      "isNumber: False\n",
      "isTopping: False\n",
      "isQuantity: False\n",
      "Word: \"poppy\" -> \"poppi\" not in vocab\n",
      "isPersonalPronoun: False\n",
      "isNumber: False\n",
      "isTopping: False\n",
      "isQuantity: False\n",
      "Word: \"seeds\" -> \"seed\" not in vocab\n",
      "isPersonalPronoun: False\n",
      "isNumber: False\n",
      "isTopping: False\n",
      "isQuantity: False\n",
      "Word: \"poppy\" -> \"poppi\" not in vocab\n",
      "isPersonalPronoun: False\n",
      "isNumber: False\n",
      "isTopping: False\n",
      "isQuantity: False\n",
      "Word: \"seeds\" -> \"seed\" not in vocab\n",
      "isPersonalPronoun: False\n",
      "isNumber: False\n",
      "isTopping: False\n",
      "isQuantity: False\n"
     ]
    },
    {
     "name": "stderr",
     "output_type": "stream",
     "text": [
      "writing results:  71%|███████   | 2830/4000 [04:54<01:18, 14.86it/s]"
     ]
    },
    {
     "name": "stdout",
     "output_type": "stream",
     "text": [
      "Word: \"gluten-free crust\" -> \"gluten-free crust\" not in vocab\n",
      "isPersonalPronoun: False\n",
      "isNumber: False\n",
      "isTopping: False\n",
      "isQuantity: False\n",
      "Word: \"chard\" -> \"chard\" not in vocab\n",
      "isPersonalPronoun: False\n",
      "isNumber: False\n",
      "isTopping: False\n",
      "isQuantity: False\n",
      "Word: \"gluten-free crust\" -> \"gluten-free crust\" not in vocab\n",
      "isPersonalPronoun: False\n",
      "isNumber: False\n",
      "isTopping: False\n",
      "isQuantity: False\n"
     ]
    },
    {
     "name": "stderr",
     "output_type": "stream",
     "text": [
      "writing results:  71%|███████   | 2836/4000 [04:55<01:19, 14.63it/s]"
     ]
    },
    {
     "name": "stdout",
     "output_type": "stream",
     "text": [
      "Word: \"sweet\" -> \"sweet\" not in vocab\n",
      "isPersonalPronoun: False\n",
      "isNumber: False\n",
      "isTopping: False\n",
      "isQuantity: False\n",
      "Word: \"sweet\" -> \"sweet\" not in vocab\n",
      "isPersonalPronoun: False\n",
      "isNumber: False\n",
      "isTopping: False\n",
      "isQuantity: False\n",
      "Word: \"goat\" -> \"goat\" not in vocab\n",
      "isPersonalPronoun: False\n",
      "isNumber: False\n",
      "isTopping: False\n",
      "isQuantity: False\n",
      "Word: \"goat\" -> \"goat\" not in vocab\n",
      "isPersonalPronoun: False\n",
      "isNumber: False\n",
      "isTopping: False\n",
      "isQuantity: False\n",
      "Word: \"soy\" -> \"soy\" not in vocab\n",
      "isPersonalPronoun: False\n",
      "isNumber: False\n",
      "isTopping: False\n",
      "isQuantity: False\n"
     ]
    },
    {
     "name": "stderr",
     "output_type": "stream",
     "text": [
      "writing results:  71%|███████   | 2842/4000 [04:55<01:03, 18.22it/s]"
     ]
    },
    {
     "name": "stdout",
     "output_type": "stream",
     "text": [
      "Word: \"soy\" -> \"soy\" not in vocab\n",
      "isPersonalPronoun: False\n",
      "isNumber: False\n",
      "isTopping: False\n",
      "isQuantity: False\n",
      "Word: \"lace\" -> \"lace\" not in vocab\n",
      "isPersonalPronoun: False\n",
      "isNumber: False\n",
      "isTopping: False\n",
      "isQuantity: False\n",
      "Word: \"craving\" -> \"crave\" not in vocab\n",
      "isPersonalPronoun: False\n",
      "isNumber: False\n",
      "isTopping: False\n",
      "isQuantity: False\n"
     ]
    },
    {
     "name": "stderr",
     "output_type": "stream",
     "text": [
      "writing results:  71%|███████   | 2846/4000 [04:55<01:00, 18.99it/s]"
     ]
    },
    {
     "name": "stdout",
     "output_type": "stream",
     "text": [
      "Word: \"mushy\" -> \"mushi\" not in vocab\n",
      "isPersonalPronoun: False\n",
      "isNumber: False\n",
      "isTopping: False\n",
      "isQuantity: False\n",
      "Word: \"mushy\" -> \"mushi\" not in vocab\n",
      "isPersonalPronoun: False\n",
      "isNumber: False\n",
      "isTopping: False\n",
      "isQuantity: False\n",
      "Word: \"cabbage\" -> \"cabbag\" not in vocab\n",
      "isPersonalPronoun: False\n",
      "isNumber: False\n",
      "isTopping: False\n",
      "isQuantity: False\n",
      "Word: \"cabbage\" -> \"cabbag\" not in vocab\n",
      "isPersonalPronoun: False\n",
      "isNumber: False\n",
      "isTopping: False\n",
      "isQuantity: False\n",
      "Word: \"handle\" -> \"handl\" not in vocab\n",
      "isPersonalPronoun: False\n",
      "isNumber: False\n",
      "isTopping: False\n",
      "isQuantity: False\n"
     ]
    },
    {
     "name": "stderr",
     "output_type": "stream",
     "text": [
      "writing results:  71%|███████▏  | 2857/4000 [04:56<00:55, 20.45it/s]"
     ]
    },
    {
     "name": "stdout",
     "output_type": "stream",
     "text": [
      "Word: \"almond\" -> \"almond\" not in vocab\n",
      "isPersonalPronoun: False\n",
      "isNumber: False\n",
      "isTopping: False\n",
      "isQuantity: False\n",
      "Word: \"almond\" -> \"almond\" not in vocab\n",
      "isPersonalPronoun: False\n",
      "isNumber: False\n",
      "isTopping: False\n",
      "isQuantity: False\n",
      "Word: \"juice\" -> \"juic\" not in vocab\n",
      "isPersonalPronoun: False\n",
      "isNumber: False\n",
      "isTopping: False\n",
      "isQuantity: False\n",
      "Word: \"juice\" -> \"juic\" not in vocab\n",
      "isPersonalPronoun: False\n",
      "isNumber: False\n",
      "isTopping: False\n",
      "isQuantity: False\n"
     ]
    },
    {
     "name": "stderr",
     "output_type": "stream",
     "text": [
      "writing results:  72%|███████▏  | 2860/4000 [04:56<00:56, 20.01it/s]"
     ]
    },
    {
     "name": "stdout",
     "output_type": "stream",
     "text": [
      "Word: \"interested\" -> \"interest\" not in vocab\n",
      "isPersonalPronoun: False\n",
      "isNumber: False\n",
      "isTopping: False\n",
      "isQuantity: False\n",
      "Word: \"choose\" -> \"choos\" not in vocab\n",
      "isPersonalPronoun: False\n",
      "isNumber: False\n",
      "isTopping: False\n",
      "isQuantity: False\n",
      "Word: \"cold\" -> \"cold\" not in vocab\n",
      "isPersonalPronoun: False\n",
      "isNumber: False\n",
      "isTopping: False\n",
      "isQuantity: False\n",
      "Word: \"eel\" -> \"eel\" not in vocab\n",
      "isPersonalPronoun: False\n",
      "isNumber: False\n",
      "isTopping: False\n",
      "isQuantity: False\n"
     ]
    },
    {
     "name": "stderr",
     "output_type": "stream",
     "text": [
      "writing results:  72%|███████▏  | 2863/4000 [04:56<01:07, 16.85it/s]"
     ]
    },
    {
     "name": "stdout",
     "output_type": "stream",
     "text": [
      "Word: \"mint\" -> \"mint\" not in vocab\n",
      "isPersonalPronoun: False\n",
      "isNumber: False\n",
      "isTopping: False\n",
      "isQuantity: False\n",
      "Word: \"kimchi\" -> \"kimchi\" not in vocab\n",
      "isPersonalPronoun: False\n",
      "isNumber: False\n",
      "isTopping: False\n",
      "isQuantity: False\n",
      "Word: \"mint\" -> \"mint\" not in vocab\n",
      "isPersonalPronoun: False\n",
      "isNumber: False\n",
      "isTopping: False\n",
      "isQuantity: False\n",
      "Word: \"kimchi\" -> \"kimchi\" not in vocab\n",
      "isPersonalPronoun: False\n",
      "isNumber: False\n",
      "isTopping: False\n",
      "isQuantity: False\n"
     ]
    },
    {
     "name": "stderr",
     "output_type": "stream",
     "text": [
      "writing results:  72%|███████▏  | 2868/4000 [04:56<01:03, 17.87it/s]"
     ]
    },
    {
     "name": "stdout",
     "output_type": "stream",
     "text": [
      "Word: \"leeks\" -> \"leek\" not in vocab\n",
      "isPersonalPronoun: False\n",
      "isNumber: False\n",
      "isTopping: True\n",
      "isQuantity: False\n",
      "Word: \"fontina cheese\" -> \"fontina chees\" not in vocab\n",
      "isPersonalPronoun: False\n",
      "isNumber: False\n",
      "isTopping: False\n",
      "isQuantity: False\n",
      "Word: \"leeks\" -> \"leek\" not in vocab\n",
      "isPersonalPronoun: False\n",
      "isNumber: False\n",
      "isTopping: True\n",
      "isQuantity: False\n",
      "Word: \"gab\" -> \"gab\" not in vocab\n",
      "isPersonalPronoun: False\n",
      "isNumber: False\n",
      "isTopping: False\n",
      "isQuantity: False\n",
      "Word: \"lamb\" -> \"lamb\" not in vocab\n",
      "isPersonalPronoun: False\n",
      "isNumber: False\n",
      "isTopping: False\n",
      "isQuantity: False\n",
      "Word: \"fans\" -> \"fan\" not in vocab\n",
      "isPersonalPronoun: False\n",
      "isNumber: False\n",
      "isTopping: False\n",
      "isQuantity: False\n",
      "Word: \"lamb\" -> \"lamb\" not in vocab\n",
      "isPersonalPronoun: False\n",
      "isNumber: False\n",
      "isTopping: False\n",
      "isQuantity: False\n",
      "Word: \"fans\" -> \"fan\" not in vocab\n",
      "isPersonalPronoun: False\n",
      "isNumber: False\n",
      "isTopping: False\n",
      "isQuantity: False\n",
      "Word: \"eellike\" -> \"eellik\" not in vocab\n",
      "isPersonalPronoun: False\n",
      "isNumber: False\n",
      "isTopping: False\n",
      "isQuantity: False\n",
      "Word: \"eellike\" -> \"eellik\" not in vocab\n",
      "isPersonalPronoun: False\n",
      "isNumber: False\n",
      "isTopping: False\n",
      "isQuantity: False\n"
     ]
    },
    {
     "name": "stderr",
     "output_type": "stream",
     "text": [
      "writing results:  72%|███████▏  | 2873/4000 [04:57<01:29, 12.56it/s]"
     ]
    },
    {
     "name": "stdout",
     "output_type": "stream",
     "text": [
      "Word: \"eellike\" -> \"eellik\" not in vocab\n",
      "isPersonalPronoun: False\n",
      "isNumber: False\n",
      "isTopping: False\n",
      "isQuantity: False\n",
      "Word: \"grab\" -> \"grab\" not in vocab\n",
      "isPersonalPronoun: False\n",
      "isNumber: False\n",
      "isTopping: False\n",
      "isQuantity: False\n",
      "Word: \"mint\" -> \"mint\" not in vocab\n",
      "isPersonalPronoun: False\n",
      "isNumber: False\n",
      "isTopping: False\n",
      "isQuantity: False\n",
      "Word: \"mint\" -> \"mint\" not in vocab\n",
      "isPersonalPronoun: False\n",
      "isNumber: False\n",
      "isTopping: False\n",
      "isQuantity: False\n"
     ]
    },
    {
     "name": "stderr",
     "output_type": "stream",
     "text": [
      "writing results:  72%|███████▏  | 2875/4000 [04:57<01:24, 13.37it/s]"
     ]
    },
    {
     "name": "stdout",
     "output_type": "stream",
     "text": [
      "Word: \"bi\" -> \"bi\" not in vocab\n",
      "isPersonalPronoun: False\n",
      "isNumber: False\n",
      "isTopping: False\n",
      "isQuantity: False\n",
      "Word: \"bi\" -> \"bi\" not in vocab\n",
      "isPersonalPronoun: False\n",
      "isNumber: False\n",
      "isTopping: False\n",
      "isQuantity: False\n",
      "Word: \"HAE\" -> \"hae\" not in vocab\n",
      "isPersonalPronoun: False\n",
      "isNumber: False\n",
      "isTopping: False\n",
      "isQuantity: False\n"
     ]
    },
    {
     "name": "stderr",
     "output_type": "stream",
     "text": [
      "writing results:  72%|███████▏  | 2879/4000 [04:57<01:25, 13.13it/s]"
     ]
    },
    {
     "name": "stdout",
     "output_type": "stream",
     "text": [
      "Word: \"pick\" -> \"pick\" not in vocab\n",
      "isPersonalPronoun: False\n",
      "isNumber: False\n",
      "isTopping: False\n",
      "isQuantity: False\n",
      "Word: \"poppy\" -> \"poppi\" not in vocab\n",
      "isPersonalPronoun: False\n",
      "isNumber: False\n",
      "isTopping: False\n",
      "isQuantity: False\n",
      "Word: \"seeds\" -> \"seed\" not in vocab\n",
      "isPersonalPronoun: False\n",
      "isNumber: False\n",
      "isTopping: False\n",
      "isQuantity: False\n",
      "Word: \"poppy\" -> \"poppi\" not in vocab\n",
      "isPersonalPronoun: False\n",
      "isNumber: False\n",
      "isTopping: False\n",
      "isQuantity: False\n",
      "Word: \"seeds\" -> \"seed\" not in vocab\n",
      "isPersonalPronoun: False\n",
      "isNumber: False\n",
      "isTopping: False\n",
      "isQuantity: False\n",
      "Word: \"heavy\" -> \"heavi\" not in vocab\n",
      "isPersonalPronoun: False\n",
      "isNumber: False\n",
      "isTopping: False\n",
      "isQuantity: False\n",
      "Word: \"cabbage\" -> \"cabbag\" not in vocab\n",
      "isPersonalPronoun: False\n",
      "isNumber: False\n",
      "isTopping: False\n",
      "isQuantity: False\n"
     ]
    },
    {
     "name": "stderr",
     "output_type": "stream",
     "text": [
      "writing results:  72%|███████▏  | 2883/4000 [04:58<01:21, 13.65it/s]"
     ]
    },
    {
     "name": "stdout",
     "output_type": "stream",
     "text": [
      "Word: \"leaning\" -> \"lean\" not in vocab\n",
      "isPersonalPronoun: False\n",
      "isNumber: False\n",
      "isTopping: False\n",
      "isQuantity: False\n",
      "Word: \"toward\" -> \"toward\" not in vocab\n",
      "isPersonalPronoun: False\n",
      "isNumber: False\n",
      "isTopping: False\n",
      "isQuantity: False\n",
      "Word: \"blue\" -> \"blue\" not in vocab\n",
      "isPersonalPronoun: False\n",
      "isNumber: False\n",
      "isTopping: False\n",
      "isQuantity: False\n",
      "Word: \"blue\" -> \"blue\" not in vocab\n",
      "isPersonalPronoun: False\n",
      "isNumber: False\n",
      "isTopping: False\n",
      "isQuantity: False\n",
      "Word: \"blue\" -> \"blue\" not in vocab\n",
      "isPersonalPronoun: False\n",
      "isNumber: False\n",
      "isTopping: False\n",
      "isQuantity: False\n"
     ]
    },
    {
     "name": "stderr",
     "output_type": "stream",
     "text": [
      "writing results:  72%|███████▏  | 2892/4000 [04:58<00:45, 24.58it/s]"
     ]
    },
    {
     "name": "stdout",
     "output_type": "stream",
     "text": [
      "Word: \"blue\" -> \"blue\" not in vocab\n",
      "isPersonalPronoun: False\n",
      "isNumber: False\n",
      "isTopping: False\n",
      "isQuantity: False\n",
      "Word: \"just need\" -> \"just ne\" not in vocab\n",
      "isPersonalPronoun: False\n",
      "isNumber: False\n",
      "isTopping: False\n",
      "isQuantity: False\n",
      "Word: \"zest\" -> \"zest\" not in vocab\n",
      "isPersonalPronoun: False\n",
      "isNumber: False\n",
      "isTopping: False\n",
      "isQuantity: False\n"
     ]
    },
    {
     "name": "stderr",
     "output_type": "stream",
     "text": [
      "writing results:  72%|███████▏  | 2895/4000 [04:58<00:43, 25.21it/s]"
     ]
    },
    {
     "name": "stdout",
     "output_type": "stream",
     "text": [
      "Word: \"zest\" -> \"zest\" not in vocab\n",
      "isPersonalPronoun: False\n",
      "isNumber: False\n",
      "isTopping: False\n",
      "isQuantity: False\n",
      "Word: \"sort\" -> \"sort\" not in vocab\n",
      "isPersonalPronoun: False\n",
      "isNumber: False\n",
      "isTopping: False\n",
      "isQuantity: False\n"
     ]
    },
    {
     "name": "stderr",
     "output_type": "stream",
     "text": [
      "writing results:  72%|███████▏  | 2898/4000 [04:58<00:54, 20.15it/s]"
     ]
    },
    {
     "name": "stdout",
     "output_type": "stream",
     "text": [
      "Word: \"settle\" -> \"settl\" not in vocab\n",
      "isPersonalPronoun: False\n",
      "isNumber: False\n",
      "isTopping: False\n",
      "isQuantity: False\n",
      "Word: \"steed\" -> \"steed\" not in vocab\n",
      "isPersonalPronoun: False\n",
      "isNumber: False\n",
      "isTopping: False\n",
      "isQuantity: False\n",
      "Word: \"steed\" -> \"steed\" not in vocab\n",
      "isPersonalPronoun: False\n",
      "isNumber: False\n",
      "isTopping: False\n",
      "isQuantity: False\n"
     ]
    },
    {
     "name": "stderr",
     "output_type": "stream",
     "text": [
      "writing results:  73%|███████▎  | 2902/4000 [04:58<00:52, 20.83it/s]"
     ]
    },
    {
     "name": "stdout",
     "output_type": "stream",
     "text": [
      "Word: \"hummus\" -> \"hummu\" not in vocab\n",
      "isPersonalPronoun: False\n",
      "isNumber: False\n",
      "isTopping: False\n",
      "isQuantity: False\n",
      "Word: \"hummus\" -> \"hummu\" not in vocab\n",
      "isPersonalPronoun: False\n",
      "isNumber: False\n",
      "isTopping: False\n",
      "isQuantity: False\n",
      "Word: \"finalize\" -> \"final\" not in vocab\n",
      "isPersonalPronoun: False\n",
      "isNumber: False\n",
      "isTopping: False\n",
      "isQuantity: False\n",
      "Word: \"sparkling\" -> \"sparkl\" not in vocab\n",
      "isPersonalPronoun: False\n",
      "isNumber: False\n",
      "isTopping: False\n",
      "isQuantity: False\n"
     ]
    },
    {
     "name": "stderr",
     "output_type": "stream",
     "text": [
      "writing results:  73%|███████▎  | 2908/4000 [04:59<00:57, 19.03it/s]"
     ]
    },
    {
     "name": "stdout",
     "output_type": "stream",
     "text": [
      "Word: \"sparkling\" -> \"sparkl\" not in vocab\n",
      "isPersonalPronoun: False\n",
      "isNumber: False\n",
      "isTopping: False\n",
      "isQuantity: False\n",
      "Word: \"sweet\" -> \"sweet\" not in vocab\n",
      "isPersonalPronoun: False\n",
      "isNumber: False\n",
      "isTopping: False\n",
      "isQuantity: False\n",
      "Word: \"sweet\" -> \"sweet\" not in vocab\n",
      "isPersonalPronoun: False\n",
      "isNumber: False\n",
      "isTopping: False\n",
      "isQuantity: False\n"
     ]
    },
    {
     "name": "stderr",
     "output_type": "stream",
     "text": [
      "writing results:  73%|███████▎  | 2918/4000 [04:59<00:42, 25.20it/s]"
     ]
    },
    {
     "name": "stdout",
     "output_type": "stream",
     "text": [
      "Word: \"leeks\" -> \"leek\" not in vocab\n",
      "isPersonalPronoun: False\n",
      "isNumber: False\n",
      "isTopping: True\n",
      "isQuantity: False\n",
      "Word: \"leeks\" -> \"leek\" not in vocab\n",
      "isPersonalPronoun: False\n",
      "isNumber: False\n",
      "isTopping: True\n",
      "isQuantity: False\n",
      "Word: \"chard\" -> \"chard\" not in vocab\n",
      "isPersonalPronoun: False\n",
      "isNumber: False\n",
      "isTopping: False\n",
      "isQuantity: False\n",
      "Word: \"chard\" -> \"chard\" not in vocab\n",
      "isPersonalPronoun: False\n",
      "isNumber: False\n",
      "isTopping: False\n",
      "isQuantity: False\n"
     ]
    },
    {
     "name": "stderr",
     "output_type": "stream",
     "text": [
      "writing results:  73%|███████▎  | 2923/4000 [04:59<00:35, 29.99it/s]"
     ]
    },
    {
     "name": "stdout",
     "output_type": "stream",
     "text": [
      "Word: \"chocolate\" -> \"chocol\" not in vocab\n",
      "isPersonalPronoun: False\n",
      "isNumber: False\n",
      "isTopping: False\n",
      "isQuantity: False\n",
      "Word: \"opt\" -> \"opt\" not in vocab\n",
      "isPersonalPronoun: False\n",
      "isNumber: False\n",
      "isTopping: False\n",
      "isQuantity: False\n",
      "Word: \"mushy\" -> \"mushi\" not in vocab\n",
      "isPersonalPronoun: False\n",
      "isNumber: False\n",
      "isTopping: False\n",
      "isQuantity: False\n",
      "Word: \"sweet\" -> \"sweet\" not in vocab\n",
      "isPersonalPronoun: False\n",
      "isNumber: False\n",
      "isTopping: False\n",
      "isQuantity: False\n"
     ]
    },
    {
     "name": "stderr",
     "output_type": "stream",
     "text": [
      "writing results:  73%|███████▎  | 2927/4000 [05:00<00:53, 20.18it/s]"
     ]
    },
    {
     "name": "stdout",
     "output_type": "stream",
     "text": [
      "Word: \"mushy\" -> \"mushi\" not in vocab\n",
      "isPersonalPronoun: False\n",
      "isNumber: False\n",
      "isTopping: False\n",
      "isQuantity: False\n",
      "Word: \"sweet\" -> \"sweet\" not in vocab\n",
      "isPersonalPronoun: False\n",
      "isNumber: False\n",
      "isTopping: False\n",
      "isQuantity: False\n",
      "Word: \"mushy\" -> \"mushi\" not in vocab\n",
      "isPersonalPronoun: False\n",
      "isNumber: False\n",
      "isTopping: False\n",
      "isQuantity: False\n",
      "Word: \"mushy\" -> \"mushi\" not in vocab\n",
      "isPersonalPronoun: False\n",
      "isNumber: False\n",
      "isTopping: False\n",
      "isQuantity: False\n"
     ]
    },
    {
     "name": "stderr",
     "output_type": "stream",
     "text": [
      "writing results:  73%|███████▎  | 2930/4000 [05:00<01:01, 17.49it/s]"
     ]
    },
    {
     "name": "stdout",
     "output_type": "stream",
     "text": [
      "Word: \"finale\" -> \"final\" not in vocab\n",
      "isPersonalPronoun: False\n",
      "isNumber: False\n",
      "isTopping: False\n",
      "isQuantity: False\n",
      "Word: \"chard\" -> \"chard\" not in vocab\n",
      "isPersonalPronoun: False\n",
      "isNumber: False\n",
      "isTopping: False\n",
      "isQuantity: False\n",
      "Word: \"chard\" -> \"chard\" not in vocab\n",
      "isPersonalPronoun: False\n",
      "isNumber: False\n",
      "isTopping: False\n",
      "isQuantity: False\n"
     ]
    },
    {
     "name": "stderr",
     "output_type": "stream",
     "text": [
      "writing results:  73%|███████▎  | 2937/4000 [05:00<01:08, 15.58it/s]"
     ]
    },
    {
     "name": "stdout",
     "output_type": "stream",
     "text": [
      "Word: \"howabout\" -> \"howabout\" not in vocab\n",
      "isPersonalPronoun: False\n",
      "isNumber: False\n",
      "isTopping: False\n",
      "isQuantity: False\n",
      "Word: \"leeks\" -> \"leek\" not in vocab\n",
      "isPersonalPronoun: False\n",
      "isNumber: False\n",
      "isTopping: True\n",
      "isQuantity: False\n",
      "Word: \"leeks\" -> \"leek\" not in vocab\n",
      "isPersonalPronoun: False\n",
      "isNumber: False\n",
      "isTopping: True\n",
      "isQuantity: False\n"
     ]
    },
    {
     "name": "stderr",
     "output_type": "stream",
     "text": [
      "writing results:  74%|███████▎  | 2940/4000 [05:00<00:59, 17.69it/s]"
     ]
    },
    {
     "name": "stdout",
     "output_type": "stream",
     "text": [
      "Word: \"fr\" -> \"fr\" not in vocab\n",
      "isPersonalPronoun: False\n",
      "isNumber: False\n",
      "isTopping: False\n",
      "isQuantity: False\n",
      "Word: \"interested\" -> \"interest\" not in vocab\n",
      "isPersonalPronoun: False\n",
      "isNumber: False\n",
      "isTopping: False\n",
      "isQuantity: False\n",
      "Word: \"goat\" -> \"goat\" not in vocab\n",
      "isPersonalPronoun: False\n",
      "isNumber: False\n",
      "isTopping: False\n",
      "isQuantity: False\n",
      "Word: \"ea\" -> \"ea\" not in vocab\n",
      "isPersonalPronoun: False\n",
      "isNumber: False\n",
      "isTopping: False\n",
      "isQuantity: False\n"
     ]
    },
    {
     "name": "stderr",
     "output_type": "stream",
     "text": [
      "writing results:  74%|███████▎  | 2948/4000 [05:01<00:56, 18.65it/s]"
     ]
    },
    {
     "name": "stdout",
     "output_type": "stream",
     "text": [
      "Word: \"goat\" -> \"goat\" not in vocab\n",
      "isPersonalPronoun: False\n",
      "isNumber: False\n",
      "isTopping: False\n",
      "isQuantity: False\n",
      "Word: \"ea\" -> \"ea\" not in vocab\n",
      "isPersonalPronoun: False\n",
      "isNumber: False\n",
      "isTopping: False\n",
      "isQuantity: False\n",
      "Word: \"arrange\" -> \"arrang\" not in vocab\n",
      "isPersonalPronoun: False\n",
      "isNumber: False\n",
      "isTopping: False\n",
      "isQuantity: False\n",
      "Word: \"prawns\" -> \"prawn\" not in vocab\n",
      "isPersonalPronoun: False\n",
      "isNumber: False\n",
      "isTopping: False\n",
      "isQuantity: False\n",
      "Word: \"prawns\" -> \"prawn\" not in vocab\n",
      "isPersonalPronoun: False\n",
      "isNumber: False\n",
      "isTopping: False\n",
      "isQuantity: False\n"
     ]
    },
    {
     "name": "stderr",
     "output_type": "stream",
     "text": [
      "writing results:  74%|███████▍  | 2957/4000 [05:01<00:52, 19.77it/s]"
     ]
    },
    {
     "name": "stdout",
     "output_type": "stream",
     "text": [
      "Word: \"settle\" -> \"settl\" not in vocab\n",
      "isPersonalPronoun: False\n",
      "isNumber: False\n",
      "isTopping: False\n",
      "isQuantity: False\n",
      "Word: \"hook\" -> \"hook\" not in vocab\n",
      "isPersonalPronoun: False\n",
      "isNumber: False\n",
      "isTopping: False\n",
      "isQuantity: False\n",
      "Word: \"sweet\" -> \"sweet\" not in vocab\n",
      "isPersonalPronoun: False\n",
      "isNumber: False\n",
      "isTopping: False\n",
      "isQuantity: False\n",
      "Word: \"sweet\" -> \"sweet\" not in vocab\n",
      "isPersonalPronoun: False\n",
      "isNumber: False\n",
      "isTopping: False\n",
      "isQuantity: False\n",
      "Word: \"leeks\" -> \"leek\" not in vocab\n",
      "isPersonalPronoun: False\n",
      "isNumber: False\n",
      "isTopping: True\n",
      "isQuantity: False\n",
      "Word: \"die\" -> \"die\" not in vocab\n",
      "isPersonalPronoun: False\n",
      "isNumber: False\n",
      "isTopping: False\n",
      "isQuantity: False\n",
      "Word: \"leeks\" -> \"leek\" not in vocab\n",
      "isPersonalPronoun: False\n",
      "isNumber: False\n",
      "isTopping: True\n",
      "isQuantity: False\n",
      "Word: \"die\" -> \"die\" not in vocab\n",
      "isPersonalPronoun: False\n",
      "isNumber: False\n",
      "isTopping: False\n",
      "isQuantity: False\n",
      "Word: \"gruyeres\" -> \"gruyer\" not in vocab\n",
      "isPersonalPronoun: False\n",
      "isNumber: False\n",
      "isTopping: False\n",
      "isQuantity: False\n"
     ]
    },
    {
     "name": "stderr",
     "output_type": "stream",
     "text": [
      "writing results:  74%|███████▍  | 2962/4000 [05:02<01:14, 13.95it/s]"
     ]
    },
    {
     "name": "stdout",
     "output_type": "stream",
     "text": [
      "Word: \"gruyeres\" -> \"gruyer\" not in vocab\n",
      "isPersonalPronoun: False\n",
      "isNumber: False\n",
      "isTopping: False\n",
      "isQuantity: False\n"
     ]
    },
    {
     "name": "stderr",
     "output_type": "stream",
     "text": [
      "writing results:  74%|███████▍  | 2964/4000 [05:02<01:31, 11.34it/s]"
     ]
    },
    {
     "name": "stdout",
     "output_type": "stream",
     "text": [
      "Word: \"settle\" -> \"settl\" not in vocab\n",
      "isPersonalPronoun: False\n",
      "isNumber: False\n",
      "isTopping: False\n",
      "isQuantity: False\n",
      "Word: \"chair\" -> \"chair\" not in vocab\n",
      "isPersonalPronoun: False\n",
      "isNumber: False\n",
      "isTopping: False\n",
      "isQuantity: False\n",
      "Word: \"latte\" -> \"latt\" not in vocab\n",
      "isPersonalPronoun: False\n",
      "isNumber: False\n",
      "isTopping: False\n",
      "isQuantity: False\n",
      "Word: \"chair\" -> \"chair\" not in vocab\n",
      "isPersonalPronoun: False\n",
      "isNumber: False\n",
      "isTopping: False\n",
      "isQuantity: False\n",
      "Word: \"latte\" -> \"latt\" not in vocab\n",
      "isPersonalPronoun: False\n",
      "isNumber: False\n",
      "isTopping: False\n",
      "isQuantity: False\n",
      "Word: \"fr\" -> \"fr\" not in vocab\n",
      "isPersonalPronoun: False\n",
      "isNumber: False\n",
      "isTopping: False\n",
      "isQuantity: False\n"
     ]
    },
    {
     "name": "stderr",
     "output_type": "stream",
     "text": [
      "writing results:  74%|███████▍  | 2972/4000 [05:02<00:56, 18.26it/s]"
     ]
    },
    {
     "name": "stdout",
     "output_type": "stream",
     "text": [
      "Word: \"yo\" -> \"yo\" not in vocab\n",
      "isPersonalPronoun: False\n",
      "isNumber: False\n",
      "isTopping: False\n",
      "isQuantity: False\n",
      "Word: \"sauted\" -> \"saut\" not in vocab\n",
      "isPersonalPronoun: False\n",
      "isNumber: False\n",
      "isTopping: False\n",
      "isQuantity: False\n",
      "Word: \"sauted\" -> \"saut\" not in vocab\n",
      "isPersonalPronoun: False\n",
      "isNumber: False\n",
      "isTopping: False\n",
      "isQuantity: False\n"
     ]
    },
    {
     "name": "stderr",
     "output_type": "stream",
     "text": [
      "writing results:  74%|███████▍  | 2975/4000 [05:03<00:50, 20.10it/s]"
     ]
    },
    {
     "name": "stdout",
     "output_type": "stream",
     "text": [
      "Word: \"arrange\" -> \"arrang\" not in vocab\n",
      "isPersonalPronoun: False\n",
      "isNumber: False\n",
      "isTopping: False\n",
      "isQuantity: False\n",
      "Word: \"mint\" -> \"mint\" not in vocab\n",
      "isPersonalPronoun: False\n",
      "isNumber: False\n",
      "isTopping: False\n",
      "isQuantity: False\n",
      "Word: \"mint\" -> \"mint\" not in vocab\n",
      "isPersonalPronoun: False\n",
      "isNumber: False\n",
      "isTopping: False\n",
      "isQuantity: False\n"
     ]
    },
    {
     "name": "stderr",
     "output_type": "stream",
     "text": [
      "writing results:  75%|███████▍  | 2981/4000 [05:03<00:55, 18.39it/s]"
     ]
    },
    {
     "name": "stdout",
     "output_type": "stream",
     "text": [
      "Word: \"prawns\" -> \"prawn\" not in vocab\n",
      "isPersonalPronoun: False\n",
      "isNumber: False\n",
      "isTopping: False\n",
      "isQuantity: False\n",
      "Word: \"prawns\" -> \"prawn\" not in vocab\n",
      "isPersonalPronoun: False\n",
      "isNumber: False\n",
      "isTopping: False\n",
      "isQuantity: False\n",
      "Word: \"settle\" -> \"settl\" not in vocab\n",
      "isPersonalPronoun: False\n",
      "isNumber: False\n",
      "isTopping: False\n",
      "isQuantity: False\n",
      "Word: \"leeks\" -> \"leek\" not in vocab\n",
      "isPersonalPronoun: False\n",
      "isNumber: False\n",
      "isTopping: True\n",
      "isQuantity: False\n"
     ]
    },
    {
     "name": "stderr",
     "output_type": "stream",
     "text": [
      "writing results:  75%|███████▍  | 2984/4000 [05:03<00:58, 17.49it/s]"
     ]
    },
    {
     "name": "stdout",
     "output_type": "stream",
     "text": [
      "Word: \"hummus\" -> \"hummu\" not in vocab\n",
      "isPersonalPronoun: False\n",
      "isNumber: False\n",
      "isTopping: False\n",
      "isQuantity: False\n",
      "Word: \"hummus\" -> \"hummu\" not in vocab\n",
      "isPersonalPronoun: False\n",
      "isNumber: False\n",
      "isTopping: False\n",
      "isQuantity: False\n",
      "Word: \"fontina\" -> \"fontina\" not in vocab\n",
      "isPersonalPronoun: False\n",
      "isNumber: False\n",
      "isTopping: False\n",
      "isQuantity: False\n",
      "Word: \"fontina\" -> \"fontina\" not in vocab\n",
      "isPersonalPronoun: False\n",
      "isNumber: False\n",
      "isTopping: False\n",
      "isQuantity: False\n"
     ]
    },
    {
     "name": "stderr",
     "output_type": "stream",
     "text": [
      "writing results:  75%|███████▍  | 2987/4000 [05:03<00:57, 17.65it/s]"
     ]
    },
    {
     "name": "stdout",
     "output_type": "stream",
     "text": [
      "Word: \"meet\" -> \"meet\" not in vocab\n",
      "isPersonalPronoun: False\n",
      "isNumber: False\n",
      "isTopping: False\n",
      "isQuantity: False\n",
      "Word: \"sports\" -> \"sport\" not in vocab\n",
      "isPersonalPronoun: False\n",
      "isNumber: False\n",
      "isTopping: False\n",
      "isQuantity: False\n",
      "Word: \"sports\" -> \"sport\" not in vocab\n",
      "isPersonalPronoun: False\n",
      "isNumber: False\n",
      "isTopping: False\n",
      "isQuantity: False\n",
      "Word: \"goo\" -> \"goo\" not in vocab\n",
      "isPersonalPronoun: False\n",
      "isNumber: False\n",
      "isTopping: False\n",
      "isQuantity: False\n",
      "Word: \"finalize\" -> \"final\" not in vocab\n",
      "isPersonalPronoun: False\n",
      "isNumber: False\n",
      "isTopping: False\n",
      "isQuantity: False\n",
      "Word: \"leaning\" -> \"lean\" not in vocab\n",
      "isPersonalPronoun: False\n",
      "isNumber: False\n",
      "isTopping: False\n",
      "isQuantity: False\n",
      "Word: \"toward\" -> \"toward\" not in vocab\n",
      "isPersonalPronoun: False\n",
      "isNumber: False\n",
      "isTopping: False\n",
      "isQuantity: False\n"
     ]
    },
    {
     "name": "stderr",
     "output_type": "stream",
     "text": [
      "writing results:  75%|███████▍  | 2995/4000 [05:04<00:52, 19.22it/s]"
     ]
    },
    {
     "name": "stdout",
     "output_type": "stream",
     "text": [
      "Word: \"orange\" -> \"orang\" not in vocab\n",
      "isPersonalPronoun: False\n",
      "isNumber: False\n",
      "isTopping: False\n",
      "isQuantity: False\n",
      "Word: \"juice\" -> \"juic\" not in vocab\n",
      "isPersonalPronoun: False\n",
      "isNumber: False\n",
      "isTopping: False\n",
      "isQuantity: False\n",
      "Word: \"orange\" -> \"orang\" not in vocab\n",
      "isPersonalPronoun: False\n",
      "isNumber: False\n",
      "isTopping: False\n",
      "isQuantity: False\n",
      "Word: \"juice\" -> \"juic\" not in vocab\n",
      "isPersonalPronoun: False\n",
      "isNumber: False\n",
      "isTopping: False\n",
      "isQuantity: False\n",
      "Word: \"sirach\" -> \"sirach\" not in vocab\n",
      "isPersonalPronoun: False\n",
      "isNumber: False\n",
      "isTopping: False\n",
      "isQuantity: False\n"
     ]
    },
    {
     "name": "stderr",
     "output_type": "stream",
     "text": [
      "writing results:  75%|███████▍  | 2997/4000 [05:04<02:04,  8.07it/s]"
     ]
    },
    {
     "name": "stdout",
     "output_type": "stream",
     "text": [
      "Word: \"sirach\" -> \"sirach\" not in vocab\n",
      "isPersonalPronoun: False\n",
      "isNumber: False\n",
      "isTopping: False\n",
      "isQuantity: False\n",
      "Word: \"sirach\" -> \"sirach\" not in vocab\n",
      "isPersonalPronoun: False\n",
      "isNumber: False\n",
      "isTopping: False\n",
      "isQuantity: False\n"
     ]
    },
    {
     "name": "stderr",
     "output_type": "stream",
     "text": [
      "writing results:  75%|███████▌  | 3017/4000 [05:05<00:54, 18.10it/s]"
     ]
    },
    {
     "name": "stdout",
     "output_type": "stream",
     "text": [
      "Word: \"sirach\" -> \"sirach\" not in vocab\n",
      "isPersonalPronoun: False\n",
      "isNumber: False\n",
      "isTopping: False\n",
      "isQuantity: False\n"
     ]
    },
    {
     "name": "stderr",
     "output_type": "stream",
     "text": [
      "writing results: 100%|██████████| 4000/4000 [05:12<00:00, 12.80it/s] \n"
     ]
    }
   ],
   "execution_count": 21
  },
  {
   "metadata": {},
   "cell_type": "code",
   "outputs": [],
   "execution_count": null,
   "source": "",
   "id": "ff130fa7f589ccab"
  }
 ],
 "metadata": {
  "kernelspec": {
   "display_name": "Python 3",
   "language": "python",
   "name": "python3"
  },
  "language_info": {
   "codemirror_mode": {
    "name": "ipython",
    "version": 3
   },
   "file_extension": ".py",
   "mimetype": "text/x-python",
   "name": "python",
   "nbconvert_exporter": "python",
   "pygments_lexer": "ipython3",
   "version": "3.12.6"
  }
 },
 "nbformat": 4,
 "nbformat_minor": 5
}
